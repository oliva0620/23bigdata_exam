{
  "nbformat": 4,
  "nbformat_minor": 0,
  "metadata": {
    "colab": {
      "provenance": [],
      "toc_visible": true,
      "include_colab_link": true
    },
    "kernelspec": {
      "name": "python3",
      "display_name": "Python 3"
    },
    "language_info": {
      "name": "python"
    }
  },
  "cells": [
    {
      "cell_type": "markdown",
      "metadata": {
        "id": "view-in-github",
        "colab_type": "text"
      },
      "source": [
        "<a href=\"https://colab.research.google.com/github/oliva0620/23bigdata_exam/blob/cs/BigData_example3_LAB.ipynb\" target=\"_parent\"><img src=\"https://colab.research.google.com/assets/colab-badge.svg\" alt=\"Open In Colab\"/></a>"
      ]
    },
    {
      "cell_type": "markdown",
      "source": [
        "## 1.기출문제 (빅분기 실기 4회)"
      ],
      "metadata": {
        "id": "UdPHfkFPGTDb"
      }
    },
    {
      "cell_type": "markdown",
      "metadata": {
        "id": "vA-FmFtl_GSO"
      },
      "source": [
        "#### 1-1. \n",
        "웹과 애플리케이션에서 데이터 객체를 '속성과 값'의 쌍의 형태로 표현하는 형식으로 자바스크립트를 토대로 개발되었으며 독립형 언어이며 텍스트로 기술하여 사람도 쉽게 읽고 작성할 수 있다."
      ]
    },
    {
      "cell_type": "code",
      "metadata": {
        "id": "dWlF2WPw-rb5"
      },
      "source": [],
      "execution_count": null,
      "outputs": []
    },
    {
      "cell_type": "markdown",
      "metadata": {
        "id": "fepF01fW_Mki"
      },
      "source": [
        "#### 1-2. \n",
        "(     )은 통계학에서 적합한 회귀식에 의한 예측치와 관찰치의 차이인 잔차들의 제곱의 합이 최소가 되도록 회귀계수를 추정하는 방법을 말한다."
      ]
    },
    {
      "cell_type": "code",
      "metadata": {
        "id": "qct50H6e_R11"
      },
      "source": [],
      "execution_count": null,
      "outputs": []
    },
    {
      "cell_type": "markdown",
      "metadata": {
        "id": "uMhxcUyi_UJQ"
      },
      "source": [
        "#### 1-3.\n",
        "정규분포가 아닌 데이터를 정규분포에 가깝게 만들거나 데이터 분산을 안정화하는 기법으로 lambda 값에 따라 정도가 달라지는데 이 값이 클수록 고차원의 함수를 사용한다."
      ]
    },
    {
      "cell_type": "code",
      "metadata": {
        "id": "WkwIMAg7_Tws"
      },
      "source": [],
      "execution_count": null,
      "outputs": []
    },
    {
      "cell_type": "markdown",
      "metadata": {
        "id": "KMHZMoow_ekq"
      },
      "source": [
        "#### 1-4.\n",
        "많은 컬럼을 가지는 다차원 데이터셋은 공통된 특성을 많이 가지고 있어서 상대적으로 적은 차원에서 학습한 모델에 비해 예측의 성능이 저하되는 등의 문제가 발생한다. 이를 방지하기 위해 일반적으로 서로 상관성이 높은 변수들을 요약하고 축소하는 주성분분석과 같은 (         ) 방법이 사용된다."
      ]
    },
    {
      "cell_type": "code",
      "metadata": {
        "id": "RoCqgsMf_m3a"
      },
      "source": [],
      "execution_count": null,
      "outputs": []
    },
    {
      "cell_type": "markdown",
      "metadata": {
        "id": "UZgAmIsP_0SU"
      },
      "source": [
        "#### 1-5.\n",
        "다음이 설명하는 것은 무엇인가? \n",
        "- (가) 대뇌피질의 시각피질을 모델화한 인공신경망의 일종이다\n",
        "- (나) 군집분석 방법의 하나이다\n",
        "- (다) 자율학습의 방법으로 훈련이 되며, 저차원의 지도를 생성한다."
      ]
    },
    {
      "cell_type": "code",
      "metadata": {
        "id": "b9lyDHBP_3_-"
      },
      "source": [],
      "execution_count": null,
      "outputs": []
    },
    {
      "cell_type": "markdown",
      "metadata": {
        "id": "PiwGuNDb_3iv"
      },
      "source": [
        "#### 1-6.\n",
        "선형회귀분석에서 아래 설명은 어떤한 가정을 확인하기 위한 것인가?\n",
        "- (가) 오차가 정규분포를 따른다\n",
        "- (나) Q-Q플롯을 그린다\n",
        "- (다) 잔차가 특정 범위 내에 안정적으로 분포되어 있다"
      ]
    },
    {
      "cell_type": "code",
      "metadata": {
        "id": "8Sh4WvGvAF4L"
      },
      "source": [],
      "execution_count": null,
      "outputs": []
    },
    {
      "cell_type": "markdown",
      "metadata": {
        "id": "9D8QN5a5AJgn"
      },
      "source": [
        "#### 1-7. \n",
        "다음은 무엇에 관한 내용인가?\n",
        "- 기계학습 분야 중 하나로 패턴인식 등을 위한 지도학습 모델임\n",
        "- 주어진 데이터 집합을 바탕으로 생로운 데이터가 어떤 범주에 속할 것인지를 판단함\n",
        "- 데이터가 사상된 공간에서 경계로 표현되며, 공간상에 존재하는 여러 경계 중 가장 큰 폭을 가진 경계를 찾음\n",
        "- 고차원 혹은 무한 차원의 공간에서 마진을 최대화하는 초평면을 찾음"
      ]
    },
    {
      "cell_type": "code",
      "metadata": {
        "id": "r3XoayrfARl5"
      },
      "source": [],
      "execution_count": null,
      "outputs": []
    },
    {
      "cell_type": "markdown",
      "metadata": {
        "id": "KfMgiog6AVPO"
      },
      "source": [
        "#### 1-8. \n",
        "인공신경망 모형에서 과적합을 방지하기 위해 사용하는 방법 중 하나로 신경망의 은닉층의 뉴런을 임의로 제거한다."
      ]
    },
    {
      "cell_type": "code",
      "metadata": {
        "id": "bLCAJnq0ATvv"
      },
      "source": [],
      "execution_count": null,
      "outputs": []
    },
    {
      "cell_type": "markdown",
      "metadata": {
        "id": "M3Fgw13HAeC0"
      },
      "source": [
        "#### 1-9.\n",
        "(     )은 정형데이터 수집 기술로 관계형 데이터베이스(RDB)와 분산 파일 시스템(HDFS) 간의 데이터 변환을 위한 도구로 구조화된 데이터 저장소 간에 대량 데이터를 효율적으로 전송하도록 설계되었다."
      ]
    },
    {
      "cell_type": "code",
      "metadata": {
        "id": "6UL_YB4iAdkQ"
      },
      "source": [],
      "execution_count": null,
      "outputs": []
    },
    {
      "cell_type": "markdown",
      "metadata": {
        "id": "nQkH0fq6jBlK"
      },
      "source": [
        "#### 1-10.\n",
        "이진분류에서 Recall=0.8 이고 Precision = 0.6 일 때 f1-score를 계산하고 소수점 셋째 자리까지 나타내어라"
      ]
    },
    {
      "cell_type": "code",
      "metadata": {
        "id": "HHYHMUm_Pjw4"
      },
      "source": [],
      "execution_count": null,
      "outputs": []
    },
    {
      "cell_type": "markdown",
      "source": [
        "## 2.기출문제 (빅분기 실기 4회)"
      ],
      "metadata": {
        "id": "9wr6snMrGMHo"
      }
    },
    {
      "cell_type": "code",
      "source": [
        "# 데이터 다운로드"
      ],
      "metadata": {
        "id": "dvyzPcRnDb3w"
      },
      "execution_count": null,
      "outputs": []
    },
    {
      "cell_type": "code",
      "source": [
        "!git clone https://github.com/Soyoung-Yoon/bigdata"
      ],
      "metadata": {
        "id": "SqK7UuUrWqfP"
      },
      "execution_count": null,
      "outputs": []
    },
    {
      "cell_type": "markdown",
      "metadata": {
        "id": "XmsDHqDFBzM3"
      },
      "source": [
        "#### 2-1. 신상 데이터\n",
        "age 컬럼에 대해 아래의 과정을 수행하고 (다) 단계의 결과값을 출력하여라.\n",
        "- (가) 제 1사분위수와 제 3사분위수를 구하기\n",
        "- (나) 두 값의 차이 절댓값 구하기\n",
        "- (다) 그 값의 소수점 버리기\n"
      ]
    },
    {
      "cell_type": "code",
      "source": [
        "#'https://raw.githubusercontent.com/Soyoung-Yoon/bigdata/main/basic1_data04.csv'  파일 사용"
      ],
      "metadata": {
        "id": "ttr2QTVbvRMC"
      },
      "execution_count": null,
      "outputs": []
    },
    {
      "cell_type": "code",
      "source": [],
      "metadata": {
        "id": "UQvNfXEgKp6e"
      },
      "execution_count": null,
      "outputs": []
    },
    {
      "cell_type": "markdown",
      "metadata": {
        "id": "Uv_3WUzRCFV0"
      },
      "source": [
        "#### 2-2. Facebook 데이터\n",
        "\n",
        "Facebook 데이터셋을 불러와 (loves반응 + wows반응)/(reactions반응) 비율이 0.4보다 크고 0.5보다 작으면서, type이 'video'인 데이터의 갯수를 구하여라\n",
        "- 'https://raw.githubusercontent.com/Soyoung-Yoon/bigdata/main/fb_data04.csv' 파일 사용"
      ]
    },
    {
      "cell_type": "code",
      "source": [],
      "metadata": {
        "id": "FLkE8PWuwV-I"
      },
      "execution_count": null,
      "outputs": []
    },
    {
      "cell_type": "markdown",
      "metadata": {
        "id": "s0Iohr2QC6As"
      },
      "source": [
        "#### 2-3. 넷플릭스 데이터 \n",
        "netflix_subset 데이터셋에서 date_added가 2018년 1월이면서 country가 United Kingdom 단독 제작인 데이터의 개수를 구하여라\n",
        "- 'https://raw.githubusercontent.com/Soyoung-Yoon/bigdata/main/nf_data04.csv' 파일 사용"
      ]
    },
    {
      "cell_type": "code",
      "metadata": {
        "id": "II4-4rISf1Ys"
      },
      "source": [],
      "execution_count": null,
      "outputs": []
    },
    {
      "cell_type": "markdown",
      "metadata": {
        "id": "SxegKonKDHPJ"
      },
      "source": [
        "## 3.기출문제 (빅분기 실기 4회)\n",
        "자동차 시장 세분화\n",
        "- 자동차 회사는 새로운 전략을 수립하기 위해 4개의 시장으로 세분화했습니다.\n",
        "- 기존 고객 분류 자료를 바탕으로 신규 고객이 어떤 분류에 속할지 예측해주세요!\n",
        "- 예측할 값(y): \"Segmentation\" (1,2,3,4)\n",
        "- 평가: Macro f1-score\n",
        "- 제출형식\n",
        "\n",
        "        ID,Segmentation\n",
        "        458989,1\n",
        "        458994,2\n",
        "        459000,3\n",
        "        459003,4"
      ]
    },
    {
      "cell_type": "markdown",
      "source": [
        "- 다음의 데이터 파일 준비를 실행해서 x_train.csv, y_train.csv, x_test.csv 파일을 준비합니다.\n"
      ],
      "metadata": {
        "id": "XegtsURWg8XJ"
      }
    },
    {
      "cell_type": "markdown",
      "metadata": {
        "id": "NCqn_6zOtyXi"
      },
      "source": [
        "### 3-01.데이터 불러오기, 탐색"
      ]
    },
    {
      "cell_type": "code",
      "source": [
        "# 데이터 파일 준비\n",
        "# 그냥 실행해서 사용 파일을 생성하도록 합니다.\n",
        "import pandas as pd\n",
        "\n",
        "train = pd.read_csv('https://raw.githubusercontent.com/Soyoung-Yoon/bigdata/main/train_04.csv')\n",
        "test = pd.read_csv('https://raw.githubusercontent.com/Soyoung-Yoon/bigdata/main/test_04.csv')\n",
        "train.head(2)\n",
        "X_train = train.iloc[:, :-1]\n",
        "Y_train = train[['ID', 'Segmentation']]\n",
        "X_train.to_csv('X_train.csv', index=False)\n",
        "Y_train.to_csv('Y_train.csv', index=False)\n",
        "test.to_csv('X_test.csv', index=False)\n",
        "print('파일을 준비했습니다!  X_train.csv, Y_train.csv, X_test.csv !')"
      ],
      "metadata": {
        "id": "Kbwq4Xf2WiZf",
        "colab": {
          "base_uri": "https://localhost:8080/"
        },
        "outputId": "ba7e2994-c717-4077-d941-8f58166d3202"
      },
      "execution_count": null,
      "outputs": [
        {
          "output_type": "stream",
          "name": "stdout",
          "text": [
            "파일을 준비했습니다!  X_train.csv, Y_train.csv, X_test.csv !\n"
          ]
        }
      ]
    },
    {
      "cell_type": "code",
      "metadata": {
        "id": "ljn7qAfH8uw2"
      },
      "source": [
        "# [0] 사용 라이브러리 import\n",
        "import pandas as pd\n",
        "\n",
        "# 데이타가 많은경우 모두 출력 안되고 ... 으로 생략해서 출력됨.\n",
        "pd.set_option('display.max_rows',500)    #출력할 max row를 지정\n",
        "pd.set_option('display.max_columns',20)  #출력할 max columns를 지정\n",
        "#출력 format 지정 - 소수점아래 2자리까지\n",
        "pd.set_option('display.float_format', '{:.2f}'.format)"
      ],
      "execution_count": null,
      "outputs": []
    },
    {
      "cell_type": "code",
      "source": [
        "# [1] x_train.csv, y_train.csv, x_test.csv 읽어오기\n",
        "X = pd.read_csv('X_train.csv')\n",
        "Y = pd.read_csv('Y_train.csv')\n",
        "X_submission = pd.read_csv('X_test.csv')\n",
        "print(X.shape, Y.shape, X_submission.shape)"
      ],
      "metadata": {
        "id": "mNl3dB0VmMxo",
        "colab": {
          "base_uri": "https://localhost:8080/"
        },
        "outputId": "9e5513e8-1c43-4b35-b49b-b99d1615696e"
      },
      "execution_count": null,
      "outputs": [
        {
          "output_type": "stream",
          "name": "stdout",
          "text": [
            "(6665, 10) (6665, 2) (2154, 10)\n"
          ]
        }
      ]
    },
    {
      "cell_type": "code",
      "source": [
        "\n",
        "\n",
        "\n"
      ],
      "metadata": {
        "id": "4vXO5PnAEGWL"
      },
      "execution_count": null,
      "outputs": []
    }
  ]
}