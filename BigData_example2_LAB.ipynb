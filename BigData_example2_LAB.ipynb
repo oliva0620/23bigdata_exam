{
  "nbformat": 4,
  "nbformat_minor": 0,
  "metadata": {
    "colab": {
      "provenance": [],
      "toc_visible": true,
      "include_colab_link": true
    },
    "kernelspec": {
      "name": "python3",
      "display_name": "Python 3"
    },
    "language_info": {
      "name": "python"
    }
  },
  "cells": [
    {
      "cell_type": "markdown",
      "metadata": {
        "id": "view-in-github",
        "colab_type": "text"
      },
      "source": [
        "<a href=\"https://colab.research.google.com/github/oliva0620/23bigdata_exam/blob/cs/BigData_example2_LAB.ipynb\" target=\"_parent\"><img src=\"https://colab.research.google.com/assets/colab-badge.svg\" alt=\"Open In Colab\"/></a>"
      ]
    },
    {
      "cell_type": "markdown",
      "source": [
        "## 빅분기 3회 실기 기출"
      ],
      "metadata": {
        "id": "sDiC6FZZpgoY"
      }
    },
    {
      "cell_type": "markdown",
      "source": [
        "### 1-1\n",
        "연관성 분석에서 규칙이 우연에 의해 발생한 것인지 판단하기 위해 연관성의 정도를 측정하는 척도는?"
      ],
      "metadata": {
        "id": "v9339Cyrqo7I"
      }
    },
    {
      "cell_type": "code",
      "source": [],
      "metadata": {
        "id": "ebJEYoReqxWi"
      },
      "execution_count": null,
      "outputs": []
    },
    {
      "cell_type": "markdown",
      "source": [
        "### 1-2.\n",
        "분포를 모를 때, 데이터를 0~1 사이로 변환하는 것은?"
      ],
      "metadata": {
        "id": "sF_ulrihqy2K"
      }
    },
    {
      "cell_type": "code",
      "source": [],
      "metadata": {
        "id": "TG8oyKMjqyjT"
      },
      "execution_count": null,
      "outputs": []
    },
    {
      "cell_type": "markdown",
      "source": [
        "### 1-3.\n",
        "순서형 말고 예를 들어 국가별 코드 값을 가진 이런한 특징을 가진 것을 (    ) 데이터 라고 한다 \n"
      ],
      "metadata": {
        "id": "Oewel8PYq842"
      }
    },
    {
      "cell_type": "code",
      "source": [],
      "metadata": {
        "id": "5XYZIKOXrKV2"
      },
      "execution_count": null,
      "outputs": []
    },
    {
      "cell_type": "markdown",
      "source": [
        "### 1-4.\n",
        "마지막 은닉층 두개(0.2, 0.3), 가중치 두개(0.3,-0.1), 바이어스bias(=상수항의 가중치) 0.1 들의 값은 이러하다. 마지막 출력에 입력되는 선형합값은?"
      ],
      "metadata": {
        "id": "BBSKl41HrSkA"
      }
    },
    {
      "cell_type": "code",
      "source": [],
      "metadata": {
        "id": "x0PKioY-rWns"
      },
      "execution_count": null,
      "outputs": []
    },
    {
      "cell_type": "markdown",
      "source": [
        "### 1-5\n",
        "회귀, 분류 둘다 사용가능하며 지도학습 알고리즘으로 구분하는 경계와 데이터가 멀수록(최대일경우) 가장 좋은 모델로 선정하는 알고리즘은 무엇인가?"
      ],
      "metadata": {
        "id": "XrEEzXfFrcyv"
      }
    },
    {
      "cell_type": "code",
      "source": [],
      "metadata": {
        "id": "2z0kG-OSrfxi"
      },
      "execution_count": null,
      "outputs": []
    },
    {
      "cell_type": "markdown",
      "source": [
        "### 1-6\n",
        "여러 개의 동일 또는 상이한 여러 가지 모형의 예측/분류 결과를 종합하여 최종 결과를 정하는 방식의 머신러닝 알고리즘을 무엇이라고 하는가?\n",
        "\n",
        "\n"
      ],
      "metadata": {
        "id": "bWD-OBsvu2W8"
      }
    },
    {
      "cell_type": "code",
      "source": [],
      "metadata": {
        "id": "aRKEdvcZ4CqP"
      },
      "execution_count": null,
      "outputs": []
    },
    {
      "cell_type": "markdown",
      "source": [
        "### 1-7\n",
        "다음은 어떤 군집화 연결법에 관한 설명인가? \n",
        "- 두 군집의 중심 거리로 결합, 새로운 군집의 평균은 가중평균으로 구하는 연결법"
      ],
      "metadata": {
        "id": "ZoGO5oimu6fc"
      }
    },
    {
      "cell_type": "code",
      "source": [],
      "metadata": {
        "id": "gm7rBmjY39l4"
      },
      "execution_count": null,
      "outputs": []
    },
    {
      "cell_type": "markdown",
      "source": [
        "### 1-8\n",
        "군집 분석 진행 시 데이터의 `(________)`를 고려하는 것이 중요하다"
      ],
      "metadata": {
        "id": "mB7JA4T5vA0g"
      }
    },
    {
      "cell_type": "code",
      "source": [],
      "metadata": {
        "id": "42X5qbFevHDz"
      },
      "execution_count": null,
      "outputs": []
    },
    {
      "cell_type": "markdown",
      "source": [
        "### 1-9\n",
        "A 학교의 영어점수 60점과 B학교의 영어점수 60점은 같은 60점이지만 학교가 다르기 때문에 같은 점수라고 볼 수 없다. 이는 데이터의 (    )이 다르기 때문이다."
      ],
      "metadata": {
        "id": "cECrE_JOvKIY"
      }
    },
    {
      "cell_type": "code",
      "source": [],
      "metadata": {
        "id": "eToHMLZnvTvP"
      },
      "execution_count": null,
      "outputs": []
    },
    {
      "cell_type": "markdown",
      "source": [
        "### 1-10\n",
        "그룹화를 의미하는 데이터 변환을 뭐라하는가?\n",
        "(예시 : 일별 매출건수를 그룹화하여 월별 매출건수, 분기별 매출건수로 변환)"
      ],
      "metadata": {
        "id": "DWbq-blsvZcp"
      }
    },
    {
      "cell_type": "code",
      "source": [],
      "metadata": {
        "id": "yHpb60LWvdNW"
      },
      "execution_count": null,
      "outputs": []
    },
    {
      "cell_type": "markdown",
      "source": [
        "## 2.작업형1"
      ],
      "metadata": {
        "id": "U4yCvd7_4HQQ"
      }
    },
    {
      "cell_type": "code",
      "source": [
        "!git clone https://github.com/Soyoung-Yoon/bigdata"
      ],
      "metadata": {
        "id": "l_uAL496Wt1f",
        "colab": {
          "base_uri": "https://localhost:8080/"
        },
        "outputId": "fef7c5b5-000b-4e45-8668-2857d8f4f3b7"
      },
      "execution_count": null,
      "outputs": [
        {
          "output_type": "stream",
          "name": "stdout",
          "text": [
            "Cloning into 'bigdata'...\n",
            "remote: Enumerating objects: 41, done.\u001b[K\n",
            "remote: Counting objects: 100% (41/41), done.\u001b[K\n",
            "remote: Compressing objects: 100% (41/41), done.\u001b[K\n",
            "remote: Total 41 (delta 11), reused 0 (delta 0), pack-reused 0\u001b[K\n",
            "Unpacking objects: 100% (41/41), done.\n"
          ]
        }
      ]
    },
    {
      "cell_type": "code",
      "source": [
        "'https://raw.githubusercontent.com/Soyoung-Yoon/bigdata/main/'"
      ],
      "metadata": {
        "id": "LL4RoM9i6HeL"
      },
      "execution_count": null,
      "outputs": []
    },
    {
      "cell_type": "markdown",
      "source": [
        "### 2-1.캘리포니어 집값 데이터\n",
        "결측치를 포함하는 모든 행을 제거한 후, 처음부터 순서대로 70%를 추출하여, 'housing_median_age' 컬럼의 사분위수 Q1의 값을 구하시오\n",
        "- 주의사항 정답 제출시, 정수형으로 제출해야 함\n",
        "- \"https://raw.githubusercontent.com/Soyoung-Yoon/bigdata/main/housing03.csv\" 파일 사용"
      ],
      "metadata": {
        "id": "FbBF6ZmSp4Ge"
      }
    },
    {
      "cell_type": "code",
      "source": [
        "# 한 문자형 컬럼에 빈칸 ''인 데이터 1건이 있어서\n",
        "# 빈칸을 결측으로 처리시 빈칸 제거전 242건에서 빈칸 제거후 243건의 행이 제거됨\n",
        "# 하지만 제거하지 않고 1분위수를 구하더라도 정답은 같음"
      ],
      "metadata": {
        "id": "iWgEGO71cMSR"
      },
      "execution_count": null,
      "outputs": []
    },
    {
      "cell_type": "code",
      "execution_count": null,
      "metadata": {
        "id": "_x39Rr17pda0"
      },
      "outputs": [],
      "source": []
    },
    {
      "cell_type": "markdown",
      "source": [
        "### 2-2.연도별 나라별 유병률 데이터\n",
        "2000년 데이터에 대해 국가 전체 유병률 평균 값보다 큰 값을 가진 국가 개수는?\n",
        "(year 변수와 국가들의 결핵 유병률 값을 가진 데이터셋이 주어짐)\n",
        "\n",
        "        year  Afghanistan  Albania  Algeria  Andorra  Angola  Antigua & Barbuda  \\\n",
        "        0  1999            0     89.0     25.0    245.0   217.0              102.0   \n",
        "        1  2000            0    132.0      0.0    138.0    57.0              128.0   \n",
        "        2  2001            0     54.0     14.0    312.0    45.0               45.0   \n",
        "        3  2002            0      4.9      0.7     12.4     5.9                4.9 \n",
        "\n",
        "- 'https://raw.githubusercontent.com/Soyoung-Yoon/bigdata/main/worlddata.csv' 파일 사용"
      ],
      "metadata": {
        "id": "dvODvI5fqIUl"
      }
    },
    {
      "cell_type": "code",
      "source": [],
      "metadata": {
        "id": "DyKUpzd2qSx8"
      },
      "execution_count": null,
      "outputs": []
    },
    {
      "cell_type": "markdown",
      "source": [
        "### 2-3.타이타닉 데이터\n",
        "- 각 열의 결측치 비율을 확인 한 후, 결측치의 비율이 가장 높은 변수명을 구하시오\n",
        "- \"https://raw.githubusercontent.com/Soyoung-Yoon/bigdata/main/titanic_train03.csv\" 파일 사용\n",
        "- 원본 데이터 : https://www.kaggle.com/c/2019-1st-ml-month-with-kakr/overview"
      ],
      "metadata": {
        "id": "LP2f9AnEqT6V"
      }
    },
    {
      "cell_type": "code",
      "source": [],
      "metadata": {
        "id": "fSWeR7GcwMNm"
      },
      "execution_count": null,
      "outputs": []
    },
    {
      "cell_type": "markdown",
      "source": [
        "## 3.작업형2\n",
        "travel insurance 데이터 - 보험가입여부 예측\n",
        "- travel insurance 데이터를 활용해서 보험가입여부를 예측하라. \n",
        "- 데이터 : https://www.kaggle.com/agileteam/traval-insurance-exam \n",
        "80점 나왔을 때 30점?!\n",
        "- X_train.csv, y_train.csv\n",
        "- X_test.csv (예측해서 제출하는 것)\n",
        "- 평가: roc-auc 평가지표"
      ],
      "metadata": {
        "id": "_MC0WQLWsd3F"
      }
    },
    {
      "cell_type": "code",
      "source": [
        "# [0] 사용 라이브러리 import\n",
        "# 파일 생성을 위해 실행하여 주세요!  시험에서는 이런 것은 없습니다.\n",
        "import pandas as pd\n",
        "\n",
        "# 데이타가 많은경우 모두 출력 안되고 ... 으로 생략해서 출력됨.\n",
        "pd.set_option('display.max_rows',500)    #출력할 max row를 지정\n",
        "pd.set_option('display.max_columns',20)  #출력할 max columns를 지정\n",
        "#출력 format 지정 - 소수점아래 4자리까지\n",
        "pd.set_option('display.float_format', '{:.4f}'.format)\n",
        "\n",
        "train = pd.read_csv('https://raw.githubusercontent.com/Soyoung-Yoon/bigdata/main/travel_insurance_train03.csv')\n",
        "test = pd.read_csv('https://raw.githubusercontent.com/Soyoung-Yoon/bigdata/main/travel_insurance_test03.csv')\n",
        "Xtrain = train.drop(columns='TravelInsurance')\n",
        "Xtrain.to_csv('X_train.csv', index=False)\n",
        "train[['Unnamed: 0', 'TravelInsurance']].to_csv('y_train.csv', index=False)\n",
        "test.to_csv('X_test.csv', index=False)"
      ],
      "metadata": {
        "id": "E3WCDW1AaEpm"
      },
      "execution_count": null,
      "outputs": []
    },
    {
      "cell_type": "code",
      "source": [
        "# 직접 코드를 작성해 보세요 ^_^\n",
        "# 셀을 추가하지 말고 작성해 보시기 바랍니다.\n",
        "\n",
        "\n",
        "\n"
      ],
      "metadata": {
        "id": "aY9hecvAaYQA"
      },
      "execution_count": null,
      "outputs": []
    }
  ]
}