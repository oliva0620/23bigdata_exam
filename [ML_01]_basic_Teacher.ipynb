{
  "nbformat": 4,
  "nbformat_minor": 0,
  "metadata": {
    "colab": {
      "provenance": [],
      "include_colab_link": true
    },
    "kernelspec": {
      "name": "python3",
      "display_name": "Python 3"
    },
    "language_info": {
      "name": "python"
    }
  },
  "cells": [
    {
      "cell_type": "markdown",
      "metadata": {
        "id": "view-in-github",
        "colab_type": "text"
      },
      "source": [
        "<a href=\"https://colab.research.google.com/github/oliva0620/23bigdata_exam/blob/cs/%5BML_01%5D_basic_Teacher.ipynb\" target=\"_parent\"><img src=\"https://colab.research.google.com/assets/colab-badge.svg\" alt=\"Open In Colab\"/></a>"
      ]
    },
    {
      "cell_type": "markdown",
      "metadata": {
        "id": "uPDW8UUJn_91"
      },
      "source": [
        "## 0.Machine Learning 과정"
      ]
    },
    {
      "cell_type": "markdown",
      "metadata": {
        "id": "JiWLpq0CM4Sy"
      },
      "source": [
        "![image.png](data:image/png;base64,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)"
      ]
    },
    {
      "cell_type": "markdown",
      "metadata": {
        "id": "npAU93SSNAk_"
      },
      "source": [
        "## 1.Machine Learning - 전처리"
      ]
    },
    {
      "cell_type": "markdown",
      "metadata": {
        "id": "NZYBtKT4oSmM"
      },
      "source": [
        "### 1-1.문제지와 실제 dtype차이 확인\n",
        "**문제지 요구사항에 제시된 column의 dtype이 file에서 읽어온 데이터와 동일한지 확인하여 문제지에 제시된 것에 맞도록 변환**\n",
        " - 숫자가 아닌 문자가 포함되어 있는 경우 object로 표기되며 이때는 해당 문자를 찾아 없애야 함\n",
        "    - 일단 astype('int'), astype('float') 등을 사용하여 변환해 보고,   무엇 때문에 변환이 안되는지 오류 메시지를 확인함\n",
        "    - 오류메시지에 따라 불필요한 문자를 제거함 (Series.replace(regex=True) 또는 Series.str.replace() 사용)\n",
        "    - astype()을 사용하여 숫자형 데이터로 변경함\n",
        "\n",
        "- 날짜/시간 데이터의 경우 pd.to_datetime(Series, format='%Y%m%d') 를 사용하면 문제없이 변환 가능\n",
        "    - 일반적인 날짜/시간 형식은 astype('datetime64')로 변경 가능\n",
        "\n",
        "\n"
      ]
    },
    {
      "cell_type": "code",
      "metadata": {
        "colab": {
          "base_uri": "https://localhost:8080/"
        },
        "id": "Zsp7gYkwQvAC",
        "outputId": "3bbd9164-6ad9-4ea3-ef0f-2d1e9ca3768f"
      },
      "source": [
        "import pandas as pd\n",
        "\n",
        "data = {'point': ['1', '*2', '3', '*4', '1'],\n",
        "        'date': ['2021-01-02', '2021-01-03', '2021-01-04', '2021-01-05', '2021-01-06'],\n",
        "        'gender': ['F', 'M', 'M', 'F', 'M']}\n",
        "df = pd.DataFrame(data)\n",
        "df.info()"
      ],
      "execution_count": null,
      "outputs": [
        {
          "output_type": "stream",
          "name": "stdout",
          "text": [
            "<class 'pandas.core.frame.DataFrame'>\n",
            "RangeIndex: 5 entries, 0 to 4\n",
            "Data columns (total 3 columns):\n",
            " #   Column  Non-Null Count  Dtype \n",
            "---  ------  --------------  ----- \n",
            " 0   point   5 non-null      object\n",
            " 1   date    5 non-null      object\n",
            " 2   gender  5 non-null      object\n",
            "dtypes: object(3)\n",
            "memory usage: 248.0+ bytes\n"
          ]
        }
      ]
    },
    {
      "cell_type": "code",
      "metadata": {
        "id": "0pFAZ2Xil2hM",
        "colab": {
          "base_uri": "https://localhost:8080/"
        },
        "outputId": "24fa71b3-78f9-4e6c-e1f7-f85034f29ad1"
      },
      "source": [
        "#df['point'].replace('\\*', '', regex=True).astype('int64')\n",
        "#df['date'].astype('datetime64')\n",
        "df['point_num'] = df['point'].str.replace('*', '').astype('int64')\n",
        "df['datetime'] = pd.to_datetime(df['date'], format='%Y-%m-%d')\n",
        "df.info()"
      ],
      "execution_count": null,
      "outputs": [
        {
          "output_type": "stream",
          "name": "stdout",
          "text": [
            "<class 'pandas.core.frame.DataFrame'>\n",
            "RangeIndex: 5 entries, 0 to 4\n",
            "Data columns (total 5 columns):\n",
            " #   Column     Non-Null Count  Dtype         \n",
            "---  ------     --------------  -----         \n",
            " 0   point      5 non-null      object        \n",
            " 1   date       5 non-null      object        \n",
            " 2   gender     5 non-null      object        \n",
            " 3   point_num  5 non-null      int64         \n",
            " 4   datetime   5 non-null      datetime64[ns]\n",
            "dtypes: datetime64[ns](1), int64(1), object(3)\n",
            "memory usage: 328.0+ bytes\n"
          ]
        }
      ]
    },
    {
      "cell_type": "markdown",
      "metadata": {
        "id": "zOhknFsKpdZg"
      },
      "source": [
        "### 1-2.모든 column의 dtype 확인\n",
        "**Machine Learning을 위한 column의 dtype은 int 또는 float 이어야 한다**\n",
        "- 범주형 데이터는 LabelEncoding 또는 OneHotEncoding을 사용하여 수치형으로 변경\n",
        "- 날짜/시간 데이터는 dt를 사용하여 year, month, day, hour, weekdays, quarter .. 등 정보를 분할하여 Feature로 사용함\n",
        "   - 분할 정보의 nunique() 가 1이거나 var() 가 0 값인 것은 의미 없으므로 Feature로 사용하지 않음"
      ]
    },
    {
      "cell_type": "code",
      "metadata": {
        "id": "v27vLgsgQuGI",
        "colab": {
          "base_uri": "https://localhost:8080/"
        },
        "outputId": "bf306824-4675-46a3-bc65-4645a66a0986"
      },
      "source": [
        "df['point_num'] = df['point'].str.replace('*', '').astype('int64')\n",
        "df['datetime'] = pd.to_datetime(df['date'], format='%Y-%m-%d')\n",
        "#print(df['datetime'].dt.year.var())\n",
        "df['day'] = df['datetime'].dt.day\n",
        "df['gender_LE'] = df['gender'].replace({'F':0, 'M':1})\n",
        "df2 = df[['point_num', 'day', 'gender_LE']]\n",
        "df2.info()"
      ],
      "execution_count": null,
      "outputs": [
        {
          "output_type": "stream",
          "name": "stdout",
          "text": [
            "<class 'pandas.core.frame.DataFrame'>\n",
            "RangeIndex: 5 entries, 0 to 4\n",
            "Data columns (total 3 columns):\n",
            " #   Column     Non-Null Count  Dtype\n",
            "---  ------     --------------  -----\n",
            " 0   point_num  5 non-null      int64\n",
            " 1   day        5 non-null      int64\n",
            " 2   gender_LE  5 non-null      int64\n",
            "dtypes: int64(3)\n",
            "memory usage: 248.0 bytes\n"
          ]
        }
      ]
    },
    {
      "cell_type": "markdown",
      "metadata": {
        "id": "pW3Rg8kLqT3w"
      },
      "source": [
        "### 1-3.train, test 데이터\n",
        "**train, test 데이터는 세 개의 파일로 나뉘어 제공됨**\n",
        "- train 데이터 : 학습용 데이터, X_train.csv, Y_train.csv\n",
        "    - 학습 모델을 만들 때 사용\n",
        "    - 성능 예측을 위해 2개 나누어 사용 또는 GridSearchCV 사용\n",
        "- test 데이터 : 평가용 데이터, X_test.csv\n",
        "    - 제출 용도의 파일 작성에 사용\n",
        "    - train 데이터로 생성된 학습 모델을 사용하여 평가용 파일 작성\n",
        "- train, test 데이터의 X(입력) Feature\n",
        "    - 동일한 가공 처리가 되어야 함\n",
        "    - Feature 순서, 개수가 동일해야 함\n",
        "    - 2차원의 형태이어야 함\n",
        "- train 데이터의 Y(출력, target)은 한 개의 column으로 1차원 형태이어야 함\n",
        "- train, test 데이터가 서로 섞여서는 안됨\n",
        "- test 데이터는 그 행의 순서나 개수가 변경되어서는 안됨 (shuffle, drop 금지)\n"
      ]
    },
    {
      "cell_type": "code",
      "metadata": {
        "id": "yAOcFaIIr-Np"
      },
      "source": [],
      "execution_count": null,
      "outputs": []
    },
    {
      "cell_type": "markdown",
      "metadata": {
        "id": "yHQhBmPT4wIR"
      },
      "source": [
        "### 1-4.결측치(NA Value)\n",
        "- Machine Learning에 사용되는 데이터는 결측치를 가지고 있으면 안됨\n",
        "- train, test 데이터를 보고 양쪽에 결측치가 있는 경우 채우기를 실행하고,\n",
        "- train 데이터만 결측치가 있는 경우 삭제/채우기 등 원하는 처리를 할 수 있음"
      ]
    },
    {
      "cell_type": "code",
      "metadata": {
        "id": "PrRIfPpM4qmr"
      },
      "source": [],
      "execution_count": null,
      "outputs": []
    },
    {
      "cell_type": "markdown",
      "metadata": {
        "id": "6VN9FgMD5NHS"
      },
      "source": [
        "### 1-5.평가 결과 제출\n",
        "- 원하는 의도를 잘 파악하여 파일에 쓰기 하여 제출해야 함\n",
        "- 다양한 평가 도구를 사용할 수 있어야 하며, 결과를 파일에 저장할 수 있어야 함\n"
      ]
    },
    {
      "cell_type": "markdown",
      "metadata": {
        "id": "TrdmrdAj48AD"
      },
      "source": [
        "### 1-6.도움말 사용법\n",
        "- sklearn에서 사용할 도구의 import 방법을 암기\n",
        "- dir(), help() 등의 기능을 잘 사용하도록 함\n"
      ]
    },
    {
      "cell_type": "code",
      "metadata": {
        "id": "rBQkLC2VBcxU"
      },
      "source": [],
      "execution_count": null,
      "outputs": []
    },
    {
      "cell_type": "markdown",
      "metadata": {
        "id": "U1fsmXT1_8mP"
      },
      "source": [
        "## 2.Mini Project - 자녀의 키 예측\n",
        "- 부모의 키를 사용하여 자녀의 키를 예측하는 회귀 모델 작성"
      ]
    },
    {
      "cell_type": "markdown",
      "metadata": {
        "id": "mB1p8YJuNsja"
      },
      "source": [
        "### 2-1.아들키 예측"
      ]
    },
    {
      "cell_type": "code",
      "metadata": {
        "id": "eDRmpQz1_5AO"
      },
      "source": [
        "import pandas as pd\n",
        "\n",
        "data_train = {'아빠' : [175, 180, 172, 174, 178, 168, 173, 177],\n",
        "              '엄마' : [160, 158, 155, 161, 163, 160, 168, 167],\n",
        "              '아들' : [178, 182, 175, 180, 183, 174, 179, 183],\n",
        "              '딸' : [163, 168, 157, 164, 167, 158, 169, 169]}\n",
        "df = pd.DataFrame(data_train)\n",
        "df.index.name = 'id'\n",
        "df[['아빠', '엄마']].to_csv('X_train.csv')\n",
        "df[['아들']].to_csv('Y1_train.csv')\n",
        "df[['딸']].to_csv('Y2_train.csv')\n",
        "\n",
        "data_test = {'아빠' : [174, 179, 180],\n",
        "             '엄마' : [160, 160, 160]}\n",
        "df2 = pd.DataFrame(data_test)\n",
        "df2.index.name = 'id'   \n",
        "df2.to_csv('X_test.csv')     "
      ],
      "execution_count": null,
      "outputs": []
    },
    {
      "cell_type": "code",
      "metadata": {
        "id": "r8DKjEKKGMDK"
      },
      "source": [
        "# [0] train, test 파일 가져오기\n",
        "X_train = pd.read_csv('X_train.csv')\n",
        "Y1_train = pd.read_csv('Y1_train.csv')\n",
        "X_test = pd.read_csv('X_test.csv')"
      ],
      "execution_count": null,
      "outputs": []
    },
    {
      "cell_type": "code",
      "metadata": {
        "colab": {
          "base_uri": "https://localhost:8080/"
        },
        "id": "Dp_2AmZLnC3p",
        "outputId": "c6a9b277-2a8d-46cd-baf3-3eb6a6663348"
      },
      "source": [
        "print(X_test)"
      ],
      "execution_count": null,
      "outputs": [
        {
          "output_type": "stream",
          "name": "stdout",
          "text": [
            "   id   아빠   엄마\n",
            "0   0  174  160\n",
            "1   1  179  160\n",
            "2   2  180  160\n"
          ]
        }
      ]
    },
    {
      "cell_type": "markdown",
      "metadata": {
        "id": "n2tUC4n-IxVc"
      },
      "source": [
        "- DataFrame.corr() : 각 Feature 간 상관관계를 확인할 수 있는 DataFrame을 생성함\n",
        "- -1 ~ 1의 사이 값을 갖으며, 0인 경우 상관관계가 없는 것임"
      ]
    },
    {
      "cell_type": "code",
      "metadata": {
        "id": "ihqW9v8BE7lc",
        "colab": {
          "base_uri": "https://localhost:8080/"
        },
        "outputId": "6c359d89-9a68-4243-da86-c7b9fe5c1b3f"
      },
      "source": [
        "# [1] 아빠, 엄마, 아들 키의 상관관계\n",
        "df = X_train.copy()\n",
        "df['아들'] = Y1_train['아들']\n",
        "print(df.corr())"
      ],
      "execution_count": null,
      "outputs": [
        {
          "output_type": "stream",
          "name": "stdout",
          "text": [
            "          id        아빠        엄마        아들\n",
            "id  1.000000 -0.223880  0.773127  0.168862\n",
            "아빠 -0.223880  1.000000  0.133983  0.895192\n",
            "엄마  0.773127  0.133983  1.000000  0.491595\n",
            "아들  0.168862  0.895192  0.491595  1.000000\n"
          ]
        }
      ]
    },
    {
      "cell_type": "code",
      "metadata": {
        "colab": {
          "base_uri": "https://localhost:8080/",
          "height": 175
        },
        "id": "EznAB4NFgtnm",
        "outputId": "471fa11f-72ab-4f80-ded6-927fbc10bec2"
      },
      "source": [
        "df.corr()"
      ],
      "execution_count": null,
      "outputs": [
        {
          "output_type": "execute_result",
          "data": {
            "text/html": [
              "<div>\n",
              "<style scoped>\n",
              "    .dataframe tbody tr th:only-of-type {\n",
              "        vertical-align: middle;\n",
              "    }\n",
              "\n",
              "    .dataframe tbody tr th {\n",
              "        vertical-align: top;\n",
              "    }\n",
              "\n",
              "    .dataframe thead th {\n",
              "        text-align: right;\n",
              "    }\n",
              "</style>\n",
              "<table border=\"1\" class=\"dataframe\">\n",
              "  <thead>\n",
              "    <tr style=\"text-align: right;\">\n",
              "      <th></th>\n",
              "      <th>id</th>\n",
              "      <th>아빠</th>\n",
              "      <th>엄마</th>\n",
              "      <th>아들</th>\n",
              "    </tr>\n",
              "  </thead>\n",
              "  <tbody>\n",
              "    <tr>\n",
              "      <th>id</th>\n",
              "      <td>1.000000</td>\n",
              "      <td>-0.223880</td>\n",
              "      <td>0.773127</td>\n",
              "      <td>0.168862</td>\n",
              "    </tr>\n",
              "    <tr>\n",
              "      <th>아빠</th>\n",
              "      <td>-0.223880</td>\n",
              "      <td>1.000000</td>\n",
              "      <td>0.133983</td>\n",
              "      <td>0.895192</td>\n",
              "    </tr>\n",
              "    <tr>\n",
              "      <th>엄마</th>\n",
              "      <td>0.773127</td>\n",
              "      <td>0.133983</td>\n",
              "      <td>1.000000</td>\n",
              "      <td>0.491595</td>\n",
              "    </tr>\n",
              "    <tr>\n",
              "      <th>아들</th>\n",
              "      <td>0.168862</td>\n",
              "      <td>0.895192</td>\n",
              "      <td>0.491595</td>\n",
              "      <td>1.000000</td>\n",
              "    </tr>\n",
              "  </tbody>\n",
              "</table>\n",
              "</div>"
            ],
            "text/plain": [
              "          id        아빠        엄마        아들\n",
              "id  1.000000 -0.223880  0.773127  0.168862\n",
              "아빠 -0.223880  1.000000  0.133983  0.895192\n",
              "엄마  0.773127  0.133983  1.000000  0.491595\n",
              "아들  0.168862  0.895192  0.491595  1.000000"
            ]
          },
          "metadata": {},
          "execution_count": 4
        }
      ]
    },
    {
      "cell_type": "markdown",
      "metadata": {
        "id": "YpZX04cmDx95"
      },
      "source": [
        "- X : 아빠, 엄마의 키\n",
        "- Y1 : 아들의 키\n",
        "- Y2 : 딸의 키"
      ]
    },
    {
      "cell_type": "code",
      "metadata": {
        "id": "HQzeYwnRBC8q"
      },
      "source": [
        "# [2] 데이터 지정하기\n",
        "# 아빠, 엄마의 키를 사용해 아들의 키를 예측 (X=[아빠, 엄마], Y1=[아들])\n",
        "X = df[['아빠', '엄마']]\n",
        "Y1 = df['아들']\n",
        "print(Y1)"
      ],
      "execution_count": null,
      "outputs": []
    },
    {
      "cell_type": "code",
      "metadata": {
        "id": "2ygmiQ4XBHCU",
        "colab": {
          "base_uri": "https://localhost:8080/"
        },
        "outputId": "f40a966c-e0e1-49a9-909d-fc6815c6f6c3"
      },
      "source": [
        "# [3] 아들 키를 예측하는 모델 만들어 분석하기\n",
        "from sklearn.linear_model import LinearRegression\n",
        "model = LinearRegression()\n",
        "model.fit(X, Y1)"
      ],
      "execution_count": null,
      "outputs": [
        {
          "output_type": "execute_result",
          "data": {
            "text/plain": [
              "LinearRegression()"
            ]
          },
          "metadata": {},
          "execution_count": 15
        }
      ]
    },
    {
      "cell_type": "code",
      "metadata": {
        "id": "3QRdHsJfBiBt",
        "colab": {
          "base_uri": "https://localhost:8080/"
        },
        "outputId": "19bcc76b-ac11-42d6-d561-b9708c308889"
      },
      "source": [
        "# [4] 아들 모델 성능 평가하기\n",
        "model.score(X, Y1)"
      ],
      "execution_count": null,
      "outputs": [
        {
          "output_type": "execute_result",
          "data": {
            "text/plain": [
              "0.9420204329984175"
            ]
          },
          "metadata": {},
          "execution_count": 16
        }
      ]
    },
    {
      "cell_type": "code",
      "metadata": {
        "id": "GupIGoH1FyWa",
        "colab": {
          "base_uri": "https://localhost:8080/",
          "height": 300
        },
        "outputId": "9a97a9bc-ab26-461b-b10c-83b3be22f0e2"
      },
      "source": [
        "# [5] 결과를 표로 작성하기 (예측, 오차)\n",
        "result = df[['아빠', '엄마','아들']]\n",
        "result['아들예측'] = model.predict(X)\n",
        "result['아들오차'] = result['아들'] - result['아들예측']\n",
        "result"
      ],
      "execution_count": null,
      "outputs": [
        {
          "output_type": "execute_result",
          "data": {
            "text/html": [
              "\n",
              "  <div id=\"df-796b1756-0f93-4178-8f9e-8c2155f1da49\">\n",
              "    <div class=\"colab-df-container\">\n",
              "      <div>\n",
              "<style scoped>\n",
              "    .dataframe tbody tr th:only-of-type {\n",
              "        vertical-align: middle;\n",
              "    }\n",
              "\n",
              "    .dataframe tbody tr th {\n",
              "        vertical-align: top;\n",
              "    }\n",
              "\n",
              "    .dataframe thead th {\n",
              "        text-align: right;\n",
              "    }\n",
              "</style>\n",
              "<table border=\"1\" class=\"dataframe\">\n",
              "  <thead>\n",
              "    <tr style=\"text-align: right;\">\n",
              "      <th></th>\n",
              "      <th>아빠</th>\n",
              "      <th>엄마</th>\n",
              "      <th>아들</th>\n",
              "      <th>아들예측</th>\n",
              "      <th>아들오차</th>\n",
              "    </tr>\n",
              "  </thead>\n",
              "  <tbody>\n",
              "    <tr>\n",
              "      <th>0</th>\n",
              "      <td>175</td>\n",
              "      <td>160</td>\n",
              "      <td>178</td>\n",
              "      <td>179.091446</td>\n",
              "      <td>-1.091446</td>\n",
              "    </tr>\n",
              "    <tr>\n",
              "      <th>1</th>\n",
              "      <td>180</td>\n",
              "      <td>158</td>\n",
              "      <td>182</td>\n",
              "      <td>182.354761</td>\n",
              "      <td>-0.354761</td>\n",
              "    </tr>\n",
              "    <tr>\n",
              "      <th>2</th>\n",
              "      <td>172</td>\n",
              "      <td>155</td>\n",
              "      <td>175</td>\n",
              "      <td>175.281252</td>\n",
              "      <td>-0.281252</td>\n",
              "    </tr>\n",
              "    <tr>\n",
              "      <th>3</th>\n",
              "      <td>174</td>\n",
              "      <td>161</td>\n",
              "      <td>180</td>\n",
              "      <td>178.618029</td>\n",
              "      <td>1.381971</td>\n",
              "    </tr>\n",
              "    <tr>\n",
              "      <th>4</th>\n",
              "      <td>178</td>\n",
              "      <td>163</td>\n",
              "      <td>183</td>\n",
              "      <td>182.304154</td>\n",
              "      <td>0.695846</td>\n",
              "    </tr>\n",
              "    <tr>\n",
              "      <th>5</th>\n",
              "      <td>168</td>\n",
              "      <td>160</td>\n",
              "      <td>174</td>\n",
              "      <td>173.686325</td>\n",
              "      <td>0.313675</td>\n",
              "    </tr>\n",
              "    <tr>\n",
              "      <th>6</th>\n",
              "      <td>173</td>\n",
              "      <td>168</td>\n",
              "      <td>179</td>\n",
              "      <td>179.937067</td>\n",
              "      <td>-0.937067</td>\n",
              "    </tr>\n",
              "    <tr>\n",
              "      <th>7</th>\n",
              "      <td>177</td>\n",
              "      <td>167</td>\n",
              "      <td>183</td>\n",
              "      <td>182.726965</td>\n",
              "      <td>0.273035</td>\n",
              "    </tr>\n",
              "  </tbody>\n",
              "</table>\n",
              "</div>\n",
              "      <button class=\"colab-df-convert\" onclick=\"convertToInteractive('df-796b1756-0f93-4178-8f9e-8c2155f1da49')\"\n",
              "              title=\"Convert this dataframe to an interactive table.\"\n",
              "              style=\"display:none;\">\n",
              "        \n",
              "  <svg xmlns=\"http://www.w3.org/2000/svg\" height=\"24px\"viewBox=\"0 0 24 24\"\n",
              "       width=\"24px\">\n",
              "    <path d=\"M0 0h24v24H0V0z\" fill=\"none\"/>\n",
              "    <path d=\"M18.56 5.44l.94 2.06.94-2.06 2.06-.94-2.06-.94-.94-2.06-.94 2.06-2.06.94zm-11 1L8.5 8.5l.94-2.06 2.06-.94-2.06-.94L8.5 2.5l-.94 2.06-2.06.94zm10 10l.94 2.06.94-2.06 2.06-.94-2.06-.94-.94-2.06-.94 2.06-2.06.94z\"/><path d=\"M17.41 7.96l-1.37-1.37c-.4-.4-.92-.59-1.43-.59-.52 0-1.04.2-1.43.59L10.3 9.45l-7.72 7.72c-.78.78-.78 2.05 0 2.83L4 21.41c.39.39.9.59 1.41.59.51 0 1.02-.2 1.41-.59l7.78-7.78 2.81-2.81c.8-.78.8-2.07 0-2.86zM5.41 20L4 18.59l7.72-7.72 1.47 1.35L5.41 20z\"/>\n",
              "  </svg>\n",
              "      </button>\n",
              "      \n",
              "  <style>\n",
              "    .colab-df-container {\n",
              "      display:flex;\n",
              "      flex-wrap:wrap;\n",
              "      gap: 12px;\n",
              "    }\n",
              "\n",
              "    .colab-df-convert {\n",
              "      background-color: #E8F0FE;\n",
              "      border: none;\n",
              "      border-radius: 50%;\n",
              "      cursor: pointer;\n",
              "      display: none;\n",
              "      fill: #1967D2;\n",
              "      height: 32px;\n",
              "      padding: 0 0 0 0;\n",
              "      width: 32px;\n",
              "    }\n",
              "\n",
              "    .colab-df-convert:hover {\n",
              "      background-color: #E2EBFA;\n",
              "      box-shadow: 0px 1px 2px rgba(60, 64, 67, 0.3), 0px 1px 3px 1px rgba(60, 64, 67, 0.15);\n",
              "      fill: #174EA6;\n",
              "    }\n",
              "\n",
              "    [theme=dark] .colab-df-convert {\n",
              "      background-color: #3B4455;\n",
              "      fill: #D2E3FC;\n",
              "    }\n",
              "\n",
              "    [theme=dark] .colab-df-convert:hover {\n",
              "      background-color: #434B5C;\n",
              "      box-shadow: 0px 1px 3px 1px rgba(0, 0, 0, 0.15);\n",
              "      filter: drop-shadow(0px 1px 2px rgba(0, 0, 0, 0.3));\n",
              "      fill: #FFFFFF;\n",
              "    }\n",
              "  </style>\n",
              "\n",
              "      <script>\n",
              "        const buttonEl =\n",
              "          document.querySelector('#df-796b1756-0f93-4178-8f9e-8c2155f1da49 button.colab-df-convert');\n",
              "        buttonEl.style.display =\n",
              "          google.colab.kernel.accessAllowed ? 'block' : 'none';\n",
              "\n",
              "        async function convertToInteractive(key) {\n",
              "          const element = document.querySelector('#df-796b1756-0f93-4178-8f9e-8c2155f1da49');\n",
              "          const dataTable =\n",
              "            await google.colab.kernel.invokeFunction('convertToInteractive',\n",
              "                                                     [key], {});\n",
              "          if (!dataTable) return;\n",
              "\n",
              "          const docLinkHtml = 'Like what you see? Visit the ' +\n",
              "            '<a target=\"_blank\" href=https://colab.research.google.com/notebooks/data_table.ipynb>data table notebook</a>'\n",
              "            + ' to learn more about interactive tables.';\n",
              "          element.innerHTML = '';\n",
              "          dataTable['output_type'] = 'display_data';\n",
              "          await google.colab.output.renderOutput(dataTable, element);\n",
              "          const docLink = document.createElement('div');\n",
              "          docLink.innerHTML = docLinkHtml;\n",
              "          element.appendChild(docLink);\n",
              "        }\n",
              "      </script>\n",
              "    </div>\n",
              "  </div>\n",
              "  "
            ],
            "text/plain": [
              "    아빠   엄마   아들        아들예측      아들오차\n",
              "0  175  160  178  179.091446 -1.091446\n",
              "1  180  158  182  182.354761 -0.354761\n",
              "2  172  155  175  175.281252 -0.281252\n",
              "3  174  161  180  178.618029  1.381971\n",
              "4  178  163  183  182.304154  0.695846\n",
              "5  168  160  174  173.686325  0.313675\n",
              "6  173  168  179  179.937067 -0.937067\n",
              "7  177  167  183  182.726965  0.273035"
            ]
          },
          "metadata": {},
          "execution_count": 38
        }
      ]
    },
    {
      "cell_type": "code",
      "metadata": {
        "id": "8997MvgyBmM7",
        "colab": {
          "base_uri": "https://localhost:8080/"
        },
        "outputId": "abce9cbf-445f-4e34-a38b-ce4cba94c03c"
      },
      "source": [
        "# [6] 새로운 데이터로 예측하기\n",
        "아빠키 = int(input('아빠키를 입력해 주세요 : '))\n",
        "엄마키 = int(input('엄마키를 입력해 주세요 : '))\n",
        "data = [[아빠키, 엄마키]]\n",
        "아들키 = model.predict(data)\n",
        "print(f'아들의 예상키는 {아들키[0]}입니다')"
      ],
      "execution_count": null,
      "outputs": [
        {
          "output_type": "stream",
          "name": "stdout",
          "text": [
            "아빠키를 입력해 주세요 : 187\n",
            "엄마키를 입력해 주세요 : 160\n",
            "아들의 예상키는 188.35736703948874입니다\n"
          ]
        },
        {
          "output_type": "stream",
          "name": "stderr",
          "text": [
            "/usr/local/lib/python3.7/dist-packages/sklearn/base.py:451: UserWarning: X does not have valid feature names, but LinearRegression was fitted with feature names\n",
            "  \"X does not have valid feature names, but\"\n"
          ]
        }
      ]
    },
    {
      "cell_type": "code",
      "metadata": {
        "id": "t67J-1_wnzg6",
        "colab": {
          "base_uri": "https://localhost:8080/"
        },
        "outputId": "ef3548f9-197a-42fa-cf42-3192c79dc1ad"
      },
      "source": [
        "# [7] 새로운 데이터로 확인하기 - X_test.csv 로 확인하기\n",
        "Xt = X_test[['아빠', '엄마']]\n",
        "print(Xt)\n",
        "model.predict(Xt)"
      ],
      "execution_count": null,
      "outputs": [
        {
          "output_type": "stream",
          "name": "stdout",
          "text": [
            "    아빠   엄마\n",
            "0  174  160\n",
            "1  179  160\n",
            "2  180  160\n"
          ]
        },
        {
          "output_type": "execute_result",
          "data": {
            "text/plain": [
              "array([178.31928593, 182.18008636, 182.95224644])"
            ]
          },
          "metadata": {},
          "execution_count": 49
        }
      ]
    },
    {
      "cell_type": "markdown",
      "metadata": {
        "id": "DKDTWJi6Ku9h"
      },
      "source": [
        "### 2-2.직접 작업해 보세요\n",
        "- 아들키 예측 프로그램을 보고 딸키 예측 프로그램 만들기"
      ]
    },
    {
      "cell_type": "code",
      "metadata": {
        "id": "Vl_0P8oqqaJZ"
      },
      "source": [
        "# [0] train, test 파일 가져오기 - 'X_train.csv', 'Y2_train.csv', 'X_test.csv' 사용\n",
        "X_train = pd.read_csv('X_train.csv')\n",
        "Y2_train = pd.read_csv('Y2_train.csv')\n",
        "X_test = pd.read_csv('X_test.csv')"
      ],
      "execution_count": null,
      "outputs": []
    },
    {
      "cell_type": "code",
      "metadata": {
        "colab": {
          "base_uri": "https://localhost:8080/"
        },
        "id": "qv9Q-OGgqp5P",
        "outputId": "bde715a4-5689-4b56-fed6-06c88e98d2e9"
      },
      "source": [
        "# [1] 아빠, 엄마, 아들 키의 상관관계 확인\n",
        "df = X_train.copy()\n",
        "df['딸'] = Y2_train['딸']\n",
        "print(df)"
      ],
      "execution_count": null,
      "outputs": [
        {
          "output_type": "stream",
          "name": "stdout",
          "text": [
            "   id   아빠   엄마    딸\n",
            "0   0  175  160  163\n",
            "1   1  180  158  168\n",
            "2   2  172  155  157\n",
            "3   3  174  161  164\n",
            "4   4  178  163  167\n",
            "5   5  168  160  158\n",
            "6   6  173  168  169\n",
            "7   7  177  167  169\n"
          ]
        }
      ]
    },
    {
      "cell_type": "code",
      "metadata": {
        "id": "JZiTV6cgO1Yf"
      },
      "source": [
        "# [2] 데이터 지정하기\n",
        "# 아빠, 엄마의 키를 사용해 딸의 키를 예측 (X=[아빠, 엄마], Y2=[딸])\n",
        "X = df[['아빠', '엄마']]\n",
        "Y2 = df['딸']"
      ],
      "execution_count": null,
      "outputs": []
    },
    {
      "cell_type": "code",
      "metadata": {
        "id": "k6gBRaj8C9rq",
        "colab": {
          "base_uri": "https://localhost:8080/"
        },
        "outputId": "6ea6da52-67f5-4811-9b29-4eaa5effb068"
      },
      "source": [
        "# [3] 딸 키를 예측하는 모델 만들기 (LinearRegression 사용)\n",
        "# 모델이름을 model_d 로 사용해 주세요.\n",
        "from sklearn.linear_model import LinearRegression\n",
        "model_d = LinearRegression()\n",
        "model_d.fit(X, Y2)"
      ],
      "execution_count": null,
      "outputs": [
        {
          "output_type": "execute_result",
          "data": {
            "text/plain": [
              "LinearRegression(copy_X=True, fit_intercept=True, n_jobs=None, normalize=False)"
            ]
          },
          "metadata": {},
          "execution_count": 53
        }
      ]
    },
    {
      "cell_type": "code",
      "metadata": {
        "id": "cMOuE4TbDICL",
        "colab": {
          "base_uri": "https://localhost:8080/"
        },
        "outputId": "65782878-2a67-4f27-dee9-1c71e3c7d4f5"
      },
      "source": [
        "# [4] 딸모델 성능 평가하기\n",
        "model_d.score(X, Y2)"
      ],
      "execution_count": null,
      "outputs": [
        {
          "output_type": "execute_result",
          "data": {
            "text/plain": [
              "0.9458421428757123"
            ]
          },
          "metadata": {},
          "execution_count": 54
        }
      ]
    },
    {
      "cell_type": "code",
      "metadata": {
        "colab": {
          "base_uri": "https://localhost:8080/",
          "height": 300
        },
        "id": "2mg9tRD5G9Rz",
        "outputId": "9ccac43d-7414-42fa-f89e-562c41788df6"
      },
      "source": [
        "# [5] 딸모델의 예측 값, 오차 확인\n",
        "result = df[['아빠', '엄마', '딸']]\n",
        "result['딸예측'] = model_d.predict(X)\n",
        "result['딸오차'] = result['딸'] - result['딸예측']\n",
        "result"
      ],
      "execution_count": null,
      "outputs": [
        {
          "output_type": "execute_result",
          "data": {
            "text/html": [
              "<div>\n",
              "<style scoped>\n",
              "    .dataframe tbody tr th:only-of-type {\n",
              "        vertical-align: middle;\n",
              "    }\n",
              "\n",
              "    .dataframe tbody tr th {\n",
              "        vertical-align: top;\n",
              "    }\n",
              "\n",
              "    .dataframe thead th {\n",
              "        text-align: right;\n",
              "    }\n",
              "</style>\n",
              "<table border=\"1\" class=\"dataframe\">\n",
              "  <thead>\n",
              "    <tr style=\"text-align: right;\">\n",
              "      <th></th>\n",
              "      <th>아빠</th>\n",
              "      <th>엄마</th>\n",
              "      <th>딸</th>\n",
              "      <th>딸예측</th>\n",
              "      <th>딸오차</th>\n",
              "    </tr>\n",
              "  </thead>\n",
              "  <tbody>\n",
              "    <tr>\n",
              "      <th>0</th>\n",
              "      <td>175</td>\n",
              "      <td>160</td>\n",
              "      <td>163</td>\n",
              "      <td>163.634730</td>\n",
              "      <td>-0.634730</td>\n",
              "    </tr>\n",
              "    <tr>\n",
              "      <th>1</th>\n",
              "      <td>180</td>\n",
              "      <td>158</td>\n",
              "      <td>168</td>\n",
              "      <td>166.355075</td>\n",
              "      <td>1.644925</td>\n",
              "    </tr>\n",
              "    <tr>\n",
              "      <th>2</th>\n",
              "      <td>172</td>\n",
              "      <td>155</td>\n",
              "      <td>157</td>\n",
              "      <td>157.665754</td>\n",
              "      <td>-0.665754</td>\n",
              "    </tr>\n",
              "    <tr>\n",
              "      <th>3</th>\n",
              "      <td>174</td>\n",
              "      <td>161</td>\n",
              "      <td>164</td>\n",
              "      <td>163.510348</td>\n",
              "      <td>0.489652</td>\n",
              "    </tr>\n",
              "    <tr>\n",
              "      <th>4</th>\n",
              "      <td>178</td>\n",
              "      <td>163</td>\n",
              "      <td>167</td>\n",
              "      <td>168.204748</td>\n",
              "      <td>-1.204748</td>\n",
              "    </tr>\n",
              "    <tr>\n",
              "      <th>5</th>\n",
              "      <td>168</td>\n",
              "      <td>160</td>\n",
              "      <td>158</td>\n",
              "      <td>157.867705</td>\n",
              "      <td>0.132295</td>\n",
              "    </tr>\n",
              "    <tr>\n",
              "      <th>6</th>\n",
              "      <td>173</td>\n",
              "      <td>168</td>\n",
              "      <td>169</td>\n",
              "      <td>167.582839</td>\n",
              "      <td>1.417161</td>\n",
              "    </tr>\n",
              "    <tr>\n",
              "      <th>7</th>\n",
              "      <td>177</td>\n",
              "      <td>167</td>\n",
              "      <td>169</td>\n",
              "      <td>170.178802</td>\n",
              "      <td>-1.178802</td>\n",
              "    </tr>\n",
              "  </tbody>\n",
              "</table>\n",
              "</div>"
            ],
            "text/plain": [
              "    아빠   엄마    딸         딸예측       딸오차\n",
              "0  175  160  163  163.634730 -0.634730\n",
              "1  180  158  168  166.355075  1.644925\n",
              "2  172  155  157  157.665754 -0.665754\n",
              "3  174  161  164  163.510348  0.489652\n",
              "4  178  163  167  168.204748 -1.204748\n",
              "5  168  160  158  157.867705  0.132295\n",
              "6  173  168  169  167.582839  1.417161\n",
              "7  177  167  169  170.178802 -1.178802"
            ]
          },
          "metadata": {},
          "execution_count": 56
        }
      ]
    },
    {
      "cell_type": "code",
      "metadata": {
        "colab": {
          "base_uri": "https://localhost:8080/"
        },
        "id": "JRUjYzbtDLGt",
        "outputId": "e3413c81-710e-4632-c8fe-9f145d4f0373"
      },
      "source": [
        "# [6] 새로운 데이터로 확인하기\n",
        "아빠키 = int(input('아빠키를 입력해 주세요 : '))\n",
        "엄마키 = int(input('엄마키를 입력해 주세요 : '))\n",
        "data = [[아빠키, 엄마키]]\n",
        "딸키 = model_d.predict(data)\n",
        "print(f'딸의 예상키는 {딸키[0]}입니다')"
      ],
      "execution_count": null,
      "outputs": [
        {
          "output_type": "stream",
          "name": "stdout",
          "text": [
            "아빠키를 입력해 주세요 : 170\n",
            "엄마키를 입력해 주세요 : 150\n",
            "딸의 예상키는 152.5206383626265입니다\n"
          ]
        }
      ]
    },
    {
      "cell_type": "code",
      "metadata": {
        "colab": {
          "base_uri": "https://localhost:8080/"
        },
        "id": "U_ggyNxOOH3L",
        "outputId": "fe2ae444-b516-4407-c0d0-951cfe2a6c96"
      },
      "source": [
        "# [7] 새로운 데이터로 확인하기 - X_test.csv 로 확인하기\n",
        "Xt = X_test[['아빠', '엄마']]\n",
        "print(Xt)\n",
        "model_d.predict(Xt)"
      ],
      "execution_count": null,
      "outputs": [
        {
          "output_type": "stream",
          "name": "stdout",
          "text": [
            "    아빠   엄마\n",
            "0  174  160\n",
            "1  179  160\n",
            "2  180  160\n"
          ]
        },
        {
          "output_type": "execute_result",
          "data": {
            "text/plain": [
              "array([162.8108689 , 166.93017195, 167.75403256])"
            ]
          },
          "metadata": {},
          "execution_count": 58
        }
      ]
    },
    {
      "cell_type": "markdown",
      "metadata": {
        "id": "GjzrivtFrFb1"
      },
      "source": [
        "### 2-3.기울기(회귀계수), 절편확인, 객체를 파일로 저장"
      ]
    },
    {
      "cell_type": "code",
      "metadata": {
        "colab": {
          "base_uri": "https://localhost:8080/"
        },
        "id": "xoTRkUlWrQTF",
        "outputId": "9f4cc379-11c0-4c51-feba-ae02cfb848be"
      },
      "source": [
        "# [1] 기울기, 절편 확인하기\n",
        "# Y1 = a1*X['아빠']  + a2*X['엄마'] + b\n",
        "print(model.coef_)\n",
        "print(model.intercept_)"
      ],
      "execution_count": null,
      "outputs": [
        {
          "output_type": "stream",
          "name": "stdout",
          "text": [
            "[0.77216009 0.29874268]\n",
            "-3.8353971695960922\n"
          ]
        }
      ]
    },
    {
      "cell_type": "code",
      "metadata": {
        "id": "kRukNizxwTUv"
      },
      "source": [
        "아빠키를 입력해 주세요 : 176\n",
        "엄마키를 입력해 주세요 : 160\n",
        "아들의 예상키는 179.8636061021076입니다"
      ],
      "execution_count": null,
      "outputs": []
    },
    {
      "cell_type": "code",
      "metadata": {
        "colab": {
          "base_uri": "https://localhost:8080/"
        },
        "id": "An29DQGNwJhm",
        "outputId": "d83db33d-aca6-43fa-c3f0-0b5471d3c46a"
      },
      "source": [
        "Yh = 0.77216009 * 176 + 0.29874268 * 160 + -3.8353971695960922\n",
        "print(Yh)"
      ],
      "execution_count": null,
      "outputs": [
        {
          "output_type": "stream",
          "name": "stdout",
          "text": [
            "179.8636074704039\n"
          ]
        }
      ]
    },
    {
      "cell_type": "code",
      "metadata": {
        "colab": {
          "base_uri": "https://localhost:8080/"
        },
        "id": "0CSi5WWNMihi",
        "outputId": "c7eb8bb4-cfc4-4b86-f811-9d88b5050658"
      },
      "source": [
        "# [2] 모델 저장하기\n",
        "import shelve\n",
        "\n",
        "with shelve.open('height') as data:\n",
        "    data['model_son'] = model\n",
        "    data['model_daughter'] = model_d\n",
        "print('저장완료') "
      ],
      "execution_count": null,
      "outputs": [
        {
          "output_type": "stream",
          "name": "stdout",
          "text": [
            "저장완료\n"
          ]
        }
      ]
    },
    {
      "cell_type": "code",
      "metadata": {
        "colab": {
          "base_uri": "https://localhost:8080/"
        },
        "id": "VomDEO5KMzBA",
        "outputId": "e85dbbe4-d86c-4487-fcf0-a5b7777259f8"
      },
      "source": [
        "# [3] 모델 불러오기\n",
        "import shelve\n",
        "\n",
        "with shelve.open('height') as data:\n",
        "    A = data['model_son']\n",
        "    B = data['model_daughter']\n",
        "print('불러오기 완료') "
      ],
      "execution_count": null,
      "outputs": [
        {
          "output_type": "stream",
          "name": "stdout",
          "text": [
            "불러오기 완료\n"
          ]
        }
      ]
    },
    {
      "cell_type": "code",
      "metadata": {
        "colab": {
          "base_uri": "https://localhost:8080/"
        },
        "id": "pi4BgadPtA8q",
        "outputId": "7a4c19c5-41e7-45e5-edaf-6414460a2cd9"
      },
      "source": [
        "# [4] 새로운 데이터로 확인하기\n",
        "아빠키 = int(input('아빠키를 입력해 주세요 : '))\n",
        "엄마키 = int(input('엄마키를 입력해 주세요 : '))\n",
        "data = [[아빠키, 엄마키]]\n",
        "아들키 = A.predict(data)\n",
        "print(f'딸의 예상키는 {아들키[0]}입니다')"
      ],
      "execution_count": null,
      "outputs": [
        {
          "output_type": "stream",
          "name": "stdout",
          "text": [
            "아빠키를 입력해 주세요 : 176\n",
            "엄마키를 입력해 주세요 : 160\n",
            "딸의 예상키는 179.8636061021076입니다\n"
          ]
        }
      ]
    },
    {
      "cell_type": "markdown",
      "metadata": {
        "id": "bxDZfz_8PGhB"
      },
      "source": [
        "^^!  데이터가 부실하며(?!) 이상치(Outlier)도 없기 때문에 결과를 믿으시면 아니됩니다!"
      ]
    }
  ]
}