{
  "nbformat": 4,
  "nbformat_minor": 0,
  "metadata": {
    "colab": {
      "provenance": [],
      "toc_visible": true,
      "include_colab_link": true
    },
    "kernelspec": {
      "name": "python3",
      "display_name": "Python 3"
    },
    "language_info": {
      "name": "python"
    }
  },
  "cells": [
    {
      "cell_type": "markdown",
      "metadata": {
        "id": "view-in-github",
        "colab_type": "text"
      },
      "source": [
        "<a href=\"https://colab.research.google.com/github/oliva0620/23bigdata_exam/blob/cs/%5BML_04%5D_regression_Teacher.ipynb\" target=\"_parent\"><img src=\"https://colab.research.google.com/assets/colab-badge.svg\" alt=\"Open In Colab\"/></a>"
      ]
    },
    {
      "cell_type": "markdown",
      "source": [
        "## 0.회귀 분석의 종류"
      ],
      "metadata": {
        "id": "nOeUlKKLLxRN"
      }
    },
    {
      "cell_type": "code",
      "source": [
        "target(Y)\n",
        "분류 분석 : 범주형, 혈액형(A, B, O, AB), 성별(F, M), 숫자(0, 1, ~ 9)\n",
        "회귀 분석 : 연속형, 판매량(0, 1, 2, 3, ... 100, 101, 102..)\n",
        "   주어진 값보다 더 큰값, 작은값, 사잇값 등이 있을 수 있는 것"
      ],
      "metadata": {
        "id": "ASJZnMdi0iBA"
      },
      "execution_count": null,
      "outputs": []
    },
    {
      "cell_type": "markdown",
      "source": [
        "### Simple Linear Regression\n",
        "- 단순 선형 회귀\n",
        "- $y = \\beta_{0} + \\beta_{1} x + \\epsilon$\n",
        "- 하나의 X 값을 가지고 Y를 예측하는 것"
      ],
      "metadata": {
        "id": "0SmBkBDbL031"
      }
    },
    {
      "cell_type": "markdown",
      "source": [
        "### Multiple Linear Regression\n",
        "- 다중 회귀\n",
        "- $y = \\beta_{0} + \\beta_{1} x_{1} + \\beta_{2} x_{2} + ...+ \\epsilon$\n",
        "- 여러 개의 X 값을 가지고 Y를 예측하는 것"
      ],
      "metadata": {
        "id": "R5PVzyAeL6un"
      }
    },
    {
      "cell_type": "markdown",
      "source": [
        "### Polynomial Regression\n",
        "- 다항 회귀\n",
        "- 비선형 데이터 집합을 모델링 할 때 사용\n",
        "- 곡선의 다항식 선을 사용함\n",
        "- 과대적합이 나타나기 쉬움\n",
        "- $y = \\beta_{0} + \\beta_{1} x_{1} + \\beta_{2} x_{2} + \\beta_{3} x_{1}^{2} + \\beta_{4} x_{2}^{2} ...+ \\epsilon$\n",
        "- X를 다항식으로 변경하여 모델링의 데이터로 사용함"
      ],
      "metadata": {
        "id": "9CZ9M41nL-5I"
      }
    },
    {
      "cell_type": "markdown",
      "source": [
        "### Ridge, Lasso Regression\n",
        "- 독립변수들 간에 높은 상관 관계가 있는 경우 규제화 (regularization)를 적용해 모델의 복잡도를 줄임\n",
        "- Ridge : 계수값을 0 에 가깝게 만들지만 0 이 되지 않음\n",
        "- Lasso : 계수 값을 0으로 만들 수 있음"
      ],
      "metadata": {
        "id": "zx-dq65DUIfs"
      }
    },
    {
      "cell_type": "markdown",
      "metadata": {
        "id": "VG7KimE0VTzs"
      },
      "source": [
        "## 1.데이터 만들기 "
      ]
    },
    {
      "cell_type": "markdown",
      "source": [
        "### 1-1.함수 만들기"
      ],
      "metadata": {
        "id": "B_hB6UnY-k1S"
      }
    },
    {
      "cell_type": "code",
      "source": [
        "# X : 키, 몸무게 \n",
        "# Y : BMI 예측"
      ],
      "metadata": {
        "id": "j6x5Ww3j7q7h"
      },
      "execution_count": null,
      "outputs": []
    },
    {
      "cell_type": "code",
      "metadata": {
        "id": "CzNm04uTVTDP"
      },
      "source": [
        "import pandas as pd\n",
        "import numpy as np"
      ],
      "execution_count": null,
      "outputs": []
    },
    {
      "cell_type": "code",
      "source": [
        "# https://rfriend.tistory.com/284\n",
        "# https://rfriend.tistory.com/352\n",
        "# https://namu.wiki/w/%ED%82%A4(%EC%8B%A0%EC%B2%B4)\n",
        "# https://123dok.co/document/eqodvrmz-%EC%A7%80%EC%97%AD%EC%A0%81-%EA%B1%B4%EA%B0%95%EB%B6%88%ED%8F%89%EB%93%B1%EA%B3%BC-%EA%B0%9C%EC%9D%B8-%EB%B0%8F-%EC%A7%80%EC%97%AD%EC%88%98%EC%A4%80%EC%9D%98-%EA%B1%B4%EA%B0%95%EA%B2%B0%EC%A0%95%EC%9A%94%EC%9D%B8.html"
      ],
      "metadata": {
        "id": "U2mbeD62Nwqa"
      },
      "execution_count": null,
      "outputs": []
    },
    {
      "cell_type": "code",
      "source": [
        "# bmi = 몸무게(kg) ÷ (신장(m) × 신장(m))\n",
        "# 한국 표준 데이터 생성\n",
        "# seedno : 랜덤 수 발생 관련\n",
        "# size : sample의 개수\n",
        "# startno : ID의 시작 번호\n",
        "# outlier : 이상치 비율, 0.01 => 100개 정상데이터 1개 이상치\n",
        "def make_sample(seedno, size, startno=0, outlier=0):\n",
        "    np.random.seed(seedno)\n",
        "    outlier_len = int(size*outlier)\n",
        "    sizeh = size//2\n",
        "    # 키의 단위 cm\n",
        "    hm = np.random.normal(loc=175, scale=5.3, size = sizeh+1 if size % 2 else sizeh).round(1)\n",
        "    hw = np.random.normal(loc=162, scale=5.2, size = sizeh).round(1)\n",
        "    h = np.concatenate([hm, hw])\n",
        "    h /= 100   # 단위를 m로 변경\n",
        "    bmi = np.random.normal(loc=23, scale=4, size=len(h))\n",
        "    w = (h*h*bmi).round(1)\n",
        "    bmi = (w / (h*h)).round(2)\n",
        "    h *= 100   # 단위를 cm로 변경\n",
        "    data = np.column_stack([h, w, bmi])\n",
        "\n",
        "    # 이상치 데이터 추가\n",
        "    if outlier_len != 0:\n",
        "        data_outlier = make_outlier(seedno, outlier_len)\n",
        "        print(data_outlier, data_outlier.shape, sep='\\n')\n",
        "        data = np.concatenate([data, data_outlier])\n",
        "\n",
        "    # 'ID'를 포함한 DataFrame 생성 및 반환\n",
        "    data = pd.DataFrame(data, columns=['height', 'weight', 'BMI'])\n",
        "    data = data.sample(frac=1)\n",
        "    data.insert(0, 'ID', np.arange(startno, startno + len(data), dtype='int'))\n",
        "    return data\n",
        "\n"
      ],
      "metadata": {
        "id": "xMzzkc_YNZyJ"
      },
      "execution_count": null,
      "outputs": []
    },
    {
      "cell_type": "code",
      "source": [
        "# bmi = #몸무게(kg) ÷ (신장(m) × 신장(m))\n",
        "# 키, 몸무게가 매우 작거나 큰 데이터 생성\n",
        "# seedno : 랜덤 수 발생 관련\n",
        "# size : sample의 개수\n",
        "def make_outlier(seedno, size):\n",
        "    np.random.seed(seedno)\n",
        "    sizeh = size//2\n",
        "    hlow = np.random.normal(loc=120, scale=5.3, size=sizeh+1 if size % 2 else sizeh).round(1)\n",
        "    hhigh = np.random.normal(loc=220, scale=5.2, size=sizeh).round(1)\n",
        "    h = np.concatenate([hlow, hhigh])\n",
        "    h /= 100\n",
        "    bmi = np.random.normal(loc=23, scale=10, size=len(h))\n",
        "    w = (h*h*bmi).round(1)\n",
        "    bmi = (w / (h*h)).round(2)\n",
        "    h *= 100\n",
        "    return np.column_stack([h, w, bmi])"
      ],
      "metadata": {
        "id": "7nc4nEEulMpA"
      },
      "execution_count": null,
      "outputs": []
    },
    {
      "cell_type": "code",
      "source": [
        "# make_sample 사용연습\n",
        "df = make_sample(1234, 100, outlier=0.05)\n",
        "df.shape\n",
        "#df.describe()"
      ],
      "metadata": {
        "colab": {
          "base_uri": "https://localhost:8080/"
        },
        "id": "8SsqBLlNXFbO",
        "outputId": "eba5ac0c-c784-46d2-82d3-75e103e28fa1"
      },
      "execution_count": null,
      "outputs": [
        {
          "output_type": "stream",
          "name": "stdout",
          "text": [
            "[[122.5   47.8   31.85]\n",
            " [113.7   40.8   31.56]\n",
            " [127.6   27.1   16.64]\n",
            " [218.4  110.5   23.17]\n",
            " [216.3    2.7    0.58]]\n",
            "(5, 3)\n"
          ]
        },
        {
          "output_type": "execute_result",
          "data": {
            "text/plain": [
              "(105, 4)"
            ]
          },
          "metadata": {},
          "execution_count": 4
        }
      ]
    },
    {
      "cell_type": "markdown",
      "source": [
        "### 1-2.train, test 데이터"
      ],
      "metadata": {
        "id": "ButSv7wB-pdu"
      }
    },
    {
      "cell_type": "code",
      "source": [
        "# [1] train, test 데이터 생성 및 파일로 저장하기\n",
        "train = make_sample(1234, 100)\n",
        "test = make_sample(1, 100, len(train))\n",
        "Xfeatures = ['ID', 'height', 'weight']\n",
        "Yfeatures = ['ID', 'BMI']\n",
        "Xtrain = train[Xfeatures]\n",
        "Ytrain = train[Yfeatures]\n",
        "Xtest = test[Xfeatures]\n",
        "Ytest = test[Yfeatures]  # 실제 시험에서는 주지 않음!\n",
        "Xtrain.to_csv('x_train.csv', index=False)\n",
        "Ytrain.to_csv('y_train.csv', index=False)\n",
        "Xtest.to_csv('x_test.csv', index=False)\n",
        "Ytest.to_csv('y_test.csv', index=False)  # 실제 시험에서는 주지 않음!"
      ],
      "metadata": {
        "id": "E7UyUiz_awlU"
      },
      "execution_count": null,
      "outputs": []
    },
    {
      "cell_type": "code",
      "source": [
        "# [2] 각 데이터를 파일에서 읽어오기\n",
        "# X_use, X_submission, Y, Y_hidden 이름 사용\n",
        "X_use = pd.read_csv('x_train.csv')\n",
        "X_submission = pd.read_csv('x_test.csv')\n",
        "Y = pd.read_csv('y_train.csv')\n",
        "Y_hidden = pd.read_csv('y_test.csv')"
      ],
      "metadata": {
        "id": "qlhzi2locSr2"
      },
      "execution_count": null,
      "outputs": []
    },
    {
      "cell_type": "code",
      "source": [
        "# X_use, Y를 합쳐서 dfXY 생성\n",
        "dfXY = pd.merge(X_use, Y)\n",
        "dfXY.shape"
      ],
      "metadata": {
        "id": "1q3oe7ET_gNE",
        "colab": {
          "base_uri": "https://localhost:8080/"
        },
        "outputId": "2d478623-d86b-46fd-85aa-70ee526b3817"
      },
      "execution_count": null,
      "outputs": [
        {
          "output_type": "execute_result",
          "data": {
            "text/plain": [
              "(100, 4)"
            ]
          },
          "metadata": {},
          "execution_count": 7
        }
      ]
    },
    {
      "cell_type": "code",
      "source": [
        "# dfXY의 상관 관계 확인\n",
        "dfXY.corr()"
      ],
      "metadata": {
        "colab": {
          "base_uri": "https://localhost:8080/",
          "height": 175
        },
        "id": "YvEyrP4a_tXX",
        "outputId": "4ccdcd76-2ee3-4ac2-c338-8aa4c294230c"
      },
      "execution_count": null,
      "outputs": [
        {
          "output_type": "execute_result",
          "data": {
            "text/plain": [
              "              ID    height    weight       BMI\n",
              "ID      1.000000  0.140693 -0.022971 -0.108252\n",
              "height  0.140693  1.000000  0.604015  0.178859\n",
              "weight -0.022971  0.604015  1.000000  0.887726\n",
              "BMI    -0.108252  0.178859  0.887726  1.000000"
            ],
            "text/html": [
              "\n",
              "  <div id=\"df-add2d731-860d-40e4-9f00-7a12d6a3adb5\">\n",
              "    <div class=\"colab-df-container\">\n",
              "      <div>\n",
              "<style scoped>\n",
              "    .dataframe tbody tr th:only-of-type {\n",
              "        vertical-align: middle;\n",
              "    }\n",
              "\n",
              "    .dataframe tbody tr th {\n",
              "        vertical-align: top;\n",
              "    }\n",
              "\n",
              "    .dataframe thead th {\n",
              "        text-align: right;\n",
              "    }\n",
              "</style>\n",
              "<table border=\"1\" class=\"dataframe\">\n",
              "  <thead>\n",
              "    <tr style=\"text-align: right;\">\n",
              "      <th></th>\n",
              "      <th>ID</th>\n",
              "      <th>height</th>\n",
              "      <th>weight</th>\n",
              "      <th>BMI</th>\n",
              "    </tr>\n",
              "  </thead>\n",
              "  <tbody>\n",
              "    <tr>\n",
              "      <th>ID</th>\n",
              "      <td>1.000000</td>\n",
              "      <td>0.140693</td>\n",
              "      <td>-0.022971</td>\n",
              "      <td>-0.108252</td>\n",
              "    </tr>\n",
              "    <tr>\n",
              "      <th>height</th>\n",
              "      <td>0.140693</td>\n",
              "      <td>1.000000</td>\n",
              "      <td>0.604015</td>\n",
              "      <td>0.178859</td>\n",
              "    </tr>\n",
              "    <tr>\n",
              "      <th>weight</th>\n",
              "      <td>-0.022971</td>\n",
              "      <td>0.604015</td>\n",
              "      <td>1.000000</td>\n",
              "      <td>0.887726</td>\n",
              "    </tr>\n",
              "    <tr>\n",
              "      <th>BMI</th>\n",
              "      <td>-0.108252</td>\n",
              "      <td>0.178859</td>\n",
              "      <td>0.887726</td>\n",
              "      <td>1.000000</td>\n",
              "    </tr>\n",
              "  </tbody>\n",
              "</table>\n",
              "</div>\n",
              "      <button class=\"colab-df-convert\" onclick=\"convertToInteractive('df-add2d731-860d-40e4-9f00-7a12d6a3adb5')\"\n",
              "              title=\"Convert this dataframe to an interactive table.\"\n",
              "              style=\"display:none;\">\n",
              "        \n",
              "  <svg xmlns=\"http://www.w3.org/2000/svg\" height=\"24px\"viewBox=\"0 0 24 24\"\n",
              "       width=\"24px\">\n",
              "    <path d=\"M0 0h24v24H0V0z\" fill=\"none\"/>\n",
              "    <path d=\"M18.56 5.44l.94 2.06.94-2.06 2.06-.94-2.06-.94-.94-2.06-.94 2.06-2.06.94zm-11 1L8.5 8.5l.94-2.06 2.06-.94-2.06-.94L8.5 2.5l-.94 2.06-2.06.94zm10 10l.94 2.06.94-2.06 2.06-.94-2.06-.94-.94-2.06-.94 2.06-2.06.94z\"/><path d=\"M17.41 7.96l-1.37-1.37c-.4-.4-.92-.59-1.43-.59-.52 0-1.04.2-1.43.59L10.3 9.45l-7.72 7.72c-.78.78-.78 2.05 0 2.83L4 21.41c.39.39.9.59 1.41.59.51 0 1.02-.2 1.41-.59l7.78-7.78 2.81-2.81c.8-.78.8-2.07 0-2.86zM5.41 20L4 18.59l7.72-7.72 1.47 1.35L5.41 20z\"/>\n",
              "  </svg>\n",
              "      </button>\n",
              "      \n",
              "  <style>\n",
              "    .colab-df-container {\n",
              "      display:flex;\n",
              "      flex-wrap:wrap;\n",
              "      gap: 12px;\n",
              "    }\n",
              "\n",
              "    .colab-df-convert {\n",
              "      background-color: #E8F0FE;\n",
              "      border: none;\n",
              "      border-radius: 50%;\n",
              "      cursor: pointer;\n",
              "      display: none;\n",
              "      fill: #1967D2;\n",
              "      height: 32px;\n",
              "      padding: 0 0 0 0;\n",
              "      width: 32px;\n",
              "    }\n",
              "\n",
              "    .colab-df-convert:hover {\n",
              "      background-color: #E2EBFA;\n",
              "      box-shadow: 0px 1px 2px rgba(60, 64, 67, 0.3), 0px 1px 3px 1px rgba(60, 64, 67, 0.15);\n",
              "      fill: #174EA6;\n",
              "    }\n",
              "\n",
              "    [theme=dark] .colab-df-convert {\n",
              "      background-color: #3B4455;\n",
              "      fill: #D2E3FC;\n",
              "    }\n",
              "\n",
              "    [theme=dark] .colab-df-convert:hover {\n",
              "      background-color: #434B5C;\n",
              "      box-shadow: 0px 1px 3px 1px rgba(0, 0, 0, 0.15);\n",
              "      filter: drop-shadow(0px 1px 2px rgba(0, 0, 0, 0.3));\n",
              "      fill: #FFFFFF;\n",
              "    }\n",
              "  </style>\n",
              "\n",
              "      <script>\n",
              "        const buttonEl =\n",
              "          document.querySelector('#df-add2d731-860d-40e4-9f00-7a12d6a3adb5 button.colab-df-convert');\n",
              "        buttonEl.style.display =\n",
              "          google.colab.kernel.accessAllowed ? 'block' : 'none';\n",
              "\n",
              "        async function convertToInteractive(key) {\n",
              "          const element = document.querySelector('#df-add2d731-860d-40e4-9f00-7a12d6a3adb5');\n",
              "          const dataTable =\n",
              "            await google.colab.kernel.invokeFunction('convertToInteractive',\n",
              "                                                     [key], {});\n",
              "          if (!dataTable) return;\n",
              "\n",
              "          const docLinkHtml = 'Like what you see? Visit the ' +\n",
              "            '<a target=\"_blank\" href=https://colab.research.google.com/notebooks/data_table.ipynb>data table notebook</a>'\n",
              "            + ' to learn more about interactive tables.';\n",
              "          element.innerHTML = '';\n",
              "          dataTable['output_type'] = 'display_data';\n",
              "          await google.colab.output.renderOutput(dataTable, element);\n",
              "          const docLink = document.createElement('div');\n",
              "          docLink.innerHTML = docLinkHtml;\n",
              "          element.appendChild(docLink);\n",
              "        }\n",
              "      </script>\n",
              "    </div>\n",
              "  </div>\n",
              "  "
            ]
          },
          "metadata": {},
          "execution_count": 8
        }
      ]
    },
    {
      "cell_type": "markdown",
      "source": [
        "## 2.모델링, 성능평가"
      ],
      "metadata": {
        "id": "uXK2Zt-E8DbP"
      }
    },
    {
      "cell_type": "markdown",
      "source": [
        "### 2-1.모델링 함수"
      ],
      "metadata": {
        "id": "1Gr97IA2-dQc"
      }
    },
    {
      "cell_type": "code",
      "source": [
        "from sklearn.preprocessing import MinMaxScaler\n",
        "from sklearn.model_selection import train_test_split\n",
        "from sklearn.linear_model import LinearRegression"
      ],
      "metadata": {
        "id": "CBW3Y1pmXg7v"
      },
      "execution_count": null,
      "outputs": []
    },
    {
      "cell_type": "code",
      "source": [
        "# [1] 데이터를 분리하고, 학습 한 뒤, R2_score를 구해 출력\n",
        "def Model_Train(model, XF, YF, scale=False):\n",
        "    # 7:3 분리, random_state=321  (주의: stratify사용 안함 -> 분류 모델에서만 사용)\n",
        "    if scale:\n",
        "        XF = MinMaxScaler().fit_transform(XF)\n",
        "    xtrain, xtest, ytrain, ytest = train_test_split(XF, YF, \n",
        "                                                    test_size=0.3, \n",
        "                                                    random_state=321)\n",
        "    model.fit(xtrain, ytrain)\n",
        "    A = model.score(xtrain, ytrain)\n",
        "    B = model.score(xtest, ytest)\n",
        "    print(f'{A:.4f} {B:.4f}')\n",
        "    return model"
      ],
      "metadata": {
        "id": "KMiuHF6SXOWW"
      },
      "execution_count": null,
      "outputs": []
    },
    {
      "cell_type": "markdown",
      "source": [
        "### 2-2. Multiple Linear Regression\n",
        "- $y = \\beta_{0} + \\beta_{1} x_{1} + \\beta_{2} x_{2} + ...+ \\epsilon$\n",
        "- 오차(잔차)가 가장 적게 발생하는 계수, 절편 찾기"
      ],
      "metadata": {
        "id": "zkuFJ-OftMhE"
      }
    },
    {
      "cell_type": "code",
      "source": [
        "# [2] outlier가 포함되지 않은 경우, LinearRegression 모델 사용 \n",
        "#Temp = make_sample(1234, 100) \n",
        "Xnormal = X_use[['height', 'weight']]\n",
        "Ynormal = Y['BMI']\n",
        "model = LinearRegression()\n",
        "Model_Train(model, Xnormal, Ynormal)"
      ],
      "metadata": {
        "id": "kMCwFELGlIxs",
        "colab": {
          "base_uri": "https://localhost:8080/"
        },
        "outputId": "6d9d15c9-9307-4ca7-d673-f154f20f7511"
      },
      "execution_count": null,
      "outputs": [
        {
          "output_type": "stream",
          "name": "stdout",
          "text": [
            "0.9931 0.9625\n"
          ]
        },
        {
          "output_type": "execute_result",
          "data": {
            "text/plain": [
              "LinearRegression()"
            ]
          },
          "metadata": {},
          "execution_count": 11
        }
      ]
    },
    {
      "cell_type": "code",
      "source": [
        "# [3] 계수들과 절편 출력해 보기\n",
        "print(model.coef_, model.intercept_)"
      ],
      "metadata": {
        "id": "lgAV1ABKubCs",
        "colab": {
          "base_uri": "https://localhost:8080/"
        },
        "outputId": "47bf8195-f559-41cc-80f4-5f0f61bedd7d"
      },
      "execution_count": null,
      "outputs": [
        {
          "output_type": "stream",
          "name": "stdout",
          "text": [
            "[-0.28008565  0.34383133] 47.629018625993695\n"
          ]
        }
      ]
    },
    {
      "cell_type": "markdown",
      "source": [
        "### 2-3.이상치"
      ],
      "metadata": {
        "id": "t_KZIu579y8i"
      }
    },
    {
      "cell_type": "code",
      "source": [
        "# [4] 이상치를 포함한 데이터 생성 (outlier=0.07 사용)\n",
        "Toutlier = make_sample(1234, 100, outlier=0.07)\n",
        "Xoutlier = Toutlier[['height', 'weight']]\n",
        "Youtlier = Toutlier['BMI']"
      ],
      "metadata": {
        "id": "mPhjVTc2-EVu",
        "colab": {
          "base_uri": "https://localhost:8080/"
        },
        "outputId": "ddaa9dfd-fbd7-43f2-dfd0-529f0e83ad84"
      },
      "execution_count": null,
      "outputs": [
        {
          "output_type": "stream",
          "name": "stdout",
          "text": [
            "[[122.5   25.    16.66]\n",
            " [113.7   29.9   23.13]\n",
            " [127.6    0.9    0.55]\n",
            " [118.3   48.3   34.51]\n",
            " [216.3  154.    32.92]\n",
            " [224.6  164.1   32.53]\n",
            " [224.5   14.     2.78]]\n",
            "(7, 3)\n"
          ]
        }
      ]
    },
    {
      "cell_type": "code",
      "source": [
        "# [5] 이상치가 포함된 경우, LinearRegression 모델 사용\n",
        "model2 = LinearRegression()\n",
        "Model_Train(model2, Xoutlier, Youtlier)"
      ],
      "metadata": {
        "id": "lxZC-Yqy3Mu8",
        "colab": {
          "base_uri": "https://localhost:8080/"
        },
        "outputId": "a227cbd9-3591-40dc-dea6-a1d24222863d"
      },
      "execution_count": null,
      "outputs": [
        {
          "output_type": "stream",
          "name": "stdout",
          "text": [
            "0.9296 0.4557\n"
          ]
        },
        {
          "output_type": "execute_result",
          "data": {
            "text/plain": [
              "LinearRegression()"
            ]
          },
          "metadata": {},
          "execution_count": 15
        }
      ]
    },
    {
      "cell_type": "code",
      "source": [
        "# [6] 그래프 사용하여 이상치 확인\n",
        "import matplotlib.pyplot as plt\n",
        "Xoutlier.plot(kind='box')\n",
        "plt.show()"
      ],
      "metadata": {
        "id": "SaD8PtNX4HRu",
        "colab": {
          "base_uri": "https://localhost:8080/",
          "height": 265
        },
        "outputId": "c80e8f8c-b7db-4278-e8bf-4475d7f10b7b"
      },
      "execution_count": null,
      "outputs": [
        {
          "output_type": "display_data",
          "data": {
            "text/plain": [
              "<Figure size 432x288 with 1 Axes>"
            ],
            "image/png": "[encoded data removed]"
          },
          "metadata": {
            "needs_background": "light"
          }
        }
      ]
    },
    {
      "cell_type": "code",
      "source": [
        "# [7] 각 feature별 Q1, Q3 확인\n",
        "Xoutlier.quantile([0.25, 0.75])"
      ],
      "metadata": {
        "id": "R8Fpqoy85Sow",
        "colab": {
          "base_uri": "https://localhost:8080/",
          "height": 112
        },
        "outputId": "e1c788a6-c7f7-4e3d-9cc6-5180aba151d8"
      },
      "execution_count": null,
      "outputs": [
        {
          "output_type": "execute_result",
          "data": {
            "text/plain": [
              "      height  weight\n",
              "0.25  162.00   52.75\n",
              "0.75  175.85   75.00"
            ],
            "text/html": [
              "\n",
              "  <div id=\"df-44ca0c03-5943-4968-837e-812a9f657972\">\n",
              "    <div class=\"colab-df-container\">\n",
              "      <div>\n",
              "<style scoped>\n",
              "    .dataframe tbody tr th:only-of-type {\n",
              "        vertical-align: middle;\n",
              "    }\n",
              "\n",
              "    .dataframe tbody tr th {\n",
              "        vertical-align: top;\n",
              "    }\n",
              "\n",
              "    .dataframe thead th {\n",
              "        text-align: right;\n",
              "    }\n",
              "</style>\n",
              "<table border=\"1\" class=\"dataframe\">\n",
              "  <thead>\n",
              "    <tr style=\"text-align: right;\">\n",
              "      <th></th>\n",
              "      <th>height</th>\n",
              "      <th>weight</th>\n",
              "    </tr>\n",
              "  </thead>\n",
              "  <tbody>\n",
              "    <tr>\n",
              "      <th>0.25</th>\n",
              "      <td>162.00</td>\n",
              "      <td>52.75</td>\n",
              "    </tr>\n",
              "    <tr>\n",
              "      <th>0.75</th>\n",
              "      <td>175.85</td>\n",
              "      <td>75.00</td>\n",
              "    </tr>\n",
              "  </tbody>\n",
              "</table>\n",
              "</div>\n",
              "      <button class=\"colab-df-convert\" onclick=\"convertToInteractive('df-44ca0c03-5943-4968-837e-812a9f657972')\"\n",
              "              title=\"Convert this dataframe to an interactive table.\"\n",
              "              style=\"display:none;\">\n",
              "        \n",
              "  <svg xmlns=\"http://www.w3.org/2000/svg\" height=\"24px\"viewBox=\"0 0 24 24\"\n",
              "       width=\"24px\">\n",
              "    <path d=\"M0 0h24v24H0V0z\" fill=\"none\"/>\n",
              "    <path d=\"M18.56 5.44l.94 2.06.94-2.06 2.06-.94-2.06-.94-.94-2.06-.94 2.06-2.06.94zm-11 1L8.5 8.5l.94-2.06 2.06-.94-2.06-.94L8.5 2.5l-.94 2.06-2.06.94zm10 10l.94 2.06.94-2.06 2.06-.94-2.06-.94-.94-2.06-.94 2.06-2.06.94z\"/><path d=\"M17.41 7.96l-1.37-1.37c-.4-.4-.92-.59-1.43-.59-.52 0-1.04.2-1.43.59L10.3 9.45l-7.72 7.72c-.78.78-.78 2.05 0 2.83L4 21.41c.39.39.9.59 1.41.59.51 0 1.02-.2 1.41-.59l7.78-7.78 2.81-2.81c.8-.78.8-2.07 0-2.86zM5.41 20L4 18.59l7.72-7.72 1.47 1.35L5.41 20z\"/>\n",
              "  </svg>\n",
              "      </button>\n",
              "      \n",
              "  <style>\n",
              "    .colab-df-container {\n",
              "      display:flex;\n",
              "      flex-wrap:wrap;\n",
              "      gap: 12px;\n",
              "    }\n",
              "\n",
              "    .colab-df-convert {\n",
              "      background-color: #E8F0FE;\n",
              "      border: none;\n",
              "      border-radius: 50%;\n",
              "      cursor: pointer;\n",
              "      display: none;\n",
              "      fill: #1967D2;\n",
              "      height: 32px;\n",
              "      padding: 0 0 0 0;\n",
              "      width: 32px;\n",
              "    }\n",
              "\n",
              "    .colab-df-convert:hover {\n",
              "      background-color: #E2EBFA;\n",
              "      box-shadow: 0px 1px 2px rgba(60, 64, 67, 0.3), 0px 1px 3px 1px rgba(60, 64, 67, 0.15);\n",
              "      fill: #174EA6;\n",
              "    }\n",
              "\n",
              "    [theme=dark] .colab-df-convert {\n",
              "      background-color: #3B4455;\n",
              "      fill: #D2E3FC;\n",
              "    }\n",
              "\n",
              "    [theme=dark] .colab-df-convert:hover {\n",
              "      background-color: #434B5C;\n",
              "      box-shadow: 0px 1px 3px 1px rgba(0, 0, 0, 0.15);\n",
              "      filter: drop-shadow(0px 1px 2px rgba(0, 0, 0, 0.3));\n",
              "      fill: #FFFFFF;\n",
              "    }\n",
              "  </style>\n",
              "\n",
              "      <script>\n",
              "        const buttonEl =\n",
              "          document.querySelector('#df-44ca0c03-5943-4968-837e-812a9f657972 button.colab-df-convert');\n",
              "        buttonEl.style.display =\n",
              "          google.colab.kernel.accessAllowed ? 'block' : 'none';\n",
              "\n",
              "        async function convertToInteractive(key) {\n",
              "          const element = document.querySelector('#df-44ca0c03-5943-4968-837e-812a9f657972');\n",
              "          const dataTable =\n",
              "            await google.colab.kernel.invokeFunction('convertToInteractive',\n",
              "                                                     [key], {});\n",
              "          if (!dataTable) return;\n",
              "\n",
              "          const docLinkHtml = 'Like what you see? Visit the ' +\n",
              "            '<a target=\"_blank\" href=https://colab.research.google.com/notebooks/data_table.ipynb>data table notebook</a>'\n",
              "            + ' to learn more about interactive tables.';\n",
              "          element.innerHTML = '';\n",
              "          dataTable['output_type'] = 'display_data';\n",
              "          await google.colab.output.renderOutput(dataTable, element);\n",
              "          const docLink = document.createElement('div');\n",
              "          docLink.innerHTML = docLinkHtml;\n",
              "          element.appendChild(docLink);\n",
              "        }\n",
              "      </script>\n",
              "    </div>\n",
              "  </div>\n",
              "  "
            ]
          },
          "metadata": {},
          "execution_count": 20
        }
      ]
    },
    {
      "cell_type": "code",
      "source": [
        "# [8] height에 대한 outlier 확인\n",
        "Q1, Q3 = Xoutlier['height'].quantile([0.25, 0.75])\n",
        "IQR = Q3 - Q1\n",
        "lower_h = round(Q1 - IQR*1.5, 3)\n",
        "upper_h = round(Q3 + IQR*1.5, 3)\n",
        "print(lower_h, upper_h)"
      ],
      "metadata": {
        "id": "B-Xzo17O5cXv",
        "colab": {
          "base_uri": "https://localhost:8080/"
        },
        "outputId": "21ea56d9-6373-42e5-9219-b32c88d05e81"
      },
      "execution_count": null,
      "outputs": [
        {
          "output_type": "stream",
          "name": "stdout",
          "text": [
            "141.225 196.625\n"
          ]
        }
      ]
    },
    {
      "cell_type": "code",
      "source": [
        "# [9] weight에 대한 outlier 확인\n",
        "Q1, Q3 = Xoutlier['weight'].quantile([0.25, 0.75])\n",
        "IQR = Q3 - Q1\n",
        "lower_w = round(Q1 - IQR*1.5, 3)\n",
        "upper_w = round(Q3 + IQR*1.5, 3)\n",
        "print(lower_w, upper_w)"
      ],
      "metadata": {
        "id": "bV1jV9FD5yys",
        "colab": {
          "base_uri": "https://localhost:8080/"
        },
        "outputId": "fceb8b2f-9976-4593-a64f-ddd69b73babd"
      },
      "execution_count": null,
      "outputs": [
        {
          "output_type": "stream",
          "name": "stdout",
          "text": [
            "19.375 108.375\n"
          ]
        }
      ]
    },
    {
      "cell_type": "code",
      "source": [
        "# [10] height에 대한 outlier 제거 및 학습\n",
        "height = Xoutlier['height']\n",
        "outlier_h = Xoutlier[(height < lower_h) | (height > upper_h)]\n",
        "#print(outlier_h)\n",
        "Xoutlier_rh = Xoutlier.drop(index=outlier_h.index)\n",
        "Youtlier_rh = Youtlier.drop(index=outlier_h.index)\n",
        "#print(Xoutlier_rh.shape, Youtlier_rh.shape)\n",
        "model3 = LinearRegression()\n",
        "Model_Train(model3, Xoutlier_rh, Youtlier_rh)"
      ],
      "metadata": {
        "id": "CEos-nXC7h1M",
        "colab": {
          "base_uri": "https://localhost:8080/"
        },
        "outputId": "73e5c56f-b1af-4c72-f6be-a5dc5c798604"
      },
      "execution_count": null,
      "outputs": [
        {
          "output_type": "stream",
          "name": "stdout",
          "text": [
            "0.9868 0.9935\n"
          ]
        },
        {
          "output_type": "execute_result",
          "data": {
            "text/plain": [
              "LinearRegression()"
            ]
          },
          "metadata": {},
          "execution_count": 27
        }
      ]
    },
    {
      "cell_type": "code",
      "source": [
        "# [11] weight에 대한 outlier 제거 및 학습\n",
        "weight = Xoutlier['weight']\n",
        "outlier_w = Xoutlier[(weight < lower_w) | (weight > upper_w)]\n",
        "print(outlier_w)\n",
        "Xoutlier_rw = Xoutlier.drop(index=outlier_w.index)\n",
        "Youtlier_rw = Youtlier.drop(index=outlier_w.index)\n",
        "print(Xoutlier_rw.shape, Youtlier_rw.shape)\n",
        "model4 = LinearRegression()\n",
        "Model_Train(model4, Xoutlier_rw, Youtlier_rw)"
      ],
      "metadata": {
        "id": "5cr2eoHi6g3v",
        "colab": {
          "base_uri": "https://localhost:8080/"
        },
        "outputId": "2ffd1a6d-b652-49c0-8186-605aec12a7e7"
      },
      "execution_count": null,
      "outputs": [
        {
          "output_type": "stream",
          "name": "stdout",
          "text": [
            "     height  weight\n",
            "102   127.6     0.9\n",
            "104   216.3   154.0\n",
            "105   224.6   164.1\n",
            "106   224.5    14.0\n",
            "(103, 2) (103,)\n",
            "0.9731 0.9217\n"
          ]
        },
        {
          "output_type": "execute_result",
          "data": {
            "text/plain": [
              "LinearRegression()"
            ]
          },
          "metadata": {},
          "execution_count": 28
        }
      ]
    },
    {
      "cell_type": "markdown",
      "source": [
        "### 2-4.Polynomial Regression\n",
        "- 다항 회귀\n",
        "- 비선형 데이터 집합을 모델링 할 때 사용\n",
        "- 곡선의 다항식 선을 사용함\n",
        "- 과대적합이 나타나기 쉬움\n",
        "- $y = \\beta_{0} + \\beta_{1} x_{1} + \\beta_{2} x_{2} + \\beta_{3} x_{1}^{2} + \\beta_{4} x_{2}^{2} ...+ \\epsilon$\n",
        "- X를 다항식으로 변경하여 모델링의 데이터로 사용함"
      ],
      "metadata": {
        "id": "PDnZReayLSVn"
      }
    },
    {
      "cell_type": "code",
      "source": [
        "# sklearn.preprocessing.PolynomialFeatures(degree=2, *, \n",
        "#               interaction_only=False, include_bias=True, order='C')"
      ],
      "metadata": {
        "id": "lINl7TLyZUTR"
      },
      "execution_count": null,
      "outputs": []
    },
    {
      "cell_type": "code",
      "source": [
        "# [12] PolynomialFeatures 사용하여 2차항이 포함되도록 \n",
        "# Xnormal을 변환 함 (PolynomialFeatures에 poly2, 변환 결과에 Xpoly2 이름 부여)\n",
        "from sklearn.preprocessing import PolynomialFeatures\n",
        "poly2 = PolynomialFeatures(degree=2, include_bias=False) #, interaction_only=True)\n",
        "Xpoly2 = poly2.fit_transform(Xnormal)\n",
        "model = LinearRegression()\n",
        "Model_Train(model, Xpoly2, Ynormal)"
      ],
      "metadata": {
        "id": "Ov4tco4eLgzP",
        "colab": {
          "base_uri": "https://localhost:8080/"
        },
        "outputId": "a078bc86-c7ba-4b35-f84a-05d802e0ae62"
      },
      "execution_count": null,
      "outputs": [
        {
          "output_type": "stream",
          "name": "stdout",
          "text": [
            "1.0000 0.9988\n"
          ]
        },
        {
          "output_type": "execute_result",
          "data": {
            "text/plain": [
              "LinearRegression()"
            ]
          },
          "metadata": {},
          "execution_count": 15
        }
      ]
    },
    {
      "cell_type": "code",
      "source": [
        "# [13] Xpoly2의 shape 확인\n",
        "print(Xnormal.shape, Xpoly2.shape)"
      ],
      "metadata": {
        "colab": {
          "base_uri": "https://localhost:8080/"
        },
        "id": "x_0qvRi2ZHfy",
        "outputId": "ba901116-09db-4009-d9b2-532180c72af9"
      },
      "execution_count": null,
      "outputs": [
        {
          "output_type": "stream",
          "name": "stdout",
          "text": [
            "(100, 2) (100, 5)\n"
          ]
        }
      ]
    },
    {
      "cell_type": "code",
      "source": [
        "# [14] poly2의 feature_names 확인\n",
        "poly2.get_feature_names_out()"
      ],
      "metadata": {
        "colab": {
          "base_uri": "https://localhost:8080/"
        },
        "id": "_sbLVWJJZKc7",
        "outputId": "ddbb42a8-1314-4776-e2e8-ea16c32b43d1"
      },
      "execution_count": null,
      "outputs": [
        {
          "output_type": "execute_result",
          "data": {
            "text/plain": [
              "array(['height', 'weight', 'height^2', 'height weight', 'weight^2'],\n",
              "      dtype=object)"
            ]
          },
          "metadata": {},
          "execution_count": 17
        }
      ]
    },
    {
      "cell_type": "code",
      "source": [
        "# [15] Xpoly2의 상관계수 확인 \n",
        "pd.DataFrame(Xpoly2).corr()"
      ],
      "metadata": {
        "colab": {
          "base_uri": "https://localhost:8080/",
          "height": 206
        },
        "id": "KuvYv-_Zmc_l",
        "outputId": "99d64095-b837-4770-edde-0e2074367c28"
      },
      "execution_count": null,
      "outputs": [
        {
          "output_type": "execute_result",
          "data": {
            "text/html": [
              "\n",
              "  <div id=\"df-70ec9e4c-4001-488f-8f9c-5a271544cc23\">\n",
              "    <div class=\"colab-df-container\">\n",
              "      <div>\n",
              "<style scoped>\n",
              "    .dataframe tbody tr th:only-of-type {\n",
              "        vertical-align: middle;\n",
              "    }\n",
              "\n",
              "    .dataframe tbody tr th {\n",
              "        vertical-align: top;\n",
              "    }\n",
              "\n",
              "    .dataframe thead th {\n",
              "        text-align: right;\n",
              "    }\n",
              "</style>\n",
              "<table border=\"1\" class=\"dataframe\">\n",
              "  <thead>\n",
              "    <tr style=\"text-align: right;\">\n",
              "      <th></th>\n",
              "      <th>0</th>\n",
              "      <th>1</th>\n",
              "      <th>2</th>\n",
              "      <th>3</th>\n",
              "      <th>4</th>\n",
              "    </tr>\n",
              "  </thead>\n",
              "  <tbody>\n",
              "    <tr>\n",
              "      <th>0</th>\n",
              "      <td>1.000000</td>\n",
              "      <td>0.604015</td>\n",
              "      <td>0.999526</td>\n",
              "      <td>0.715850</td>\n",
              "      <td>0.602221</td>\n",
              "    </tr>\n",
              "    <tr>\n",
              "      <th>1</th>\n",
              "      <td>0.604015</td>\n",
              "      <td>1.000000</td>\n",
              "      <td>0.605356</td>\n",
              "      <td>0.987694</td>\n",
              "      <td>0.992038</td>\n",
              "    </tr>\n",
              "    <tr>\n",
              "      <th>2</th>\n",
              "      <td>0.999526</td>\n",
              "      <td>0.605356</td>\n",
              "      <td>1.000000</td>\n",
              "      <td>0.717912</td>\n",
              "      <td>0.605105</td>\n",
              "    </tr>\n",
              "    <tr>\n",
              "      <th>3</th>\n",
              "      <td>0.715850</td>\n",
              "      <td>0.987694</td>\n",
              "      <td>0.717912</td>\n",
              "      <td>1.000000</td>\n",
              "      <td>0.984456</td>\n",
              "    </tr>\n",
              "    <tr>\n",
              "      <th>4</th>\n",
              "      <td>0.602221</td>\n",
              "      <td>0.992038</td>\n",
              "      <td>0.605105</td>\n",
              "      <td>0.984456</td>\n",
              "      <td>1.000000</td>\n",
              "    </tr>\n",
              "  </tbody>\n",
              "</table>\n",
              "</div>\n",
              "      <button class=\"colab-df-convert\" onclick=\"convertToInteractive('df-70ec9e4c-4001-488f-8f9c-5a271544cc23')\"\n",
              "              title=\"Convert this dataframe to an interactive table.\"\n",
              "              style=\"display:none;\">\n",
              "        \n",
              "  <svg xmlns=\"http://www.w3.org/2000/svg\" height=\"24px\"viewBox=\"0 0 24 24\"\n",
              "       width=\"24px\">\n",
              "    <path d=\"M0 0h24v24H0V0z\" fill=\"none\"/>\n",
              "    <path d=\"M18.56 5.44l.94 2.06.94-2.06 2.06-.94-2.06-.94-.94-2.06-.94 2.06-2.06.94zm-11 1L8.5 8.5l.94-2.06 2.06-.94-2.06-.94L8.5 2.5l-.94 2.06-2.06.94zm10 10l.94 2.06.94-2.06 2.06-.94-2.06-.94-.94-2.06-.94 2.06-2.06.94z\"/><path d=\"M17.41 7.96l-1.37-1.37c-.4-.4-.92-.59-1.43-.59-.52 0-1.04.2-1.43.59L10.3 9.45l-7.72 7.72c-.78.78-.78 2.05 0 2.83L4 21.41c.39.39.9.59 1.41.59.51 0 1.02-.2 1.41-.59l7.78-7.78 2.81-2.81c.8-.78.8-2.07 0-2.86zM5.41 20L4 18.59l7.72-7.72 1.47 1.35L5.41 20z\"/>\n",
              "  </svg>\n",
              "      </button>\n",
              "      \n",
              "  <style>\n",
              "    .colab-df-container {\n",
              "      display:flex;\n",
              "      flex-wrap:wrap;\n",
              "      gap: 12px;\n",
              "    }\n",
              "\n",
              "    .colab-df-convert {\n",
              "      background-color: #E8F0FE;\n",
              "      border: none;\n",
              "      border-radius: 50%;\n",
              "      cursor: pointer;\n",
              "      display: none;\n",
              "      fill: #1967D2;\n",
              "      height: 32px;\n",
              "      padding: 0 0 0 0;\n",
              "      width: 32px;\n",
              "    }\n",
              "\n",
              "    .colab-df-convert:hover {\n",
              "      background-color: #E2EBFA;\n",
              "      box-shadow: 0px 1px 2px rgba(60, 64, 67, 0.3), 0px 1px 3px 1px rgba(60, 64, 67, 0.15);\n",
              "      fill: #174EA6;\n",
              "    }\n",
              "\n",
              "    [theme=dark] .colab-df-convert {\n",
              "      background-color: #3B4455;\n",
              "      fill: #D2E3FC;\n",
              "    }\n",
              "\n",
              "    [theme=dark] .colab-df-convert:hover {\n",
              "      background-color: #434B5C;\n",
              "      box-shadow: 0px 1px 3px 1px rgba(0, 0, 0, 0.15);\n",
              "      filter: drop-shadow(0px 1px 2px rgba(0, 0, 0, 0.3));\n",
              "      fill: #FFFFFF;\n",
              "    }\n",
              "  </style>\n",
              "\n",
              "      <script>\n",
              "        const buttonEl =\n",
              "          document.querySelector('#df-70ec9e4c-4001-488f-8f9c-5a271544cc23 button.colab-df-convert');\n",
              "        buttonEl.style.display =\n",
              "          google.colab.kernel.accessAllowed ? 'block' : 'none';\n",
              "\n",
              "        async function convertToInteractive(key) {\n",
              "          const element = document.querySelector('#df-70ec9e4c-4001-488f-8f9c-5a271544cc23');\n",
              "          const dataTable =\n",
              "            await google.colab.kernel.invokeFunction('convertToInteractive',\n",
              "                                                     [key], {});\n",
              "          if (!dataTable) return;\n",
              "\n",
              "          const docLinkHtml = 'Like what you see? Visit the ' +\n",
              "            '<a target=\"_blank\" href=https://colab.research.google.com/notebooks/data_table.ipynb>data table notebook</a>'\n",
              "            + ' to learn more about interactive tables.';\n",
              "          element.innerHTML = '';\n",
              "          dataTable['output_type'] = 'display_data';\n",
              "          await google.colab.output.renderOutput(dataTable, element);\n",
              "          const docLink = document.createElement('div');\n",
              "          docLink.innerHTML = docLinkHtml;\n",
              "          element.appendChild(docLink);\n",
              "        }\n",
              "      </script>\n",
              "    </div>\n",
              "  </div>\n",
              "  "
            ],
            "text/plain": [
              "          0         1         2         3         4\n",
              "0  1.000000  0.604015  0.999526  0.715850  0.602221\n",
              "1  0.604015  1.000000  0.605356  0.987694  0.992038\n",
              "2  0.999526  0.605356  1.000000  0.717912  0.605105\n",
              "3  0.715850  0.987694  0.717912  1.000000  0.984456\n",
              "4  0.602221  0.992038  0.605105  0.984456  1.000000"
            ]
          },
          "metadata": {},
          "execution_count": 18
        }
      ]
    },
    {
      "cell_type": "code",
      "source": [
        "Xpoly2[:5]"
      ],
      "metadata": {
        "colab": {
          "base_uri": "https://localhost:8080/"
        },
        "id": "oQgvrRSO722Y",
        "outputId": "a9010221-0421-4910-8294-bc323c802d54"
      },
      "execution_count": null,
      "outputs": [
        {
          "output_type": "execute_result",
          "data": {
            "text/plain": [
              "array([[  163.1 ,    71.3 , 26601.61, 11629.03,  5083.69],\n",
              "       [  175.1 ,    85.5 , 30660.01, 14971.05,  7310.25],\n",
              "       [  174.  ,    78.  , 30276.  , 13572.  ,  6084.  ],\n",
              "       [  171.2 ,    73.1 , 29309.44, 12514.72,  5343.61],\n",
              "       [  160.2 ,    57.4 , 25664.04,  9195.48,  3294.76]])"
            ]
          },
          "metadata": {},
          "execution_count": 182
        }
      ]
    },
    {
      "cell_type": "code",
      "source": [
        "# [16] PolynomialFeatures 사용하여 3차항이 포함되도록\n",
        "# Xnormal을 변환 함 (PolynomialFeatures에 poly3, 변환 결과에 Xpoly3 이름 부여)\n",
        "poly3 = PolynomialFeatures(degree=3, include_bias=False) #, interaction_only=True)\n",
        "Xpoly3 = poly3.fit_transform(Xnormal)\n",
        "model = LinearRegression()\n",
        "Model_Train(model, Xpoly3, Ynormal)"
      ],
      "metadata": {
        "colab": {
          "base_uri": "https://localhost:8080/"
        },
        "id": "6Plr4Sl6Vwbq",
        "outputId": "df85a930-7a05-4d6d-b749-e2a27ce08508"
      },
      "execution_count": null,
      "outputs": [
        {
          "output_type": "stream",
          "name": "stdout",
          "text": [
            "1.0000 1.0000\n"
          ]
        },
        {
          "output_type": "execute_result",
          "data": {
            "text/plain": [
              "LinearRegression()"
            ]
          },
          "metadata": {},
          "execution_count": 19
        }
      ]
    },
    {
      "cell_type": "code",
      "source": [
        "# [17] Xpoly3의 shape 확인\n",
        "print(Xpoly3.shape)"
      ],
      "metadata": {
        "colab": {
          "base_uri": "https://localhost:8080/"
        },
        "id": "7oeTGAnaY7_J",
        "outputId": "ee405636-fd92-4079-8dd5-52a859128ff3"
      },
      "execution_count": null,
      "outputs": [
        {
          "output_type": "stream",
          "name": "stdout",
          "text": [
            "(100, 9)\n"
          ]
        }
      ]
    },
    {
      "cell_type": "code",
      "source": [
        "# [18] poly3의 shape 확인\n",
        "poly3.get_feature_names_out()"
      ],
      "metadata": {
        "colab": {
          "base_uri": "https://localhost:8080/"
        },
        "id": "KY0x7BMLbrbs",
        "outputId": "736579a8-0e7b-4dfb-ad3a-97ee9349b874"
      },
      "execution_count": null,
      "outputs": [
        {
          "output_type": "execute_result",
          "data": {
            "text/plain": [
              "array(['height', 'weight', 'height^2', 'height weight', 'weight^2',\n",
              "       'height^3', 'height^2 weight', 'height weight^2', 'weight^3'],\n",
              "      dtype=object)"
            ]
          },
          "metadata": {},
          "execution_count": 21
        }
      ]
    },
    {
      "cell_type": "code",
      "source": [
        "Xpoly3[:5]"
      ],
      "metadata": {
        "colab": {
          "base_uri": "https://localhost:8080/"
        },
        "id": "hMm0uQzQ9rm_",
        "outputId": "e4d906ac-c2e0-48e2-e983-a099f2c8f31b"
      },
      "execution_count": null,
      "outputs": [
        {
          "output_type": "execute_result",
          "data": {
            "text/plain": [
              "array([[1.63100000e+02, 7.13000000e+01, 2.66016100e+04, 1.16290300e+04,\n",
              "        5.08369000e+03, 4.33872259e+06, 1.89669479e+06, 8.29149839e+05,\n",
              "        3.62467097e+05],\n",
              "       [1.75100000e+02, 8.55000000e+01, 3.06600100e+04, 1.49710500e+04,\n",
              "        7.31025000e+03, 5.36856775e+06, 2.62143085e+06, 1.28002477e+06,\n",
              "        6.25026375e+05],\n",
              "       [1.74000000e+02, 7.80000000e+01, 3.02760000e+04, 1.35720000e+04,\n",
              "        6.08400000e+03, 5.26802400e+06, 2.36152800e+06, 1.05861600e+06,\n",
              "        4.74552000e+05],\n",
              "       [1.71200000e+02, 7.31000000e+01, 2.93094400e+04, 1.25147200e+04,\n",
              "        5.34361000e+03, 5.01777613e+06, 2.14252006e+06, 9.14826032e+05,\n",
              "        3.90617891e+05],\n",
              "       [1.60200000e+02, 5.74000000e+01, 2.56640400e+04, 9.19548000e+03,\n",
              "        3.29476000e+03, 4.11137921e+06, 1.47311590e+06, 5.27820552e+05,\n",
              "        1.89119224e+05]])"
            ]
          },
          "metadata": {},
          "execution_count": 183
        }
      ]
    },
    {
      "cell_type": "markdown",
      "source": [
        "### 2-5.Ridge Regression\n",
        "- sklearn.linear_model.Ridge(alpha=1.0, *, fit_intercept=True, normalize='deprecated', copy_X=True, max_iter=None, tol=0.001, solver='auto', positive=False, random_state=None)\n",
        "- coef(회귀계수)가 작아지지만 0이 되지는 않음"
      ],
      "metadata": {
        "id": "VGzRXeVWdTk-"
      }
    },
    {
      "cell_type": "code",
      "source": [
        "# alpha=0 : 규제를 주지 않음\n",
        "# alpha 값이 크다는 것은 규제를 크게 주겠다는 것을 의미 => coef_ 값들이 작아짐"
      ],
      "metadata": {
        "id": "ZrkTNOuIHx5g"
      },
      "execution_count": null,
      "outputs": []
    },
    {
      "cell_type": "code",
      "source": [
        "# [19] PolynomialFeatures degree=3과 Ridge를 사용한 모델링\n",
        "# 권장 순서\n",
        "# X -> Xscaled -> Xpoly -> fit()\n",
        "\n",
        "from sklearn.linear_model import Ridge\n",
        "Xscaled = MinMaxScaler().fit_transform(Xnormal)\n",
        "poly3 = PolynomialFeatures(degree=3, include_bias=False) #, interaction_only=True)\n",
        "Xpoly3 = poly3.fit_transform(Xscaled)\n",
        "ridge_coef = pd.DataFrame()\n",
        "for a in [0, 0.001, 0.1, 1, 10]:\n",
        "    print(f'alpha={a:7.4f}', end='  ')\n",
        "    model = Ridge(alpha=a, random_state=0)    \n",
        "    Model_Train(model, Xpoly3, Ynormal)\n",
        "    ridge_coef[f'alpha_{a}'] = model.coef_"
      ],
      "metadata": {
        "colab": {
          "base_uri": "https://localhost:8080/"
        },
        "id": "0gQME2RMdXre",
        "outputId": "f9a70855-74d5-49f0-f428-a17354bd7ef3"
      },
      "execution_count": null,
      "outputs": [
        {
          "output_type": "stream",
          "name": "stdout",
          "text": [
            "alpha= 0.0000  1.0000 1.0000\n",
            "alpha= 0.0010  0.9999 0.9977\n",
            "alpha= 0.1000  0.9890 0.9754\n",
            "alpha= 1.0000  0.9108 0.9137\n",
            "alpha=10.0000  0.5942 0.5457\n"
          ]
        }
      ]
    },
    {
      "cell_type": "code",
      "source": [
        "'''\n",
        "alpha= 0.0000  1.0000 1.0000\n",
        "alpha= 0.0010  0.9994 0.9962\n",
        "alpha= 0.1000  0.9874 0.9499\n",
        "alpha= 1.0000  0.9480 0.9279\n",
        "alpha=10.0000  0.6938 0.6471\n",
        "'''"
      ],
      "metadata": {
        "id": "EfNYYh4rohvC"
      },
      "execution_count": null,
      "outputs": []
    },
    {
      "cell_type": "code",
      "source": [
        "# [20] ridge_coef 출력하여 회귀계수 확인\n",
        "ridge_coef"
      ],
      "metadata": {
        "colab": {
          "base_uri": "https://localhost:8080/",
          "height": 331
        },
        "id": "m9PYo-9nebFI",
        "outputId": "220d3a8a-9c60-4c82-8034-77d93314253e"
      },
      "execution_count": null,
      "outputs": [
        {
          "output_type": "execute_result",
          "data": {
            "text/html": [
              "\n",
              "  <div id=\"df-f1ee292e-471a-4eb4-8e59-ead025461364\">\n",
              "    <div class=\"colab-df-container\">\n",
              "      <div>\n",
              "<style scoped>\n",
              "    .dataframe tbody tr th:only-of-type {\n",
              "        vertical-align: middle;\n",
              "    }\n",
              "\n",
              "    .dataframe tbody tr th {\n",
              "        vertical-align: top;\n",
              "    }\n",
              "\n",
              "    .dataframe thead th {\n",
              "        text-align: right;\n",
              "    }\n",
              "</style>\n",
              "<table border=\"1\" class=\"dataframe\">\n",
              "  <thead>\n",
              "    <tr style=\"text-align: right;\">\n",
              "      <th></th>\n",
              "      <th>alpha_0</th>\n",
              "      <th>alpha_0.001</th>\n",
              "      <th>alpha_0.1</th>\n",
              "      <th>alpha_1</th>\n",
              "      <th>alpha_10</th>\n",
              "    </tr>\n",
              "  </thead>\n",
              "  <tbody>\n",
              "    <tr>\n",
              "      <th>0</th>\n",
              "      <td>-73.109478</td>\n",
              "      <td>-14.770202</td>\n",
              "      <td>-4.350133</td>\n",
              "      <td>-3.449517</td>\n",
              "      <td>-0.663046</td>\n",
              "    </tr>\n",
              "    <tr>\n",
              "      <th>1</th>\n",
              "      <td>131.354160</td>\n",
              "      <td>31.716423</td>\n",
              "      <td>11.090243</td>\n",
              "      <td>5.414167</td>\n",
              "      <td>2.308375</td>\n",
              "    </tr>\n",
              "    <tr>\n",
              "      <th>2</th>\n",
              "      <td>141.656039</td>\n",
              "      <td>-2.088447</td>\n",
              "      <td>-4.659543</td>\n",
              "      <td>-3.527552</td>\n",
              "      <td>-0.664110</td>\n",
              "    </tr>\n",
              "    <tr>\n",
              "      <th>3</th>\n",
              "      <td>-209.987752</td>\n",
              "      <td>1.363581</td>\n",
              "      <td>6.050911</td>\n",
              "      <td>3.443241</td>\n",
              "      <td>1.758562</td>\n",
              "    </tr>\n",
              "    <tr>\n",
              "      <th>4</th>\n",
              "      <td>0.799485</td>\n",
              "      <td>11.453945</td>\n",
              "      <td>4.517197</td>\n",
              "      <td>4.032551</td>\n",
              "      <td>2.143902</td>\n",
              "    </tr>\n",
              "    <tr>\n",
              "      <th>5</th>\n",
              "      <td>-69.080548</td>\n",
              "      <td>10.829774</td>\n",
              "      <td>-4.981092</td>\n",
              "      <td>-3.595744</td>\n",
              "      <td>-0.662633</td>\n",
              "    </tr>\n",
              "    <tr>\n",
              "      <th>6</th>\n",
              "      <td>94.806642</td>\n",
              "      <td>-14.604358</td>\n",
              "      <td>2.300521</td>\n",
              "      <td>1.985839</td>\n",
              "      <td>1.335582</td>\n",
              "    </tr>\n",
              "    <tr>\n",
              "      <th>7</th>\n",
              "      <td>-1.086255</td>\n",
              "      <td>-11.450236</td>\n",
              "      <td>1.205406</td>\n",
              "      <td>3.002338</td>\n",
              "      <td>1.903592</td>\n",
              "    </tr>\n",
              "    <tr>\n",
              "      <th>8</th>\n",
              "      <td>0.109442</td>\n",
              "      <td>-1.314782</td>\n",
              "      <td>-1.817746</td>\n",
              "      <td>2.610686</td>\n",
              "      <td>1.922268</td>\n",
              "    </tr>\n",
              "  </tbody>\n",
              "</table>\n",
              "</div>\n",
              "      <button class=\"colab-df-convert\" onclick=\"convertToInteractive('df-f1ee292e-471a-4eb4-8e59-ead025461364')\"\n",
              "              title=\"Convert this dataframe to an interactive table.\"\n",
              "              style=\"display:none;\">\n",
              "        \n",
              "  <svg xmlns=\"http://www.w3.org/2000/svg\" height=\"24px\"viewBox=\"0 0 24 24\"\n",
              "       width=\"24px\">\n",
              "    <path d=\"M0 0h24v24H0V0z\" fill=\"none\"/>\n",
              "    <path d=\"M18.56 5.44l.94 2.06.94-2.06 2.06-.94-2.06-.94-.94-2.06-.94 2.06-2.06.94zm-11 1L8.5 8.5l.94-2.06 2.06-.94-2.06-.94L8.5 2.5l-.94 2.06-2.06.94zm10 10l.94 2.06.94-2.06 2.06-.94-2.06-.94-.94-2.06-.94 2.06-2.06.94z\"/><path d=\"M17.41 7.96l-1.37-1.37c-.4-.4-.92-.59-1.43-.59-.52 0-1.04.2-1.43.59L10.3 9.45l-7.72 7.72c-.78.78-.78 2.05 0 2.83L4 21.41c.39.39.9.59 1.41.59.51 0 1.02-.2 1.41-.59l7.78-7.78 2.81-2.81c.8-.78.8-2.07 0-2.86zM5.41 20L4 18.59l7.72-7.72 1.47 1.35L5.41 20z\"/>\n",
              "  </svg>\n",
              "      </button>\n",
              "      \n",
              "  <style>\n",
              "    .colab-df-container {\n",
              "      display:flex;\n",
              "      flex-wrap:wrap;\n",
              "      gap: 12px;\n",
              "    }\n",
              "\n",
              "    .colab-df-convert {\n",
              "      background-color: #E8F0FE;\n",
              "      border: none;\n",
              "      border-radius: 50%;\n",
              "      cursor: pointer;\n",
              "      display: none;\n",
              "      fill: #1967D2;\n",
              "      height: 32px;\n",
              "      padding: 0 0 0 0;\n",
              "      width: 32px;\n",
              "    }\n",
              "\n",
              "    .colab-df-convert:hover {\n",
              "      background-color: #E2EBFA;\n",
              "      box-shadow: 0px 1px 2px rgba(60, 64, 67, 0.3), 0px 1px 3px 1px rgba(60, 64, 67, 0.15);\n",
              "      fill: #174EA6;\n",
              "    }\n",
              "\n",
              "    [theme=dark] .colab-df-convert {\n",
              "      background-color: #3B4455;\n",
              "      fill: #D2E3FC;\n",
              "    }\n",
              "\n",
              "    [theme=dark] .colab-df-convert:hover {\n",
              "      background-color: #434B5C;\n",
              "      box-shadow: 0px 1px 3px 1px rgba(0, 0, 0, 0.15);\n",
              "      filter: drop-shadow(0px 1px 2px rgba(0, 0, 0, 0.3));\n",
              "      fill: #FFFFFF;\n",
              "    }\n",
              "  </style>\n",
              "\n",
              "      <script>\n",
              "        const buttonEl =\n",
              "          document.querySelector('#df-f1ee292e-471a-4eb4-8e59-ead025461364 button.colab-df-convert');\n",
              "        buttonEl.style.display =\n",
              "          google.colab.kernel.accessAllowed ? 'block' : 'none';\n",
              "\n",
              "        async function convertToInteractive(key) {\n",
              "          const element = document.querySelector('#df-f1ee292e-471a-4eb4-8e59-ead025461364');\n",
              "          const dataTable =\n",
              "            await google.colab.kernel.invokeFunction('convertToInteractive',\n",
              "                                                     [key], {});\n",
              "          if (!dataTable) return;\n",
              "\n",
              "          const docLinkHtml = 'Like what you see? Visit the ' +\n",
              "            '<a target=\"_blank\" href=https://colab.research.google.com/notebooks/data_table.ipynb>data table notebook</a>'\n",
              "            + ' to learn more about interactive tables.';\n",
              "          element.innerHTML = '';\n",
              "          dataTable['output_type'] = 'display_data';\n",
              "          await google.colab.output.renderOutput(dataTable, element);\n",
              "          const docLink = document.createElement('div');\n",
              "          docLink.innerHTML = docLinkHtml;\n",
              "          element.appendChild(docLink);\n",
              "        }\n",
              "      </script>\n",
              "    </div>\n",
              "  </div>\n",
              "  "
            ],
            "text/plain": [
              "      alpha_0  alpha_0.001  alpha_0.1   alpha_1  alpha_10\n",
              "0  -73.109478   -14.770202  -4.350133 -3.449517 -0.663046\n",
              "1  131.354160    31.716423  11.090243  5.414167  2.308375\n",
              "2  141.656039    -2.088447  -4.659543 -3.527552 -0.664110\n",
              "3 -209.987752     1.363581   6.050911  3.443241  1.758562\n",
              "4    0.799485    11.453945   4.517197  4.032551  2.143902\n",
              "5  -69.080548    10.829774  -4.981092 -3.595744 -0.662633\n",
              "6   94.806642   -14.604358   2.300521  1.985839  1.335582\n",
              "7   -1.086255   -11.450236   1.205406  3.002338  1.903592\n",
              "8    0.109442    -1.314782  -1.817746  2.610686  1.922268"
            ]
          },
          "metadata": {},
          "execution_count": 23
        }
      ]
    },
    {
      "cell_type": "code",
      "source": [
        "ridge_coef.abs().sum()"
      ],
      "metadata": {
        "colab": {
          "base_uri": "https://localhost:8080/"
        },
        "id": "fB3jGoVWMPiL",
        "outputId": "f191419a-7041-474d-83ee-75de11c6161e"
      },
      "execution_count": null,
      "outputs": [
        {
          "output_type": "execute_result",
          "data": {
            "text/plain": [
              "alpha_0        721.989800\n",
              "alpha_0.001     99.591749\n",
              "alpha_0.1       40.972792\n",
              "alpha_1         31.061635\n",
              "alpha_10        13.362070\n",
              "dtype: float64"
            ]
          },
          "metadata": {},
          "execution_count": 24
        }
      ]
    },
    {
      "cell_type": "markdown",
      "source": [
        "### 2-6.Lasso Regression\n",
        "- sklearn.linear_model.Lasso(alpha=1.0, *, fit_intercept=True, normalize='deprecated', precompute=False, copy_X=True, max_iter=1000, tol=0.0001, warm_start=False, positive=False, random_state=None, selection='cyclic')\n",
        "- 규제강도가 커지면 회귀계수가 작아지고 0도 될 수 있다"
      ],
      "metadata": {
        "id": "9Rs-KNSBmN5V"
      }
    },
    {
      "cell_type": "code",
      "source": [
        "# 권장 순서\n",
        "# X -> Xscaled -> Xpoly -> fit()\n",
        "tX = pd.DataFrame({'A': [1, 10, 100, 1000, 10000, 100000]})\n",
        "tS = MinMaxScaler().fit_transform(tX)  # ndarray\n",
        "t4 = tS ** 4\n",
        "t4"
      ],
      "metadata": {
        "colab": {
          "base_uri": "https://localhost:8080/"
        },
        "id": "twisGQM3nyy9",
        "outputId": "1f2571e2-28df-46d2-e3e9-f332056b286f"
      },
      "execution_count": null,
      "outputs": [
        {
          "output_type": "execute_result",
          "data": {
            "text/plain": [
              "array([[0.00000000e+00],\n",
              "       [6.56126245e-17],\n",
              "       [9.60634435e-13],\n",
              "       [9.96045837e-09],\n",
              "       [9.99640045e-05],\n",
              "       [1.00000000e+00]])"
            ]
          },
          "metadata": {},
          "execution_count": 85
        }
      ]
    },
    {
      "cell_type": "code",
      "source": [
        "# 비권장 순서\n",
        "# X -> Xpoly -> Xscaled -> fit()\n",
        "tX = pd.DataFrame({'A': [1, 10, 100, 1000, 10000, 100000]})\n",
        "t4 = tX ** 4\n",
        "t4['A']"
      ],
      "metadata": {
        "colab": {
          "base_uri": "https://localhost:8080/"
        },
        "id": "NjEFaf0kmtQt",
        "outputId": "f7a960a6-39af-4e43-b4b7-d86470b7f9dd"
      },
      "execution_count": null,
      "outputs": [
        {
          "output_type": "execute_result",
          "data": {
            "text/plain": [
              "0                      1\n",
              "1                  10000\n",
              "2              100000000\n",
              "3          1000000000000\n",
              "4      10000000000000000\n",
              "5    7766279631452241920\n",
              "Name: A, dtype: int64"
            ]
          },
          "metadata": {},
          "execution_count": 80
        }
      ]
    },
    {
      "cell_type": "code",
      "source": [
        "A = 1e20\n",
        "type(A)"
      ],
      "metadata": {
        "colab": {
          "base_uri": "https://localhost:8080/"
        },
        "id": "vXFG5tkhnkUx",
        "outputId": "5cb97594-ef9d-4457-d406-3b655dd5fdfd"
      },
      "execution_count": null,
      "outputs": [
        {
          "output_type": "execute_result",
          "data": {
            "text/plain": [
              "float"
            ]
          },
          "metadata": {},
          "execution_count": 83
        }
      ]
    },
    {
      "cell_type": "code",
      "source": [
        "# int64\n",
        "-2**63, 2**63-1   # 9223372036854775807"
      ],
      "metadata": {
        "colab": {
          "base_uri": "https://localhost:8080/"
        },
        "id": "VbcPiwtfnP3D",
        "outputId": "1ba4a08e-b9d3-47d4-e02d-33745a214a0b"
      },
      "execution_count": null,
      "outputs": [
        {
          "output_type": "execute_result",
          "data": {
            "text/plain": [
              "(-9223372036854775808, 9223372036854775807)"
            ]
          },
          "metadata": {},
          "execution_count": 81
        }
      ]
    },
    {
      "cell_type": "code",
      "source": [
        "# [21] degree=3과 Lasso를 사용한 모델링\n",
        "# 권장 순서\n",
        "# X -> Xscaled -> Xpoly -> fit()\n",
        "from sklearn.linear_model import Lasso\n",
        "Xscaled = MinMaxScaler().fit_transform(Xnormal)\n",
        "poly3 = PolynomialFeatures(degree=3, include_bias=False) #, interaction_only=True)\n",
        "Xpoly3 = poly3.fit_transform(Xscaled)\n",
        "lasso_coef = pd.DataFrame()\n",
        "for a in [0.0001, 0.001, 0.1, 0.2, 0.3]:\n",
        "    print(f'alpha={a:7.4f}', end='  ')\n",
        "    model = Lasso(alpha=a, max_iter=1000, tol=0.001, random_state=0)    \n",
        "    Model_Train(model, Xpoly3, Ynormal)\n",
        "    lasso_coef[f'alpha_{a}'] = model.coef_"
      ],
      "metadata": {
        "colab": {
          "base_uri": "https://localhost:8080/"
        },
        "id": "vgVW5zTNcuNV",
        "outputId": "a1281c84-9c1e-43c3-9ec9-8c00a6eb3369"
      },
      "execution_count": null,
      "outputs": [
        {
          "output_type": "stream",
          "name": "stdout",
          "text": [
            "alpha= 0.0001  0.9998 0.9985\n",
            "alpha= 0.0010  0.9994 0.9986\n",
            "alpha= 0.1000  0.9253 0.9262\n",
            "alpha= 0.2000  0.7656 0.6763\n",
            "alpha= 0.3000  0.7096 0.6361\n"
          ]
        }
      ]
    },
    {
      "cell_type": "code",
      "source": [
        "'''\n",
        "alpha= 0.0001  0.9979 0.9938\n",
        "alpha= 0.0010  0.9964 0.9851\n",
        "alpha= 0.1000  0.9246 0.9180\n",
        "alpha= 0.2000  0.7656 0.6763\n",
        "alpha= 0.3000  0.7096 0.6361\n",
        "'''"
      ],
      "metadata": {
        "id": "GWDDkwPBoP7S"
      },
      "execution_count": null,
      "outputs": []
    },
    {
      "cell_type": "code",
      "source": [
        "# [22] lasso_coef 출력하여 회귀계수 확인\n",
        "lasso_coef"
      ],
      "metadata": {
        "colab": {
          "base_uri": "https://localhost:8080/",
          "height": 331
        },
        "id": "GU-S6_NxgJD-",
        "outputId": "fae08eb8-f90f-4168-f2d3-1f0b105106ad"
      },
      "execution_count": null,
      "outputs": [
        {
          "output_type": "execute_result",
          "data": {
            "text/html": [
              "\n",
              "  <div id=\"df-f8766e72-8146-44d5-b374-d523e368c6c1\">\n",
              "    <div class=\"colab-df-container\">\n",
              "      <div>\n",
              "<style scoped>\n",
              "    .dataframe tbody tr th:only-of-type {\n",
              "        vertical-align: middle;\n",
              "    }\n",
              "\n",
              "    .dataframe tbody tr th {\n",
              "        vertical-align: top;\n",
              "    }\n",
              "\n",
              "    .dataframe thead th {\n",
              "        text-align: right;\n",
              "    }\n",
              "</style>\n",
              "<table border=\"1\" class=\"dataframe\">\n",
              "  <thead>\n",
              "    <tr style=\"text-align: right;\">\n",
              "      <th></th>\n",
              "      <th>alpha_0.0001</th>\n",
              "      <th>alpha_0.001</th>\n",
              "      <th>alpha_0.1</th>\n",
              "      <th>alpha_0.2</th>\n",
              "      <th>alpha_0.3</th>\n",
              "    </tr>\n",
              "  </thead>\n",
              "  <tbody>\n",
              "    <tr>\n",
              "      <th>0</th>\n",
              "      <td>4.805105</td>\n",
              "      <td>-0.000000</td>\n",
              "      <td>-0.000000</td>\n",
              "      <td>-0.000000</td>\n",
              "      <td>-0.000000</td>\n",
              "    </tr>\n",
              "    <tr>\n",
              "      <th>1</th>\n",
              "      <td>33.607995</td>\n",
              "      <td>26.482969</td>\n",
              "      <td>17.107670</td>\n",
              "      <td>12.632765</td>\n",
              "      <td>10.690377</td>\n",
              "    </tr>\n",
              "    <tr>\n",
              "      <th>2</th>\n",
              "      <td>-17.123098</td>\n",
              "      <td>-11.091911</td>\n",
              "      <td>-0.000000</td>\n",
              "      <td>-0.000000</td>\n",
              "      <td>-0.000000</td>\n",
              "    </tr>\n",
              "    <tr>\n",
              "      <th>3</th>\n",
              "      <td>-2.296627</td>\n",
              "      <td>-0.160488</td>\n",
              "      <td>0.000000</td>\n",
              "      <td>0.000000</td>\n",
              "      <td>0.000000</td>\n",
              "    </tr>\n",
              "    <tr>\n",
              "      <th>4</th>\n",
              "      <td>0.000000</td>\n",
              "      <td>-0.000000</td>\n",
              "      <td>0.000000</td>\n",
              "      <td>0.000000</td>\n",
              "      <td>0.000000</td>\n",
              "    </tr>\n",
              "    <tr>\n",
              "      <th>5</th>\n",
              "      <td>4.748478</td>\n",
              "      <td>-0.000000</td>\n",
              "      <td>-5.281175</td>\n",
              "      <td>-0.000000</td>\n",
              "      <td>-0.000000</td>\n",
              "    </tr>\n",
              "    <tr>\n",
              "      <th>6</th>\n",
              "      <td>-10.289303</td>\n",
              "      <td>-1.800514</td>\n",
              "      <td>0.000000</td>\n",
              "      <td>0.000000</td>\n",
              "      <td>0.000000</td>\n",
              "    </tr>\n",
              "    <tr>\n",
              "      <th>7</th>\n",
              "      <td>-1.541214</td>\n",
              "      <td>-1.008017</td>\n",
              "      <td>0.000000</td>\n",
              "      <td>0.000000</td>\n",
              "      <td>0.000000</td>\n",
              "    </tr>\n",
              "    <tr>\n",
              "      <th>8</th>\n",
              "      <td>-0.905310</td>\n",
              "      <td>-2.147514</td>\n",
              "      <td>0.000000</td>\n",
              "      <td>0.000000</td>\n",
              "      <td>0.000000</td>\n",
              "    </tr>\n",
              "  </tbody>\n",
              "</table>\n",
              "</div>\n",
              "      <button class=\"colab-df-convert\" onclick=\"convertToInteractive('df-f8766e72-8146-44d5-b374-d523e368c6c1')\"\n",
              "              title=\"Convert this dataframe to an interactive table.\"\n",
              "              style=\"display:none;\">\n",
              "        \n",
              "  <svg xmlns=\"http://www.w3.org/2000/svg\" height=\"24px\"viewBox=\"0 0 24 24\"\n",
              "       width=\"24px\">\n",
              "    <path d=\"M0 0h24v24H0V0z\" fill=\"none\"/>\n",
              "    <path d=\"M18.56 5.44l.94 2.06.94-2.06 2.06-.94-2.06-.94-.94-2.06-.94 2.06-2.06.94zm-11 1L8.5 8.5l.94-2.06 2.06-.94-2.06-.94L8.5 2.5l-.94 2.06-2.06.94zm10 10l.94 2.06.94-2.06 2.06-.94-2.06-.94-.94-2.06-.94 2.06-2.06.94z\"/><path d=\"M17.41 7.96l-1.37-1.37c-.4-.4-.92-.59-1.43-.59-.52 0-1.04.2-1.43.59L10.3 9.45l-7.72 7.72c-.78.78-.78 2.05 0 2.83L4 21.41c.39.39.9.59 1.41.59.51 0 1.02-.2 1.41-.59l7.78-7.78 2.81-2.81c.8-.78.8-2.07 0-2.86zM5.41 20L4 18.59l7.72-7.72 1.47 1.35L5.41 20z\"/>\n",
              "  </svg>\n",
              "      </button>\n",
              "      \n",
              "  <style>\n",
              "    .colab-df-container {\n",
              "      display:flex;\n",
              "      flex-wrap:wrap;\n",
              "      gap: 12px;\n",
              "    }\n",
              "\n",
              "    .colab-df-convert {\n",
              "      background-color: #E8F0FE;\n",
              "      border: none;\n",
              "      border-radius: 50%;\n",
              "      cursor: pointer;\n",
              "      display: none;\n",
              "      fill: #1967D2;\n",
              "      height: 32px;\n",
              "      padding: 0 0 0 0;\n",
              "      width: 32px;\n",
              "    }\n",
              "\n",
              "    .colab-df-convert:hover {\n",
              "      background-color: #E2EBFA;\n",
              "      box-shadow: 0px 1px 2px rgba(60, 64, 67, 0.3), 0px 1px 3px 1px rgba(60, 64, 67, 0.15);\n",
              "      fill: #174EA6;\n",
              "    }\n",
              "\n",
              "    [theme=dark] .colab-df-convert {\n",
              "      background-color: #3B4455;\n",
              "      fill: #D2E3FC;\n",
              "    }\n",
              "\n",
              "    [theme=dark] .colab-df-convert:hover {\n",
              "      background-color: #434B5C;\n",
              "      box-shadow: 0px 1px 3px 1px rgba(0, 0, 0, 0.15);\n",
              "      filter: drop-shadow(0px 1px 2px rgba(0, 0, 0, 0.3));\n",
              "      fill: #FFFFFF;\n",
              "    }\n",
              "  </style>\n",
              "\n",
              "      <script>\n",
              "        const buttonEl =\n",
              "          document.querySelector('#df-f8766e72-8146-44d5-b374-d523e368c6c1 button.colab-df-convert');\n",
              "        buttonEl.style.display =\n",
              "          google.colab.kernel.accessAllowed ? 'block' : 'none';\n",
              "\n",
              "        async function convertToInteractive(key) {\n",
              "          const element = document.querySelector('#df-f8766e72-8146-44d5-b374-d523e368c6c1');\n",
              "          const dataTable =\n",
              "            await google.colab.kernel.invokeFunction('convertToInteractive',\n",
              "                                                     [key], {});\n",
              "          if (!dataTable) return;\n",
              "\n",
              "          const docLinkHtml = 'Like what you see? Visit the ' +\n",
              "            '<a target=\"_blank\" href=https://colab.research.google.com/notebooks/data_table.ipynb>data table notebook</a>'\n",
              "            + ' to learn more about interactive tables.';\n",
              "          element.innerHTML = '';\n",
              "          dataTable['output_type'] = 'display_data';\n",
              "          await google.colab.output.renderOutput(dataTable, element);\n",
              "          const docLink = document.createElement('div');\n",
              "          docLink.innerHTML = docLinkHtml;\n",
              "          element.appendChild(docLink);\n",
              "        }\n",
              "      </script>\n",
              "    </div>\n",
              "  </div>\n",
              "  "
            ],
            "text/plain": [
              "   alpha_0.0001  alpha_0.001  alpha_0.1  alpha_0.2  alpha_0.3\n",
              "0      4.805105    -0.000000  -0.000000  -0.000000  -0.000000\n",
              "1     33.607995    26.482969  17.107670  12.632765  10.690377\n",
              "2    -17.123098   -11.091911  -0.000000  -0.000000  -0.000000\n",
              "3     -2.296627    -0.160488   0.000000   0.000000   0.000000\n",
              "4      0.000000    -0.000000   0.000000   0.000000   0.000000\n",
              "5      4.748478    -0.000000  -5.281175  -0.000000  -0.000000\n",
              "6    -10.289303    -1.800514   0.000000   0.000000   0.000000\n",
              "7     -1.541214    -1.008017   0.000000   0.000000   0.000000\n",
              "8     -0.905310    -2.147514   0.000000   0.000000   0.000000"
            ]
          },
          "metadata": {},
          "execution_count": 26
        }
      ]
    },
    {
      "cell_type": "markdown",
      "source": [
        "2-7.DecisionTree \n",
        "- sklearn.tree.DecisionTreeRegressor(*, criterion='squared_error', splitter='best', max_depth=None, min_samples_split=2, min_samples_leaf=1, min_weight_fraction_leaf=0.0, max_features=None, random_state=None, max_leaf_nodes=None, min_impurity_decrease=0.0, ccp_alpha=0.0"
      ],
      "metadata": {
        "id": "O30hcJEqhAsr"
      }
    },
    {
      "cell_type": "code",
      "source": [
        "# [22] Xnormal, Ynormal 데이터에 DecisionTreeRegressor 사용\n",
        "from sklearn.tree import DecisionTreeRegressor\n",
        "model = DecisionTreeRegressor(max_depth=8, random_state=0)\n",
        "Model_Train(model, Xnormal, Ynormal)"
      ],
      "metadata": {
        "colab": {
          "base_uri": "https://localhost:8080/"
        },
        "id": "5hJOCWXahH6G",
        "outputId": "ae1bcbd5-dc05-46d3-8251-b9c170f62531"
      },
      "execution_count": null,
      "outputs": [
        {
          "output_type": "stream",
          "name": "stdout",
          "text": [
            "0.9999 0.7974\n"
          ]
        },
        {
          "output_type": "execute_result",
          "data": {
            "text/plain": [
              "DecisionTreeRegressor(max_depth=8, random_state=0)"
            ]
          },
          "metadata": {},
          "execution_count": 78
        }
      ]
    },
    {
      "cell_type": "code",
      "source": [
        "# train  test   \n",
        "# 1.0000 0.7371  => overfitting, 과대적합\n",
        "# 과대적합 해결방법 => Ridge, Lasso, 앙상블\n",
        "#                      데이터의 크기를 늘리는 것, 함수의 parameter에 값을 변경"
      ],
      "metadata": {
        "id": "QyXvf0AFnWWD"
      },
      "execution_count": null,
      "outputs": []
    },
    {
      "cell_type": "code",
      "source": [
        "# Ridge, Lasso는 overfitting 되는 데이터에 주로 사용하여 overfitting을 해결하는 용도로 사용한다"
      ],
      "metadata": {
        "id": "zQTU0Mc3gl8a"
      },
      "execution_count": null,
      "outputs": []
    },
    {
      "cell_type": "code",
      "source": [
        "# [23] 데이터의 개수를 2000개로 늘려 DecisionTreeRegressor 사용 \n",
        "dataL = make_sample(1234, 2000)\n",
        "Xlarge = dataL[['height', 'weight']]\n",
        "Ylarge = dataL['BMI']\n",
        "model = DecisionTreeRegressor(random_state=0)\n",
        "Model_Train(model, Xlarge, Ylarge)"
      ],
      "metadata": {
        "colab": {
          "base_uri": "https://localhost:8080/"
        },
        "id": "-iB-OGUSiZJL",
        "outputId": "abc408de-e910-4518-f253-30b8c04bce11"
      },
      "execution_count": null,
      "outputs": [
        {
          "output_type": "stream",
          "name": "stdout",
          "text": [
            "1.0000 0.9903\n"
          ]
        },
        {
          "output_type": "execute_result",
          "data": {
            "text/plain": [
              "DecisionTreeRegressor(random_state=0)"
            ]
          },
          "metadata": {},
          "execution_count": 84
        }
      ]
    },
    {
      "cell_type": "markdown",
      "source": [
        "### 2-7.앙상블"
      ],
      "metadata": {
        "id": "5CL28vrvm1p1"
      }
    },
    {
      "cell_type": "markdown",
      "source": [
        "- sklearn.ensemble.RandomForestRegressor(n_estimators=100, *, criterion='squared_error', max_depth=None, min_samples_split=2, min_samples_leaf=1, min_weight_fraction_leaf=0.0, max_features='auto', max_leaf_nodes=None, min_impurity_decrease=0.0, bootstrap=True, oob_score=False, n_jobs=None, random_state=None, verbose=0, warm_start=False, ccp_alpha=0.0, max_samples=None)\n",
        "- https://xgboost.readthedocs.io/en/latest/python/python_api.html#module-xgboost.sklearn"
      ],
      "metadata": {
        "id": "nn4KunPFkgUx"
      }
    },
    {
      "cell_type": "code",
      "source": [
        "# [24] Xnormal, Ynormal 데이터에 RandomForestRegressor 사용\n",
        "from sklearn.ensemble import RandomForestRegressor\n",
        "model = RandomForestRegressor(random_state=0)\n",
        "Model_Train(model, Xnormal, Ynormal)  # 100개!"
      ],
      "metadata": {
        "colab": {
          "base_uri": "https://localhost:8080/"
        },
        "id": "J0_OCv2tm4MR",
        "outputId": "89bb9933-9996-44d9-8abb-fb3d37e074fd"
      },
      "execution_count": null,
      "outputs": [
        {
          "output_type": "stream",
          "name": "stdout",
          "text": [
            "0.9897 0.8219\n"
          ]
        },
        {
          "output_type": "execute_result",
          "data": {
            "text/plain": [
              "RandomForestRegressor(random_state=0)"
            ]
          },
          "metadata": {},
          "execution_count": 88
        }
      ]
    },
    {
      "cell_type": "code",
      "source": [
        "# [25] Xnormal을 2차식으로 만든 후 RandomForestRegressor 사용\n",
        "poly2 = PolynomialFeatures(degree=2, include_bias=False) #, interaction_only=True)\n",
        "Xpoly2 = poly2.fit_transform(Xnormal)\n",
        "model = RandomForestRegressor(random_state=0)\n",
        "Model_Train(model, Xpoly2, Ynormal)  # 100개!"
      ],
      "metadata": {
        "colab": {
          "base_uri": "https://localhost:8080/"
        },
        "id": "JGlu8lLne5yy",
        "outputId": "f689adad-0cdc-41ea-ea7a-d9e4e1b3b364"
      },
      "execution_count": null,
      "outputs": [
        {
          "output_type": "stream",
          "name": "stdout",
          "text": [
            "0.9890 0.8020\n"
          ]
        },
        {
          "output_type": "execute_result",
          "data": {
            "text/plain": [
              "RandomForestRegressor(random_state=0)"
            ]
          },
          "metadata": {},
          "execution_count": 91
        }
      ]
    },
    {
      "cell_type": "code",
      "source": [
        "# [26] 데이터의 개수를 2000개로 늘려 RandomForestRegressor 사용\n",
        "dataL = make_sample(1234, 2000)     # 150개 이상만 되어도 좋은 결과\n",
        "Xlarge = dataL[['height', 'weight']]\n",
        "Ylarge = dataL['BMI']\n",
        "model = RandomForestRegressor(random_state=0)\n",
        "Model_Train(model, Xlarge, Ylarge)  # 2000개!"
      ],
      "metadata": {
        "colab": {
          "base_uri": "https://localhost:8080/"
        },
        "id": "fqbRgJvszzMM",
        "outputId": "08a8e7d1-0807-4d39-dda8-8ff065d5eac9"
      },
      "execution_count": null,
      "outputs": [
        {
          "output_type": "stream",
          "name": "stdout",
          "text": [
            "0.9994 0.9967\n"
          ]
        },
        {
          "output_type": "execute_result",
          "data": {
            "text/plain": [
              "RandomForestRegressor(random_state=0)"
            ]
          },
          "metadata": {},
          "execution_count": 102
        }
      ]
    },
    {
      "cell_type": "markdown",
      "source": [
        "- XBGRegressor : max_depth=3, learning_rate=0.1, n_estimators=100, verbosity=1, silent=None, objective=\"reg:linear\", booster='gbtree', n_jobs=1, nthread=None, gamma=0, min_child_weight=1, max_delta_step=0, subsample=1, colsample_bytree=1, colsample_bylevel=1, colsample_bynode=1, reg_alpha=0, reg_lambda=1, scale_pos_weight=1, base_score=0.5, random_state=0, seed=None, missing=None, importance_type=\"gain\", **kwargs) "
      ],
      "metadata": {
        "id": "4roj2vVhrktv"
      }
    },
    {
      "cell_type": "code",
      "source": [
        "# [27] Xnormal, Ynormal 데이터에 XGBRegressor 사용\n",
        "from xgboost import XGBRegressor\n",
        "model = XGBRegressor(objective='reg:squarederror', random_state=0)\n",
        "Model_Train(model, Xnormal, Ynormal)  # 100개!"
      ],
      "metadata": {
        "id": "coyVxRcomyJg",
        "colab": {
          "base_uri": "https://localhost:8080/"
        },
        "outputId": "d2e7c3cd-c304-46ac-e95b-917a6795c673"
      },
      "execution_count": null,
      "outputs": [
        {
          "output_type": "stream",
          "name": "stdout",
          "text": [
            "0.9980 0.9157\n"
          ]
        },
        {
          "output_type": "execute_result",
          "data": {
            "text/plain": [
              "XGBRegressor(objective='reg:squarederror')"
            ]
          },
          "metadata": {},
          "execution_count": 104
        }
      ]
    },
    {
      "cell_type": "code",
      "source": [
        "# [28] 데이터의 개수를 2000개로 늘려 XGBRegressor 사용\n",
        "dataL = make_sample(1234, 2000)     # 150개 이상만 되어도 좋은 결과\n",
        "Xlarge = dataL[['height', 'weight']]\n",
        "Ylarge = dataL['BMI']\n",
        "model = XGBRegressor(n_estimators=900, objective='reg:squarederror', random_state=0)\n",
        "Model_Train(model, Xlarge, Ylarge)  # 2000개!"
      ],
      "metadata": {
        "colab": {
          "base_uri": "https://localhost:8080/"
        },
        "id": "U_6xS0I82vmf",
        "outputId": "7b747de5-d335-463f-f381-a820584c2cab"
      },
      "execution_count": null,
      "outputs": [
        {
          "output_type": "stream",
          "name": "stdout",
          "text": [
            "0.9997 0.9978\n"
          ]
        },
        {
          "output_type": "execute_result",
          "data": {
            "text/plain": [
              "XGBRegressor(n_estimators=900, objective='reg:squarederror')"
            ]
          },
          "metadata": {},
          "execution_count": 120
        }
      ]
    },
    {
      "cell_type": "markdown",
      "source": [
        "## 3.회귀 모델 성능평가\n",
        "\n",
        "- $R^2$ score\n",
        "  - model.score(X, y)\n",
        "  - sklearn.metrics.r2_score(y_true, y_pred)\n",
        "  - 분산 기반으로 예측 성능을 평가\n",
        "  - 예측값 분산 / 실제값 분산\n",
        "- MAE(Mean Absolute Error)\n",
        "   - sklearn.metrics.mean_absolute_error(y_true, y_pred)\n",
        "   - 실제 값과 예측 값의 차이를 절댓값으로 변환해 평균한 것\n",
        "- MSE(Mean Squared Error)\n",
        "   - sklearn.metrics.mean_squared_error(y_true, y_pred)  \n",
        "   - 실제 값과 예측 값의 차이를 제곱해 평균한 것\n",
        "- RMSE(Root Mean Squared Error)\n",
        "   - sklearn API에 없음\n",
        "   - MSE에 np.sqrt() 또는 ** 0.5를 사용함\n",
        "   - MSE 값은 오류의 제곱을 구하므로 실제 오류 평균보다 더 커지는 특성이 있어 MSE에 루트를 씌운 것\n",
        "- MSLE(Mean Squared Log Error)\n",
        "   - sklearn.metrics.mean_squared_log_error(y_true, y_pred)\n",
        "   - MSE에 로그를 적용해준 지표\n",
        "- RMSLE(Root Mean Square Log Error) \n",
        "   - RMSE에 로그를 적용해준 지표\n",
        "   - 이상치가 있더라도 변동폭이 크지 않음(이상치에 강건함)\n",
        "   - 실제값보다 예측값이 작을 때 더 큰 패널티 부여\n",
        "   - 작게 예측하면 안되는 경우 사용하면 좋음 (배달 시간 예측)\n",
        "   - 실제값, 예측값에 음수가 있으면 안됨 (오류 발생)\n",
        "- 참조 : https://bkshin.tistory.com/entry/%EB%A8%B8%EC%8B%A0%EB%9F%AC%EB%8B%9D-17-%ED%9A%8C%EA%B7%80-%ED%8F%89%EA%B0%80-%EC%A7%80%ED%91%9C"
      ],
      "metadata": {
        "id": "tIUm-VR0wy9O"
      }
    },
    {
      "cell_type": "code",
      "source": [
        "# R2_score : 1에 가까울 수록 좋은 성능\n",
        "# MAE, MSE, RMSE, MSLE, RMSLE :  0에 가까울 수록 좋은 성능 "
      ],
      "metadata": {
        "id": "o3QXnlWxFfZ4"
      },
      "execution_count": null,
      "outputs": []
    },
    {
      "cell_type": "markdown",
      "source": [
        "### 3-1.성능평가 함수"
      ],
      "metadata": {
        "id": "ken5C_sI6xBL"
      }
    },
    {
      "cell_type": "code",
      "source": [
        "from sklearn.metrics import r2_score\n",
        "from sklearn.metrics import mean_absolute_error as mae\n",
        "from sklearn.metrics import mean_squared_error as mse\n",
        "from sklearn.metrics import mean_squared_log_error as msle\n",
        "\n",
        "# [29] r2_score, mae, mse, rmse, msle, rmsle 를 구해 반환하는 함수를 작성합니다.\n",
        "# 한 개의 행에 6가지 성능평가 결과를 소수점 아래 4자리까지 표시되도록 하여 작성합니다.\n",
        "def get_scores(model, X, Y):\n",
        "    pred = model.predict(X)   \n",
        "\n",
        "    # 음수가 있어도 상관없음\n",
        "    A = r2_score(Y, pred)\n",
        "    B = mae(Y, pred)\n",
        "    C = mse(Y, pred)    \n",
        "    E = np.sqrt(C)   # rmse\n",
        "\n",
        "    # msle, rmsle 는 음수가 있어서는 안됨\n",
        "    #pred[0] = -2\n",
        "    pred = np.where(pred<0, 0, pred)\n",
        "    #print(pred[0])\n",
        "    D = msle(Y, pred)    \n",
        "    F = np.sqrt(D)   # rmsle\n",
        "    return f'r2: {A:.4} mae: {B:.4} mse: {C:.4} msle: {D:.4} rmse: {E:.4} rmsle: {F:.4}'"
      ],
      "metadata": {
        "id": "zFe05b6Uwewx"
      },
      "execution_count": null,
      "outputs": []
    },
    {
      "cell_type": "markdown",
      "source": [
        "### 3-2.모델링 함수"
      ],
      "metadata": {
        "id": "t6W7EcJJ61kU"
      }
    },
    {
      "cell_type": "code",
      "source": [
        "# [30] Model_Train함수를 수정해서 \n",
        "# train, test에 대한 6가지 성능평가 결과를 출력하는 Model_Train2 함수를 작성합니다.\n",
        "from sklearn.preprocessing import MinMaxScaler\n",
        "from sklearn.model_selection import train_test_split\n",
        "\n",
        "def Model_Train_2(model, XF, YF, scale=False):\n",
        "    # 7:3 분리, random_state=321  (주의: stratify사용 안함 -> 분류 모델에서만 사용)\n",
        "    if scale:\n",
        "        XF = MinMaxScaler().fit_transform(XF)\n",
        "    xtrain, xtest, ytrain, ytest = train_test_split(XF, YF, \n",
        "                                                    test_size=0.3, \n",
        "                                                    random_state=321)\n",
        "    model.fit(xtrain, ytrain)\n",
        "    #  코드 추가 부분\n",
        "    print(model.__class__)\n",
        "    print('train:', get_scores(model, xtrain, ytrain))\n",
        "    print('test:', get_scores(model, xtest, ytest))\n",
        "    print()\n",
        "    return model"
      ],
      "metadata": {
        "id": "MJRvdLx613F1"
      },
      "execution_count": null,
      "outputs": []
    },
    {
      "cell_type": "markdown",
      "source": [
        "### 3-3.여러 모델 적용"
      ],
      "metadata": {
        "id": "ar5RnjRV8f4G"
      }
    },
    {
      "cell_type": "code",
      "source": [
        "# [31] Xnormal, Ynormal 데이터 사용, LinearRegression => model1\n",
        "model1 = LinearRegression()\n",
        "Model_Train_2(model1, Xnormal, Ynormal)"
      ],
      "metadata": {
        "colab": {
          "base_uri": "https://localhost:8080/"
        },
        "id": "DPMCqpmL7UOB",
        "outputId": "037bb8eb-58e0-42a2-ceda-812a4fba12e5"
      },
      "execution_count": null,
      "outputs": [
        {
          "output_type": "stream",
          "name": "stdout",
          "text": [
            "train: r2: 0.9931 mae: 0.2648 mse: 0.12 msle: 0.0002734 rmse: 0.3464 rmsle: 0.01653\n",
            "test: r2: 0.9625 mae: 0.3783 mse: 0.3626 msle: 0.0009766 rmse: 0.6022 rmsle: 0.03125\n"
          ]
        },
        {
          "output_type": "execute_result",
          "data": {
            "text/plain": [
              "LinearRegression()"
            ]
          },
          "metadata": {},
          "execution_count": 174
        }
      ]
    },
    {
      "cell_type": "code",
      "source": [
        "# 음수값을 임의로 0으로 수정한 경우 msle, rmsle의 값이 커짐\n",
        "# train: r2: 0.9931 mae: 0.2648 mse: 0.12 msle: 0.1763 rmse: 0.3464 rmsle: 0.4199\n",
        "# test: r2: 0.9625 mae: 0.3783 mse: 0.3626 msle: 0.3443 rmse: 0.6022 rmsle: 0.5868"
      ],
      "metadata": {
        "id": "6wIrLMLEYRpC"
      },
      "execution_count": null,
      "outputs": []
    },
    {
      "cell_type": "code",
      "source": [
        "# [32] Xpoly3, Ynormal 데이터 사용, LinearRegression => model2\n",
        "poly3 = PolynomialFeatures(degree=3, include_bias=False) #, interaction_only=True)\n",
        "Xpoly3 = poly3.fit_transform(Xnormal)\n",
        "model2 = LinearRegression()\n",
        "print(Xpoly3.shape)\n",
        "Model_Train_2(model2, Xpoly3, Ynormal)"
      ],
      "metadata": {
        "colab": {
          "base_uri": "https://localhost:8080/"
        },
        "id": "CefaJ30077a3",
        "outputId": "08787953-b90d-4b11-bbf7-bc284cffb1bb"
      },
      "execution_count": null,
      "outputs": [
        {
          "output_type": "stream",
          "name": "stdout",
          "text": [
            "(100, 9)\n",
            "train: r2: 1.0 mae: 0.002813 mse: 1.09e-05 msle: 1.991e-08 rmse: 0.003302 rmsle: 0.0001411\n",
            "test: r2: 1.0 mae: 0.006752 mse: 0.0004418 msle: 1.257e-06 rmse: 0.02102 rmsle: 0.001121\n"
          ]
        },
        {
          "output_type": "execute_result",
          "data": {
            "text/plain": [
              "LinearRegression()"
            ]
          },
          "metadata": {},
          "execution_count": 26
        }
      ]
    },
    {
      "cell_type": "code",
      "source": [
        "# [33] Xlarge, Ylarge 데이터 사용, XGBRegressor => model3\n",
        "dataL = make_sample(1234, 2000)     \n",
        "Xlarge = dataL[['height', 'weight']]\n",
        "Ylarge = dataL['BMI']\n",
        "model3 = XGBRegressor(n_estimators=900, objective='reg:squarederror', random_state=0)\n",
        "Model_Train_2(model3, Xlarge, Ylarge)  # 2000개!"
      ],
      "metadata": {
        "colab": {
          "base_uri": "https://localhost:8080/"
        },
        "id": "KYI76X6R8Hj1",
        "outputId": "0cd04635-28db-4af4-a3d9-d49653c3ca7a"
      },
      "execution_count": null,
      "outputs": [
        {
          "output_type": "stream",
          "name": "stdout",
          "text": [
            "train: r2: 0.9997 mae: 0.05245 mse: 0.004918 msle: 8.916e-06 rmse: 0.07013 rmsle: 0.002986\n",
            "test: r2: 0.9978 mae: 0.1144 mse: 0.03039 msle: 5.758e-05 rmse: 0.1743 rmsle: 0.007588\n"
          ]
        },
        {
          "output_type": "execute_result",
          "data": {
            "text/plain": [
              "XGBRegressor(n_estimators=900, objective='reg:squarederror')"
            ]
          },
          "metadata": {},
          "execution_count": 177
        }
      ]
    },
    {
      "cell_type": "code",
      "source": [
        "# [34] X_submission, Y_hidden 데이터를 사용하여 model1, model2, model3의 성능을 평가하여봄 \n",
        "# (실제는 할 수 없음)\n",
        "XF = X_submission[['height', 'weight']]\n",
        "YF = Y_hidden['BMI']\n",
        "XFpoly3 = poly3.fit_transform(XF)\n",
        "print(get_scores(model1, XF, YF))\n",
        "print(get_scores(model2, XFpoly3, YF))\n",
        "print(get_scores(model3, XF, YF))"
      ],
      "metadata": {
        "colab": {
          "base_uri": "https://localhost:8080/"
        },
        "id": "nIRRRkkO8DR4",
        "outputId": "b0a5f317-dceb-4e5c-b40f-5d6d8a51f122"
      },
      "execution_count": null,
      "outputs": [
        {
          "output_type": "stream",
          "name": "stdout",
          "text": [
            "r2: 0.9892 mae: 0.2701 mse: 0.1499 msle: 0.0003649 rmse: 0.3871 rmsle: 0.0191\n",
            "r2: 1.0 mae: 0.003643 mse: 2.242e-05 msle: 4.639e-08 rmse: 0.004735 rmsle: 0.0002154\n",
            "r2: 0.998 mae: 0.1184 mse: 0.02824 msle: 5.373e-05 rmse: 0.168 rmsle: 0.00733\n"
          ]
        }
      ]
    },
    {
      "cell_type": "code",
      "source": [
        "# [35] 제출파일 만들기 (실제 문제에서 요구하는 형태로 작성해야 함)\n",
        "# msle, rmsle (음수가 있으면 안됨) \n",
        "pred = model2.predict(XFpoly3)\n",
        "submission = pd.DataFrame({'ID': X_submission['ID'],\n",
        "                           'BMI': pred})\n",
        "#submission.head()\n",
        "submission.to_csv('0001100.csv', index=False)"
      ],
      "metadata": {
        "id": "0QWqC_0Kuiro"
      },
      "execution_count": null,
      "outputs": []
    },
    {
      "cell_type": "markdown",
      "metadata": {
        "id": "XUPWlWuCVYYE"
      },
      "source": [
        "## 4.웹사이트 방문자 예측"
      ]
    },
    {
      "cell_type": "code",
      "metadata": {
        "id": "MIoEz7R4U_D9",
        "colab": {
          "base_uri": "https://localhost:8080/"
        },
        "outputId": "266e0abf-5fc6-40ed-efe3-c0f00c0a68ed"
      },
      "source": [
        "!git clone https://github.com/Soyoung-Yoon/bigdata"
      ],
      "execution_count": null,
      "outputs": [
        {
          "output_type": "stream",
          "name": "stdout",
          "text": [
            "Cloning into 'bigdata'...\n",
            "remote: Enumerating objects: 41, done.\u001b[K\n",
            "remote: Counting objects: 100% (41/41), done.\u001b[K\n",
            "remote: Compressing objects: 100% (41/41), done.\u001b[K\n",
            "remote: Total 41 (delta 11), reused 0 (delta 0), pack-reused 0\u001b[K\n",
            "Unpacking objects: 100% (41/41), done.\n"
          ]
        }
      ]
    },
    {
      "cell_type": "markdown",
      "source": [
        "### 4-1. 데이터 이해, 생성\n",
        "- 1개 데이터를 나누어 시험용으로 변경해 보는 작업\n",
        "- 실제 시험에서는 이런 과정은 필요 없음\n"
      ],
      "metadata": {
        "id": "_5ler3JINPof"
      }
    },
    {
      "cell_type": "code",
      "source": [
        "# https://www.kaggle.com/bobnau/daily-website-visitors\n",
        "# Daily number of pages loaded\n",
        "# Daily number of visitors from whose IP addresses there haven't been hits on any page in over 6 hours\n",
        "# Number of unique visitors who do not have a cookie identifying them as a previous customer\n",
        "# Number of unique visitors minus first time visitors"
      ],
      "metadata": {
        "id": "YiZ7Sp3Gwp9C"
      },
      "execution_count": null,
      "outputs": []
    },
    {
      "cell_type": "code",
      "source": [
        "# [0] 사용 라이브러리 import\n",
        "import pandas as pd\n",
        "\n",
        "# 데이타가 많은경우 모두 출력 안되고 ... 으로 생략해서 출력됨.\n",
        "# 시험환경에서는 아래와 같이 해야해서 수정했습니다 ^^*\n",
        "pd.options.display.max_rows = 500     #출력할 max row를 지정\n",
        "pd.options.display.max_columns = 20   #출력할 max columns를 지정\n",
        "#출력 format 지정 - 소수점아래 4자리까지\n",
        "pd.set_option('display.float_format', '{:.4f}'.format)"
      ],
      "metadata": {
        "id": "dSFUPYVZ7aU7"
      },
      "execution_count": null,
      "outputs": []
    },
    {
      "cell_type": "code",
      "source": [
        "# [1] 'bigdata/daily-website-visitors.csv' 파일 불러오기, shape 확인하기\n",
        "\n",
        "df = pd.read_csv('bigdata/daily-website-visitors.csv')\n",
        "df.shape  # 행, 열 정보"
      ],
      "metadata": {
        "id": "axronwtctIX5",
        "colab": {
          "base_uri": "https://localhost:8080/"
        },
        "outputId": "f0b22660-7cd9-4fb7-c9ad-6447c87d442f"
      },
      "execution_count": null,
      "outputs": [
        {
          "output_type": "execute_result",
          "data": {
            "text/plain": [
              "(2167, 8)"
            ]
          },
          "metadata": {},
          "execution_count": 326
        }
      ]
    },
    {
      "cell_type": "code",
      "source": [
        "# [2] head를 사용해 데이터의 모습 확인\n",
        "# 컬럼명이 대소문자 섞여 있어 사용하기 좋지 않음 \n",
        "print(df.head(2))"
      ],
      "metadata": {
        "colab": {
          "base_uri": "https://localhost:8080/"
        },
        "id": "-_MHO0lifyV0",
        "outputId": "5d2d30a9-e17c-444b-9970-1fd2894a1d62"
      },
      "execution_count": null,
      "outputs": [
        {
          "output_type": "stream",
          "name": "stdout",
          "text": [
            "   Row     Day  Day.Of.Week       Date Page.Loads Unique.Visits  \\\n",
            "0    1  Sunday            1  9/14/2014      2,146         1,582   \n",
            "1    2  Monday            2  9/15/2014      3,621         2,528   \n",
            "\n",
            "  First.Time.Visits Returning.Visits  \n",
            "0             1,430              152  \n",
            "1             2,297              231  \n"
          ]
        }
      ]
    },
    {
      "cell_type": "code",
      "source": [
        "# [3] 컬럼명 정리 - 소문자로 변경, '.'을 '-'로 변경\n",
        "df.columns = df.columns.str.replace('.', '_', regex=True).str.lower()\n",
        "df.columns"
      ],
      "metadata": {
        "colab": {
          "base_uri": "https://localhost:8080/"
        },
        "id": "FqihypH0f4Mb",
        "outputId": "1210d5f6-c142-413d-d567-68350cfa367f"
      },
      "execution_count": null,
      "outputs": [
        {
          "output_type": "execute_result",
          "data": {
            "text/plain": [
              "Index(['row', 'day', 'day_of_week', 'date', 'page_loads', 'unique_visits',\n",
              "       'first_time_visits', 'returning_visits'],\n",
              "      dtype='object')"
            ]
          },
          "metadata": {},
          "execution_count": 328
        }
      ]
    },
    {
      "cell_type": "markdown",
      "source": [
        "컬럼 정보\n",
        "- row : 1번 부터 시작하는 일련번호\n",
        "- day : 요일 정보\n",
        "- day_of_week : 요일 정보\n",
        "- date : 날짜 정보\n",
        "- page_loads : 로드된 일별 페이지 수\n",
        "- unique_visits : 6시간 이상 페이지에서 조회되지 않은 IP 주소의 일일 방문자 수 (종속변수)\n",
        "- first_time_visits : 이전 고객으로 식별되는 쿠키를 가지고 있지 않은 고유 방문자 수\n",
        "- returning_visits : unique_visits 수에서 first_time_visits 제외"
      ],
      "metadata": {
        "id": "XKttWN_7MNWC"
      }
    },
    {
      "cell_type": "code",
      "source": [
        " df.dtypes"
      ],
      "metadata": {
        "colab": {
          "base_uri": "https://localhost:8080/"
        },
        "id": "5I5IvZOGAtON",
        "outputId": "ab76b07d-0d56-4512-a8f0-fb72cd7adb6e"
      },
      "execution_count": null,
      "outputs": [
        {
          "output_type": "execute_result",
          "data": {
            "text/plain": [
              "row                   int64\n",
              "day                  object\n",
              "day_of_week           int64\n",
              "date                 object\n",
              "page_loads           object\n",
              "unique_visits        object\n",
              "first_time_visits    object\n",
              "returning_visits     object\n",
              "dtype: object"
            ]
          },
          "metadata": {},
          "execution_count": 10
        }
      ]
    },
    {
      "cell_type": "code",
      "source": [
        "# [4] unique_visits를 예측하는 값으로 사용할 것이며, 수치데이터 이어야 함\n",
        "# 콤마 제거 후, int로 형변환\n",
        "df['unique_visits'] = df['unique_visits'].replace(',', '', regex=True).astype(int)"
      ],
      "metadata": {
        "id": "EoIQUBSAiy-n"
      },
      "execution_count": null,
      "outputs": []
    },
    {
      "cell_type": "code",
      "source": [
        "# [5] 시험 형식으로 train, test 데이터로 나누어 저장합니다.  (6:4 비율)\n",
        "train_size = len(df) - int(len(df)*0.4)\n",
        "\n",
        "# 여러 가지 데이터가 고루 섞이도록 해야 함\n",
        "df = df.sample(frac=1, random_state=1234)\n",
        "df['row'] = range(1, len(df) + 1)\n",
        "train = df.iloc[:train_size, :]\n",
        "test = df.iloc[train_size:, :]\n",
        "print(train.shape, test.shape)\n",
        "y = 'unique_visits'\n",
        "X_train = train.drop(columns=y)\n",
        "Y_train = train[['row', y]]\n",
        "X_test = test.drop(columns=y)\n",
        "Y_test = test[['row', y]]\n",
        "X_train.to_csv('x_train.csv', index=False)\n",
        "Y_train.to_csv('y_train.csv', index=False)\n",
        "X_test.to_csv('x_test.csv', index=False)\n",
        "Y_test.to_csv('y_test.csv', index=False)"
      ],
      "metadata": {
        "colab": {
          "base_uri": "https://localhost:8080/"
        },
        "id": "qsEfTqNgfJEg",
        "outputId": "5f8c9d57-a30f-4c1a-e22f-5d475cd60081"
      },
      "execution_count": null,
      "outputs": [
        {
          "output_type": "stream",
          "name": "stdout",
          "text": [
            "(1301, 8) (866, 8)\n"
          ]
        }
      ]
    },
    {
      "cell_type": "markdown",
      "source": [
        "### 4-2. 데이터 불러오기, 전처리"
      ],
      "metadata": {
        "id": "viF3bn3BNIL6"
      }
    },
    {
      "cell_type": "code",
      "source": [
        "# [1] 데이터 파일 불러오기\n",
        "X_use = pd.read_csv('x_train.csv')\n",
        "X_submission = pd.read_csv('x_test.csv')\n",
        "Y = pd.read_csv('y_train.csv')\n",
        "Y_hidden = pd.read_csv('y_test.csv')  # 시험에는 제공 안됨"
      ],
      "metadata": {
        "id": "3tYKt8HKhFli"
      },
      "execution_count": null,
      "outputs": []
    },
    {
      "cell_type": "code",
      "source": [
        "# [2] dfX 만들기, dfX의 info() 확인\n",
        "# use, submission 데이터를 묶어 전처리 하기 위함\n",
        "dfX = pd.concat([X_use, X_submission], ignore_index=True, axis=0)\n",
        "dfX.info()"
      ],
      "metadata": {
        "colab": {
          "base_uri": "https://localhost:8080/"
        },
        "id": "XH2HdhV2tl-S",
        "outputId": "596b52f6-3a87-48ce-e3f0-ab16f2403c57"
      },
      "execution_count": null,
      "outputs": [
        {
          "output_type": "stream",
          "name": "stdout",
          "text": [
            "<class 'pandas.core.frame.DataFrame'>\n",
            "RangeIndex: 2167 entries, 0 to 2166\n",
            "Data columns (total 7 columns):\n",
            " #   Column             Non-Null Count  Dtype \n",
            "---  ------             --------------  ----- \n",
            " 0   row                2167 non-null   int64 \n",
            " 1   day                2167 non-null   object\n",
            " 2   day_of_week        2167 non-null   int64 \n",
            " 3   date               2167 non-null   object\n",
            " 4   page_loads         2167 non-null   object\n",
            " 5   first_time_visits  2167 non-null   object\n",
            " 6   returning_visits   2167 non-null   object\n",
            "dtypes: int64(2), object(5)\n",
            "memory usage: 118.6+ KB\n"
          ]
        }
      ]
    },
    {
      "cell_type": "code",
      "source": [
        "# [3] dfX의 object 값이 어떤 것인지 확인하기 위해 5줄 출력을 합니다.\n",
        "dfX.head(5)"
      ],
      "metadata": {
        "colab": {
          "base_uri": "https://localhost:8080/",
          "height": 206
        },
        "id": "g2WmU8GliOJT",
        "outputId": "c7687da2-ca98-41ac-a29e-addcf8ec6df9"
      },
      "execution_count": null,
      "outputs": [
        {
          "output_type": "execute_result",
          "data": {
            "text/html": [
              "\n",
              "  <div id=\"df-80e45245-3ec7-4052-b153-87d38d65c154\">\n",
              "    <div class=\"colab-df-container\">\n",
              "      <div>\n",
              "<style scoped>\n",
              "    .dataframe tbody tr th:only-of-type {\n",
              "        vertical-align: middle;\n",
              "    }\n",
              "\n",
              "    .dataframe tbody tr th {\n",
              "        vertical-align: top;\n",
              "    }\n",
              "\n",
              "    .dataframe thead th {\n",
              "        text-align: right;\n",
              "    }\n",
              "</style>\n",
              "<table border=\"1\" class=\"dataframe\">\n",
              "  <thead>\n",
              "    <tr style=\"text-align: right;\">\n",
              "      <th></th>\n",
              "      <th>row</th>\n",
              "      <th>day</th>\n",
              "      <th>day_of_week</th>\n",
              "      <th>date</th>\n",
              "      <th>page_loads</th>\n",
              "      <th>first_time_visits</th>\n",
              "      <th>returning_visits</th>\n",
              "    </tr>\n",
              "  </thead>\n",
              "  <tbody>\n",
              "    <tr>\n",
              "      <th>0</th>\n",
              "      <td>1</td>\n",
              "      <td>Friday</td>\n",
              "      <td>6</td>\n",
              "      <td>6/26/2020</td>\n",
              "      <td>3,555</td>\n",
              "      <td>2,248</td>\n",
              "      <td>427</td>\n",
              "    </tr>\n",
              "    <tr>\n",
              "      <th>1</th>\n",
              "      <td>2</td>\n",
              "      <td>Thursday</td>\n",
              "      <td>5</td>\n",
              "      <td>8/29/2019</td>\n",
              "      <td>4,221</td>\n",
              "      <td>2,477</td>\n",
              "      <td>505</td>\n",
              "    </tr>\n",
              "    <tr>\n",
              "      <th>2</th>\n",
              "      <td>3</td>\n",
              "      <td>Friday</td>\n",
              "      <td>6</td>\n",
              "      <td>11/18/2016</td>\n",
              "      <td>4,767</td>\n",
              "      <td>2,734</td>\n",
              "      <td>690</td>\n",
              "    </tr>\n",
              "    <tr>\n",
              "      <th>3</th>\n",
              "      <td>4</td>\n",
              "      <td>Saturday</td>\n",
              "      <td>7</td>\n",
              "      <td>11/30/2019</td>\n",
              "      <td>3,301</td>\n",
              "      <td>2,053</td>\n",
              "      <td>390</td>\n",
              "    </tr>\n",
              "    <tr>\n",
              "      <th>4</th>\n",
              "      <td>5</td>\n",
              "      <td>Sunday</td>\n",
              "      <td>1</td>\n",
              "      <td>7/5/2020</td>\n",
              "      <td>2,948</td>\n",
              "      <td>1,836</td>\n",
              "      <td>362</td>\n",
              "    </tr>\n",
              "  </tbody>\n",
              "</table>\n",
              "</div>\n",
              "      <button class=\"colab-df-convert\" onclick=\"convertToInteractive('df-80e45245-3ec7-4052-b153-87d38d65c154')\"\n",
              "              title=\"Convert this dataframe to an interactive table.\"\n",
              "              style=\"display:none;\">\n",
              "        \n",
              "  <svg xmlns=\"http://www.w3.org/2000/svg\" height=\"24px\"viewBox=\"0 0 24 24\"\n",
              "       width=\"24px\">\n",
              "    <path d=\"M0 0h24v24H0V0z\" fill=\"none\"/>\n",
              "    <path d=\"M18.56 5.44l.94 2.06.94-2.06 2.06-.94-2.06-.94-.94-2.06-.94 2.06-2.06.94zm-11 1L8.5 8.5l.94-2.06 2.06-.94-2.06-.94L8.5 2.5l-.94 2.06-2.06.94zm10 10l.94 2.06.94-2.06 2.06-.94-2.06-.94-.94-2.06-.94 2.06-2.06.94z\"/><path d=\"M17.41 7.96l-1.37-1.37c-.4-.4-.92-.59-1.43-.59-.52 0-1.04.2-1.43.59L10.3 9.45l-7.72 7.72c-.78.78-.78 2.05 0 2.83L4 21.41c.39.39.9.59 1.41.59.51 0 1.02-.2 1.41-.59l7.78-7.78 2.81-2.81c.8-.78.8-2.07 0-2.86zM5.41 20L4 18.59l7.72-7.72 1.47 1.35L5.41 20z\"/>\n",
              "  </svg>\n",
              "      </button>\n",
              "      \n",
              "  <style>\n",
              "    .colab-df-container {\n",
              "      display:flex;\n",
              "      flex-wrap:wrap;\n",
              "      gap: 12px;\n",
              "    }\n",
              "\n",
              "    .colab-df-convert {\n",
              "      background-color: #E8F0FE;\n",
              "      border: none;\n",
              "      border-radius: 50%;\n",
              "      cursor: pointer;\n",
              "      display: none;\n",
              "      fill: #1967D2;\n",
              "      height: 32px;\n",
              "      padding: 0 0 0 0;\n",
              "      width: 32px;\n",
              "    }\n",
              "\n",
              "    .colab-df-convert:hover {\n",
              "      background-color: #E2EBFA;\n",
              "      box-shadow: 0px 1px 2px rgba(60, 64, 67, 0.3), 0px 1px 3px 1px rgba(60, 64, 67, 0.15);\n",
              "      fill: #174EA6;\n",
              "    }\n",
              "\n",
              "    [theme=dark] .colab-df-convert {\n",
              "      background-color: #3B4455;\n",
              "      fill: #D2E3FC;\n",
              "    }\n",
              "\n",
              "    [theme=dark] .colab-df-convert:hover {\n",
              "      background-color: #434B5C;\n",
              "      box-shadow: 0px 1px 3px 1px rgba(0, 0, 0, 0.15);\n",
              "      filter: drop-shadow(0px 1px 2px rgba(0, 0, 0, 0.3));\n",
              "      fill: #FFFFFF;\n",
              "    }\n",
              "  </style>\n",
              "\n",
              "      <script>\n",
              "        const buttonEl =\n",
              "          document.querySelector('#df-80e45245-3ec7-4052-b153-87d38d65c154 button.colab-df-convert');\n",
              "        buttonEl.style.display =\n",
              "          google.colab.kernel.accessAllowed ? 'block' : 'none';\n",
              "\n",
              "        async function convertToInteractive(key) {\n",
              "          const element = document.querySelector('#df-80e45245-3ec7-4052-b153-87d38d65c154');\n",
              "          const dataTable =\n",
              "            await google.colab.kernel.invokeFunction('convertToInteractive',\n",
              "                                                     [key], {});\n",
              "          if (!dataTable) return;\n",
              "\n",
              "          const docLinkHtml = 'Like what you see? Visit the ' +\n",
              "            '<a target=\"_blank\" href=https://colab.research.google.com/notebooks/data_table.ipynb>data table notebook</a>'\n",
              "            + ' to learn more about interactive tables.';\n",
              "          element.innerHTML = '';\n",
              "          dataTable['output_type'] = 'display_data';\n",
              "          await google.colab.output.renderOutput(dataTable, element);\n",
              "          const docLink = document.createElement('div');\n",
              "          docLink.innerHTML = docLinkHtml;\n",
              "          element.appendChild(docLink);\n",
              "        }\n",
              "      </script>\n",
              "    </div>\n",
              "  </div>\n",
              "  "
            ],
            "text/plain": [
              "   row       day  day_of_week        date page_loads first_time_visits  \\\n",
              "0    1    Friday            6   6/26/2020      3,555             2,248   \n",
              "1    2  Thursday            5   8/29/2019      4,221             2,477   \n",
              "2    3    Friday            6  11/18/2016      4,767             2,734   \n",
              "3    4  Saturday            7  11/30/2019      3,301             2,053   \n",
              "4    5    Sunday            1    7/5/2020      2,948             1,836   \n",
              "\n",
              "  returning_visits  \n",
              "0              427  \n",
              "1              505  \n",
              "2              690  \n",
              "3              390  \n",
              "4              362  "
            ]
          },
          "metadata": {},
          "execution_count": 15
        }
      ]
    },
    {
      "cell_type": "code",
      "source": [
        "# [4] 'page_loads', 'first_time_visits', 'returning_visits' 에 대해서 \n",
        "#  콤마를 없애고, int로 형변환 합니다\n",
        "#dfX['page_loads'].str.replace(',', '', regex=True).astype(int)\n",
        "names = ['page_loads', 'first_time_visits', 'returning_visits']\n",
        "dfX[names] = dfX[names].replace(',', '', regex=True).astype(int)\n",
        "dfX.info()"
      ],
      "metadata": {
        "id": "QEkHrVc1tjrN",
        "colab": {
          "base_uri": "https://localhost:8080/"
        },
        "outputId": "daafb485-2cb4-410f-d0d2-8b6dcf25ad08"
      },
      "execution_count": null,
      "outputs": [
        {
          "output_type": "stream",
          "name": "stdout",
          "text": [
            "<class 'pandas.core.frame.DataFrame'>\n",
            "RangeIndex: 2167 entries, 0 to 2166\n",
            "Data columns (total 7 columns):\n",
            " #   Column             Non-Null Count  Dtype \n",
            "---  ------             --------------  ----- \n",
            " 0   row                2167 non-null   int64 \n",
            " 1   day                2167 non-null   object\n",
            " 2   day_of_week        2167 non-null   int64 \n",
            " 3   date               2167 non-null   object\n",
            " 4   page_loads         2167 non-null   int64 \n",
            " 5   first_time_visits  2167 non-null   int64 \n",
            " 6   returning_visits   2167 non-null   int64 \n",
            "dtypes: int64(5), object(2)\n",
            "memory usage: 118.6+ KB\n"
          ]
        }
      ]
    },
    {
      "cell_type": "code",
      "source": [
        "# [5] 'date'에 대해서 datetime64로 형변환 합니다.\n",
        "#dfX['date'] = dfX['date'].astype('datetime64')\n",
        "dfX['date'] = pd.to_datetime(dfX['date'], format='%m/%d/%Y')"
      ],
      "metadata": {
        "id": "kUt_sSsht6gR"
      },
      "execution_count": null,
      "outputs": []
    },
    {
      "cell_type": "code",
      "source": [
        "# [6] 형변환이 올바르게 되었는지 확인합니다.\n",
        "dfX.info()"
      ],
      "metadata": {
        "colab": {
          "base_uri": "https://localhost:8080/"
        },
        "id": "bGBU2gL0ulz6",
        "outputId": "1c802d49-4f9f-4be9-ee1d-c68ac71e4aac"
      },
      "execution_count": null,
      "outputs": [
        {
          "output_type": "stream",
          "name": "stdout",
          "text": [
            "<class 'pandas.core.frame.DataFrame'>\n",
            "RangeIndex: 2167 entries, 0 to 2166\n",
            "Data columns (total 7 columns):\n",
            " #   Column             Non-Null Count  Dtype         \n",
            "---  ------             --------------  -----         \n",
            " 0   row                2167 non-null   int64         \n",
            " 1   day                2167 non-null   object        \n",
            " 2   day_of_week        2167 non-null   int64         \n",
            " 3   date               2167 non-null   datetime64[ns]\n",
            " 4   page_loads         2167 non-null   int64         \n",
            " 5   first_time_visits  2167 non-null   int64         \n",
            " 6   returning_visits   2167 non-null   int64         \n",
            "dtypes: datetime64[ns](1), int64(5), object(1)\n",
            "memory usage: 118.6+ KB\n"
          ]
        }
      ]
    },
    {
      "cell_type": "code",
      "source": [
        "# [7] day, day_of_week를 확인해 보면 동일한 데이터 인 것을 알 수 있음\n",
        "# 'day' 컬럼을 제거합니다.\n",
        "dfX2 = dfX.drop(columns='day')"
      ],
      "metadata": {
        "id": "fexDlnyXkqNQ"
      },
      "execution_count": null,
      "outputs": []
    },
    {
      "cell_type": "code",
      "source": [
        "# [8] 'date'에서 'year', 'month', 'day'에 대한 정보를 dfX2에 포함시키고,\n",
        "# 'date' 를 제거합니다.\n",
        "# 상황에 따라 'quarter' 사용도 고려할 수 있음, 주말/주중으로 나눌 수도 있음 ...  \n",
        "date = pd.DataFrame()\n",
        "temp = dfX2['date'].dt\n",
        "date['year'] = temp.year\n",
        "date['month'] = temp.month\n",
        "date['day'] = temp.day\n",
        "dfX3 = dfX2.drop(columns='date')\n",
        "dfX3 = pd.concat([dfX3, date], axis=1)\n",
        "dfX3.info()"
      ],
      "metadata": {
        "colab": {
          "base_uri": "https://localhost:8080/"
        },
        "id": "TmrffmuzvlZk",
        "outputId": "40d974f1-4380-4d99-df35-0005781a343a"
      },
      "execution_count": null,
      "outputs": [
        {
          "output_type": "stream",
          "name": "stdout",
          "text": [
            "<class 'pandas.core.frame.DataFrame'>\n",
            "RangeIndex: 2167 entries, 0 to 2166\n",
            "Data columns (total 8 columns):\n",
            " #   Column             Non-Null Count  Dtype\n",
            "---  ------             --------------  -----\n",
            " 0   row                2167 non-null   int64\n",
            " 1   day_of_week        2167 non-null   int64\n",
            " 2   page_loads         2167 non-null   int64\n",
            " 3   first_time_visits  2167 non-null   int64\n",
            " 4   returning_visits   2167 non-null   int64\n",
            " 5   year               2167 non-null   int64\n",
            " 6   month              2167 non-null   int64\n",
            " 7   day                2167 non-null   int64\n",
            "dtypes: int64(8)\n",
            "memory usage: 135.6 KB\n"
          ]
        }
      ]
    },
    {
      "cell_type": "code",
      "source": [
        "# [9] dfX3과 Y를 merge 합니다.\n",
        "# Y와 X의 feature의 관계를 분석해 보기 위해!\n",
        "dfXY = pd.merge(dfX3, Y)\n",
        "print(dfXY.shape, dfX3.shape, Y.shape)"
      ],
      "metadata": {
        "colab": {
          "base_uri": "https://localhost:8080/"
        },
        "id": "ChRTc-WymkNo",
        "outputId": "ac1e062f-293e-44e3-f251-16fda2fe5fbb"
      },
      "execution_count": null,
      "outputs": [
        {
          "output_type": "stream",
          "name": "stdout",
          "text": [
            "(1301, 9) (2167, 8) (1301, 2)\n"
          ]
        }
      ]
    },
    {
      "cell_type": "code",
      "source": [
        "# [10] dfXY의 상관계수를 확인한다\n",
        "# 'unique_visits'와 상관이 매우 높은 feature들이 있음 (page_loads, first_time_visits, returning_visits)\n",
        "print(dfXY.corr()['unique_visits'])"
      ],
      "metadata": {
        "colab": {
          "base_uri": "https://localhost:8080/"
        },
        "id": "3nYOXkR_9QpS",
        "outputId": "2274e171-f96b-4408-fc29-865bfe4d8425"
      },
      "execution_count": null,
      "outputs": [
        {
          "output_type": "stream",
          "name": "stdout",
          "text": [
            "row                  0.0162\n",
            "day_of_week         -0.2592\n",
            "page_loads           0.9885\n",
            "first_time_visits    0.9962\n",
            "returning_visits     0.9059\n",
            "year                 0.0707\n",
            "month               -0.0478\n",
            "day                 -0.0353\n",
            "unique_visits        1.0000\n",
            "Name: unique_visits, dtype: float64\n"
          ]
        }
      ]
    },
    {
      "cell_type": "code",
      "source": [
        "# [11] 'day_of_week' 별 'unique_visits'의 평균을 구해본다.\n",
        "# 2, 3, 4, 5 가 높고 1, 6, 7이 낮은 것을 볼 수 있다.\n",
        "temp = dfXY.groupby('day_of_week')['unique_visits'].mean()\n",
        "temp"
      ],
      "metadata": {
        "colab": {
          "base_uri": "https://localhost:8080/"
        },
        "id": "ro6K5c64wXuy",
        "outputId": "40b4a107-5c77-4c28-9dba-7740d16c758a"
      },
      "execution_count": null,
      "outputs": [
        {
          "output_type": "execute_result",
          "data": {
            "text/plain": [
              "day_of_week\n",
              "1   2351.3175\n",
              "2   3487.1016\n",
              "3   3590.0156\n",
              "4   3454.6684\n",
              "5   3362.2404\n",
              "6   2680.1477\n",
              "7   1784.1872\n",
              "Name: unique_visits, dtype: float64"
            ]
          },
          "metadata": {},
          "execution_count": 28
        }
      ]
    },
    {
      "cell_type": "code",
      "source": [
        "# [12] 'day_of_week' 별 평균이 높은 것에 대한 데이터를 high_day_of_week로 저장\n",
        "high_day_of_week = temp[temp > 3000].index.values\n",
        "high_day_of_week"
      ],
      "metadata": {
        "colab": {
          "base_uri": "https://localhost:8080/"
        },
        "id": "44C1oXt4mJVy",
        "outputId": "6ef0d6b8-b23a-4565-be0c-9e778a8d8282"
      },
      "execution_count": null,
      "outputs": [
        {
          "output_type": "execute_result",
          "data": {
            "text/plain": [
              "array([2, 3, 4, 5])"
            ]
          },
          "metadata": {},
          "execution_count": 32
        }
      ]
    },
    {
      "cell_type": "code",
      "source": [
        "# [13] 'month' 별 'unique_visits'의 평균을 구해본다.\n",
        "# 2, 3, 4, 5, 10, 11이 높고 1, 6, 7이 낮은 것을 볼 수 있다.\n",
        "temp = dfXY.groupby('month')['unique_visits'].mean()\n",
        "temp"
      ],
      "metadata": {
        "colab": {
          "base_uri": "https://localhost:8080/"
        },
        "id": "iDZX7wrdnF2M",
        "outputId": "240cf95d-2488-4e62-9113-e818c19f248b"
      },
      "execution_count": null,
      "outputs": [
        {
          "output_type": "execute_result",
          "data": {
            "text/plain": [
              "month\n",
              "1    2504.1947\n",
              "2    3164.8842\n",
              "3    3306.5798\n",
              "4    3835.3818\n",
              "5    3324.8396\n",
              "6    2619.0339\n",
              "7    2315.3505\n",
              "8    2266.5980\n",
              "9    2668.1776\n",
              "10   3188.5345\n",
              "11   3445.1504\n",
              "12   2776.1048\n",
              "Name: unique_visits, dtype: float64"
            ]
          },
          "metadata": {},
          "execution_count": 33
        }
      ]
    },
    {
      "cell_type": "code",
      "source": [
        "# [14] 'month' 별 평균이 높은 것에 대한 데이터를 high_month로 저장\n",
        "high_month = temp[temp > 3000].index.values\n",
        "high_month"
      ],
      "metadata": {
        "colab": {
          "base_uri": "https://localhost:8080/"
        },
        "id": "LLFI4SEtQwd9",
        "outputId": "5613a3a7-a8e9-4295-be36-2a5040ccb617"
      },
      "execution_count": null,
      "outputs": [
        {
          "output_type": "execute_result",
          "data": {
            "text/plain": [
              "array([ 2,  3,  4,  5, 10, 11])"
            ]
          },
          "metadata": {},
          "execution_count": 34
        }
      ]
    },
    {
      "cell_type": "code",
      "source": [
        "dfX3['day_of_week'].isin(high_day_of_week)"
      ],
      "metadata": {
        "id": "kWkAxcDc3KRg"
      },
      "execution_count": null,
      "outputs": []
    },
    {
      "cell_type": "code",
      "source": [
        "# [15] high_day_of_week, high_month의 index 정보를 사용해 파생 변수 생성\n",
        "# dfX3에 높은 평균을 갖는 요일과 달을 1, 아닌 것을 0으로 하는 dow_h, month_h 변수 추가\n",
        "import numpy as np\n",
        "#dfX3['dow_h'] = np.where(dfX3['day_of_week'].isin(high_day_of_week), 1, 0)\n",
        "dfX3['dow_h'] = dfX3['day_of_week'].isin(high_day_of_week).astype(int)\n",
        "dfX3['month_h'] = dfX3['month'].isin(high_month).astype(int)\n",
        "dfX3.head(3)"
      ],
      "metadata": {
        "id": "Pc2ZUmwOzigZ",
        "colab": {
          "base_uri": "https://localhost:8080/",
          "height": 143
        },
        "outputId": "01177a10-f184-44fb-fa2a-68b35795fcf8"
      },
      "execution_count": null,
      "outputs": [
        {
          "output_type": "execute_result",
          "data": {
            "text/html": [
              "\n",
              "  <div id=\"df-d8582f95-6de1-4f35-819f-fdccaf02e64c\">\n",
              "    <div class=\"colab-df-container\">\n",
              "      <div>\n",
              "<style scoped>\n",
              "    .dataframe tbody tr th:only-of-type {\n",
              "        vertical-align: middle;\n",
              "    }\n",
              "\n",
              "    .dataframe tbody tr th {\n",
              "        vertical-align: top;\n",
              "    }\n",
              "\n",
              "    .dataframe thead th {\n",
              "        text-align: right;\n",
              "    }\n",
              "</style>\n",
              "<table border=\"1\" class=\"dataframe\">\n",
              "  <thead>\n",
              "    <tr style=\"text-align: right;\">\n",
              "      <th></th>\n",
              "      <th>row</th>\n",
              "      <th>day_of_week</th>\n",
              "      <th>page_loads</th>\n",
              "      <th>first_time_visits</th>\n",
              "      <th>returning_visits</th>\n",
              "      <th>year</th>\n",
              "      <th>month</th>\n",
              "      <th>day</th>\n",
              "      <th>dow_h</th>\n",
              "      <th>month_h</th>\n",
              "    </tr>\n",
              "  </thead>\n",
              "  <tbody>\n",
              "    <tr>\n",
              "      <th>0</th>\n",
              "      <td>1</td>\n",
              "      <td>6</td>\n",
              "      <td>3555</td>\n",
              "      <td>2248</td>\n",
              "      <td>427</td>\n",
              "      <td>2020</td>\n",
              "      <td>6</td>\n",
              "      <td>26</td>\n",
              "      <td>0</td>\n",
              "      <td>0</td>\n",
              "    </tr>\n",
              "    <tr>\n",
              "      <th>1</th>\n",
              "      <td>2</td>\n",
              "      <td>5</td>\n",
              "      <td>4221</td>\n",
              "      <td>2477</td>\n",
              "      <td>505</td>\n",
              "      <td>2019</td>\n",
              "      <td>8</td>\n",
              "      <td>29</td>\n",
              "      <td>1</td>\n",
              "      <td>0</td>\n",
              "    </tr>\n",
              "    <tr>\n",
              "      <th>2</th>\n",
              "      <td>3</td>\n",
              "      <td>6</td>\n",
              "      <td>4767</td>\n",
              "      <td>2734</td>\n",
              "      <td>690</td>\n",
              "      <td>2016</td>\n",
              "      <td>11</td>\n",
              "      <td>18</td>\n",
              "      <td>0</td>\n",
              "      <td>1</td>\n",
              "    </tr>\n",
              "  </tbody>\n",
              "</table>\n",
              "</div>\n",
              "      <button class=\"colab-df-convert\" onclick=\"convertToInteractive('df-d8582f95-6de1-4f35-819f-fdccaf02e64c')\"\n",
              "              title=\"Convert this dataframe to an interactive table.\"\n",
              "              style=\"display:none;\">\n",
              "        \n",
              "  <svg xmlns=\"http://www.w3.org/2000/svg\" height=\"24px\"viewBox=\"0 0 24 24\"\n",
              "       width=\"24px\">\n",
              "    <path d=\"M0 0h24v24H0V0z\" fill=\"none\"/>\n",
              "    <path d=\"M18.56 5.44l.94 2.06.94-2.06 2.06-.94-2.06-.94-.94-2.06-.94 2.06-2.06.94zm-11 1L8.5 8.5l.94-2.06 2.06-.94-2.06-.94L8.5 2.5l-.94 2.06-2.06.94zm10 10l.94 2.06.94-2.06 2.06-.94-2.06-.94-.94-2.06-.94 2.06-2.06.94z\"/><path d=\"M17.41 7.96l-1.37-1.37c-.4-.4-.92-.59-1.43-.59-.52 0-1.04.2-1.43.59L10.3 9.45l-7.72 7.72c-.78.78-.78 2.05 0 2.83L4 21.41c.39.39.9.59 1.41.59.51 0 1.02-.2 1.41-.59l7.78-7.78 2.81-2.81c.8-.78.8-2.07 0-2.86zM5.41 20L4 18.59l7.72-7.72 1.47 1.35L5.41 20z\"/>\n",
              "  </svg>\n",
              "      </button>\n",
              "      \n",
              "  <style>\n",
              "    .colab-df-container {\n",
              "      display:flex;\n",
              "      flex-wrap:wrap;\n",
              "      gap: 12px;\n",
              "    }\n",
              "\n",
              "    .colab-df-convert {\n",
              "      background-color: #E8F0FE;\n",
              "      border: none;\n",
              "      border-radius: 50%;\n",
              "      cursor: pointer;\n",
              "      display: none;\n",
              "      fill: #1967D2;\n",
              "      height: 32px;\n",
              "      padding: 0 0 0 0;\n",
              "      width: 32px;\n",
              "    }\n",
              "\n",
              "    .colab-df-convert:hover {\n",
              "      background-color: #E2EBFA;\n",
              "      box-shadow: 0px 1px 2px rgba(60, 64, 67, 0.3), 0px 1px 3px 1px rgba(60, 64, 67, 0.15);\n",
              "      fill: #174EA6;\n",
              "    }\n",
              "\n",
              "    [theme=dark] .colab-df-convert {\n",
              "      background-color: #3B4455;\n",
              "      fill: #D2E3FC;\n",
              "    }\n",
              "\n",
              "    [theme=dark] .colab-df-convert:hover {\n",
              "      background-color: #434B5C;\n",
              "      box-shadow: 0px 1px 3px 1px rgba(0, 0, 0, 0.15);\n",
              "      filter: drop-shadow(0px 1px 2px rgba(0, 0, 0, 0.3));\n",
              "      fill: #FFFFFF;\n",
              "    }\n",
              "  </style>\n",
              "\n",
              "      <script>\n",
              "        const buttonEl =\n",
              "          document.querySelector('#df-d8582f95-6de1-4f35-819f-fdccaf02e64c button.colab-df-convert');\n",
              "        buttonEl.style.display =\n",
              "          google.colab.kernel.accessAllowed ? 'block' : 'none';\n",
              "\n",
              "        async function convertToInteractive(key) {\n",
              "          const element = document.querySelector('#df-d8582f95-6de1-4f35-819f-fdccaf02e64c');\n",
              "          const dataTable =\n",
              "            await google.colab.kernel.invokeFunction('convertToInteractive',\n",
              "                                                     [key], {});\n",
              "          if (!dataTable) return;\n",
              "\n",
              "          const docLinkHtml = 'Like what you see? Visit the ' +\n",
              "            '<a target=\"_blank\" href=https://colab.research.google.com/notebooks/data_table.ipynb>data table notebook</a>'\n",
              "            + ' to learn more about interactive tables.';\n",
              "          element.innerHTML = '';\n",
              "          dataTable['output_type'] = 'display_data';\n",
              "          await google.colab.output.renderOutput(dataTable, element);\n",
              "          const docLink = document.createElement('div');\n",
              "          docLink.innerHTML = docLinkHtml;\n",
              "          element.appendChild(docLink);\n",
              "        }\n",
              "      </script>\n",
              "    </div>\n",
              "  </div>\n",
              "  "
            ],
            "text/plain": [
              "   row  day_of_week  page_loads  first_time_visits  returning_visits  year  \\\n",
              "0    1            6        3555               2248               427  2020   \n",
              "1    2            5        4221               2477               505  2019   \n",
              "2    3            6        4767               2734               690  2016   \n",
              "\n",
              "   month  day  dow_h  month_h  \n",
              "0      6   26      0        0  \n",
              "1      8   29      1        0  \n",
              "2     11   18      0        1  "
            ]
          },
          "metadata": {},
          "execution_count": 39
        }
      ]
    },
    {
      "cell_type": "code",
      "source": [
        "temp = dfXY.groupby('year')['unique_visits'].mean()\n",
        "temp"
      ],
      "metadata": {
        "colab": {
          "base_uri": "https://localhost:8080/"
        },
        "id": "iQUt-v0u4BJ_",
        "outputId": "01a413b1-16ba-4d08-8151-316ba00d9def"
      },
      "execution_count": null,
      "outputs": [
        {
          "output_type": "execute_result",
          "data": {
            "text/plain": [
              "year\n",
              "2014   2588.9322\n",
              "2015   2946.1948\n",
              "2016   3240.0045\n",
              "2017   2502.0631\n",
              "2018   3027.3835\n",
              "2019   3069.0755\n",
              "2020   3155.5333\n",
              "Name: unique_visits, dtype: float64"
            ]
          },
          "metadata": {},
          "execution_count": 40
        }
      ]
    },
    {
      "cell_type": "markdown",
      "source": [
        "### 4-3.성능평가, 모델링 함수\n"
      ],
      "metadata": {
        "id": "vywUBzy4TETR"
      }
    },
    {
      "cell_type": "code",
      "source": [
        "#[16] 사용할 라이브러리 import\n",
        "from sklearn.model_selection import train_test_split\n",
        "from sklearn.linear_model import LinearRegression\n",
        "from sklearn.tree import DecisionTreeRegressor\n",
        "from sklearn.ensemble import RandomForestRegressor\n",
        "from xgboost import XGBRegressor\n",
        "\n",
        "from sklearn.preprocessing import PolynomialFeatures\n",
        "from sklearn.linear_model import Ridge, Lasso"
      ],
      "metadata": {
        "id": "0KjwP8wTSkuh"
      },
      "execution_count": null,
      "outputs": []
    },
    {
      "cell_type": "code",
      "source": [
        "from sklearn.metrics import r2_score\n",
        "from sklearn.metrics import mean_absolute_error as mae\n",
        "from sklearn.metrics import mean_squared_error as mse\n",
        "from sklearn.metrics import mean_squared_log_error as msle\n",
        "import numpy as np  # 추가해야함\n",
        "\n",
        "# [17] r2_train, r2_test, mae, mse, rmse, msle, rmsle 를 구해 \n",
        "#      Series로 반환하는 함수를 작성합니다.\n",
        "def get_scores2(model, xtrain, xtest, ytrain, ytest):\n",
        "    pred1 = model.predict(xtrain)   # train\n",
        "    pred2 = model.predict(xtest)    # test\n",
        "\n",
        "    # 음수가 있어도 상관없음\n",
        "    A1 = r2_score(ytrain, pred1)\n",
        "    A2 = r2_score(ytest, pred2)\n",
        "    B = mae(ytest, pred2)\n",
        "    C = mse(ytest, pred2)    \n",
        "    E = np.sqrt(C)   # rmse\n",
        "\n",
        "    # msle, rmsle 는 음수가 있어서는 안됨\n",
        "    pred2 = np.where(pred2<0, 0, pred2)\n",
        "    D = msle(ytest, pred2)    \n",
        "    F = np.sqrt(D)   # rmsle   \n",
        "    data = [round(x, 4) for x in [A1, A2, B,C,D,E,F]]\n",
        "    names = 'r2_train r2_test mae mse msle rmse rmsle'.split()\n",
        "    scores = pd.Series(data, index=names)\n",
        "    return  scores"
      ],
      "metadata": {
        "id": "AhB-dduFf10t"
      },
      "execution_count": null,
      "outputs": []
    },
    {
      "cell_type": "code",
      "source": [
        "# [18] 다양한 모델을 만들고 성능을 출력하는 함수 작성\n",
        "# 결과를 DataFrame으로 만듭니다\n",
        "def make_models(xtrain, xtest, ytrain, ytest, n=300, RL=False):\n",
        "    temp = pd.DataFrame()\n",
        "    \n",
        "    model1 = LinearRegression().fit(xtrain, ytrain)\n",
        "    temp['model1'] = get_scores2(model1, xtrain, xtest, ytrain, ytest)\n",
        "\n",
        "    if not RL:\n",
        "        model2 = DecisionTreeRegressor(random_state=0).fit(xtrain, ytrain)  # overfitting 나기 쉬움\n",
        "        temp['model2'] = get_scores2(model2, xtrain, xtest, ytrain, ytest)\n",
        "\n",
        "        for d in range(3, 9):\n",
        "            model2 = DecisionTreeRegressor(max_depth=d, random_state=0).fit(xtrain, ytrain)  \n",
        "            temp[f'model2_{d}'] = get_scores2(model2, xtrain, xtest, ytrain, ytest)\n",
        "\n",
        "        model3 = RandomForestRegressor(n, random_state=0).fit(xtrain, ytrain)  \n",
        "        temp['model3'] = get_scores2(model3, xtrain, xtest, ytrain, ytest)\n",
        "\n",
        "        for d in range(3, 9):\n",
        "            model3 = RandomForestRegressor(n, max_depth=d, random_state=0).fit(xtrain, ytrain) \n",
        "            temp[f'model3_{d}'] = get_scores2(model3, xtrain, xtest, ytrain, ytest)\n",
        "\n",
        "    model4 = XGBRegressor(objective='reg:squarederror').fit(xtrain, ytrain)  \n",
        "    temp['model4'] = get_scores2(model4, xtrain, xtest, ytrain, ytest)\n",
        "\n",
        "    if RL:\n",
        "        for a in [0.01, 0.1, 1, 2]:\n",
        "            model5 = Ridge(alpha=a).fit(xtrain, ytrain)  \n",
        "            temp[f'model5_{a}'] = get_scores2(model5, xtrain, xtest, ytrain, ytest)\n",
        "\n",
        "        for a in [0.01, 0.1, 1, 2]:\n",
        "            model6 = Lasso(alpha=a).fit(xtrain, ytrain)  \n",
        "            temp[f'model6_{a}'] = get_scores2(model6, xtrain, xtest, ytrain, ytest)\n",
        "\n",
        "\n",
        "    temp = temp.T\n",
        "    temp.insert(2, 'diff', (temp['r2_train'] - temp['r2_test']).abs())\n",
        "  \n",
        "    return temp"
      ],
      "metadata": {
        "id": "oTIj_pGIepyQ"
      },
      "execution_count": null,
      "outputs": []
    },
    {
      "cell_type": "markdown",
      "source": [
        "### 4-4.데이터 분리, 모델적용"
      ],
      "metadata": {
        "id": "-rvYjMCWuxC6"
      }
    },
    {
      "cell_type": "code",
      "source": [
        "dfX3.columns"
      ],
      "metadata": {
        "colab": {
          "base_uri": "https://localhost:8080/"
        },
        "id": "HChCbSTQedd-",
        "outputId": "842c730c-8858-44b0-dff5-8aca406209d9"
      },
      "execution_count": null,
      "outputs": [
        {
          "output_type": "execute_result",
          "data": {
            "text/plain": [
              "Index(['row', 'day_of_week', 'page_loads', 'first_time_visits',\n",
              "       'returning_visits', 'year', 'month', 'day', 'dow_h', 'month_h'],\n",
              "      dtype='object')"
            ]
          },
          "metadata": {},
          "execution_count": 70
        }
      ]
    },
    {
      "cell_type": "code",
      "source": [
        "# [19] 학습에 사용할 feature 선택, \n",
        "# dfX4로 저장\n",
        "# 'page_loads','first_time_visits' => 이것을 사용하면 성능이 무지 좋아요. (높은 상관계수)\n",
        "from sklearn.preprocessing import MinMaxScaler\n",
        "Xfeatures = ['day_of_week',# 'page_loads', 'first_time_visits',\n",
        "             'returning_visits', 'year', 'month', 'day', 'dow_h', 'month_h']\n",
        "dfX4 = dfX3[Xfeatures]     \n",
        "#dfX4 = MinMaxScaler().fit_transform(dfX4)  # dfX4 ndarray 객체\n",
        "print(dfX4.shape, type(dfX4))"
      ],
      "metadata": {
        "id": "5Byg4kqEunL-",
        "colab": {
          "base_uri": "https://localhost:8080/"
        },
        "outputId": "4dda6a96-60f8-4a82-9356-4330580eba58"
      },
      "execution_count": null,
      "outputs": [
        {
          "output_type": "stream",
          "name": "stdout",
          "text": [
            "(2167, 9) <class 'pandas.core.frame.DataFrame'>\n"
          ]
        }
      ]
    },
    {
      "cell_type": "code",
      "source": [
        "# [20] dfX4 데이터를 X_use, X_submission 으로 다시 분리\n",
        "# dfX4 분리에서는 X_use의 행의 개수 사용\n",
        "# YF, Y_submissionF 생성  Y에서 'unique_visits'만 선택\n",
        "train_size = len(X_use)\n",
        "XF = dfX4[:train_size]  # 행 선택, ndarray, DataFrame 모두 가능\n",
        "X_submissionF = dfX4[train_size:]  # 행 선택, 제출용\n",
        "YF = Y['unique_visits']\n",
        "Y_submissionF = Y_hidden['unique_visits']\n",
        "print([x.shape for x in [XF, X_submissionF, YF, Y_submissionF]])"
      ],
      "metadata": {
        "colab": {
          "base_uri": "https://localhost:8080/"
        },
        "id": "k13UG-bDuLyg",
        "outputId": "acd381bb-607d-450f-ef28-e6f3bd2224a9"
      },
      "execution_count": null,
      "outputs": [
        {
          "output_type": "stream",
          "name": "stdout",
          "text": [
            "[(1301, 9), (866, 9), (1301,), (866,)]\n"
          ]
        }
      ]
    },
    {
      "cell_type": "code",
      "source": [
        "# [21] XF, YF 데이터를 사용하여 데이터를 분리하고 make_models를 호출합니다.\n",
        "xtrain, xtest, ytrain, ytest = train_test_split(XF, YF,\n",
        "                                                test_size = 0.3,\n",
        "                                                random_state=1234)\n",
        "print([x.shape for x in [xtrain, xtest, ytrain, ytest]])\n",
        "models = make_models(xtrain, xtest, ytrain, ytest)\n",
        "print(models)"
      ],
      "metadata": {
        "colab": {
          "base_uri": "https://localhost:8080/"
        },
        "id": "qdPSq0TRj0TM",
        "outputId": "36c4d4e9-6764-4576-feff-1fff98e97acc"
      },
      "execution_count": null,
      "outputs": [
        {
          "output_type": "stream",
          "name": "stdout",
          "text": [
            "[(910, 9), (391, 9), (910,), (391,)]\n",
            "          r2_train  r2_test   diff      mae        mse   msle     rmse  rmsle\n",
            "model1      1.0000   1.0000 0.0000   0.0000     0.0000 0.0000   0.0000 0.0000\n",
            "model2      1.0000   0.9975 0.0025  39.0563  2642.2481 0.0005  51.4028 0.0215\n",
            "model2_3    0.9694   0.9649 0.0045 151.7075 36633.5008 0.0072 191.3988 0.0848\n",
            "model2_4    0.9878   0.9834 0.0044 102.8897 17365.1993 0.0033 131.7771 0.0572\n",
            "model2_5    0.9942   0.9919 0.0023  73.4576  8447.5513 0.0013  91.9106 0.0364\n",
            "model2_6    0.9971   0.9954 0.0017  55.6050  4830.4610 0.0008  69.5015 0.0279\n",
            "model2_7    0.9988   0.9971 0.0017  44.0379  3030.8953 0.0005  55.0536 0.0225\n",
            "model2_8    0.9995   0.9974 0.0021  40.5876  2683.5802 0.0005  51.8033 0.0212\n",
            "model3      0.9998   0.9987 0.0011  23.3542  1308.1246 0.0002  36.1680 0.0134\n",
            "model3_3    0.9839   0.9793 0.0046 108.3793 21616.8887 0.0048 147.0268 0.0690\n",
            "model3_4    0.9934   0.9911 0.0023  72.7674  9276.9061 0.0016  96.3167 0.0397\n",
            "model3_5    0.9978   0.9965 0.0013  43.5985  3617.6020 0.0005  60.1465 0.0226\n",
            "model3_6    0.9991   0.9980 0.0011  32.3724  2110.1491 0.0003  45.9364 0.0173\n",
            "model3_7    0.9996   0.9985 0.0011  27.1176  1598.1403 0.0002  39.9767 0.0147\n",
            "model3_8    0.9998   0.9987 0.0011  24.6561  1403.1602 0.0002  37.4588 0.0139\n",
            "model4      0.9995   0.9990 0.0005  26.1193  1089.7873 0.0002  33.0119 0.0144\n"
          ]
        }
      ]
    },
    {
      "cell_type": "code",
      "source": [
        "# [22] 여러 가지 조건으로 정렬하고 평가할 수 있음\n",
        "print(models.sort_values('rmsle').head(7))"
      ],
      "metadata": {
        "colab": {
          "base_uri": "https://localhost:8080/"
        },
        "id": "Yk9QmemCqBUB",
        "outputId": "58784ffa-b0cd-4e22-f808-af2a83597c02"
      },
      "execution_count": null,
      "outputs": [
        {
          "output_type": "stream",
          "name": "stdout",
          "text": [
            "          r2_train  r2_test   diff     mae       mse   msle    rmse  rmsle\n",
            "model1      1.0000   1.0000 0.0000  0.0000    0.0000 0.0000  0.0000 0.0000\n",
            "model3      0.9998   0.9987 0.0011 23.3542 1308.1246 0.0002 36.1680 0.0134\n",
            "model3_8    0.9998   0.9987 0.0011 24.6561 1403.1602 0.0002 37.4588 0.0139\n",
            "model4      0.9995   0.9990 0.0005 26.1193 1089.7873 0.0002 33.0119 0.0144\n",
            "model3_7    0.9996   0.9985 0.0011 27.1176 1598.1403 0.0002 39.9767 0.0147\n",
            "model3_6    0.9991   0.9980 0.0011 32.3724 2110.1491 0.0003 45.9364 0.0173\n",
            "model2_8    0.9995   0.9974 0.0021 40.5876 2683.5802 0.0005 51.8033 0.0212\n"
          ]
        }
      ]
    },
    {
      "cell_type": "code",
      "source": [
        "# [23] Polynomial Regression  + Ridge, Lasso 실행\n",
        "dfX4 = dfX3[Xfeatures]     \n",
        "Xscaled = MinMaxScaler().fit_transform(dfX4)  # Xscaled ndarray 객체\n",
        "Xpoly = PolynomialFeatures(degree=3).fit_transform(Xscaled)\n",
        "XF2 = Xpoly[:train_size]  # 학습용\n",
        "X_submissionF2 = Xpoly[train_size:]  # 제출용\n",
        "\n",
        "xtrain2, xtest2, ytrain2, ytest2 = train_test_split(XF2, YF,\n",
        "                                                    test_size = 0.3,\n",
        "                                                    random_state=1234)\n",
        "print([x.shape for x in [xtrain2, xtest2, ytrain2, ytest2]])"
      ],
      "metadata": {
        "id": "DgfHbvsbXQ2W"
      },
      "execution_count": null,
      "outputs": []
    },
    {
      "cell_type": "code",
      "source": [
        "models = make_models(xtrain2, xtest2, ytrain2, ytest2, RL=True)\n",
        "print(models)"
      ],
      "metadata": {
        "id": "NrlBbYCEsHNM"
      },
      "execution_count": null,
      "outputs": []
    },
    {
      "cell_type": "code",
      "source": [
        "# [24] 여러 가지 조건으로 정렬하고 평가할 수 있음\n",
        "print(models.sort_values('rmsle'))"
      ],
      "metadata": {
        "id": "Oz_YIYJpsJj5"
      },
      "execution_count": null,
      "outputs": []
    },
    {
      "cell_type": "code",
      "source": [
        "# XF, YF\n",
        "# model4      0.9694   0.9613 0.0081 152.6876  40391.0413 0.0058 200.9752 0.0764\n",
        "# 번외  # model3      0.9998   0.9987 0.0011 23.3542    1308.1246 0.0002 36.1680  0.0134\n",
        "\n",
        "# XF2, YF\n",
        "# model6_0.1  0.9506   0.9563 0.0057 170.1574 45614.3617 0.0073 213.5752 0.0854"
      ],
      "metadata": {
        "id": "hi5bYRkBsp--"
      },
      "execution_count": null,
      "outputs": []
    },
    {
      "cell_type": "code",
      "source": [
        "# [TIP] 학습 중 warning 메시지 없애기\n",
        "import warnings\n",
        "warnings.filterwarnings('ignore')"
      ],
      "metadata": {
        "id": "1d0GamF9cG0G"
      },
      "execution_count": null,
      "outputs": []
    },
    {
      "cell_type": "markdown",
      "source": [
        "### 4-5. 모델 선택, 결과 제출"
      ],
      "metadata": {
        "id": "yZLKTfQMXDpL"
      }
    },
    {
      "cell_type": "code",
      "source": [
        "# [25] xtrain, ytrain으로 모델 학습시켜 model 로 저장\n",
        "model = XGBRegressor(objective='reg:squarederror').fit(xtrain, ytrain)  \n",
        "print(get_scores2(model, xtrain, xtest, ytrain, ytest))"
      ],
      "metadata": {
        "colab": {
          "base_uri": "https://localhost:8080/"
        },
        "id": "jy0NcFz9OiLa",
        "outputId": "ac9dab8f-0a11-4a78-e1da-c5bf41d0b484"
      },
      "execution_count": null,
      "outputs": [
        {
          "output_type": "stream",
          "name": "stdout",
          "text": [
            "r2_train       0.9694\n",
            "r2_test        0.9613\n",
            "mae          152.6876\n",
            "mse        40391.0413\n",
            "msle           0.0058\n",
            "rmse         200.9752\n",
            "rmsle          0.0764\n",
            "dtype: float64\n"
          ]
        }
      ]
    },
    {
      "cell_type": "code",
      "source": [
        "# [26] X_submissionF 데이터로 pred 구하고 submission DataFrame 생성\n",
        "pred = model.predict(X_submissionF)\n",
        "submission = pd.DataFrame({'row': X_submission['row'],\n",
        "                           'unique_visits': pred})\n",
        "submission.head()"
      ],
      "metadata": {
        "id": "tZNHCVbswAZm"
      },
      "execution_count": null,
      "outputs": []
    },
    {
      "cell_type": "code",
      "source": [
        "# [27] xtrain2, ytrain2으로 모델 학습시켜 model 로 저장\n",
        "model = Lasso(alpha=0.1).fit(xtrain2, ytrain2)  \n",
        "print(get_scores2(model, xtrain2, xtest2, ytrain2, ytest2))"
      ],
      "metadata": {
        "colab": {
          "base_uri": "https://localhost:8080/"
        },
        "id": "g5lXhgCguFVC",
        "outputId": "6432b6f1-da2a-4a2f-f7d4-d298ea1465c8"
      },
      "execution_count": null,
      "outputs": [
        {
          "output_type": "stream",
          "name": "stdout",
          "text": [
            "r2_train       0.9506\n",
            "r2_test        0.9563\n",
            "mae          170.1574\n",
            "mse        45614.3617\n",
            "msle           0.0073\n",
            "rmse         213.5752\n",
            "rmsle          0.0854\n",
            "dtype: float64\n"
          ]
        }
      ]
    },
    {
      "cell_type": "code",
      "source": [
        "# [28] X_submissionF2 데이터로 pred 구하고 submission DataFrame 생성\n",
        "pred = model.predict(X_submissionF2)\n",
        "submission = pd.DataFrame({'row': X_submission['row'],\n",
        "                           'unique_visits': pred})\n",
        "submission.head()"
      ],
      "metadata": {
        "colab": {
          "base_uri": "https://localhost:8080/",
          "height": 206
        },
        "id": "0lP6ThERuE5q",
        "outputId": "4527dd36-bacf-4d69-d64d-32d79717d24d"
      },
      "execution_count": null,
      "outputs": [
        {
          "output_type": "execute_result",
          "data": {
            "text/html": [
              "\n",
              "  <div id=\"df-6f53f9fd-479a-410c-974f-d303519a33a0\">\n",
              "    <div class=\"colab-df-container\">\n",
              "      <div>\n",
              "<style scoped>\n",
              "    .dataframe tbody tr th:only-of-type {\n",
              "        vertical-align: middle;\n",
              "    }\n",
              "\n",
              "    .dataframe tbody tr th {\n",
              "        vertical-align: top;\n",
              "    }\n",
              "\n",
              "    .dataframe thead th {\n",
              "        text-align: right;\n",
              "    }\n",
              "</style>\n",
              "<table border=\"1\" class=\"dataframe\">\n",
              "  <thead>\n",
              "    <tr style=\"text-align: right;\">\n",
              "      <th></th>\n",
              "      <th>row</th>\n",
              "      <th>unique_visits</th>\n",
              "    </tr>\n",
              "  </thead>\n",
              "  <tbody>\n",
              "    <tr>\n",
              "      <th>1301</th>\n",
              "      <td>1302</td>\n",
              "      <td>2709.0922</td>\n",
              "    </tr>\n",
              "    <tr>\n",
              "      <th>1302</th>\n",
              "      <td>1303</td>\n",
              "      <td>4148.5377</td>\n",
              "    </tr>\n",
              "    <tr>\n",
              "      <th>1303</th>\n",
              "      <td>1304</td>\n",
              "      <td>3254.5924</td>\n",
              "    </tr>\n",
              "    <tr>\n",
              "      <th>1304</th>\n",
              "      <td>1305</td>\n",
              "      <td>2722.0792</td>\n",
              "    </tr>\n",
              "    <tr>\n",
              "      <th>1305</th>\n",
              "      <td>1306</td>\n",
              "      <td>1247.5313</td>\n",
              "    </tr>\n",
              "  </tbody>\n",
              "</table>\n",
              "</div>\n",
              "      <button class=\"colab-df-convert\" onclick=\"convertToInteractive('df-6f53f9fd-479a-410c-974f-d303519a33a0')\"\n",
              "              title=\"Convert this dataframe to an interactive table.\"\n",
              "              style=\"display:none;\">\n",
              "        \n",
              "  <svg xmlns=\"http://www.w3.org/2000/svg\" height=\"24px\"viewBox=\"0 0 24 24\"\n",
              "       width=\"24px\">\n",
              "    <path d=\"M0 0h24v24H0V0z\" fill=\"none\"/>\n",
              "    <path d=\"M18.56 5.44l.94 2.06.94-2.06 2.06-.94-2.06-.94-.94-2.06-.94 2.06-2.06.94zm-11 1L8.5 8.5l.94-2.06 2.06-.94-2.06-.94L8.5 2.5l-.94 2.06-2.06.94zm10 10l.94 2.06.94-2.06 2.06-.94-2.06-.94-.94-2.06-.94 2.06-2.06.94z\"/><path d=\"M17.41 7.96l-1.37-1.37c-.4-.4-.92-.59-1.43-.59-.52 0-1.04.2-1.43.59L10.3 9.45l-7.72 7.72c-.78.78-.78 2.05 0 2.83L4 21.41c.39.39.9.59 1.41.59.51 0 1.02-.2 1.41-.59l7.78-7.78 2.81-2.81c.8-.78.8-2.07 0-2.86zM5.41 20L4 18.59l7.72-7.72 1.47 1.35L5.41 20z\"/>\n",
              "  </svg>\n",
              "      </button>\n",
              "      \n",
              "  <style>\n",
              "    .colab-df-container {\n",
              "      display:flex;\n",
              "      flex-wrap:wrap;\n",
              "      gap: 12px;\n",
              "    }\n",
              "\n",
              "    .colab-df-convert {\n",
              "      background-color: #E8F0FE;\n",
              "      border: none;\n",
              "      border-radius: 50%;\n",
              "      cursor: pointer;\n",
              "      display: none;\n",
              "      fill: #1967D2;\n",
              "      height: 32px;\n",
              "      padding: 0 0 0 0;\n",
              "      width: 32px;\n",
              "    }\n",
              "\n",
              "    .colab-df-convert:hover {\n",
              "      background-color: #E2EBFA;\n",
              "      box-shadow: 0px 1px 2px rgba(60, 64, 67, 0.3), 0px 1px 3px 1px rgba(60, 64, 67, 0.15);\n",
              "      fill: #174EA6;\n",
              "    }\n",
              "\n",
              "    [theme=dark] .colab-df-convert {\n",
              "      background-color: #3B4455;\n",
              "      fill: #D2E3FC;\n",
              "    }\n",
              "\n",
              "    [theme=dark] .colab-df-convert:hover {\n",
              "      background-color: #434B5C;\n",
              "      box-shadow: 0px 1px 3px 1px rgba(0, 0, 0, 0.15);\n",
              "      filter: drop-shadow(0px 1px 2px rgba(0, 0, 0, 0.3));\n",
              "      fill: #FFFFFF;\n",
              "    }\n",
              "  </style>\n",
              "\n",
              "      <script>\n",
              "        const buttonEl =\n",
              "          document.querySelector('#df-6f53f9fd-479a-410c-974f-d303519a33a0 button.colab-df-convert');\n",
              "        buttonEl.style.display =\n",
              "          google.colab.kernel.accessAllowed ? 'block' : 'none';\n",
              "\n",
              "        async function convertToInteractive(key) {\n",
              "          const element = document.querySelector('#df-6f53f9fd-479a-410c-974f-d303519a33a0');\n",
              "          const dataTable =\n",
              "            await google.colab.kernel.invokeFunction('convertToInteractive',\n",
              "                                                     [key], {});\n",
              "          if (!dataTable) return;\n",
              "\n",
              "          const docLinkHtml = 'Like what you see? Visit the ' +\n",
              "            '<a target=\"_blank\" href=https://colab.research.google.com/notebooks/data_table.ipynb>data table notebook</a>'\n",
              "            + ' to learn more about interactive tables.';\n",
              "          element.innerHTML = '';\n",
              "          dataTable['output_type'] = 'display_data';\n",
              "          await google.colab.output.renderOutput(dataTable, element);\n",
              "          const docLink = document.createElement('div');\n",
              "          docLink.innerHTML = docLinkHtml;\n",
              "          element.appendChild(docLink);\n",
              "        }\n",
              "      </script>\n",
              "    </div>\n",
              "  </div>\n",
              "  "
            ],
            "text/plain": [
              "       row  unique_visits\n",
              "1301  1302      2709.0922\n",
              "1302  1303      4148.5377\n",
              "1303  1304      3254.5924\n",
              "1304  1305      2722.0792\n",
              "1305  1306      1247.5313"
            ]
          },
          "metadata": {},
          "execution_count": 119
        }
      ]
    },
    {
      "cell_type": "code",
      "source": [
        "# [29] 파일로 저장\n",
        "submission.to_csv('00001000.csv', index=False)"
      ],
      "metadata": {
        "id": "msbGSDVIwpdy"
      },
      "execution_count": null,
      "outputs": []
    },
    {
      "cell_type": "code",
      "source": [
        "# ^^!  앗    Y_hidden을 사용안해봤네요.\n",
        "# 아래와 같이 사용하실 수 있습니다. (Lasso Model 인 경우)\n",
        "print(get_scores2(model, XF2, X_submissionF2, YF, Y_submissionF))"
      ],
      "metadata": {
        "id": "oG7e0rVjBB__"
      },
      "execution_count": null,
      "outputs": []
    },
    {
      "cell_type": "markdown",
      "source": [
        "### 4-6.시험보러 가서는 이렇게\n",
        "- 필수 작업만 복사해 보겠습니다."
      ],
      "metadata": {
        "id": "VqPwh8pfKIS2"
      }
    },
    {
      "cell_type": "code",
      "source": [
        "# 실제 작업 - 복잡하게 했을 때 보다 성능이 더 좋아진것 같네요 ^^!\n",
        "\n",
        "# import 를 쭈우욱!! 작성\n",
        "import pandas as pd\n",
        "# 시험환경에서는 아래와 같이 해야해서 수정했습니다 ^^*\n",
        "pd.options.display.max_rows = 500     #출력할 max row를 지정\n",
        "pd.options.display.max_columns = 20   #출력할 max columns를 지정\n",
        "\n",
        "pd.set_option('display.float_format', '{:.4f}'.format)\n",
        "from sklearn.model_selection import train_test_split\n",
        "from sklearn.linear_model import LinearRegression\n",
        "from sklearn.tree import DecisionTreeRegressor\n",
        "from sklearn.ensemble import RandomForestRegressor\n",
        "from xgboost import XGBRegressor\n",
        "from sklearn.preprocessing import MinMaxScaler\n",
        "from sklearn.metrics import r2_score\n",
        "from sklearn.metrics import mean_absolute_error as mae\n",
        "from sklearn.metrics import mean_squared_error as mse\n",
        "from sklearn.metrics import mean_squared_log_error as msle\n",
        "import numpy as np  # 추가해야함\n",
        "\n",
        "# 함수들은 만들어야 합니다.\n",
        "\n",
        "def get_scores_f(model, xtrain, xtest, ytrain, ytest):\n",
        "    pred1 = model.predict(xtrain)   # train\n",
        "    pred2 = model.predict(xtest)    # test\n",
        "\n",
        "    # 음수가 있어도 상관없음\n",
        "    A1 = r2_score(ytrain, pred1)\n",
        "    A2 = r2_score(ytest, pred2)\n",
        "    # msle, rmsle 는 음수가 있어서는 안됨\n",
        "    pred2 = np.where(pred2<0, 0, pred2)\n",
        "    B = msle(ytest, pred2)    \n",
        "    C = np.sqrt(B)   # rmsle   \n",
        "    data = [round(x, 4) for x in [A1, A2, C]]\n",
        "    names = 'r2_train r2_test rmsle'.split()\n",
        "    scores = pd.Series(data, index=names)\n",
        "    return  scores\n",
        "\n",
        "# 앗 ^^  내부의 함수 이름도 바꾸었어야 하는데 강의에서 바꾸지 않았었네요 \n",
        "# get_scores_f!\n",
        "def make_models_f(xtrain, xtest, ytrain, ytest, n=300):\n",
        "    temp = pd.DataFrame()\n",
        "    \n",
        "    model1 = LinearRegression().fit(xtrain, ytrain)\n",
        "    temp['model1'] = get_scores_f(model1, xtrain, xtest, ytrain, ytest)\n",
        "\n",
        "    model2 = DecisionTreeRegressor(random_state=0).fit(xtrain, ytrain)  # overfitting 나기 쉬움\n",
        "    temp['model2'] = get_scores_f(model2, xtrain, xtest, ytrain, ytest)\n",
        "\n",
        "    for d in range(3, 9):\n",
        "        model2 = DecisionTreeRegressor(max_depth=d, random_state=0).fit(xtrain, ytrain)  \n",
        "        temp[f'model2_{d}'] = get_scores_f(model2, xtrain, xtest, ytrain, ytest)\n",
        "\n",
        "    model3 = RandomForestRegressor(n, random_state=0).fit(xtrain, ytrain)  \n",
        "    temp['model3'] = get_scores_f(model3, xtrain, xtest, ytrain, ytest)\n",
        "\n",
        "    for d in range(3, 9):\n",
        "        model3 = RandomForestRegressor(n, max_depth=d, random_state=0).fit(xtrain, ytrain) \n",
        "        temp[f'model3_{d}'] = get_scores_f(model3, xtrain, xtest, ytrain, ytest)\n",
        "\n",
        "    model4 = XGBRegressor(objective='reg:squarederror').fit(xtrain, ytrain)  \n",
        "    temp['model4'] = get_scores_f(model4, xtrain, xtest, ytrain, ytest)\n",
        "\n",
        "    temp = temp.T\n",
        "    temp.insert(2, 'diff', (temp['r2_train'] - temp['r2_test']).abs())\n",
        "  \n",
        "    return temp\n",
        "\n",
        "\n",
        "X_use = pd.read_csv('x_train.csv')\n",
        "X_submission = pd.read_csv('x_test.csv')\n",
        "Y = pd.read_csv('y_train.csv')\n",
        "\n",
        "dfX = pd.concat([X_use, X_submission], ignore_index=True, axis=0)\n",
        "dfX.info()\n",
        "\n",
        "names = ['page_loads', 'first_time_visits', 'returning_visits']\n",
        "dfX[names] = dfX[names].replace(',', '', regex=True).astype(int)\n",
        "\n",
        "dfX['date'] = pd.to_datetime(dfX['date'], format='%m/%d/%Y')\n",
        "dfX2 = dfX.drop(columns='day')\n",
        "\n",
        "date = pd.DataFrame()\n",
        "temp = dfX2['date'].dt\n",
        "date['year'] = temp.year\n",
        "date['month'] = temp.month\n",
        "date['day'] = temp.day\n",
        "dfX3 = dfX2.drop(columns='date')\n",
        "dfX3 = pd.concat([dfX3, date], axis=1)\n",
        "#print(dfX3.info())\n",
        "#dfXY = pd.merge(dfX3, Y)\n",
        "#print(dfXY.corr()['unique_visits'])\n",
        "\n",
        "Xfeatures = ['day_of_week', 'page_loads', 'first_time_visits',\n",
        "             'returning_visits', 'year', 'month', 'day']\n",
        "dfX4 = dfX3[Xfeatures]     \n",
        "#dfX4 = MinMaxScaler().fit_transform(dfX4)  # dfX4 ndarray 객체\n",
        "#print(dfX4.shape, type(dfX4))\n",
        "\n",
        "train_size = len(X_use)\n",
        "XF = dfX4[:train_size]  # 행 선택, ndarray, DataFrame 모두 가능\n",
        "X_submissionF = dfX4[train_size:]  # 행 선택, 제출용\n",
        "YF = Y['unique_visits']\n",
        "#print([x.shape for x in [XF, X_submissionF, YF]])\n",
        "\n",
        "xtrain, xtest, ytrain, ytest = train_test_split(XF, YF,\n",
        "                                                test_size = 0.3,\n",
        "                                                random_state=1234)\n",
        "#print([x.shape for x in [xtrain, xtest, ytrain, ytest]])\n",
        "models = make_models_f(xtrain, xtest, ytrain, ytest)\n",
        "#print(models)\n",
        "#print(models.sort_values('rmsle').head(7))\n",
        "\n",
        "model = XGBRegressor(objective='reg:squarederror').fit(xtrain, ytrain)  \n",
        "print(get_scores_f(model, xtrain, xtest, ytrain, ytest))\n",
        "pred = model.predict(X_submissionF)\n",
        "submission = pd.DataFrame({'row': X_submission['row'],\n",
        "                           'unique_visits': pred})\n",
        "#print(submission.head())\n",
        "submission.to_csv('00001000.csv', index=False)\n"
      ],
      "metadata": {
        "colab": {
          "base_uri": "https://localhost:8080/"
        },
        "id": "vVSMPCEAJz5E",
        "outputId": "d6d6a4b2-dd06-4e4c-b9e5-4136fa817d5f"
      },
      "execution_count": null,
      "outputs": [
        {
          "output_type": "stream",
          "name": "stdout",
          "text": [
            "<class 'pandas.core.frame.DataFrame'>\n",
            "RangeIndex: 2167 entries, 0 to 2166\n",
            "Data columns (total 7 columns):\n",
            " #   Column             Non-Null Count  Dtype \n",
            "---  ------             --------------  ----- \n",
            " 0   row                2167 non-null   int64 \n",
            " 1   day                2167 non-null   object\n",
            " 2   day_of_week        2167 non-null   int64 \n",
            " 3   date               2167 non-null   object\n",
            " 4   page_loads         2167 non-null   object\n",
            " 5   first_time_visits  2167 non-null   object\n",
            " 6   returning_visits   2167 non-null   object\n",
            "dtypes: int64(2), object(5)\n",
            "memory usage: 118.6+ KB\n",
            "r2_train   0.9995\n",
            "r2_test    0.9990\n",
            "rmsle      0.0144\n",
            "dtype: float64\n"
          ]
        }
      ]
    },
    {
      "cell_type": "markdown",
      "source": [
        "## 5.보험 예측"
      ],
      "metadata": {
        "id": "TLifMZixB8Bp"
      }
    },
    {
      "cell_type": "code",
      "source": [
        "!git clone https://github.com/Soyoung-Yoon/bigdata"
      ],
      "metadata": {
        "id": "Mo8vMQXZyVrR",
        "colab": {
          "base_uri": "https://localhost:8080/"
        },
        "outputId": "45d96ac1-47d6-41a3-943a-b26c144a3072"
      },
      "execution_count": null,
      "outputs": [
        {
          "output_type": "stream",
          "name": "stdout",
          "text": [
            "Cloning into 'bigdata'...\n",
            "remote: Enumerating objects: 41, done.\u001b[K\n",
            "remote: Counting objects: 100% (41/41), done.\u001b[K\n",
            "remote: Compressing objects: 100% (41/41), done.\u001b[K\n",
            "remote: Total 41 (delta 11), reused 0 (delta 0), pack-reused 0\u001b[K\n",
            "Unpacking objects: 100% (41/41), done.\n"
          ]
        }
      ]
    },
    {
      "cell_type": "markdown",
      "source": [
        "### 5-1. 데이터 이해, 생성\n",
        "- 1개 데이터를 나누어 시험용으로 변경해 보는 작업\n",
        "- 실제 시험에서는 이런 과정은 필요 없음\n"
      ],
      "metadata": {
        "id": "xzQnxTtRzEOt"
      }
    },
    {
      "cell_type": "code",
      "source": [
        "# https://www.kaggle.com/qusaybtoush/insurance-forecast-by-using-linear-regression\n",
        "# Age: age of primary beneficiary\n",
        "# Sex: insurance contractor gender, female, male\n",
        "# bmi: Body mass index, providing an understanding of body, weights that are relatively high or low relative to height, objective index of body weight (kg / m ^ 2) using the ratio of height to weight, ideally 18.5 to 24.9\n",
        "# Children: Number of children covered by health insurance / Number of dependents\n",
        "# Smoker: Smoking\n",
        "# Region: the beneficiary's residential area in the US, northeast, southeast, southwest, northwest.\n",
        "# Charges: Individual medical costs billed by health insurance"
      ],
      "metadata": {
        "id": "qGvDHQe_E0yz"
      },
      "execution_count": null,
      "outputs": []
    },
    {
      "cell_type": "markdown",
      "source": [
        "컬럼 정보\n",
        "- age : 1차 수혜자 연령\n",
        "- sex : 보험 계약자 성별\n",
        "- bmi : 비만도 지수\n",
        "- children : 건강보험 적용 대상 아동 수\n",
        "- smoker : 흡연여부\n",
        "- region : 거주지역\n",
        "- charges : 의료 보험에서 청구하는 개별 의료비"
      ],
      "metadata": {
        "id": "h-lu6yPVzY52"
      }
    },
    {
      "cell_type": "code",
      "source": [
        "# [0] 사용 라이브러리 import\n",
        "import pandas as pd\n",
        "\n",
        "# 데이타가 많은경우 모두 출력 안되고 ... 으로 생략해서 출력됨.\n",
        "# 시험환경에서는 아래와 같이 해야해서 수정했습니다 ^^*\n",
        "pd.options.display.max_rows = 500     #출력할 max row를 지정\n",
        "pd.options.display.max_columns = 20   #출력할 max columns를 지정\n",
        "#출력 format 지정 - 소수점아래 4자리까지\n",
        "pd.set_option('display.float_format', '{:.4f}'.format)"
      ],
      "metadata": {
        "id": "d78mXwPF7fIf"
      },
      "execution_count": null,
      "outputs": []
    },
    {
      "cell_type": "code",
      "source": [
        "# [1] 'bigdata/insurance.csv' 파일 불러오기, shape 확인하기\n",
        "df = pd.read_csv('bigdata/insurance.csv')\n",
        "df.shape"
      ],
      "metadata": {
        "id": "OZigg4mAE4Xn",
        "colab": {
          "base_uri": "https://localhost:8080/"
        },
        "outputId": "4f2dd012-7075-44e9-dd28-9df359af33c3"
      },
      "execution_count": null,
      "outputs": [
        {
          "output_type": "execute_result",
          "data": {
            "text/plain": [
              "(1338, 7)"
            ]
          },
          "metadata": {},
          "execution_count": 351
        }
      ]
    },
    {
      "cell_type": "code",
      "source": [
        "# [2] head를 사용해 데이터의 모습 확인  (Y => charges)\n",
        "df.head(2)"
      ],
      "metadata": {
        "colab": {
          "base_uri": "https://localhost:8080/",
          "height": 112
        },
        "id": "MSgOy8Bty8Mb",
        "outputId": "991a124e-a661-4925-c807-3b1feba2a97d"
      },
      "execution_count": null,
      "outputs": [
        {
          "output_type": "execute_result",
          "data": {
            "text/html": [
              "\n",
              "  <div id=\"df-f3e2c49a-c416-4132-ab3c-df61cae23210\">\n",
              "    <div class=\"colab-df-container\">\n",
              "      <div>\n",
              "<style scoped>\n",
              "    .dataframe tbody tr th:only-of-type {\n",
              "        vertical-align: middle;\n",
              "    }\n",
              "\n",
              "    .dataframe tbody tr th {\n",
              "        vertical-align: top;\n",
              "    }\n",
              "\n",
              "    .dataframe thead th {\n",
              "        text-align: right;\n",
              "    }\n",
              "</style>\n",
              "<table border=\"1\" class=\"dataframe\">\n",
              "  <thead>\n",
              "    <tr style=\"text-align: right;\">\n",
              "      <th></th>\n",
              "      <th>age</th>\n",
              "      <th>sex</th>\n",
              "      <th>bmi</th>\n",
              "      <th>children</th>\n",
              "      <th>smoker</th>\n",
              "      <th>region</th>\n",
              "      <th>charges</th>\n",
              "    </tr>\n",
              "  </thead>\n",
              "  <tbody>\n",
              "    <tr>\n",
              "      <th>0</th>\n",
              "      <td>19</td>\n",
              "      <td>female</td>\n",
              "      <td>27.9000</td>\n",
              "      <td>0</td>\n",
              "      <td>yes</td>\n",
              "      <td>southwest</td>\n",
              "      <td>16884.9240</td>\n",
              "    </tr>\n",
              "    <tr>\n",
              "      <th>1</th>\n",
              "      <td>18</td>\n",
              "      <td>male</td>\n",
              "      <td>33.7700</td>\n",
              "      <td>1</td>\n",
              "      <td>no</td>\n",
              "      <td>southeast</td>\n",
              "      <td>1725.5523</td>\n",
              "    </tr>\n",
              "  </tbody>\n",
              "</table>\n",
              "</div>\n",
              "      <button class=\"colab-df-convert\" onclick=\"convertToInteractive('df-f3e2c49a-c416-4132-ab3c-df61cae23210')\"\n",
              "              title=\"Convert this dataframe to an interactive table.\"\n",
              "              style=\"display:none;\">\n",
              "        \n",
              "  <svg xmlns=\"http://www.w3.org/2000/svg\" height=\"24px\"viewBox=\"0 0 24 24\"\n",
              "       width=\"24px\">\n",
              "    <path d=\"M0 0h24v24H0V0z\" fill=\"none\"/>\n",
              "    <path d=\"M18.56 5.44l.94 2.06.94-2.06 2.06-.94-2.06-.94-.94-2.06-.94 2.06-2.06.94zm-11 1L8.5 8.5l.94-2.06 2.06-.94-2.06-.94L8.5 2.5l-.94 2.06-2.06.94zm10 10l.94 2.06.94-2.06 2.06-.94-2.06-.94-.94-2.06-.94 2.06-2.06.94z\"/><path d=\"M17.41 7.96l-1.37-1.37c-.4-.4-.92-.59-1.43-.59-.52 0-1.04.2-1.43.59L10.3 9.45l-7.72 7.72c-.78.78-.78 2.05 0 2.83L4 21.41c.39.39.9.59 1.41.59.51 0 1.02-.2 1.41-.59l7.78-7.78 2.81-2.81c.8-.78.8-2.07 0-2.86zM5.41 20L4 18.59l7.72-7.72 1.47 1.35L5.41 20z\"/>\n",
              "  </svg>\n",
              "      </button>\n",
              "      \n",
              "  <style>\n",
              "    .colab-df-container {\n",
              "      display:flex;\n",
              "      flex-wrap:wrap;\n",
              "      gap: 12px;\n",
              "    }\n",
              "\n",
              "    .colab-df-convert {\n",
              "      background-color: #E8F0FE;\n",
              "      border: none;\n",
              "      border-radius: 50%;\n",
              "      cursor: pointer;\n",
              "      display: none;\n",
              "      fill: #1967D2;\n",
              "      height: 32px;\n",
              "      padding: 0 0 0 0;\n",
              "      width: 32px;\n",
              "    }\n",
              "\n",
              "    .colab-df-convert:hover {\n",
              "      background-color: #E2EBFA;\n",
              "      box-shadow: 0px 1px 2px rgba(60, 64, 67, 0.3), 0px 1px 3px 1px rgba(60, 64, 67, 0.15);\n",
              "      fill: #174EA6;\n",
              "    }\n",
              "\n",
              "    [theme=dark] .colab-df-convert {\n",
              "      background-color: #3B4455;\n",
              "      fill: #D2E3FC;\n",
              "    }\n",
              "\n",
              "    [theme=dark] .colab-df-convert:hover {\n",
              "      background-color: #434B5C;\n",
              "      box-shadow: 0px 1px 3px 1px rgba(0, 0, 0, 0.15);\n",
              "      filter: drop-shadow(0px 1px 2px rgba(0, 0, 0, 0.3));\n",
              "      fill: #FFFFFF;\n",
              "    }\n",
              "  </style>\n",
              "\n",
              "      <script>\n",
              "        const buttonEl =\n",
              "          document.querySelector('#df-f3e2c49a-c416-4132-ab3c-df61cae23210 button.colab-df-convert');\n",
              "        buttonEl.style.display =\n",
              "          google.colab.kernel.accessAllowed ? 'block' : 'none';\n",
              "\n",
              "        async function convertToInteractive(key) {\n",
              "          const element = document.querySelector('#df-f3e2c49a-c416-4132-ab3c-df61cae23210');\n",
              "          const dataTable =\n",
              "            await google.colab.kernel.invokeFunction('convertToInteractive',\n",
              "                                                     [key], {});\n",
              "          if (!dataTable) return;\n",
              "\n",
              "          const docLinkHtml = 'Like what you see? Visit the ' +\n",
              "            '<a target=\"_blank\" href=https://colab.research.google.com/notebooks/data_table.ipynb>data table notebook</a>'\n",
              "            + ' to learn more about interactive tables.';\n",
              "          element.innerHTML = '';\n",
              "          dataTable['output_type'] = 'display_data';\n",
              "          await google.colab.output.renderOutput(dataTable, element);\n",
              "          const docLink = document.createElement('div');\n",
              "          docLink.innerHTML = docLinkHtml;\n",
              "          element.appendChild(docLink);\n",
              "        }\n",
              "      </script>\n",
              "    </div>\n",
              "  </div>\n",
              "  "
            ],
            "text/plain": [
              "   age     sex     bmi  children smoker     region    charges\n",
              "0   19  female 27.9000         0    yes  southwest 16884.9240\n",
              "1   18    male 33.7700         1     no  southeast  1725.5523"
            ]
          },
          "metadata": {},
          "execution_count": 338
        }
      ]
    },
    {
      "cell_type": "code",
      "source": [
        "# [3] 시험 형식으로 train, test 데이터로 나누어 저장합니다.  (6:4 비율)\n",
        "\n",
        "train_size = len(df) - int(len(df)*0.4)\n",
        "\n",
        "# 여러 가지 데이터가 고루 섞이도록 해야 함\n",
        "df = df.sample(frac=1, random_state=1234)\n",
        "df.insert(0, 'ID', range(1, len(df)+1))\n",
        "\n",
        "train = df.iloc[:train_size, ]\n",
        "test = df.iloc[train_size:, ]\n",
        "print(train.shape, test.shape)\n",
        "ycolumn = 'charges'\n",
        "X_train = train.drop(columns=ycolumn)\n",
        "Y_train = train[['ID', ycolumn]]\n",
        "X_test = test.drop(columns=ycolumn)\n",
        "Y_test = test[['ID', ycolumn]]\n",
        "X_train.to_csv('x_train.csv', index=False)\n",
        "Y_train.to_csv('y_train.csv', index=False)\n",
        "X_test.to_csv('x_test.csv', index=False)\n",
        "Y_test.to_csv('y_test.csv', index=False)"
      ],
      "metadata": {
        "colab": {
          "base_uri": "https://localhost:8080/"
        },
        "id": "df5d4o8dzwqi",
        "outputId": "61359a6a-3544-44b2-9ab5-93f6a59f510f"
      },
      "execution_count": null,
      "outputs": [
        {
          "output_type": "stream",
          "name": "stdout",
          "text": [
            "(803, 8) (535, 8)\n"
          ]
        }
      ]
    },
    {
      "cell_type": "markdown",
      "source": [
        "### 5-2. 데이터 불러오기, 전처리"
      ],
      "metadata": {
        "id": "B6XGaNVd0mPO"
      }
    },
    {
      "cell_type": "code",
      "source": [
        "# [1] 데이터 파일 불러오기\n",
        "X_use = pd.read_csv('x_train.csv')\n",
        "X_submission = pd.read_csv('x_test.csv')\n",
        "Y = pd.read_csv('y_train.csv')\n",
        "Y_hidden = pd.read_csv('y_test.csv')"
      ],
      "metadata": {
        "id": "O_uIi12d0llv"
      },
      "execution_count": null,
      "outputs": []
    },
    {
      "cell_type": "code",
      "source": [
        "# [2] dfX 만들기, dfX의 info() 확인\n",
        "# use, submission 데이터를 묶어 전처리 하기 위함\n",
        "dfX = pd.concat([X_use, X_submission])\n",
        "dfX.info()"
      ],
      "metadata": {
        "colab": {
          "base_uri": "https://localhost:8080/"
        },
        "id": "OjSLnWUf0td7",
        "outputId": "8a910766-9cd3-4ac5-ee33-624e4250443a"
      },
      "execution_count": null,
      "outputs": [
        {
          "output_type": "stream",
          "name": "stdout",
          "text": [
            "<class 'pandas.core.frame.DataFrame'>\n",
            "Int64Index: 1338 entries, 0 to 534\n",
            "Data columns (total 7 columns):\n",
            " #   Column    Non-Null Count  Dtype  \n",
            "---  ------    --------------  -----  \n",
            " 0   ID        1338 non-null   int64  \n",
            " 1   age       1338 non-null   int64  \n",
            " 2   sex       1338 non-null   object \n",
            " 3   bmi       1338 non-null   float64\n",
            " 4   children  1338 non-null   int64  \n",
            " 5   smoker    1338 non-null   object \n",
            " 6   region    1338 non-null   object \n",
            "dtypes: float64(1), int64(3), object(3)\n",
            "memory usage: 83.6+ KB\n"
          ]
        }
      ]
    },
    {
      "cell_type": "code",
      "source": [
        "# [3] 컬럼별 고윳값 데이터 수 개수 확인\n",
        "dfX.nunique()"
      ],
      "metadata": {
        "colab": {
          "base_uri": "https://localhost:8080/"
        },
        "id": "CRjL1k-HFDOw",
        "outputId": "38e9ae96-ca99-4663-f016-7d3eb7042c2c"
      },
      "execution_count": null,
      "outputs": [
        {
          "output_type": "execute_result",
          "data": {
            "text/plain": [
              "ID          1338\n",
              "age           47\n",
              "sex            2\n",
              "bmi          548\n",
              "children       6\n",
              "smoker         2\n",
              "region         4\n",
              "dtype: int64"
            ]
          },
          "metadata": {},
          "execution_count": 289
        }
      ]
    },
    {
      "cell_type": "code",
      "source": [
        "# [4] object 컬럼들에 대해서 Encoding 실행 - 필수\n",
        "for x in ['sex', 'smoker', 'region']:\n",
        "    temp = dfX[x].unique()\n",
        "    dfX[x] = dfX[x].replace(temp, range(len(temp)))"
      ],
      "metadata": {
        "id": "Q562isfuFZio"
      },
      "execution_count": null,
      "outputs": []
    },
    {
      "cell_type": "code",
      "source": [
        "dfX.info()"
      ],
      "metadata": {
        "colab": {
          "base_uri": "https://localhost:8080/"
        },
        "id": "5HeacrEg9cVO",
        "outputId": "2f9ad852-21ed-442d-be21-c14753eecd34"
      },
      "execution_count": null,
      "outputs": [
        {
          "output_type": "stream",
          "name": "stdout",
          "text": [
            "<class 'pandas.core.frame.DataFrame'>\n",
            "Int64Index: 1338 entries, 0 to 534\n",
            "Data columns (total 7 columns):\n",
            " #   Column    Non-Null Count  Dtype  \n",
            "---  ------    --------------  -----  \n",
            " 0   ID        1338 non-null   int64  \n",
            " 1   age       1338 non-null   int64  \n",
            " 2   sex       1338 non-null   int64  \n",
            " 3   bmi       1338 non-null   float64\n",
            " 4   children  1338 non-null   int64  \n",
            " 5   smoker    1338 non-null   int64  \n",
            " 6   region    1338 non-null   int64  \n",
            "dtypes: float64(1), int64(6)\n",
            "memory usage: 83.6 KB\n"
          ]
        }
      ]
    },
    {
      "cell_type": "code",
      "source": [
        "# [5] dfX와 Y를 합하여 dfXY 생성\n",
        "dfXY = pd.merge(dfX, Y)"
      ],
      "metadata": {
        "id": "xPfXImWG5AKu"
      },
      "execution_count": null,
      "outputs": []
    },
    {
      "cell_type": "code",
      "source": [
        "# [6] 'charges'와 다른 컬럼의 상관계수를 확인합니다.   (dfXY의 모든 것 확인해도 좋음)\n",
        "dfXY.corr() #['charges']   # 'smoker', 'age', 'bmi'"
      ],
      "metadata": {
        "id": "jc-k30TA49ce"
      },
      "execution_count": null,
      "outputs": []
    },
    {
      "cell_type": "markdown",
      "source": [
        "### 5-3. 성능평가, 모델링 함수\n",
        "- 4-3의 것 그대로 사용"
      ],
      "metadata": {
        "id": "36fJ58Dx8xD9"
      }
    },
    {
      "cell_type": "code",
      "source": [
        "#  4-3 에서 [16] [17] [18] 실행"
      ],
      "metadata": {
        "id": "NHnvQIBS89Is"
      },
      "execution_count": null,
      "outputs": []
    },
    {
      "cell_type": "markdown",
      "source": [
        "### 5-4. 데이터 분리, 모델적용"
      ],
      "metadata": {
        "id": "Pz-fldKF9ECT"
      }
    },
    {
      "cell_type": "code",
      "source": [
        "# [7] X의 최종 전처리 버전인 dfX의 컬럼 확인\n",
        "dfX.columns"
      ],
      "metadata": {
        "colab": {
          "base_uri": "https://localhost:8080/"
        },
        "id": "FxVTHKBOdy4a",
        "outputId": "9b2034dd-26eb-44f9-ea31-37ea0c15a20f"
      },
      "execution_count": null,
      "outputs": [
        {
          "output_type": "execute_result",
          "data": {
            "text/plain": [
              "Index(['ID', 'age', 'sex', 'bmi', 'children', 'smoker', 'region'], dtype='object')"
            ]
          },
          "metadata": {},
          "execution_count": 302
        }
      ]
    },
    {
      "cell_type": "code",
      "source": [
        "# [8] dfX 에서 사용할 feature 선택하여 dfX2로 저장\n",
        "Xfeatures = ['age', 'sex', 'bmi', 'children', 'smoker', 'region']\n",
        "dfX2 = dfX[Xfeatures]"
      ],
      "metadata": {
        "id": "1Xq6-b2B-8IU"
      },
      "execution_count": null,
      "outputs": []
    },
    {
      "cell_type": "code",
      "source": [
        "# [9] dfX2 데이터를 XF, X_submissionF 로 다시 분리\n",
        "# dfX2 분리에서는 X_use의 행의 개수 사용\n",
        "# Y에서 'charges' 만 YF로 사용\n",
        "train_size = len(X_use)\n",
        "XF = dfX2[:train_size]  #  dfX2가 DataFrame, ndarry 인 경우도 행번호로 indexing 가능\n",
        "X_submissionF = dfX2[train_size:]\n",
        "YF = Y['charges']\n",
        "Y_submissionF = Y_hidden['charges']"
      ],
      "metadata": {
        "id": "Li5KrBU498P0"
      },
      "execution_count": null,
      "outputs": []
    },
    {
      "cell_type": "code",
      "source": [
        "# [10] XF, YF 데이터를 사용하여 데이터를 분리하고 make_models를 호출합니다.\n",
        "xtrain, xtest, ytrain, ytest = train_test_split(XF, YF,\n",
        "                                                test_size=0.3,\n",
        "                                                random_state=1234)\n",
        "\n",
        "models = make_models(xtrain, xtest, ytrain, ytest)"
      ],
      "metadata": {
        "id": "c1gvANHpIPu2"
      },
      "execution_count": null,
      "outputs": []
    },
    {
      "cell_type": "code",
      "source": [
        "# [11] models를 평가기준으로 정렬하여 좋은 모델을 알아봄\n",
        "print(models.sort_values('rmsle').head(5))"
      ],
      "metadata": {
        "colab": {
          "base_uri": "https://localhost:8080/"
        },
        "id": "Mb8OBWZt8ukE",
        "outputId": "e8651e18-ccc2-4cf2-c141-7110ca29fbf0"
      },
      "execution_count": null,
      "outputs": [
        {
          "output_type": "stream",
          "name": "stdout",
          "text": [
            "          r2_train  r2_test   diff       mae           mse   msle      rmse  \\\n",
            "model3_6    0.9229   0.8915 0.0314 2412.9721 19010932.4231 0.1275 4360.1528   \n",
            "model3_5    0.8999   0.8920 0.0079 2456.3668 18926929.1843 0.1285 4350.5091   \n",
            "model3_7    0.9443   0.8900 0.0543 2415.4275 19264118.1168 0.1312 4389.0908   \n",
            "model2_5    0.8874   0.8728 0.0146 2596.6833 22286045.4088 0.1322 4720.8098   \n",
            "model2_6    0.9099   0.8579 0.0520 2577.6188 24890079.4374 0.1345 4988.9958   \n",
            "\n",
            "          rmsle  \n",
            "model3_6 0.3570  \n",
            "model3_5 0.3584  \n",
            "model3_7 0.3622  \n",
            "model2_5 0.3636  \n",
            "model2_6 0.3668  \n"
          ]
        }
      ]
    },
    {
      "cell_type": "code",
      "source": [
        "# model3_5    0.8999   0.8920 0.0079 2456.3668 18926929.1843 0.1285 4350.5091 0.3584"
      ],
      "metadata": {
        "id": "faom-xoBBIJe"
      },
      "execution_count": null,
      "outputs": []
    },
    {
      "cell_type": "markdown",
      "source": [
        "### 5-5. 모델 선택, 결과 제출"
      ],
      "metadata": {
        "id": "il7gFLPhYvXx"
      }
    },
    {
      "cell_type": "code",
      "source": [
        "# [12] 모델 학습시켜 model 로 저장, submission 만들기, 저장하기\n",
        "model = RandomForestRegressor(300, max_depth=5, random_state=0).fit(xtrain, ytrain) \n",
        "#print(get_scores2(model, xtrain, xtest, ytrain, ytest))\n",
        "pred = model.predict(X_submissionF)\n",
        "submission = pd.DataFrame({'ID': X_submission['ID'],\n",
        "                           'charges' : pred})\n",
        "submission.to_csv('0001000.csv', index=False)"
      ],
      "metadata": {
        "id": "Ka2onMnCYvX3"
      },
      "execution_count": null,
      "outputs": []
    },
    {
      "cell_type": "code",
      "source": [
        "# [13] Y_submissionF 를 사용하여 성능을 알아봄 (필수 아님)\n",
        "temp = pd.DataFrame({'ID': X_submission['ID'],\n",
        "                     'charges_pred' : pred, \n",
        "                     'charges_true' : Y_submissionF})\n",
        "temp.head(10)"
      ],
      "metadata": {
        "id": "H2b8_mZN0Qqq"
      },
      "execution_count": null,
      "outputs": []
    },
    {
      "cell_type": "markdown",
      "source": [
        "### 5-6.시험보러 가서는 이렇게"
      ],
      "metadata": {
        "id": "cRlXUyPdTscG"
      }
    },
    {
      "cell_type": "code",
      "source": [
        "# 실제 작업\n",
        "\n",
        "# import 를 쭈우욱!! 작성\n",
        "import pandas as pd\n",
        "# 시험환경에서는 아래와 같이 해야해서 수정했습니다 ^^*\n",
        "pd.options.display.max_rows = 500     #출력할 max row를 지정\n",
        "pd.options.display.max_columns = 20   #출력할 max columns를 지정\n",
        "pd.set_option('display.float_format', '{:.4f}'.format)\n",
        "from sklearn.model_selection import train_test_split\n",
        "from sklearn.linear_model import LinearRegression\n",
        "from sklearn.tree import DecisionTreeRegressor\n",
        "from sklearn.ensemble import RandomForestRegressor\n",
        "from xgboost import XGBRegressor\n",
        "from sklearn.preprocessing import MinMaxScaler\n",
        "from sklearn.metrics import r2_score\n",
        "from sklearn.metrics import mean_absolute_error as mae\n",
        "from sklearn.metrics import mean_squared_error as mse\n",
        "from sklearn.metrics import mean_squared_log_error as msle\n",
        "import numpy as np  # 추가해야함\n",
        "\n",
        "# 함수들은 만들어야 합니다.\n",
        "\n",
        "def get_scores_f(model, xtrain, xtest, ytrain, ytest):\n",
        "    pred1 = model.predict(xtrain)   # train\n",
        "    pred2 = model.predict(xtest)    # test\n",
        "\n",
        "    # 음수가 있어도 상관없음\n",
        "    A1 = r2_score(ytrain, pred1)\n",
        "    A2 = r2_score(ytest, pred2)\n",
        "    # msle, rmsle 는 음수가 있어서는 안됨\n",
        "    pred2 = np.where(pred2<0, 0, pred2)\n",
        "    B = msle(ytest, pred2)    \n",
        "    C = np.sqrt(B)   # rmsle   \n",
        "    data = [round(x, 4) for x in [A1, A2, C]]\n",
        "    names = 'r2_train r2_test rmsle'.split()\n",
        "    scores = pd.Series(data, index=names)\n",
        "    return  scores\n",
        "\n",
        "def make_models_f(xtrain, xtest, ytrain, ytest, n=300):\n",
        "    temp = pd.DataFrame()\n",
        "    \n",
        "    model1 = LinearRegression().fit(xtrain, ytrain)\n",
        "    temp['model1'] = get_scores_f(model1, xtrain, xtest, ytrain, ytest)\n",
        "\n",
        "    model2 = DecisionTreeRegressor(random_state=0).fit(xtrain, ytrain)  # overfitting 나기 쉬움\n",
        "    temp['model2'] = get_scores_f(model2, xtrain, xtest, ytrain, ytest)\n",
        "\n",
        "    for d in range(3, 9):\n",
        "        model2 = DecisionTreeRegressor(max_depth=d, random_state=0).fit(xtrain, ytrain)  \n",
        "        temp[f'model2_{d}'] = get_scores_f(model2, xtrain, xtest, ytrain, ytest)\n",
        "\n",
        "    model3 = RandomForestRegressor(n, random_state=0).fit(xtrain, ytrain)  \n",
        "    temp['model3'] = get_scores_f(model3, xtrain, xtest, ytrain, ytest)\n",
        "\n",
        "    for d in range(3, 9):\n",
        "        model3 = RandomForestRegressor(n, max_depth=d, random_state=0).fit(xtrain, ytrain) \n",
        "        temp[f'model3_{d}'] = get_scores_f(model3, xtrain, xtest, ytrain, ytest)\n",
        "\n",
        "    model4 = XGBRegressor(objective='reg:squarederror').fit(xtrain, ytrain)  \n",
        "    temp['model4'] = get_scores_f(model4, xtrain, xtest, ytrain, ytest)\n",
        "\n",
        "    temp = temp.T\n",
        "    temp.insert(2, 'diff', (temp['r2_train'] - temp['r2_test']).abs())\n",
        "  \n",
        "    return temp\n",
        "\n",
        "X_use = pd.read_csv('x_train.csv')\n",
        "X_submission = pd.read_csv('x_test.csv')\n",
        "Y = pd.read_csv('y_train.csv')\n",
        "#print([x.shape for x in [X_use, X_submission, Y]]) # [(803, 7), (535, 7), (803, 2)]\n",
        "# ----------------------------------------------------------------------------------\n",
        "dfX = pd.concat([X_use, X_submission], ignore_index=True)\n",
        "#dfX.info()\n",
        "#print(dfX.nunique())\n",
        "#print(dfX['region'].unique())\n",
        "\n",
        "for x in ['sex', 'smoker', 'region']:\n",
        "    temp = dfX[x].unique()\n",
        "    dfX[x] = dfX[x].replace(temp, range(len(temp)))\n",
        "#dfX.info()  \n",
        "\n",
        "#print(dfX.columns)\n",
        "dfX2 = dfX.drop(columns='ID') \n",
        "#dfX2.columns\n",
        "\n",
        "train_size = len(X_use)\n",
        "XF = dfX2[:train_size]  #  dfX2가 DataFrame, ndarry 인 경우도 행번호로 indexing 가능\n",
        "X_submissionF = dfX2[train_size:]\n",
        "YF = Y['charges']\n",
        "#print([x.shape for x in [XF, YF, X_submissionF]])\n",
        "\n",
        "xtrain, xtest, ytrain, ytest = train_test_split(XF, YF,\n",
        "                                                test_size=0.3,\n",
        "                                                random_state=1234)\n",
        "\n",
        "# make_models_f 함수 호출 부분은 \n",
        "# 실제 시험에서 제출 전에 꼭 주석을 취해 주세요 ^_^  - 실행 시간 초과 금지\n",
        "\n",
        "#models = make_models_f(xtrain, xtest, ytrain, ytest)\n",
        "#print(models.sort_values('rmsle').head(5))\n",
        "model = RandomForestRegressor(300, max_depth=5, random_state=0).fit(xtrain, ytrain) \n",
        "print(get_scores_f(model, xtrain, xtest, ytrain, ytest))\n",
        "pred = model.predict(X_submissionF)\n",
        "submission = pd.DataFrame({'ID': X_submission['ID'],\n",
        "                           'charges' : pred})\n",
        "submission.to_csv('0001000.csv', index=False)"
      ],
      "metadata": {
        "colab": {
          "base_uri": "https://localhost:8080/"
        },
        "id": "mCuKNs05Tvoe",
        "outputId": "87c03baf-ab78-459c-dc0b-ed38f2132f33"
      },
      "execution_count": null,
      "outputs": [
        {
          "output_type": "stream",
          "name": "stdout",
          "text": [
            "r2_train   0.8999\n",
            "r2_test    0.8920\n",
            "rmsle      0.3584\n",
            "dtype: float64\n"
          ]
        }
      ]
    },
    {
      "cell_type": "code",
      "source": [
        "# model3_5    0.8999   0.8920 0.0079 0.3584"
      ],
      "metadata": {
        "id": "UIQUSB3iV_PZ"
      },
      "execution_count": null,
      "outputs": []
    }
  ]
}