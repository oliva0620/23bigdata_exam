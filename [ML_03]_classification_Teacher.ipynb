{
  "nbformat": 4,
  "nbformat_minor": 0,
  "metadata": {
    "colab": {
      "provenance": [],
      "toc_visible": true,
      "include_colab_link": true
    },
    "kernelspec": {
      "name": "python3",
      "display_name": "Python 3"
    },
    "language_info": {
      "name": "python"
    }
  },
  "cells": [
    {
      "cell_type": "markdown",
      "metadata": {
        "id": "view-in-github",
        "colab_type": "text"
      },
      "source": [
        "<a href=\"https://colab.research.google.com/github/oliva0620/23bigdata_exam/blob/cs/%5BML_03%5D_classification_Teacher.ipynb\" target=\"_parent\"><img src=\"https://colab.research.google.com/assets/colab-badge.svg\" alt=\"Open In Colab\"/></a>"
      ]
    },
    {
      "cell_type": "markdown",
      "metadata": {
        "id": "bcweoTniWi3Q"
      },
      "source": [
        "## 1.이항분류\n",
        "- 합격/불합격 판정\n",
        "- 3과목의 평균 60점 이상 합격, 과락 40점미만"
      ]
    },
    {
      "cell_type": "markdown",
      "metadata": {
        "id": "5h7rVjPlbZfV"
      },
      "source": [
        "### 1-01. 함수 생성"
      ]
    },
    {
      "cell_type": "code",
      "metadata": {
        "id": "w5gT0K-CWqo-"
      },
      "source": [
        "# 사용할 라이브러리 import \n",
        "import pandas as pd\n",
        "import numpy as np\n",
        "from sklearn.model_selection import train_test_split\n",
        "from sklearn.linear_model import LogisticRegression"
      ],
      "execution_count": null,
      "outputs": []
    },
    {
      "cell_type": "code",
      "metadata": {
        "id": "a-pk5EDisVuM"
      },
      "source": [
        "# sample로 사용할 DataSet을 생성하는 함수 작성\n",
        "# X: 국어, 영어, 수학 점수\n",
        "# Y: 합격여부 (X의 평균 60이상, 과락 40점 미만)\n",
        "\n",
        "# seedno : 랜덤 수 생성 규칙\n",
        "# size : 랜덤 수 생성 행의 수\n",
        "# step=0 (균형), step=다른수 (불균형)\n",
        "def make_sample(seedno, size, step=0):\n",
        "    colnames = ['국어', '영어', '수학']\n",
        "    np.random.seed(seedno)\n",
        "    A = np.random.randint(0, 101, (size, 3))\n",
        "    df = pd.DataFrame(A, columns=colnames)\n",
        "    df['합격여부'] = (df.mean(axis=1) >=60) & (df.min(axis=1) >= 40)\n",
        "    if step == 0:\n",
        "        F, T = df['합격여부'].value_counts()   #  합격, 불합격의 개수\n",
        "        B = np.random.randint(60, 101, (F-T, 3))\n",
        "        df2 = pd.DataFrame(B, columns=colnames)\n",
        "        df2['합격여부'] = True\n",
        "        df = pd.concat([df, df2])\n",
        "        df['합격여부'].value_counts()\n",
        "        df.index = pd.RangeIndex(len(df))\n",
        "    df['합격여부'] = df['합격여부'].replace({True:1, False:0})  # 합격:1, 불합격:0\n",
        "    return df"
      ],
      "execution_count": null,
      "outputs": []
    },
    {
      "cell_type": "code",
      "metadata": {
        "colab": {
          "base_uri": "https://localhost:8080/"
        },
        "id": "PHsk8FY-58Ax",
        "outputId": "5c71fb16-2533-4ffa-93ae-8e5d0e13eedf"
      },
      "source": [
        "# 균형 데이터\n",
        "data = make_sample(1234, 1000)\n",
        "data['합격여부'].value_counts()"
      ],
      "execution_count": null,
      "outputs": [
        {
          "output_type": "execute_result",
          "data": {
            "text/plain": [
              "0    814\n",
              "1    814\n",
              "Name: 합격여부, dtype: int64"
            ]
          },
          "metadata": {},
          "execution_count": 3
        }
      ]
    },
    {
      "cell_type": "code",
      "metadata": {
        "colab": {
          "base_uri": "https://localhost:8080/"
        },
        "id": "GYVXMwzY6X35",
        "outputId": "bdc86e95-8ab6-47ff-852f-0372041ef425"
      },
      "source": [
        "# 불균형 데이터\n",
        "data = make_sample(1234, 1000, step=1)\n",
        "data['합격여부'].value_counts()"
      ],
      "execution_count": null,
      "outputs": [
        {
          "output_type": "execute_result",
          "data": {
            "text/plain": [
              "0    814\n",
              "1    186\n",
              "Name: 합격여부, dtype: int64"
            ]
          },
          "metadata": {},
          "execution_count": 4
        }
      ]
    },
    {
      "cell_type": "code",
      "metadata": {
        "id": "GNa1Bw8TqXW3"
      },
      "source": [
        "# 모델 학습 및 성능 평가 함수 생성\n",
        "def ModelTrain(model, data):\n",
        "    # 1) X, Y 데이터 분리\n",
        "    Y = data['합격여부']\n",
        "    X = data.drop(columns=['합격여부'])   # data에서 '합격여부' 컬럼을 제외한 모든 컬럼을 X로 사용함\n",
        "\n",
        "    # 2) 학습, 평가 데이터로 분리\n",
        "    x_train, x_test, y_train, y_test = train_test_split(X, Y,\n",
        "                                                        test_size=0.2,\n",
        "                                                        stratify=Y,\n",
        "                                                        random_state=0)\n",
        "\n",
        "    # 3) 분리된 데이터의 shape 출력\n",
        "    print([ x.shape for x in [x_train, x_test, y_train, y_test]])\n",
        "    #print(x_train.shape, x_test.shape, y_train.shape, y_test.shape)\n",
        "\n",
        "    # 4) 학습 모델 선택, 학습\n",
        "    #model = LogisticRegression(max_iter=1000)  \n",
        "    model.fit(x_train, y_train)\n",
        "\n",
        "    # 5) 성능평가 - 정확도(Accuracy)\n",
        "    # train, test 성능을 모두 확인하여 과대적합 여부 확인\n",
        "    print('train 성능 :', model.score(x_train, y_train))\n",
        "    print('test  성능 :', model.score(x_test, y_test))\n",
        "    return model"
      ],
      "execution_count": null,
      "outputs": []
    },
    {
      "cell_type": "markdown",
      "metadata": {
        "id": "uV_fOAU3_XHF"
      },
      "source": [
        "### 1-02. 데이터의 중요성"
      ]
    },
    {
      "cell_type": "code",
      "metadata": {
        "id": "tLZE93O4zx8J"
      },
      "source": [
        "# 충분한 데이터가 필요한 이유를 알아보겠습니다."
      ],
      "execution_count": null,
      "outputs": []
    },
    {
      "cell_type": "code",
      "metadata": {
        "colab": {
          "base_uri": "https://localhost:8080/"
        },
        "id": "MdCdqXN9uZ7h",
        "outputId": "b7171012-bd94-4a86-d7ee-7840639e94dd"
      },
      "source": [
        "# 균형 데이터   # 1234, 1225, 1245\n",
        "for no in [1234, 1225, 1245] :\n",
        "    model1 = LogisticRegression(max_iter=1000)\n",
        "    data = make_sample(seedno=no, size=20000)\n",
        "    ModelTrain(model1, data)"
      ],
      "execution_count": null,
      "outputs": [
        {
          "output_type": "stream",
          "name": "stdout",
          "text": [
            "[(26144, 3), (6536, 3), (26144,), (6536,)]\n",
            "train 성능 : 0.949701652386781\n",
            "test  성능 : 0.9475214198286414\n",
            "[(26144, 3), (6536, 3), (26144,), (6536,)]\n",
            "train 성능 : 0.9479039167686658\n",
            "test  성능 : 0.9495104039167687\n",
            "[(26088, 3), (6522, 3), (26088,), (6522,)]\n",
            "train 성능 : 0.9467187979147501\n",
            "test  성능 : 0.9385157927016252\n"
          ]
        }
      ]
    },
    {
      "cell_type": "code",
      "metadata": {
        "colab": {
          "base_uri": "https://localhost:8080/"
        },
        "id": "lSkAPcz5w7ol",
        "outputId": "cf7a26d3-8d8c-4e90-b7f0-92c9d067a843"
      },
      "source": [
        "# 불균형 데이터\n",
        "for no in [1234, 1225, 1245] :\n",
        "    model2 = LogisticRegression(max_iter=1000)\n",
        "    data = make_sample(seedno=no, size=32000, step=1)\n",
        "    ModelTrain(model2, data)"
      ],
      "execution_count": null,
      "outputs": [
        {
          "output_type": "stream",
          "name": "stdout",
          "text": [
            "[(25600, 3), (6400, 3), (25600,), (6400,)]\n",
            "train 성능 : 0.9219921875\n",
            "test  성능 : 0.92546875\n",
            "[(25600, 3), (6400, 3), (25600,), (6400,)]\n",
            "train 성능 : 0.9214453125\n",
            "test  성능 : 0.9153125\n",
            "[(25600, 3), (6400, 3), (25600,), (6400,)]\n",
            "train 성능 : 0.9201171875\n",
            "test  성능 : 0.92015625\n"
          ]
        }
      ]
    },
    {
      "cell_type": "code",
      "metadata": {
        "colab": {
          "base_uri": "https://localhost:8080/"
        },
        "id": "MrXrQUbEy-X8",
        "outputId": "742e6aaa-a580-49b0-b4cf-0e004ebd8874"
      },
      "source": [
        "# 부족한 데이터   # 1234, 1225, 1245\n",
        "for no in [1234, 1225, 1245] :\n",
        "    model3 = LogisticRegression(max_iter=1000)\n",
        "    data = make_sample(seedno=no, size=40)\n",
        "    ModelTrain(model3, data)"
      ],
      "execution_count": null,
      "outputs": [
        {
          "output_type": "stream",
          "name": "stdout",
          "text": [
            "[(52, 3), (14, 3), (52,), (14,)]\n",
            "train 성능 : 1.0\n",
            "test  성능 : 1.0\n",
            "[(51, 3), (13, 3), (51,), (13,)]\n",
            "train 성능 : 0.9411764705882353\n",
            "test  성능 : 0.8461538461538461\n",
            "[(57, 3), (15, 3), (57,), (15,)]\n",
            "train 성능 : 1.0\n",
            "test  성능 : 0.8666666666666667\n"
          ]
        }
      ]
    },
    {
      "cell_type": "code",
      "metadata": {
        "colab": {
          "base_uri": "https://localhost:8080/"
        },
        "id": "dbF9eNeuzNZW",
        "outputId": "a0f4c30d-0d69-4165-d8be-df94c0503b62"
      },
      "source": [
        "# 부족한, 불균형 데이터 # 1234, 1225, 1245\n",
        "for no in [1234, 1225, 1245] :\n",
        "    model4 = LogisticRegression(max_iter=1000)\n",
        "    data = make_sample(no, 60, step=1)\n",
        "    ModelTrain(model4, data)"
      ],
      "execution_count": null,
      "outputs": [
        {
          "output_type": "stream",
          "name": "stdout",
          "text": [
            "[(48, 3), (12, 3), (48,), (12,)]\n",
            "train 성능 : 1.0\n",
            "test  성능 : 1.0\n",
            "[(48, 3), (12, 3), (48,), (12,)]\n",
            "train 성능 : 0.8541666666666666\n",
            "test  성능 : 0.8333333333333334\n",
            "[(48, 3), (12, 3), (48,), (12,)]\n",
            "train 성능 : 0.9583333333333334\n",
            "test  성능 : 0.8333333333333334\n"
          ]
        }
      ]
    },
    {
      "cell_type": "markdown",
      "metadata": {
        "id": "byytqrZMbezw"
      },
      "source": [
        "### 1-03. 파생변수 사용\n",
        "- 합격/불합격 여부를 결정하는 평균, 과락에 관련된 파생변수를 추가하여 봅니다."
      ]
    },
    {
      "cell_type": "code",
      "metadata": {
        "colab": {
          "base_uri": "https://localhost:8080/",
          "height": 112
        },
        "id": "up95Fx1eAB-g",
        "outputId": "2f3d66c9-3ed6-48a0-a9d7-a0a85a92144a"
      },
      "source": [
        "# 데이터 생성\n",
        "data = make_sample(seedno=1245, size=20000)\n",
        "data.head(2)"
      ],
      "execution_count": null,
      "outputs": [
        {
          "output_type": "execute_result",
          "data": {
            "text/html": [
              "<div>\n",
              "<style scoped>\n",
              "    .dataframe tbody tr th:only-of-type {\n",
              "        vertical-align: middle;\n",
              "    }\n",
              "\n",
              "    .dataframe tbody tr th {\n",
              "        vertical-align: top;\n",
              "    }\n",
              "\n",
              "    .dataframe thead th {\n",
              "        text-align: right;\n",
              "    }\n",
              "</style>\n",
              "<table border=\"1\" class=\"dataframe\">\n",
              "  <thead>\n",
              "    <tr style=\"text-align: right;\">\n",
              "      <th></th>\n",
              "      <th>국어</th>\n",
              "      <th>영어</th>\n",
              "      <th>수학</th>\n",
              "      <th>합격여부</th>\n",
              "    </tr>\n",
              "  </thead>\n",
              "  <tbody>\n",
              "    <tr>\n",
              "      <th>0</th>\n",
              "      <td>37</td>\n",
              "      <td>75</td>\n",
              "      <td>3</td>\n",
              "      <td>0</td>\n",
              "    </tr>\n",
              "    <tr>\n",
              "      <th>1</th>\n",
              "      <td>21</td>\n",
              "      <td>32</td>\n",
              "      <td>70</td>\n",
              "      <td>0</td>\n",
              "    </tr>\n",
              "  </tbody>\n",
              "</table>\n",
              "</div>"
            ],
            "text/plain": [
              "   국어  영어  수학  합격여부\n",
              "0  37  75   3     0\n",
              "1  21  32  70     0"
            ]
          },
          "metadata": {},
          "execution_count": 11
        }
      ]
    },
    {
      "cell_type": "code",
      "metadata": {
        "colab": {
          "base_uri": "https://localhost:8080/",
          "height": 112
        },
        "id": "7JBo-29rA5E-",
        "outputId": "a49ef0f2-af5d-4426-8b1c-89969e9ec956"
      },
      "source": [
        "# 파생변수 생성/추가\n",
        "data['평균'] = data[['국어', '영어', '수학']].mean(axis=1)\n",
        "data['최저'] = data[['국어', '영어', '수학']].min(axis=1)\n",
        "data.head(2)"
      ],
      "execution_count": null,
      "outputs": [
        {
          "output_type": "execute_result",
          "data": {
            "text/html": [
              "<div>\n",
              "<style scoped>\n",
              "    .dataframe tbody tr th:only-of-type {\n",
              "        vertical-align: middle;\n",
              "    }\n",
              "\n",
              "    .dataframe tbody tr th {\n",
              "        vertical-align: top;\n",
              "    }\n",
              "\n",
              "    .dataframe thead th {\n",
              "        text-align: right;\n",
              "    }\n",
              "</style>\n",
              "<table border=\"1\" class=\"dataframe\">\n",
              "  <thead>\n",
              "    <tr style=\"text-align: right;\">\n",
              "      <th></th>\n",
              "      <th>국어</th>\n",
              "      <th>영어</th>\n",
              "      <th>수학</th>\n",
              "      <th>합격여부</th>\n",
              "      <th>평균</th>\n",
              "      <th>최저</th>\n",
              "    </tr>\n",
              "  </thead>\n",
              "  <tbody>\n",
              "    <tr>\n",
              "      <th>0</th>\n",
              "      <td>37</td>\n",
              "      <td>75</td>\n",
              "      <td>3</td>\n",
              "      <td>0</td>\n",
              "      <td>38.333333</td>\n",
              "      <td>3</td>\n",
              "    </tr>\n",
              "    <tr>\n",
              "      <th>1</th>\n",
              "      <td>21</td>\n",
              "      <td>32</td>\n",
              "      <td>70</td>\n",
              "      <td>0</td>\n",
              "      <td>41.000000</td>\n",
              "      <td>21</td>\n",
              "    </tr>\n",
              "  </tbody>\n",
              "</table>\n",
              "</div>"
            ],
            "text/plain": [
              "   국어  영어  수학  합격여부         평균  최저\n",
              "0  37  75   3     0  38.333333   3\n",
              "1  21  32  70     0  41.000000  21"
            ]
          },
          "metadata": {},
          "execution_count": 12
        }
      ]
    },
    {
      "cell_type": "code",
      "metadata": {
        "colab": {
          "base_uri": "https://localhost:8080/"
        },
        "id": "qKgpC6XyBQod",
        "outputId": "8617f4dd-fd03-4a76-f22e-2785ebf8666d"
      },
      "source": [
        "for no in [1234, 1225, 1245] :\n",
        "    model5 = LogisticRegression(max_iter=1000)\n",
        "    data = make_sample(seedno=no, size=20000)\n",
        "    data['평균'] = data[['국어', '영어', '수학']].mean(axis=1)\n",
        "    data['최저'] = data[['국어', '영어', '수학']].min(axis=1)\n",
        "    ModelTrain(model5, data)"
      ],
      "execution_count": null,
      "outputs": [
        {
          "output_type": "stream",
          "name": "stdout",
          "text": [
            "[(26144, 5), (6536, 5), (26144,), (6536,)]\n",
            "train 성능 : 0.9855416156670747\n",
            "test  성능 : 0.9871481028151775\n",
            "[(26144, 5), (6536, 5), (26144,), (6536,)]\n",
            "train 성능 : 0.9861153610771114\n",
            "test  성능 : 0.9840881272949816\n",
            "[(26088, 5), (6522, 5), (26088,), (6522,)]\n",
            "train 성능 : 0.9863922109782275\n",
            "test  성능 : 0.9849739343759583\n"
          ]
        }
      ]
    },
    {
      "cell_type": "code",
      "metadata": {
        "id": "wJQLQLXMfphf"
      },
      "source": [
        "# 모든 값을 사용한 예측 결과\n",
        "def make_all():\n",
        "    colnames = ['국어', '영어', '수학']\n",
        "    data = [[kor, eng, mat] for kor in range(101) for eng in range(101) for mat in range(101)]\n",
        "    data = pd.DataFrame(data, columns=colnames)\n",
        "    data['평균'] = data[['국어', '영어', '수학']].mean(axis=1)\n",
        "    data['최저'] = data[['국어', '영어', '수학']].min(axis=1)\n",
        "    data['합격여부'] = (data['평균'] >=60) & (data['최저'] >= 40)\n",
        "    data['합격여부'] = data['합격여부'].replace({True:1, False:0})  # 합격:1, 불합격:0\n",
        "    return data"
      ],
      "execution_count": null,
      "outputs": []
    },
    {
      "cell_type": "code",
      "metadata": {
        "colab": {
          "base_uri": "https://localhost:8080/"
        },
        "id": "SxajWMGHDOZm",
        "outputId": "88c06d05-b47d-418d-a8bc-f5eead2fc1e2"
      },
      "source": [
        "data = make_all()\n",
        "X1 = data.iloc[:, :3]\n",
        "X2 = data.drop(columns=['합격여부'])\n",
        "Y = data['합격여부']\n",
        "print(Y.value_counts())\n",
        "\n",
        "for x in model1, model2, model3, model4:\n",
        "    print(x.score(X1, Y))\n",
        "print(model5.score(X2, Y)) "
      ],
      "execution_count": null,
      "outputs": [
        {
          "output_type": "stream",
          "name": "stdout",
          "text": [
            "0    841140\n",
            "1    189161\n",
            "Name: 합격여부, dtype: int64\n",
            "0.9204543138364419\n",
            "0.9214792570326535\n",
            "0.912767239864855\n",
            "0.90907899730273\n",
            "0.9764767771748256\n"
          ]
        }
      ]
    },
    {
      "cell_type": "markdown",
      "metadata": {
        "id": "PVSCLzIgbIeu"
      },
      "source": [
        "### 1-04. 스케일러 사용"
      ]
    },
    {
      "cell_type": "code",
      "metadata": {
        "colab": {
          "base_uri": "https://localhost:8080/"
        },
        "id": "qU6-3_y9_o1D",
        "outputId": "a8588e69-5947-438e-c8a0-dc7e4cce1575"
      },
      "source": [
        "for no in [1234, 1225, 1245] :\n",
        "    model6 = LogisticRegression(max_iter=1000)\n",
        "    data = make_sample(seedno=no, size=20000)\n",
        "    data['국어'] *= 500\n",
        "    data['수학'] *= 1000\n",
        "    ModelTrain(model6, data)"
      ],
      "execution_count": null,
      "outputs": [
        {
          "output_type": "stream",
          "name": "stdout",
          "text": [
            "[(26144, 3), (6536, 3), (26144,), (6536,)]\n",
            "train 성능 : 0.5\n",
            "test  성능 : 0.5\n",
            "[(26144, 3), (6536, 3), (26144,), (6536,)]\n",
            "train 성능 : 0.5\n",
            "test  성능 : 0.5\n",
            "[(26088, 3), (6522, 3), (26088,), (6522,)]\n",
            "train 성능 : 0.5\n",
            "test  성능 : 0.5\n"
          ]
        }
      ]
    },
    {
      "cell_type": "code",
      "metadata": {
        "id": "J15MBcbcaf4W",
        "colab": {
          "base_uri": "https://localhost:8080/"
        },
        "outputId": "9b7667c6-a548-4089-fb24-3a2d0bbcf7de"
      },
      "source": [
        "# StancardScaler 사용하여 정규 분포 만들기\n",
        "from sklearn.preprocessing import StandardScaler\n",
        "\n",
        "for no in [1234, 1225, 1245]:\n",
        "    model7 = LogisticRegression(max_iter=1000)\n",
        "    data = make_sample(seedno=no, size=20000)\n",
        "    data['국어'] *= 500\n",
        "    data['수학'] *= 1000    \n",
        "    X = data[['국어', '영어', '수학']]\n",
        "    Y = data['합격여부']\n",
        "    scaledX = StandardScaler().fit_transform(X)\n",
        "    scaledX = pd.DataFrame(scaledX, columns=['국어', '영어', '수학'])\n",
        "    data = pd.concat([scaledX, Y], axis=1)\n",
        "    ModelTrain(model7, data)"
      ],
      "execution_count": null,
      "outputs": [
        {
          "output_type": "stream",
          "name": "stdout",
          "text": [
            "[(26144, 3), (6536, 3), (26144,), (6536,)]\n",
            "train 성능 : 0.9497399020807834\n",
            "test  성능 : 0.9475214198286414\n",
            "[(26144, 3), (6536, 3), (26144,), (6536,)]\n",
            "train 성능 : 0.9478656670746634\n",
            "test  성능 : 0.9495104039167687\n",
            "[(26088, 3), (6522, 3), (26088,), (6522,)]\n",
            "train 성능 : 0.9468721251149954\n",
            "test  성능 : 0.9386691199018706\n"
          ]
        }
      ]
    },
    {
      "cell_type": "markdown",
      "metadata": {
        "id": "iiQYtJ_dZu_L"
      },
      "source": [
        "### 1-05. 다양한 모델의 사용"
      ]
    },
    {
      "cell_type": "code",
      "metadata": {
        "id": "dnRERawDbZWQ"
      },
      "source": [
        "from sklearn.linear_model import LogisticRegression\n",
        "from sklearn.neighbors import KNeighborsClassifier\n",
        "from sklearn.tree import DecisionTreeClassifier\n",
        "from sklearn.ensemble import RandomForestClassifier\n",
        "from xgboost import XGBClassifier"
      ],
      "execution_count": null,
      "outputs": []
    },
    {
      "cell_type": "markdown",
      "metadata": {
        "id": "_r4_7buVIHH4"
      },
      "source": [
        "#### A) **데이터 생성**"
      ]
    },
    {
      "cell_type": "code",
      "metadata": {
        "id": "-mlP2vDeIJKD"
      },
      "source": [
        "# 학습용 데이터\n",
        "data = make_sample(seedno=1234, size=20000)\n",
        "\n",
        "# 평가용 데이터\n",
        "all = make_all()\n",
        "X = all.iloc[:, :3]\n",
        "Y = all['합격여부']"
      ],
      "execution_count": null,
      "outputs": []
    },
    {
      "cell_type": "markdown",
      "metadata": {
        "id": "qwqI7MLn_iOL"
      },
      "source": [
        "#### B) **LogisticRegression**\n",
        "- 독립 변수의 선형 결합을 이용하여 사건의 발생 가능성을 예측하는데 사용되는 통계 기법\n",
        "- https://ko.wikipedia.org/wiki/%EB%A1%9C%EC%A7%80%EC%8A%A4%ED%8B%B1_%ED%9A%8C%EA%B7%80\n",
        "- 반복하면서 기울기 값을 갱신, 기울기 미분값이 0이 되는 지점을 찾음  \n",
        "- max_iter, tol 등을 변경하여 성능을 개선할 수 있음\n",
        "- max_iter : 반복횟수\n",
        "- tol : 허용오차, 반복을 중단하는 조건으로 사용됨\n",
        "- panalty : panalty 종류\n",
        "- C : panalty 세기\n",
        "- (penalty='l2', *, dual=False, tol=0.0001, C=1.0, fit_intercept=True, intercept_scaling=1, class_weight=None, random_state=None, solver='lbfgs', max_iter=100, multi_class='auto', verbose=0, warm_start=False, n_jobs=None, l1_ratio=None)"
      ]
    },
    {
      "cell_type": "markdown",
      "metadata": {
        "id": "Y--O9_Rv9wxd"
      },
      "source": [
        "![image.png](data:image/png;base64,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)"
      ]
    },
    {
      "cell_type": "code",
      "metadata": {
        "id": "Z-l9zaj48KYg"
      },
      "source": [
        "help(LogisticRegression)"
      ],
      "execution_count": null,
      "outputs": []
    },
    {
      "cell_type": "code",
      "metadata": {
        "id": "12YamET0h-XM",
        "colab": {
          "base_uri": "https://localhost:8080/"
        },
        "outputId": "3fd30646-7310-4b3b-d00e-9524fc04e635"
      },
      "source": [
        "model_lr = LogisticRegression(max_iter=1000)\n",
        "ModelTrain(model_lr, data)\n",
        "print(model_lr.score(X, Y))"
      ],
      "execution_count": null,
      "outputs": [
        {
          "output_type": "stream",
          "name": "stdout",
          "text": [
            "[(26144, 3), (6536, 3), (26144,), (6536,)]\n",
            "train 성능 : 0.949701652386781\n",
            "test  성능 : 0.9475214198286414\n",
            "0.9202786370196671\n"
          ]
        }
      ]
    },
    {
      "cell_type": "markdown",
      "metadata": {
        "id": "XWsMEyyBHkEa"
      },
      "source": [
        "#### C) **KNeighborsClassifier**\n",
        "- k 개의 근접 이웃을 확인하여 클래스를 선택함\n",
        "- n_neighbors를 변경하여 성능을 개선할 수 있음\n",
        "- n_neighbors : 확인할 근접 이웃 개수\n",
        "- (n_neighbors=5, *, weights='uniform', algorithm='auto', leaf_size=30, p=2, metric='minkowski', metric_params=None, n_jobs=None)"
      ]
    },
    {
      "cell_type": "markdown",
      "metadata": {
        "id": "qxXB6JJb9mS1"
      },
      "source": [
        "![image.png](data:image/png;base64,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)\n",
        "\n",
        "- 출처 : https://bskyvision.com/563?category=635506"
      ]
    },
    {
      "cell_type": "code",
      "metadata": {
        "id": "EeV5TX9lHrx6"
      },
      "source": [
        "help(KNeighborsClassifier)"
      ],
      "execution_count": null,
      "outputs": []
    },
    {
      "cell_type": "code",
      "metadata": {
        "colab": {
          "base_uri": "https://localhost:8080/"
        },
        "id": "URRBX2gj1ncO",
        "outputId": "67ceaa38-1762-41df-ce11-e050189e67e7"
      },
      "source": [
        "for k in range(3, 10):\n",
        "    model_knn = KNeighborsClassifier(n_neighbors=k)\n",
        "    ModelTrain(model_knn, data)\n",
        "    print(f'k={k}, {model_knn.score(X, Y)}')"
      ],
      "execution_count": null,
      "outputs": [
        {
          "output_type": "stream",
          "name": "stdout",
          "text": [
            "[(26144, 3), (6536, 3), (26144,), (6536,)]\n",
            "train 성능 : 0.9980492656058751\n",
            "test  성능 : 0.9946450428396573\n",
            "k=3, 0.9912569239474678\n",
            "[(26144, 3), (6536, 3), (26144,), (6536,)]\n",
            "train 성능 : 0.997093023255814\n",
            "test  성능 : 0.9943390452876377\n",
            "k=4, 0.9905745990734747\n",
            "[(26144, 3), (6536, 3), (26144,), (6536,)]\n",
            "train 성능 : 0.997360771113831\n",
            "test  성능 : 0.9937270501835985\n",
            "k=5, 0.9917014542352186\n",
            "[(26144, 3), (6536, 3), (26144,), (6536,)]\n",
            "train 성능 : 0.996672276621787\n",
            "test  성능 : 0.9932680538555692\n",
            "k=6, 0.9912666298489471\n",
            "[(26144, 3), (6536, 3), (26144,), (6536,)]\n",
            "train 성능 : 0.9973990208078335\n",
            "test  성능 : 0.9951040391676866\n",
            "k=7, 0.9920576608195081\n",
            "[(26144, 3), (6536, 3), (26144,), (6536,)]\n",
            "train 성능 : 0.9961750305997552\n",
            "test  성능 : 0.9935740514075887\n",
            "k=8, 0.9916189540726448\n",
            "[(26144, 3), (6536, 3), (26144,), (6536,)]\n",
            "train 성능 : 0.9965957772337821\n",
            "test  성능 : 0.9941860465116279\n",
            "k=9, 0.992152778654005\n"
          ]
        }
      ]
    },
    {
      "cell_type": "markdown",
      "metadata": {
        "id": "TdpJq00RbDTN"
      },
      "source": [
        "#### D) **DecisionTreeClassifier**\n",
        "- overfitting 경향이 있음\n",
        "- max_depth를 줄이는 방법으로 overfitting 해결\n",
        "- (*, criterion='gini', splitter='best', max_depth=None, min_samples_split=2, min_samples_leaf=1, min_weight_fraction_leaf=0.0, max_features=None, random_state=None, max_leaf_nodes=None, min_impurity_decrease=0.0, class_weight=None, ccp_alpha=0.0)"
      ]
    },
    {
      "cell_type": "markdown",
      "metadata": {
        "id": "gS57Hsey9LPG"
      },
      "source": [
        "![image.png](data:image/png;base64,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)"
      ]
    },
    {
      "cell_type": "code",
      "metadata": {
        "id": "DXFJ45DAb0t6"
      },
      "source": [
        "help(DecisionTreeClassifier)"
      ],
      "execution_count": null,
      "outputs": []
    },
    {
      "cell_type": "code",
      "metadata": {
        "colab": {
          "base_uri": "https://localhost:8080/"
        },
        "id": "vnXJpCjXG98q",
        "outputId": "10e9a260-9fc5-4aba-f603-090e91edf48f"
      },
      "source": [
        "model_dc1 = DecisionTreeClassifier()\n",
        "ModelTrain(model_dc1, data)\n",
        "print(model_dc1.score(X, Y))"
      ],
      "execution_count": null,
      "outputs": [
        {
          "output_type": "stream",
          "name": "stdout",
          "text": [
            "[(26144, 3), (6536, 3), (26144,), (6536,)]\n",
            "train 성능 : 1.0\n",
            "test  성능 : 0.9961750305997552\n",
            "0.9936309874492988\n"
          ]
        }
      ]
    },
    {
      "cell_type": "code",
      "metadata": {
        "id": "DS4r43hYRGQG",
        "colab": {
          "base_uri": "https://localhost:8080/"
        },
        "outputId": "0940144a-5616-49f5-e837-ea43b14ec659"
      },
      "source": [
        "model_dc1.get_depth()"
      ],
      "execution_count": null,
      "outputs": [
        {
          "output_type": "execute_result",
          "data": {
            "text/plain": [
              "12"
            ]
          },
          "metadata": {},
          "execution_count": 43
        }
      ]
    },
    {
      "cell_type": "code",
      "metadata": {
        "colab": {
          "base_uri": "https://localhost:8080/"
        },
        "id": "YgMdLf9d6Pd7",
        "outputId": "20ac5174-e370-4a3f-a4f7-a23f8061c6db"
      },
      "source": [
        "model_dc2 = DecisionTreeClassifier(max_depth=6)\n",
        "ModelTrain(model_dc2, data)\n",
        "print(model_dc2.score(X, Y))"
      ],
      "execution_count": null,
      "outputs": [
        {
          "output_type": "stream",
          "name": "stdout",
          "text": [
            "[(26144, 3), (6536, 3), (26144,), (6536,)]\n",
            "train 성능 : 0.9951805385556916\n",
            "test  성능 : 0.9928090575275398\n",
            "0.9888459780200155\n"
          ]
        }
      ]
    },
    {
      "cell_type": "code",
      "metadata": {
        "colab": {
          "base_uri": "https://localhost:8080/"
        },
        "id": "5RwT9GJYQ-e9",
        "outputId": "182331e7-9c8d-4332-e81a-da5757eccbab"
      },
      "source": [
        "model_dc3 = DecisionTreeClassifier(max_depth=3)\n",
        "ModelTrain(model_dc3, data)\n",
        "print(model_dc3.score(X, Y))"
      ],
      "execution_count": null,
      "outputs": [
        {
          "output_type": "stream",
          "name": "stdout",
          "text": [
            "[(26144, 3), (6536, 3), (26144,), (6536,)]\n",
            "train 성능 : 0.9645042839657283\n",
            "test  성능 : 0.9600673194614443\n",
            "0.9383908197701448\n"
          ]
        }
      ]
    },
    {
      "cell_type": "markdown",
      "metadata": {
        "id": "gR8hMaKhbPdb"
      },
      "source": [
        "#### E) **RandomForestClassifier**\n",
        "- DecisionTreeClassifier를 100개 사용하는 앙상블 모델\n",
        "- n_estimators의 개수를 늘리거나, max_depth의 숫자를 조절하는 방법으로 성능 조절 가능\n",
        "- (n_estimators=100, *, criterion='gini', max_depth=None, min_samples_split=2, min_samples_leaf=1, min_weight_fraction_leaf=0.0, max_features='auto', max_leaf_nodes=None, min_impurity_decrease=0.0, bootstrap=True, oob_score=False, n_jobs=None, random_state=None, verbose=0, warm_start=False, class_weight=None, ccp_alpha=0.0, max_samples=None)"
      ]
    },
    {
      "cell_type": "markdown",
      "metadata": {
        "id": "KoJqI2uv9933"
      },
      "source": [
        "![image.png](data:image/png;base64,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)\n",
        "- 출처 : ```http://itwiki.kr/w/%EB%9E%9C%EB%8D%A4_%ED%8F%AC%EB%A0%88%EC%8A%A4%ED%8A%B8```"
      ]
    },
    {
      "cell_type": "code",
      "metadata": {
        "id": "LoklOyo5bUE4"
      },
      "source": [
        "help(RandomForestClassifier)"
      ],
      "execution_count": null,
      "outputs": []
    },
    {
      "cell_type": "code",
      "metadata": {
        "colab": {
          "base_uri": "https://localhost:8080/"
        },
        "id": "ws9PAYZv6qex",
        "outputId": "0e32ed67-5540-4e02-dbfd-7c9dab38a49f"
      },
      "source": [
        "model_rf1 = RandomForestClassifier()\n",
        "ModelTrain(model_rf1, data)\n",
        "print(model_rf1.score(X, Y))"
      ],
      "execution_count": null,
      "outputs": [
        {
          "output_type": "stream",
          "name": "stdout",
          "text": [
            "[(26144, 3), (6536, 3), (26144,), (6536,)]\n",
            "train 성능 : 1.0\n",
            "test  성능 : 0.997093023255814\n",
            "0.9960749334417806\n"
          ]
        }
      ]
    },
    {
      "cell_type": "code",
      "metadata": {
        "colab": {
          "base_uri": "https://localhost:8080/"
        },
        "id": "k-pyjlY8HKu4",
        "outputId": "585cdf8f-d28c-4475-8271-0c1ba20c04ba"
      },
      "source": [
        "model_rf2 = RandomForestClassifier(n_estimators=500)\n",
        "ModelTrain(model_rf2, data)\n",
        "print(model_rf2.score(X, Y))"
      ],
      "execution_count": null,
      "outputs": [
        {
          "output_type": "stream",
          "name": "stdout",
          "text": [
            "[(26144, 3), (6536, 3), (26144,), (6536,)]\n",
            "train 성능 : 1.0\n",
            "test  성능 : 0.9975520195838433\n",
            "0.9961807277679047\n"
          ]
        }
      ]
    },
    {
      "cell_type": "markdown",
      "metadata": {
        "id": "Zungs3RcIW1H"
      },
      "source": [
        "#### F) **XGBClassifier**\n",
        "- https://xgboost.readthedocs.io/en/latest/python/python_api.html#module-xgboost.sklearn"
      ]
    },
    {
      "cell_type": "code",
      "metadata": {
        "colab": {
          "base_uri": "https://localhost:8080/"
        },
        "id": "KPpyLEsvIXWr",
        "outputId": "e7b79926-53b6-440a-8ad1-f7bcee7605f8"
      },
      "source": [
        "from xgboost import XGBClassifier\n",
        "model_xgb1 = XGBClassifier()\n",
        "ModelTrain(model_xgb1, data)\n",
        "print(model_rf1.score(X, Y))"
      ],
      "execution_count": null,
      "outputs": [
        {
          "output_type": "stream",
          "name": "stdout",
          "text": [
            "[(26144, 3), (6536, 3), (26144,), (6536,)]\n",
            "train 성능 : 0.9985847613219094\n",
            "test  성능 : 0.9966340269277846\n",
            "0.9960749334417806\n"
          ]
        }
      ]
    },
    {
      "cell_type": "code",
      "metadata": {
        "colab": {
          "base_uri": "https://localhost:8080/"
        },
        "id": "LpHxl1GMI4oy",
        "outputId": "613c4979-7b88-48a0-fd65-181329cc4b8e"
      },
      "source": [
        "model_xgb2 = XGBClassifier(n_estimator=500, max_depth=5)\n",
        "ModelTrain(model_xgb2, data)\n",
        "print(model_xgb2.score(X, Y))"
      ],
      "execution_count": null,
      "outputs": [
        {
          "output_type": "stream",
          "name": "stdout",
          "text": [
            "[(26144, 3), (6536, 3), (26144,), (6536,)]\n",
            "train 성능 : 0.9999235006119951\n",
            "test  성능 : 0.9972460220318238\n",
            "0.9962603161600347\n"
          ]
        }
      ]
    },
    {
      "cell_type": "markdown",
      "metadata": {
        "id": "JN_wZkneGp03"
      },
      "source": [
        "### 1-06. 성능평가\n"
      ]
    },
    {
      "cell_type": "code",
      "metadata": {
        "id": "lenqR2zGhQiW",
        "colab": {
          "base_uri": "https://localhost:8080/"
        },
        "outputId": "a92724ed-2c8c-42dd-a74f-3ef7e54293ec"
      },
      "source": [
        "# 앞서 성능이 좋았던 RandomForestClassifier를 사용하여 모델을 생성합니다.\n",
        "data = make_sample(seedno=1234, size=50000)\n",
        "model_rf = RandomForestClassifier(n_estimators=500)\n",
        "ModelTrain(model_rf, data)"
      ],
      "execution_count": null,
      "outputs": [
        {
          "output_type": "stream",
          "name": "stdout",
          "text": [
            "[(65348, 3), (16338, 3), (65348,), (16338,)]\n",
            "train 성능 : 1.0\n",
            "test  성능 : 0.9985310319500551\n"
          ]
        },
        {
          "output_type": "execute_result",
          "data": {
            "text/plain": [
              "RandomForestClassifier(n_estimators=500)"
            ]
          },
          "metadata": {},
          "execution_count": 6
        }
      ]
    },
    {
      "cell_type": "code",
      "metadata": {
        "colab": {
          "base_uri": "https://localhost:8080/"
        },
        "id": "szBPtJJwRp86",
        "outputId": "753b8573-2760-418c-a60f-68417dd80661"
      },
      "source": [
        "# 앞서 성능이 좋았던 XGBClassifier를 사용하여 모델을 생성합니다.\n",
        "data = make_sample(seedno=1234, size=50000)\n",
        "model_xgb = XGBClassifier(n_estimators=500)\n",
        "ModelTrain(model_xgb, data)"
      ],
      "execution_count": null,
      "outputs": [
        {
          "output_type": "stream",
          "name": "stdout",
          "text": [
            "[(65348, 3), (16338, 3), (65348,), (16338,)]\n",
            "train 성능 : 0.9999387892513926\n",
            "test  성능 : 0.9984698249479741\n"
          ]
        },
        {
          "output_type": "execute_result",
          "data": {
            "text/plain": [
              "XGBClassifier(n_estimators=500)"
            ]
          },
          "metadata": {},
          "execution_count": 30
        }
      ]
    },
    {
      "cell_type": "markdown",
      "metadata": {
        "id": "S0FD8LHUgaZH"
      },
      "source": [
        "오분류표\n",
        "- sklearn.metrics.confusion_matrix(y_true, y_pred, *, labels=None, sample_weight=None, normalize=None)\n",
        "- y_ture: 실제값\n",
        "- y_pred: 예측값\n"
      ]
    },
    {
      "cell_type": "markdown",
      "metadata": {
        "id": "ZASes5JVjXw0"
      },
      "source": [
        "![image.png](data:image/png;base64,iVBORw0KGgoAAAANSUhEUgAAAPoAAAClCAYAAAB1NOAfAAAAAXNSR0IArs4c6QAAAARnQU1BAACxjwv8YQUAAAAJcEhZcwAADsMAAA7DAcdvqGQAADlRSURBVHhe7Z0HXJS3G8d/d9wdoAwVcDAUcQs4ce9dZ917b1u3dVTrqnvbqnVbV92zjqpVcKA4cKOIAoKo7L1u55+8dyggKI76Ry5fP/G4JO97b/LmlzxP3txFRCjgcDh5GrH+lcPh5GG40DkcA4ALncMxALjQORwDgAudwzEAuNA5HAOAC53DMQC40DkcA4ALncMxALjQORwDgAudwzEA+Fr3HLB+nxfuPXkN3+eRSEiS62M5eQ0LMxNUKGmDKuVtMapnHX1s3oAL/T08eR6BhZvcUdTaAt83dUYFJxsUssynT+XkNWLiU+AbGIHj7o8RHp2In4c1QfmShfWp3zZc6O9hwPT9cChWAPPHtNLHcAyFX9acxYvXsdi5qKc+5tuG++jZwMz1IlbmXOQGCrvvzJJj7SAvwIWeDcwn/75pRf07jiHC3DXWDvICXOjZwCbeKjjlDf+M82mwORnWDvICXOjZwGbX+cSbYcPuf155ysKFzuEYAFzoHI4BwIXO4Xxh5p4NhmjCJeE17e/hB57qU/8/cKFzOJ+I7WwvQcQstN/io4/9ONI6gvRh240wfeqXgwv9s1EjMsAPQRHJ+vfZkBoOX59AJKv17zNAkBwTimd+vnjy1A9+NDx55o/XcUp9OpAY9hQPH4dAodVHpEOrVkGpUECRPiiV0GRaChX30g8PAiKh0b/PtWiUCAsOxBO/J0Jd+Pn54enzMCQr9AXSpiDQ5z6eR6bq3qeHEKiVmeqCBqUqU8WrkhHw+BFC4z5tso2JPDRBCbKqEeZ854iTj6I/adSe3aqEcI70YXCtovrULwdfGZcNVbqsxr3D4/Xv3oM8CMtHj4CHRQ/8PqkljPXR6RGJgBfnVmPa1iBM3bUHbRxl+pQ01Di3aRqWHfaBTCoBzQ61VouK3Wdj5cBa9J0K55f2x7x7JbFh/UJUsBQO0iOH+/pfMPuPf5FsLH3Tc6uUati4dsfSFVNRragRjdHi9Lx+WP6kEnb9ORV2mS8hNxF/FzNG/Io7VEhGYhGIVg21mTMmz5+H5mXzARE3MXzwBEg7/Y61Q6oL9fWGuMeYN2IYDj+VQ2KkTxERKFNkaDt2AeaMaKq7RzE3MK7XWJgN2oIFPV2FbFmRVTtgI+6QfX4YVqcYNnUvK8SlCT89rAMQXs8EZcjLYBYA6xzex9ae5b6Y6LnQsyHHQk/xx9IfhmPd+VAUcywEJqnMMKGnREUgxdgFSw/vR4dSb1WWGv4EZ09dhG/Qc7yMSoCWZmbNk1DJmts4oFy5Smjaqj78Nw3GLG9HbN2yDBUL6I7VoUHo09u4/fgl7Q6MQHUhoIrzw5+/70C++j3Q3LkIFUsq7p08gHuS1th/YCZK5EahEyUCvc/j4vUHeBb4GnFKFa0LKnSaZCSxhF1xO5Sr0xzNS8RhwqAxMOr6BzYOr5FR6Mp43L92FYGxSojTKoMK/cXlPVjvHov2/XrCyURJs/nj2O5zqP7zLiztU0WXLwuyagds5N7sFZpBiGnCvTymCtyfxQnifp/QsyN9h8FG9y8FF3o25Fzoz7Bo+FAciK+MH7rVgIy8a1uLjcQIv30Uf11WYdb+w+hU+q3Kwr22otugXxGYAkhog9SoNYLYjYzoyK6Ww8ihHhatXwPrC5Mw64YDtm5divIW+oPfR7IvZvVqjZ2PNVDLNdBQe10kFsOhzmgc3DMNxXOl0ONxaNZITNt0EUpTY4i09No1WnrdRrQ+xNQkV6F0l3nYNdEZ838YA1FnKvRhbvqD30+E+2I0/GEDEtUSkKQkelOo7UMKY/CqHZjfs7I+17tk1Q7SRJ1e6OnFHxKnyLHQsxvZ2bHMrP9ScB/9czEuiOJ2xZDkfxceHu7wuOTxbrjojsvXAyC1LAH7ghkVVrhmf5y66okdSyegXcNqsJFqITE1h2v91pi8fCcunt6BLpWsaaPUIir4BtYtXYh12/9FZEYr8R3i/e/BO8weI1f8i+dBL/DihQ9W9K4FiUpBjfhcisgCHWduw5XLhzFjWGdUL1eEdn5KmDtURKtuP2DjsUs4saw/7EwItFqC26c3YcHCVTjp/fIDZVLjntd9mJfohKNevngR8hJPPXegXRk1UtVff5xjnULaxFuaFZDeRy9mIRM6B5butvKO/qjPgwv9cxEXQLOBIzCsW22Ys5E4i38irRFsa7TE6BnDUMEi41SYSKTCvX0LMXPJPiRZV0a3keMwakh/VC2qxsFF0/D7Hm8oRPQszAxVKhAb/gphEXFQvadlp7y6jeUrtyKqRG1UtErANc8ruHr1KnxexVFrITffchE0Mb7449dx2HwlFBXqd8Ko0ZMwoH1dGAWfxpzpP+NicCo148W03gjUSfEIefUKsYmJ+uOzQoVHtEP4bZ8/XJs1hOi5F65co/Vx0we0Gmm96rN9BEyImUkzt8vYmAqv74ON7OmF3cApw6QLXs+t8ybNe2I1feznwU33bMiJ6a6O98OGudNxJlAEM2MR5MmpdOxgiKhlyExDLbRC9YogNTGFVCtHUr7SGDxxKrpWKyLkhCII87u0h3uhIdixbTwcJLpoIAp/DGqDnbEt8ddfc/BiTXdMvVmc+ugr4VoofevUIDkmDOHRcYgICcTNS+dx4ZIXAvPVw8r5AxF1bDmWH70LDRVHYmwcClQZiSMHpudOH50SdmUteoxai4bzT2Jex9L6WCDxwV50GTwdJcedxPrvkjG410iAmu5bfqiNN1VGIWoFIl6HIiY2Ei/8HsL99El43AmFa4cfMbGrFdbP/BkewSJI6L2IjTBCn992Y1Gvj/PRP3Uyrp9bETRcc0+I+1g+15TnQs+GHPnoimj8e3A3PP3jIJGwiTARHWlEUMT4UTF5omi9Vmjk6gAxFTyhQamQQ1SgLL7v0QVV7c105yCp8PxzJiatvYYiZauhZjUn5BMlIeAuNfn95Gg1YikWDmuAO5t+xKqHJbB0yRQ45dcdKpDyCpt/HYttnpEwkUkhsSiKut/1xBDqnxe3lECZnIgUJe1+RCk4u2IGdoVXx8Z1Y2An1R+fy1CG38HiabNx0icelZs2RfkiFlDEheDKFU+80lTF8i2r0NLGH1PHz4a07XzM7+6iP1JH1L0DGDX1D4TLaecqkcLSrip6DhuE9vXKw5RaT0mJSVBpRFCF38CCKUtQZOBaTO+c/bcUs2sH6R+vsWfhaT45E2P694z3+ehfCy70bMiR0AXUCPX3QUAYNR+pec3+yV/fwuKZ21GyzwT0b0ZHJVrFRCSDfRlXlLTOwrRLfYWdy5fCPUABmTgZyRpjWNkURtXmndC1RQ2YGwGv7p7ClRdWaN2+NizTD+hEg0g6kkcmE1ja2MHOOn0vkBFN7EsEJhjDqYQNdShyLzEPTmDR7/uRIMmPFCpMaf6CsCnpgjadu6FROStqjUfC/eg5kEqt0ax8If1ROjQp0Qh6EQa1cUEUK2oLi2wtaYKw4OdAATsUtczqoaiO97WD9KN4eiF/SOhXAuNzPLKzjuRLwIWeDTkWuioMu+ZMxZqT96ChIyob1YlGheREBSSmJjA2Zs/FqT+p1qBw6e+xfMNsanpneCCElGf/YNykbag6bhEG1rCCXCuFuaUZpDSbVqOm5r8anuvHCSP68hXTUcZcf2Aaif7YvOYPXPaN0k0mZ3VH2dOA/GUwcOwYNK2YURy5Cw28No/F0otFMP/3n2ArkguTk+amzATR0nqk7lDkPfw8kY7o7RdjUW9XWr8ZCb9zHMtXH0GEEbsXWU1msKcbYjjW+B4/DO8Eu/yZz/CWnHf4b/kSIzqbhLsdksiF/l+T8xusRdyLh/D0uofwJLVgurMH5+wZLjPXmb7Y47Wwmwew/bIYy44fRXunjHZz0uOjGNB5LB5IbWBlZix0DGxW+e2tIUiKCEXBGn2wafMSOGd4jk5Jfom/91EX4kmM8FnvQK/HiKTgpvtFpFT6EUc3DEfh9I5trkINj5U9MGLNTZha2yGfhNUjqwvm/rB0Wr/qZETEJqP1zMP4Y3C1d4Qe88Qd23afQwT1WLKoDYjovVFE+ePiuZfovmYHprXPXoBc6HmcHN9gdTT2/ToMc46HomL5EnQUznI4pf+ksK/aGZPHdUExE320nqRHh9G353xYdRuFrrWK074j4znYzLz3X0vxj7wuNm9emmnBTE5JxeFp/bHiUUX8dXguSubSyTgmdPcVPTD5gBwDJ/+IMmZM6PokhkgMbdR9rF23AyUG78T6YZlWxuUQbehl/NhzFEyH7sbKflX1se+SV4SeVYfH+RjU8QgIjIKmgAvafk996k5d0CWr0LETmlW3A1G9u9JczEzTfMl4ctMDRw8dwdGjRzOEI0eO47p/AiQyC0g+eSRWCeu9M69/z32IYWZuCWViOK6cPEbLnrEujh45hGPnblDfWIN85rrlwp+CUqmCit6LTH3qFyFt/fqXXPDyufARPRty3JMTOW7uXYgF269AbmSKtOXV76DVQGRWFEPnr0On8voZdz1Ek4ire5Zjzb6LCEtmz8z1CXqIVgtZIVcMmjQeXeqVorbBp5CMM8t/wraQ6li7cigK5+LZOFXoXaxdtQLHb77UPabMAHNrJChVvyMmTRiKilbZT6S9D0XodcydsBgFei/FlA5f1nTPjXChZ8PH3mBVUiLi5Qpao/qIzNBaFstMYGlh9n+b8VYmRCBeYwGbgpl8B0NEq0JsdBwk5oVgbpL9HckrQuem+xdCamYOa2trWFtlE2haof+jyBkyi8Jc5GmIpShoY/NekecluNCzgW3Pw3bu4Bgu7P6zdpAX4ELPBrYHl29g3vipX86nwbZnYu0gL8CFng1so73j7o/07ziGCNuDjbWDvAAXejaw3TTDohKEPbg4hge772yjxbyyqyqfdX8PbDfVRZs9hD3Y2PZMbOcWvqlD3kW3m2qkYMmxTn768KZ8N1VDgu+Pbhjw/dE5HM43DffRORwDgAudwzEAPmi6sx+/53AMHWPjT1tTn1v4oNBfv84bG8FzOJ+Dre23/Tz9g0JXKj/wu8IcjgEgk+XaL/DniA8KXS7nj5M4HBOTb3vN+ycLXRQcDPHJkzD65x+IAgMhCg1lmfWpuRh6w0ixYiClSkHTujW0bduClMg9PxDAyZ0YpNCN1q+HdOpUaHr3hrZNG2idnQXxIN83sGosJUXolMQ+PhCfPg2jvXuhWrIEmlGj9Bk4nHcxKKGLnj+HdMoUICEB6mXLoK1USZ/y7SJ+8ACSyZMBCwuoli4FKVlSn8LhvOVbF3qOn6MzkRu7uUFbowaUZ8/mCZEzWDmE8tBysfKxcnI4eY0cj+iybt0EMajZiJ5HkdARXXzrFpQHD+pjOBwdBjGiM59cMNfzsMgZQvloOYXycjh5iA+O6Ao/Pxi7ukLp6ZlnzPX3wXx2Wf36UDx8yGfjOW/I8yO6+NQpaHr1ylbkbJN63QaD+ogM6Db0l3xgb1q2Qb9EItFtDZwBejyNlxgZffLvd+uuTyJslZQTWDnZ0wRWbg4nr/BBobPn5OwRWlYw7aREv0Jg8CvEybXC+zewNxo5Il4F4HloHN7dtkAH28JImRiN4KBAhMam6o7TpUCkScXrF0EIfh0GuZZtX/gWkVgq9LJZBmOpkJdtbZQSH46AwEBEJyvTnfv9sPKycnM4eYUPCl0UEACtS8ataXXQ0VaqweXfh6B2p0E48FQNY+P0YjOGSaIvlg6vgaZjdyBOK3476ovEkOnzsS8LvLq4Dp2aN8D47fd1xwlpxjCO88bQHq3QcegUPEo0hlT/y7wierwy4hH27t1Dw950YQ9279qDU+d9kCyWwNhIDa+9s1GzZm38diEQYmpd5AS2LoCVm8PJK3zQR4epKeSvXmWxGEYEiUyN03O6Y8zeQJR3q4+y1sbC5oC6ZDFISiTu37qE6Io/4cKfY2BjpAURUTM6+SUO7toId584mJpIEBt0H173A2Feqg7qOheBSKWC3Loc+rYqjd9mTEFwfjf8sX03ahWSQ0lNA7GRFLFXV8GlywJo0/oqOlobURdAoTRC7b6rsHdtTxQiKTi7fgL6zD6GERv+xezvnaFVq3T530dKCkzs7SGPidFHZIa5JNSdELHN/3TvmfWg0Wre7BMmpi5D+p1NmTGh1WTcAkiXR7eJIINZN4SeQyNkEgkbJmZng7BzpTuVDlrnRvodRLXpbitzX5hb9PZz2PEZ8+QW3lzrm3rIGtbZs3xabaayCnVA2176srI8b86lq1dh11shz7v3LivY4PMt88ERXVjW+r4Vb7TCxGo5wgJ98eDBAzx8+FAX2N9PniMuNd1IzqA3QqxOQdCTu7jmdQM3b3rjRYIUpSu4wEZEOwZvb9y64YWrd3wQmqgWtjhiN9/ElF6s1AQSesVsK2HzagNx0/sOvGl+79v38PDueczqWhuFLfNDGvsPelNfu3K1epi09iJMjT9ywzJW3lTqRmQJ2ymVIPT+afw8uC1quNVEyx7jcPTGC2ioFcGKysQW6vMPZg7tgJpu1VGnWU+sPHgTyVo2V6A7C7Mu5BG+2LlkNJrVqo6ajdpg8rrjCE0hkNCOTJJyDzPaNkG16m7UIqmpCzVqolbtOmjRoRvcX0sgS7f3gIgeo4n1wYxubbHw8ENopDLhWkT0mrSJL3Bo+Vg0q10dbo07YN6uK4hT64SSaxDRe0zFxAaHa0fWYPrv7lBSEy7LKxTLoI28iBHte2DFGX9IhK2pKbRtQRWPyzt/RYdGNVGlThOMWXkUL5O0wj0RDqV1lvTyDlaO74Y6NaqifttB2HHZHxo2AAk58iYfHtGpkOVZNnr9iD67K0YdiUKHgWPwXRkzqNS6/ajZqKuOfoL921bggf1UXNyuG9F1HSvrVWlDlYoQEegjdAixSUqIpKYo4lQBVZxLwYxp8+V5tOkxFs+1dhg4bCRKWwIuDdqgpCXtyeltYZN87OqlUgniHp7AqGE/4qasFZZMbIWH5zwQR88f5n8HV+4GYdCaMzkf0SkmzJLJotxGUikivQ/gx7GLkeBQHa4OlkiNfIprDxQYvmorRjWxoxZLNA7+PhV7npjA0coE6oRXuHXTH7Umb8aKPpWFrZS10Q8x88fRuBBrh3qV7CGmDdT3xjWYt1qArb92hlmyH3Yu34a7sanCqM8QSSSIeeKJe/Iy2LxnB9wKqqHW3z2pjODWpnHoOuUKeqzagl8H1YWEWkZSdSTWTuiPTQ9M0KBWWUhTQuF13Q/VRq/EqsENIdGoaF3+n6FtTJQSjssX/sXZMydw8YYPCrZZhKOLOkGqVGeyXKjbZ6TEuWWD0W+TH4Yu2oH5vVyhVmggFafgxNIx+Hl/MGrXrwpLcSLuXb0Os7Y/Y/OM3rCm7UEZehlTh43GTVEl1CpXBMqop3RQScBQWtejvisJ8s7n6fjWR3RmvrwfmiU1NfWdoFCoaaKcnJjTnpRyKEZsixYmNjY2pHDhwrrA/i5SjNjb2xHnXitJqEJDNCoFoeIhqXIFUSqiiPuWOaRzsxqklH0RUrBAAVLI2pZUqNmUDJj8B3kUQw2ykH9J20aViW0xW2JdyJJY25UkW+8mE40y3XWo1EQZ70eW9atP7GxcyIRdt4hGd+UClzb/QM9bmEw/dF/Im74M7wtZlpteN1HFk5PL+5HGPX/VXSMj5TVZM6wx6TR6P4mln65IiievAp+SSHoaAU0sOTqvJ6n93TzyXKEkapWSeO8aTeo1G0XOPInXZ1KSQPd1pGODLuSoHyujkujP/hZtBFk7ricZt+06UaiVb65LriIk6elxMqCRG6levQWZtPkKSaJ2r5LeolcXFpEmbt+Tbdde6k+SQM6tHkJq1B9JbrxOIiqFImMZ/x+BtqWkBwdI++79yaKdx8n6Kd+TdtP2kAS1Stde3gQ5UdJKibi5k3Rp3Ji4NahHpu+9S9T0n0KtJXE++0j3Oo3InAP3aW0y1OThkTmkYY2OZN+tcPo+hXisGUUatBtGrgQlCTlIcghZP6INaTxkOQlI1NL6kKf7vLfhW+cTrRWCxOgXCAh8iZIdZmD7X/ux7+BhHDlyBIcPH9YF9vehA9izZy82jm+KxJDneB4WAwUdPsRGMigDPLB43TY8VdXC+nPeePr0GfweXsbMJoXg/tcSrHQPALPTNUo5rCrWxbYLj3Dn2gV0LCWGsPMwNfVkxibQxj7GhqljsOp0IOoMn4afOlVBfFggvbbneBXkh5CIxIyuw2fB+npm8hrBqmhBFMqvP7GJNWwLy2BimY/aKjSPkTGsHUrCUiQXVhZqxAVQxbUY8hMFlDSZHfX66WMUq9AYdctZQCVPhVwhRskmbeFqHAeP+yGseFDQY9nxcrmCWkIq+B7bjBMRjhjcvirE1McWEEshUz3HtlXbgSYj0aWmNRQqdp3U4jJKwO0LdyGp3xXdattBSc+l0JqjcYeeKCvzx+3ABN3F/L/RqiF2bIYN69Zgar/2KFWImvBZ+OciagUaxfpi8/r9KPL9ILQukx9U3yyFllWJZ9dvIcyhCQa0dYGIthuFSgSXJj3RqGQSbvu9AkmmboF3MFw7DEat4vmE+tWY2qFdn/YQv3yMANpWcpU78wX5eKFTM0tCUnF4Vj1UqlwDjVq2R5euXdG1Sxd06dIVvfr2x4B+fdC9axd07twZXWlap3bNUbuqC1wHLcLjGAKpEYE4XwEUMTeFKjkKPt5e8LzqiavXruPJqxhqhxaEbQHqJwvjKoGRzARF7O3g4GCP/DIaRf0pY7ECvlcO4OeRI7HokC9qD5yGX8d3h604Gjsm14RrZTe4Vq+LiWs9kE/2yZuKZ4ReixKmqNVhEMoneWLh4vU4dOQwNi35GQeCyqN/33owo6aflopdS3Uo1T+F0ET74tiZIDi0b4zitCFpacMsbO+IkKeeuBGYBKmJKUyMjRB21ws+kfFIDo+AmuZLa3JsnYE2LgCHjt5C1XbdUN6K+uOsgVOfVCZR49q+9Tgb54LJw1vRzkVvetKDRepYhLxOQolyTjDRm+hETU3cQsVgZ6NESFi8cD///xCIZPlhY2FKOzQF7cjfFTkrkNRIjot7VsNL3BBj+zalHSft8fWFFdM2GfY6CtaOpVCAti92CmoCAaaWsC9uioiIaCQlRiMySoQyjkXoEbrJTDZJZ1bUEcVNYxARkwJtHhX6xyuANnaNyBgNBv6GzU00kFD/mNUNm+0EbVin18/DP/Eu+GFab7gUMYWa+ey0wjXUX1Rbl0IJcxFUSiWMbGvjlwXzsX3HLmyfPQmvYhNApJYoW6c5xs6bgX51bUGiHrMPpB9JP5PeUy1tpFT2EKcGYefq5diw/2880zhh8Ky1GN2/DezzaWgvbormw9bBpg0daI3UuO/+F/44dOuLzTBraQsqWNwZVeyBib9NwU7CdiuXoOaQ3+BWqgAVoEKYGFO+voU/d27Hg9dG1CpRoJBzD0zvVQ9GtHGy+QXnFoPgemA0po4ciroVi8FIlYwX0bFIKgTYZGpsbI/wYK/juJ7kiF+auUKqUYL9kh+r+8hbu7Dm6At0n/47nAtpcCG9SGilqejn2VkX1OmBweqBdiz2xvngH5esj8wFsHtM20l2MjOSSRFycSvWnknGwCUjUM4yMWOHQHtWpVqFYlYFaHukbVEweGi6RIbC+SygoWVVK/NDU0gCK0tTNjklHEaICMam+WCemoj4BAUdRPKm0D/JdGdiK1O3G3r37oGiYWexZtVyrP5tNX5buxVeQXKoI5/g6J9/YNXqNVi/fj1231ahde8+6NOyJqxM6D2glazVSFG6XidMnrsMG3cdwHnPG7h5/RIOb12Jsb0boxA1xVQFXDF/9Z9YP38KyuSn74UhiY6XxoVRq0EN1Go8HHuPHcLSMR1Q3JJ2OFJjGNOb6tKwB/r06oEu3fugc6u6KF2mLAqbGwuN6bOgjcBYnAL3rXOx1aco1vzthXt3buPame2oFrobvyw7iUQqcmbaa1MiqaXigYtXrsL73gPcvnsLvs9jqBlPR3QqQGP72liwZhW6l5Ljqvt5eAWkoM2wH9HGyQbSAmbUaqIdnO5DqZkejhOHz8O+ZTfUKCKmDZqOgNSMVby4iEUrT8Bt+Hz0r12YKZ+OemLatk1gKrRXXScpzdx4aZyCdgD5TL6Nn0cyomJNeHwKC9ZfQvOpy9HF2ZKW1ViYjGVlfTM3T8sloWXNWFpC240axrSsusZOUzPVh/A4Mj9bv0HHvc9tI7mUTxI6Q62g/qY6FWb2zqhdpx7q1K5NXxugQ6/BGNq/O1o0boSaLiWgDL8PH//XSExRQqlQ6mfddbDHcndPrkCb7yfBK74ASjk5wtbaEjJ6A6UyGWTKZ5g9cQh++GUpniXLIBWuljZealE4NRyAleumw1kVhOP79uHAwYM4mEXw11bE5J8moGEZK9pHCN38J8OslpQoXxw6+QwtRv2E7+s5w8HeAeVrtMGUqX0Qc34frgZSa4WOt8ZOLbHqkA8e3rsNrwvHMa2BFqsnzMTVMGoF0XJoNGoUKF0fk9YcxI3bd+B5ajeGVDaCH+0oyzraQ5TmgxvJkPLkAs77F0CrZlXpyE9Nc+q6SOQvsGXpYlxOsUVR9SMcOXwYxw7+jYcvoxB09wKOnb2NGBgjPxX/s9eRb+cp2MP9hFgEJBAUKEoFk8thjwdJgh+2Ll2ARxJHWEXewOFDh3H4wN/wC01AwM0zOHb5IVJoreejlsrz0GgqbFp3Qnnpf/JkBEcnw7hIQWHklsUmISIyAVo26gvnJ0iOi0KEphBsCppSi0uIznN8stAFaKWIac/KVrHJqGnFHnOxyQwmCImUvhfWwGfsPd/FiOaLwom1MzFh4gSMHz9eFyZMxMQZf+BFVKrQc2eEWQTUAKZ++t29GzB2wCAMGzECI94JIzGSvg4fOhR7b72io+BnbnpPi6JRxSM2QgQJUyuFjZisbRiJpYiXpyIqOZmW30hYUMNyMD/RyKIYmnXrgRIyfzwKTKZCZ3WiD0LDoh0btWBuHTmEu6IKqFe+gN4spX6pVA7vs5eRXKo5GpSkLgGNZ+XQRAbjTsBLBF3bg3GDB2HosGEY/OMUHLvzDDf2L8VPkzdQt6YoKpQrgICLHnihllJ/nj3SFCPc/y5eJjrAxdHyszu//xoRravE6Jd47OcPvwvb8cNQeq+HD8OwH6bi3KNwXNk+B8Pm7Uek1gyOZe0Rc/siniSodWWVSZAS/hR+z6UoX8oeJgVt4FBchos3H0Gt1X0HQkqFHuJzE9Em9nC0sRAW1+RFPkvoYtr9Pb92GBs2b8OhU+dx0cMD7u7uQrhw/hw8bvoBhSqivGMRyLL9JNoxUMG+9LuH69dv4MaNtHAd1+/6IVmupsLJqrPQQqGQoN74BXB/eB/eb47Th5s3cc/bE6smfCcstDHWC/OzoG3AtGBF1K0Sie3LFuLEdT+EhYXC/84ZLJqxBCnUd69WvCBiA/7F5s10dA18idCwMAQ9uY61vy6Ar8IRrk7m1KoRQZEYgnMHj+PR81CEv/LHyfW/YNK682jQdzgq0YFW0DkdzcSJwbh0L4C6IzVQkEaxaEJ9dG2Raliw6QSue3nhOivvLW/c9TyFUU2roPXEzTh7ehGcaZkrf9cG0qBjmLP8APxfRSDkwb9YtuwPqKo2RM1i5kJHlZthi6PyFauB+fuu4dpVT11Zb9zErWsn0bdOCXSctQ+3dk+ADRHDqWZTlDF5gFlzNuJuQChCA29j45J58CnkgiYVi4FIbNC4UU3EHFqGlQeu4GVYBHwv7cH8lZfg0rgVnKzE1NLK3fXxqXyhBTPR6Dh4HNqUM3+zYCYNNt6xEa5CneYoaSlOZ7qLhMky9z8noccv19Ftwhi0crER/CUB2sglcT5YuGIzFPZ1sXbbrjdLYNOTtmTyHeh1S8RKnFs/Hr0/dgksJesFM+zbdGJE+Z7H6oXL8Pd1X4THK2FiXghla7TEuJ9nomNVG8QHXsQvI6fh78cvkEQ7KtMCxVDWuTr6/jQLA+oVBysiSQ7G+km9seJkIFK0MtiWdkaznqMxc3gbWAgLiwiMaAeV9HgfBg5ehza/H8CQGtZQq9MqIG0Zrv4trQeJIhSrfhwB32pTsGZ0A4jkclqNYtw/OB8Tl+zBk5cxtKeyhnOzXpj1yzg0cGT3K1OF/l+h98yY4PTc7vgtriuOregNmeCq6Muqz8XyiTWh+HVAdyS0/QMr+1URHpWJqJsS5rkN42auxk2/MCiMzODk1hoTfpmObm62oH0GZNpwHF4+B4t2nUZwpAIm1vZo3GkUZkwbgjJmajrS6z8iE9/6gpnPFvrJWV0xbqs3UmkNqbPoDZnpKjaxwMITjzC0sizdTKlO6Be2UqHPOgoJ0VARZ6pl2kGwR3H2bt9hzZ+7UTsLoWcLvW4TKvTTbK37nGMYuekC5nZ0+eyVcQy2Ok4R/Ry3ve/hRbQC+QrYwNmtLsoVNoZCpRFmfWNCHuDW/QDEp1KhF7SHa7XqKF3YFEqV7vOZqxz/8hFueD9BrNoYJVzc4FbeAVKi0o3mFGaip0b44tq1UJRrWh8O5pJ0a7YzwcSgScWjmzeQQK2oGuWLQqSllcXioUTA3Wu4HxgBmNmheq0aKGll/E6nnBtgS1Rf3r8MX2VxNHFzgjgbU1pEUvHg2hWo7GrCrVQhwZVjsO8thT6+Be/HwZBLCsK5em04F7eAWlh8QRFR91IVhbu0nvxfJiG/XSnUrOWGwrQtC5O92WDAQheSkBwThqhE9rAnK/NaD234hYrYwVwmLCd5AzsiNTEK4THMr836eHZ5EuN8sC5cmAo3bSY6B9DzGYtV8Ng9F2NXnkPfxXsxsVVZKnTareeA9wmdwWa9ZVL9GmuKRqWkndjblsJmiqVv3AUiPF5Mn84Q0zwyfR6iVdNOgI5emQrIvo5rLDOCWinPdrR5C/XpjY2pOFRCh/MGWv9sclO/3Js2ekWWnXJuga2bkEINufJ990oEGdsmiboxygwVQwcgqQwSfWG16szpFGGxlVTvtxKolArBynofBi10RramcyaYr5XVYJSj4+klarL6tlYOYBODbK249gPfTsrMh4TOMSwMXuh5FS50Tnq+daF/galoDoeT2+FC53AMAC50DscA4ELncAwALnQOxwDgQudwDIAcPV5jywsNDWMTE4MsNydr2M+Sf8vkSOgftdIkr2Co5ebkSbjpzuEYAFzoHI4BwIXO4RgAXOgcjgHAhc7hGABc6ByOAcCFzuEYAFzoHI4BwIXO4RgAXOgcjgHwVYROnv+NNi0aYdK6o8jw40zaCGwd3wqNBszDnbCM68qJRoWkhDjExWURklLe/FJqwLnf0a1dK0zbfVsXweFw3uE/EroSIbdvwOOCOzw8PHDm/BU8ePAQ3l5XcNbdg8a5w/3CdQSFxyM04AHu+gYhUZnxZzjjnpzEwPrF4Vi6HMqV04WKLlVQ1aUcWk/eiFj970mKksPw+OF9BIQl6iI4HM47/EdfaonE2hZtMcPzEcQmMoiMZMhvKoNGrYRC2H9NBaWiLGYfXAOyvR+Wv26JowdWo77d2x/gU8QEwv3svwhJYts8sRgxwu/sxYYjz1G5RTPUqlQM2hQxYp554sTVANQeuw1/jW8oHPtF+JpfatHE4MKlGyhYoSmqFUv3LSlVAi4dXg13P7YZBYvQQqstgnbDB6B6MVMhCyPyyUUcOXUN4ckyODdug7YNKyLDTxlqE3Hr1CFcuPcCpKATWrbvhOolzPSJXxb/2+4IJuXQzM1OH5OGFgFef+PvSw+QKLZC3Rad0LyqrS4p9il27TuCZ+FKSNN+k5rCfhxcZOSMAZM6wd747ZgUcv88Tl24gfAUE7g2/R5t6pSGif4wZcRT/P3POfg9j4KRVWm07dYDrkXZjrfpSArB6ePHcedpDEzsy6Fdx84ob5MpT16DCf295CDLu6hIVKA/efLEjzx59IB437xOrl27Rq55XSe37twnvn5+xPfxMxIRHUAWdixOrGsPIv88CiVx8YlErtToz5GZGLJpUENSzLkdmTTzB9KstgNxLFmalHIqSYqVKEf6rLqkz/eF+KRyfxzK1EQSePsUmdarGSnVvBfZ45OkT9Ghifcj01tbE2s7J1K6dGkaShJHx9bkL5/YtBwk6N/fSYe6bsS5fBlSqlQZUtHVjQxdcZIk6KtRqwonf83oSmpVdSZlS5cipcuWJVWaDCC7r7/UZfgCaFVyEhN8n2ybM4i41axLJu24q09JQ0MubRxNaldxIeXK0msoU464urUg8w/eIWqWHHSe9G1ZidiXSCsnDWXKECcHG1LEcRS5nSjkomiI546ppK5wHnbvnUiF1uOIR2C8LlkdTDaN7kEqly9LypSin1O6LKnZbhj52ydOl05JDXQno7s3IS4Vy5PSTjRPuXKkfqeR5HygXJ8jb/IfCV1HUuh9sn3hJNKqRgViZ2dL7EqWJ406jyCbTtwicSqaQf2SLOxSmtg5OBDbwoVIfsc6ZPHpZ7qDM6Ak3numExd645sNX0OCU2nj0miIhoYH+6aSSqUcSM+V35jQ1Qnk6OJ+pFGrTmTKrAmkaYM+ZJ9vsj5RhyryDhndtwPZ7BUmlDUtaPXphASQ9cPGki3/PCCpapqmSiCXtk4ibhV6kNNBuk4j7vp2MnzyYnIjOF44NvnVA7KoXz3ScMwWEpOmn8/k+fnVpGGjZmTAlFlkQKeG5Ke/7utTdGjD/yVdqtck4zd70g6IXqcikhxf0o9UqjOePBR6JG2G8gllVEaSnVO6k5HLzxF6uwXCL/1GGpRxIf3m7SPPYlQ0XwrxvXWbBITphawIIecvXCfBEanCOeJfXCdT27iRHjP2E6ErUEeS7ZO7kNrf/0yuPU8U8sQFe5EZnZuSwXOOvukc8yL/2WQcUYZgw8gBmLH7Llw7j8Hcub9i7ozxaFr4BWb+OAJrDj+E2kgKkVYNdYEK1Dybg6WzxqNZBRv9Gd7y9OwfmLJkF+Id2+KnqQNRnNqlIjHbmEEMU9nb3VK+LSRwbjkcv2/ZjQWj2sGK7fuuT0lDo0hAXKIZLApaCmVNC2/La4WOc5diyHeuMKH+jVhijoYduqJqSQ1eRrPdcwATp1ZYtngqaha3EI7NZ+uKzq1bQRkaieScbVrzQSxLNcLM1duwfclkVC8se2fbKE10BOKtiqJLx3owZ2WQWaNV++YobRqHeGEfJFGG8rEQffcEzgQXQK8eDXRuiCYS+7f/DVHTH7H85x4oXVBC85mivFs1OBXRb/8ss0ezprVQ3MZEOIeFQy107VwZkdH+SGaXlPAC931j0GvMaNRxNBPyWBavjdFjOyPi3lX4x2W+A3mH/07o6hiEPH4NSbEyaN1tAAYNGkTDAHRsWAHahFi8CgmDmm1hTzRQW5RG5yFj8MOg7nBzfLtnN1El4tqumeg/bgn84Ia5SxfiOycxzqyajO8aNEKzFi0wePEJRGtM3mw39M1gZIoyVeujkn0+3b7x+uj0qJTJkMRT/1yTioTERKS+s/GcJYqm9+kpiaH+iCLmKFlE58Mb2xSFRYa7rEHwi2DYl7CF+RdySws6VkHzKsXpX0qos9iOx6hUA7RzVGPv7lN4FZeAhMhn2LvrX5jWbYIKlhJ9rvQk4PBf+2HVaCDq2etmG9Sv7uJqcALa9u+DwpAjMSEBSSlKIS1bSCr8g+VwLF4VhYT2weZ7FIiIjhOS02BbYcW+DEd4fLI+Ju/xnwldnM8ZveePgYvyLn5sUQ62trawdSiLrgsuombnPujVqS5MtHKkJiciMSkRSUnpKpnI4e91FJP6tkeP8ZugqfA9Vm9di0G1i9FEDUzMLWFjYyOEgma096ZjYV7si4lagZj7pzGsaQWULeuCFt1HY9OZh0jJZp8wZcQDrFtzGIVb9EAd27eTdW8h8PfYiu1eqejUuyUs/7O7nxGRzAHDJg5H6J9D4Fq2LEqXr4UF183xw4/9UCiLLevjb+zF3/626NWtDh0KdMS+8kWKqhJc8t3DzAEt4VzaCZUadsKvf11DvOLt3SdJr3HV8zIuXzyHvetX4lpSeQzr3wxCd1iwJJo2qICDi3/Giv1ncfnyZfx7aAvmrt6J8Pw0PVftLPtl+c9/Sio26CFu3/NBSFQCFNQIK+ZUEXVq10DhfDRRk4TbZw7hbmoJtPmuAWzN9L27NhGeOxZj3h5vVGw6ACOGdkV5G5kuLRMBR6ej/bitqDh2Pw791Fgf+wX4irPuKcFn0L/vTnTdvAU9y7OK0ZEa9gDHjtKGLBZR41aNkDtnccgzEsPWH8Skhvb6XDpe3jyI5WsPAZV6YcqojrBlDTc9qmj8u+M3bPjnFdqPnoq+TcrS8e1LE4NVw7vjZcMVWNG3sj6OkvAEK36Zh7tKR9StWhxG2hQ88b6OeNuOWDizF4qmv7UkBtvH94dniWn4Y2J9pCUF/LMEI9fdRfUKtNyFHFCykCkSA7yw6/R99Fq6F1PblBNcGtXDrSjZ4ickUL9EalMBg6cswLTBLWClP5E60g871y3E2u2n8SxWA7uqLTG8Tw3cvOiDQfPWoZXT2/rPUwie+vvIQZb38eLKn2Rov+5k0TX9zGgG4sn+WT3I96NXkAfhmWY9tQoSGR5OUtWEyFOSCDXVSEIWISLYl1y/dpX4vEibif5CfGa5P4bkoH9Il/q9yN5Mk3HvkBpG9kxoR5qP30VS9FGEKMitvfNJ5079ycYzj0jS25m6t8Q9JWsn9iV9xy4hVwPezkB/eaLJymHNyMRd9/TvGVpy789RpGn/ZSQw3UMFReQNMqVtK7LkbMbZ/xS/I6Rbo47koH/aFJyOoHOLSbMarch2r9f6GIomluyf2pnUGbOVJKY9ZUiJIj4PH5AHD+6TWxeOksl9W5J+s7aR1+lPp0okwU99yL0HD0lAaDwJv76RdO86gdyOzqry8gb/ufGWFB6Am54e+Pf0CXh6emYMHhfg7u4OjxuPECPPZDaJZMJWyVGnpsGppCPKUJOvbBahWsN26E39+1V/P9IfmIcxKYKqbo4QaVP1Pr0Wfn+vwMqzKZiw8g8Mb1UR+TPPVcgjsHHOPPja98KqVVNQ1+ntHMjXIQkPL7+CKTXXS6azMmTWLnApLIPHg0B9DEONu7Q9xFRoiiaOGVYCwIq6fvlNrFGiLHPf9IgLoHQJWh8pcurQ6RCZWsHZxRWurpXg1rQj5s0eBcXt87gVks41lJiheBlnVHZ1gVPRfLh05ATkji5wLJC58vIO/7nQ2T7ibNLHd+N4dOjQIWPoMgwnAmi6qRTZ7ZxsUbENZs2ei9mzZ2cZhrZ2hlgei5R3Jqq+faKfesPndYr+HVsY8y827bkGK8fyupnoBB9s2uGB1pN/RX3HzLa6jpcXN+BonBvmT2gD66/kk2fEBGWqWCHMYwfO+Ebr44Cg64dw6vFrlCtVVB9DUYTiyq2nqFSz1ju+u1nJ+qhiF4ktvx1CqH4OThl6G0fP3UEF13LIT8sWHeSHR/6vdYkMVQI8L7gj1MgCBfPpZh6jX77Aq3B9nWrjcW3ffKz3SEKbdu1R6P9SP1+H/9xHf3J0Dvr9vAXWvZZjZgs2M5sOdST2zh2N/Yo2OLx3FRo4fLx/9Pz4LHSa9Ccq/PgX9k74NlfGpQSdQs/uf6LHjp3oU+FtHfjum4KBa2+hoDmbShJBHvsKSsd22LBmLirZSJF6dwsa9FkISbFyKCB9e60ajRYO/ZZgW39nnJ7cGxP+9oejU1F6s/UZ2Ao7UhoTNyzDd+mH2c8mGssGdkRIk9/x+4Cq+jh6m2Nu4ueBo3AuPD+KFaLlI1okRryEcbXB+PO3SSihN0NSAk9hSP91aLZyB4bWzPyYlSDy6kb0HbUBydTSM5MYQZ0YAaVtIyz/bTFq2soQcG4tpi3djRijApDSkUOsliM0XoOW41fi155uYIvr/M+tw6wVexFJzGAEJSLColBz+EqsGNUc+bOYGMwrfLgPY/tCp7wdVT4WrVoJVWIMbm2cij59+mQM/cfiyP04yOXU9MrisUxOSFGoaBP4wiYXK69pVrPW/w1GpoVRvV412JplbGmlvxuBcd/XhI2lOcxtHNDmh2U4vGmhIHKGKJ8tateri+JWZrCwsMgQzIzZVJsIliWqobZLKViaZ0y3sDATxPBlkcGpch1UtLPQv9chKVQTi3Yfwew+dWFTwBwWBR3QccJq7F/z0xuRM+SpWhSt1QzVHQvoY9Ijgk29kdi+ayFaONvCLF9B1Oj6E7ZsWiKInOHUuBfGDemF8kXNkd+iEJzcWmLl9mNY0lsnckapeu3QvV1dWJnlR5GydTF94zGsH523Rc748IheqhRw9ixtdaX1ER9H9FNPnPa4jQS1VBgk34FooLEsg44dmsHB4uMf7D7c+xO6Tt4Bl3EHcXjyF5p19/cHWrUCAgL0ERzOt82Hhd6yJTBqFNCpkz4id5EaHQL/kCiYFi2N0rQn/yIcOQJs3Kjr4DicPMCHTfd27YCTJ/Vvch+mVg5wrVL1y4mcwcrLys3h5BE+PKIHBQFlywI3bwJVqugj8zD37gE1awJPnwKOjvpIDufb5sNCZ6xdCxw+DHh46CPyME2aAF26AKNH6yM4nG+fnD05ZI3ewgJYuFAfkUdh5WPl5CLn5DFyNqIzAgMBV1dgxgxg+nR9ZB6CiXzBAuDhQ8DJSR/J4eQNcjaiM1jjZyK4cUNn3jJfNi/AysHKw8rFRc7Jo+R8RE8P89knTgT69tXNTleqBNjaAvm+gW/+sMUwr1/rRM1m13ftAlau5OY6J0/zaUJnsNn4Eyd0YmELTJh45Bl/sjlXwlb6sU6JLQRinVSHDnx2nZPn+XShczicb4ac++gcDuebhQudwzEAuNA5HAOAC53DMQC40DkcA4ALncMxALjQORwDgAudwzEAuNA5HAOAC53DMQC40DkcA4ALncMxALjQORwDgAudwzEAuNA5HAOAC53DMQByldBtZ3sJ4WMQTbgEt5V3cCUw/s3fHA4nI19d6O23+AiC3HYjTB/zfljezIGLmcP5OL660EMTdJtbl7HJ2W6lZFWjN+HyGAPYKYbD+Q/46kJ/Ha8QXhs4WQqvH4P7szjhtZq9mfDK4XByxlcV+tyzwW9GdPb3x+Idkii81i6Rcf9tDofzfr6a0Nlk2ZwzQShmIcOwOsWEv3PqpzPY8ScfRaO6g7lg9qf56xwO58N8FaGz0bvhGt3OLq/n1sGm7mXRztkKQ/b55XhkX+oeIrwy05+Z/Wl+O4fD+TD/udDZqM1GbzYSpxfmiaEuOR7ZWWfARnMGM/3ZzD2Hw8k5uX4DB2ayM2uAmfzMGmAiZ6JnnQSzDJj5zjqRVR1LCfnY394Tq+mP5nA4jK8q9OEHnmKzV6j+XdakCZqRJnJGemsgTezscVuauLnQOZzsyVUjetqquDShZ36fFXxE53A+zFcVOvO1mU/+PtKP6DmBC53D+TBf9Tn6K/1imTnfOb6ZNc8cPkbkHA4nZ3xVoXM4nP8Puc50Z7ARf3arEvp3OSNt4o6b7hzOu+T6x2scDufz4aY7h2MAcKFzOAYAFzqHYwBwoXM4BgAXOodjAHChczgGABc6h2MAcKFzOAYAFzqHYwBwoXM4BgAXOodjAHChczh5HuB/1Dy2sqPUTx8AAAAASUVORK5CYII=)"
      ]
    },
    {
      "cell_type": "code",
      "metadata": {
        "id": "DtogXkYfGvlq",
        "colab": {
          "base_uri": "https://localhost:8080/",
          "height": 131
        },
        "outputId": "cbfec71c-6cbd-48d0-ab39-78f8aac32f01"
      },
      "source": [
        "# RandomForestClassifier의 각 종류별 정확도를 확인해 보도록 합니다.\n",
        "from sklearn.metrics import confusion_matrix\n",
        "label=['불합격', '합격']\n",
        "print(model_rf.score(X, Y))\n",
        "y_pred = model_rf.predict(X)\n",
        "a = confusion_matrix(Y, y_pred)\n",
        "b = pd.DataFrame(a, columns=label, index=label)\n",
        "b"
      ],
      "execution_count": null,
      "outputs": [
        {
          "output_type": "stream",
          "name": "stdout",
          "text": [
            "0.9971639355877554\n"
          ]
        },
        {
          "output_type": "execute_result",
          "data": {
            "text/html": [
              "<div>\n",
              "<style scoped>\n",
              "    .dataframe tbody tr th:only-of-type {\n",
              "        vertical-align: middle;\n",
              "    }\n",
              "\n",
              "    .dataframe tbody tr th {\n",
              "        vertical-align: top;\n",
              "    }\n",
              "\n",
              "    .dataframe thead th {\n",
              "        text-align: right;\n",
              "    }\n",
              "</style>\n",
              "<table border=\"1\" class=\"dataframe\">\n",
              "  <thead>\n",
              "    <tr style=\"text-align: right;\">\n",
              "      <th></th>\n",
              "      <th>불합격</th>\n",
              "      <th>합격</th>\n",
              "    </tr>\n",
              "  </thead>\n",
              "  <tbody>\n",
              "    <tr>\n",
              "      <th>불합격</th>\n",
              "      <td>839740</td>\n",
              "      <td>1400</td>\n",
              "    </tr>\n",
              "    <tr>\n",
              "      <th>합격</th>\n",
              "      <td>1522</td>\n",
              "      <td>187639</td>\n",
              "    </tr>\n",
              "  </tbody>\n",
              "</table>\n",
              "</div>"
            ],
            "text/plain": [
              "        불합격      합격\n",
              "불합격  839740    1400\n",
              "합격     1522  187639"
            ]
          },
          "metadata": {},
          "execution_count": 45
        }
      ]
    },
    {
      "cell_type": "code",
      "metadata": {
        "colab": {
          "base_uri": "https://localhost:8080/",
          "height": 131
        },
        "id": "c_cE-jwsgNZx",
        "outputId": "131020a2-611f-455a-d8da-6183daa08445"
      },
      "source": [
        "# XGBClassifier의 각 종류별 정확도를 확인해 보도록 합니다.\n",
        "from sklearn.metrics import confusion_matrix\n",
        "label = ['불합격', '합격']\n",
        "print(model_xgb.score(X, Y))\n",
        "y_pred = model_xgb.predict(X)\n",
        "a = confusion_matrix(Y, y_pred)\n",
        "b = pd.DataFrame(a, columns=label, index=label)\n",
        "b"
      ],
      "execution_count": null,
      "outputs": [
        {
          "output_type": "stream",
          "name": "stdout",
          "text": [
            "0.997814230986867\n"
          ]
        },
        {
          "output_type": "execute_result",
          "data": {
            "text/html": [
              "<div>\n",
              "<style scoped>\n",
              "    .dataframe tbody tr th:only-of-type {\n",
              "        vertical-align: middle;\n",
              "    }\n",
              "\n",
              "    .dataframe tbody tr th {\n",
              "        vertical-align: top;\n",
              "    }\n",
              "\n",
              "    .dataframe thead th {\n",
              "        text-align: right;\n",
              "    }\n",
              "</style>\n",
              "<table border=\"1\" class=\"dataframe\">\n",
              "  <thead>\n",
              "    <tr style=\"text-align: right;\">\n",
              "      <th></th>\n",
              "      <th>불합격</th>\n",
              "      <th>합격</th>\n",
              "    </tr>\n",
              "  </thead>\n",
              "  <tbody>\n",
              "    <tr>\n",
              "      <th>불합격</th>\n",
              "      <td>839810</td>\n",
              "      <td>1330</td>\n",
              "    </tr>\n",
              "    <tr>\n",
              "      <th>합격</th>\n",
              "      <td>922</td>\n",
              "      <td>188239</td>\n",
              "    </tr>\n",
              "  </tbody>\n",
              "</table>\n",
              "</div>"
            ],
            "text/plain": [
              "        불합격      합격\n",
              "불합격  839810    1330\n",
              "합격      922  188239"
            ]
          },
          "metadata": {},
          "execution_count": 47
        }
      ]
    },
    {
      "cell_type": "code",
      "metadata": {
        "id": "EhyUyqL1l3xL",
        "colab": {
          "base_uri": "https://localhost:8080/"
        },
        "outputId": "5918d54b-bf7f-4648-856f-5608f310b253"
      },
      "source": [
        "# 합격일 확률 구하기 (다른 데이터 사용)\n",
        "data = make_sample(seedno=1234, size=6)\n",
        "x_test = data[['국어', '영어', '수학']]\n",
        "y_test = data['합격여부'] \n",
        "print(y_test.to_numpy()) # 실제값\n",
        "print(model_xgb.predict(x_test))  # 예측값\n",
        "proba = model_xgb.predict_proba(x_test)\n",
        "print(proba)"
      ],
      "execution_count": null,
      "outputs": [
        {
          "output_type": "stream",
          "name": "stdout",
          "text": [
            "[0 0 0 0 0 1 1 1 1 1]\n",
            "[0 0 0 0 0 1 1 1 1 1]\n",
            "[[9.9999839e-01 1.6184613e-06]\n",
            " [9.9999923e-01 8.0439816e-07]\n",
            " [1.0000000e+00 2.0854972e-13]\n",
            " [1.0000000e+00 5.3832224e-14]\n",
            " [1.0000000e+00 7.2971101e-11]\n",
            " [0.0000000e+00 1.0000000e+00]\n",
            " [0.0000000e+00 1.0000000e+00]\n",
            " [0.0000000e+00 1.0000000e+00]\n",
            " [0.0000000e+00 1.0000000e+00]\n",
            " [0.0000000e+00 1.0000000e+00]]\n"
          ]
        }
      ]
    },
    {
      "cell_type": "code",
      "metadata": {
        "colab": {
          "base_uri": "https://localhost:8080/"
        },
        "id": "8U1B9L0inqR1",
        "outputId": "d83a0dfd-3360-4707-e396-13838da9d245"
      },
      "source": [
        "9.9999839e-01"
      ],
      "execution_count": null,
      "outputs": [
        {
          "output_type": "execute_result",
          "data": {
            "text/plain": [
              "0.99999839"
            ]
          },
          "metadata": {},
          "execution_count": 48
        }
      ]
    },
    {
      "cell_type": "markdown",
      "metadata": {
        "id": "fmY2DgThGi-w"
      },
      "source": [
        "### 1-07. 예측값 저장"
      ]
    },
    {
      "cell_type": "code",
      "metadata": {
        "id": "d-6uhOnwGiLF"
      },
      "source": [
        "# test 데이터에서 '합격'일 확률에 대한 정보를 저장하여 출력합니다\n",
        "submission = pd.DataFrame()\n",
        "submission['id'] = pd.RangeIndex(1, len(X) + 1)\n",
        "submission['prob'] = model_xgb.predict_proba(X)[:, 1]\n",
        "submission.to_csv('submission.csv', index=False)"
      ],
      "execution_count": null,
      "outputs": []
    },
    {
      "cell_type": "markdown",
      "metadata": {
        "id": "PXRIW1rbDETz"
      },
      "source": [
        "## 2.작업형 2 예시문제"
      ]
    },
    {
      "cell_type": "markdown",
      "metadata": {
        "id": "Yl9vbFVvLQlg"
      },
      "source": [
        "### 2-01.문제이해"
      ]
    },
    {
      "cell_type": "markdown",
      "metadata": {
        "id": "vLxXAv19oJME"
      },
      "source": [
        "아래는 백화점 고객의 1년간 구매 데이터이다.\n",
        "\n",
        "![image.png](data:image/png;base64,iVBORw0KGgoAAAANSUhEUgAAAqsAAANbCAYAAABl/tZcAAAgAElEQVR4Aey9B1gU19v3z1KsqFgRsRcssWPsJZjYRWPUqLFLEjWW2GvEgrEFK/ausReM3Vc0drH9VRRFHoPtASx/BB6FB/bd3XzeaxcWdpddmiE/kZvrOhczs2dO+ZwzM9+5z33OWCF/QkAICAEhIASEgBAQAkLgIyVg9ZGWS4olBISAEBACQkAICAEhIAQQsSqdQAgIASEgBISAEBACQuCjJSBi9aNtGimYEBACQkAICAEhIASEgIhV6QNCQAgIASEgBISAEBACHy0BEasfbdNIwYSAEBACQkAICAEhIARErEofEAJCQAgIASEgBISAEPhoCYhY/WibRgomBISAEBACQkAICAEhIGJV+oAQEAJCQAgIASEgBITAR0tAxOpH2zRSMCEgBDJKoH///uTUkFFWEl8ICAEhkF0IiFjNLi0l5RQCQiBNAjlVqGrrLX9CQAgIgU+VgIjVT7VlpV5CIAcSELGaAxtdqiwEhMAnT0DE6iffxFJBIZBzCIhYzTltLTUVAkIg5xAQsZpz2lpqKgQ+eQIiVj/5JpYKCgEhkAMJiFjNgY0uVRYCnyoBEaufastKvYSAEMjJBESs5uTWl7oLgU+MQNaJ1QH8NN2bFcsXMGXogA9fcWDAEIYOH87Q7wcyaKwXy1csZ/aYD0v3E2tKqY4QEAJCIImAiNUkFLIhBIRAdifw4WJ1CKM9F7F8+WJmj/uBAUlLYQ1mnt8bNKrn/PHLwHSK1QH8PMeHNWvXsjYprMFnzs8MmrSXv1Qa3p7zZuTGu/zfv5XcWuORznTNL8+V3dtOyi8EhIAQsERAxKolMnJcCAiBbEfgg8Tq4MlsvPYK5d8J1f5b9Zb7e2bzo06wZkasDmHppXdojChqeHdpKd+LWDWiIjtCQAgIgdQIiFhNjY78JgSEQLYikHmxOpApe/6L+L81vA+5gO/+U9yPUPG3KowTXlqLZ2bE6gDG/LqWjZs2sUkb9vgTrhaxmq06lBRWCAiBj4KAiNWPohmkEEJACPwTBDItVgd6cvi/VWje32L9qATf0R8WnOGVWkPU+cV4ZEqsGg/XDxi/m2CViNV/op0lDSEgBHIWARGrOau9pbZC4JMmkGmxOnwjd5V/owzYxE96P9XBv3E+UoPqyUGmDMycZXX45Dn8+uuvujBvpR/PRax+0v1PKicEhEDWEBCxmjVcJVUhIAT+AwQyK1YHjN/Df6k0/M/FJQzRi9WBv3DouQr1q1PMHZQoVjX/y5snQQQ98Of36WlNtErbZ/Xdnb2sPP4XKplg9R/oLZKlEBAC2YVACrF69epVduzYIUEYSB+QPpDt+kCzZs0yNaN+wJgdPFT9Tew1Hzz0YnXQbI6Hq1GHHmOWXqz+rUGljCf+f0M5MXdQGnklilXVC86sXsCCBdown7lTfkpcDcDgMfGBYrVXr17Zrq3kOSPPWekD0gf0fSAgIMDghphyM4VYzZcvH7lz5yZv3rwShIH0AekD2aoP2NjYpCEgjf1IkyyxQ5Zy6X80qP77CJ4DE+IMGL2V+1rXgPtbGDkgM24AerEazO7xxmuoDkhcDSD28Xn+uB76wZbVjh07Zqt2kueLPF+lD0gf0PcBOzs7SpQokVKhGhxJIVZtbW05e/asQRTZFAJCQAhkDwJJ4lNvHU33/+Gsvv4OjSaK21smM2TgaJadf6kTkY92TWRApiZYpS1WZZ3V7NGvpJRCQAhkHYH58+dTpEiRVDMQsZoqHvlRCAiB7EQg82K1P4Om7+VRjAb+VhEf/3/5+++/UYb+HxYM1VpaP8Cyqvkfnvx//vj7+3P95m3uPwrAd+1B+ShAdupYUlYhIASyjICI1SxDKwkLASHwMRL4ELHav/8Afpq9Fb/b/8XTZyHcu7iXRWP0fqkfIFb1oP7+G7XyPf//8wD2i1jVU5H/QkAI5HACIlZzeAeQ6guBnEbgw8SqBX9WnStBZsRqfwZ9P4zhP/3E8OHDGPr94KTPt+p9VsUNIKf1UKmvEBACpgRErJoSkX0hIAQ+aQIfm1i1VB4Rq590N5TKCQEhkAECIlYzAEuiCgEhkP0JWBKHH348c5ZVS/kOmLibR3FK3pxZxMiNd/m/H7h0lTYf+RMCQkAIZEcCIlazY6tJmYWAEMg0AUvi8MOPD+DHcZ7MmTOdMR6puQtk/Lch01exd/9efKak9ZGB1NPONDQ5UQgIASHwHyQgYvU/CF+yFgJC4N8n8OGiNHVB+DGn/+/TlhyFgBAQAh9OQMTqhzOUFISAEMhGBD5mMZnVZctGzSRFFQJCQAgkERCxmoRCNoSAEMgJBLJaEH7M6eeE9pU6CgEh8OkRELH66bWp1EgICIFUCHzMYjKry5YKFvlJCAgBIfDREhCx+tE2jRRMCAiBrCCQ1YLwY04/K3hKmkJACAiBrCYgYjWrCUv6QkAIfFQEPmYxmdVl+6gaQgojBISAEEgnARGr6QQl0YSAEPg0CGS1IPyY0/80WlBqIQSEQE4jIGI1p7W41FcICAEhIASEgBAQAtmIgIjVbNRYUlQhIASEgBAQAkJACOQ0AiJWc1qLS32FgBAQAkJACAgBIZCNCIhYzUaNJUUVAkJACAgBISAEhEBOIyBiNae1uNRXCAgBISAEhIAQEALZiICI1WzUWFJUISAEhIAQEAJCQAjkNAIiVnNai0t9hYAQEAJCQAgIASGQjQiIWM1GjSVFFQJCQAgIASEgBIRATiMgYjWntbjUVwgIASEgBISAEBAC2YiAiNVs1FhSVCEgBISAEBACQkAI5DQCIlZzWotLfYWAEBACQkAICAEhkI0IiFjNRo0lRRUCQkAICAEhIASEQE4jIGI1p7W41FcICAEhIASEgBAQAtmIgIjVbNRYUlQhIASEgBAQAkJACOQ0AiJWc1qLS32FgBAQAkJACAgBIZCNCIhYzUaNJUUVAkJACAgBISAEhEBOIyBiNae1uNRXCAgBISAEhIAQEALZiICI1WzUWFJUISAEhIAQEAJCQAjkNAIiVnNai0t9hYAQEAJCQAgIASGQjQiIWM1GjSVFFQJCQAgIASEgBIRATiMgYjWntbjUVwgIASEgBISAEBAC2YiAiNVs1FhSVCEgBISAEBACQkAI5DQCIlZzWotLfYWAEBACQkAICAEhkI0IiFjNRo0lRRUCQkAICAEhIASEQE4jIGI1p7W41FcICAEhIASEgBAQAtmIgIjVbNRYUlQhIASEgBAQAkJACOQ0AiJWc1qLS32FgBAQAkJACAgBIZCNCIhYzUaNJUUVAkJACAgBISAEhEBOIyBiNae1uNRXCAgBISAEhIAQEALZiICI1WzUWFJUISAEhIAQEAJCQAjkNAIiVnNai0t9hYAQEAJCQAgIASGQjQiIWM1GjSVFFQJCQAgIASEgBIRATiMgYjWntbjUVwgIASEgBISAEBAC2YiAiNVs1FhSVCEgBISAEBACQkAI5DQCIlZzWotLfYWAEBACQkAICAEhkI0IfFRiVfXwD5b+5s3mCy/RZBFE9TM/1np7s+7MM14fnUHPbj3xPPbWOLfY59y5fIlLlyyHyzf+IuofKqQ6+CgrdPUO4/mBSfTo9i1zz8YalymNPXXwdkZ170a/xVdRphE3xc/qEE6u/g3vjecIzVCdYnlx90qqnC5dvsFf5kDFBbB/ySIWLbIcvLde5nWGypOiZnJACAgBISAEhIAQyOYE/j2xqg7jxtFD+Pr6pgiHTtzmlQZid3Qjn8KW6pOuZVxwJTWEhtCTS5g2eTKTTcI0nz95cWoYZWxsKP+THyHL3MhllQu3FaFJZ2s3VHc9qWdnhZWV5WBTZiin441OS3VH8/IMy6eZlGnqbxx9qiZ2fx8cdPW+wr25DbGzyk3nzdHG6Wkiub3DE49u7WnbqTejlpzmmYEqVV6bRHVbBQ599mMoc+OfXOYPM8x9fQ9x8s7rhJeCuGMMKWmNrctYLhmkaVwAM3uqQOa42qXKycrGmR9OmgH1djNfO+QjXz5zITe2Civs6szgjspMvnJICAgBISAEhIAQyDEEslasat5yfulIfhi/iTtv99HLQWFW2NjVms5NlXmxGntnE+N/GMXS8xHptLaquDG1JnZmhKZdAy/unExbrGreXGGbtwWL3/wfaeJgjU35EfxpRoNZ6jmqgJnUNxXAti6MvaRMh1h9x6XpDShobYXCLj/2eaxRKOwo03M7T9UJOZoXqxrCfFqTywwLKysbnL8/ga4KHypW7T6jj5cpr/kMbeqAtSWxGh/EyU3rWb/eTFj1A652IlYt9SU5LgSEgBAQAkIgJxHIQrGq4fXBAZS1zU+TX++hVD/n0p7f2b59e1LYMqMdJaytKdJrL+8wL1ZRP2LFVw7YOnVj67NEZZZGCykjQ3kSEsLjc1NwtVOQv5MPD0NCeBIWxfvTaYtVw+Q1UX9x4/Jlrj+OTLRCHmZgcWtsq47nSgaskAliNbksISEhhDx5wdt40hSr6qCFNM2rwK7Cd+z4Kx5N5GVmNtMKwdJ4HHuvK27qYtWOWkNWJnFPaIPfOeAf/s9YVnN3ZGOUITXtdjwnf3DGxpJYjVhP+9yWLddaq7ZYVk2Zyr4QEAJCQAgIgZxHIOvEavwVJtaww8Z5MIdNRrQTMKu4/Usd7BQF6LzxlU40WXIDUN6YRm07G5z77udNBnwY1Y/m0dhOgX33XcRq4nkfHcXrwx6UTsMNwLAbxJ/6kdI21jgOPkKc9ofYPfQsqMDOdTb3MzBErRerurLoMlARGx1NVFQUr37vkYobgIZnS1qSS5GbVkueoJfrsad+1LkzlBl6WmcdTV2s5uIL72Aio6J0+UVFRfM+3gDkh1pWrYvg0qgpTZsahibUdMqNIg2xald/GpdDwwkPTxlevo4izqCYhu0i20JACAgBISAEhEDOIJBlYvX9HwNxsral0qjzCUPNpjwjDzOkrA3WJXqzN3F+k16sVv5hHwGBD3j4IlHlap6xonU+FHlb8FuwXq6ZJphyX3l9Cp/ZWpGrzRrCbv1C7aRh+NR9Vg1TSiFWY87i1b0TnSf9gcm0LMPTUmynEKtxvvQtYm3gFqH11TXnsxrPuVEVsbEpx/AzyX4HmvCVfJnLitzt1xMBpC5WTS2YdjTwus+LI7PxGDSIQQPaUTWfIuM+q+pgVnSpQvny5RNCKQfsFAqs7R0ppz9WsTFTL5gxQafDsmpl14h5Qelv7xTQ5YAQEAJCQAgIASGQ7QlkkViNx29YWWysHRl42HC6j55XFH+O+Yxcijy4zrydNJkqQazqhZWCPF//nniCmhDv5jrrYksD66I+NfP/Nbxc34H8CiusSw7A9/kdju7YzpbpbShmbV6saiKOMr2bO+7uyaFz0wrkVSjIU64xnQyO6+N8PXwLj9Khp1KIVdVdNo8fxtChQ/m+gwu5LU6wiufsT+WwsanIqHPJYpU3a2mb24pcbdfoZsynLlZtKNNqoC4vbX5Dh/7E/BOh3PdqYOTbm/4JVkrC7l7g3LlzRuHMql6UtlFg/5UXp01+O3f+OiFaXw/9n/IxZ3fqXUK24NnRCRtFPpqO2ZzsrrDjBIGG5+jPlf9CQAgIASEgBIRAjiGQNWJV85QlLXNhZdeMRX+ZKjklwZu7U9ZOQd46k7hgIEYSxKo1JZp7MHX6L8zccTepIeL9hlPWxpqi/XwThuOTfrGwoQ5hRWt7FNbWWFsXxG3pI90QeryfZZ9VTdhaOhcrSMGC6Q+FG8zgRjrcAVKIVYNip74agJqgXxthp8hHh/UJ7hLaU5WXx+Fia02JgYd1PFIXq7lo7ROWcoKaRo1KqUT57jCDM7IagCaUFW65DKzC+heMVP7bVmOivxLNm/2MbGXoLqDdbkJt57woFLYUr9bExJ2gKS2+W0lgOhgbIJVNISAEhIAQEAJC4BMhkDViVXWTaTXtsMrdGeMVmKK4uaIb5XMpsHFsx/J7BpZCSxOsEkEniD0rcrddy5s04WsI3d2b0ja5qDVmGaNq5MLaoQm/XHhLXCpi1Wyy6lgiXoQQ/OgxT8Ojk6zAZuOmclAvVvO1X8Lt+wHcun6FP4/tYevxB0SlsXSV8tpkatgqyOs6hctazwjVE7Z1d8bGujDdtiUsP5W6WLWjiedF7gcGcv/eXW5fv8KFM8fx3bWbC8/VkGGf1RgCfFexYsWK9IeVO7j8UoPm5Vb6uCS6DehdBdL4X/mrebKEVSp9S34SAkJACAgBIfApE8gisXqLX2prxWpHNkYm4FO+OMPCHlWxVyiwK9WWhf4pZ13pfVbNrbOqujODOnZW5O6wPg1fUQ2v/5xO08LW5Ko6gtORGmJuzKNlYWusi7mzemvCxKTU1lkFDW9vbOTnznUpld8GhX7pJ23ZHSrStLcnvsHm3BssdxW92DZduzVXy8UE7U1jnVVNKLt6l8ZWYU2BsvVpWKM4uRQKCjScxXXdrK+M+qwmWkCti9LPNy4TYjWxnrF+zOzagQ4dUgkdv2WhmWUTlAF7mDdnDnNSCV4LD/JALKqWO5X8IgSEgBAQAkIgBxDIGrGqCWfll7lQ2DXA64HWDUDJw/XdKJfLluKNR7PvsbFFVc85NbEad8wDJ2trnDyOpe4GoArEp31J7Bya43U9JjFpDa/PLeXXvY/TtXSVOtiHNlpxW6AqXcYtZsuBo5w8dYI/dq1h1uDGONpql5H6geMp9ba+Kin/v3/CtbN++PkZh7PXnxCxLw2xqk0t5gG7JnbFtVIpSpauTquBv3HuZfJUefOWVXh/fStzPD3xnDmTmbNmMXuOF7/OX8SSFWvYvOsPboRrMi9W3++ij1NhChc2HwrlsUFhXZjvDiQqagMq77a4k1v/EmDhv6Lgt+zN2DuBQQ6yKQSEgBAQAkJACHwKBLJGrKLk8jgXbBUOdN+pX4BTydMbNwlNxVJmWayquDerPnaK/LRfl45PscaFcCfwbUofTe3qn+lwA4jRfUnLBv2yUEYNrX6Cdws7rGxrMPmamVnuRpHTt5O6z2r60rAkVtN1dobdANKTqpJLY12wtSBWNZFPuHf3LnfNhVs78ahki4jV9HCWOEJACAgBISAEPm0CWSRWIf7Cz1TWTgDqe4D0GiAtilVVADNd7bB2cGeT1hL4AX/pEas6y6qDNdYFa9Bt0lK2HTzO6dMnObxnHV7fN8PJToFdxaGcSG/F0ihvThSrqSJR+jOxmojVVBnJj0JACAgBISAEcgiBLBOrqIPwbmmPdaF2rH6WPoFpSay+/WMwZWxyUXPiJaPv3memjeLPjadWsWLUnXiekGVu5LLKhduKUJOkNET4r+Wndp9RQvtp06RhagW2BcvSsMcMDjz658anlZcX0LNjZ4ZufsD9uQ2xs8pNZ+OZaSblS7mb3SyrKWtgcETEqgEM2RQCQkAICAEhkLMJZJ1YBeJuzqFJQVvKDfojXV+eUj8+yfo1a9njnzDDXds0mren+KlqLgo0mM5lg2Wu/olmi7l3mHWr13H4vt631UyqqmjCQ4IIvP+A4GdviE2f7jaTUPoOxb9+TMDdezyJzGBGseE8Cgjg/rNos+4Pqef+jhcPAggICiMVEqknkeJXDS+v7GLtms2ceWK6fFmKyMYHNK+4unstazaeJsXKZ8YxZU8ICAEhIASEgBD4xAlkqVgFNWE3jrD/4CWemJ9TlSbe+JCLHNx/hBvhGRQ8aaYsEYSAEBACQkAICAEhIAQ+dgJZLFY/9upL+YSAEBACQkAICAEhIAQ+ZgIiVj/m1pGyCQEhIASEgBAQAkIghxMQsZrDO4BUXwgIASEgBISAEBACHzMBEasfc+tI2YSAEBACQkAICAEhkMMJiFjN4R1Aqi8EhIAQEAJCQAgIgY+ZgIjVj7l1pGxCQAgIASEgBISAEMjhBESs5vAOINUXAkJACAgBISAEhMDHTEDE6sfcOlI2ISAEhIAQEAJCQAjkcAIiVnN4B8jy6qse4LtsC5deaVDdW8/Qwcu5rsxgrpoX7J/Yh9mnM/cJM9XLQK4GhBKXItsYznj1YfyeZxh/ckLNqwdXufPc5JO6Mc+4c/Uhr3UfF1PzbM94es8+TeZKZVKYJE4qXuyfSJ9MpWupPiZ5mduNOYNXn/HseWZMwlzUdB2LPsWsPlPxfWnyJTbt8d4T2Ps8PfnEE3bvKvfCMvZFEXXMKx4H3OSa/3XuBIUSrUpXiT+NSJa4A6r7Gxg+dC0BlnioXhJ4NYDQlBcKMWe86DN+DxnvHpoP6M+pNIn6KbvH9WaO33vzkVSvCTjxO6uXL2fNjlMERhj2NzUhO8f8c9eu+RLIUSEgBP5BAiJWMwQzlmfXzuL/9J/7KGmGss/qyJrX3D15CF9fX8vhj/MEmzwfVHe9aF68MIUL64MDBfM58M32aIjdTlf7Wky/qSL+7E9UcBzAH2YehsqXNziwej4zPWfjvfkUQdEGIkf9AK8G9rRb+yYTBDS8XtMW+yYLeGz4vNKlFMXGjvbUnxmA8fPb/HHVzenUsu/Kdp2GVREwsz75260l3aVSBbF/7hQmT56cHKYt5VSoxoBTHA+8GmBvId3oe3uY6dGN9m070WeMD3+GGpbcfLmJu8GW6QZ5GuQ/fdttdO8OURvpaF+fmRaVTNro1XHviY6KIkobQpbROn8j5tx5m7AfFc27ODWa12tom9+VWfcMy20hbVUAM+vnxXXWPZP2MR9f+eQQ07rUopRjeWo1bM4XX7Skcb0qODm60HrEFgJM+q35VLLf0fRw19Yq/s+RVCo/DD8L2l/XNvZNWJDyQiFqY0fs6880L3SVL7lxYDXzZ3oy23szp4IMP/msTrU/p6St5vnxxUw16KNG18vkqczzDUatuotnvfy0Xx+RIgn184P8VL8k5Zr2YvjYsQzr2ZgypT5n7JGwxE9Rq7j9S+2MXbspcpEDQkAI/JsE/h2xGvOUy3tXssBrDnPmeOG1aD2Hb4Vj4Z75b9Y/Q3lpxVZ5GytsnH/kVHYrfHpqqgpg3dBv6dGjh/nQ9XOccjdk7sMUqs849fgzDK9YjXGXlQYizJJY1RB2ZAwNHMvQbMBEZs/1ZPQ3dXEq34klNxLVxQeK1RfL3cjvOofAFPrIgrjD/HGdWLUrRJkan/HZZ59RpWReclsQlcZAEvfijjGkVBGaDZvPokWLEoJ3gtU5WdRbFqtxt+bRongZ2s34nVNnD7PqxwaUqDKIA2F6YW++3GiFaL7SdJi4MDnfxPyX+D5IEIKZFauaV/gtnsPuR7HcnutG+dKlKW02lKPhlAvEp1usxnJ/lTsVnEtRrGx3tjxOwxyvfoR3Swdq/OjLU5OXIdXri3i2KIrLmAsG9xwlQbtms+xcRKKAMdti6TioITJgH/NHfkvb5g2oV9eVZm17MmLlFSJ1zaIh4voWpvZvTzPXutRr2IouP67jVhxEnVvM8JEruWpiwE/INJ5b68cyfc/jNMqgShd3Lb00xWroctzyuzL7fooLxaJY1YQdYUwDR8o0G8DE2XPxHP0NdZ3K02nJDRKu3oyKVQ3h5zfhrb8+Uvz3Zu3pZ6mI1Qj29CpJub77CNdfFqh5sfNbSjv3xzdKi1PEahqdSn4WAh8dgSwWq3EEH5zPlFmrOHznZdKDQvP+GVd3ezNt6jJOh6UhfP4RZLEE7pvN8G9aM2p/5gdtNaF/MKFDc9qNOUC6RjH/kbJ/PIkkWF7SFqvRxzyoUHkEZ7WiIS3LauRB+jk7881Ww6H4OO7Oa06ROtO5oX1ufpBYjeGYhzO2hdzZ/EoDypssH9AVd3d33N07UN8ptwXLam7sChbHyckpORQvgF3utix9EEJIyGNOja2ZMeuMVqw6l+VHc286SZwsiFVNKOs6OlB52Gmi9V1C/YTV7bQi7GLitZWKWE3Lapopsari0arONPrhCG+ShIG2cGrehwVx+/p1bj96SYzBb+mxrL4POcWSga5U+nwE+0Nec2l+eyqUbcGoTdd4aUmzxh/Hw9mZIcdMlKqOlYq7nnWxb78eQzuc5sU2ejYYwH5TVwU93zT/R3FtcWcqlmmCx4JdnLlxn4eBt7l6ejcrN51D290iT/9MrdJNGbXBjzsPH3Ln3E7m9BvHzghQBy+ieV5H+h1MatHkHGNO8H3ZsngcT/8ojjoyiLO717HM25tl6/dy/vE7nRCPCw3gyqVLnFvVk9KpWFZjj3+Ps20BOqzTWyCTi2PeshrJwX7OOH+z1cg9IO7uPJoXqcP0hIs3g5bVxDxj/JjdcwL79S9iUceZ0XNSsluJJcuq9kW5fEkGHjbpB7H76VOsCj9f0HYgEavJLStbQiB7EMhCsRrL3fWTmHnoScIwo46Hkjd/PeWt/uH1/g6bJs5g/9MsFqyaMHxa58LKKjcdN+perbNH63xkpUyXWI0+z4S6jrgtDUrwA9WKsDy25C1UmMIF82Bb3NgNIP7sCCo49ueQiXVJE7oCN/umLNQOSX6AWFU/WUvHkuWpXNaemuPOE61+w/0/T3LixAlOnDjIhEb5LIhVe+r+coPomBhiEkP0lcnUzNuY8Xu1bhIH8OlbmXwZtaxmVqxGbaebQ1XGXzFWa2+3dMHhs8mJfsD/rljVhG6hW+1+7Etw4tX1VtVTX8a5laOYc00at2xJo+pOFKvYlmnHQ3XCSdeH8lWhn88BfA/5cV9/M1AFs3tib9p9XoFSld34YclpniaNXmh4c30LE7+ujbNzTb7o9iMr/U1FXCTHh7lQpFY/vH2v8PDFayIjIwh7fJMTa0fRvKQT7htCUvgmP5jfEtdJV5JepNN/yWkI3dmLMmW7sSk4qaAmp0exvVth6s64Y96NQfOCVW0KULTnLt6anPn+j4E4VxiOn4nmMomWtBt5fiYtS5WkThcPxk6ezJghnajpWJo2C64SvHskbd3ccHMtg31ZC24AmmdscHekbI1qFHX5nqMGbarNxKxYjT/LiAqO9E958bLCzZ6mCx+jJqOW1cQqxWyji32ylU2ZlU0AACAASURBVFfzfClf2H/B0ueJDw9LYlV1k2m1HOi88bWRxVwTvoa2BfVuLiJWkzqObAiBbEIgy8RqrP9vTN70OOEmrX7Bsdl9catWjLzOP3DS8N7+/ioLJm00409oSlDJ7fWjGDxoMKM33k2++SvvsGH0YAZ5zOKw/i3c8FR1MLsmfUczZxusrGwp27Ivg4ZM5PfAYPZO82DQkHFsuejHvN4tadTDh9v/5cfqKYPp0sqV2rXq06LrTyy/8FL3kNNEnGKexyAGfb8crWZQh+xlmscghozbiv+1DYx0b0q9ek3pOn43QYZ1NCyPKpRzPmP59suG1K1Zi/rNuuB1TjtgpuHVpdX83N2NBrVrU6/JV/QcO4nhgwfhMecoycYfJXc2jGbwIA9mHQ4zTNlkO4ZLv7rTetgeXuhfDkxiZHRXE+5Da72ANHdy9A0Wd3DGudNqHupHEpMshubdAFTXp1DTwZ3NJo6fqnuzcC3QhtXasbzMitV315nn5kyd8ecIvzKTJkWcaOd902BClAVxp3MDyE+NUYe5FxhIYGIIODgMl1ylafyN1k2iO+1rFSHPh4hV5RWWfz+IQYMGMaj/F5TPrfXtNW9ZVQfOoYF9e9YZmgYB5eVxuBTpxT6d2LdQH50bQHm6zVnL+vXrE8Km4zwwfEHIsGVVRcCsRrj+civ5WtS8ZtvXRSnfdzdPkzR1HMEbu+Fc8jv2R5Hgs5qnCLXbd6dHr9FsDdK/qKp5cdmXo/4hROkPmeljcS/vcfbAKe6balVtXNVz1nYoRP4ytXGt6ULlSlWoVqcuFR1y4TrjFuZO0bzcgHtVD44ZsjCTb4pD8ZcZV7UYXTaltEImx33D+vb2VPn5vJnJfdpYGl5t/ZrCDl3ZYiQOo9jXpyRVRp9Pn4jWPGXpF/bUn3HbKH7M5fHUKNSB9VoTb6puADHcWdyGUlU8OBwewo7eFSnWYBzHDEa9zIpV1XWm1HTAPeXFyyzXArRZHY4ms2I1diffFKrNL7cSbiTqxwtpav8Vq/Q3Qp1YzUdLL38CAx8Q9EJvnVbxYPEXlHDpw/rbb3X3bXXEDVb3rIRjWx8e6fqWiNXkPipbQiB7EMgasap5w+4Z87mmF2zqp5zavIPzd1fSuaKJWAXeHpjBrxf1kS2Di9zXhxLWVthWHa8Ti9qYuoe1rQK7WtO4qRdIhkkoLzKmsi1WVlbJwaYCI//PBSZWs8XKuijVazhhY2WFTcWfWDW2OnmKVqV5p94M7NOayvbWWBdyY9kjNZqnS2iZywqr3AmTbJT+E6lma4V1oQpUKu1IxcolyauwwkqRn5bewYalSNhWPWZz9zLYKaxQ2BWmfI3qVChaiPZr36C6O5dG+RUo8pSl+bcD6ft1c6r3GIa7gzUK+/as1TtgKS8xtootCrvaTE+8kafMSHsklmuLe+E+ztfAd8t8TPNHVdw/4M3GCy+TLBTqJ960sHdjeQr1qyL8wlL61iyMc/tF+Bsar9MQq6juMb9ZUaoN2EagfgJM1E2WdnTGuccOdO8fmRCr7wJ3MrqxExW7b+ChrmtpiLg0j3alHajSdxshuoeWBXHHe/4Y3RhXV9eUock4EkaaMzHBytQNQP2Eczu3s337drZvGkGDvJbFqk6823dikyFbbf/3n0h1h57sSUus5i1Bo14/MnTo0IQwYinnI5+zd1y3BJeIDvVxyq23PJnvEUZH1Q/5tWl9phledOpHzGucn5aLnyb1Ge05CUI7od+YdwOI5saOhcybNy/9YcFazoaaqto4DvUvQcWRfyaLNvVjFjSxp7WPBVGpecHyL2skDg8b1TDVHdWNqdR06MpWU5Oo0VkaQn/vQan8Veix5BKvTIurjRu1jz4lChkPvUfspEeJakwwsaIbJW24o3mOT+sC1JrkbyTI350diYtDJxZumEA3d3c6N69EQVPLakwwBye1xLlsJ1bcSVTs8X+xd1h9ihb/nIknEnx6zYpVVNyb34yi1QawLfni5ebSjjg792BHwsWbOTeA2H30Llqdif4Jbz3qB140sO/AhsjEiuvEai4cKtTVXaMtJp1KJqJ5zcUlg2heqQSFixShsGMVWnms5Kreii9uAMmsZEsIZBMCWSNW444y2+uiwfB/Io3ozXQxI1aJ2s2shbeTLTSW4MX6Mby8DVa2nzFFt/6RkqsTq2GryEWjXx+YDPElJ6JWPme5W4IbQIf1b1CqVKiV/gli1UpB/roj2P/wFS+fPCXwsh93IvSmSBX3Zrlip8hFq6XPLIpVK1sXhp7U3tTfcnhIWWysFORz35xcgMStqAP9KGlthXWJdiy+neg7Gx/O85dxhK/8klxWVti18OZJ4kNNo4lgb+/iWCsK0GlDgmhUXhmPi62C3E0WkGSUSpHTP3Eglu1d7ak1/WZSuyRYOzuz2UgwveP8VFcc7CvSaeYJnpu+MKQlVrViJuwUnp1dKF68IrVd61ChRCnq9/Phuj6fDIvV91yd05WO4w7wV5KFL4GJ+tVVjl3SCxdLYjU9/NQ82T6cLtOOJfuQpnWaqVg1jJ/EybxllTcb6FiwLp53jAG/3/MtRav8zEVdPS3Ux6LVNIaQq6cSXCIOTqBRvgyI1Zg99CrflwNGFkk1IVu6U6Z4XfrMWMm23bvZunwK33xWHJfB+3UvHubFahRXNngyffr09IcZSzj+TI3m5R5+atWUpk21oQk1HO3I41yLJrp97TFXKhSywaHy54lxmtKi13KDWe3xnB3hQoc1xsPGhk1jbjt2fx+KVh6NzgXSXISkYzEEbh9OoxJ5KFrvO+afeGJiZY3huEdp7Fuv4JnutqPh9ZauFK05NcFfOymd1Dfe+S+ifTlHqrftz09jxjC875e4OFbi6xW3iQjx59SJExz17oZzOWM3gPdX5+DebjS7H5n6G8Ty2O8EtxMNlubFqu7i5ZRnZ1yKF6dibVfqVChBqfr98Em+eDMnVuMO0b9EFUYnAlbdmUEd+y5s1b/QJroBdFif6tuCBWgaws/4MGvrDYy6r4XYclgICIH/PIEsEauasHXMWfXMyLqiq6olsaq8zK9eR01u4ubgqLgxtSZ2Cjtq/3IblfI6k2vYosjnxvLU/F7N+azqxaqiAF9v07+uaw2STzi7fiYjB3xD+1YNqFEqP9ZW2vxuWRSr1k5DEq1tELmhA7mtrMjVaqlJBeLxG64VsrZU/vlCCiEff2EMVewUOqtspa+Gscj3vm428fsjgyllo6Bgl8281ii5OkErzu35auXzlHxNcvyw3ZRiVXl+NFWcPZLqqk9fHXYb/7/MDbJqh2aDOLZmF/5vNKhDz7Nto1+SGNefr/8f9yaE+/ce8iLKWJBl2g1An7D2f/wrAi8cZvfWjazfsIVdh/7kblgUD46sYc918zPCNREn8RrUj379LIfBC/9MnPVsmJmF7Q8Rq+pgfmteENdZhstsRbCvTymcBx1OdG3IqFg1KKdFQWsQx2BTE7aCNp+N5ZLJy4B28sqr6ztZOHEYg/r3Z8iIaSzzvZc4M147jLKD/jXcWZ4wHmuQonZTRfCJDey9/sZ83457wNENB7gdpX+Z1JqWX/Po9k1u3jQIN65w5qgv+/cd4PCpi1wz/O3mTW4FvjCwQGot5A1pOtfyy65JIXW7cb79KG4i/MzF0x9Tv7nBlrFfUT5/YVzHHEkYMUj8Mf78aCrnb4H3X2rQhLGuQ2HqeVrwc9UnaO5/7HOuHdnBhjVr2LjrOLfCjAWo0t+TL1r8YqbNzCVmfEz54Ahr9lwn6T3e+GeIe0PI/Xs8fBGV9HKbECWTPqu6a6UcwxLX2VJem0QNh+7s0qtLvVjdYF6sasK20q9WVapWtRxqeezB4M5vWiPZFwJC4CMikDVi9fUmZi/7K6Wl05JYjT/HXK+T6RCroA5aQNM8Cuzqz+TWtenUslNQqPNGA59OM3RTE6s2pZNnZ6vus6R1EaytHajWbiCjp85mbr/a2FnZ6SyMltwAbEonL2UVu71rglhtucSkILHs7+OAwsqOBnMCU7IhlqD9v9DdtSS5da4EuSj77TaevDvNsHI2KBy6sS3cn0nVbbHWbhv5uJlk9Y/sphSr6uCDzPvtCJbeC+J8PShfojjFi1sOjtVGGPssp6esGbasGiYay71NHjRwKk7lZu585zGU4cM86Pd1K6o5OlL7Ox9u6N3dDE/Tbsc+4uyeXezaZS7sZEmfKhmfYFWqJF8v8ePcn2c4ffwwB3dvZfufT1GnZVkFIk8Mp2qxzxl76DHv4l5zzac7FRy/ZNkDvbjPgFjVqIiNjiDsrwc80Q6PZlSshq+kbXUzlkX1E44vn8ucOdpl6iyEXzdx2azqSdnnDJskrQl+qucn8OrdmHJFi1LGpRb16tWheoUSFClVh84TdvHA7PuUijueDWj2a+KEQMMMU9nWDkt/nj9xAmAq8Ux/iro6i2YOzgw4ZNDpVDeYWjMfDec+QPnchy8dPmdOynXWTJMyu6+JuMWOmR50aVGPquWdKeXkTNnKNWnUtg/jfc4YTFozPF1D2P5xuHfoQIdUgvuoHRavfcPUjLczKFZVgRxY6MWcmUNo5ODA54Nn6vrRrKEtKJ6vLt95ejJ17HC8Dp1hRr38dEjyCzDOFfV7Xr94zvPn5sJTzk2um7GVPEySl10hIAT+XQJZIlaJP4fXrGMph1gsiFVN6Do8l2tnjqbjT7uET4eCKOwaMGhgHeysi9FrTxrvx5pwVn6pdQPIRZvVrxKsNnrLqoFY1Q012SnI/eXKRD9PNUG/NvowsaqMJVanJbRW4c+ws1JQsM1Kg5u+BrXawFKEkpeXf6NTKRus7JrzW0gsF8dUwda6MN1++ZladtaU7H8w/UPP6UBqPkrqwsHsORo1KpUSpdJ8eH96uPFHAVTvePMynPCwUF48e8qTkMcEBz0g8N5dbt+8ztVL5zlz6gwB4fcz/VEA1d3ZNHCox9gzr1P0L03kVTybFqbq+MspLN26+sU+5vyBfezbZy7sYUU/l4yJVeV1FvdqR9t27enYuQvduvei3+BhTNv1EFU6xCrE89ehX/imYWWcncpSs/UPrPR/a2CFtCBWo3+nl1NRihUvTokSjjg6OlKypBPO5SpTrW4LJp+MzbBYJfYg/cr3YJd+WFbfIdR/cWTxLDw9Pc2HSV2pksfS8mfaPpeX4o37Mfrnn/nZNAxtQ3lL56ofsLC5Ay79NnHnreGdRMP7x4cY+3kRXEb/mfKeRDwnvq9El01p3EP09dP/Vz9kYbOCVB15JoPXYgTr2ufXfehAn5TWohzo9Tn5683g8KJWFGq6IHEiUHKMdG29P8+EWkWp3vNX9lwI5HnEe+LiYoh6+Zgbx9bwc8tSOHfdmOivbZxi3LMbnPXzw89CODy5CfmMPgqg4t2bl4SHhxH64hlPn4TwODiIB4H3uHv7JtevXuL8mVOcCQjnfiofuTAuhda4fp+9v84033dmzmSW1zy8V27j1P0reNazp+NGC+0WeZ4V4830IV2fGs2gFk7kzcjkyBQFlQNCQAj8mwSyRqwSy9k5v+CrH6HRvOTKrrWsXjqYesVbMcZnNesOBSQOXaoJXjWF5WktNG9A5e3e3hS3sSN3LhtsnIdw1PSBaRA3YfM9e77VWjUVFKjTnzmLluIbcCnBZ9VArOqc+O2ssCn9NYtPXubPHVNwK2mjs4ZqfTczallV3VuMWzFb7Ep1Y/NTNaoH3rQsaI2VtT1Vu4xl3pIFTO3Xgv6bXhG2czweszdz5Pw1rp1eTg+dNfVrtr4B7WSOz+xsKFqiGDY25Rnupx8LS1FRowPvgvw4fDU8hUgziqTd0URw0muQyXB3H1qWtaNIHXf6mhsGHziBHcGGoiBFqikOmH7BSh28km7VquDi4kK16jWoWasOdeu70qBhY5q1+ILWX7Wn09eD8LkWkGmxGnd4II5lvueE8YhoYtmUXBlflULddpgdyte1dx5HGnzdm969zYf+888arC6QosrpP5AusZpWchbEalqnaX/PoGUVzTOWfVmD0efTnhhpmH3q1lGtWM2Hc8epLFuxghWmYUFfauS1IHRj99KrcOUkH0fDPLXrvob81pz8LRfz1PC9UBtJ/ZC5TevrvrCmFY13N4xm4o5Hxqdb2Iu9PpfmxZxp53WGF4buEJr3PAn8i3ealxzxWcnFsOQf1eH76V++NIMOG6/3rA5ZQqsCLtSsVohWi02X2LJQAJPDuklfBdzZovf1NvldN5ReoCvb0rxfmpxobukqdTAru1WjiosLLtWqU6NmLerUrY9rg4Y0btaCL1p/RftOXzPI5xoBGRGrKbM2f0TnBqAVq+Yrq7t287rQ02t5yn6U2K9WHQ5M12ie+QLIUSEgBP5NAlkkVkH9ZBuTZp9O8HFSh3Bw9ihGjBiRFH5ecla33qrqr21MmH06Y75DMacYWi5hKapKo86l64YTfW4aDbQz67WrAthUZNTpxNUADMQq2m/Qf18De2sFVlYKbIs3ZdSQZuTKpBuA8vJEqudSoMjXhHm6r8KoeXF0Cq3L5Ekoh5UCm0K1mHDmHc+XfZEw/K9btUCBXdH6eGwLSrD4qe4xy9VOd45t9YkkTpBNo5+8ZUsXe+zqenJXP0ps8YxYHp3dY2G429wQ+C527TnKbeOV4C2mrv/BVKzqj6f5/0PcAKLPMr52UVy+8WLvlWBex6jQqON4++QGhxcPoE5xF344bH5yje6BZ9+SJSkUTpolzniE7CZWUfNkRRtqDvcz8P9Mu9ppi1XjSX2GKaZ6riaMXb1K49h0FBvO3Cc0Oh6NRsX7V4+4tMuTDuWK0fK3lJ9tVQfNp3mdiVzV6kltP2tUJd0vg9qyRd/awI8tylK4ZDUau7WhjVtjapYvR72h+wlXRXDop1oULVCCao1b08atES6lXWg341TKFTq0vqrtC2CdrzU+CTOtDKuevu2Y80ysXYzP+izioH8wr94r0WjUxL19RoDfJsa7OVOqywazltW0MrA4wSqtEzO7dFVa6SaK1U6my2MknvevXrtplVV+FwJC4IMJZJlY1a0heGo+Y+Yd54UFsRQT+DvTJqzntllfslTqFn+RsS7a5ZtqMlX3lZRU4hr8pI78ixsXznE5INToqzoGUbQzNnjz6BoXL9/lxXtTM4xxzLT31LwNvs6tJ8ZWFFSRhNy+zIXLd3gWrbdOxvE6+DZXL5zj4o0gXpu1BKado2EMdeRjAp9lFK5hCv/s9n9ErGoNx29vsX3GQDo0qk75UiUoVtyJslUb0Oa7Say/krCGrrmaal6sppNjYQoXTiUUb45X2m8D5pI3Pha7h76ltWlZWA3AOLaFvX/RsqotQdRJhtVrywoz35K3UMCEdVbtLVhHiWVPX6fUeZf4ksWWLPrxTzjpPYJuLetQ2dmRYsVKUKpCDRp3HMzMPffMDNe/x29EXb5aluCCpHm5lo71JiQti2epDimPa4gJC+T6pfNc8L/HM5MJgqqop9y9ov3tPqEffE9JmbvhEW1f/91zCJ2a1qJSIgOnsi64uvVg9JKThGTyvvLxilUD318DEP/qtWuQr2wKASGQNQSyUKwmFPjd/T38OmUKM5ds5fCfV7lx/TJ+Bzew0HMKvyw/zbPkEbI0a6iMjiZWE0ugT0eKWyso1HZVku9n/EVv+psZqv1uxMY005UI/w4BTdhFdmw9m9Rm6c5VE8mtAxs4+iCTT9p0Z/QxRNQQeesAG44+SNeIgXGJlQQd38D+m4Z+rMYxLO4pgzi+YT83k9aitBjT4AcNESdG0bzzMgLT6w1gbka/QYr/5ub7y1Np2fpXbiWW/f2BgXw10+CDI/9mYT7yvJRBx9mw/2by1wfTXd4P6c+pZKKJ4Ma+DRwPysADJJXk5CchIAQ+bgJZLlb11Ve+CcL/7HEOHznJ+VtPSTIo6iOk+V/N4wXNKZAvD7YKK6yLtmbx3WTxoryxkQmmEzJ+/pmxM/emmbJEEAJCILMElDy7epKb4foRgsym82+fp+KF/wmuG3ylSR0TSXR6Rfe/XVzJTwgIASGQgwn8a2L1n2AceXEJ3/f4hu9+modv0MczvP1P1E3SEAJCQAgIASEgBISAEEhJIFuJ1ZTFlyNCQAgIASEgBISAEBACnzIBEaufcutK3YSAEBACQkAICAEhkM0JiFjN5g0oxRcCQkAICAEhIASEwKdMQMTqp9y6UjchIASEgBAQAkJACGRzAiJWs3kDSvGFgBAQAkJACAgBIfApExCx+im3rtRNCAgBISAEhIAQEALZnICI1WzegFL8T4yA6gG+y7Zw6ZUG1b31DB28nOsZXfdc+9ngiX2Yfdrky2npQqXhbfA1boZEY/r9tuhTs+gz6QChpj8Qy4u7V7h06VKq4fKNv4hKcW66CpXBSCoe+C5jy6VXaFT3WD90MMszDNE4S2X4fa7eD0/4/LHxT+b3VC8JvBpAaPJS0EnxYs540Wf8Hp79U0vTRp9iVp+p+L40gas93nsCe5+nI6P4MO5dvUdYhtaZVRPz6jEBN6/hf/0OQaHRWPhYYVLdLW+oefXAfB+6ci+MhGJpeLF/In1mnyYzPdty3pDZNrF8TRjnpo55xeOAm1zzv86doFCiMw/KOOHssGepfwKq+xsYPnQtARZ4qF4GcjUg1MwHUmI449WH8XuekY7ebUzpg+6PxkkZ7qmf7mZc7zn4vTc8arCtek3Aid9ZvXw5a3acIjDCsORqQnaOoXcW9G2DEmTrTRGrmWq+WJ5dO4v/U1nrNVP4PpGTNK/vcvKQL76+lsMf54MxvXep7nrRvLjhJ1wdKJjPgW+2R0Psdrra12L6TRWpfZ5W+fIGB1bPZ6bnbLw3nyIo2kCoaL9x38CedmvfZIJ0HIf6l6DiyD8TBYI+CQ2v17TFvuFcHhreY7U/q5/x+/A2uLm5pRq+7LWEm2aEd+yevjil8klbhwJ5Kdhtm7FA0YRyauk0Jk+ebBSmr7/KO2LZ3tWeWtNvooo/y08VHBnwhxnVqK9amv/VPJrXiHyN5hFkWncL52per6GtfRMWmPkUbeY/XZqcmTruPdFRUURpQ8gyWudvxJw7bxP2o6J5F6dO+LRtfldm3bOgBJKTQxUwk/p50xdX+0nqJ4em0aVWKRzL16Jh8y/4omVj6lVxwtGlNSO2BKTo8wZZWdjUfio4DwUrNTbuQ65lKNTSmyc67moeeDXAvt1a0tuzNS838HVJw2vNcLsYNccl9HNzbaIJPcXSacb9S9ffpsxkl45pKtdEYi2VTw4xrUstSjmWp1bD5nzxRUsa16uCk6MLrUdsIcD05mCBTnY7nJ7+qa1T/J8jqVR+GH5mX5IS+TZZQMrLKPVPS/+j90f1c44vnmp0nzG670ydh2+wGtVdT+rlb8/6iJStpX5+kJ/ql6Rc014MHzuWYT0bU6bU54w9EpZoFFBx+5fa5M9A306Zy6d95N8RqzFPubx3JQu85jBnjhdei9Zz+Fa4ycMwbdDx97Yy8QcPPL4fw7qbhg+fOO5sHMcPHt8zcsUlM98ATzvtjMTQiojyNlbYOP/IKbMXWUZS+/fifiz8/r0aZ21OqoB1DP22Bz16mA9dP3citzlxZ1qs+DMMr1iNcZeV6RCrGsKOjKGBYxmaDZjI7LmejP6mLk7lO7HkRuKT74PEaix7ezlQ+oeTJtdn2g9m9aOVdHcdzO+GFr54PyY1c2PGBTMq1ZSD2X0Vd2bUwb7rNoxeDVU3mV4rD7X6zWPRokUsWrSQaV0qkLe1D2Gaf1asqsMOMtilIPnsqzDYV/9wMVvYpIOaF8txy+/KnMCUQtGcMEo6MZUNzSs/Fs/ZzSOlittz3ShfujSlzYZyNJxygXitYE6PWI29zyr3CjiXKkbZ7lt4nEZTqR9509KhBj/6PjWxeKl4fdGTFkVdGHMhozdG8+JDe691+SLzYjUBp5q//LZxIiixTJrXXDtwkOuvY3j9JJhHjx5xa4Eb+evPNLLwaV5dYou3tm8ZhPk/0aJYGX7U3fjTuCbUj/Bu6UCNH315avi40loUX1/Es0VRXMZcSL7OlEHsmr2McxEGL56p9AfLP2mIDNjH/JHf0rZ5A+rVdaVZ256MWHmFSF3SGiKub2Fq//Y0c61LvYat6PLjOm7FQdS5xQwfuZKrseZSj+fW+rFM3/PY3I8Gx9LXP7XdLC2xGrrcjfyus7mf4jIy318gC+6PmnDOb/I27geGfcJ7LaefpSZWI9jTqyTl+u4jPKlp1bzY+S2lnfvjG6VFJ2LVoAOZ3cxisRpH8MH5TJm1isN3XiZdlJr3z7i625tpU5dx2uBzh2ZLaHhQdZ8FzQugsFJQ6Csf/kq0cqiDl+FWSIEiVw3GXUjtVTWWwH2zGf5Na0btz/xAkib0DyZ0aE67MQdIzwibYRX+o9sfyi82kH2zh/NN61F8AL4kBLGB+5g9/Btaj9pvbDVLipGdN9J4kBlULfqYBxUqj+Cs9oGWlmU18iD9nJ35Zqvh8Fccd+c1p0id6dzQ3tQ/RKyqbvNLHTvsXOeYPCDSro8m3IfWpuIoahOd8tdg8rU0FJABD+NNFTen1cKh+y6Mnp86sWpP1+36o9rPMTfB/h8Vq/E8Oz2PbtUr037RFe7t9uCz4lXpufgCL1M8PI1LHXPMA2fbQrhvfoUGJTeXD6Cruzvu7u50qO9EbhNhZHy2mT3VI1Z1bsQPR96YuGeoeR8WxO3r17n96CUxSQ9D0mFZfU/IqSUMdK3E5yP2E/L6EvPbV6Bsi1FsuvbSostD/HEPnJ2HcMxEgOlKrbqLZ1172pszL5mpVvIh8+LjnxGrcRz8riRf+oQnsFNeZEy1z5l1+yrzOtSnTp061CrnQK50tInm1TraO7RiyTMt6DSuifjjeDg7M8Q8KO561sW+/XqSDXEaXmzrSYMB+zF830tmlJ6tKK4t7kzFMk3wWLCLMzfu8zDwNldP72blpnO80kDk6Z+pjD9KIwAAIABJREFUVbopozb4cefhQ+6c28mcfuPYGQHq4EU0z+tIv4PRKTOLOcH3ZcvicdzotTFlPIMj6sggzu5exzJvb5at38v5x+90bRAXGsCVS5c4t6onpS1aVmM5/r0ztgU6sC7MoGPr0jffX8jC+2OM32x6TtiPvihRx2fQc5JvUltZtKxqjRHlSzLwsMkFE7ufPsWq8LPuRV7EqkG3MbuZhWI1lrvrJzHz0JPEm56SiOCr+J2+wmO949r7O2yaOIP9T9M5tgbE3fDENa8CK5uyeByJBM1LdvdywkZhR+VhJ9G9pJitqvbeEoZP61xYWeWm48ZUY1pKIdsf/xB+mjAfWueywip3Rz4cn4Ywn9bksrIid8eNqbdbtqSexoNMX6fo80yo64jb0qAE3yutWM1jS95ChSlcMA+2xQdgOIIdf3YEFRz7c0iv0RLT0YSuwM2+KQu142WZFqsaIo4MoUKJ2tQtX4ZvthkK4oT65LbLh0PhwhRvMB1/vf5UPePqYV98906mhb0z3RbuT3KNOLjxB2rl+QyP9Qfx/eMcQRl+R1RyeVxVSvTzNbbiZZlYVfP8wlaWzBhGt88rUrHJIBb/GYZSGUN0TDyRtzczuk0VnCq34rtx81h7IshYRGvbQ/2EtR1LUr5yWexrjuN8tJo39//k5IkTnDhxgoMTGpEvHcJI30W0oih0Szdq99vHa4NntuqpL+PcylHMuSaNW7akUXUnilVsy7TjoTpBoHNFyFeFfj4H8D3kx/23CSergnczsXc7Pq9QispuP7Dk9NMkQwKaN1zfMpGvazvjXPMLuv24En9TbRJ5nGEuRajVzxvfKw958TqSyIgwHt88wdpRzSnp5M6GkPTf0xPqaV58/DNiNR6/YZVo5f0k4RqL92NYZTeWPFMS9y5a5zrxfFW7FJbVZP7JWxG/f0PxujO4o3tZSesaj+T4MBeK1OqHt+8VHr54TWRkBGGPb3Ji7Sial3TCfUOIsc+l+gHzW7oy6UpGLdPaMmoI3dmLMmW7sSnY0vlRbO9WmLoz7pj3L9a8YFWbAhTtuYu3ydXWbb3/YyDOFYbjZ6K5TKIl7Uaen0nLUiWp08WDsZMnM2ZIJ2o6lqbNgqsE7x5JW63bkGsZ7MuadwPQPNuAu2NZalQrisv3R436PljqL1l3f4zZ1gX7JCuvhudLv8D+i6U8T7wmLYpV1U2m1XKg88bXRi+amvA1tC1Yn5k6h10Rq0kdx8JGlonVWP/fmLzpccIFoX7MjiENqebamk5t6uBcrisb9E4o76+yYNJGMz4pFkrMey6O/4xcCgV5Pp+Dv99oXOwU2JQZgK/hndz0dHUwuyZ9RzNnG6ysbCnbsi+Dhkxk2+ldTPMYxJBxW7joN4/eLRvRw+c2T/xWM2VwF1q51qZW/RZ0/Wk5F14m3IA1EaeY5zGIQd8v54pSTcjeaXgMGsK4rf5c2zAS96b1qNe0K+N3ByU/BEzKowo9h8/Yb/myYV1q1qpPsy5enHsP2qGn1T93x61BbWrXa8JXvRexZeVIBg/yYM7Rl8mdXXmHDaMHM8hjFof1r3omeZjfzRw/dfAuJn3XDGcbK6xsy9Ky7yCGTPydIN1NO4aH+z3p36Yhdet8zpffzWDfQ72a0vDq0mp+7u5Gg9q1qdfkK3ovucz9XZP4rpkzNlZW2JZtSd9BQ5j4e1DKG6gqlHM+Y/n2y4bUrVmL+s264KUFRcp0e46dxPDBg/CYczTpbVfrX3dnw2gdv1mHw8wj0R2N4dKv7rQetocXBoIglRPS+ElDuE9r7JsutNy3o2+wuIMzzp1W81BvqUvDsqq6PoWaDu5sNnHaU92bhWuBNqzWjjNlUqzGP9rEN2Wd6LQumIhzU/ncqQ4/7HmcKBJTeTDH/Mm8PuZdIYxcJHpPYl+GhyLiOflDGcoP8zO+lrJMrMK7K6uYOH0puy4+TXQ90PB0SUvsWy7hqa5vqHh95zDr5k7A69CL5GtS1yPecX2eG851xnMu/AozmxTBqZ03Nw1EeobdAFQBzGrkyi+39J1E2/1fs+3ropTvu5un+pcG4gje2A3nkt+xPyrRspqnCLXbd6dHr9Fs1Tvcql9w2fco/iFRxkLJqEfH8fLeWQ6cum/sfpEYR/V8LR0K5adMbVdqulSmUpVq1KlbEYdcrsy4ZapujRK2sKMVH/mpMeow9wIDCUwMd7f2pUKrD3UDUHJtUh2azH2YUN+4owwu24kNr67g2bwS5cuXp1zx/Nil9QKhfsRvLYvSZP6DRG6pXBP6Wqqes7ZDIfKXqY1rTRcqV6pCtTp1qeiQC9cZt8yw1fBygztVPY6lfAnSp2npf/xlxlUtRpdNqbmqvGF9e3uq/Hze+OUvKU0Nr7Z+TWGHrmwxep5Gsa9PSaqMPm98HSadZ7KhecrSL+ypP+O2UfyYy+OpUagD67Um3tTcAGLusLhNKap4HCY8ZAe9KxajwbhjJA/EmherWXl/jN35DYVq/0LCZajm8cKm2H+1KulZoxOr+Vri5R9I4IMgXiTNI1DxYPEXlHDpw/rbb3V9Rx1xg9U9K+HY1odHOlkhYtWkB6XYzRqxqnnD7hnzuaZ/uVM9xO9EUOKFGYvfcBe+WPw06Sb/9sAMfr2oj5yijCkPRJ1kWGU7FDZOVKlUAGsbJ3rsSO0CBbRDP5VtsbKySg42FRi+cizVbK2wLlqdGk5aIWtDxZ9WMbF6HopWbU6n3gPp07oy9tbWFHJbputYmqdLaKmzMHZle6wS/4nVsLWyplCFSpR2rEjlknlRWFmhyN8S7+CUFgbV4810L2Onc2ewK1yeGtUrULRQe9aG32Vuo/woFHko2/xbBvb9muY1+rJ6QzccrBXYt1+b5POivDSWKrYK7GpPT7x4UmKyeCQT/JQXx1DZ1oCdlRU2FUbyZ7ySQJ92lLBRkKdsc77t25laha2xde7D7jANqrtzaZRfgSJPWZp/O5C+XzenRr+tnB5TGVvDtrCyoYLppB7VYzZ3L4OdwgqFXWHK16hOhaKFaL/2jdl0q/cYhruDNQp7LctExam8xNgqtijsajPd8GGfAk4s1xb3wn2cbxLjFFFSO6C6zwHvjVxIGr9T88S7BfZuy82IXxXhF5bSt2ZhnNsvwt/QyJ+GWEV1j/nNilJtwDYC9R4vUTdZ2tEZ5x47EoaoMixWYwg+NI0vnYvRcLIfb3ToNLy54EUb56LUHLKTJ+p0PJhT45Pp396z8xsHak+/Zfwik6ZYzYNd/sIUL+5APrviHzjBylSsWqjMu0B2jm6MU8XubHiYcD/TRFxiXrvSOFTpy7ZEa2NGxar64a80rT+NmwZaFfUj5jXOT0uD+6i2VOrAOTSwd2P5C415N4DoG+xYOI9589IfFqw9S6jpbSzuEP1LVGTkn8n3bfXjBTSxb41Phl6e9Szf88foxri6uqYIjTx+Txx6zcQEq4iHXD5/lt9/qEn1IZs5e+4c507/SltHNzyPHOPgzj1cfKEm7TZR82zL15QqP4TDSSbHhGsit509RYoXp3iJ8nj4mpodzUxYVD9mQRN7WvuYf2Zp/Z2/rPEzGXXzVt2YSk2HrmxNKp+ereF/DaG/96BU/ir0WHKJV6btqo0atY8+JQrRYZ1B+SJ20qNENSZcSXozMkw05bbmOT6tC1Brkr+RIH93diQuDp1YuGEC3dzd6dy8EgVNLKsxwQeZ1NKZsp1WcCfR5hH/116G1S9K8c8nckLn02terGbN/TGherH7elO0+sTEEaXEvthhA5GJtdeJ1VwOVKir7cMtmGQ4oUXzmotLBtG8UgkKFylCYccqtPJYydXE0Q7xWU3ZhUyPZI1YjTvKbK+LFnyeItjdqxLdthlcUVG7mbXwtvHDyLSkRvuJb3/WWvGkIHezRZjRhEZnaHfUyucsd0twA+iw/g1KlYr/9Z+oE6tWivzUHbGfh69e8uRpIFf97pDk5666xyxXOxS5WrH0mQbzYtUKW5ehnNSe9PYwQ8raYKXIh/tmfVfWFyeKA/1KYm1lTYl2i7mdaHGJD39O2LOVfKkVwXYt8E6Y/goaDZrIvfQubo2iQCc26MSQkivjXbBV5KbJgsThY33y6fqfGX5qlM+X46YT6R1Y/0aJSqWGiN18W8waRcHWLNc5EWsIXdWGfIrcNF0YxH+v/FI31G/XQm8d0VZJa/1T8ny5W4IbQIf1vFGq0CZn+Pf/2DsP8Kiq7W+ThNBLKKGFXkIRpIMgoPReYgPpgkhRilJEpFdBQKoovYkgTTp/irTQ+eihXFrg0g1JSDKZmcycvN+zTzLJTDJpYLiKC579nLbre85MfrP22usEbehMPtc0uOZpyoxYUNx9ZOSh03oDWNfBE1eXrLRcFGWFNh8djHdaF9LX+i7ZK7nt+5DsfTuRGVXGwsWxVcnaamkcF4cQDn5TFY8sxWk5Zid37QWIKmhXj5oCLZbX0Q1AZbE+2M3oVt54ehbnzaoVKZanAFU6z+WkTfSmVKxarrOkS2M6zz1BzHdn9MCtj46xw1f5+jkTqxr3fmxJXicr+T2ypCdt+iy6y0AOh+ueVPv2uG4ZT6hstgzuuGfywFbOwyM7Hh5qFbetrFqPoBZYJe6zWv6bExhC99A32dEAEh5PDg8PsnvE9snWN/s+hR4bT9sWX7HhZpw/6NbHHNt+JNbXbXELsiRlxYvmrzZha9tTtNOGOJY2K7eWvU8hz0p8PGoeK379leWzh/PeG554fxLlV6e7AcTzIT7KotHf8u23yU+jZu7A36rxaG0/3qldm9oq1SpHXvcMeFWoFXWszlUtRnY3D0pWj85Tuy7tZ1+wG0nKd8OOLWTE7P3RU8ApF6vmo1N5v0ljGjeOk5o0oWmLtnzQdSi/XLEkKVaDj42jjmcJPtmkfJBt/6I/E9XHc8lo1v+eWDXlmbaWfu/YGNSiXF53MnhVoJaNXe2qFMvuhkfJ6jHs6rafHbu4y7Sfz72bs8DBsmlrM+GtYf3H5Co5IBkiN4zLK/tSM08GclXuyJSdt+NYWcPY0bMgWRrMQXfNVZ/9ZW3JVf6bKJ/4hLvgcCXk+DSaFclL2SZd6DdoEH07NcQ7bwnazTlLwK3j7N65k23TffAqYu8GEMqx8a1pOuBXrsXV/YYb7N15NnoBdQJiNTW+H6NHZdzchTylbHyjF362WR4T+SLKDaA5C+2kjQOQRA80Hu6by9jlp+J8zhMt9K+6mCpiVXvwM+Pn+9t9qG1MNZ5u703FqsM4bLMKqUtmXyZN2BbnA2Mr42RrvcPiNnlwdUlPhvQuuKiwLWdjf+E7KRF1yonPqjlarLpkbccKO11puL2fhWO+oOt7zXinWjkKZHYljfub+lScc7HqSv4e26PHEMii5ulJkyYd7/zg79gd0176KiGbtmS0Y7XdZdMhBpWKsrhmLtGIPtM2cUlfvhnK1k8K4OaSjTZLn6CZjzGkTFpcsjRins1hxq6aJHdfkJ8zn1XTrl66a4Brrsq06dSZzp0707GRN5lcXMnTfQvBhwZRyt0F9WOgRKM+TNt0KWZFauI+qyb29i2MW5q0lBx4KN4PH1MC9YZu/YQCbi5ka7OUJ5qZY0PKkNYlC43m3XXyPCZJKvkZ7ERmVCEzBweUwqun7ZmIrcr64CzHbyYwVWq5yvYFazj+VMN6/yArFu+NDtsTW962Z3x6i0sXr3AvKI7iTalYtVUYs1VTwAf4fc0yFi1cxLI1v3Pg4iPCnt7g3NXYhZIx2ePtJNMSGa+cOmHgt/Y5KTv0eLx77pA9GWL1rwtd5dByCg5MPL58iC2/LmexznEzf5x/QJDfVhasPRn7YzjRGjUezGnMG18eccLDwuOTvzB1aB+6d+lCj89HMGvTxejPF/BsNV3KtWZ21DyjYyuW6+xctI6TUWZ0x2tqbYDfNhZtOOsQF9f85BpnT5/mtF06dXQf2zat57cNW9h9+ITDtdOnz3D5XgLPebwWnZ2I+wNJI/D0OhZsuZz8vxXOqrUaCLh3i+vXbnDnUYhuJDEneE80Ag6Np0GBfDScdjpGmERVG7d/0Y2Zn3DtrCOn06eOsm/bJtb/toEtuw9zwo6h4nnm8r1YC6TlAmNq1GaiX5xf787GYnfOuKkzng7Cz+6ik13r01Ms+7IRRTPnoOqgrTE/plRW08EBlMxcl+nKAKE94OfmOag8OgE/Vyd1x5wy3OXE1tUsWrCAxWt2cOaBowI1Hx/Nu3VHciTO77uY8gnumPHbuoC1JwMS/F7/q78fjdt72Alr5VpSzmHhp02sLkpArGoPltO5QmlKl044Vei5NsZSm+DQ/6UXUkesPlnCuFk34/hDaTw7Mp6GlXz4yS+OsDQdYOKEXcn8ArJyZ0lb8ri64F52IPOHvKn7r2Z9ewoXknrgExGrbgVjw1BZLs2kQU5XXD3K0LTbAL4ZN5HOb7qTxj0q/qVzsepGwc92R/vnqNA5UWK13sw7jo+WWgHo4UIa92qMvxz/y8hwdT0j369KvvQuutU4XeGPWHHbimFPH4q4ueDhs4KHx4dRNq2rvp/CH9/qd+cL83MmVg3rO+DhkgbXLAUpH2cK790R+zFh4Or6kbxfNR/pXdKQxiUdhT9aoU8rJy5WDaz/2AOXNO5UG385zrOkkCZQb8ge+hRxw8XDhxUPjzOsbFpc1X7KQTnet6SO4olVK9c3Tub7rXec9D2qMuOmnhTN44mnmkJMIOUt8zm74nxckurKi/qsqnpDz/9M9yr58CxVhzadetK7T296dmpDHW9P8lXuxk/n7H9lxvbEcnEdk8er0HQqjWNY6+KkK96aYeNs5yaxxDfhPyyxNaVErKYjf+WmNG/eXE/1y+Ukw18SDcDK7R2zmRgzHtsY7LeJj8dwcQk9q+XHs+TbtO7Yk959+9CzczveKZOXvG92ZO4pJ6utYyHY7Wk8nNeEsgPi/2BTC7l2zJ4Yzdy+b3b7k5bgGzNFZFdtvOfV7ppTK7r9dQt3d06gw1tFyJWrEN4VKlO5YlmK5clJgYqtGLLGL1Z42RdLal97wPqvWsfcT3VfG72Zh7Q5yvBu9D3W73WrvqywrXlIqk6766GX1zCsXVUK5vKkSOk3qVy5IuVK5CdX3tI06PkDB6PXJMQUMfqze1I7SuUsyfvzzjqJWJKAWI2pACx3dzKhw1sUyZWLQt4V9DbLFstDzgIVaTVkDX7OtLzlHKOrvc0km4+xXX2J7Vr9JlA9c/Qiy8QyxrkWdGwsb3t40XWz3TNpOcU35TNRY6If5rtzaehR3WkYtjhVOT3UAs6wekxP2tStTOmiXhTI70XhkuWp2eRjBs/dxx1n329OngXb5zx225r+qxP+fnXaGXUyhT/mLZc3MHXCeMb0qImHR3U+GaM+X2PpXdeTTJU6Mnr0N3zZdwKb942icubmLLIzejn0wRrKk3t3uXvXWbrDga8rSZxVB2COB6kiVjEdYMJYewdxjYc7h1Cn0vv8dNG28Ca2I9r9nxk9+0aCf9Rjc6r440tpl9eVNG5edN7wBKttyt01O+9Mv5y4K4H2kHkNlRtAOhr/GDWdY7OsxorVKPO+u0t6Gs6LDnVivcqkmi8pVs0GDMoApr4E3nAnjUs2Gs+z+6BpVtQUku2f+ZEv37csgFsad+p8fwur6TCDSqXFNYcPIwdWwN01H12chRexVZDA9mX4aQ+j3RTSNebHaAd5xa9s2jS4FeiG/XcdFkuce2Hmke/3tCzgRhr3Onx/KyJmKj9d4x/1kCpRXTZjiALFqW/ewD2NC9kazyM2YISG1R4Uces1cHhQKdK65sBn5EAquLuSr8vGVI+9az99nwD6+Kc1KxaLGbPZeQrd09fRDcASwtNHD3n44D73/O9w+9YNrl/14/LF85w9fZJjRw6yb/c+Ljy89GIvBbCcZmQlD6p9fTDab9Wuy1oAh0fUxKPCN07fqGVY2ZZM+erTZ/RoRsdLw2hbKgM1bAtc7KqNv5tMsUoIN4/vY+/evQ5p/5l7mF/6pQBWbm6dwdh447CNLYnxWM4zrpoHlb/cx5O4v0e1QI6Nrk2O0oNRYXWT88+wsTNFP1gTx6qn/ujeZOuMsU54R/dzWFtKZajBxHhvcYh2N8noyVudBzBw4MB4qXfjomRIIEaw1W8qdTy86bzkHM/sx6eFcmPzl1TP6c2AP+J/zyc9ViP+p/bb3c8d/PCeF25uRegwb1fs+X3HuWm3YC3pepWVeTPdC+fhnW+3cTPU7otWTew9PsFPHUuTs/YUYt+fEMqhwRXI/UYHZvrGDRdmazEJsWr1Y2odD7w7L+GcIyhCb2zmy+o58R7wR/xpX9NOPi3RhiUJiR5b83G31itMfTsbpb/Yl8LvuwB+bpaZqmMv2tVo4fKE6mSuPIot094he+3vohcC2WVJzm7oQYZUyEXZDyex9tBl7gaEYjSGEfToBqe2L2BgvQJ4tV1M/OARcZ8Fx8/53r1b+LpWJqqMuRD7dyaVvh8tl9YxaYzts++4HTNmLBMmT2feit1cOjqayllasDih+xZ4kDmD43/Woj5/A+heNz8Z5aUACT5VqSNWMbB//Eg2RZvDQ/8YQgWPorQeMYcff/yRH3/8iQ1nAqPN91auzx/ObGdfqHG7bfVnWbu8ur9njmYLoh9wDf9FrcipfBs9GjAranl63JLRx6Gs/UhZ61zIWrEL46f9wLpfB+s+q7FiNcovyj2NGwXbzWCX7x+sHl6ffG7KGvpillXLxRnUz50W9wI+LL1jwm96PbKp/mYpTZsvJzPzu2/oXLcLiy7+wuCe41i69SAnTuxh9gdFcHPxoN1ytfTbEiXe3HKRJ7cbbkX7stf298B8hFF1vfF++xsOOs6yOHJ4WX6ha/lIWYVdslKxy3im/bCJq4ZTjKyUARcXdwrU/ZQxM35gyohPafp2f3YYNR78Mpie45ay9eAJTuyZzQe61bMdakihaz/SrbIuWSvSZfw0fli/hWn1c5PWvQA+S+9g8ZtOvWyupHHNQuk2XzJ55nd807kuXZY8TrRetdDgDXc3cuXJjZtbUfrGgHLEEfco5Opethx7mOSPJi1gFxO6R7k8KLcHPX1cj8LuOanYulPUse189LbbkNXJ8qu271Ncn1Xr9Xn4lCmFt7c3ZcqWo3yFilSqUpVqNd7i7brv0qBRM1q2687cExdeTKwaN/BxrmL02+fM1KGmBvtTwuMj1tqeO7vOKrGapcK3jouAbNe1JyxokuUvFqu2yp1t/9qXAsRrIanxGLfQLW8hPt3p/MOo/KhLZ/dhtXMjdfzm/GfRsNwADjq/LfHy205EvUUrEbGayYsW38xizpw58dJ3ncqRMQGxaljXnhwJ+UZab/F9nfgLv2x9Sv7WysOdg6hapC4+9QuQq+44jtp8spNfSUxOffFR1lbEW0IQnUP/0Z21LSvt74nFgCHRHxRJiFXDOtrnKMkApyulrNz6vg6Z682IjjAR01WsVyZSu4rts2Th/KIBDF19LTZDInuGkxOpk9uLphP2cc++71ooty/fJER7xNa58zj8IPai9eF6uhQtSPctjr8ArLdm8k5Wb8qXyc47M+KE2EqkD/aXori3ZlkC9858YhjlsrZlhT13+woS3I/vs5rq348J9iXqgu4GoMRqAmPVZ2QzevPhhNnxPm+2z+D8l3VxSaKP/+TLqSRWVajBFQwbt0f3ywo+NIeBn3/O5zFpANN2RS2AsdxcwZBxe5Lhp6FWY/qQ1zUNLhmrM+5c7IcN8wUm1MyESxpXcjaZl3CoICD4wAiqqRXjaiW6W3H6zY+KBhArVkG7t55Py2XBVZ+2Totn7f70eDvdC4tVs+9QyqZzwSVTLSarV3FY77FteAMKZVBT/Wpq3I3sFYaw5+os3tWn/6NW3bu456JKzxVcjR6qHp5I+X+mSevg06d/Ibi7kr/b7/GtLzFP51/BL5gDI6rpkQlUv92K9+eACQwXF9K5vAduipeKguCaiSKt5nDRonF31rtR0//6yn8X3HNVoeeKq1H+d8EHGFHNI4qzHoVhDl+WTYeLSyZqTb6kuyzc2zacBoUyRN2vNC64Za/AkH0hiddrWxCnwmLFrN6MAZHAzjOWtcmCe6XRnI/jAhqvgOEa+9euYc2a5Ke1287Gt1bGq9jxRFyx6ng1kaMUTnPF1hTI7v7ldGvSdxuPc/OpAYtmwfD0Jic2TaNj+dyU6bvdqa+liNVYihDM/sFvksv7PSasO8r1J2FYNCvGZ7c5tWUGXSt64t1rS5y4kfbl4+xbbzOncXn67nU2Zxwnr91hkmI1+rW+dkWidxMXYdqDNbQvmJfa/Rex79J9gk0amiWUx9eOsGZ0c4rkrsf3sSbK+NUnccb8+CTLBzegRMmWTD0aiBZ8ih/aFsPzjY+YvO3Gi7kYmE4ytmZuircazaqDfjwINqFpFsKe3OTk5h/oWTUPRTr+yn1Ho2sSPU2ck/L1XNO+IHlr92fRvkvcj24z9PE1jqwZTfMiuan3/cVYy6DempWrU+pQceixqO9I9VmuWSrZP7hVFcFnFvFZ3cLkyFeGt+o3pnH9tyhftAiVe6/noSWAzf0qkCtrHsq81YDG9WviXdCbpqN2x4+ConxVm2XFNVMD5kattEqCh5PLYQcZ+mZu3vh4GhuPX+dxqBlN/yz4c2HvEgbX96JAm0VOLKtO6nI4FV+sOlxO7OCFvx8Tq5So161macmSxMRqlnrMjIp/l3hlcjUegVQTq3oczN1TGDR5B/cS+OMfdnkVI4Ys5GzKvoPjDSKlJ6yBNzl16AC+F+47vPHFoR7zU66dOIzv+XvEmTVyyJa8AyvPrp/kzG3HX66WwFuc9T2E7zl/gqOn04xPrnP22CEOHD7F1SfOLTOObVq5MqkG7m5e9Nj2KkBaCbx5ikMHfLlwP8zOud3Ag0vHOHToKBf8g+2sk0aeXD/LsUMHOHzqKvGGZA3k5qlDHPC9wP0wDeuz65w8c9vOAKywAAAgAElEQVTRP8wSyK2zvhzyPYe/DRRJ1OsIKVlH1sAbXPZ/FQyT1R1evVhVi/RVUPgRdGlanTJF8uOZ25P8RcpQvUlnvllyPP60dvRQDGs7kd9h1b/9O9jVfh4azrhu91wkxCC5bgAJlVfnDaztVJA6E85jMe2nX7KjASRWp921pCyrKqv2jDMrR9GteU3KFi1AHsWxcGmqNe7IsIVHieseaVe7092gXX2o3GROoj/E4xZMXKyupVP+uPfI8ThPwxkJzgaYbu9i+uc+1KtYEq+8ucmdpwDFyr1Fi0/GsPaine9j3E4lcmy6sJBPG1WgQB5vWgxexml7X1stgFNLv6J5qdzkLVuXj6YeTuFUt1Jxl/htQi/a1HmTkgXz4Zk7DwWKlqF6444M/fEg9xP4O5Vwl5MQq6qg6Ta7pn+OT72KlPTKS27VZrFyvNXiE8asvRh/DKF7+bxSI2ZF++Rqj36iReUhJDdiVGxfNcIeXObkkYMcOn4R/ziLMC1Bdzh/VF27xP2X/wMX26yTPe3ZGVaN7kHL2hUoEc0gf2Fvqtb/gAEzd3ErOX/m4tX7NxarCTz+2r0faZnX8TMWG1Uk+rxnHSYkaS2JB+NfcSIVxWoUv5BLa5k0fDhjZi5nyx/HOHXSl70bFzF19HBGzt6Dv52B9K8gbjo8nS4dOtAhTur4+eK/ovq/Xx3aU9Z8Uh7vmkNj3QJeopf/On4vwSq1i2oPDrN6+X47f91ktqgFcmbDIrb5vdBfgWQ2klrZrNzau5Rfj9mHCHqJtrQHHF69nP2xTs8vUZmtqBG/bYvYcDbI7sea7VoqbbUAdvavQ6tZlx2CrCfamtGPbYs2cNb2xsBEM/8NLlrvc2LPMe4kJp60EO6c2Mmh63+PZ9tZ1IQXJxmK7zf1aDDpTMw9Dt3QjUZjzsexvr54C69PSTNXdyxi/elnKf8MptL3oxZwit8W7YiZCX19WP89RpLqYtU2TPPTqxzfv4MtW3dx8MydGEui7fpftTWfWswQJwsGvhyz7q9q4rWuR/i91rdXBvdPJmD259iu0zy0X9T0Tx6P9N2RgOUex3eetHtLE1jDAglOoa+yY6VyJAReDwKvTKy+HrhkFEJACAgBISAEhIAQEAKvkoCI1VdJW9oSAkJACAgBISAEhIAQSBEBEaspwiWZhYAQEAJCQAgIASEgBF4lARGrr5K2tCUEhIAQEAJCQAgIASGQIgIiVlOESzILASEgBISAEBACQkAIvEoCIlZfJW1pSwgIASEgBISAEBACQiBFBESspgiXZBYCQkAICAEhIASEgBB4lQRErL5K2tKWEBACQkAICAEhIASEQIoIiFhNES7JLASEgBAQAkJACAgBIfAqCYhYfZW0pS0hIASEgBAQAkJACAiBFBEQsZoiXJJZCAgBISAEhIAQEAJC4FUSELH6KmlLW0JACAgBISAEhIAQEAIpIiBiNUW4JLMQEAJCQAgIASEgBITAqyQgYvVV0pa2hIAQEAJCQAgIASEgBFJEQMRqinBJZiEgBISAEBACQkAICIFXSUDE6qukLW0JASEgBISAEBACQkAIpIiAiNUU4ZLMQkAICAEhIASEgBAQAq+SgIjVV0lb2hICQkAICAEhIASEgBBIEQERqynCJZmFgBAQAkJACAgBISAEXiUBEauvkra0JQSEgBAQAkJACAgBIZAiAiJWU4RLMgsBISAEhIAQEAJCQAi8SgIiVl8lbWlLCAgBISAEhIAQEAJCIEUERKymCJdkFgJCQAgIASEgBISAEHiVBESsvkra0pYQEAJCQAgIASEgBIRAigiIWE0RLsksBISAEBACQkAICAEh8CoJiFh9lbSlLSEgBISAEBACQkAICIEUERCxmiJcklkICAEhIASEgBAQAkLgVRIQsfoqaUtbQkAICAEhIASEgBAQAikiIGI1RbgksxAQAkJACAgBISAEhMCrJCBi9VXSlraEgBAQAkJACAgBISAEUkRAxGqKcElmISAEhIAQEAJCQAgIgVdJQMTqq6QtbQkBISAEhIAQEAJCQAikiMDfSKxauLyoD++914N5Z8wpGkRKMluvb2PO99NZeugBdzcM4wOfj5i435CSKrBeX0n/933oPOMYKe6p9Ra7fvye6YsPcF9LUbOAmROzuuLzfl8W+1kcC5svsXHmNGasOs6zFNarPT7CsunfM2fbdayOtb7kURCnfpnBtJmbuBynuy9SsfbsGid8fTnrH4rlzh4WfP89C/bccV6VFsrdU7tYt3QBc36Yyaz5i/hlqy83Av+CjjhvUc4KASEgBISAEBACqUDg1YlVyxV+Gz+cb6Zt5Y5TRWTiQP/iuLnmo8d240sNVXu0j9kjvubrr+3SN9+z7Y4Vw/qP8XBJS9lhR7k4sQbuadLTammwY3taIGdXj6anTzOatOxA/5l78LdTpeYTwyib1gWPj9djL3NNt335fdMmNsVLm9l17gm6hjRup0c+V9J6f8kRuzodO2B3ZH3AqW2bo+v8jZENsuPiVoC2U9ZHn9vM7vNP0YKX0ip9GtxrTOSKU75mDg7yJmOG/HT/3ZGv5fS3VHCPPx67XsTftVxgXI3MpEuXLl7KVG4Ivmps1ptMe9udNOnbsDw0fhXOz2g8OrODzb/v41Kgo+o2buhIDld3yn9zitBdvfByc8Or16541QSfmMVHb3iQ1iUNaVzccM+QgXRpXXBJ44Jr5mI0HbWLh45Vx6tDTggBISAEhIAQEAJ/DwKpK1a1Zxz84Qt6DV7CuaAtdMvjStqSgzjsVKQ5F6uGc0sY3Ks/PxwMiBJ7yeBmuTCGKu5pSJPGLqX15ssj5mSI1RCOfFuNbK5pcHHPTJYMrri4uFPow5UxItu5WNV4MLcB6ezbjNl3w+vTnZhU31MqVg3r+Cibi+NYYupV43OjUJ+9mJIUqyb++KIYbq456bTprxCr5xld2R0X98LUfu8DPvjgAz547x1KZHSJvccvJFaNbOmWB9e0pRly1PFBSZZYtZxiRAXVr5J8NHsf159F12EN5e7xlfSrmhVX13x0+z3Z6jkZT5xkEQJCQAgIASEgBFKLQCqKVY0nG7tSOG1mak26iNn4YmIV6zXmNPIgbX4flvs7NRnGYxMlVl3I3HIuV27d4pZKt+/xzESSYtV6dSq1M7rgXqwjq2+a0AJ9GfO2B65uBem5PUrgJC5W3anQYx4rV660S6vYcPzhi1lWCePJndvcunWV45t/ZOKIrxj01TdMmLcB3yu3uHXjFPu27+fInlHUSZeYZTWEtR954OqSgWYLnzowezHLarRYzfoha23mZeMOeua3+0HyvxCrxt/p6umKa04fVjyOaz41cHCgN2ld0tNwXvT9cCAhB0JACAgBISAEhMDfjUDqiVXTUYaWc8fN6xO2qFn2FxWrylPz1AjedHfDq9N6nsbVH06I2sRqlvfXRE/TWzAEBxMUFMTjVR8k4gag4T+zHulc0vPOzNsx/puG3Z9RyM2NQr336NbRxMVqOt6dfp3AoCC9vaCgYEJNdp1OqWVVjc96h7U93yCrsva6uZPe3U2f0s7s3YnlZxfRMn2sBTkhNwDt/jLa5XYlTRoXsjeayy073f9aiVVCOPB1ZbK4uJChQFVadu7NgK++YtDnPfmgvjcebi6kK9qJX+/Z3RMnz5CcEgJCQAgIASEgBP4eBFJNrIb+3o38rmkp0f9g9PR3ci2rHtT7cgELFy5m/cknUZQ0f+Y0yIRLxrp8f91OZSXAMJ5YNW6iU04l1GyiLiGf1WhXBLci9N2nT9rrLWgP59EwXRrSN1tIgBLPTn1WE3IDcKfahEvc2zqOnt27071rU0pnckm+z6pq7/AgSqV1JW+b+VwKtoIWyrUVH1PEzY2Cn67D7+xpTh8exzsJWVYNF5nbIh9uLu7kzJUdV1cP3h59iIBovfZSYtW9OA26dqe7/dhsrh6pYllNi3fvDZxe3J58rs59ViGQnZ8VJ61LWnIULk2p4sUpUaooudO74JqjLUsfJv0MJfBoyWkhIASEgBAQAkLgFRNIJbFqYm+fwri55qXblug54uRaVh0E5YloHFZuTa+jWzzr2Vk8E2IVT6xazrN0cB969+7Np829SZ/gAisT+/sVwc2tOP0PxIpVnv5Ek/RpSNdkAU+0pMSqG4Xe6aa3pdrr3bsfU3be59KEarjHjC1NisSqSV9MlJbifXZjWwpmODaM8u6u5PpgCCPfa03rFlXJ7xbXDUAj8PxKBtT2JK2LG571p3Ly9nYGVcmGq0smijf7ip8P38f4QgusotwAYn8A2H4IpElln9XYdpS/buwCKzMPzh/iwIEDHDiwj0VdS5DWJTMNx++JOrdvHh95ueGasyVT96o8Bzhw8CS3QhJ6iuS8EBACQkAICAEh8HcgkDpiVbvDzHrpSOP+NtNuRluxkitWXXPSfOJWdu7cxZFrNmkGpr19KezmSq7Om3BcHhQfYzyxapcl8WgAVq5Oqom7SyaaL3wcs6DL7PsV3mldydNti9524pbVdDSY+yCmbEzTmhWL2Yw5ZAufpCQagKrAcILxtZS/aUbylqnGW9XfoEAmV1yzV2Pknk2MbNmYxg3eJE9csWq9y2+feJPBNTNlOi3kfPSaIi3oDAt71SRfjqoM3f8M84uIVUCzWjCrMcUkE0/P72Ttr+vxVf7FqWJZdSNvvU/5unNVsttbVrX7zKmfzs56bi9qE9hPW4ahxx0XccXcL9kRAkJACAgBISAE/hYEUkesWk4zorwKWdSKmKhQ0WLVrUh31ly8yrVr17h27Sp+F89w7MAONh68wr5EQldFCdA0pG/yE47Lg+JztInVTM1mcvbSBc6cPMof29eyfIcfQUmErjKf+JpyaV3IWHU4vkorW26z4n0v3Fxz4LMiKvxU4mLVnVqjD3Pp8mUuXTzP2ZNHObRvB5vW/Mqhu9aURwOwDc9wi70/j2Xgp13p3PVTBo6ayZqDF7l2/Rb3nhnRQn+jp3dRSrWbh+33gV7Uco9Tx24QZqsnZqsRFhKqi2rr7bUM6/QxPeecSHnc2Jj61I6Fc6Mq6uHA2q5UFnUzj6+e4fTZmymI/RodDcAtP02Hz2XurOl8N34UQ7+cx/41iYWuCuPCpvnMmTPHLs1i2viRfD1kMEO/GcOUmfbX5jBn3mp8H4nvqsMtlAMhIASEgBAQAn8zAqkkVs8w8k0lVluwODB6xNFi1dm0sTrnXnsiyz9POM6q5dwoKrqnIX3zhTxLAqJN2MZtK129GVxdl0ScVe0+azoUJK2LK1kLV6FGOU/SubiQtcZYTkabdBMXqwlY8Vxz0VmFjHqRBVYx47Xy6OAsejUui6cKqWVzK3BJS7bCNfjg29+4El+VKtMsG7oXJo+nJ54JpjyU/GxrklbrmK7oO1aufN+QAnZ15sziri/+Sp/drq08RfhkY1L2cFvN0WLVNjbb1v0txk5vn6w4q9rTYyzo14wK+TLiqmKt6nW44JIuB6XqdWXK7rvIqwFsvGUrBISAEBACQuDvTSB1xKr2kHkN0+HiXo0JftFuANZrbJ42htGjR+tpzJixjJswie++n8mcBUv4Zfc5tn6RsFg1bu9JfldX8vfcnrSgCr3Nif172bvXMe0/eZuA35IQq+p+hfmxZmhbqpYoQL6CZXmn2/ccsLPAORerEHpyOePV+MaMYczYsYwbP4FJU6Yxc84Clq75nVMqEv1LiFXTiVFUUYuz8tSk+9gFrPl9J7t3bWfD8hl81cqbzC5uFGi/xknAexN/jG1Nk8aNaewkNXqrGFlcU/hSAP25tnJnVT+a2+psVJWC6aNiwrp6eFPXdr5JG8b9YecDnOhnQuOp3yH27dvHvv1/cODgYY6dvszNh0EErU/MshpdqfUGcxt56IvIKncczfzVm9mxezc7t6xj0eTe1CvgjkvGSow8IdP/id4GuSgEhIAQEAJC4G9CIHXEKmZ8v1LxLD14/5egZA7V+UsBogpbuDi2Cu4umWn286P4/qDJbEFlS9xnNXkVJSRWk1X6hcWqlevf1cI9jTtvTXHyWlTD73TN44prnm5sSa4RM7rDUT65LyJW7UYcdp31A6rj4eqCi0ruhWg5eR/3/0JNmKyXAhh+5YMsLrh5fcbuePrYwuXxVXFPk453Zvq/1HNkN3LZFQJCQAgIASEgBFKRQCqJVTAdGkhJtSip04aYFeyJjyMRsWq5wJiq7rh6tGbJS74n858rVsHo+zUVMriQNv/b9Jq4kLVbdrFnzw42rZzN1z5lyerqSh6f5aQ0hOiLilXrw1NsXDqbMX3aUCV/Blxc0lOo6Th2HfuFvtVy6a4UmQrW4L3+E5i7ch/XnbooJP5U2F9Nlli1XmdWAxWeKxvlfIYze9UmduzZw64tv/LTuO7U8HTDJX0Fhh+Lp2Ttm5J9ISAEhIAQEAJC4G9CINXEKtarTK+XBdfsTfnRPzmLWBIWq89+/4RCbukoP/RIdJD/F6dn9v2OD1u0ovdSPy5NrKEvBmoVswosefX+byyrqm9m7u6eQpe6JfBwt3sFq4srGfNWoMXAZZyNDaCQvMGoWvVoBy9gWQ3xZUTVzLimz0XZRj2Z+NsFAm232vKY48tG0qleSTzc3cjXbim3XzK8qfnoVD5q0Yo+y68Tpofzsg9dFTtc7fEhfuhZH++c6XCJ8VlVr8/NRpGaHzF2662o2L+xRWRPCAgBISAEhIAQ+JsSSD2xql5adXo8tbKlpUj335Px5imNB0dW89OC5RxQq+aj/2nPdtOvdDqyVvsW3784JqbpyQ0unL/I7RiFZWs1ia3hIdcuXOCSf/ALTCWHcM/vAheuPnCyQj+Jdu0ua8YA7l7349Llq9x6GPJSC4a0R0dZ89MCluy9FfPWLrumEt21Bj0hIAm3Ay3sKQHRYbMSrSwlF0Pv43fhAn73E6vYTNCDm1y5dAm/63cJMNiUdEoakrxCQAgIASEgBITA/5JAqopVsPLg1FbWbzzC7RecdTXdOszG9Vs5JW8d+l8+J9K2EBACQkAICAEhIAT+JwRSWaz+T8YkjQoBISAEhIAQEAJCQAi8JgRErL4mN1KGIQSEgBAQAkJACAiB15GAiNXX8a7KmISAEBACQkAICAEh8JoQELH6mtxIGYYQEAJCQAgIASEgBF5HAiJWX8e7KmMSAkJACAgBISAEhMBrQkDE6mtyI2UYQkAICAEhIASEgBB4HQmIWH0d76qMSQgIASEgBISAEBACrwkBEauvyY18vYdh5cbKgfSaf/alXn4Qw8jix6ZZyzjy2MK99UP5eNweUv6+iTD2TfiYwWv9U/wiBXiZsjGjkB0hIASEgBAQAv8KAiJWU3qbNesLiJOUNvJvyh/EsrbZyJjVgxw5csSmbJnI8vZ3XNVfZmbm5PAKFP50Z/Jfk2q5yvqJw/n6669j04gf2H1fA8NK2mapwLenjfhNqEaWpj/x1Any4ItrGdPTh2ZNWvLxoLn8cd9ilyuIxS2yUGXMhTgC2sipZd/Gtmnf/rcrOGtWVSRU1q562RUCQkAICAEhIAR0Aq9GrIbdwXfdPL6bMJ7x4ycwYdpCtpx5mHzh8Xe5WdZbzG3kgeeHawj4u/QpyX5oPN47g/G/XsOMRsCJxQzr2IRaVSpTvf4HDF56hgTfNms5z5IvP6Vnz56xqc8PHLJ/w6nhKutHdaRRzarUbNyF8Vtvo+sxW7+Suu5UuGk8WdCEjHlr8lF02z5VcuOVErFq3E6PAjl5u88Upk2bFpWmK2tq8sSq8cxk6noWoumoVezev4X5n1UjT6nubHhge2VrQoJTnc9EweZDmWpr17aduQk/Xe/GKWu+yppxszgQYKvbBk+2QkAICAEhIASEQCqLVSPXN05h+Nj5bDn3KEacaqH+HPt1OiO+mcWeB7rpLJXvRDD7x7Wj15I7L2kVDeP8itFM2HA9jjUtlbv/EtVbrs2nVc1ebH2qhJCRHcM/4Kufd3D80iWOrvuW+vk8abkwAS5hq/HJXo5us1ewcuXKqPTLfm7YXp2rPeS3zsUo0moy285c5MiyXlTMWYFhRwxRPU7qup4rjnDTz0WJ1UylOvD9CtXucia0K0LBlIpVr8J8ttvWWTuISVlWtfv83MKDkn32EGwrZr3Nj01z4T3ocPRz7KzfKnNC520VOcujcW/Fh1Trup5HolftQcm+EBACQkAICAFSUawaOL9wGGM221vazDy9eYdntj/IoedYMnQU6++ksmDVHjC3QRZqfXfjJcXqP+yJ0e6zzOdNOv/2BBtyxxGYOTq4NFnaLI8VZXYZtPtzqJ+1BYuD7E7a7VrOj6GqZxuWPrTVHsaePsXw/GgtqkhS16OqcibuosRqlhoTufKibgDKsvqiYjVoJT4epRl81MFGzLNlbfB442tOJjqV72w8dtD0XSd5rH5MqVeVYUediOu4xeVYCAgBISAEhMC/iECqiVXD8e/5esmNKAuk9R7bx3WifpncZPTqxS77v8ehx/hu2GJuJKlXLVxdNZRPR67ntkNedX4Ygxadc5x+jr6J2uMdTOjZgbe93MlX4wO6f9KPBafNWG+tY0S/eRw8vYTejatSqdsqQCPo4nomfuZDg7cqU7FaAzqO2cLtGM1i4ezCAQxbdVUfl62Ow34bGdWhPlUrVqV+xwnsuu/QQYfHyey/h5mf+/ButYpUrtmErt8fRM3+aoFnWD6sPfWrvUmFSjVo0GMxFy6uYujARZyLaV9VpfFo+3j6Tj/gUK+zA8uFsdSsOpIz9q6WDhnNHB7kjdcn2zA6nI86sFwcS9U8Hdng7CJWbk+vS7bGPxKjVYGwDR3xLP4Ff5iSum5r0IlwI0qsps+YhxKlS1O6dGmK5c6YcjcAe7FqPsrsT7vTvXt3und5l6LpE/ZZtV4eT7Uszfg5jq+H2fcrvHO25zfdcOys32pM6nwmivqM56eFC1mopyXs8Iu2NuvDdlZW49Gi1pTuuR37nDZKshUCQkAICAEh8G8lkDpiVXvKr6OmcMImSq132L10NQfPz6NV8ThiFXi2YRSTDtsyJ3wrDPv6USxjDSb62YlBky+Dyxai2+8xE7aOFYT6sWvVPHpUyIB3p5msWLWWI3etmI8PpWzmclSt+y69p/7I/LUnARMHRr9Pz2lr2X/6Cpf3T6e1V3bqz7JZZI1s7pKH4l/8oU8F63VkLMqbTbowc8dZrpz7nRH1cpGz1SLu2YyNdr2x3FiMT6F81Oq/iP0XrnLJdz3Tp/7GLfNN5jXJxxvdF3Pw8nWunNnP2mU7ufl8N72LFeHTHWGxtVhv8UP93DSccyf2nNM9K1cm1abKiNNOXRY0w0PO/jaUeqUbMv2cc/bmQwMplbsufadMY8a85Ww799juB4GJ3Z8VplCvXTHuHaobltPfUiFrG5aHJHXd1ukocVew6VdMmjyZydFp9PulyVB5OIfu3OXu3dts/6IMhV7GDcB6mwO/RLsyLPmcahkTFqu6SM/SkiVxLMr6/fb4kLVJitWM5KnZns9696a3nj7nh4OB3F33FT6tW9O6dXOq5E8fb3GWdm82DcsN5JDDjxMbJ9kKASEgBISAEPh3EkgdsWrcxrgJh+2ETTTc4KW0cSJWCfqVsVOTEZbIcoaRb2Z0+CMftuszipUbjK9zvRXVsBM3ACU8yrjnpf3apwlMkauiZg4OKEE2n1VErSmKL1bLpPdm4KFYW5hxT28Ke7zHL/aLkPReBLKhUwEKdd7Ak7hC1riRTrkL0nO7nSjVy5g5PuwN8rdfy7OokWC9Mpla+XxYEa+S6AwxmzDWti9Kpw2xfdMvmfbQv0wOsqZPi2tWb97/7g/uJyCOLBdXMnzAVwz7eij9uzWlbM4cVOq3KVqIG1jfIRelv/J1uM/Wq5OpmaUxPz4OTeK6DYKJMytH8+2338ZLoxccRHe15QWiAbyMG8DTRbTIVonR5xxN0qFrPyJXqYEc1nk5s44qwgmdh7Bbx9i9cyc7d25kSM1MDs9x1L3Zz+fezVmQ5L2NucmyIwSEgBAQAkLgtSeQKmJVe/Az4+f7xxeBCYlVsy+TJjifina8A1ZuzniHbBVGcDp6VfX6joWoPeVK4r6oCYnVzM1ZaFOBtoaMdzmyegajBvTko5bvUtErI+ljQhvFF6tls/qwyk5jWq9N5q0sDZlnPzeu6jbtpU/RAnTf6mROXXvMxk9KkLXgu/SdtYOrwTYhB1a/SdT0bMlCfRW6hXOjqlC4+5ak44JqD5jT+A2+PJKAEsXE43PrGVHfiyIdVnM3tkkbiXhb0+UZNMhZmF67lAA2sqFjbn3BkX0LUVPoyiqZ1PV41esntBB/Tu/ZyOqli1i4eDlrtx3G70kY579rytvDDzpYcZ3XEH32ZcSq9Trf18lG1bH2YakC+O3jAnjFsE9IlCZ03r63CeSxXGBMjdqOMwf2xWRfCAgBISAEhMC/kEDqiNUnSxg362Z8AZmQWDUdYOKEXU79JuPeE+3xctrlLsvQ42a0R0tpW7gVi2LCCcXNHX2cgFgt6/E+a+wNj4bjjH0rH8Ub9WPij6v5fd9RNg0oT+bExGqcOqw3vqNWlgbMjdsnw3o+zuXNoCizXPyOagGcWT2aTrUKkjVXFT5ZejmKh+bPvMa5eWfGTazmYwx5ozQDDiZmRraN+SHzmpRlQBJzykpc18xch+9v2blWxO9d9Jmn/NQkM1XHXdKtzocGlCJP500O9810oD8lC/Zkp8lM4tfjNGK9z67RLSjl6UWlRu/T9dM+9O3dg46t6+Cd14tqPRZxPp61Ok4d9od66Kp8tJu5lwN/7GPPji1s/HU5K/+4gzWpaABA4M6+lM5dnS833yDE+IQTc9+nWN6GzIqKPZWIBdWZENWwGIIJeHATv9vPlGe08xitlnOMrvY2k6KCy9qPRvaFgBAQAkJACPxrCaSKWMV0gAljnSwUSUCsavd/ZvRsm19oUvcihC3dC+E98HLUmXUAACAASURBVADXZjekZLffna5kd6glmWLVtKMnXgV7siNGwKoFSKXI9FeIVfNJvn4jG00WPIhvcXborIFri9/Dy6Mty/QFPhpPV71HvqqjObnnc7yrjOKs4+y0Q+nYAwMbOxflgzWJKzzt0XwaZqnFd0mvcAPrdaa8lYV3f/DXmwlY1oYcFUfa9cfK7Rn1yNH8Zz0EU1LXY/uq8Wh5O3IX+ZBl1+JbnrWAI4yslYNyw445uBzElneyZz7JjPZNadK0GS1atcHn/fZ0/qQPI9ZcwZIMsar8l29uHsl7NUrilb8w5Rv0Yt5xJTRt/xIQnASzqn1+cuX2xDNPHvLmzUvefPnI71WEkmUqUffrXRgSEqumnXxaog1LAm1tyFYICAEhIASEgBBIHbGKgf3jR7LJNsWuPeLomp/48YdPqOz5DoPm/sjPmy9ET2VbuT5/OLOjYhQl646YjnxJmeKt8alZgcGJOqvaqgtkaeuseH95JEbsRC2WcbSsmnZ+ipenDyuip/CN15fxYaG0ibsBJGpZDeHq3i0ce6islhYuTqmNR8kurLkVaxm1GAyYrffxu/IsxhJtvjCaqh6tWWp7rVLIVnoUKUfTJuWoPz25ol7Df1ZDyg2InTrXnh1j0/brxHgtWB+zb3BVPN/+jsu6ALZwftEAhq6+pkcdCLh2mXsx2tHEjZUdKJazIXOiha325Fc+yl+MrhsfRYm4wD8YVKEwH6+L8gNO6rrt7ig2Z759k6zNFzp9k5TyHfb9ypvsMb7DsSVfaC9ZYjWpmhMSq0mVU9edl7VemUjtKt9Gu7gkpx7JIwSEgBAQAkLg9SeQSmIVrLdXMGzcHj0sE9ZbbBzXn88//zwmDZy5X4+3arm5giHj9pAiY5LlEhOqpyPDW5Oj43AmdaM07q38AK8sXlR5pwkjdpuiogHEEZqYzjO7uRdZ879J3XpVKVO1PSN6VrZ7HacTn9U4dTi4ATxbRpss7lQafT5qRb7lNhsGvk2BnIWp8m5D3q1ZDu+Ws7ketpWeXjko9GZtGjSqQ7kiZfGZfSZWVGLSQ0y5e7RkUVxf2ESGbr09h8bl+7I3Wp1qDxfTJkdGchWvTN0G9alWIj/FGw7l9zvRplqrHxNqlqLvXmVatnB+fHU8PL2p9k5D3qlUkNxFGjF8270YUQ1W7m7oQ6U8BahQ712qFi1MrSE77EJZJXU9tvOWSzNpkNeLd79cyJ4L9wgyaWiWMJ7cOM6GqR2pkLs0n21JKF5sbD3J2vtbilUrV6fUoeLQFFiPkzVYySQEhIAQEAJC4J9NINXEqooH+nj3FAZN3sG9BKatwy6vYsSQhZyNMfUlE6Z2lwXNCtJqUVJT6vb1WQm8cZLDx67wxH5FkH0Wfd/A/Qu+HD5xjaeJ5otX0MkJ1eZl/OOMz/TkGicPH+Hk5fuE2uaVDQ+5fPwQB33PcSc4Of6jTpqLdyqIXX0q02SOnTXW8IgrJw9z4OBRLvgH2wlP0B79RIvKQ4iNhW8m4MYZjhw8yNHz/iTULWvgLU75HuXC/TgDje5PUtdt3Tbc3MH0L97j3UqlKJjPk9x5ClCs3Fs07/oty04+ceirrcwLbQ1r6VSwDhPOG/GbUM3ux0hKanNuHU1eDU7Khu7l80qNmJUcd4zkNSK5hIAQEAJCQAi8FgRSUaxG8Qm5tJZJw4czZuZytvxxjFMnfdm7cRFTRw9n5Ow9+L+AIDQeG0aF4j3ZZhda1XR4Ol06dKBDnNTx88WvxY160UFoATvpX6cVsy7Huh4kVFfohm40GhNtBU4o02t1XiPwzAYWbfNzWCSWvCGaubpjEetP2/uxJq+kcmtwLBuK7zf1aDDpTPKjHSS3KcknBISAEBACQuAfTiDVxaqNj/npVY7v38GWrbs4eOZOglY6W/74W43Aszv4bd0celQuSdtFjtEGrP5H2fjbb/wWJ63ffiZ+Vf+yM2b/Y+w6/TBJy6Q1LJDgpDXtv4zeKxiu5R7Hd57kwV9lUH8FXZYmhIAQEAJCQAi8KgKvTKy+/IA0HqwfTLv3ezJ6zcWk44y+fINSgxAQAkJACAgBISAEhMD/mMA/SKz+j0lJ80JACAgBISAEhIAQEAKvnICI1VeOXBoUAkJACAgBISAEhIAQSC4BEavJJSX5hIAQEAJCQAgIASEgBF45ARGrrxy5NCgEhIAQEAJCQAgIASGQXAIiVpNLSvIJASEgBISAEBACQkAIvHICIlZfOXJpUAgIASEgBISAEBACQiC5BESsJpeU5BMCQkAICAEhIASEgBB45QT+uWI1EvVGV8ekzqmkX1AR1tV7XlVS+7bML8DYYoKwPwkzPuMBFp4BESp4vgFMlghCCcOqBULwIwgJw2CM4LGmYYqMgEgTWqQZo9VAiNVAmGbGEGnBEKlhjowkUvVXdTEc1GuUrFYNExExyUwEFiKwEqFadUx6/aoNVYE+8GQNTuVUNamXo6pm1X6kwhONLNJgJtJkxRphIdxoxBSpEUYkIVpELFqVN7lJ1Z387iVrDJJJCAgBISAEhIAQ+HcQeE3Fqrp50crLQbCqcy+gmpRYDX9GWMRz7mPhT8CkVF4oRFisBFufY7b+CYYACAjmeYiBuxYTBqsJa0QYmmYiQjPx3BxKoDGEIEs4QWYTBosVqzUySmuaINIQidVijRGqSrSq/0qsagkK1RcXq2oIzsQqJisYLVjCTRjCwwm3RGBAI8QqYvXf8bUgoxQCQkAICAEh8Pch8PqIVaVBbUnna2cq1AWrzSqZMiukXpXFDOHBhFvDuYfGUyLRlO41RonVQGsgEVoAGAMhIASDycrN0FAMESYsxudEWo1YNBPB4cEEhAUTYjURYokg3KphNluJjIjUzZuR4VqMWFUWVXuramqIVaMS3dGy3t6yqnCZnxuIjLBisVgJMYYTYjETaokWqzYjdXK3Dvfl7/PwS0+EgBAQAkJACAiBvz+Bf65YVWyVCLIJJpsgUlv9n9qxWVeVUFWyTKUXFashGKxG/G1iVZ+6jyTCbIlyA4gMAmMQBIUTbo7kZrgRo2YBazhoZqyRZkIjQnluNuhuAOFEYo6EcJMFU1hE1Fy8WYlgJUtj/9usqpH2llU1/a9PyUdvX8ANQHVf0TBHI4wrVq3hZiKtmu6WYDCbCLMoVwZLLG8b9+RsbffGdmtkKwSEgBAQAkJACAiBZBL4h4vVSHSnT5sYst/qSlaJVZtQVRPeyktT2ROVwkrBP0sEkQYDhggz9yMjdZ9VpRUxRBJmMBBsCUaLDCTS9BzL41Du3vmTO2HhhJmUE6qRSM2s+62aNTPBxjBuPLjLk5DnmCIjMVoiCQs2ovSn6mqkpunT/kqk2nxVlXzVxarNR1U1rqbkbUmJ4hS4N9jLeEVIUxgVkmhtryy9kWaN+7f98b9zB4vVSoSm6SnGem3POrn7KUAuWYWAEBACQkAICAEhoAj8g8WqTXIplaXUlp0bgG1fF6XKdmgAQoDgaMGqVFny/0WaLYQ/eMrNW7e5bgiLXmAViRasYVLT45HPsVj/RAsJZO9Pa6hcoR4zVm3EEG4CiwlTeAjPg//kz8AnTJr5HfWaNeTw/ztNkDFcl9Lh4RbdUKrEYmSkpi+mUguqlECNsajaW1NtIjVma4kS7ckfUpTGj9b6Ojs7C6k5zEjw0wAG9OlHr096cOvGDYKfPyc4KNg5ZxvvxLYp6JtkFQJCQAgIASEgBISAjcA/WqyazWFYreEYDM+xWi1EmJVpEsymCCK1SKzWCCIiwoiICETTAjBHPCQyMoTISAsmk4mIiAg0ZTGMiCBSX5avNF+kfk4Bslqt+nHAvQfM+3osPy9cxoXAIALUwqRQjYiACMLNBoK1AIwRj9RJLvzfKb78YiS+V64TFPgcIoxEhIUQYQzFGmlh/pKfKV2xHFv27+WZMTzKb9USicUSqVs3lVi1idQYoaokrWYGq0kPQ6AZlT+pCashlEizCc2orLcaFouFwEA1VjV9H9V3NZ7w8HB9HGrfdl7p+AhTBBEmM5rFSoRRTfurxV4aFlMEplADXdp/TMN673Dv9h3dfzXCaNJ9aq2apvM1GaMYRvGL0stqgZhqQ21t98P2sMlWCAgBISAEhIAQEAIpJfAPFqsaz58/xWQK5FngIywWE2azmefBoWzdsov+/QcxaNBAfv11BU8DbqNpT1myfAozZ03k4cN7GI1GTp06xbhx4zhx4oQu8A4ePMigQYPo168fEydO5MqVK/r50V8Oo0T6XFSqVJMB02Zy7t5TtIhItJAITMZQ7oXc5rnhLpFhIfjtOs3UST+z5/9d53lwGKFPn7Bp1UqGDPiCKVMmMun7KZSu9AZ7jvliIJLnEWqKPRKTqk+LsqxGuS5E+wXovgFRYlUzG4gIfc7d61eZMmY0wz7vx/F9e/llyWKWLFpEQEAADx8+ZOPGjXzxxRcMHDiQ33//nSdPnvDs2TN+/fVXfv75Z7Zv386QLwczpP9AdmzYjCE4FHO4idv/ucm0yVP4evAQflmxkh6du1K/Tl3u37oLZg2/sxfo06cPA78cxOpfVvPw0SOMJhO7du9m+owZzPtxPgMGDGD3nv/TXQfUNZWUeJV/QkAICAEhIASEgBB4EQL/aLFqsYQSEvYQkzkQq9VEWFg4G9b/rovKtGkz4eaWFi+v/Mz/aRqGcH9Gju/F2/Xews/vgi5Ct23bRokSJVAiVe1Xr16dPHny4OHhQaZMmejfvz9+fn7UqVSDgq7ZyJopL2WatuXUrXtoyhIabkVZd5+Y72OMeKz7tW6Yu5a8uSqydOthDEFGVs+ZTekCBSiQKyclihemYPHClH6zLP93zJdQJVZVqCpl/YyIRAUFiNRdF+IIVeUCYFWxTw3cvnaF3l06U6VkSXK4u9P4rbdoXv9d2n/0EQ8ePODIkSMULFiQDBkykD59emrUqKGL16CgIF2E586dm9q1a5MpXXryZM5Kk1p1uH7pCqHBoQzo+zmeuXKRNXNmCnt5UcDTk4/a+BD48E/OHjlJ+5ZtyZ4tG2nTuVOgoBcTp0zm/uNHzJ43lxy5cuKZPx+ZsmXl5yWLsagxmU0YzcpfV/kHyD8hIASEgBAQAkJACKScwD9arKpAp2Hh97Go0FERYfjf8adD+64U8vLmP9fvcvHiZfoP6M2QYZ9y09+XmXOH0KTFu9x/cAeDwcD+/fspUqQIe/fu1a2OhQoVYtWqVZw/f55Lly4RHBysT61f8D1N8cz5+aTbIHb63eJxhMazPyPAqGG0hhESGYA18hla4DN2r/o/vIs1YMW2Ezx/EkLXZs1oVa8eZ08c4+iRg9R6pzZvVK+ki9UQIgm2WAmPjCTMEqmvzNfFqv1CKttiKhU+y2LmyN49VC9blm+/+IKH16+ze+1aKpQoQb++fXVLcNeuXalQoYIuUA8fPkylSpV4++23uXfvHhMmTNBF+Jo1a3j83wdM+WYkhbPn5MjOPVw8eYZ8uT3p3eszneMf+/ZTIHce2rf24b9+/+HbvgPJkykL27Zu49ipk/Tq25smLZpz6eoVlixfRjaP7Hz19TCu3bxBqDGc4LBQgkJD9EVZVvXyg5Q/m1JCCAgBISAEhIAQEAL/5AVWyjdS+Wc+waIFYAgP5M4df5o1a8vgr0YR8GcIZrOJ0FDlq/qYyMj/0rNfY2rVrcy586d1IapEW6lSpXSxeu3aNX3qvGbNmrqga9q0KVu2bCE0NJSHN/5LrYJV6NVnOP8JM/PQDAY9sICVMFMQz61PdbEacu8+O5fsppBnbeb+coA/HzyjUp68urA0Pw/GGmFi3YZ1lC4fZVlVYjXIasUQGUmINVIPJaUpy6oTsap8VC0hwaxbvowy+fKxZ/16LH8G8PjWbT7r0oXOnTrxn//8R7ekKouqSspCnC5dOt58803dQvzVV1+hBPnFixexhhlZN38xtUqU48i23RzauYeiXgX5cf58lBVW+aN2+rA97Ro145HffxjWrTcFMmbV68tfuCBpM6Qju2cuDhw9wrRZM6lSszr7Dh3Uw1upqAmhJqMeJCwkPJwIi0XEqnzZCAEhIASEgBAQAi9E4B9sWbViND/BYn1AZOQzzBEhulht2eI9WrVsz/OgcJ48eczqXxaz5rf5PPnz/zHk2494o1Ip/m/Pdn0h0qhRoyhbtiy7d+/WFyGphULKx3P48OE0atSI8uXL6/6szx4G8GGNtnzSYxiXAg26WFXRoiLD1etInxGoPcJsfQLhZjbM30z2dBX4dZcvQQ+CaV21Gj18fHj24D6hwYF83r8fFWtUjbGsPrNaCUumWDUFBfF/mzdTsXBhFkydRviTp1w7dZoW775L788+488//6Rq1ap6vz/77DOUOP3mm28YP3687suq9tWYlKiNNFtZ/9NySmbLxd51m7l4/DQFPPPqee/fv89d/7vUrVmLD5q14tl1f0b3GkC+DJn1OgcP/5pBw4YwYdp3+N34D6MnjqdJqxYcPXNKD80VYgrHpGmEWywYzGbdf1Usqy/0+ZRCQkAICAEhIAT+9QT+0WJVi3yONVJZVv9E08IJCQlh4oSpFMhfkg4dutCunQ/Fihehzxedefj4LDPmfoVHrsw0aFCXdu3aUbRoUV2sbtq0ic2bN6MEnppG79ixoz59XrlyZY4ePYoSq++91YYSJaox8Lu5XHkcjDEcLGFGQkOf8lx7GvW61dBwtizcRqE8b7H4t0OE/mlg7qjRlMmfn4/btqXrxx+T2zMXFapVZs/RI7rPamCMZVVL1LKKJQJLeDhXz5zhvcaNqVy8OL07daaTjw/lixenQ7TPqhKmpUuXpkOHDnTp0oUePXowZ84cfYGVEqu1atXi5s2bGAJDWL9wORUKFGHP+t955H+f8mXL6jw++PADWrZsSd6cuWhevwGPb9zlwPpteOfzolPHTnTp+Qmde3TXLar+Dx/o25p1auti1WAxY46MxGCNIMRkxKwiE4gbwL/+i0YACAEhIASEgBB4UQL/YLGqER7+nIiIUF2omkxhenim//znJqNGjsfdPQMZMmSiabMm+B49gNUawumzB+jw8XukT59OF6O9evWiVatW+uIqZU3s27cvXl5euLi4ULJkSaZOncrTp08Jex7G8P7DcHHNQPm36nD5xh2M4RYiwo0EPw8gyBCA0RSiH69dtIay3tXZuO0gIc9CuHXlKh/7+JDO1ZVG9RvQqVMnGjVtwpHjx3gebtCF3XNDOKFGk760SvfujFQBVx2TZrUQ/OefGMNCWb/mF6q+WYEi+fIxdOAA+n32GR3ad8Df35///ve/ujtD9uzZcXd3p2LFipw5c0ZffDVs2DBat27NoUOHCA8NY83SFdSsWJnF83/CEBrGxvUbdMurch3o2bMn77XzoWWz5ly9dIWn/33IulWryZkzJ2ncXKlavRr/t28Pz0NDGTVmNM1btuDUmdOEq+n/SI0QQ5i+rxZXqSSW1Rf9iEo5ISAEhIAQEAL/bgL/YLEaGRM7VMUmVaGoVJxRFUtUhW9SYaxUUuf1uJ9Wq+5/qhZNqTBOYWFhev7r16/rLgG2GKSqjLquFmCpeKWqTtuxEoJKvF6+fFkXgCpSgEoqxJVtUZay7qr2la+rqlOVV20pP1Bbf1Q9z58/jxJxkZEx8V5Veyo5i7yv6lLxUpXLQrVq1ahbt65u9VVWYWUt7datG48fP9bbU+2ovKoNldT4FQflJmAbl6pPnVNjUzFnVR7VZ5Vf5VPnVMgrNRZ1TZ1XbhLqmhqLPVfVnuKqxqnqVWNQeW3jiRrTv/uDJqMXAkJACAgBISAEXozAP1isRgXtV0LKJryUWFIiS4kjJaZs4lXlUYJKHautEmwqn/11Ja7Usdqqa6q8rS6bkFPXlL+nWrCkrI9p0qTRrbCurq76vlp5r0JH2epQ9SkBqNpT4lG1reqy9VltVTs2MaeObftxb6c6rwShEotDhw5FhaBS4bVy5cql+6muX79eb0e1Zxu7al/VqQS0TUiqMamk+qjOqTwqqf6preqj2lfXVZu28koIq2uqrLpuq0NtVTmVX92HlIwp7hjlWAgIASEgBISAEBACcQn848WqElBKJKmkhJMSYEow2QsudU39swk0lU+Vswksm0CziS5VVok+tbUJOWVZVPkePXqk+4BOnjxZf6GA8hFVLxYYMWIEi/8/e28CbUlVn33n/ZIY877J95mY+GmiEeMQo4kkMQsnjMgQFBAVTXBAQURAQFEmmZoZBWVQFFRmnIAAgk3T2MzQyNB0M3fT9Hzne89Y81znedez793d16abHuSeruN5aq19q05VnXNq/3bVXb/zr//edfnlWLVqlZFF+138br6PwmglkvLKddOFmGJo67F+I/E1t/F4WD9Gcq+44gqcfPLJpjC6ygcC8PO4Hz/L1p8seCx24nqW6Yx4LHwPJ34Gj5WM+FmckwW3c5nvtQLOz7WF67e0TvaYNBcBERABERABERCBjRHoaVllpShdlCjOrahxzigkxYsyNV0KuS9fU0I5p4TxvVbwKKWUSa7jxPVWYvleTvxMCh232UJR43p+Nws/m1JnP4fv47L9fu7Lz7XHzPV8/WITv2v699i6cc5t/AwroqwHb/Fzf07cx0ZS+Z32PZzzuOx2zjlZIeU2fgY/n3Wy27kPv4/7Tf8MWydbV841iYAIiIAIiIAIiMDWEuhpWaVAUYYoURQxK1KUMb7mdlu4jXJlxYv72PdSuCh3Vhj5eTb6yf04cR33sZ/XarWMaFqR5Xq+n/vxPfxMbmOx38t13M59uY8tfG2/78UakvvzmFk37s/XrI/Nh+VrSrrdj9/N7XzN7+Br+92c87PsOrudn8vjpYyzvuu/lzLMYt/HzyBbruO+tnA9P4v7aRIBERABERABERCBrSUwI7JK8eFkxcUKDwXmpZwoYhv6TMoWv5MSRXmbLrGUJ263+9jj4TFTJDf0eXYfO+dnTK+TFVB+BoXURl3t9/Iz7efyfXw/y3TpY1247sUmfr79HO63/mt+hq0DRZHfz+/jMbFwf078Hh4j9+HE9zAXlnO7nfuyWMb2WM0OU59hpXn6Ou63/nv5fTwOTpzbZfs+zUVABERABERABERgYwRmRFatJHFOKaSssFCGrKxovi4K+fvOglJMgeU5wPPBnh8bOym1XgREQAREQAREQAQsgRmRVcoJxdTKKiNwjOxZSfl9lzPV77dFnNFZG8m1P14YgdUkAiIgAiIgAiIgApsiMCOySillFI0Th3o65ZRT8B//8R/YaaedsPPOO6v0GYMPfOAD2G233XDhhReahxbwvLDnx6ZOUG0XAREQAREQARHobwIzIquMqjJyxggjxXXp0qV4/PHHsXr1avOUJT5pSaW/GPApWmx/SirPC0baNYmACIiACIiACIjApgjMiKyyExBv99qONkwLYOGtYHZ4UukvBhRTmxrCc4Lnh+3MtakTVNtFQAREQAREQAT6m8CMyaoVVUZWmbPKx5TaHucUlX4pCZ+ENVU2WuckRmxLxdnYutj55tSJD1Kwj6zl+WDPjf6+9FR7ERABERABERCBzSEwI7JKGeGtXkbQeNuXgkKp4bidFFe+tlFWRtwYeeNr21Oc+3I/7s8xRG1ktqfmQYh2o4nQ8RC4HpIoRsh1zZZJkQjCECw+SxTCmyp8zfWVrGsQIo0T+G0HvuMiCSN4rmcK2yzi+LSsRxig7bloug7cMIAf+GYILLY7zwd7fmzOCap9REAEREAEREAE+pvAjMqqFVb2Bqd8UUC5zMJB9SmiFFS+ZtSV0deJiQkzp6jafZn/2nMljJAlKbIoQWNsAvXRMcR+AM9xzaNRQz62NJ4sXhzBjSM4cYQgjsBtlaxvEGLNshXwGm0UWY5OXiINI8Th5KNWKaVO4KMdeGj6Lhqei1boG3llfdie/AHD84JFkwiIgAiIgAiIgAhsikBXZZXCYqOmnFNgKayMrFqZYeTN5rwyt5W3jyspbpsSyjDC8sXPIWg6KNIcASORQYiyKE19XiCrSQQnqb6s5nGK1I9QGxnDyJoBNCZqaLfak+1IUfU9tDwX7dCHm0RoBh7cYF37SlY3dUlquwiIgAiIgAiIwHQCXZVVymej0TARVt4KpoQymsooKiOrLFzmfuPj40ZUeeu4V2WVUVV3og6n1oDXaiPyA8RRZOrXk7IahnBrTRRhgjyMETieiRRHU5HVoiyQFLmR1VbgwctiNEPJ6vQLTssiIAIiIAIiIAJbRqDrsspIKfNTbZ4qo6u8PUxJtSJrO2QxJYDLvSqrsR+iOVaD12yjkxcmb7XZaJjUh16V1dQP4bdc+C0HrVod9fEJ1Gt1DA8PY6JWQ5LnJhWg4Tnw0hjtKFBkdcuuSe0tAiIgAiIgAiIwjUBXZdUOYURZZeSUEsoo6v33348DDzwQH//4x3H++eevHY+T+zHy2quy+uTCRSizEk8tfBxfP+Ir+K9PfAInHn+CiSD3pqxGyMIYjeEx03HMbbVx0//cgM/t9zkcdNBBuPGmmzA4MmxSASZlNTI5q0oDmHbFaVEEREAEREAERGCLCHRVVhk9ZSTVSipTAZ555hnss88++Iu/+Av8yZ/8Cd7ylrfgxz/+scmB5HbKbK/Kqu94GBkYxnFfPxrnnvVNPPn44zh11ik49dRTTY9/OwIAO1g5cVj9nFWOUtB2UUQpGDWec/MtOPjAL+KySy/F5ZdfjsMOPxwPPvwQGk4bJg0gjdHwXTi+Z9pQHay26NrUziIgAiIgAiIgAgC6KqvsTMXb+hwBgBLK+QUXXIBXvepVuO2220xE9SMf+Qj22msvPPXUU2aIq16WVYrdXbfOxef2/TQGVq0xwz0NrF6Dz3zmM3hs4UJze3y0NoGYeZ6hDz9PECYVHg0gDM3IBnmUImg5OOCz+2HOLb8yaQD8QfGtc8/Bhd+/CCsH1sCNQ8SdAjW3jZY7+YNDsqr/OSIgAiIgAiIgAltK3Ts4mwAAIABJREFUoKuyasdSpYCyMxXTAhhl3H777XHPPfeY4ayOP/547LrrruDjORmFtSMF9Fx0lUM6uT5+ceU1+MohX8bQqjWIPB9jIyM48cQTMff2uQiTBPV2C0GWmNxOymqlh65iezBXdXQcw6vWYL99P4V5t81Fo94wQ1Fdd/31OOc738bg6MjUaAAhgjw148iy/SSrW3p5an8REAEREAEREIGuyqodZ5X5quxMxc5WX/nKV/CBD3wATz/9tBnW6sILL8Tb3/72tfJqRw3oSVn1Alx60cX42mFHmKGe6mPjqE/UcMYZZ+Caa65BxAhz4JsopBmPNIuN2DGftZL15dixcYr2eA3LFj+HvXb/MBY89DDGx8ZNxHz2rbfia0cfhfFGHWGeou45ZvxYCrhkVf9sREAEREAEREAEtoZA12WV0kJZZcSUwnrIIYfgXe96F+bPn2/k9dxzz8W//uu/4pFHHsHo6KgZJaCS4rYpoQwjuI0Wfn7F1Tj4CwcicH2MDg2j1Wzh2GOPxVVXX21k1eStmvFIXTMuKZ9mVV1ZDZH4IbIwwaqly/CB9+2IZUufR7PRNGkdc399Ow469BAMj48hKQsjqxRWPtFKsro1l6feIwIiIAIiIAIi0HVZZScrRlSZr8o50wDe+ta34rHHHjPyetRRR2GXXXbBs88+a6S2l3NWW+M13DVnLj7/qc9gcPUAvLaDifEJfPWrX8W8O+4wt/w5iH6c56i5rclUgIrLanNswsjq2MAQPvWJT+KBe+9DlmamPefefjtOO/MMrFizGnXmqoY+WpGeYKV/MyIgAiIgAiIgAltPoKuyyuga5ZNRVT7BisNS3XjjjUZWmcf5ne98BzvssAMOPvhgDA4Omqiqeeb8pqKYVdzOgfLDCE89+hgO/eJBuH3ObcjjBLfOnm2iyStWrkTTaaPWbBhZHW/W0Qr8ynewit0AYdOB32zj+xdciK8edjgCz8fAwABOO/10/Oy6azHRamK0PgGf46zGGmd16y9PvVMEREAEREAERKCrskrxpKjap1RRXJmrethhh+EVr3iFGb7qHe94B6677jozEgA7ZLH0ahoAb/kPDwziku//AEce8RV859vfxpFfPRIXX3yxGZqrzcfJttuI0gRNtw03DBDG1R0NgB3eQj4UwHFRpBkemv8gPr3vp3DB+Rdg1qxZOOhLB+HRBY8izXMzAkBqnmblwPFcpQHof40IiIAIiIAIiMBWEeiqrE4fY7XVahkh5TqOtfrTn/7UPBDg1ltvNSJHseVTkXr2oQBTUeQ8yzA2OoabbrwR5513nokk88lcVsCZn7p+sduqNmdbsd04BFkSJ/A9D488/DCuvvpqXHLJJbiDqQ1BYHr9N5oNRHFs9uWPE9ZFowFs1TWqN4mACIiACIhAXxPoqqwySkrhybLMRFgZZeUyJYa9/ik1lFNGXG30tWfTAKbkjGLHehZFYerJ+vTqI2TZdsw1Zp1sOoetH+tlZZS5yOwcx3pTUm197fZOp2OGuurrK0+VFwEREAEREAER2CwCXZXV6dJCkeFYq4zUUXQoPZRZSiplx4os5ahqEcYtOR4KGuvHujKvk3Xjui35jKrsS1llPdhGVjzZpowU80cGt1FS2abcl9v4Y4TLrIN9j2R1s65N7SQCIiACIiACItDtJ1hZgWFUjiLDwmUKHOcUUys3lFUWDm9VFVnb0uOwdeD7GFmlpFHYerVObD9bJ/64sFJKGbfbWFdGybmO9eQPELYz10tW9T9HBERABERABERgSwl0PbJKKWUEjmJqpYaiY1MEKDZctq+3VBCrtD/rZetGsaPosd6sW5WOc3OPhXWxUVW+h8usC8WVbcrtXM968gcI62x/lHC9ZHVLL0/tLwIiIAIiIAIisE1k1UYWKTcUHXurn8LD14yuMjJHEeJ8c2WqavuxfhQ0Chvlzb6msFftWDfneHj8bBMb/WY9WL88z816bmd7cT3rzP24Pws/X7KqfzgiIAIiIAIiIAJbSmBGZNXmJK7fqYgRN4qLjchxTrGxQkNR5Wt7q9nuZ7f32nz947f1ml7nXquTrcP0trPtarexTlymsFoGVmQpsIyo8xzRJAIiIAIiIAIiIAKbIjAjssovpYxQViknjJxSVlT6lwEjqzwPJKubuiS1XQREQAREQAREYDqBGZdV3iLm7V/eHrayQmFR6R8Gtu1tyoAiq9MvQS2LgAiIgAiIgAi8GIEZlVVKCaOrFFbKKedcp9JfDGzb81xgkay+2CWpbSIgAiIgAiIgAtMJzKisMhVgfTG1+ayaTw6M3w8cNnYOTD8RtSwCIiACIiACIiACGyIwI7JKAbNTP8jYxuvIjkTrStkpUVLg1yudsoPfKlNPeNr4524j0V3/OO3r9Y73BfVbb7s9NzQXAREQAREQAREQgU0RmHFZnX4AjLDZ28DTo215zlQBbuuYeZaxY9a6dWUJbLhU/XZ6hk7J3u9Mf8iR5RmSPEXeKdeWouygLIDOVCmLCteJx5YXKLIcnaI0Zf3jZV5qkk3WMckzpEVu5Hzdz5fpZ4SWRUAEREAEREAERODFCcyIrG7sK5mzykJhtWNucl+KaZoUSOIcYZDAcwMEfmxel0UHoOlsrGzsy7b5+hKx7wCdFHkWI89jRFkEJw6QoETCegMoWbUCQD5VzIptfvAbPoAOjKxmQWREFUWJwPMRBeFkukengyCK4EUhoiyFGwVwohA5h6ra8CdqrQiIgAiIgAiIgAi8KIGuyipvazOiagf6p7SunTowwhpHmRFWimuRlybquFFRrbQBTcpqmUeIAg6eHyJHDi+LEKPoWVnt5B1QVsO2iyLNJmU1jCaHKitLI6pJkaPhOXDjCO0wQJrnktW1J7oWREAEREAEREAEtoRAV2WVB0ZBtaMCUF5tT/EoTNbmbVJUs7Qwr9stf+NR1YrLKpgCkIdIQtdEVimrbhr2bGSVebWrlq1AyRSNJEOZ5kijGK7jmmHJmKu6cs0axHkONwrR9D2EeabI6pZckdpXBERABERABETgtwh0VVYpqRxr1earcqB4Pu2IwkoRWrTwKSxZvAxFPimqTAGIo7xnZbU1MYpOEaHIQiOrbuhiwmvAL9OejKyyjfIkRxrEJrKaJymctoPBgUEsWbIEA4ODCOIIWVkizFI0fAd+lqBgB6vfOu30QgREQAREQAREQAQ2j0BXZXX6IVFU+UQriisFdmDNIHZ83wfxmc/sj3qtBYqq0w6MxPZqGkCnSBE5dWSJj1a7hnMvPBdnnvdNeEXSk7LKdkjDBGOrB5HFKdasWInjjjoaH979Q9hjjz1wyqmnYvXgoMlXdcIAYZEhYgerqZTj6e2vZREQAREQAREQARHYHAJdlVXbwYoHxrxVm7/6yCMLcNAXD8HLXvZ/sO9/74dW0zf5q74X9bSshm4Lid/CiqXP4lvnnIm3/+vbcOjXj4Cbxz0rq0WSI2g5CFwf533rHBx95NcwMjxiIquHfPlQXPs/1yNIYgyNjyFFB0mnVGR1c65E7SMCIiACIiACIrBBAl2VVd7up6Tax25y+d5778VnPvNZ7LjjTviTP/kzfOGAg+G5MfKMYzlNdrrq1chq7LUReA3ceP3PcMGF38bXjjsSRxz7NQRFb6YB2MhqfXgMbrONL3/pYNx68y3g8FVs26uvuQY/+OElGB4fgxMFRlSjMpesbvDS00oREAEREAEREIHNIdBVWWWHKpu3ymXK6qOPPopzz/02rr32Bvz93/8DDtj/S2i3AuRZaWS1l3NWkcXIEg/PPrUIK1YsxU2zb8ThRx/Zsx2sKKsmstp0MD48is/89754atHjpoOV7/u48667cPRxx6LWaiLrdMywVRwRQDmrm3Mpah8REAEREAEREIENEei6rNrhqxiJY6G8ZlkO3vJ/0xv/EXvt+XE06g6KnE91gsld7dXIaicJTQerNPERxz5+cu01OOqk4+DmUU+mAZgfG1GCTl5i9bIV2O2DO+PJRY8jS1Lzw+ORRx/FgQd/CY12G2mnnJTVKJSsbujK0zoREAEREAEREIHNItB1WWWeKqXHTlzmcFa1iSb+6pWvwZ57fAxhEJuoahKXPZ2zyg5Wid9EkUcIQgcXX/YDnHz2aT2bs2pkNU6RRwncRgv77P0xPL7gMeRZbjrL/XrePJx25hlwfN9EVpNyUlg1zqo92zUXAREQAREQARHYUgJdl1UjPFNPseLB8jUjq62mi+1e/2Z8at/Pmc5VjKzG0eQQVr0aWS1zSt0oOmWKvIhx5c+uwBnf+WbPRlZNGkCaI2g6ZqzVLx34RVz3s58jSzM4joNzv30uLvjed+FzpIc0RSvwETJ6ridYbel1qf1FQAREQAREQASmCHRVVvmdk3I6efvftgLXjQyP47V/+wZ8dO9PotnwTM6qTQXoWVlNQrj1EfPI1U4nwxU/vQLHzDoe7YSPXO3Fx6120ElzM9Yqx6P67vkX4MjDj8CzzzyLZcuW4djjjsMvZ/8KSZ7DiyOMM3fVPlLWNrbmIiACIiACIiACIrAFBLoqq8xRtQ8FoKCyMGe1KEqMjdWx/TveiQP2P8jkr3IA+jSZjLj2qqx2zBOsYhR5gqJIcMU1V+D4U04yveRTALkVOT51li/WrtiCFuzmrkzfKDrI4gxpnMB3PZx+6mn457f/E/7lX/4FF1x4Adqui5j5yHysLp9kxcet8qEP3TxOfZcIiIAIiIAIiMDvDYGuyurvDbXNrgiHw19X+BwnStv65YUrNvsLurvj+gduX693FHb19Pl6u+ilCIiACIiACIiACGwWAcnqZmHSTiIgAiIgAiIgAiIgAtuCgGR1W1DXd4qACIiACIiACIiACGwWAcnqZmHSTiIgAiIgAiIgAiIgAtuCgGR1W1DXd4qACIiACIiACIiACGwWAcnqZmHSTiIgAiIgAiIgAiIgAtuCQFdk1Q5Txbmm/iOw/lPL+o+AaiwCIiACIiACIrC1BLomq3ykKsdUpbio9BcD2+5be5LqfSIgAiIgAiIgAv1LoGuyah8IwIcCqPQXgzRNzQ8VRdb79x+Nai4CIiACIiACW0tgxmXVPqUqjmOEYYggCFT6jAHbnT9QGGGVsG7tpar3iYAIiIAIiEB/EphxWeXtf0bWrKhGUQSV/mLAHyhsc54HTAHRJAIiIAIiIAIiIAKbS2BGZXV6VNXzPLBQWlX6i4HruvB930RX+eNF0dXNvTy1nwiIgAiIgAiIwIzIqn0mfNnpIMsLE1WjsFhpobj4vodgqnDZ8z24gW+KF/j4rWL253tUtiUDz2f7hODc9x2ELN5kYRu6fgjXj0zx/BCB5yP0PLhtx/xQYSqIZFX/dERABERABERABLaEwIzIatoBMgB5B0iLDuIkgx9EcBwHQeAjyxLURodQ5gniyEPot5HkKSYCB04awk0iNEIPXhqh1mrCi0IENiIbhIimShhUO0JJsazVamDnsrGxMSPrlDVKG8Wdt8eZy8n9+NqmR1Q18uyFEZpRgjBlBzEPTm0N8riOoDFifnw4UYExp4CfFWi0QrQbbWSBh8h1TDSddbWyqujqllym2lcEREAEREAE+pfAjMhq3AESTAprWgJRViIIY7ieC9dpI/IdFGmEPAng1EYQOHXUvSbGIxdBp0A7jdFKQ0RlgXrgwo8jBDbXNYwQT5UorHbuJ6WTAkphZeeiVqtl5HTFihW/JaaUVu5LibXCWsW5H8UY9gK04xBx4iBsrEAWDiJsDCArMjgJsHwixXhYYrwxKatxs46o3TL1Ys6qZLV//9mo5iIgAiIgAiKwNQS6KqtRHKPVaKAxPooiixA6DQTtGrLYgxN7qMcB6pGPeuihEftoRyH8NOlZWaWcMmrabDbRbrcxOjqKwcFBE2lltJVCaiOq9rUV3KrKaiMtJtvFqyFpr0baXoHEHYXnu2iGCYbcEhNRB16UI/Ij5G4bsduWrG7N1an3iIAIiIAIiIAIoKuyGicJPNeB06gh9h24zQkjqs8+vQgnnHoiDj3u6/jOD7+Pp1cug19kGG7W4KZRz8qqvf0/f/58zJo1CyeddBJOOOEE1Ot1E0mlkE6mRgQm4khRpdxWUVR5TIysjjGdIwrRagyhiMaAfAJuYxC/vn0uFi5ejhG/xHgIuGEGr+kgbzcRu45kVf9sREAEREAEREAEtopAV2XVDGEUBsjiAJHXRha6GFi+BEcecTD+/BV/hj/80z/GX//d3+DwbxyNp5YvxZjbNKkAvZoGQFl98MEHcdhhh+G8887Dj3/8Y5x99tk49thjTZSVAmhHSWCaAPlUXVYH2y68JEK7OYIimcBzC+/AZRd9Cx/Zaw/ceNu9GI+LKVlN0Z5oIG81EHuS1a26OvUmERABERABERCB7kZWGUWMwgBp5BtZjfw2rv/plXjbW96IH1z2Q9y78GF85NP/hff+58645c7bMeY00Qz9no2sDgwM4L777sPxxx+PlStXGjFdtWoV9tlnHzzzzDNrh/BiigDzVSmqVZdVpgG4cQinNQJ//HmccfQBOPRzn8AHd/oP/PL2e9DKOxj1O4jzAqkXohN4iP3JzmPKWdV/HBEQAREQAREQgS0l0PXIahLHaDcm4DZr8JyGkdV9P7E3bph9E0baLRz0tSPwrl0+gAcWPgovTTDebvasrDYaDSOfzFVlxyLe5n/66aex995747HHHjPyyugq97OdrEz02XYmq9icaQCtokQj9OE6Y4ibq/Cj807EnbOvxbfPPQc3//o+1BJg2RhTNzJEjo+sWVcawJZeldpfBERABERABERgLYGuymoYRYjZacppmpzV2G/Da4yhVRtBO3Bx6713G1E99JivYfX4qMlZ9dO0Z2WVuamMJlNGGT3l8rnnnmvyV0dGRtbmrXIbI6q9MBpAMyvh5ymSpI20vRplNITB55/A0Ud9Hf9z6x1oZCUGmgWaboLQ8U0aQMQRIKaeYKXRANZee1oQAREQAREQARHYDAJdldW245gOVnkWIwldJIGDyG/Bdxu4e/69eOeO78Z7dvsg5j5wjxkNoBn5qPlOz8rqxMTE2lv97PV/xhlnYN9998WSJUvMEFZ89ChvjVtRZVS18pHVvIMgz5AmbfgTz6NoLcfg0kU45uijcM3/zMFomGPYBeKsRBbEiGvjCDV01WZcitpFBERABERABERgQwS6KqvsTJTEHF81RLs+jjR04bdreOiBu7Hrnv+J9+6+M26950404xBukSAsc4w0az0rq3wQAIX18ccfN3mrn/rUp7B8+XIzXBWjrORhh7eiuHLQ/KrLKnNWm2GAKGohdwdRxiMYWb0Yp54yCzfNvQ+NtIMRj6MB5CYNoPQcxJ5yVjd08WmdCIiACIiACIjApgl0XVbN0FUUUKeBPA3x2G/ux9577IZX/s1f47tX/hgLFz+LB594DCOtBsKiwHCjd2WVt76XLl2KSy+9FMcccwz4MADmr1JIKaY2qsr9OHKAHRmAr6tYTM5qXmCkWYfn1dDJWMawZsljJg3gFzf/GkZmU6DlpXAmGihDH4nvKQ1g09ei9hABERABERABEdgAge7KKh8r6rThNGtmRID62BB+dNH5eMPf/S3+4P/5A/x/r3s1/vDPXo737boT5j14H0ZadURl3tOR1WuuuQbvec97cM455+DGG2/EZZddhnnz5hlxZU6rzVeluLIDVtUjq05eYLTdhOfXUQYjKForsOLph3H8N47FT2+8DaNBhnYOBMmkrOZOC4kiqxu49LRKBERABERABERgcwh0R1bTwjxu1XawCnhrOHAxMrASt/7yepxx6sk45hvH4IQzT8dxJ5+I8y++CI8/vxiNwEWYZz0rq8xF/eUvf4nTTjvNpAGcfPLJZv69733P5K0yBYARVEZUKancv+qy2ohTNAIPSeoiaQ8inliG9sRqzP7VLXh88XKM+R2sacTw4xxh20Xpe5LVzbkStY8IiIAIiIAIiMAGCcyIrOYlUHQmS1Z0kKQpgqmoIWUsCHwkcYgkChB4bfheG17gIUgTeHEEJ/DgRQHCJEYQRwiiCBRdc2s8jBBNL3Z9BeesK2/387jtY1UZPWW+qh1bldttRJWyyuUqpgDwmNgOThTDi0LEMcdPbSBxa4iDNmoT42i5AZwwR60dwQ9TxEGILAwQTj2VS+OsbvAa1EoREAEREAEREIEXITAjslqUJcpOx5S8KExuphWydSJGKVtXwig0Qkop3VBZ975q5nP2w/FNb5e1bUe5NoL9wvab/FERIvDZISsy54GGrnqRq1GbREAEREAEREAEXkBgRmSVPds7nY4plJNeyMfsB9ncVnW0qQ2KrL7g+tMKERABERABERCBTRCQrFYwfWBbSeVMfa9kdRNXoTaLgAiIgAiIgAhslIBkVbI64zmyktWNXn/aIAIiIAIiIAIisAkCklXJqmR1ExeJNouACIiACIiACGw7Al2XVXa0UukvBoqsbrsLXN8sAiIgAiIgAr1OYEZkdWNQ8jyf8SjeTOVd6nO3fhQGdrLTJAIiIAIiIAIiIAJbQ6CrsspRAiguKv3FgO2uSQREQAREQAREQAS2hkBXZXVrDlDvEQEREAEREAEREAER6F8CktX+bXvVXAREQAREQAREQAQqT6CrssoHBfCWsEp/MWC7axIBERABERABERCBrSEwI7JKNVm/8OAkq79PklqgLKeXEnzM7vRif5RIVrfm0tR7REAEREAEREAESGBGZJV9v1nYrcaWdbG1SY3tdHLkaYQsCdEpM6BTIkkSxHFsWobLVnZ6uamsoG9M2LjelqrXs+wAadlB1imBTorIr6MsPKCMUHQKxB2gnXUQdjoIixJpkSPLYpRlPvXzpeo11PGJgAiIgAiIgAhUjcCMyGoKgIWKwkJxpaJSRF23jSJPjaAWWYQ8DdApErOOz453HAeccyxWDnVFYe3Vqd1um5EPKN4UUtd1TZ1YLztxPevIedWnogMERYl2GCBNHKTBGIpsArE7ijAJ4HWA8byDZtnBeJzDjSNkWYCiyCSrVW9cHZ8IiIAIiIAIVJRAV2W1KErkWYpOwaicgyINUWYh6qODmBgbNpFVG1HluKYc4oqC16sTpZvHzzkFlXXLssyss9HUDc2rWt+CEdNOB14aI0kcZP4wOtk4yqyNtu9gPIjQ6HTQ6AATWQ4nDlEUEUpGzs3PlarWTMclAiIgAiIgAiJQVQJdldWy7KDDAeI7OdLQMxHV+tggfn715fint70VL3/5y/HlL38Zy5YtM0JHWW21WlVlt8nj8jzPCOp1112HHXfcEf/+7/+OPfbYA6Ojo0ZaKbA2osp51SOslNUJP0LaYa5qCMTjSINBPPfso/jWeefgV/c/grG0QBOAU5YIiwxp6qMsGWevfuR4kw2qHURABERABERABLpOoKuymmf52shqmceI/DZm33gttn/bP2DH970XH//Yx/CGN7wBZ599NngLnakAVua6TuYl+EIe+9NPP40DDjgAd999t/nEc845ByeffLKpGyOutn6cU87t65fg61/yj2A6R8TIahIhjtsokgnM++VlOPKQ/fDv79kBP7311xhLc9TKSVmNilyR1Ze8FfSBIiACIiACItBfBLoqqyYts1OiZKebLEYcunjmycdwyUUX4Nmnn8TzS5firW99K4455hj4vm8ikFWWt02dKoyUPvPMM5gzZw6GhoZMYdT4wAMPBKOuzOG19bOyWuUcXeas+uWkrDINoD2yBN84bF9858zj8ZWjjsSv7n3ApAAMJoDT6SAqqbc2e1mR1U2dL9ouAiIgAiIgAiLwQgLbRFbZ+5+lyGNkoYMs9jA0sBqf/OQn8U//9E+4/fbbzW1y5ngy+tirE/NTgyAwqQy1Ws1Ei0899VScdNJJpiPZ+rJa9Q5llNWwA8RFZkYCCNtr8NyiO7Dk6Ydx/Mkn4KY77zIpAEMJwEzjpMyVBtCrJ6+OWwREQAREQAQqQqCrsmpyMstiSlQT1EYH4bVrCN0GfjP/fmy33XZ4zWtegwsvvNB0SGJ0tcqRxk21IW/rN5tNI6z33nuvkfG3ve1teO6554yMU2atoLJD2XR53dRnb4vtlFWvAKI8M6MBdIomOskoVi55DN846XjcMO9OI6tjU2kAzcBFFDnodNTBalu0l75TBERABERABH4fCHRVVilmURiYsVXTOECeRViz4jk8sfBhuE4LixcvxpFHHomdd94ZDz74oImqUuh6dbIjG1BCWXeWRx99FPvvvz8efvhh0/mKkso6Mg2AYl5lOZ9MA5iMrGapC1BWixpGVj2DWaefgl/dc5+R1dVhBx6AMEuQZgE4pq46WPXqWazjFgEREAEREIFtS6Crssqc1ZKdiMoMbrtuylmnnIC3vvH1uH3urSZPlZ2r2HN+4cKFRtzY0apXJ0aGlyxZgjvuuMPc9h8bGzOR1uOOOw7XX3+96WTFfZgqwMlGWqtaX44G4OSlub1fUFbTGlDUMDywxKQB3Hz3vWgAWOmVRlYzFMjzUENXVbVBdVwiIAIiIAIi0AMEuiqreV4gZxSRTzTqZIgCB3N+eT3e/c534CN7fthEVd/xjndgv/32w/DwsMHXy5FVRlJvueUWHHrooXjyySeNsDId4Atf+AIWLFhg5JSiaiOw3L/akdUOGlGGDCU6RQBkdXSKCQyseBJHf+MYXD/vbjMSwHAG8CdGgtI8FEDjrPbAfwIdogiIgAiIgAhUlEBXZdXc5i4KZBwsPk/Qqo2iPj6E737nm/jrV/6lGWd1p512wv333782Z9X2lq8ovxc9LEZS6/U6LrvsMuy+++54//vfj//+7//GbbfdZvJTyYOiytxWm7P6oh+4jTcystqMp2S1EwF5HZ1kBGNrnsX537sAcx9agFoB1DtALS8QZKlkdRu3mb5eBERABERABHqdQFdlNbPjrHIkgDRCmUUoshBx4KDdapihqgYGBoyo2seuUuR6mO+pAAAgAElEQVR6dWKklDJKYWVpNCbryGgqRZUiztEOuMy8VpYqT5TVgENS5SnS1EMnmUDWXonIn8CTi5/CqnrTDF3V7ACNvDBPuuLjVhVZrXKr6thEQAREQAREoNoEZkRW2Z2GhZrJUk51rzGRVTP2ZgnPaZknWbntxtQyn4rE28Z86lFqJI8yR2nt1Yn5qFZAGTnlQw5YR875mhOFlvWklFddzNmW7O4WG1n10UkcxN4o0ImYnQqqtlMAfgcIGC3O+JjZGCXTPvQEq149jXXcIiACIiACIrBNCcyIrHL49/XLC2tJhZ1eNGj8CxlVa826NuWS/SkyOe+gNK1p107+QOF+9qdKteqioxEBERABERABEegNAjMiq71RdR2lCIiACIiACIiACIhA1QlIVqveQjo+ERABERABERABEehjApLVPm58VV0EREAEREAEREAEqk5Aslr1FtLxiYAIiIAIiIAIiEAfE5Cs9nHjq+oiIAIiIAIiIAIiUHUCMyKrHJ6JwzHZIZk4HBXHG+UwTpyr9BcD2+48Dzg8lz03qn5x6PhEQAREQAREQAS2PYGuyCrHTeXYohwMn+OLqvQXA9vuPA8kq9v+otcRiIAIiIAIiEAvEZCsSp5n/MeDZLWX/iXoWEVABERABESgWgQkq5JVyWq1rkkdjQiIgAiIgAiIwDQCklXJqmR12gWhRREQAREQAREQgWoRkKxKViWr1bomdTQiIAIiIAIiIALTCHRVVn3fN52s2NmKnazsnMt+EMCPI3hRiICFy4GPMI4QcF8rlWGEaHqx6ys6t3XkfPpyT3YyY7sFIeIwmixBiDAITXvYunmeh4B1jaOptgtN27K+6mA17crTogiIgAiIgAiIwGYR6Lqs1ut1tNttcBgj13XNMFZ+GGKkUYOf5xhq1TDmtuBnKVaNDCHMMiOxFFYjeFaUrLDa9RWcc8imtXX0fVDWWZrN5oxHM2dEhjmig+shcn1Eno8kCNGqN5BEsakTRXXl6lVoeS6CJEaQJWgFPtzAN/WVrG7WNamdREAEREAEREAEphHoqqxSoFqtFmq1mpFVyg3lreU6cOIIv37wAVz6i59g/hOPYcJ3MNJqYLRV71lZpZizJ/zg4KCpM+X1mmuuwfj4eM/KqttsY2JwGH7bRZ5m+OlVV+OySy/Dd7/7Xdxx5x1wfA9JkaPm8AdHgrrnoO25ktVpF50WRUAEREAEREAENp9AV2WVDwNwHAeNRsOMt8llRh7jJMFou4H37L4z3v7v/4Kr/+daDDVrqPkOmoHXs7LKW+OsHwWd0jp79mxsv/32ePDBB3tWViM3AIW1MTaB39w/H/t/dj9cfeVV4In0xYO+iEcWPoam52JgbARuHMGJQiOwSgPY/ItSe4qACIiACIiACKwj0FVZpbBQ3ihxHBye6QCUuLwscd2vfolXvO7V+JvtXouf3vg/GG7V4WUJ2knYs7LKqPHw8LAR0yeffBJHHXUU3vzmN2PevHm9KatBiLHBEURegMboOL55+hk45cSTsGbVaqxYsQInnHgCrr/xBiOrDc8BS81tK7K67nrTkgiIgAiIgAiIwBYS6Kqs8rY/S57nJg2Assr8zfvmP4B3vHN7vGf3XfD2Hf4NF19zBVaOD8NJI6wZH+1ZWZ2YmDCPmH3uuedwzDHH4Morr8Tee++NBx54oGdllZLqNh0sX/wc9vvUp/H0408gTVLTptdedy1OP/ss1NstBGliRHW83ZSsbuFFqd1FQAREQAREQATWEei6rDLayM5VlFZGWBmR+9IhB+OzB30BF1zxI/zjO7c3easuO+eEAeKy7FlZZdoDUwB+9rOf4dxzz8VDDz2Ez33uc7jjjjt6U1bDCGWSIXZ8PP/sEuz2wZ3x+ILHMDw4ZH503DpnDg494nAMjY/BS6KpNIBAaQDrrjctiYAIiIAIiIAIbCGBrsoqb/kzDYCiys5HFFeK3If33ANz77sLtz1wN16z3WtxyTVXoBWHWDMxiqgselZWWc+5c+di1qxZWLBggelo9elPfxpz5swxebvsHc9OV+RAsaW8k9GM9OR/KUZLCEOkQWRkdWjVGuz1oQ/j0d88hGajYaT8rrvvwjHHfwMrB9agHfoI8wxN31NkdQsvSu0uAiIgAiIgAiKwjkBXZZViZiOqlNWVK1eC8vZ3222HXffeEzvu8h/48796BT6w5+6Yfdc8NCMfUZn3rKyyvpdccgne8pa3YK+99sJHP/pRvOlNb8Khhx6Khx9+2AgrRZWFObyUVS5XWVaLJEcaxHj+mcX4yIf2wG/uf8AINiPIt/zqFhx/0olYPTRo0gDcOEQ7CjR01brrTUsiIAIiIAIiIAJbSKCrskoJY56qjSIuWbIEBx98MF7/hu3wf17x5/ijP/1j/K8//l/4k//3f+Pc738XI+06hurjPSurIyMjZpiq+fPn45lnnsFTTz2F3XffHT/60Y+wePFiI3lkQS7M46XIs1RWVoMQq55fgTIr4bccnHbSLFz2wx8hnarDN8/5Fi686HtwQz7gITY5q0GewAsno8UaZ3ULr07tLgIiIAIiIAIiYEYc+su//MsXJfEH62/9oz/6I9x9993rr177uixLdDodUxgxpKQwakgJ47BVVs6YEjA6OopFTzyBZ1Y+j7kP3ovX/P3f4aIrL8WE58DLUnhp0rOyam/z24cADAwM4MMf/jCeffZZkJGNppIJ+XD/yooq0wjCCEWawxmvw2+2cfvsOfivj++D2bf8Cpdffjm+dPDBeOzxRYjzDIPjo5PDVkXKWV17YWhBBERABERABERgiwl0NbLKKCJzMnl7nHM73mpWFGjFAeY9Mh+HHXcU7l/4CGqBizGnhQk+zWrqkatG5HroCVZjY2Nr81AZMaW0nnTSSVi4cKEZb5brePuchUx6QVazKMH4mkHzUIA4iHDxRd/HEYcdjv333x83/fImrB4cMLLa9F14aWzGyXX9yWgx60dBtz9ktvhs1RtEQAREQAREQAT6jkBXZZWCykJJYySRDwUwr3mbuCiwbHwYrTjCqNPESLuBVhSi5rV7WlYpZ8zP5VOsOAoChZV1ZjoE81MpcCzkwXWVTgMIQ4Rt13SworQ6zRaSMILneuAwXa12G0NjowiSBAnr7U091EFpAH33j0UVFgEREAEREIGXikBXZZW3/SlqFDbKGaOJfPQqcxrrroN64OOhJxdhqD6Bgdo46l4bbg8/FIB1pHzaTlTMYWX9GUlllJhyagWV+3Eb31PZVIAwRBJEcBstpGGE+ti4kdXBgUGTczs+MYG266LWaqLWaoHR1SCN4UeTdVJk9aW6bPU5IiACIiACItA/BLoqq1bc7JwSZ5ddz4MT+Ki1m2ZcTj5jnrePvcCHN9Vj3kpfL81t/XjMlPXpdeY2W3qiTp6PwPPhu97aue9N1ouibYYlYz29ybZz2XaBDz+YHOFAsto//1hUUxEQAREQARF4qQh0VVZt5JDRQ5X+YcB2Z7RYsvpSXbb6HBEQAREQARHoHwKSVYnzjP9wkKz2zz8U1VQEREAEREAEXmoCXZVVe8tb83W3//uBBVMcFFl9qS9dfZ4IiIAIiIAI9AcByeq0vNF+EMdtUUfJan/8M1EtRUAEREAERGAmCHRVVpmnyrFWVfqLgdIAZuLS1WeKgAiIgAiIQH8Q6IqscnxRCio72NgB4TWffMJXP3CwP054HuihAP3xj0W1FAEREAEREIGXisCMyOpLdXD6HBEQAREQAREQAREQgf4mIFnt7/ZX7UVABERABERABESg0gQkq5VuHh2cCIiACIiACIiACPQ3Aclqf7e/ai8CIiACIiACIiAClSYgWa108+jgREAEREAEREAERKC/CcyQrJYAWCanDoDpxaztlECnWFvYK96+a/q+dtl+lubbkIBtjPXn6x3S+pv5WpMIiIAIiIAIiIAIbA2BmZHVTgZ0cqOoFJViWsmLElmaoCxSZH4TZdRC4jcwUashLksEWQ4nTJF2gHrbRd7pmPevEx6rtJyvW7s1lZ/p9+R5bh5lShHnE5z4evowXvx+vmbhxGGdWKo6sR5FmgFFB2kUIw5ClHkBz3HNsGRFWcLzPbiBjyCO0XDa4FlQ/ZaqKnEdlwiIgAiIgAiIwAzJagIYYS2NTlK/KC0ZZafTQRL5KPMQuTOKpLYSF57+Deyyy6547XZvxd+98e044tiTsXqshpobISlLI6sUnsmpd2S1LEvw6U2XXXYZ3vnOd+Kf//mfscMOO+DYY4+F4zhrxxylrFJk7ZirtqZVm1tZ9RstRH4Ir+3grNNOx64774J/+7d/w3nnn496s4k4zxBkCdw4gpfEyIq84j8rqkZaxyMCIiACIiACImAJdFVW4zxHQikrcxSRgyJuwK+twCH7fgR/8/+/Gu/d7SN4/6574thTz8YTS1fCzwsEee/KKuWu0Whg1qxZuOiii4ygcoD8Wq1mJNYKKqWWkdcqR1V5whiZTnN04gxFmuP6X1yLffb+KJYueQ4LFy7EUUcfjVtunY2YD4EoCiOrUZGZHyjVjoHby0FzERABERABERCBqhHoqqwyulp0KD0FEreOxB3Dqmcfwj67vBfvfte7cd6PrsDPfnkrhupNOHGKZhAjnkoD6MXIKsW0Xq/j5JNPxg033GDanhFVyikLZdUuM7rK5SpPlNU8iFBGKbyWgyMPPwLzbpuLwPcnI8hXXI6zz/kWvChEUk7KasCUj8onbFSZuo5NBERABERABPqbQNdlNWCuYxSgk4dA7uLRe3+F92//D3jZy16OP/zfr8SrX/9WfOcHl2Go0e55WWW0dMWKFfjYxz6GvfbaC4cccgjOOussE221+amUVBtRteJa1VOSslomGco4hdNo4UO77oZlzy3FxPiEiRpfe921+N4Pvg83DNH0XDATl9JadCbTQapaLx2XCIiACIiACIhAdQl0XVajJDUdrIL2BNLWEG68/EK87bWvwllnfws3z7sLH//MF/GuD34YDz3+JBIAA2MTPZuzysjpvHnzjKgyb3X+/Pk488wzsf/++xuJtbmqlFpOaZqaaGtlTxdGxbMSXq2JlUuX4WN77oU1q1ZjZHjEyOqtc+bgkMMPw1ijbmTViUPETPnodJSzWtlG1YGJgAiIgAiIQLUJdFVWgySD64co8gxefQRl1EB9zdNYtmg+xicm0IhinHX+JXj9P2yPa2+eCy8tEBe9m7MahqHJRWWOKsWVMrp06VIcd9xxmD17NoIgMHmgTA1g1JJpAxTYqk6dsoPG6ASKtMDAytXYbaed8chvHkJZlObY590xD18/5mg02m34SWxyVmOOcCBZrWqT6rhEQAREQAREoPIEuiqrzFltNNuIwgBZ0ELUHMJ3Tz0K73j9q3DHHXdiqOniuFO+hbe+YwfMvfdB+FmBqJwcumpdNieXbKl2tx3KKkV10aJFaLfbGBsbQ6vVwimnnIIbb7zRyCrlNI7jtSMBUFqrOvHYQsdDHMTwm22Tszrnll8hSzMj4tf85Ce47MorMN6sY7zZQJhnGG81kGSpIqtVbVQdlwiIgAiIgAhUnEBXZTXlOJxBZNIAkAUokybun/0zvOdtb8Dn9vs8vnLMLOy4y1444MtfxzPL18CJM4Q9PBoAc1AfeOABfOELX8ATTzxhhPXRRx81OazLly830VY7CgD3Ze5qlWUVjJDmJcokh9ts4+LvXoRZJ5yI4aFhrFmzBt84/nj88NIfI2SEGB00Aw/twFcHq4r/E9DhiYAIiIAIiECVCXRVVpOiRJqXSKMQnSIC0jbc+kp875sn4a9e+Vf4q9e9BTv8x+64Zd69cNPM5Kz28tBVvL3P0QAuv/xyfP7zn8cnP/lJ08lqzpw55nY/5ZSySkG1aQJVPll4nEHbRdhyEQcRBlauwuGHHIpP7/spfPSjH8XRxxyNZStXIkhiNDwHUZHDiyPkpTpYVblddWwiIAIiIAIiUGUCXZXVrDM5dFXgts1DAUpnFKU/gtrAYixYsACPLVmKR55ainacoOZFCPICYdG7aQC2A1Wz2cQzzzyDp59+GjfddBNc1zXnhB0RgFFVm99a5ZOFslokOdIghltvIoliE1Vd/OxiPPnkkxgaGkJaFBir18xDAeJOYYRVowFUuVV1bCIgAiIgAiJQbQJdldV1kdUAZREhC2qI6ivRydpmIHkv7yDqdOBmBcac0Mhq3OM5qxRW5qkygkpppaAyR5WdqSh/drgqbuf6Kk883tDx0ck7KJkOkBXmcautRtOMBpDx8bLsWBUGZsgqL4tN3irjqtXNxK0ycR2bCIiACIiACIhA92WVqQAc0ih0gMwFwnF0KK1RhKFWaDpU+UXHzIOsRJAVPTt0FUWUj1ulhFJaGT3l7X6mBnBkAHNbfWpEAO7LbVxX2akDlBnTOBJTYj9AHIRmNAAKedt1EGcpMuYm81GrcYS0U2o0gMo2qA5MBERABERABKpPYIZkNQc6hXluEdXL9t3n06tYcoqb7wJlAmQ+OomLsizQCiIkZQdx3kFadpBy2CpGH3/rCUj8xOmlupCtrPIIKaeMqnKyEVXO7UgAdn3VZbXIC5Ov2ilKcCirJE5MvUykGB0kaWLajHmqSZ4hZ/tp6CrT7vojAiIgAiIgAiKw5QRmSFatTE4ekH1l52YtI4idcm2hpNntG5pvedX0jpecwIYahuvWmza023q76KUIiIAIiIAIiIAIbBaBmZHVqeihEVBKqIoYbOAc2KwzVDuJgAiIgAiIgAj0NYEZlVXeBuetb+Zistjb4H1NvA8rP739eQ7wvKh0ukMftpGqLAIiIAIiIAJVJTCjsmpFlZ2L7KNEFWXtv0gz83VZ7FBektWq/jvQcYmACIiACIhA9QjMuKxaUWVPeNsrnutU+ocBR3pgsT9YJKvV+0egIxIBERABERCBqhKYcVllRI2SGgSBGcaJQzmp9B+D6T9WJKtV/Xeg4xIBERABERCB6hGYEVm1MsI58xUZUbOySmlR6S8G/HHCNud5wPPBnh/Vuxx0RCIgAiIgAiIgAlUjMKOyyvxU5q0yukpZobDaW8KaT94a7wcOtt15HvB8sHnLVbsYdDwiIAIiIAIiIALVIyBZncqn7Adp3FZ1lKxW78LXEYmACIiACIhArxCQrEpWZzzaLVntlX8HOk4REAEREAERqB4ByapkVbJavetSRyQCIiACIiACIjBFQLI6o7IaIopsebEcVbuPnb/YvttwWxgh2lBZj2EYRZheFFnV/xsREAEREAEREIGtJdBVWWWvcOZNuq67ds5hrVqtFmbPno2f/exnuOuuu8zQVuyQ5Xme6Zi1rXItf7fvDRGELpIkxPj4KG6//XZcf/0NuPHGm9FoOAiDGEmSwXNZxwBxzKG9HASBNyW421BK15PPtRzCCEkUw2s7CP0AaZxg0WMLcd111+HnP/85nnzySdOuHocpi0IEcQTH9+B6rFNkOtqpg9XWXqp6nwiIgAiIgAj0J4Guyirlk3LabDbNMEb1eh0jIyP4wQ9+gFe/+tV45StfiTe+8Y24/vrr4TgUt14ePSBAFLtYs2YZLrnkIhx88ME49ZQzse9/fw7fPvciTIy3kSYFJibqRlCTxIPj1uAHToVlNUTgeAjaHkLPx5OLnsBXDz8CB3x+f3zpS1/CN44/HkuXPQ8n8OEEAWrtFpq+C8ef/HGi0QD685+Mai0CIiACIiACvwuBrsoq5dMOY0UZpbzecsstePOb34xDDjkEV199NXbYYQd8/vOfx6pVq8yYnIy6ro3sbSziV8n1AYKghbvunotPf/q/cOeddyKJU9x7z0P42N6fxqoVo/DcBM2mgzD04XqU1qaJsE6mDlQxshqiNVFHmRZw6k2cdtLJOH3WKVi+bDlGR0dx5NeOxOVXXQk3DNAOfAyMjSIqMvjR5I8OyervcqnqvSIgAiIgAiLQnwS6Kqv2ln+73TapABTWM888EzvttBMef/xxIzz33HMPnn/+ebOdg8fblIHeE9YAjJZeceUPccAB+5u6DQ+No1F3sGbVEJx2hCwtEUUJ8iJF25mAHzQqL6th20Xc9jCyegBf+sKBeOCee9GsN0z9fnDxD3Du+edhpDaOuttGK/BRc1pouYwWKw2gP//FqNYiIAIiIAIi8LsR6KqsUliYAkBppYQ2Gg0ce+yx+OAHP4jtttsOL3vZy7DHHntg/vz5JgVgaGioh1MBAjRbY/jhj76HLx50AE444QTssMP78P4dd8VPr7kR7VaAKMzRajnI8gRR7BhZjaIq56yGSLwQRZRieNUa7LTj+/Hobx5CkRcmbeO+++/HUccda2TViQJ4SYSa00bbUxrA73aZ6t0iIAIiIAIi0L8EuiqrvO3PVAB2sqGo1mo1nHTSSUZS99xzT3z2s5/Fm970Juyzzz5Yvnw5BgYGTG5r70VVeQs/QKs9jtPPOBGf/sxkGkCz4WD+/Y9in499Fr95cJER1vHxGlyvjTQLEIRNhCHFjqMCVDENIEKZZEgcDyuWLMV/fnBnLHjoYXiOi4mJCdx511044KAvYqxeR5RnGK5PoOl7pqOVIqv9+09GNRcBERABERCB34VAV2WVosoRASitlBfmOc6aNQtvf/vbsWDBAjCSetxxx+F973ufia5Sans5DaDeGMZF3/8OzjjzFDQadTQbLYwM1/G1r56Aq6+6Dq4TwPMCNBoTpjOW69Xg+e1Ky2oWxvAbLaxZvhL77fspPPLgbzA0OGja9NY5c3DGN8/G8ytXwAkDNAMPNbcNL5gcBUI5q7/Lpar3ioAIiIAIiEB/Eui6rFJY7agAjK7+8Ic/xPbbb4+5c+ea6Nx+++2HD3zgA1i0aJGJqjKvtZJRxk1GPpkGMIqbb7kOR37tcIyMDGN8rIGJsQaO+tpJuOXmeWg1PTN8VbvdRJy48Px6D8hqAq/ewsjAEI4+8mu45sqrEAaBGWLs3G+fi2+ffx7GG3WsHhmCl8Woew5cX0NX9ee/F9VaBERABERABH53Al2XVear2ugqx1J94IEHcMABB+B1r3sdXvva1+JVr3qVyWPlkFa8tczoaq/KKjtY3XX3bTj1tJNx3333YdHCp/Cdb1+Evfb4Lzz79AqEQYIw5DizDSSpb9IAqj10VYQ0iNAYGUee5vjxJT/Evp/4JO6/737MmTMHn99/f8y76060fQ8rBtcgKvKp0QAm0xoUWf3dL1h9ggiIgAiIgAj0G4GuyirlNEkSE1nliAB5npuOOQ899BD2339/7Lrrrjj++OPNaABZloHjsFJwelVWw6hthqN69tmnzDiru+zyn/jSQUdg+fPD8L0URQ64rv/bslrxNIAkiLBqyfNwGi0z1upVl1+BPT68Bz7+8Y/jF9f+wvT89/kwgDAwKQDN0IMXauiqfvvHovqKgAiIgAiIwEtFoOuyaiOrlFUKaafTMZ2uOEoAO1wx6mojr9zO/XpVVnlbf3h4JcLIg+t6yLMcw0MTCLwMadxBEnNoLtbXRZYHk2kAHseVrWgHqyDE6OAwsiCG22jBa7XNk6zYwYrt57guBkaGkeQ5vDjCEIew8h24yll9qa5XfY4IiIAIiIAI9B2BbSKrjLBSSCmuNnLK15RVbmOe6tjYmFlmjmuvymqa+ebBAEE4+TQuPmK11QwwNtKE207NQwF8P0KSROC+lFu/ypHVIMTEyBjCtofG2AQiL0AchGg1OIpBiDhJsGpgDWJGxd22KRwNQENX9d3/FVVYBERABERABF4yAttMVik3lFBKKuWUUjo+Pm7mfBgA17MDFtMGelVWly1/FhO1IaRZaOrVbvkI/AyBF6+V1TBk/QKEkYMoZhS5yuOsRijSHM54HV7LQewHGFy1GmMjo+aHRxTHRlTTsjCPWXXjCA3Play+ZJerPkgEREAEREAE+o/AjMsq81IpnDZCykiqXeZ6G2XlnLf9eTuZhcu9Kal2fFQ+WjZEu11HGHqo1xtIkxRjo3XzMACmAMRRbp5g5boOPL+FLAur/wQr10O71kCWpCiz3MzZVmy/IAoxPjFhRgNI8gwTzQZangs/Cs12tjc7zDH1g0WTCIiACIiACIiACGyKwIzIqv1SCgllldLJ8VI5ZBWlpn8Kh3SyhfWOTO9/jgCwrlge0/ez66o3jxgRn1Y22pYU1Kni8cEAAR8/u05W7TmiuQiIgAiIgAiIgAi8GIGuyCpzUymqLJQWlf5iwJQOSq2GrnqxS1HbREAEREAEREAENkRgRmWVX8jbvpQUygqlRaLaX6LK9mbbM6rKKDvzkTkpDWBDl6PWiYAIiIAIiIAIrE9gxmXVpgIwurrRW8Z9lRpQvVv7M90uFFXmtdp8VZ6EktX1L0W9FgEREAEREAER2BCBGZdVfinFhLKi0p8MpkdU7UkoWbUkNBcBERABERABEXgxAl2TVUbVbGSNoqLSfwymn4iS1ek0tCwCIiACIiACIrAxAl2TVcoJ8xWtpFBcGXGzAssDtPtMF9uNHXgvrGf97MS6sV5kwMIoM7dbHtyPy9Nf2/dWZc5jszmnPH6O8mBf8xht3Wwd7P729fR6bGjd9O1aFgEREAEREAEREAES6IqsWtSUM+auWqmxc67nMgXGCg7FjjLEDjq9Otn6MWeTdaHg2XpacWV9p8t5lSWOx8ZOcvaYWR8us07sRGfrx7qynbnNll5tQx23CIiACIiACIjAtiXQVVm1YkOZ4VOr7HBWfAhAq9VCu902MmQjjpQgClCvThS46b3gbf0pp1biOKfYWfHj66pO9vg5Z904di7llXMW227cxh8ZVmI51yQCIiACIiACIiACW0Ogq7Jq5ZMCx2IjipxTcLjd7mPFZ2sqVZX3sJc9RdTKKevGdZRyCjtf2208Zgor613Vabqs8tj5moXHbMWc7WrXc5/fh3asanvouERABERABESgHwh0VVYpLjaCaAWV0kbRYXSVc67nOkqPlblebQg7GD7rzDiGRjEAACAASURBVHpZMbXSx/oxAsl6c+K86rLKOlhR5Zx1Yx3YXmw3RshtO/M199ckAiIgAiIgAiIgAltLoKuyaqNwNqpKqbEyw2XKDyOPTBGgBHHicq9OlDjWhxLKunHi3D56lstkwf3sNrufWVGxP1ay7Y8KHqsVcdaBcs51LHzNqPL0ulesOjocERABERABERCBHiDQdVmlyExG53IMDQ3ie9+7EB/60O5497vfbcp73vMeHHjggbjnnnuMyFlp7QGWLzhEiug111yDj370o6Zu73vf+/D+978fn/jEJ3D33XebnF0KoBV21rXykdW8QFmU6JQdNOsNXHnFldhzzz2x++674/LLLzciXpQlfOasdjrwfH/tD48XANIKERABERABERABEdgEgZmRVfYRWr9MHUhZ8jZyjij20G7XceZZp+It//BGbLfddvjHf/xHvPzlL8duu+2GxYsXY/Xq1Sb/cRN1qOxm3gZnhLHRaBiJGx0dxVVXXYV9993XvKacUlbtxOXpr+36qsx5bHmawW85QNnBzTfehL0+vAfarTYWLFiAz+73Wdwy+1dI8gxhmiDtlIiyFDnzW6tSCR2HCIiACIiACIhATxHouqxmGYc4itBsjqPTSRFFDqLYBVDgJz/5CRhZPeusszAxMWGErsrytqmWZsSU0VVGk5nOQFllVPX+++9f2/HKfoYV1SrX18hqnKKIUhRxilknnIgf/eBi88OEUn7FVVfix5dfhrbvIcgSJJ0SKYe2mvrtYuuquQiIgAiIgAiIgAhsLoGuyupkCgB7u+cIQgdlmSAM23C9BkZHh/GhD30Ie+21F5577rm1kre5Fanifoys8rY+czc5AsD555+Pww47zNz2p8hOF1MjglN5u1WsC4+Jx5hFCZB34NSb+Oiee+GZJ58yKQGsz51334VvnHgC6uxkBSBkhDXPJKtVbVAdlwiIgAiIgAj0AIGuyirFjZFVyipFNc/ZW5yjAfi47bZb8eY3v9ncJud+FCNG66YLXQ/w/K1DtGOPspPVmjVrsPfee+OJJ54wkdbpO7KOlD2mBVDoKzt1gDIrkAYxRtYM4j933hnPL3nOdKKikM+9/XYcctiX0XJdkwLQjgK4cSRZrWyD6sBEQAREQAREoPoEuiqrlLJOh0M4JSjKBI3mGIKwhcGhFfjYxz5iZHX58uWmBz3lh7melZa3TbQvBZTHTwm99NJLccopp5jhndhD3k6TTCZllZJe6fryYQBRgsboBIbXDGLffT6Jhx6YjyyZHO1gzm1zcOKsk00aQFIUaIYe/DSRrNrG1lwEREAEREAERGCLCXRVViltaZogTvh0IwoO8zljPPbYb/CWt7wJZ599tpE1K3AcConS2qsT68GcVRbe/r/ttttekKtKObX1rXo9eZx5lCB0PISujy/ufwDm3TYXxVQk/Iorr8T3L7kYDaeNpFMgYke6IkfBHylVr5yOTwREQAREQAREoJIEuiqrJJDnKTyvbaKrceIhTlxcd/1P8bevfQ1uv/12I3OMPFKM7LyS5DbjoGyklNHiQw45BPPmzXtBLq6V1c34uG2+i2kTP2JfOJMOcMpJJ+PHF1+CwYEBDA4O4tTTT8MNv7wJTuAjQwcpOnCiEClldpsfvQ5ABERABERABESgFwl0XVbjmJ2OJtMA/KBl0gAuuPAcvP2f3oZHH33UyBwjqhSjXs9ZZa4qo8mLFi0yKQBPPfWU6WjViycKj5ltUiY5ijhDkWRY/NTTOOkbx+OLBx5oIsdnnHkmFi99DmlZrJVVdrDS0FW92uI6bhEQAREQARHY9gS6LqtJEq+V1VZ7AlkemDSAq6663Dyqk7fMraRS9ihIvTpNdijLzJBVfMhBvV43devV+jA82slKJI5vRgXIkwyrVqzEvF/Pww033IAFjy1A2/OQlSXiIgefQRaXBYqOxlnt2TbXgYuACIiACIjANibQdVkNwwBpFpmc1TBykBeMPvLRnOz5P9kZyXZA6nVZtZ2r2NHKjrfay6kN/OHQyTtGWBlZbdcaGBsegeu4Jn0jy3PkHN5qSlbZtcpLImQcpmsbn+j6ehEQAREQAREQgd4k0HVZXdvBqpOCstp2JhBGbRNtZWcqDvdEsTO3nKc6H/UmWpjOYqwPUwGM6E2lNlS6x/+LwGYdOGwVhZVRVY4MwCda5Vlu8otTdqArciRFbsZZZWSVeatUVcnqi4DVJhEQAREQAREQgY0S6KqsUtIoq1HkodPhmKIJ0ozPjg9QFKnZRrFjJNKOtcrXvTpR7ijglG9ONi2gZ+tTduC3PeRRakYDcJothJ6PKIwmh+TKMvOoVeasmketFrl5kpVyVnu1xXXcIiACIiACIrDtCXRVVilrlFV2sEoz5qNmRlTTjENZZUbsJvdJjdgRDztb9erEW/4Ub84p6r2e1tCZklU+arXMOSQAzLzIJseHzZinWhYmFSAtS0R8glWmDla9ev7quEVABERABESgCgRmRFaLgoP/Tz0Q3s4xeVt8cqB8Rk4pcJkRVzM6AEVnWlR1cr/JHFaKXi8WijfrYQvr14v1WHvMRYlOURpBpaxyucgn68d9cltXLnfWlXID46wy6qxJBERABERABERABDZFYIZk9YXPvbfCY3M3NafQ90exbT/9ZJSsTqehZREQAREQAREQgY0RmBFZpZxMlxETdZuKMvaLoKme60TcRpinnxPTlzd2cmq9CIiACIiACIiACMy4rFJKeBuceZssvBWu0l8M2MHMpnhYSbVzXYIiIAIiIAIiIAIi8GIEZkRWKSJWRhhVpahEUWQ6GLGTkUr/MeCoCDwPeD5wsufHi52c2iYCIiACIiACIiACMyqrFBIbVeVTqdizn3OV/mLAducPFDs6wvQfM7oERUAEREAEREAERODFCMyIrNqcVUoJ8xV5G5jCwsJlFsoLo632tR2PlEIzfR3347ZeLLaOtp6sQy/Xx7YR68PC13Z5eptNX89l+yOF+/DHi2T1xS5JbRMBERABERABEZhOYMZl1UZWKWmUFsoLhbTVasHzPCMvlBgrNDbqyv1Y+AQoK0S9Nnccx0SRm82mqSsZ2OVeqwuPl8fPdmu322aZt/XZbixsU7sPX7Pu3M+2K7cpsjr90tOyCIiACIiACIjA5hDouqxSUK2AMupKIeU6ihDnFByKDl9zG+e9KHY85tHRUSOrFLZ6vW7qQjG39e+1erEtJiYmjICyjRqNhpFX1od1tG1rX/OHB9dxm2R1cy5H7SMCIiACIiACIrA+ga7K6nQhpbzwNYWHMkNJ5bIVVSs/vSZ004+XdbICx7pxGyPNvSyrtn1YLxb+oLCpG5zbaLgVVMnq+pecXouACIiACIiACGwJga7Lqo22cW6jqLydzELZYaHgMILH7Yy+ThfAXlqm2K1evdpEH1kPSipvo7PuvVQPe6z8cUEJpXBzeWBgACtXrsT4+LipG9uO+cpsP9aV4sr9rbhyu3JWt+Ty1L4iIAIiIAIiIAJdlVVKjBU1LvOWOIXuiSeewO23346bb74ZCxcuNLJDeaWs1mq1nhQ7Ch7FlJI6PDxs6vXQQw/h4Ycf7tn6sE6UVNaHdaOMDg0N4f7778fs2bOxYMECI6lsY7Yr95es6p+MCIiACIiACIjA70JgRmS1KEvwefAsfF48I2qUHAoqBYfLzUbTRFOfePxxHPiFL+A1r3kN/vRP/xTvfd978fNf/AKtdgtZnsFxHYSUpI0UG/Wr4vzpp582snbZZZfhE5/4BA444ADst99+uO2223pSWNluYRBOimgY4sknnsDRRx+NffbZx9TtzDPPBOvsuC5cz0UUR3Cn0gXYPoqs/i6Xqt4rAiIgAiIgAv1JYEZkNeuUyNExJS0LJGmKwMpqNJnj2KjVEfnB/2XvPaCjqtb+//96f5eLaMAECC2UoBCaSEkkUqX3YhTpIIo0UVSkXUqoIiIoTVB6EwIEuHQuTSAUA7zUFHgDoVwIJKSRZJgZZsbPf+1JJplJZkiBYALPrHXWnLLrZ5895zvPfvY+LPt1Ce5lyzF06FCmTJtKk2ZN+bDbR5y/fAm90UhMfByJ2kd2t6QUAZsXhaoqk7IcBwcH07dvX/bt22eeZHXw4EF69OjB7du3bazMyoKshLza8mp9lFiNfRCNyWDkUUIikyZMZM6Ps7l08RIhISGMHDWSDX5+3LkXQYImCZ3hMdFxseY/HCJWX84fGKm1EBACQkAICIGnJZArYlWLCR1/8Zi/UGL10WM9SY+SLXLxcfFER0YRG/WA6Hv3Wbt0Be5uZfnjjz+4EHwZn25d6fB+Z06cDiRJryNJpyVB+8julqRNtrjmVXGnBOnVq1cZM2aMeahc+XgqH9bevXsTFBRktlAqcapErfLRtXaTyJN10miIi3qAJjae6Ij7fNy7D7u37yAmOtrsi/rrkt/4ef48wv97m7ikRDQGPQ/1j3iYJKsBPG1HlfhCQAgIASEgBF5WAs9VrD7Sas1Wuah793msf4xRq+dqUChtmjXHxcUZl2IulK5Qjl+W/Majx4+5fT+CmxF3SNA9yrhpH5HXxaoSoWpYfPTo0cydO9c8GWnTpk3mYXOLOFUTkSwTlpSfpzrOk0JVvQhALSeW9Iio23e5FnKFj9734cjBQ0RFRpl9c3fs3MmESb5EREWSqNcSnfSQRL2OxEfJy4+JG8DL+jMj9RYCQkAICAEhkHMCz1Wsqok3Ws0jlFjVaR6REB3Lf7bvouE73jRq3IjmbVtTpWYNRk8Yx92oSLN17uEjTUahqsRrPhCrSpyp4f2dO3eaBWvHjh0ZPHgwx44dM1tSFQ/L+qtq3+Lbm5fF6mOtHu3DJP4v5ArNG79HyKXLRN6/b55wtXPXTj4bMph7D6LQmYw8SIgnNilRxGrO+6fEFAJCQAgIASHw0hN4rmLVvIRRkga9VofmYQIJsfHMnDqNt6tV51jAMcJu3uDTIYNo0LQJew7uJ0mnMwvW/GpZVVZS5aOqJladOXPG/Paqw4cPM2jQIA4dOmQ+VmEsk8+UJVaJ1rwsVh9Gx2LQPua/12/QrmUrLl+4aJ50peqwb/9/+Gbkt4TfvmX+MxGd+BC1Kf9VVSexrL70vzcCQAgIASEgBIRAtgk8V7GqfDLjY+N4GBuHJiGR+3cimDJuAuVLl2H//v3cuPNfBgwZRL2G9dn5n71msXo/NjrfWlaVz+rmzZsZOHCg2ZKqBF14eDgK+po1a8zrk1pEnGKjxLz6ztNi9UEsuodJxNyLZPQ3I/jtl0XodXqz/+3KVatY+Otibt29Q0R0FPFaDfE6jYjVbHdLiSAEhIAQEAJCQAhYCDxXsaqWn1JW1ciIe+bvB3fv4f/7Bt6uWo2KFSviWd8blxLF6fyhD8FhV3lkfExUfGy+FatKnKo1SLt27WoW42rtWGVRbdSoEQEBAeaZ/0qcKuuq+laTrSwL6OdJwarR8FijIyEqBl2iho3rfqdDm7Y8iHpgXiv34/798f/3NhK1WiLjYkgy6M2W1Ti1jJVYVi19Tr6FgBAQAkJACAiBbBB4rmJVTSBKiH+INkmDNjEJ02MjMfei2LJhI40bN6ZytSr0H/gZ54MvozUazEPJGvVGq3w6wUq92UmJzwMHDtClSxeqVavGkCFDzC4BluF+JWgtmxJ0aj9PCtWUCVaJMXE8TnyEyWDi3p27zJvzE+81bkLDhg354cdZ3IuKTF5yLPEhWpOR6ISHiFjNRo+UoEJACAgBISAEhIANgecqVpX1UKfVYdDpiYmMIinuIYZHeh5E3EetFKCGjh/Ex5mFamxignklgMjYmHwrVtXbq5T4jI6ONk9AUhZUJdjVm7nyrCBVotTRpoR0fAIPI6PN36od1Z8OnVZrrt+DmGgeG43EJyVyJ+o+sZpE84oA8YnJrg3is2rT9+RACAgBISAEhIAQyAKB5ypW4+LjSFIWVaOJhNg44iIf8DjpEQatnrj4eOIfJZnX5lTfDx7GEZuUgOZx/rWsKnFq8UONiYlJXQFAuQM4FISOhGJeOK+swPEJPIp9aHYD0D/SkajWzX3wwCzCExITiY6L4170A7MbQJw2CY3xsawGkIWOKEGEgBAQAkJACAgB+wSeq1i1uAE8Vha5JA2auIfo4hN5+CDZ8qjWVtWbTCQ91pm3h1oN92Ie5FvLqhKraoa/xcJqWUc1T/ulPkkUq7eQRceaXwrw6GGiefkxg/4x2kePzKI8JjaWB3GxaHQ6lPvGg8R48ySrRFkNwH7vk7NCQAgIASEgBIRApgSeq1hV1kQ1wSox/iEPY2LRJz3CpDPwWPPIbJlTM///G3nP7A6g/FR1RiNxmsR8K1ZjY2PNw+OWGf7KT1W5BKi1V/OrZdX4SIdBTbKKjiXyboT5bWRR9yPN9dLqdGgf69Gq16wmxHM3OoqYpARErGbaDyWAEBACQkAICAEh4IDA8xerOr35vfKPEpPMLgCPk7RmNwBlfVSW1USd1mxVVSI1JiGeBK3G7qtW88NLAVSd1KZ8NZWfqnprlfJhVcf5VazG3n+A6ZEe42MDBt1js0uH4bHBXL+HCQ/Nr1aNjIk2r+LwUPvIbFlNSJLXrTrof3JaCAgBISAEhIAQyIRArojVx5gw8BeGv0zoDI9RFrckTZJ5qFgNgathY7U2p3IFUBbW+OhYs2X1QWxM8nvk9TrzDPKomGjzsVpU3tGWmJRkXkhfWS3z2qYsqmbXh5RlqSy+qup8XitrlsqTmGRuM/0jrdlXNfZBNBrzBCuduW016rWqOi0PExPNr8J99FhPzMN44hOSX3xgcYkwmUz89ddfmdyaclkICAEhIASEgBAQApjXpy9atOgTUfx/6a/+4x//MK8Xmv685VjJENNff2EwGtGrYWGtNlWcKbFq2ZKUqEnZLOcS1es5s7pZpZUaX86l8s0NJpb2snw7zMOqDZUQVhZldR8owS5i1dJT5FsICAEhIASEgBDIjECuWFZVpspyZjQazeJEWdQsw95KsMj2cjFQba/aXN0HIlYz65JyXQgIASEgBISAELAmkOtiVflsKoGi/DTVZvHjlO9kf9aXgYOl7dV9oOorllXrLij7QkAICAEhIASEwJMI5KpYVdZVJUyUhdWyqXOyvVwMLG2v7gWLUFX3gHyEgBAQAkJACAgBIZAZgVwTq5aMRZi+XMI0K+1tuTfkWwgIASEgBISAEBACmRHIFbHqyGqmzlusa/KdbGV8GTg4uh8yuznluhAQAkJACAgBISAEnqtYtQgzJV4sM8QtAlYtoK+uK59GNRFH7atJOeotUCpMft6Ur6baLPVWdUtfH0vd7V1LH/bvPFblUz6olvqoNlLHqkwW31QVRk2qsoRR1+QjBISAEBACQkAICIGcEMgVseqoIEq0KCGqBKjyY1TH6lsta2QRdBahqgSPRbg5Si+vn1cvAVD1UyJO1UUt86TEuKqr9cQqSz0Vj7ws7FTZ1LqxlnKqb0vZVT3VHxDVftbXVd3VNfkIASEgBISAEBACQiAnBJ6rWFUFVOJFiRolctS+sswpMaM29ZYn62MVXomf/PpRolTVUYlUVT/LsaqnRaxahKvikR8+SohaBLfat7SdqodFuFr2VX3UvgojHyEgBISAEBACQkAI5ITAcxWrSsxYRJlFtFoEqxKwFsujRcgpMaTO59ePGgpXYlvVQYk29YmJiTELWEudFA/r+lrO58Vv1R6qPqouqt3UpqziSoyqPxmqvuqjXDrUNRVebfIRAkJACAgBISAEhEBOCTxXsWoRZUqgKQGnRI569ei2bdsYOHAgH3/8McuWLePBgwdmUatET34WO6rsqs7/+7//y/Dhw/noo4+YNWuWWchZRLtqOMVBibu8boFU9VFtoj5KnKpNCVfl7uDv78+5c+fM9bX4H6v6qPrn5zbMaceSeEJACAgBISAEhMCzIfBcxaoSLWpTIsYiZE6cOEGzZs145ZVXeO2116hSpQp+fn5mEfTf//43eWhZvRHLwfZsMOROKqqOx44dY9iwYWYxp/Y3bNjA9OnTzaJPCT0LD2WxVOHz8keVVYlPJVKjo6PNVla1P2fOHNq3b8/WrVvN55S1VX1UnSwW1rxcLymbEBACQkAICAEhkHcJPFexqjAoQaasikrEhIeHM2LECNzd3Tl0+DAPoqPp2u0j2nfswP+FhaF9rOex0YDy5nS05eVBZjUsHhAQwGeffcbt27fNAlWJvAkTJhASEmK2Livxp5goYaf28/JHiVUlsFVZVRuqOn311Ve89957dOvWjYMHD5rPKwGrrlvEal6uk5RNCAgBISAEhIAQyNsEnrtYVX6pSqgq3021KsCYMWPweseLi5cvc/POf5k64zsaNX2PC0GXSdLr0KmhZLC7KQGbl8WqEm2rV69m5MiRqZZINZteidW9e/eararKDcIi3vODWFUC3CKur169yubNm/nzzz/N1mKLWFX1UeHUt9rkIwSEgBAQAkJACAiBnBJ47mJVWeaU2FGCVQ0XKx/VcuXLmS2q3fv0omGz96hUrQqHjh7lMX+RoH1kV6gqAZsfxKoSpcr6qASdqrdyBWjcuDHr1q0zWykVA2WxVKLOwianjfk84ilBrf5wKDGq2lCJb2Vh9fX1TbWsilh9Hi0heQgBISAEhIAQeDkIPFexqoSOxU/TItBu3LjBzB9mUqJkCcq4l6fWO568Vbc2hwKSxaqyruZXy6qyHisxt2jRIlq2bEnbtm3N/p1Dhw5lzZo15mFyNVSuRKzioSyxSgDm1Y8qoyqfsgardlSiVE2UU2J13LhxIlbzasNJuYSAEBACQkAI5GMCz1WsWgSq+lYiVX1HRERw/sIFrl4LI+zGDXynT6VNpw6cC7qEzmQ0uwLkV7GqxLmyQN67dw81ZH769Gn+7//+jz59+nD8+HGzSLWEUd9KuCoRmFc/lvZTZVVCVR0rV467d++KZTWvNpqUSwgIASEgBIRAPifwXMWqRZgpS6Ja3kgdK5/Het71mDVnNstWr6RZ65YMHjaUyLiYfO8GoMTnpUuX6Nu3L6dOnTJbIX///Xc+//xzsw+rRfApi6raFA/FJi9/VPmUAFfWVYsVWK3aMHbsWLGs5uWGk7IJASEgBISAEMinBJ6rWFVCRwkcy+QbNYSsrI0f9/+Y15xeo8BrhWjauiX/OXwIrdFgnlylvvOrZVW9qUoNkc+YMcMs5tRQuZps9Z///McsSpXgs1gpFRPFRwnYvPpRllTVfkqEW8S1OlZ1HD16tIjVvNpwUi4hIASEgBAQAvmYwHMVqxZOSuwoUaa+lUALv3GDVWvX8tvyZfz5v2fNw/+P1duS1CtK1dqe+XQ1ACXulKhTw+QbN25k8eLFXL582Sz4VP3VNVV/Fc4iWtV+Xv2osqV3U1BiVf3pCAwMRFlYVRhLfSz7ebU+Ui4hIASEgBAQAkIg7xP4W8RqeixKnqnBb0ei1NH5vL4aQPp6yrEQEAJCQAgIASEgBIRA9giIWM0eLwktBISAEBACQkAICAEh8BwJiFh9jrAlKyEgBISAEBACQkAICIHsERCxmj1eEloICAEhIASEgBAQAkLgORIQsfocYUtWQkAICAEhIASEgBAQAtkjkCfEavaKLKGFgBAQAkJACAgBISAEXhYCIlZflpaWegoBISAEhIAQEAJCIB8SELGaDxtNiiwEhIAQEAJCQAgIgZeFgIjVl6WlpZ5CQAgIASEgBISAEMiHBESs5sNGkyILASEgBISAEBACQuBlISBi9WVpaamnEBACQkAICAEhIATyIQERq/mw0aTIQkAICAEhIASEgBB4WQiIWH1ZWlrqKQSEgBAQAkJACAiBfEhAxGo+bDQpshAQAkJACAgBISAEXhYCIlZflpaWegoBISAEhIAQEAJCIB8SELGaDxtNiiwEhIAQEAJCQAgIgZeFgIjVl6WlpZ5CQAgIASEgBISAEMiHBESs5sNGkyILASEgBISAEBACQuBlISBi9WVpaamnEBACQkAICAEhIATyIQERq/mw0XJaZEPwVuauDOC+ycClJYP5ZF5gTpOSeEJACAgBISAEhIAQeC4ERKzmELPJaHxyTONdTu86SFCs6cnhHFw1RV5g77atbN3qePv3kask2sQ3cGFaI1xdXHCxbM5FeNX5A9bEg2ZNF5xqjueMQcehzytSst+/bWLLgRAQAkJACAgBISAE8hqBPCpWjVzd4MuCAE1e42Uuj/H6Alo6u/LR+mjH5dNsonvRaow6pXcc5glXDBd/Y3C3rnTtan/r8k5pCtabTkgmmll3cChvVB3Bcf3TiFUD55eN4F/rr5CcnTr+ms8GDGDAZ58xcPDnfD12Ogs3HOV6Ys7E+RNQyCUhIASEgBAQAkLgJSaQR8WqgctTGtBlWVweaJp4Dk15n4HLb6QINSDpAqt9p+F/1eC4fE8pVh0nrK6YiFzcGqdMxWo8uwZUpNKwQ2h5GrGqZVvfErzxxWF05oKpY1dKtZ3IyjVrWL3iN+ZOH0m/5pUoWupdvth4jZxJ9CfXWq4KASEgBISAEBACLx+BPCZWDVyc0RbPjkMY19uTd/qOY0CrBny+LeHvaxnTXRY0d6L+zLA0sZqV0uQBsRp/ZCS1Szbj59Bke6hyA3jlH4V43cWFIq/8A9csuwHYE6vW4tUCREvY2j5Uer02407mTau4paTyLQSEgBAQAkJACOQPAnlMrAKGeG6dW0m/6s4U9/6WnSGRaLM6sqy/yf6fhuHT1Itadbxp3e9HjkSbMF7fyLjPF/KnlbnPdH830wb/wEGz8dZE7NlVjO7eDK+3a1K7XnM+XRaMXoUZ0IOGbgUoVa8r/T/5nMVn9GA4x5Lho1kbarGsmog7v4Yx3ZvjVbsO9TsMYcGh3+iW6gaQRMB3nWg+xI/bWa3LE+8fExELmuPU4AfCHLgBxJ+eQzs3NzosCsFSypz7rGZVrKpCx7C5dxlK9NxE/BPrIBeFgBAQysI/OgAAIABJREFUAkJACAgBIZA5gbwnVtFydnpzmk48wMZP69N3YwRZ0neGMJb5lKNU/S9ZeugioZePs3n2D2y6bkR/ahTVnD9kvZWxzxg2k/pOzVlw14Tx2kJal6pB/2VHCLoawtlDfqzccw1jYjB71y7k05qv4NH7J1av9SPglhG02+hb4g2+OJw8KK47P4umJd3pOHUrgSHBBG6bSTevshR9xeKzquHPOd3pNGIrEVmqTLqGM1zGf/Yyjt6zRDYSPrsxTs3mZRS/hgiO/tybt1zcaDvrFNaOFM9HrELcGh+cPZL9ZNPVRA6FgBAQAkJACAgBIZAtAnlPrJrucWDeEo4ngjHcn7m/h2TJ/zHWvzdlyvXBP9Ii6NI4ZCZWtVt6U7zsAHYlpcVJ3bPnBmAjVqP5vWsJ3hyyD2tnBV3gWN4qWDXHE6xS81c7mjV0carJ+DMWG6mBS5M9KdxxhY0YJeEI//J0xumNDkzacyvVompJ63mJVd2+QZQr/Qk7lKOsfISAEBACQkAICAEh8BQE8p5YzVFldBwY4k6Z/jvME4nSJ5GZWDXd38InbxambNOhzN0dSry13s1MrOr2Mai8G5/uSqfMNH50c7FYVtOXKJvHGcSqniPDK+M2YFe6+hq5e+4U1+yJbuVhEbqLxetPEWUycufIapYdCM9iQbLjBgBJG7tRzONrjlm5XWQxIwkmBISAEBACQkAICAEbAi+IWNWwuWcxPL4+ZtcKm5lYVURM0WdZ59ub+mULU6zuJ6wIShGfmYlVzSZ6FPXgm4B0yixXxaqRq1tm8OMOqxUKbJpVy9YB7pRwdcXV4VaSqsP22sRyfJAdsarh4OdvUqrnZvFZdQxUrggBISAEhIAQEAJZJPCCiFU9gWNqUKT1Yu5aW0VTIBjO+1L7tbb8ZrUsqv7kSKq8muyzasNKc4VlH7jh3GUl5uCZiVV9AN94ONNpRZSNb60xdAbehXLLDcCmxHYPTEYDBr0evd0tkf1Ds/NSgKyLVc25GTQu5cnEP5P9ee0WTk4KASEgBISAEBACQiCLBF4QsQqGS9/TwLkSfddfT1kLVI17a9Aog2eCP71KFKfDbymWSH0463pVpMA/UyZY3QkmJMYyrV7PRV9PnDutIMoMMZYVnQrj8U1AmtXWxmdVR8C3VSn89lfst/jL6q6ysmclXv1nmlhNCD3A9pMRmS5/ZYrey7T+fejTx2rr2YTyBYpSq1Nv2/MpYT4euY6rluJnqeGz+warzMWqLvIyu+cPor57DfquCk1rgyyVRwIJASEgBISAEBACQsA+gRdGrIKBcP+vaFimKOXrNqVFU2+qe3RgnlnF6bm8sDPlC5egRuOmeNeoS9cJg3gnZTUA7Y4BuLmU4+0GzWnZqDoVqvkw76zF8dPE7TVdcXNyo+57rRm3T5dhNQDiTzKrgztFXKvSsEUz3qnuSY950/BJXboqhpWdnShQ25cLljlS9tsDNFc45Lee9euzvvntPEeUHYuyoyzgWYjV4hR4pQguRYtStGgxSlasQ+tPprLpcpyNhdlxGeSKEBACQkAICAEhIAQyJ/ACidWUyuoiuRJ4jIDAIO6ke/WnNiKIk8dOEnw/4xC1JiKIU0ePcPz8DeIzWCmNxIYFcuxkCJHpXFPTEOuJuvInAcfPER6XIQGMsWEE3bQI4LRYf89edsXq31NKyVUICAEhIASEgBAQAi+eWJU2zQIBE3ePrWPVoRtZCCtBhIAQEAJCQAgIASHw9xEQsfr3sZechYAQEAJCQAgIASEgBDIhIGI1E0ByWQgIASEgBISAEBACQuDvIyBi9e9jLzkLASEgBISAEBACQkAIZEJAxGomgOSyEBACQkAICAEhIASEwN9HQMTq38dechYCQkAICAEhIASEgBDIhICI1UwAyWUhIASEgBAQAkJACAiBv4+AiNW/j73kLASEgBAQAkJACAgBIZAJARGrmQCSy0JACAgBISAEhIAQEAJ/HwERq38fe8lZCAgBISAEhIAQEAJCIBMCIlYzAfQyXTYEb2XuygDumwxcWjKYT+YFZrv6ptubGdVzCvsTsh0VMHAv6CQX72gzRk46yLSe3+J3M92rbI33CT55nlsa2yhJN89zMiQSkzptvInftz2YkrNC2Sb83I6SODitJ9/63SRdjTMtQfy+yfQc7c8dc+UzDZ7LAUzEhp3m9LW45Lawl1vsbnx7jMY/BwXOW3W1Vzk5JwSEgBAQAk9LQMTq0xJUWujuaXYdDCL2OYoDU+QF9m7bytatjrd/H7lKok39DFyY1ghXFxdcLJtzEV51/oA18aBZ0wWnmuM5Y9Bx6POKlOz3b5vYyQd67p32Z9H3k/CdMpsV+0KJt6q3MXgaXk5t+DXKTtTMTpkiWdzaifozwzIKtLhltHeqy6SLBttU7J43cGZ8TZy6rMGsYQ0XmVT3NdrkqFC22T27IxNx59cx4ZP3adOmM32+/YWjd61laRzL2jtRd9JF0mpsINhvCmPHjGFMhu1fzPz3dYyYiFzcGqd60wmxTu7ZFTybKWnZ9akb5QftQ+cgpunuApq/Vo/pNgXOj3V1UEE5LQSEgBAQAk9FII+KVSNXN/iyICCdueypqpp7kTWbulO02ihO6XMvj/QpGy7+xuBuXena1f7W5Z3SFMyCYNEdHMobVUdwXJ8FsWq6y46vvShZriH9Rk1huu9wPqhdGvcOP3E6RRU/nVi9zbxmr+E5NchKoKXU3K4oBeyeTxarBV4vR/UaNahRozKlChXMvlg13efAnKlsuJLcsJrQzUzs1RJvT29a9Z3KjvCcN7gmcCr1i5enne869h/ezi+DvChVZRDbIy3K355YNRK2eyE/zprFrFmzmNytKgUrdmbcD+p4NksO3nq2YlV/i72TujFkTUT62y8bxzkVqzmsqz6U9VPm8ke0hWM2iipBhYAQEAJCIE8SyKNi1cDlKQ3osiwuT0JLX6i/Q6ymL4PtcVata/HsGlCRSsMOoQbeM7Osxm7pg5vbB6yyHorXXmBGo6LUGn/aLDCfSqwm7WKA2z94vdMK7ptAf2Ye/bp0olOnTnRqV5fSBR1YVgsWoIhraUqXTttcCxegYOufCb5+neth+/jmrexaVg1c+aUj3gN3EGUCU8Qm+lSsQMcZOzl7KYCVA2tRtOZocvR/ynSHX9s6U/nzg6R6SxhvsKiNC6+6WOpQCudXCqSzrFq3ckob159JmI0FNattb51Wuv3EaxxaMpou1Zz5x//8kyY/3UgXIDuHWRSrr9Zg6IajBBw/S3gqFEs+2amridurP8Kr32buiV61AJRvISAEhEC+JpDHxKqBizPa4tlxCON6e/JO33EMaNWAz7dleHrlKej5VazGHxlJ7ZLN+Dk0We0osfrKPwrxuosLRV75B642bgA6Dg2rSMm+25KH1lNbwMSd+c1wavCDWTTlXKwaCf+1PaXcK1He6S1GHInHGHWZw3v3sGfPHvZsGYn3qw7EqlNtJpyOJykpKWWL58SYtyj07rdsVG4S/gvoXenVbFlWTXdW4vN2HzaZLZ0GLkzyxLXzCiIsAihpP0MqutLNLwd/qOLW8L5zFb49YWuZjVnVBec3h3EgTtUjgsVtX3uCWDVy/cdGvFprIufT/ATgGbgBaLf1xc2tPv1nrWFsQ6fnI1ZfcaZy/WY0a9mPRZdtKqQcbbJXV2Mw3zfxZPQJR44HqTev7AgBISAEhEA+IJDHxKqaYxPPrXMr6VfdmeLe37IzJBKtRSBkAtQUe5aVoz6imVct6jToyNCFR9n/yxeM23g9NaYp9gzLR/jQpG4tPJt2ZfTvl0lKuWq8vpFxny/kWPAWJvZohmctT5r1msbeO1amK1Mc59eMoXtzL2rXqU+HIQs49Fs3WzcAUyxnlo/Ap0ldank2pevo37mclgkbx33OwiNnWD64FZ61P2bt9aN816k5Q/xuO56EklqDrOyYiFjQPFVA2osRf3oO7dzc6LAoJHXI/cmWVQOBY9/CudMKbN1RDVya7EnhVovMQi6nYjUhcAbN3Grx7R8RnJhUn6Kl2zD7jNWfFLvD/SluAK9V58vtlwgKCkrZLrJliAf/LPsuHyg3iQ/bUrPoK9kQqwYuTvbGc8LZZDbGcGY3LkKrRRFW7ZOEfy9X3vjiMDqSCPiuE82H+HE7C/eqMWgqXk5t+S3atmX0x0fg4fwRfmbvF3tuANbhk9jWrwT/r4gPa2Ktzz8Dy2pSPAlKL5pu8FOT9GI1e3UFZVktg1uP5VwICeVKWBhhYWFcCbnEuT+PsW/3n9y6bc9n1bpO2a2riXtLO1FlwK50f6ys05R9ISAEhIAQyC8E8p5YRcvZ6c1pOvEAGz+tT9+N1gLhCVi15/i+sSvuHaeyJTCE4MBtzPzIE7eir1Bt1KnkiNpzzHyvLG/1nc++8yGc3zGZVm7u9N+WrBr0p0ZRrZA7b7fuy0+7zxFy/t+Ma1KMoh2XpogQHednNaWke0embg0kJDiQbTO74VW2KK+k+qxqOTfzPcq+1Zf5+84Tcn4Hk1u54d5/G2Y3Ov0pRlV7jeqejWk6+AcW/eJHYMSfzOneiRFbs1jX9BgMl/GfvYyjqeOeRsJnN8ap2byM4skQwdGfe/OWixttZ53C2i74ZLEKhkvf07BYVfqtDkqduBV35mfau7nRdd1ds5DLvlhNIOj34bxb+g0+XBqSPAnHFE3AjDaUda5M79Vq0pAj31Qg8d8Mf9cTT8+MW/0Ru8zuDWR3gpUxhO8a1GXcmRQLn24fg8qXY+Bea0tdsl9s4c6rSEDDn3O602nE1jTLa/o2sjo2XJpMXacOLLeGD5jvv6yK1bgt9HFzpUTxYvisvm8lopPFasECThR1dcXVrQMLb1j92bIqR6a7dsVq9uoKegKmtMZLtY+XF+/U86Z+g0Y0adqcVu064dPvZ47fyESs5qCuptvzaFH9K47aGq8zrbIEEAJCQAgIgbxHIO+JVdM9DsxbwvFEMIb7M/f3ELLyvIn+vSuubwxmn5UxDl0gY98qSFWzWDURudqHkp6+VsOmyjfWE+fOK80to8RC1YIefHU0bWKXdv9gyjt/wO9qAlH073Qt8SZDbDMxWxwLVk2eYGWKXI1PSU98rcZmDZen4OncmZUxZkXCqKoFKNndz+wL+UxuCc0aujjVZLxFXJFi7ey4wkaMknCEf3k64/RGBybtuZVqUbWUITOxqoZj7+7zpaOHK65vvI1nrYqUKFOXPgsCU/PJtlhNPMnULu0Z4X8tXTsbuX9yFwF3U0yVjiyrlsI/6dsYzpqhnRm3K/5JodKuJfnR3b03/pbbQLOZHsWqMELNQkv9GAmd4Y1Tq0Vm/9rU01nZiVpCuyK1be4RFS3RrxvF3hzCrogooqLCmd/KkRuAgcszGlCqxc/s+7EpxeqM53Tqal8pltV3pnJZq0dvUOsD5PBjV6zmMK0nRLO/GoAlQg7rqjvEMI92LE6dsGZJT76FgBAQAkIgvxHIe2I1RwR1HBhSgTKf7Ey2pKWmocGvm0uKZVXH7gFuFK7Sil59+tAnZevZuBwF6/iaY5gtW4V9WGsZslfecldm8K5TCxZGmNDtG0R5t0/ZlSoMkjPS+HXDJcWyqts9ALfCVWjVKy2PPj0bU65gHXwvGJT5jFFVX6PdEqVcn9Eng1jVc2R4ZdwGpFgWU7MxcvfcKa5Z1S/1kvLACN3F4vWniDIZuXNkNcsOhFtfttrXEnX9MpdCbhOXzr0w22LVKlXLru5+EEe3b2DVsiUsXbmebYcvcDcumB2L/Qi0O8vbRPTeafS3aldL+6Z9f8IPh20X8rLkl/7bdHc+rWp8Q4BFm2r96VXcg6+PWU6oGEaCpnrh1GF5qlBPn47DY+MVfmhQBM/J1stSRbOpZxmKlKyAu7s77u4VcH3N/gQr3aXZNCvjhW+gFrRnmVa/NO9OCkxxZ3kGbgCWgj9DsaqPDic41U3D4q6R8n0xgJ0b9xNs/UczpQw5rquyptdrwPTgHFqVLQzkWwgIASEgBP52Ai+IWNWwqUdRPL4JSGedsxarGjb3LErpDpNZu3496602vz2XzA2RPAz7IestFjUlScJmUt+pOQvumtBs6kFRDysRk9J81mJVs7knRUt3YPJa2zzW++3hklqI1ewG4MyH1pk87W2QQawaubplBj/uuJFxvVJzXlq2DnCnhBomdriVpOqwvdku2VOJVc0llg/worRrJRp26sWAwUMZMqAP779XlZIl36bXgtM4so1qrhzCz6pNrdt3/e8/0bNy1idYmSIW0rra8LQhZP1RhlcuQZ+t1v9SdPzxZSXKDtjjcP1Qx/BMxOwcROVi7/DNtjAStJH8ueBD3nyjL/5qGQTzx77PqiHcj0+qlaX1vKDUfI3XV/PRm5XpviIU7TOYYJVa7mcmVo2EzaxPwdcrUMuOu4ZnbXec/5l+nVV4qroazuPr1ZDvUiYPptZJdoSAEBACQiDfEXhBxKqeY19XNg/n20z+MYYyw7tQihuAnj/HVOf1tr869CvMTKzqA77Bw7kTK9RaRqmf5OHgQiluAPo/x1D99bb8mjptPDVg8s5zEavp8rRzaDIaMOj16O1uiewfavtSAENCFPciIrh75zY3b4RzPewqocFBXLpwjjOBJwk4cpB9By8ScTmnLwUwcGGKF851vuFgZHprmInYk740cKnCtzZD8WkV04QdwX/TJjbZ2/zm08cj62IVzRb6uHdlfaohNpqVnV2oNeFcmuuEMZw5TVxo99u9HA6za7myaQxdPN/Aze1N6nb4hnWXrf4lYUesGi4zs0kFGk88nMGFRHN5Kf07jWB3tPHZvRTgGYtVp+YLsHh1pLUcmCIX09opnVh92rrq9vDZm51ZbjP5zDpX2RcCQkAICIH8QuAFEaugPTaCqoXf5qv9Ka/YRMuV5d15s9A/U8Qq6APHU6tIdYbuiki1OGqu7mTHmeRx8czEKroAvq1amLe/2o/FFU53dSU9K73KP1PEKvpAxtcqQvWhu4iwaC7NVXbuOJM8TGtXrCYQemA7J1MjOL59TNF7mdbfysVADX33bEL5AkWp1al3qntD2vB3Hz4euY6rlrI4TtrqSvo3WBm5utCHqpU98PCoSrXqb1GzVm3qenpR792GNG7anJZtO/B+/wX8eTGnYlXL9o9LUu6zPelcOVKKpT/Bt1Vex2ddqoK0Kq+JGz814ZWSXrzfowc97G59+f6QnXFmq1RSd003mduiOsOPWCZUmYjc0I3SFfuxJWUSW+zhr6lZvicbU/64JIQeYPvJtPsqNa0c79gRq2qCvlabalG1n7R9NwDDhaUMH7XOfhRHZx2I1ezXNdmymi2x+hR1VdUxhkynQV31NjZHlZPzQkAICAEhkF8IvDBiFeI59WMnKr7uStWGLWjmVR2vPguZ7uNCjbGWd9wncmbeB1R+vSiV323Ge56VKVW6FiP2JQugTMUqEH9yFh3ci+BatSEtmr1Ddc8ezJvmY7N0VeKZeXxQ+XWKVn6XZu95UrlUaWqN2Jc8g96eWI1ZSWenAtT2vZBmuXN0B2mucMgvnYuBo+HvlPN+O89lsMQ5Sj75fHqx+uTQ1lefxg0g/tC3vF3Mgw+mbeTE1UiSDCaM2hjCT29nTr9auHoMtHrDk3WuyWLVqclP3LA2elsHyda+kfD5rXhr6IEUP1Clfm7hP6Q2JcrUpElTT9zL12fkbsvqDTGs7OxEgdq+KLfkZ/OxL1YzT9ueWDUSPM2bykMPZB7dOoRdsZqTuuZMrFoXxf6+vbqqkEZCv29ErVEn07kF2U9FzgoBISAEhEDeJvACidVk0ProqwQGHOfcjTiMpnv80tKJRrNtJwoZ465zNuAIAWeuEGkxnmWnnfRRXPkzgOPnwolzZLE0xnH9bABHAs5wJdNMjMSGBXHTwcSn7BTt2YT9e8SqWtA+5uwaJn7cDu9q7pQpURzX0uWp4tWKXqOXcOKeI9gmbi/qQEkXF1yesLk2mpZ1PHF7GVKnNfNtXg9lJPb6aY6fuMiddG1ljA0j6Jk24DMUq6Z7/Nq+DiPTvYQg6zBsQ2a/rkauz2vz5PYp0YI52TP/O34BQuIBhtVuyVybtrOtgxwJASEgBIRA/iHwwolVa/TGa/NpUbQm/zr9zMxd1sm/wPsm7h5bx6pD2X/Npnoxg//SnQRbz0XKl6RMRO/5kkYd5xKUkz80T11nPaG7l7L5TEy2fWK1wTtZ6n+OOIuVOdGfj1tOeoZW36eu3DNLIENdSeT4v5rQ/LuzmbhLPLMiSEJCQAgIASGQywReGLFqODeHXh99zcylG9i+ewfr54+kfaXi1By2M9W/NJdZSvIvHAE9N0/u5UwWfInzdNWNScTG/y2K+/ljMdzm1J5A7joywj//EkmOQkAICAEh8JQEXhixaoq7yJY5Yxjc9yPe7+JDjwGj+XlbEPEW69JTgpLoQkAICAEhIASEgBAQAs+fwAsjVp8/OslRCAgBISAEhIAQEAJCILcJiFjNbcKSvhAQAkJACAgBISAEhECOCYhYzTE6iSgEhIAQEAJCQAgIASGQ2wRErOY2YUlfCAgBISAEhIAQEAJCIMcERKzmGJ1EFAJCQAgIASEgBISAEMhtAiJWc5uwpC8EhIAQEAJCQAgIASGQYwIiVnOMTiIKASEgBISAEBACQkAI5DYBEau5TVjSFwJCQAgIASEgBISAEMgxARGrOUYnEYWAEBACQkAICAEhIARym4CI1dwmLOkLASEgBISAEBACQkAI5JiAiNUco5OIQkAICAEhIASEgBAQArlNQMRqbhOW9IWAEBACQkAICAEhIARyTEDEao7RSUQhIASEgBAQAkJACAiB3CYgYjW3CUv6QkAICAEhIASEgBAQAjkmIGI1x+gkohAQAkJACAgBISAEhEBuExCxmtuEJX0hIASEgBAQAkJACAiBHBMQsZpjdBJRCAgBISAEhIAQEAJCILcJiFjNbcKSvhAQAkJACAgBISAEhECOCYhYzTE6iSgEhIAQEAJCQAgIASGQ2wRErOY2YUlfCAgBISAEhIAQEAJCIMcERKzmGJ1EFAJCQAgIASEgBISAEMhtAiJWc5uwpC8EhIAQEAJCQAgIASGQYwIiVnOMTiIKASEgBISAEBACQkAI5DYBEau5TVjSFwJCQAgIASEgBISAEMgxARGrOUYnEYWAEBACQkAICAEhIARym4CI1dwmLOkLASEgBISAEBACQkAI5JiAiNUco5OIQkAICAEhIASEgBAQArlNQMRqbhOW9IWAEBACQkAICAEhIARyTEDEao7RSUQhIASEgBAQAkJACAiB3CYgYjW3CUv6QkAICAEhIASEgBAQAjkmIGI1x+gk4nMnYAxjzVcD+eWc4ZlkbQjeytyVAdw33GbzqJ5M2Z+Q/XSTDjKt57f43TRmO27SwWn0/NaPHETNdl4S4UUhYCRszVcM/OUcz6gXELx1LisD7mO4vZlRPaeQ/W6QxMFpPfnW7ybZ7gVP0X9elBaVeggBIZA5ARGrmTOyE8KEMdu/ynaSkVNpBOJW0qVIIQo7u+DikrYVedWJhjNDkx+C+kDG1izPZ3t0afEy2TOEbmb62DGMGZO2jft5H3dMoFnTBaea4zmjDWaalxNtfo2yk1o8l/wmMcCnLa079OTrBYe5Y60S4pbR3qkuky5anwTt6ZWMt8ozLf/xrD6nN+cTt6w9TnUnkS6qnTLIqZeDQBwruxShUGFnmz7gUuRVnBrOJNT8m6MncGxNyn+2h2z0AkI3T2eszf04jp/33cGEhjVdnKg5/gza4Gl4ObXBXjeIv+THpAE+tG3dgZ5fL+CwbSdgWXsn6k66aCugtadZOT6t36X1gTGMX30Ocy9w0H9ejvaWWgoBIZBVAs9HrCbd4PjGhcycNpWpU6cxbdYStp+NyMaPbUp14gOY/+WXLDie3gIWT8D8L/li3jHislrzHIczcn1BS5xdP2J9dI4Tef4RTfc5MGcqG67owRTNn8tG06t1ferWeYdmXb9lxdlYTA5KZbiwnG8+G8CAAWnbkJ+PkmgVXhO6mYm9WuLt6U2rvlPZEZ4syFKDaELZPLEXLb098W7Vl6k7wpMfVpYA9h5apkgWty5ESe9uKXn7ULe4W7bEqnbXp5Qp2pAh389i1qzkbbaypmZJrGo5O6MxruXaMHHtPg5t/4VBXiWo3N+fuxZY9soNKCH6atl2jPohLd/k/H9ia3CysLUVq3pC109h7h/RDtvBgsrud57oG3ZLlodOmrh/YA5TN1wx33umuPOs+VcvWr3riWeD9gz4YT+3bf9z2C+78SZbJw1m1JpgG3FmijzBoi99aOLlSf22n/L93ls293jm+cXZEX0mIhe3plBJb7ql9D+fusVxy5ZY1bLr0zIUbTiE71P6wKxZs83W1KyIVe3ZGTR2LUebiWvZd2g7vwzyokTl/vindQI75TZ3Atq/WpZ2o35I7XuWPvjT1hR26fuPPpT1U+byR7Slg9lvAjkrBITAy0Ugl8Wqlqtbvmfs5F/Yfv5eqjg1Jd7k5IbZjPvXXPbfzY6JMpE/vq5GEU9fTluZFTQnxvB24Rp8e9RaPtlpyPhDTHl/IMtvZCfPjOkkXViN7zR/rmblwZYx+t9wxsCVXzriPXAHUeoZoN3N2K4j+G33KS5fPsHG8c0o5dqBJQ64JK3z4fXqHzNv9RrWrEnefj8UltaeEZvoU7ECHWfs5OylAFYOrEXRmqMJ0KRU1RTBpj4VqdBxBjvPXiJg5UBqFa3J6NQAKQ+29BZKs1h9lco9fmS1ynfVNN6vUDbbYtWt/CD2Wd0vlgbIzLJquvMb7Z0rMWR/vCUKxvBFtCnmwdfHUhJM/7BNCWkrRFOj2+ykD2O6vZqPvPqx+V5OHtR5o29YKhh/aArvD1yOg1vKEuy5fhuu/EJH74HsMHcCHXs/96TZ8N/Ydy6Ic7tn88Gbr1N3YmCE/FHFAAAgAElEQVTqfe2ocAkHPqfSP/4fZQftSwtruMTMRsWo9OFP7DlzloOLPqaGi/U9npX8HIvVVyv34Edz/1vFtPcrUDbbYtWN8tblTa1cJpZV0x1+a+9MpSH7Se0FxnAWtSmGx9fHUupvr9wO+nRqvik7GfqPidurP8Kr32Zy1A3Spy/HQkAIvBAEclGsariwZDSTtlksaHqir57kwP4ThMWlPIwTz7N81EQ2Z+eJFrOLz94sSvO5V1OGhs8zzduZql8eTPsxddA0prsLaO5Un5lhTydWHSSfZ0+b7qzE5+0+bIp0IIL0J/i2ihOdV6U+jqzqYuLO/GYUbr/MgdXawIVJnrh2XkGEJfmk/Qyp6Eo3v2Q7t+HCJDxdO7MiLQD7h1TEtZtfWpoZHlqAWaw6UW96SI7dAJRlNadiNW6ND85VvuWEjZE4hpWdnakxJvCJw5jphagV0NTdjGGMBH/fBM/RJ9JEUGroLOzkmb5h4u6C5jjVn0me6WqmO6z0eZs+myJTLNdG7obfRJuK1UTk8o44Vx3JSZv2Tg2QvKM7y2TvSlT1cKaclfgzXJqMp1NLfklVWPFs+KgYlYYfSbGuZiU/e6Iv2bLqVG86ITl2A1CW1RyK1bg1+DhX4VvbTkDMys441xhDYPJYvmPLavo/oOlwYq/fG4P5vokno0/Y+YeZPr4cCwEh8FIQyDWxqjn1I2OWhyUPkxnDWPdpPap6NqdDq1q4VejCUstTLPEkM0cvy8ZDzcS9jb0oV6Yr6+7quTK3OcUqD2ZP7JPay8T93dMY0KMhbgVKUa9rfz75fDFn9EaubxzH5wuPcGb5YFp51ubjtffBFMelzdMZ5NOcd+vUwqt5LyZtt4huMJxbwvDRawlVllXjdTaO+5yFx4LZMrEHzTxr4dmsF9P23nnCZAM9N/f/xDCfpnjVqoN36378eEQN/5qIPbuK0d2b4fV2TWrXa86nyy5yae0ovlp63mZIEdM9dk0dyuw/7AlMaxYGLk72xnPCWZshS+sQ6I/xtYcbn+xMe3SnXTdwabInJXr5Wz3Y065iDGd24yK0WhRhNXydhH8vV9744jA6jITPbkyRVovSxCyQ5N8L1ze+4LDleWTvoWUWqwUpVOJNqlSpQpUqFSleKPtuANZiVX9iHp/170///v3p29Sdgg59Vo0ETfXCqe1v2Hp76Dk+woOi3TdhNhzbK7fFDcDdh6m/LmHJkuRt+e7g5Dgp+DKKVTDdW0qnKgPYZbFKW6HOfPdZ9g2Vm4nYM8sZ4dOEurU8adp1NL9fTkothin2LKtGd6eZ19vUrF2P5p8uI1h/n93TBtCjoRsFStWja/9P+HzxGdt7NyUF/c39/DTMh6Zetajj3Zp+Px5Bjf7aS/fipbWM+mop522EpIl7u6YydPYfqWVytGO4OBlvzwmcfcJoiHZHf0q7D+WA5Z7MkJiOCzMa49FjFSv724o/Y/gcmhRuzJxwyx/hKFZ1Kcrb48447HcZ83MsVgsWKsGb5j5QhYrFC+XADcC6vHpOzPvM3Af69+9LU/eCDn1WjUFT8XJqy2+2nQD98RF4FO3OpuRO4FisvuqOz9RfU/vAkuW7Cba+t+32HxP3lnaiyoBdNv0lQ3PICSEgBF4aArkjVk1RbJj4PX9afvQNIRzYE0ryY07DgaEeNJ1zI1XcxPhP5DvLsGpW0JtusaJLaSp1H0qH0m/w6fbM/fwSg/eyduGn1HzFg94/rWatXwC3jHpOjarGa9U9adx0MD8s+gW/wHjQ/YHvhwOY5XeIMyFBHJrdCbfXmzE3RWBrt/WlhEVo6U8xqloh3N9uTd+fdnMu5Dz/HteEYkU7svS2xdRoXSkDYct8KFeqPl8uPcTF0Msc3zybHzZdR39tIa1L1aD/siMEXQ3h7CE/Vu65xsN9g6lY4TN2p+kEjNd/plnxFsy/YS8Pq/yMIXzXoC7jzth7SpvQRJxj06gmVGkxm/OW9rKKDnqOflWZ4o2H8v2sOSxctZPz960Ug24fg8qXY+Be68gGzoyvSeHOq0hAx75B5Sk3cK+NtdBwZjw1C3dmlcX9WD20Xi1LmxHfMWPGjJTNlw+rvEKdsUe5cesWt8J38UXVck/lBmAM/4PfU1wZlg/zopBDsZos0p06LE+z/pq5JN8zzh/5ZSpWC5XwpvugwQwenLwN+/kIsbc2MsKnE506daJd3dIUTD/BynSbeS2q89VRK8Y27ZHJwTPrG6A9N5P3yr5F3/n7OB9ynh2TW+Hm3p9tSlEar7GwdSlq9F/GkaCrhJw9hN/KPVwzJhK8dy0LP63JKx69+Wn1WvwCbmX442YIW4ZPuVLU/3Iphy6Gcvn4Zmb/sInregfpPtzH4IoV+My2E/Bzs+K0mH8jEyhGQr5rQN0nCEfQcOybqrh0WOZw+Dnp5ATeecOHFTeSMloqTdHs/aoW7k2+5rdt/2bV+LZU8ujDhlsW8Zq+iPbyU2L1Vcq2GcF3qX1gBr4fVuGVOmM5euMWt26Fs+uLqpR7KjcAI+F//J7i0rOcYV6FHIrVZItxB5anmwygPzWKas4f4ZeZWC1UAu/ug1L7wOBhP3Mk9hYbR/iY+0CndnUpXTDjBEXT7Xm0qP4VOe0G6WnLsRAQAvmbQO6IVe1Opkw7ZteaAtFs6P4mPqtj0sjFbWDyD9lbisVweSpeBf6H1zsus7HYpSWacS+jG4ASHlUpULI7fmY/toxxzGf0Rxj+ZhF81ib7xGYQq1UL4vHV0TQrgHY/g8s788HvdnxoY/3pXaYcffwtw5FpeWq39KZ42QHsshKlyfmfYnSN0nT3szAzEjKjPqV8VuNoZD811SQ/urv3xt/amgHo9n9JVZfCFPzH/1DY40NmHr7joL0MXFozluEjRjNm1Jd83KYaRV1q8/nW28l/NjSb6VGsCiOOW4srI6EzvHFqtYj7Jg2bexSjyojjNukbQ2fg7dSKRWqmk/rozrLGdzzjx6fffFl8JCo5rxysBvA0bgBRS9tTpLYv5210fiJ+3YpR+auU+9uuZSh5gpXdmf5J1zm5bw979uxhy0hvXk0vVtFxaJgH7RZnvD9S2zSTnWfSN0yRrPYpiafv+TTLoOEyUzyd6bwyBrRb6F28LAMy3KyqcJm5AcTi37sM5fr4Z7x/Haar59ToGpTu7kdqLwiZQf1SPqzOvBPg192d3uk7QSpHA7e2fEb14p5MOJG+8yUHMkXv5fO3KtN3kxpBsDesbuD61uF4lylDDe93qVW2ONX7riIoXb9LTs1RfjrOrvG10wfG47v4SLK/OTlZDcBeeS2Vz8RnNWop7YvUxte2E5Do141ilb/imLnb27MIP8lnNYnrJ/eZ+8CeLSPxfjWjWEV3iGEe7Vicadta6iHfQkAIvMgEckWsmu7+xtRfbqZaTtMAmojaNZhanqM5Zq3j9Mf5btpO+8PMaZGt9jScGu9JyRo1eaNUe3677sh6YRVFPUIz+Kwmi9XX2i1JfQBaYmhvBbBuzkSGD+hGh6a1cCtUMHVpowxitVphfNZaPeSMV5jxrhMtFloPjSenrDswBPcy/dlhZ8TddH8Ln7xZmLJNhzJ3dyjxqUZTI8HfeePaYUnyLHTDeSbWLU//7RazpKXUGb9Nd+fTqsY3BFhrSetguvuc3zyOZm4V6LHulvUVB/s6guY0p2j5gexVD2KtP72KqwlH1hmkDKGbrZJa/HsVN0/GsAlhHl7MaLFJztREws0z7N+yjhVLl7BslR87jwUTmXSBmW0aMvaItRXXQTFTTj+NWDVe/ZFGRTyZbL22VPQmepZxS2OfXbFqVVx7bgBg4OKkejSYHpzBGmkV9Qm7z6hv6HYzwK0wVVr1ok+fPilbTxqXK0gd3wtgus+WT96kcNmmDJ27m9C0mzVzsao7wBD3MvS33wkcpmsM/g5vNRHQPAvdwPmJdSnffzuZ9gLTXea3qsE39jqBMYKDU9pQodS7jNjhwHVHH8qvndypOfwAMeY+mVH8aY6PpU75dvx8IaU0mlCWfVgRj0G7sPFQykp+Ka1rSrjJmf1bWLdiKUuWrcJv5zGCI5O4MLMNDccesRmpeMINoTppRktwaoRMxKrxKj82KoLnZOtlqaLZ1LMMbqnssytWUzNX/+rsLv2G4SKT6jVgenDWftutUpRdISAEXkACuSNWI5czZe61dA9bEzEBU2lR24dfg9OJDd0fTJ+2N8tiVRvoi2dxb6aevc2m3uUo47MauyPu6RrMvlithvOH69OsooDm1GTeLfUGLT+fzqJ1/+bgia0Mf+u1J4hVZz5cb2VCMYYxs74TzRfczSDYNZt7Uszj6xSLRLoCqsd89FnW+famftnCFKv7CSuCklWt6eZCWhV/jznXjOhPjqRGleFkRbOZIhbSutrwTIbTjFyZ4c1rjX7MWCB7Z6J+pfVrnky5bAD9UYZXLkGfrdbqW8cfX1ai7AC1FqSeo8MrU6LPVpv21f3xJZXKDiD9kqnGO3vxbV8ZV7fatPywH58NGcrgT3vRqZEHJd28+HTpBZsls+wVz/qcEqtlSr3PTwf+4PDB/ezevoUNq9Zw+IYxC+usxrJnaBWKv/MN28IS0Eb+yYIPK1KyxVxSVp9y+LC1J0RNBg3x0Xe5FhxuFj32wiixet7Xi4bfpawta12ZLOw/s76h2UzPoqXpMHkt69evt9r82HMpRX6Zojm7zpfe9ctSuFhdPlkRlNLGmVhWVdrmFRWs/75YVc5RuqabLGxVnPfmXMOoP8nIGlUYnrVOwMLW1Riefkw56QK/+LxBqXeG4XfFqv9aFUVZie/82pbCBUpSq2U72rVTW1vqlX+FQhW8afvRTI7r01xdrHuBPnAMNYp2Zb1FTWcpP+UHf4e9vu2p7OpG7ZYf0u+zIQwd/Cm9OjXCo6QbXp8u5YL1n32b8to7UGK1DKXe/4kDfxzm4P7dbN+ygVVrDnPDmIlYBWL3DKVK8Xf4ZlsYCdpI/lzwIRVLtmBuWidw7LOafoKVyYAmPpq714IJV8rfoVg9j69XQ75LXlzWXqXknBAQAi8RgVwRq8rnc9pka+d4ExF7RtKo9of8einjQ0EtEeQ7LyyduHXQCtozTK7nQu2xJ80C03hzKR1LlKXnxnsZhGH6FLImVnXsHuBG2QG70wSsmoBU+dVnIlbND7AirVmcukZh+lKmHGuusOwDN5y7rEye4GOKYu0HpfD0DWT/MA/qTsyi24RmC33cu7L+iQ83E/d+aWGeve2gNDanjVe/512npvx8U5mZolnZ2YVaE6zKYwxnThMX2v2W3CbRKzvjUmsCaS+eMhI+pwku7X6z9Q803WPV+8Wp8NFKrlg/9c25m4gOmEB9l+qMfuJ0bZuiog+cQ/c2rWnTtj0dO/vwYfc+fDJkHOtDDFkQq8o94RrbJnxAvUpulC7/Fs0HLuRUsnktOSMHD9v4td0pXaw4rq4lKFGyJCVLlqJUaTcqVKpK7cZjzFZp+2JVx57P3qTzcht7nG2lHB09y76h/5Mx1V+n7a8ZRwcyZq/hyrIPcHPuwkrzRJxMxKo+kDE1itB6ccY/c7ZpZ0w3au0HlPL0JXD/MDzqTrS6p2xj2h5p2NLHna42nSCBA19UoUyLWZx9Yt8A7c3THDpwgAOp2x6+b1+ckl1+ZM+Ry0SatGz/uFRGv+zAsdQo3JEVZn/PrOZn4t6q9yle4SNWZuwEmKIDmFDfheqjT9q41djWN/2RnsA53WnTug1t23eks8+HdO/zCUPGrSfEkLlYBR3Xtk3gg3qVcCtdnreaD2ThqRir31sHltX4tXQvXYzirq6UKKH6QElKlSqNW4VKVK3dmDFqaMZB/0G3h8/e7ExOukH62suxEBAC+Z9A7ohVNByaOoGtKc5liYdHUtPZnU7j5rNo0SIWLfoV/9RF6I1c/WUs85LXZcmEqI5z097FucqXHLJYKzAQPPs9nN0/ZfuT/E5VyrEr6FTYw2o4MGWyjI1lVYkFN1x9Vqf4wmq5uvIjyv3jSW4AmVhWE0I5sP0kEWpEy3CJ7xs4U6nveq6nGpgNaDR6jHeCCYmxDHvpuejriXOnFVjeq5Sw41MqVG9D6+rNmG1ZTSETYphuMrdFdSsLlImYk1vZdTXNbcF4/yDferrScGaQOTXDhaUMH7UuOWVTNFeCbqdZRXVhrOlRkaIt5qes4GAickM3Slfsx5aUZXtiD39NzfI92ZjSHqbIDXQrXZF+W1L+UMQe5uua5em5McUX1VIHw1nGv12YdkssNbZcSPnWH2eEx+upvsPprmb7MLN1VrOUoKOHbRYi2xWrxhCmN6jL+JQJcTZt8cQ0n33fCBxfiyLVh7LLfOOqzDVc3bmDM+rWMd4hOCQm9Q+m/qIvns6dWJHSdLErOlHYw9r9JIHQA9s5mdwJuPR9A5wr9WV9WifAoNGgzyRdEnbwaYXqtGldnWazs/gHFxM357ag+nCrofPETfRwrcHoPx1Ydw0XWDp8FOuuWPqjNfz0w+omovy6U8atC7+GpPwZ14Xze6+KOLeYj9lLKbP8UpM3cHb82xRutyS136deMu8kr0bxus/abI0w2KZhfZQVsWod3t6+A7FqL2j6cw76jzFkOg3qjsfuvND0acixEBACLzyBXBKrYAxfzegp+81L0cQfnc9Xw4YxLHUbzqy9ycLFcG01I6fst/XrcoBdf3EGDZwrMmBHutn/2tNMrFuYykP3pZu5nS4h023WdHXDya0u77Uexz6dPbEKugvzaOdWmNJvN6aJZ1U8u49jQJ2013Fm9Fl9slhVaxI6FaiN74XkmTqGcH++aliGouXr0rRFU7yre9Bh3lWSdgzAzaUcbzdoTstG1alQzYd5Z9NEJTq1xFQBnDsszfKkMtTSUfNb8dbQAymrMZiIWNYZl0LFeKNOY5o38+LN0m/QYtS/uWEunpHgad5UHnogGZ7hAlPfccbVw4v3WrxH7bLFqdByLDtvWz3EjbfwH1KbEmVq0qSpJ+7l6zNyt7VFzsgt/yHULlGGmk2a4ulenvojd9upg4HLPzWnpFtTvlmyn4u349CZTBiSIgk75c8PvWpSvMogtj+jSRd5UawaQ7+nUa1RKWt9pmuLdLez9eGz7xtA4hnmfVCZ14tW5t1m7+FZuRSla41gn7JEancwwM2Fcm83oHnLRlSvUA2feWdT7jEw3V5DVzcn3Oq+R+tx+9DFrKSzUwFq+15InrBlCMf/q4aUKVqeuk1b0NS7Oh4d5nE16cnpKivfsa89KODcgaWp6/Zak7C/bwyfT6u3hnIgpTuZbs+l6T8L8Fq61/u6uDZi2gUDxuBpeFceyoGMA0H2fUBN99g/oTnlipWjTuMmeLoXo2S9z9l4PbnPZ5afdakNl3+ieUk3mn6zhP0XbxOnM2EyJBEZdgr/H3pRs3gVBm3P+QQ867zUH5CsvG7VNk76o2ctVo2Eft+IWqOyYz1OXyY5FgJC4EUikGtiVfl63d/3PV/P2O3wFYZJQWsZN3IJ56z0WK7DNcYSFniMkyGRTx5G09zh4vFj/Hkl6snhslJglWfQzdQHeXIUHZFXAjkWEEjQncTUITVNRBCnjh7h+PkbxFvpwaxk4zBM3F6G1GnNfCtrrOZeCIHH/uDIiYvctM7IdI9f29dhpPUi4Ppows4GcOTICS7cjE+1ptnmZyT2+mmOn7jIHQftaYy9zunjJ7joKIA5QQ3Xds/miw+aUrtyWUq5FqdEmYpUf7cd/cavJDDyWUEBjV9vyjaaxgVtMNO80v6M2NYrkyMHlqFMYpkvZ7SsJnJgWG1azk2xGNpri6wknNMwdvuGkbjrZwk4EsCZK5G2k3o0EQSdOsqR4+e5YX0PpeRvjA0j8NhJQiKV9dJIbFgQN9PdG7rIKwQeCyAw6A6JlgmFmaSbs+rFsXdIHVrPz4o11sS9X9tTZ+SJbPd9fZSqz1FOBd9LG43IQYE113Yz+4sPaFq7MmVLuVK8RBkqVn+Xdv3GszIw0kEfzEFGaPDrXZZG0y6gDZ6Gl1MbfnUwsOE49WcsVhMPMKx2y9SlAh3nK1eEgBB4WQjkolhNRphw2Y/vxo5l0k+r2H74JKcDj3Ngy1J+8B3LhHn7uelgFC5HDaA7xuy+PejRI93WaxjLLtmsP5Sj5PNvJBPRe76kUce5BKW6HjioTaI/H7ecRIoR2EGgF+y0KZaz/kvZGZzBUTbziupD2b10M2es/Vgzj2UOoQ/dzdLNZ1JmmEPi8X/RpPl3nLW00TNtCx3HZvfN2Dd69GLYsktZLHH+DmaK3sOXjToyN/NOgP/HLZn0UnWC5Jcx+C/dSfa7gZ7Q3UvZfMbajzWL90qG/pPI8X81ofl3Z23/GGUxOQkmBITAi0kg18WqBZs+KpRTh3azfcdejpx9hlZDSwbq23iTE1s2sWlTum3zLs5a1vO0Dv9S7eu5eXIvZ1L9Dx1U3phEbLxFLTkII6dzgYCB26f2EHjXynL8TNvCyM0TWzL2jU2b2XX2fi7UJ28mqb95kr1nIjKxTBpJio0XsfR3NKHhNqf2BGLdDf6OYkieQkAI5C0Cz02s5q1qS2mEgBAQAkJACAgBISAE8gMBEav5oZWkjEJACAgBISAEhIAQeEkJiFh9SRteqi0EhIAQEAJCQAgIgfxAQMRqfmglKaMQEAJCQAgIASEgBF5SAiJWX9KGl2oLASEgBISAEBACQiA/EBCxmh9aScooBISAEBACQkAICIGXlICI1Ze04aXaQkAICAEhIASEgBDIDwRErOaHVpIyCgEhIASEgBAQAkLgJSXw4olVkxEePwbDY/jrMX/xGEPKZiL5HMbHKWF0GLQJGB8/wqjXoUlIQqvVkpioQW80oDU8Qm/U8sj4EAOPeJgUg/6xnkeJOh4nGTHpTOotkvDXX5gwYESLER1/8VeObyej0YhOl7wof1xcHHq9HnVOlUudN5lMqd8GgwG1qfOPHz82f2s1WjQJCYCB6Ji76B7HkaiP5qE+joTHOmJ0BmL0Jh4a/uJhoob4+HhiYmJISvr/2XsPKKuOK230zbxZzzO/1z9eb2bemmSPbFn2WJYlK1nknEQOTUOTcxSI3OQgcg4iI6JIAhEECIHIQUQhcqYbOnff2zeeHO/31leXkluo8aCRNb+R+qxVt86tU2fXrr137dq1KxwNiqKI2DCMh3RQBdywaSHoAlEfMBMJWI4NzzEFfZHgl8F8QQbeea4P3+EH1aNw3SLYRgi+lYBvAlYsAd/14Dr58N1imBEbrunBsz0oShyWq0PRIojGIjB1C67hw4q6sA1H0IF1TyQSIrDOup78cDtpQPrYtglDD8P3dRQX58EwFViuBcv3ELNtFOsmwpaNqOvBtC14tgpbi8A1VTiGCtexYTkuFMOC4fqImQ4MPwEv8d/n5+MEwbFdmIYFy3SgxA3Yli14GQ4Xw7J0gbvnmYjHQoCdQMJOwFFtFBcWw3d8WLYFwzagOwYiRgxROw7bt4V8SllJyrKKeDwuYEtZ0i0TEc9B2DHh2S7sqA7HcFAUDSPku8ghHzwXuqLCt32UJs6UN8oLZYW8kLJJHjGwLIYkX5L3Ukb5Du8ZKNvkn5R7wuG9eOb70GwHcQBx30fM9aAnEjB9H4agn4uEB+iqBd9NwLGTOLF8yjNhEAf+ZxmMJWw+oyzxYsx0+f9xPJPpfJeBuLIuvAxDg+saSCQsuK4J3yf8ZN1c10eCn5JNAJblIWIYiHkughp55sNzXLiGBVDmYjGYnotCNYaw7yKEBIotDZYdgq1lw9eDgsdxLyE+T+tYPjxVg6tEoLuWgCf4bLmw4jo804XLtuQ4CEbCov26pTFUVq5ETHo4rivq4TsGEo4K34rCt+JwbB2GZUP3yRtAMTx4lgfXdGBrhqgT5YPvW54LzbGhuQ7ChiZ0K9uupCP1D3EmPSVfWDZ5xv/kGwPTZFwCzcfe8l3CkHLId03DhKsrMLUcUYe46iHuhRA3XaiWAdMOCp3umypsIwzLMgUO5LOqqkJOKCvBYFDgEgqFRB1V14LmOVAdG3bCh24m27Rj2kg4HuAmANtHwvJgGxZsy0ri5dhwKNOuC1XXhTwZuiHy6LoJ0/VgOC50h/i5YJdjuj4U04Ji2jD43HbgeBpcT4XvG/ATbG+UQQ/UM5Q9dotsK4yf9CL9WFfyhe2Y9JNtlfTgf9GWTR2OGoajRuE5lAsVmqnDYjukbvYToo666cIxNPg29W0Mnq3D9xzEYlHoloW4bkFnffyEqFuC7cnV4dkaTD0Oz3NgmtR7SXpEdAsK9aJrCLkkja0YRF/j2DY0oxi6WwDNC0NzPUE/17FgqmHR72vxMExdTfZ5tgPddoUcaK4v6P2o1qf8MfAqKYvUNbxIK9KHzyTtKHtSBg1DhaGFoOkRISNGIoGQ4yPkeAgaNgzPg26qcF0F8VixgEc4hE84bE/kBe+lbJMHUg9Tz4s291DvCaS+Rz8/cGPVhssG41pwqJRsBwk2LBqBbOieDdu3YLo6VCsM01bgeS4c0ei8ZEf+0FhN/BmNVQoiBZLCRwVJxS4VBhuCVCBU8tIY4DtCmdD4MGnIxRGOFiCuFUF3IohaYQT1OKKuDzatkOEhpiQNVMKWipj3stHRWOZ92LQRcIEQDQOPxpuPhGuVaqwSh4RnwtTzYeo5sPRi2JopFIgbTyBBw8QthGsH4JkeHNODZbhQVQUWFZ2pIBIJIze7AIbiwDMT8Gms+UlFIeroukJJki7SKEnSwUQomIN4PADHURFTQjAdM9l5+D6CmiGMHho+puvAd3VEArkIFuYI41tV4jBMC7bnI6JReSSgOj5c/1G19e01gDRWbcuB7yU7YnZ8NHo8yp1jCqOHypWGKo1GGh82Oz/ywGcnZcJwTSi2Dt2nofJVY5U8DQQCwgAinUgv0o/GarFrIu678L0EIAwNF8VKDAHHQq6tI2ybomPwdPL56/WVnZZUxFKJsvOS8iOVJ1WHGRkAACAASURBVPFgPpYtceJ/yjLxkjIsY8o+Q3EohGA8jiIOIAGovo84DVLbFR2WbXuCFjRUGThQkvhIuZDtgnFJ2ZbpEi/iTHye5OI7hMWYITmopOFK3jlwPbZFdvKmoAXrzbqpigqTgyzfRdS3EbF05AcCwoASPLWTxpXuOYi7DkKOjSLPR9gxYNshWPH7SFghKJqOgO5AY6do+XAjUVjRAHTHEoF1czQTWnEUvuEkjVXXhW7ToEoaj09ST1LDJt1MQwxAE66GhBMHY9cxoNKA8wCFfOTALqLAjCpiABSPRJN8pS7zPBg0WD0HRsKHopFOSSNIDpSl/JDvpJekGWPKFNNJ62/CJ75LuNJ4oPy7pLGuwPeKYehx2GIAFIVO/CwDhhVAPGTAjIUBn7KZlGcpO4wJl/gQrpBZx0YgHhW0pbFK49MShnJSPsnbxENj1TMdQR/Wg+9yIKxZNEpdaIYOVdVgaDqUaAwxRRew4oYNy0/A9hNQLQemlzRWVctOGqyOC8834PkcMLGNc/DIAaEL1/GgcTDnAbbJQdOTyTjlQ8iR44h+iHyS7Zl8ELSkga2qSFDeLQWuGRdyEg4HEI6HxcCJRnYgqkA1H7ZZiwaoBs9S4FmaeFfXNeiWDdW0EIiqyA8r0GwXvqkArg5biwp503UVFvMZtjDYqZtVGpamAt9RoIXisGIebNWHqugw7DAUJxe6H4HuezDpW3porNJR4ZgqLA6ebEfQn4MCOmMYdMf7mtojv2Ug/6ROIT1oJJImj6bzGQegTLdMDfB1KGoYecUBRG0bMT+BoOVBZZm+h0g8BMeOwXUoC4qQM8o/6Uw4LJ8wKYdSh7Hf4P9IJCLy8DnD9+36QRurvs1RigWOwigEvk/PR7KjjNEb5XmwKdy2DtOKwrLoSdKhKQa0OI1WDlWTnlUaqwmYSIiPND65QnhUoOQoicItFTUFkcpRNgTZqbNDZjoDBZp1MFSORKnwbZhWDJ6vwHBjiJhhaL6L3FgcMY7MXV8oasKkYBNGTk6OgFNUVCTS2EBYdtiwUGC5iHhASHOSnkb/oZf6Ec+qGtfESBh+CEgUw3fjMOg5VKgtAZsdlVsI0ygQ3jzb8IRn0XHp1dRhuzp4Tw+IplgozFXg2n/0fLGBSkXJ+koFkWyoEXgujXt6isNwfROOT+XuIkijnyNZeuropVNV2HoUSHCgwhFvHPFYFDGFXgELEVVHsaIjrJuCxY/y6dv+Z6dEJZnknYlYjJ6DpAJU1bjoJGn8xOlpi1Fhm/AMB77jwaXHkp4ITYXtu1BdE0aCBoEDy7aF0qIcUX7IWwmXciMGQIaBqOciSjrrBjzNgRKKoigcQoGpI0ONClp5NKJNt1RjlXQvaUSwPAaWxWesF/nDMhkoq1S25B/zlJRdplHWGIgv8/HyaNyyPq6LIlUDPfy6n0DUMBFTacC4QkY8epoNW3TMfJ/lE768J3yp8CUNmIfPJZ7MQ3yf5CJdJc5sH3yPgw/PTQjDwDJJc+qThNAvHHwI4YcFz9eh+Tpy4iHEbAuqyRkKwFR1aPHkTIbqWIg5FnLUGAKuiwCNNScKuMXw7QgUVUHY5OArAUP3ANOAEQugMBKE5dOTRi+8AVezhCePnr3CwkJElLjwbHKg9iSXMFZpJDq2MEJ8W4HPjtSMIVpcAMf3ETFcFNsJRBRTeFaNGNuVCfgJxKIxOJQH20JE04SMxjkIsiywg5X8kfqNPKEMkEfkC2mcbB9JTzzlhs++CZ/Id2lcEh7l3VHjiEcyYNNItF1E7QCinOFguV5IeFY9GjJ6CP5Dec7NzRX4UMalbJGGxMngQIQDBc7gmAZihoZoPCbag22Y8EwbHtuvbsOzaEAmdRhxc7ykY4Sy7ieSMwJJebLheD6CUQWhuCa8q4zp/QsrGgpDEWGo0nCloevDRJgzaVYcms7240PXDdEmdC0pY5ZBuX0yGWfdqFNJb9JNthXyivfkE+nK53T4OGYMnhmHbSjwxMyCKwb+Oo1r10MwpqE4okKjQyAWQMLjbKaGWIQzSSaiCg1aG3Eaow4HVD7gGoBnwLVU2KYKz7GhGwbi9Dz7CcQtP+m1dXUxiKIec7UELMWHR+PfCkFz8hEzgyiMcoYRcE0DlhaBFg3C1GMwtKRnlbRmmTHDgULvLnXfI42EfGHdGXgv/0s6UBb4jHxlTLpRXmR+GvG+p8Ew49BdG4rrICuiIGh7iNiOkB3LMeDacdEn0TFG+ScMtg3Gku4sm+WSHyyX90zjPXU8cfi+XT9wY9URngNV+2PnSsEi413HRXGgGJkZD4TnS9dCMM0YfHombBv37+fBpUBzllR0chzJmMC3NFal4FOZU1msW7cO77zzjujA2eEwnYJbUFDwpfBSeTJQkOm9CQpj04Rl0+COI6vgLgqjBciLBBHQNGzddxQjJs3C4aMnsGDBAgGHjYJTW/QSMbAR7Nq1C5MmT8ai1Rux9MP9CLmA4nDJQwKWrpTuWSVNPCrHMFynAK4Zxpb1H2Llos3Qwjb0WAxXLh/E0KF9ceduDgzTRVFRSNQvroShqhHk5eVi2NCRuHjxJkaNno4zZy8KHMkb1rG4uPjLutOwYUfCZ/RqRUJ5wliNRosQZgceKMTtzAwMGTsWOz49gMETJuHqgxzEDR2RwmxosSBioSJoShRXr1zGsOEjsGPXxxg7cSruZucjJxiF/WcfpVLR0WNEg4rTnybmz5+PlStXPlQ2CtatW4+lS5chHovDVDTYqo5AXgGi4TD8hwqTHuAHubnJaXEa7vTG0yAJk45J44/yQuVFmlGBCS+g56HQ0pAXj0CNq7AVC0f3HcSgEelYv383Jq1ahIxAvpiKdB92dI8qPipFyj0VKGWFMsly8vLyvuSP9JpRNpmH5TPmfz4j74gPcc3KyhL/CVcqaEVVkRMIokjXsefoMSzfsAmrNm7G7IWLhSePXiPPSYADpPzcAlj0OicSuHjxImbNmgUOumTZbEv8T3wp57J8ep5ZHnFh23uSi7JGuKwv8SdMTdWhxnREQgpM3YFr+wiFomKKU9VCCEdyEY5mI67lIaQFUaDGEDJUKIaOaDiCWHEY0VAE4UgEecEAxs+ahvUf70b3wcOx/9RZOK6KUN4NRAoyEYqEURjXUMxO27Zx8/wpTBk9HHFbQ1RTEA6FoYRjUIqjImTfzRD5Ll2/it4D3kJuUcGTVFPQ0k8kECgqQKgoV3jEuAzgzPEDmPLOWOw/eBDjps3F9ZwgiqMa4sEI1KiCaDCEaCgMlZ2saeDQsaN47/21KIiEhGc1pihf8p18Ic9J023btmHTpk0P2/IfBz18lp2dLXQf65vUt/91Ffge88sgdGY8jnhxAKHgHSxdsgIf7TqG+StnYeP2gwgrHDwUIpAXQTwURDScj4L8fDE7QT5TD+/evVvIMY004k7eR6JRFCtxKLaFQyePY/jY0SgMFIl8ru2CQad3MRwX9Ik/lEHKPQflbNPhYDECRUVJumgq4qqGWfPfxYYt2zBp+mzs3ncAcd1EVn4hwoqOuK4jpmkoKI5AsywEgrkYP34E8vLvg8uH6Fk1DFP0XapiIONeNizDgcNlPU94sT3Idksasq7UI1KfyP+aGoOhFsO1VcRChVAiIegKdU4IoXAUwaiKSbPmY/+RE3AcC0YsiHAgF7FIUOhd6r+4piMUi2PCtNnYtudTaJaDSCAPjhWHroQRCxdBicdE+whFY8JY110fxaqJuBJCKD8DVkyDxwFczEUkFENcD2D9h4vxwe51YgmcYnoozMsTxmog7wFCxQWIhIpFXxpTNVhe0qvKZQhcBvY4Y5W0IG0YyEPqDsoC5Yv6lnShPmQ+yg1pyL5bVWNCplQ1jMUrV2DWkiV4b+sOTFu6ChEuQbBMBMOUAfbtSb0tZUzqczmAIzyWI8tmfOvWLYwbNw7nz58XZT8hm5+abD9oY/XmtTvILwqBg02OTl2fhqgO01ARDoYwJn0M+vccBDWkgetnfM9ALBrB7r378UbFWridmcVVsMJ4E2s3EzTSuN70UTF/cnmggJ88eRK9e/dGmzZt8E//9E/4l3/5FzRv3hw9evTA3r17v/Q83L17VxibnTp1QufOndG9e3e0bd0GVSpWxNUrXwhjNbfgDv7zpWfRsEVDvPSHV9Dt7cF4Z+4yVK3fEu+tWo0mTZqIjpfC36VLF7Rv314EGrGrV69Ghw4dMHbiTHQbOglhF4hxjSk9SZzSSNC7+tU1q6ZhwzHicJwgTn+2CyuWzkf71h3R9M12WDJ/Dfbv3YtrVw+jdr2auJ6Rh5hpo2//wXjt1VfRqWMHjBs7Ahc+P4/X/lAB5y9dw3++WAGHj58Wdaax8d5774m6sr7ErVevXvjFL36BrVu3CgUdixaiZUpD1K1bA2ltW6Ji5Yo4cuokXvzDH7Dn8FE8X64izt+8hXAsiukTRqF188ZIadoYE8aOwvFjR1G+YiUsWbEadRs1R1ZhUCx7eHL1/qR8TsD16C3X8OGHm7F27Sq0aNEMjRo1wrJlK7Br18fo3q0XpkyeAdf2oEfDUMMB9OzUAVs2rocajyEWj+HKjZto1KwFLly/iRBH3oaJ/IICzJkzB926dRN0Yty0aVM8//zzOHfunFCukXgMI2ZOQsO0lmjdsiXmT56Jg3v3o2KNapj23kLUatMUOdEQkuvtSl+zSgVMWWVM42H9+vWizNTUVPzrv/6r4EnHjh3RtWtX7NixQxgkVLT03o8ZMwaUWQYhs23bolKlSsIgoRFw4sQJ/PznP0daWhu8Wq48+gwfjreHj0DH3n0xZvJUDBw+ShirluUgGlaxctka9O7xlvDkEacDBw6gcuXKAh7/U9Fv375d4EK5kYHyPnHiRGEoM9+TGkHslCZPnizaC2n7ox/9CHXrNkDHDn0xcvhM3L2VK2YDXMfH5s0bMWhwb3Ts3Apdu6ehQ5dUvFTudxgxbQIiJnmmY9SIkajw2h/Qo0tXwaePD36KWk0bYsPHu1ChSRq2HzwOXY1g27pF6NOxFZ577leoUK0eOvR8G4cOHsYXh/cipX515BTlIRyPYcOGDWjXqjWe/bd/R9M69TBi8FBcv34dl29cQ+2G9USeJ5FU0oPeucWL3sXaFYth6xHEg9k4sGcbUls0x+69+/BGtXq4lVeAUEzDjAmT0bZlKp792X+g0Zv1MXz4cASKg5g1bw46duuCvOIg6Fn9cPs2NGjQAO3atUP9+vVx9OhRIUcjR47E+PHjhVxxMEBjk7xjh/3WW29h+vTpwgh4Uj5Jg4KDJBpZlLfTn52Cb3PWJhuDBg3F/IWbMHBUPwxMn4Oo6uDS1RMYO2Iy6latgud+/lP06d1b6EEOiCk3+/fvF3gdPnwYzz33nNCVTGf9du7fi/3Hj6ByzeooDofENLxlmPji7HlMHDkG3Tt0RKcOHdGtd0+8+ofX0bZNGzEg9C0XOzZtwcu//R3apLXBz5/9BbZ8tBMpae0wb9EytGrXCYuWr4LuODh/6Sr6DhiCDl26o0Hj5vjNC7/HqXOf4+bty6hQqRzu3L0KhzNUdtI7begmjhw+gTfrNcWNaxnwvsHsMOnGNstA+WG7ZZt+6aWX8Hd/93do2LChoMncuTMRjRSAurd3146oXr4c+nTtijdeeQ29e/ZDTDOR0qYjZi5eDss2EC7MxrC3e2PhvFlQYxG8++67aJbSEjHNwJtNUrBi3QYx4+CYCkKF2WjesC5qVauCbl26oEuXrmjSPAW/fv5FXLl9X+wroLHarmVDrF60ApF8A7u2HEbzpqkIx/KRPq4vBo4cKOROc3xEwyGsWb4QHVq3QNfOHdGlYwc0atQYy95bhWAkLuBFaNQnSu/FKXukB2WT9KFccBBDPcf+qH///oIu5cuXx+3bt4VBSSPymWeeQevWKXjt5d9hxsypGDdlInoNHooRU2ahTe+3EXNdFETCWLhkAbp0bo8WzZvgH//hHwStSXPCzcjIEHqUcCdNmiT0D2Xv2WefxYwZM0B7oG7durh06dITD7yfRA/8peR5aoxVKh5eHEFQUDhy4T1HLhQadnJUcHo8hgQ7KI6MQ0XwfAtRLYLCcAEKinJgaDEkHAtnDh5CzWr1cez0FSicjqU31aenVRfrY8KBEL448wWO7D4ON+7DVqJQYyEUFBbg2KmzeLVcNdy4nyX8qGIDju8mV3b7XOP37YxVKudr164J5Tp06FCkp6ejdevWOHv2rBi5UYFzdMtGwzqzoyVNGK5cvIw369bB7VvXYDuKWLfzeuWXcOKL4xg/YzLSuvXE2u37UeXNFKxYuUYIPEeDBw8eRIsWLUQHT4O4Zs2awjv1y18+h9+89Ab6jZsrPKtR04fLNauc2izFWDU0Uxj2llWEa1eOYM/urejQuiN+84vXsXX9Hpw7fRqnT+1C5ZqVcPFuBoKajh5vDcCkSRPFRjeuH87MuIfXylXE0fOX8ftKdfDJ4ROCv+SzNJKkEqUnr3bt2vjoo4/EEg16VlNaNMCOHZtx/sJpVK1RFUc+O4mX3ngDuw8exn/85gWcvXYdn1/8Ao1qV8Wta18gO/M2WqU0w9Kli/Hcc7/GK6++gTcbt0BmXgDFqgEu6/zzXvRYKAhH83H85EHs/Ggbtm79ANu3M96Ko0dOoEvnHpg4YTqiobjwVKvRIqQ2bYjK5cuhY/t2aNWqNRo0aYZnfvEr3MvJh84pLC05ZUf5oCywzZBOVG61atXCgwcPhPyc/+ICKtWpjlu52ci8m4HmNeri3Rmz8cvn/xMvV30Dddo2R4ESFVPblqKXqrUJm3InjVXeczCxceNGoawpS59++umXAyspn/Si8V35n+8fOnQI1apVE/gRX3aM/P/ZqVMYPnoMxs+ejXfmzEGb7j0xceZsdO83ALpFr5kLJaZjw/sfoGWL1ggGkh73U6dOifqyDZEWhEnZ2bJlC9asWSNwouFOY4rtiHn4XOqYkryWHmTiy46KQbY/eoM5WHrzzTfRuVN3RIsNGEoCtgGxhpbGKr39mh6CyTXaiSJoZhb6DOqM9CnjhGeVHrLJkyahX68+CAWCqFKlCo6fPY3y1Stj7Z6PUKFpe6zdtldMgbpaANFgjtAFS9dvgZYAHNvE2QPb0bJ+HRSrYShmUi/m3s9G41p1sGjWPJj0wgaLcfj4MVSuUwMPcnNKVvGx9/SqknZTp0zC7GkT4XFjlRnBob070LxJI+zctQeVazXC3YIgdDsBM6Ig88Zt1K1eE5veXw/LTA6eFixehFYd2grv4/2ifDRo1FAMSO7fvy9mFFJSUkSn/vbbb4tBAHlBrxFpTh1/7NgxvPzyy4I25Bt5IuVOGg+l8U7KGeERDo2r82fPwTU0xEJ3MWRIOmbMWo2RU4Zg4sw1iKgWbCeEWLGGDSuXo0r51/DgwX3RZjjIovNg7dq1Qn5oYNerV0940zjTxuUqIU3B7gP7UbV2TVy4eDEpe9zQGQyJdcMJIbPJTVhT58xC3z59xVIoXzXx4doNaFS7nvDiNkpphnXbtqBJy1SsXLcRnbr3xrxFS8VSAMPxUUhvqu1g6cq1aJLSGg9ycnH1+gVUqPgGMjJvCk8j5Y68KyoqxsABw/Av//wMpkyaDV1LDjKlPMt2WJoQ8BlhSM835f7evXtigMFB6ahRowRdbYdrfellDmLo230xb8oUwHaxcPpcdGrfFTHdEv3OK5WrYtTY0YgFc9G5TUu8+vvfoU2rVFSoUAF16zcQa1brN0nBkpVrkZ1fKJwe8UiRMCw/3LxeLEchTjdu30WVarVx494DhDRbLB1r2bg2Vi1cDlfzsWvLAbxZtxHCsTxMnj0Cw8YNQYzr+z3g5tXLeO2FX+Hg3o+Q8CxEioM4ffo0qtesjS+uXINqewjrXCNcumeVtGCgbFH2pIxJOSR+lA3qBMoM7ZIbN26gevXquHHjCkaPGIYJE8Zg8oypSOvaDePnLECbPgMQ9zwonBlToygOZGPa1HfQqGFDNGvWDFeuXBH6ibyg3LN8wmVZtH+oKz/44AOhP6tWrYrPP/+8VF1WGo+fprSnxlglo8gcGmfshMjEH//4x/i3f/s37Nu3TzCqRo0a2LVtG+xIBFvWrELDujVx/8FdDBk5GH/7v/8Wf/fjH6F75/YIPMhA5Zd+j//7//ox/v0Xr2H7vmNCUFSLo3kGE6ZiYlT/MWjbsBvUQhMHd36El557Fj/5+79HvabNUa1hc9zKzQf3o7s0TmmsuibgfTtjlcI3YcIEDBs2TCgGCj49TTQ0aLiyg5VrS6XgSrowvnrpKhrUq4f8vKykZ7XwLl6t+DscPXMYMxfNR1r3XpizYiMapHbGeytXC28ehZ9TcK1atRLTFezU6TGiJ4Oe1mFjJqPf2NkImB5CmgmDu78NtVRj1XM9KJEANCUHhp6NdasWonWLNHRq9RYWz16NSCCIz8/vRcPmtXDmbibydRO9BgzGlMmTYShRGPEoCgvyULFGbew6fhq/r90QBz87KxofGyiNIuLLzocyQVrQsGYD5QL8aKQQ7du3xOLFc3H2/GeoWLWiMFZfrVwZm3d/jKqNmuLSvQwc/+wkWjSojcufn0LGneto3KAeVq9aiYqVq2Ldhg9QvU4D4VmN0lPs/rl9qzT0YlD1QuTm30GNmlXQsVNbMXB4/je/w4P7OUhL64RJ78yFrnDpRACmGkCXdi3RPi0Vq1etwIr3VmL0uIkoV6kmDp74HNIbwPWAlAvShrLEgQinxelBv3z5sjDOzn5+HhXq1cCl+3dw6cJFNKteFysXLkHVOrUwY/VSNOjaBg+KA+CuZK57LG2igPDlIImeRhqp9FRSZmi0kh/0xMyePVvIltw9LXHjuxyUkZf0VtG4pfeLSp/KmUr35s2bGDJyJAZPmIAJc+ehz7B0jJwwEX0GDhabLOhZPXHsFOrUrC88q4veXSyUOAdb9CTTq8yOiHA/++wzId80BhctWiQ8IfQQLV68WMg8jSOWXdrFdBo8xJn3V69exYgRI4TRSC8m5fLQwWNIHzIVK5dtxLnTl8SmQZs7v22eDmLAcaNQtVxEYpno3r8Tlmxcg6J4VHhW3xk/HsMHDUF+dq4wyA4cP4o3WzbDsg8/wIvVmmDd9n3QVQ1mPIBYKF/UY+CYSSjmDmJLwd6ty9G4VkXkFOYhFI+KNauTx47HqIFDMWn4aDy4cw/D09PRMq01qtWrhUAkVFo1v5bGjphr96dPm4q5M6fAM2Mww3nYuWkNunZsiwOHj6BavWa4lh1AVLUQDYQx9O1BmDt9JmZOnYZrV6+iW48eeKNiBXTs0RUhVUFOcQDNU1qIQRl1Ob2p1DGUGU5hUmYot5QNeuvp+R44cCDoyeTgp2/fvmJ2hf/lQIR6r7SLMspA3hEeyzl65AgcXYEaz0avXn0wb8EGDB7bHwPSZ0K1NTh+GNcv3kLz+vUw9Z2R2PvxHnzyySfCcfDCCy+IQTHlibNfderUQWZmptiQW6zGETF07D6wD8/86pfo3K2rMFocyxbrkT3DFiczGNzcaGqYMH0Khg4eDCUYgRvVsX3l+2hSqy4KCgpRo0E9bNz7Edr17ImZ8xaibaduWLhspTD64oaJYDSGTw4ewWvlK2PA0BFYvnIVpkyfgAoVX8Oly+cQj4dw/vxZzJ07DyOGj8bo0eNRVBjGmNETMWniVDFoI96kG9sj+VzaxXQ+pw7h1DL5QA8i605nEb175NmqdStx9e4lKPEgurVPw+r5C5DQbSybPh8Der0tloikdu+FmavXoDjGJQ+5eKt7R6xbvRyOZQgd0b1XH+QUFKFNpx6oUqs+Jk6bAXimkPeUxvXRr3d3rFi+DAsXLcaosRPwyuvlcSszB5qXAJePpTapgz6de2LJnPXo0zUdtWvWg6oXY/TEARg6ZgjiPO3HBQpzczBx1FAM7tcbyxYvwNJFC4VHdHD6cATCERg+oHmAavIkoa9ebPuyDxKOsYcnWkg6UdaYh/YIZw4o00yjsUq9c+ni5xg9YjDGjRuJWQvmoffQYRg6eSZa9eqPmOfh1v1MzF84F106tcbKFYvFgI2yR88tDTUO2rh8iThQ9skbliVgX7okZJEzVPTkPo6nX63R0/XvqTJWqcSoeGiwlStXTqypHDt2rFBC9B5xqnzX9m1wolGsXvQuWjVvjEuXz+OVP7yM9DHp2LBpHY4dOQAjFsGaBe/imWdexOL39yI/pkLlblAuAbCjMLQwPM3GuAHvoH/bYdCzLKTWqocebdvg4IEDaN62PSrXa4TbRQGxS5m7P8X8Co9zErvkHxXzJxcKCiANMHptaARQObds2VJMAeTn54PeCDYCdq5cb0cjloqHCoX5P9r+EdqlpeHypc+hGxEEw1n4Q5Xf49QXJzFu2kR06z8Qi9duxb8++yJefe0N0VCpfFkmlQ+NGhodH3/8sfB6tGiRgkGjJ2HItCUoMhxEeVyKaSIWDpZqrBo6j4TScP3KcbzVpxXmzBiPz09/gRsXM7Bw5iqMTh+BbVuXoH6LWjiZeR+FtoO+Q9NFp2RpCkzuSC8sxM+efQ4N2nXCMy+XwycnT4uGSTxZd069kN80gDjlIacSg8EAVCWItLRmWLlyMW7evoqKVSri06NH8P/+8z8Lvv38ty/i0LkLUHQN61cuQcumDdCudQrGjxmJc2fPoHLVali4ZAUaNm+F+/lBsfOci+//vBePnorCdoI4d/4wWqQ0wJ2718Va3dTUNjhz+iI6tOuFN16vjfGjp0GL5CGQfxuHD+7CpvWrsGXzBrz//nqsXrcZm7fuxK2MLLEZ7MLlm2KQQ08VPfEcfDBmJ/3qq6+C3hB6HWOqgiWb1iKlczt0aNMOm1aswbH9B1G+WmW8t30Tyjeqifxo5E+uWWVHR6XJmIYAjcIzZ84I5cyOjHLMQE8YlaycBeFUFnlIjzjlmfdLly4V04vkKQ1CelZ///vfCyU/YOhQjJw6FWOncz4sTwAAIABJREFUz8AvX3wJVWrVRb8hw2C5Cez9eD/Kv1EF+z7+FPduZaJxwybCQKX3i54NwmZnwbZEY5XGDwdl9EJs3rwZH374oTCyuR6SuLKjefSi0mc6YxnYBlknyiPfI86mYSEvpxDHj57B3duZKA5GkZ9fiJzcbOTm3ceDLMprFu5lXkZqhxS8u/Y9PCgqFDvqx44ejaEDBiJaHBYemF37P8HL5V9HlUYN8IsXqmLnwQtiPa6rhHDv5mVUqVwFFes0wr2CIBxXx65NC5HWpCqC0WKEYlHMmD4Dfbv1xPXzF3Fg117MmjJNdHKnzp1F1TdrI6+o8NFqlvqf9Y3G4hg/biwmjh8FbrBy9BCO7v8Iv3zmP4Q3qnHL9rgXiCA7vxgTho/G+PSRKMjKwfYtW8USpUgshhWrVyGlXRoKoiGxdnDfp/tBGaXDoXHjxqINU59xBomDHdKTnfHx48dx5MgRMcAinclLesI5gKfDgvLHwQ77BMaPXkzne4zZd9Czun/ffniGBk3JEssAKlZuipcqPI+xk5ZBsy2cu3AIbVO7YNGsGQgWZGLatKmC19S1XLZA2SEebEe//vWvv2xnLdu1wexF8/HxgU9Ro14d5ObnCR0d5/rK3HwE8osQKizGrTt3kBEoRO9Bb2PkiBEIZObAi1vYs3EbWtZtiKzsbJSvWglbDn6C1C6d8Xq5Svjti69gzYZNsDxPrFG9dP0Wqtaqh0Hpo/D55WvYu/9TrN+wCq++9iKuX78olhdlZNwVMxa3bt2GpppwnQR0zcWNG3dw6tRp0TZIMym/j9KO//mc7Zv0o8OEMs8+hu+QX2znd+7cwcFjB3G/MEP0N2OGDkTtcuXQp3U71HmjEiakj0VE0ZDWuy+mrVmDUDwCLR7EgD7dULViefTu0U14Vtt17Cw8xqntumDJ6vdRWBwWm6AsI4qLn5/G0cP7cfDApzh48BB27tmLj/buR0QzxDKtSDSIxnWrYFDvt7Hnw6OYMnYBmjZpgZhWiKGjeyN9fLo4UiysWigqyMP9u9exZf0arF/zHj7asR3r12/AzTt3cfNuJuI8EsxJiNMXHtUG1AOsO2lCOaThyH6X/RF1DfUZ6cOlatS7UkY5+H7llVdw7eolpA/phwXvzsbI8WPw01//Bq9WqYUuA9OheD6yiwpx6uxJ3Lx+Aa7DGdPkKT0si7qVRq/UudQ91EPsr7k+n+2FdgCNVQ7y2Xa/b9dTY6yy4VBJUBg4uqNngwxhGgWIhgung7du3AA1FMK0saPRqW1rZGXfw7tL56N63Wr4f/72bzAqfTByM+7i2J69+P/+8Ve4lhNHRnFyl3GxGoKf4BlwUSTMBPq3G4jODXvBK/Dwq7//R+xcu1qUuX7HTlRq3hLnMjLFGZC2NFbtb2+sfvHFFxg0aBAGDx6Mfv36ibVa9KhyVEvDdcCAAUJoKbj0vjJvz549xeiKnuV+fd9C3z69MWzoQJw7fwKBUBZ+++pz2HfiE0yeNxOpnbth8frtqNWkDVasXC06Rwq1HKnRqKDxwQ6DU9KbN3+Arbs+xYL3t+NWYQRhbh5hx/2Yo6u4K1uNcNdjCK5TCN+JYdvG7Uhp2AG24sPUNORkXUCtJjVwKi8XebaNfiNHYfSoUXB0FZHCfNy/exflqtXAR2fP4z/rNcTOI8eEsU4vXZ8+fQRd6IljZ8G1PFzfy9Hn++vWIhYpQIvm9bFu3Qqc+OwIqtWsjsMnT6By3bp4b9MWVGvcDOdv3YFqGjCVEJQwNwRwZ6iCq1cvY8q0aTh64hTmLFyKnEAYMZ5j+ajW+tZawEdcLYBlF0DV8pB5/xqatWgkphVv3rwDU7fRt3c6JoydC1PzkPPgGiZPGIL+fbpgYP/uqFThDTz77HPo0r0P+vYbjL79h2Pn3iOgf0mO+KlQZafPjoX3bCdsLzxyKGgZyCwuFEdhmSEF1y9ewbI1K7Hh4B5MXbscuVHyzwVsHtD49Qqzo6LyJlwqRxqIM2fOxLJly4Tnkrxavnw5VqxYIabeqUjZ2XGgybXXnPLlgJMeCMo55X3KlCnCK0DPQMWKFfHFxYsYOW48Rk2fjnfmzEW7nr0wcuIU9Og3ELrl4ezZC9j/ySHEwgoM1UR+XoFY082NgWwL7DxYX3of2E44ZU9vK9eA0ytGuWGboneVnU1pxippxnQG6iAaPVwTy3V29NAyzJs3D4sWLcb8eQuwaNFSbNr0gejElixZij59eouyOVCgvHbp2gm93uqL/qPSMXvJQgTCIUx6ZyJGDk1HXnaOaMf7jx5G47atsHzrB3i1dhus33EY8agG2DpWzJslNl12H5SOlR98iFA4Dzc//xhN6lRDTlEuwvE4Zs6YiVvXb8KKqlCKQtix5UNs2rgJWXm5mLlgrjgV4Osc/XqKUGuej/nz5mL2tEkwlWLokXxs27ASPbt2xJbtO1CzYQquZgVw+14WJo+ZgMLsPHiWA+6C/2DzB9i1ZzcOHj2KtZs3id3OisOpTkUMbpYsWSLox/Xx3GA4d+5c4bWjvFIGyBcZKE+S3qQ95YoDdfYBlEHy5tGLPONz8pA6jc6Mz06cFMsAwsV30bNHH0yZtgJvjeiB4eMXIq47OH3uUyyct0KspYyH8/Dg/n0xiKf8crMr9TPbFuWKbYAGC42JuGkgauo49NlxjJ88CUXBIBRFxQcbN6F/n77o17sPBvbsg3//2U/RrEtb9B4yEIMGDMDKOQsRvl+ADxe+h6ZVayHrQRYatk7B8p0f4M2UFpi/eDnad+mBWfMXIarpOPrZaTRrmYaFS9/D/dwCHt2KolAIl66cQ+061ZKeVSWMjz/ejYULF2Lx4iVYvGgZ5sx+F4sWsm0uEbLLZV/UFaQb6Vfaxb5ADjI5yCO/aIiRV4wlPxYtX4S9n+1FVAmCa2Byr97A+vmLsGbeUqycuwxz5i7EnKXLcOTGdYS0KCLBXJgaz9Lm6QEPz0N2PRSFIpgyYw4OnTwtTjzIz7qHdcsXYcmi+Vj87jysXLEc8xe8i4VLlmLBoiWYtWARrtzJgOVoSGv+JlYvWQHP8LF53U7UrFEXphPFuKmDMfyddHEazOWb2Rg2eDB6dm6HX//8Z0hLbYZWKexHfoNOXbuj/8ChuHjjjpg95HFhj6o9yhP7SSlTXJbHvpl9EvuhN954QxiP1G3UaZwh5eCcskNdd/XqRYwdlY7x40dj/NTJ6NjnLQx+Zxpa9ewHxfdx/Pw5zJ0/G0sWzcPSJe9+qU8p7wycxaEcEwcux+AeB8o0DWbykMYrjVXOan0fr6fGWCUz2HDIKHYyXEjMac1Vq1YJg45TneygRqWn4za9bdWqiqmqO/du4HbGTXx27jO8t3o5nv/1s1i1eBEunvgMz/7Hq9h/6hYKNBNBHqbvGbAcjvwC8A0fkwZOxcDWI+HleGhXuyFGvdUXGRn30G/ECLxSszYuZOeAh4QIY5VTUda3N1ZZP9aTRjk7VnogOKLn4m16r6ggKZxUMlQ2pAvzkib0jPKjADy2w+KSBk9DZvYNVKr5Buo2qoPyNaqg58AhmLtyI+o0a4d16zeI6VfC4IiN8KiE6FlNS0sTnrmWqamo1zgVU5esR57GdTVc2/v4Nas8q9bhkSB6AXKzvkB+7l1sWL0Rb1ZPQdadAmTcuYMzp3ahesPquFBUgCvBYvQbNRpVKldCu5YpeKt7N+z4cCvK16qNjUeO4oVGzfDp2fOic2CdqTDYWXDXMD0zpJc0zHgmoqYWo3On1qhatRKapzRG/Ub1cfLcWVSoWRPb9n2KV6rWEBuseJwOjzC5cPoY3urVFaktmiGtdWt06twFzZq3xOD0UcguCiOiWd/BRwHorYsjL/8qRo7ugy5d26BqtQpC2XXs0AUDB4xASvMuGDd6FuJhA6ZaAF3NwowpI9A2rQlq16yGV155DS1bdUDjpmm4eD0Lqu1DsxIoLg6LwQu98Rzdc52d9GLRC00aWq6LYsvER0cOiA0fHVq2EhtyUlqnIqVnRwyYNBqFKo8/McVB5l/T2pT5hztiSXvKHz1gNOI4VUsl2rZtW+GN4VpiTtlSyZYcXNJbQ7xo0LLjJxzKNWMOxLhBqmmzZqhQtRrGzZ6NsbNmo0OftzBw+Eh079sfcc2EwiPkFANfnL+IVilpSG3ZSsgsOw8qdpZBeWHZ9AzR08xBDpcIcOkIl7rQ0KShStln3kcv4lYSb8K6cOGC8FrR+GY5v/zlLzF//jwcO3YI+/btwcWLn4szEimPrA+PALt8+SoqlK+M69dvi3McQ7YBlWvvLQtLFy9B9UqV0bZ1mqj34ZPHUa1hPSzc8D7KNeiMNVv3Ix5WcfHEUcyZOA4ZmZk4c/U6mnfshItXzmDf9sVo27wa8gL5iHEneTyOq19cQseWaejXpTtaN09B506dxPT7W0MHIbfwCU8D4OBH1zFr5gzUqloJHVKbo3/PDpg9aQzap7XEJ/s/RfV6zXA7PwCda/3yi3D8wCGkNmsuZne4OSm1dSuktG6FcVMmoZBTwIaGQDAoPO70btNTyWVHjDlDwmUB5BsHGvSscoaH8sNBDTdIUb74n0tHOBtE/pBvpfGOMkrDlzJPZwbbROOGjdAutSXSh3RDn979sW79J+iX3hsDhs2E6VkIx7Ogxy1Mf2c8unZMRavUVOH152CD+obyLGHSCCY+PXr2QIvWqWjZLg3d+/XBtVu3xIkx1KmGyqP8XPi2h1BuISrXqIZdZ48h6lrCG2+ENSRUD0c37EDt18ujUcMG+O2rL2Hjob1I6dpZbKziBqulK1eLNas372Xi/MXLuJ+Tj9zCALLyAwjFYrh56zJq1a6MM2ePQVEiuHTpIg4c+BR79+7Dxg2b8R8/ew4b1n+AgweOCNpxWp/1oGyXRju2A9ku6cVjfrZxerVphHHgRR3MNrDv8H6cv3UBUaUYGTevIvf6TexctR47VqzHB8vfx7oNm1G1cRPM2rQRQSWChKfDsRTEIgHMnzNLbKRs37EzWrXpgKWr30dYM8T6VZ4scO7UMezauRWf7PkIfXv3Qrly5bFn3z4cOnYcHx84grs5heJDMr06p6F25Rpok9IVjeqkoUH9JiiO5mDUxLcxbNwwsQwgbjrIz3qAof374MXf/BrNGjdA/Xp18cILv0Ortu2RHwghuyiEYoVnc3/90z5SzhiTbpQvyirpRL1AfUujkn0S0+QzzhRxyVHjxo1Q4Y3XMXvOdDFo7NrvbUyctxBdBw1H1HFxPeMePj24H8eO7sehA5/gdy+8IIxhDizYDrj8goMjLnPiBi7qMnpciQftAnq5uX61bINVCS3+N3/zN0JhlEj6zm+pcGTjYWfBBcs/+tGP8NOf/lS4wenxoHftH3/yE/zi3/4V1SuUR+eO7XH9+hW0aNkcP/7f/wt/+7/+FnVq18C1S1/g3s3bKFeuJv75py9g577D0DjFxC+bWDzvkl9PcjGk9zB0at4TdtjDtjXr8dxPf4p/+sd/wIuvvIoqdd/E1fv3wdPMxJpVjux5fiGN1lI6vSclEBsChZuGN3fjy4ZAhc6pTU4pMI2KUjYWTlFxCo315wHz7CCdh4fK8+se/KhBVI3A4XFJrovl6zajSWo7LFmyXHTgVKqEKacYJGw2SDbC9FFjkT5+mthMxrPwmNcXG6xY1+RpAJx0oG+DXxhhWmbGNUyeNAYD3+6PAf0HYODbQ9Gvz2AMHTQIK5bPwRuVy+H0rZvJA8VdT5xn6Bi6OAcv634mXq9QAZ9dvYoXKlfFpyc+E3VifVk3xjQSaHwk65o0dngQezwWFh9E4NmWrmshEoviTsY9/Or557Hv8FG89IdyuHzzpvAuupYuNopxsxg3JAijxHVx8fIVvFm/EfKKAtBMwvm61+ZJ+Vl6Pp6paMC0kp78I8f24dCh/Q8PkueHKYAN72/Bzu2fwLEceGIddRw7d2zC3DnTsXz5UsydOwcDBw3DK69VwoVLt2Dw8G/dEZ0yvZJc68TOiIYLp7m5rokdi5AZy0RIV3jsrTg6h4zzefauoeOjg5+gefvWCImvU5lIOKWfBiCVNeOSFzs27tymp5Tl85I8o/Jm+XyHAzIatDwpQKaxjVMG+Z8Kn2dPcldu3LIwfuo09OjXHxOnTseAIcOgqBoCRcXCOK9bpz52fbT7Sy8RB7CsL41ols2LXiFOA5MeLJ/Kne2LbYplPu5iXgbCYSw7LHYabAc0qn7729/i+PFjYq17IkHjlHVMDiaZh2fqZty7j9q16+H+/SyxOYaH0Itjq+I8ANyFy7WNupE84sbQUaN+XWzauQPV6jTHvsOfQ9cMbN+4ATcuXxTncYZUDeevXsG27Ztw8vAONH6zFoqKA1A0VaifC+c/x/PP/QqRwqA4Oonn9d64dRNVqldF/hMuA6DpLoLPs30NWHpys9/uHVvRMqUFDh06jEpVayIzr0CsIYbjYevmLahXqzY0JbmLn9tU3uUa4R7dxSkEBr/wZNti2Q+nRjlTRN1FmeE9BzykMy/KDwNlip4regpJT8kDyTPJF/m/ZEyZYnlSxnhuqmuZUOKFGDBgIOa/uxIjxw/HkGETxNfuFK1YKLLB/fth5IihwuDgQIbySmOZepiySVnm9C9n8/Z8vEd8BICH+y9f9R7+UL6caIfEi2v4qZMjxSGx0er18uWx+8QJMe1L3aKGFThxHQnNBnj0ms+ZjygiWhit2rfBzDnz0LZ9J8xfuFgcnG85HgLFYaS164BFS5eLD5hE43Hk5D7A7DkzEYkUQ9X4zTdfyDpl7+yZC6j/ZiNkZmSJs38lfUkn3pf8X5J2TGdfIJ+T9mwrNJ5ee+010Tfwv5PgV6r4ZSlNyMmHa9fhtz97BiP7D8SIQcPw9oBB6D94MPafPQPd5hnlYTi2gbmzpqNp40bJAbRtI/NBFipXr4UVq9YIh4jrmMi4exM1q1XG3j27sGTJYrRr1x5hfgTD9RGJ87gpT3w9UovzfNwE1IjBjzcKveYnTEyePhbDR6cjrnM9cgKhYABLF87HuwvmYsH8uZg2daqY0Xn55Vdw/OQp0ZcrPLOZbb0kMR5+tUrqAfmIskjZopzSeKSzh/+lnDLmO6QTz02lbWGYKiZMnojWHTth6tz56PH2YLFB1uCaeHhiE3gsFhGDfg7mpQ6jjcOL3loOmniCD+Wb8sk89OBSn3Gmizh8366nxrMqhYKNh4yhQcdGQ8OVHQbTOHo+w7Vzp0/j2rWruH49ua4pKzsLp0+fEuvWyFDHsRESo8XPcerUGVy6fAU3bt5E5v1MZGZmICvrAXKys3Hn9h2cPH4SuqpDV1WcP3dOjC7v3ruH4ydOiAOKhTKXPzRSRfjviwkVA138HMlzapXTYTQ26IVgGg0ONgB2tqQF72mscjqTmxH+eAmkRHdDgXb5xSbu7nVdrFy5CvUbNBDneNK7xDKpfElDBl6ELRvC6NGjMWjwEJHGna/kBfM/7MpE/i9Lk7QQTV0cQiu+DEZY9DCxrHPnzqJmrZq4R17Q0/cQplB8ti0aIUeI586fx+9ffgVnz537cvQvcaWxSs8cOxGmyfBHnJIY8Zf04zQMR6TlypfH9Rs3HtbzS6wf1oXGtim8B/XrNxB4EC7r++e9ODInPegBNzF69ChxBAzXbN6//0Dgy3WWoVDSICLt+Dnat/r2FV52GniUh7Vr12HN2rXIyspOfnXNTR7+zg6Uu94p61RsXK9JetIQoLFGHlMWRO1LkID13MDd/I0bCbqyXNb/SS/C5eCGnToND8om5ejRi+VQ8XKwwelcqdBZXsmLqLF8Hp/07sKFwqCZOnWamHbjO5QnDt64JpdTkvQs0KtAw5TtgXqBgWUxjZ41TpGRtqQLp585Y0Ga0Kv7pHUlnuwMWF9utqJnlV6nR2WPdWFe4spZIHqFiO+XtJdSl0ga9GzTlD/iW6FiRby/fj2qVK2GXbv3iM/x6g+nbV0eJO96gufEgydJNGxQH/kF+SKN5VI3ckMQ9QenB6lTNm3eLDy3NLK+2VVCSJDAx3v2iLbHDrNmzVrIzs4RfOf5rmyX9IJyrTLljzzhsTqDhwxGYVGh6FhJD07r80geruvjdL5cey/XGZMO5Avrx86Ysz2EQ3n6Nu2R77J8tifKKJdqELcxY8YKXvGcYvLh7f79MXDggC/bEPnGdsWlAOQ7+crZPA64KFs8NoiyRznlFDDrQTgM/EgD9WV2VhYqVquFT46fQdRyEOOXmJzkqRY8Oxn80IrPAWIcdrQIHdukCgO9bbt2WL5ihaBFPK6ITW8dOnYUm24oy/cy7iX7rJwc4dGnXqFelP3DuXPnUaFCRTFj8W1oJ2WGXnAO0GS/Sx7x89XUaaTNh1u3olrVqniQeR+ZGexTM3Hp8mUEuMabH+HhV74cG+9MmIBuXbuKPpyzKTwVpDuPZ/zkE3F2raapKCosRMUKFcR6c3oWKdekNWFS14jP+doPNzWXEFPWk7p1+PB0sP8iLfiRH8plpYoVxQkcHHgwcLnbnj17kJOTPK9bnE/7DfUe2yz7ZxqrcpAu6SVjKXucceFSio4dO2HGzJkYMHCg6APJM+oQfngoFCoWbZXLYNgWpEEqYZWMCZe6i22dHlfK6p+DzyXL+Eu4f2qMVTYIyQAqCjJQCOBDA4sKiA2FacxL5lFBlJwmlnn4vhQcNjieVUZv8U9+8hP81V/9Ff76r/9arP2gUmc5fI9KR8IjTJYj8flzMpJlEH92MELJDx4s1vmxwbGhSQVInCRN2GhpwLCxl4YTaUF8GTOww6YhzKkdGj2EQ3h8xpiXpCFjTkHQU8d7wuElY/Hnv/ghXNJRlk+60qslDU3CJd7kC9NoXPKAfDY6TqtQIct6MWZ+rh2j0iRcvkfYjEu7WB69MjTa2LFIvpaWl/CoCNkpERdJj9Lyfps08pH4MvCg8SFDhnwlcI0y14lJ45KjaI6yuUaKO6aZn2uWufSDmz0kPOJMRcj3JUzKDt+hwcI2QvqRXo9eTKfxQM8k6UBaf9P6Ew+uGaUsSr48Wg7hUs5pUHPdl5S9x+HEQSinH3lWKtef7ty5U+BPOAzkJ9c70vvGOpPHrCvhUskzZjmkCb14JenCzoWyLOv7KK6l/SeeLJf140CRHQpltrSLsJmXMsyyqG9KuwiL9GcgDQmTgxfynDGfEw7LJg8ZM433NJjZnvke8/BieWw7rCu93JQbrvOnbFB/fZuLRhk3xXEKkrJC2SRM4s5nLJNlMeZaYd6zvZOPpDN5T31FXhAvyjFxZGC7I00JS8o+68W2QGOFvPw2F2lGuNSZ3GDH5SGEzaUFxIvywkDdwiUJxJ/1IK7Ej4MOyX/Smnyn4U3ZY13ILw6EJC9puDAfy+WAaPHylbiemYO4+A69I7x9/JxzgrqLRwH6JuCo8LUwtm/ZKOSdNOYSMOJHGKQ19SONbeIk6cyzf5mPNCbNmJ9lEx/Jp29DO77LulPeWGfZZlgG+UJZZyAtJW+JG+lIA55GIY06Kct8n8Yn68G2SWcLHQqyPZKGpB8HlbKelBXC5FIEDhZYLuE9ehEnwqdzh4YoeU7cubGTRg95xUBYXGPKNMIjLJbPsp/0YlmkNTdwUv4fZ6yyfNaf8s3BLQd21P3UZ2zH8j3iQHiyD2Qd+Zx4lXZJ+rN9UQ+yPbKs79v11BirZJZkGAWJ91JQyVymyZhCymdUOiWFj++QiZK5ZD6Fgo2PhgyVL4WbRiGVEp+z0cuyWIYM31Sgn1RwWBaVEcuV9aQQs058xpg4M2bdWE/mJz5Me5yQMp/EnbGER1ikB98jfD6T94xZBsvn+xI3pvOdb3KRF4RNeHyX5cp7wmYaA+vB8iTdWaZ8xvJ4z/eYj4H3Mu/j8GEelk+8iQNh8v+jF2HzOfGR+PH+u7gIl2VRibK+xIn1YLm8Z90kLhIfmU48WRcG5mM67/ku32F9GZhPyguf8V7ynfkfvZhHlsWYsAnjSS/ClLLI91mf0sopiRdxl+20tLJknQlL0oN1I658jzgysFxZd9KT90xnLOWD94THQBiMmUaa8P3Syi+t7qwT32fHI8tnXNrFvKSFpD3fKy0vyyY+NKJYN0k7xnyHzyV+jAlX8ovPeS/LInyZxvf5n/WUdZVwSsP3SdKIpzQ6WK6sm8SV5bB8BskXvkM8GHhPmjDmO/I/0yRtJd6EQXgsh/kYfxv8CZ9yI5dxECbxZzksX+LANOLAvMwjaSdx+K9kT8JkXBKuounQ+A16PyG+mERDlUcBJtgeuaQqYYsjmxKODs9Jepel/uVAlPQjDYgvcWF9ZFn8L+vBfPKezyXdGX+bi/UmLRizXtIIlPWU9JE6nLxiPsoL8SfulAnmZ5D/iSvpzf/EUcoQ8zIQLt9nubyYX+YprT7yOd9jOYRNWtHjLd+TZZWMec/nfO9JL8JlYBl8j+/z/6MX00gv0kLiRNqwTpJOMiYcpjMmXKZTN5R2MY9sj8wr5a20vE9z2lNjrEoGkDGSoWSMFCz5nEJAYeczCgfzUwAp6MzDd5nGZ7yXzGUaYfFd2ciZn/d8xny8Z8OhEPF9hj/3RZiyTCrUkvixXAosR9esZ0n8iPefwol1kEEqEgmDcPiMF8tmIG0YCJPPmJf04TOJ4zepO3nA9yR9WS8Jn+m8l5f8z7wyv3wmY+JEGMSLOPEqCUPmk+nMT0UhacYySrv4XNaTvH5cvtLe/SZpUhGRLuQpy2R5MuY9ceFzyVvCZx1ZX1kPWWfiyTTGktaSb3yftKJC473MVxq+fJd0Ih4M3+Tiu8SHZTDwnvwp7SJuxEPWQ8rVo3kJg0E+l+2BcEkj/qengjSU8IgHL+LPNOLCe9JGvsc8UoYYSxl6tPzH/SdMvkeYLJv3pV18Lmkp+UucHr1kHRkzP/EjToyJM+Hw4nOJr4TN5xKmhCPz8H3Co84grSTOj5b/Tf+zPCnDLJMXy5F8Z8zyZJ2Jq8SJ77Ju/M9rhDE7AAAgAElEQVR75mVgPZjONAbCZbpMow5nGbK8b4oz8xMPwmRM/BhLXJhO+MSDdCPuxJHlyv6Defm8pOxRTzMf3+V7kha8Z34G4sw8XAJiup4wVHn8mucnZVvUSXy7mwYrvwzoQFU4LYwvZYF5JEziTvpLfCSdGDPwYt2IE4PkA+n6bS7CZD1YtqwTcSBc+YwePmmQMY/sbxgTF8lHrkUm7Ygb35XyRHi8JwwJlzRnubJMwuE9nz+uToTJsvgu7yUswpd0kXXhM97LmM+f9CIekv58n/AZSruYl8+ID4O8Z3m8Jw7ymdRpTCd8vlvaxWeyPryXMlha3qc57TsxVklUEpyxvC/5X6Z/k1gKKhknBZcM4r0UEMKT98wvGzbf4TMyUgou0/i+FFA2JKYxUBFIWIQncZfPGLMxSQH6JvX4r/JKHGRMfFkO8SMuDGzkJetG/CSeEtdHy5HwWF8aI4xZfwmT93xXBr7PdyRc3kvYkm6PlvGn/vMdPpc0Y/kSfsn35HOJj/xfMg/viQthMDz6rLT/hEOaMWadSssj02TZ/1U+mf+/ExMPWQcqbMoT/5MmrBMVOPOUpBHxZ1nMxyBlQ5Yvacp0vseYaZRnwmLgf5bF5/K9krE0vJhP8qzk8z91T5xYBt9jTHyZVto7Uu4kzqXlYRphEVeJO2HKdyU/WU/WUcJizE6KscSH75SkJWGzTTEQR0nbx+FRMl3Cke8RNmlaMo+8Z162N0kb5n0cXYlDyboSBv8zlITHehFOyTTmYZqkE8tjIG0kP/hM6jb57n8nZjkSh5LlyLoxjffESdaJ+Zku68OYeDGNeBEPxnyPaXzGe/KReZkm+f3fwbnkOyxHtgHSg+WQThJniY9sPyyX+FNWZL2ZxucMhMV04lkSZz5juZIGfC7q6dhi86Dvsy0n+8g/4sf2kswnyyJM0oPwJI0YE67EWZZNOkma8p0nlb0/lv8oPl/9L8thucSPgeURN4kvdRdxk0Hm4zsMzCsDcZS8IA6ksYTFOvKe8JmHMctnuqQl0xhKw5/pkj7ks+QTy+QzxiXh8V7ClXFpcEtLkzhIGCy3tHzEnfSQdeR7fIe4ML+EI2nFdOLO9MfBlHkJh7D/VBsvM1YfoQAJLAVKModELI15ZWlfVQZl9CijR5kMlMlAmQx8n2XARcL3xNQ/p/9L8pqeV36+W2zCe+jsKfm87P77LBfffd0eMdWeqr/fiWeVhqkcLXBkzFEB08pCGQ3KZKBMBspkoEwGfqgy4Dk2fMd4GEx4Dj1tjtjVzs86c2mA6SWD7Zb1mz9UOfku6k2b7Gm+vhNjlW5oelfpnqZbn/HTTqinmclluJdRoIwCZRQoo8BfAAW4ico3koGbqR6eU82D5GhKcEUpV5wyPN2mxV8ArctQ+F5R4DsxVuV6DH5lhF/Q4fmGPIOsLJTRoEwGymSgTAbKZOCHKgNpqSlo17KFCG1TU5CW2hKtUtk/tkbLVm2Q0qodUlq3R0rrDuL/D5VOZfX+8+sIfg77ab6+E2OVmzToXaXRKjcDPbroWi6+/iHHOo+oKbEQ3dANfBkepn8tT8n8ZfdfLuL/IcsR6y7lRJMy9VCW+FUkBiFXD599med7KT/cyS2D3OTBI3EeDfLZX2JswtAfhq/g/Thck7vXf+ht4Gmov6XF4WohERwtKr4KZugadMMEv5wUM11ETE8E/n8a6lSG4+Pa5V9WOvcPPc3Xd2KscspfrlmlkcpdeAw0YMtCkgb85jY/t8jAe13TYWo6rIcx/38tTxn9yuTnMTJAWYkZOiJWUqYMTYej6PDiyWArSRmLmzoitg7V+L61RQO6ZkPXnIcx75Pnleq6At2IQzdi0A0OpGPQaSA8hpb/M+kSNx6/VSJoZhJ/1YOucmcvDRl+VYlB5iPv+D7zWg/rm9zp/z+D+/dNdv4n66PB1OIiGF/hJ/W9AU03oeiWCPxfxs//Sd58v8ui8/Bpvr4zY5W7FrlulWtWaaiWjb6+OsqiJ0w1k4H39H5ZmgFbS8b0hD2ap4yGX6VhGT3+SA/KSswyELYNxC1+x92ApxhIxJLBVZLeVZHHMaCYf3z3+0FHE4bG72r7MHQPhu7A0KVnSoFhxmGYURhmGIbBw8mTB5D/n6u79IZSN/KoHwYdhm4lcRd14fF7xFMpkeehLhXecuZlsEvU9fvG17L6/J+T0TLaf59oX+ZZLcVUp1e1zFj90w2dxkXJ8OX0v5yyfWisfiXP93La9k/T6fukLL7LulBO4qaBiP3QENUN0ED14/8/e/cZ5NWZ34n+vvCL3fI7V/m+uOvy3ruusstrb7l8PbXr9diz67kOExVHAQWUEwpEoYSQkAChAAghoYCEUM5ESYgclchICBCxCQ1N0zl3E363Pk/zMP/pQTMNTTcw8z9Vp885z3nCL36f3/M75/S/fW+r/2WweqzO75Q9nW3BarZ7wWfe82tAOQAV0ApW833HwiD76OsO6ZWB3F/x2J1+Vuy7aF9nqw0Ug9VisHryWeMOgal3CfMu+PiVAPZ3KrAoAt6pBjz2Ilta3dKerWc7AlTZVXvr0WBVHdlVdnaqaTi9/Z1NwWphANpRD+7lTKuMquujQemv6awwiHXesa/idVEmRRso2kC7DRSD1WKwenKThMf+9b8MIuqPZsY8wpUhcy3gEGSolwLX4mR0crL+PZCbYFUAml4tOWo7XivJe3NDuw2xK3WKwWphhrInJ3TjCkJr24PSX3mcLyh1z+sKB6Kpubw9WE2vNHitQcY10yqg1Ufhfrp4yjQVj8XAqGgDZ6oNFIPVTgarBOVnJf3er5+Ayz+HmH8b2Hut3nF170xUtpeT/ZcDNJaVlaVf6FJ20rR6mf5AVRxubInqyuqoqq9NH8fsq6uKmtamqKipiZam5mitqY+mqtpoqG/PnPhgLf88Z5bZ7t2703vBZErO6FLP/7d17b1h/5XBdf5PDej28n7uL/OVf9PZGPrZt2/fsXeO/Qa7+rlNZ3lHQ26nTzp2jX70GAst6M//PWLv3r2JXvW02blzZzr63Wnt9OncUR94xINzbbXRL57RaczctzrKtDWmc0djKUMLvvXZWR7V087R2Gh07pjlrH80oVPfdvQpUxeNWf76cK69Onv27EnnmV50apd5UN7sp05bWmJ/2f5kL6m/mpqoI+vGxlS/fH95VFZVRX1DwzFfU88Yxsw0k1UhH8rPlL1Qzonvoz/1WF/XGgdbj0RNdVMsXvRZlJbuTzw3N9dHZVVZ1NYdiKrq0mhoYC+1sX379vj444+TXOkm99u9fDZGbW1lNLfUhQ+/6usb4mDboag4wCcao66+KsordkRd445YvXZerF27Olqaj0RVZX2qV15ekX5cpaGhNmpqD0RFZWmsXfdFrP9mddIXe6BLGJXtl4yU8YuPPvromJ67l88Tsxd080v2zu7YX6HPoh8/fJ6u7Oq5Vi/b7uniie1kf0Qbfvxjd7iV/R2NdOE+mvGb+da+oqLimD+ra1euTa6X+VamD/KCy45kgX910WLPWOe+vrKs0EamjhkXT7XsMu34MD45oK20tDSN6Rw/eDG2OsrYqXL053LXWY5Zhvp33z27a2ORR+ZFfxlH8Z77VY5vbey5Dhr07zr3cSYd8ZdtPssNT8qyHvGgrCPdeD6btx77wIqgOAcjADqDBg2KP/qjP4rvfe978fnnnycjBbCU0VHIp/uaMe/atSvuuuuuOP/88+Oqq66K+fPnHwOCk6HPB1UC0dWfLo9eF18Sva+7Ju4YclfsrK6IXTUV8d6MaXHheefFJT87J2Z9MC2qKipjwYIFcfvtt8eFF14YN998c2zZsiWB4UsvvRTnnHNOKn/rrbeS861ZsybRqvzuu++OzZs3JwOeOXNm/OxnP0v133vvvWTkdAJU7ddee22qS0evvPJKuv7xj38cxgAegKBwIuwM75yK/oGNsTgSxxo9enTMmDEjgRQZA6nHH388lixZkuqsX78+7rjjjrjkkkvinnvuibfffjvxtnXr1rjiiiviyiuvTLtgPfeJh+uvvz42btyYxvvyyy/j4osvTv/jd8iQIYl2NEyaNCkuuOCCpMtp06YlgPrmm2+id+/ecd5558WYMWOSPNCOts7wqR4+gQX5Oc9j4cF4H3zwQZqU0KyMLm+77bbYsWNH0sX48eMTTz/96U+THIy/du3auP/++xNd+mCL5Pf666+nPpSxjbK9+6Jk2/YYPHBQnHv+edHryiti7fqvo7apMZ557rm49NJL4/yfnxMfvPte1FRVH+OLXqZOnZp0/ZOf/CQeeuihJCcTHT46w3tP1iFfsiZD/zsQXxdffEn89Cfnx5gnnon9ZVXx9PjnYvPm7UkHGzZ+HZdcekFc2uuCuOiiC+K666+NDz+cGYsWLYonn3wyTeDo76yeu8Zr49GPvaqi/MC+qKutixXL18Xttw2Kiy/uFT/8//539B1wbZTsWRaLlr4Rc+bMiYa6tti/rzrWrF4fzz07MS2kZFSbW2qjofFAzF84PRYs+jhq62qSDT377LNx2WWXxd/+7d8mm+MP8EowNHbs2DNyIs5BFD9md/wG748++miyQWWTJ0+OG2+8MfHGf+nfnKJtDsq6ppsTC7ALxzJvsR8YyT5h2QMPPHAMp77++uskf3XQi7+FCxcmXKIr/ifgYJP0BbO0z8kCfohH+DBhwoTk/87NR+r/y7/8S/zoRz9K5UuXLk24BiNhBPx46qmn0v87v/zyy+Pcc88N+LJp06ZUn/8X8nKqzvGa9UKv8BAuw1iYNWzYsLQIJys0mFfgNxrxBRvfeOONhI3PP/98+p/tMB//6uJfHf3967/+a8JHC9Avvvgifv7znycezSew0lwJZ8n6uuuuS/5gTrzllluSjvwveP5CXrAYradKDqeqH3ZjPpC44AtodT1r1qxkA2TKbn7wgx+EubPjuHg6m7ceC1YZrZ9dBZjvvPNO/OVf/mWMGDEiGRsDBDyMm6N3FPLpvkbXvHnzYuDAgQloOAPQzCuZk6FPsFq5e1/cesU1MWPKtNhRuicGjnggXprxXny56Zu4bVD/+GbdV1H27fYYcEOfWLt6TQrcABFAfPrpp+PFF19MYMAxN2zYEMuWLYubbropgR4HXrduXbpvghJ8cU6BNl0AQYHg4sWLU3/AYuTIkfHnf/7n8e233yaH4NxfffVV2vW7YsWK9C/JMth2lm/1M3ABdWDw4IMPxt///d/HCy+8kBwOiN16662pTPAIzAEshwR006dPjwEDBqRVueOHH36YdDFq1KhkT+zKiv3VV19NPABofA4ePDg5swBPO5PCtm3bUmAm6CU39ocmC6iXX345ycbC5P33309jd9Ym1cNf5hfPy5cvTzIHroJwE4uAH1ADHDTjAZ/G69OnT5qcyUMQRhcmbAGIfgG1BQkwuvrqq6OkpCRNRhYxe0p2xYx33o9HR4yMsvL9MfHVyTHqqbGxadf2uP6WmxPfG75eH/1v7hPbt2xNOiE3dFvQCKT1x87pAP3o7qyee6oeutgrGyFLAUtlZVV8/NH8mDl9TpTvr47nn3spvt20td22Nq2PJ0aPil27t0ZtXVns2PFt4umzzz5LEx6dsRX9dj8PjVHXUBG19fvi4KGmaG5qifra5qgor4nqqtr48KMP4rExg6OmYXXMmvdMzJ49O0p31UZL05FYtmRFPDVuQjQ01Kd/w9XUVBm1daUxb+GUmDNvWpSXlyWZsCm88F94IdBhO2zd5H0mLkBMumhEG9r56X//7/89+Sa8c19AAXvNFcOHD0++IcBjvz2ju+8OZvmRj4oFBGwTPj3xxBMJP2Csc+UCM/TCI3gnuBI0Zgzi/7BOPfOkIA3vbNyP7AjiLCaNox/jwi4L8XfffTedC/YkK3LAvGrVqiRXcoSl/fr1Swt/vq2su2Sn34yFxuWv/fv3TwkK8w+8Zd98mN7tEgY33HBDwmC84f3TTz9NNAvSYPedd96Z5iL11VEO/zKeCkDJXL/GsFAzV5oH2cvq1auTb2Te0ciuBPc5yCPb7seC77an440Np+iMDAXWzz33XMItcqBrNkEGFjnHi02KwepxQvXj/TcAgiYsQuSA3//+95Mhyu5ZFZqUGd6ZaCScbuLEiSkbx5kAjQBCIHc8o+pMmWD1yzmLYtwDI+KDt9+NaR9/FAvXrYrtjdWxctvmuLrPTVGydXvU7yqLa867OPbtKU2BDWfjnAIWEw+ws7pkrAI0E5TJSj0AIfgAeuoCRQGQMo4KFExgnBp/Fg+CXFkAAAdA9csZrGJlwK186ZeDd4ZPddSlV2OyAYDzzDPPpID7tddeS3RaDMj6PvzwwwlctDMpoU0gAXwFnoBLkCZjqg2A1q86AOfee+9N2UaBCHsCYgCIzmQtyEFAC9zJCH+C9JyNAPx49LhU1o29dhbMyTsDtMdraBKIykrLUnvkbEGhnkwxoEajQHTcuHEp0yxAJwdlaEMjwLVQsPhgc3SMvvvuuy/pnz4Fm6u/WB4P3Hl3LJw9NzZv3RLrtmyKK2+5PqbOmRUPPz4q9u0ri7Kde+KRocNixeefJ/roxSJGtoG8yf3NN99ME6Px6auzeu6peuwRaJO1CZB9CVYHDrgndu8sj/1lNTFm9FMpWIU7m7dsjIGD+sZLk56N6TPej1mzZsSePbvThOYJhcCIT3VWz13jU/a9Jhqa9kdDY3W0tR6MygMNUba3OrZvK4nX3nghVq6bGRX1y+Kj+aNTBurpcW9E2d76+OKz1TFs2MjEe71XGRrKoqJqW7w0+Ym46NKfxvDhDyffFtiYoGVa2LmsuwDGQrVv375J713j4cQm2c6MRfZsEbbAqSlTpiSMGDp0aJonBBhs1D2YZ9EmIBTMaMsmOjNOd9XhJ2hBR8Y7OMxOLQLhmnP30Qt3+bFFqXYCEPjK1wVa7JY/+gVItgmTBVtwwxMpfOjHWHCFXgWA2vEJY/NfwS/sMC75wg2Ldm3Vz9jZHXIxhjHz2DDYXIUfuGZBjCf1BPLK8W5RwifhOx4kFTIOk4l5iz3kftmKJ0+wlH2QqzmGvGE+LFVXH+ghSwke9JAXGZCrDCU5KNNXd8ikK33StXmZbCSfzGNoxRud83l+LouMz45jsdGzeevRzKoJnEEyLOl4ArZa/Ku/+qs0CROwibyjkE/3NWfiVAI2EwGHEPQIcE6WNsFqybpN8aPvfT+efXJ8PP3i8/Gz66+IKSsWx7baynjxrdfikvMvjIG9b4wPX307Guva33NicIzRKtAkhDaBpkdAAMuqPIMQQHAO8Bg4UHQEGOQviOKUwMBqFV8CVMGdjKAVKrAQdAlkBVx0lIPOzvJOz8DI7pxzGVd22GKFTaCN7o3DJtQDLsYAOiYtdgOk/u3f/i3JX1BlQjZp4VXwRjYAH9DhXXBuQuDUOfMMJNVFB/np1ysGHv8DeYBItgJNANFZmyQb46CbnegfLWiwuJCNd41fQOk1AHrkhOgWaAsogJDMs0fceJABF5zrOy8iTICCbLoxnj4+njYjev/i4ti8fkNsL9kRe6oOxL+c86N4ZMK4GPfCs0l3VfvK44mHRsbsDz9KvPNJYwNvukY3G7EYoyM8dFbPPVmPrMnGmHQ4deq0mPTSa7Fvb2Ws/3pzvDjx5dixfVey1Q0bv4p+/W+L8U+PjkmTno933nkj9u4tTY+ZZZnoxgSmz+7nwT9/r4jWtopobKyO/WUVUbG/PnZsK4sxo8fH6LHDo+3wjqhuWhYLlo2P+QvmRU1lW9RWtcSCuV/Ej398Tnoq0Puqy+KyK8+Ph4YPiBdefCRmfPhGVFW160sGnx+zYRk9NmfRZyEm68KOup/PEwto2R1bzr7mXPBmEYZeASpf4dcWZxasfBgestPc7nTxZXwYhA/0wC/YYRH6X//rf00L6VyHLtja3LlzEzYIwmG49jBHMgc+eAQO15ULziUdYKa5SP/koh58EKiQhYUnf4B1gjpPxPIiFF2wTgCnPVnxIXjeHXJDh37JwTkcljxQljEWzmXcRL85xmsKEgU5A0zf5ge4ac7y1Avd+IfXMs34Nw6clNTAq3HI0n384tMO2wT8+mBn5juL1iynjCvdIZOu9oleciAnstAfjLazC0kg9nI8Hyffs3nrsWCVEzMsQgSg3qVkQFZFUtoyRiZdyuiqQk91e45mJeORNWPnFFbCJriTHquxKbat/zbuvPm22F+6N/aWl8f7cz6KgcPujemL5sU1N90Qpbt2R8n6TXFT76ti1YqVySAFa945NcFycgEzQCLblStXJrkCBcarrkBJYAMoZR6BvLoCE+AvuAUYQESfHs3L7AE7E14OIj2m1g9H0LfyzvLOSbJD0T/5aS+rKpPoXEAKJDzeky3NACbLabLNgRk7EdC5jwdZBWDNUckBnT/84Q/TEQiZCICdvgV6AFybDJLG1bcA1vs+JhL0ysyaDOk+g25n+MVfBkrBucyWbAY+lAtQZUivueaapDvlJiJ8W92ryw/UxY8JGzjLmisXcHiVQFYWD3nSUefTJcti4G194/Nln0ZNbU2s3fRNXHz1FfHuzGnxyBOPpQ+tGusa4u5+A2LRvAVJhuzZWLIZjoDQIsBk4bwzPPd0HbqHEwJtuvHe84gRI2PLlh3R2NAcdbX1MW7cM7F167ZE/7ffbozhI4ZFScnWaGnxYV+77dKxBQE7yn11Py8+ohJclUdNTWX6un/enEXx8LDHY+aMj6O8fE9U1myNfRUr4+PZE5OtNtQdivL9NekXubZt2xF79+6Jisr9UVO3P7Zu/ypWrFoYX69fHs3NTWnhaSEts8Q2yIl8+DP74cMn4rvdL4/2oJYd8hf65IPwQkaQXfNffuXago/vwA0Bnnr4ZBM9Ret3jUO+aMFLtifyh0MyXp7K4QOtgiu8eKIoSPKtgEWia8GWZIJAVzu6805mDtTgAv3yV5jmGo4JXPVth7H6Zd8Wv2jTxrxlfiBn7dHZXfZgzsGvI5rwb06BecrNM4JGtPBBuGtRYo7RRn2LaHyYs+AS2aijDXzyxM3cpT1ZW6AJTl3TA1zPPs6utJeYQYP29GUBZ07Q3jWbQst36fl0lZMJ+shOtpg86Jlu6RBv+Wmveh3pxNPZvPVYsJqN1lHg9xd/8RdpFejxyL//+78ngyR4BtNRyKf7mmNweFk/TsfprfocT5q2xqbYunlLDBowIIEx3t969524Z8h98fa776RAhHE11NXH2DFjYuqUKSnzKftmVcWBAZQA03uWORi0QgSOnJjTWhigH5ABBytrkwI5y1YKDDmqd12sOGUtTQJW6AIrATmnNwF6TAJI0NVVPaFJsGpc/RmDw5Gx7In7eASuAj68CtTI3GMs9zikyRePAnHv8NgF8+iVMaYnwWEeT7kJQRALrIGadzTJyyOz7OwmBu+Q0ndndcy20eRRJvloa2VP7vpAP7CWURFwGp/eACy+Bdx0Sz/k4Z029+g8Z/HJht4EWkCaXskm8bB6dYwdPSb1UVtXG8tXLI++/fvF4qVLY+CgQSlgP1BeHncOGhQrV6xIcjcWnZos6ZodmiQFOMrx1Fn+e6oeXZIt3ZmM6NTCrLbWf4SQ2aqMsWOfTDYC4On00ksviauvvioF5RZpHhXK6gvK6YE9nYiuT55XH534TxvtGSf0TZkyNb75ZmO89dbbcfHFF8VVV10Z11x7ZTwy6uFkwzXVNcme6uoakt498fDuYq9ePiy7KPr0uTmWLFmc9Jl1ZqIXxPBhizBPVy666KKUnWNzJ0//iWVMuzIOG7cQJSOLTb7N3p2zdws2tm8MdtuVsbraFo18nz/xGYtOuMqmlNMZ3DGOIMnHY4IkSRxBFAyDOewZPrBxwasFs/p8Ev+CdxgC0+hasscTP+MYG8YI5N1Hk8W7bBtshSXkJvAjr+zb6nWV/+O1z0EwuownQOzdu3fSIRtEV34NjAz4IXotSsjMIoWvOpdRhtlen9AXmgXa8N/7/8rIwKIe5msLQ8nMfEaG5hHxBtxQH0abT8iTvxjfXNRd8jiejE6kjE1knZGH+YkcyZdtScTwDdfH83G8nc1bjwWrDAmwMBCBkJXif/gP/yH++I//OD2CdZ/BOp6IAnuiLiNhDJyAkQBQQSIn6sr42gOnnL4XLAkIBQ0cy+rJV695JS1LKhgV4HFS729ybAAEsKxSgSLHlI2UgUSnx0e+PDUhe1VAJk8f+jLJc3pytwMTgGcXvHosJZASMHFy/AJJht8V3gECcCZPgA1Y9AlMBHecTaCHB0eBBdnk7FDOGAjoBNyAUZ94IEfBK8e2yFBHUCLw5czol8mUURXo4E+Z1w/I0sSgD/LVH/13hlfjoQM/dAsQjUfmQJks2Q79oAfv+DIWfdA7mnwMYFIC5voxsQkmPRYkD8BKDkBafRlZkx3/0Qfd6x/QZ5nhUZBrAeOcL8qwyMygmy6szPEu4yN4ZxddtfHOyO1E69AJXfNJr2+wVQCdQZrc+YPXG0xA+KMHeuQDdGTHI5/Jk1Nn9Xyi9Hasbzw0kS1e2L3ABBgLxmSO0M5e6BwPaNPGI362BEczHzIs/FtfeGcbcMGToFzPWPqk3zNRpx1l5Noig40LruCBhTZ8YMOyY2Qi2KB3sjleHz1Vlmkge7QIDPmRwBHGwBuLZzbHFiUU+BtfhFGyxXQm8QAvlPFjZWyWL9IlPxWA0bMx2Yg2rvk/HIUJXp+A8xa0bIPNaQtL1XFNfuTKjrpDTvq2Gwt96IfVkg38Dh579Yxd5sU4rEOzABMPjsq8DgEj2bogje+jW5l5kk2TvfHwDRPNq54kkovxJDEkA7QxJ/K1/AocTKY3fZ6p/pH9mzzJhSxgg3JJDE/a0O8+OXTUaTFYPU6ofrwPrPKkwaAI1LslAjHAy3kI3FG9jkI+3dec2uQusAMMVs0MHc1doY1RAS6P4q0oBVgCQjKwgjQRC0pzcALATGpkJlLxvFcAACAASURBVMhBh8BI0MEJBb4cn4xlxvSpnGMKxNAqOJGRYOyAnmPa0eLonslfH3g0hrGMwZkZPP11lXcyBdh258AMDVbGJmvjexfVZE3mgm6ZCjYC9NBJNu6hC+364KQmipw90DewEwACRGO4ZwIgL8BnPPwBNf2SF+dHW7bNzug5g50xyMnRhJL1YyzZBfS7DzTp2EcF6hqLroEQvslfn/hCE369FqA9Wuka+NtlEshMXbTTGb6zHNwnKzznLIIj0GeD+mOHxpDZQY+dXDvDe0/WoVO08RNyJONCe3QuKGNLbNWOP0f85CNZqpd51W9P8EGn6Mk24potCFb5PzroXqBGZ+qya7rlx/wanRZYyrSlM+d4wb+spIAdbilnW/zaIk+dnuCzq2OwS3hFZ/jIeIRftq9/dbKPdHW8rrRni3RE9uhFExziT3wO7QIiwSc98EdHfkqffFEbPqyNwNJ3A/pTZqc3c4SsKZ2yYzYs+eO+ucAOz/I8AQuy7fAH/q4fNqbv3E9XeP+utsbJ/Tsak33jGWahHW0w0asOeSFJbnTM1mFdxs+Mi+IGi3I2gXeLGhhAB+wc5sFV8ySelfEHMjWP6Ac2sh06MQ5ZoJfu0Ine7+LrdJVnnbETr/yJEdDtmozMbxlTjkeje2fz1qOZVcJifAyCU3V0cIbLYI4n6NNZxkgAA8Ng+PgADoykK3Tpiyz0B7iyQ3NCgGM8u/vGIh87xzSBGZuDkyP60JmBrZA2/RqHbLV3rV990Ic22uqPXgCpuuhzVE8bfWb95Pony7/2drygIfNqHGM42tUBKs4BPvrVJSP31MUbGpWRA5r064gHbYzhGpCRp3JyA57uu0cOytVxTx/Gda8ze+bJWGRlz3aDNrQazxj6Fmz4d24AM/OlHHirox90aKsvE41y7YyFXvSRh7r+dQ45KMeDvoxPPnZ1yFJ9/GRd6k8ZOpwbS339kFVneO/JOuhGL/7QyGaNrwztZCN4I0dytaurjntkpg3AF0jwIX261xN8GDvLnH6NaXyLGY/tfQDpaMKmB3zZ1RPsePrhY0BPWtTzGFO5PrK9SQZ4bJrvewVAPYu2nuDxVIyBF/Kh46xzust4SCZsOvvAqRjzZPtgd+wNTdmX6Zm/wVM0552d8WP3HdGfbZnfSvaooz7b1Df+9avcuXuuZVzzUT/8nx+zm44yyxigj2xTjq5Plu/f1C6Pgw6762yfZIIv/OHdOfoLeYR7rtmAe/ogM0f19UUOZJBxNcsDr7mdOpnOrB/37Mrdt+vPOM7pJbc5U47kh76sL3TiRxkZOicbfJBPR7rVP5u3Hg1WGUd2SkJlEATLoQnXfcbZUchnyrUJhsIZB2dAe1dow6sd/+QCeO3ZCMnIfWBNVs6zkxpbOTocOavzbLCcmrMzbG21A4T60BYPuQ9t7DnQUY5X7ZRr4xxtaNK3867wrq1+0ZxlilZleUyg614ey5Gc8KHcboIAePjRJ9qzHPCPVv25n/XnaCzl2hS21Z6slJFrBobO8Ir23G8GQn1lfsgul+vfro0y99TL7bNPKC/UU9a5cnxqj7bC66wr7dzTv7HIM/OlDlnmiY0ss404Gkd79TvDe0/WISP8os1OBtmOHNFfeHQ/+4PzwjbK9Yf/nuIBDejPdmGCRQOa0YYm+rGr5+i+e2ikG5O9+vrI/uGevmEB3WYZ6EP77Auue4rXroyDTnrBf+Yl+wod82N8uu+6K2N1tS36yD7rFF2uldvJ3z30O4dNrvGY22Qa6BnGqWfXnhzoNduOOto52vmqutmPs+y0zXX0r03huOTWnbavfzva0E5naHNdiDGu2XHmCU1klfFOu6zjbO94K5Szfs1hjuQB2/Csb+2zHLTPPKNJ3Sw/dbTJY2SdnAlHfOANz2SR8QHNMMSRTNCaZVVIN57P5q3HgtVCoRXPO5epK8qpKKeiDRRtoGgDRRso2kDRBrpqA8Vg9Tih+vHeWe2qoIvti85atIGiDRRtoGgDRRso2kDRBk7cBorBajFYPa2Pn4pOe+JOW5RZUWZFGyjaQNEGijbw+2QDxWC1GKwWg9VOfoD0+wQMRV6LE2HRBoo2ULSBog2cKTZQDFa7FKz6CrFwLxr2mWLYRTqKtli0gaINFG2gaANFG/jdsIFisHqcYNW/0LH7tzy+UvMO66/vytvi0KHWo7tzZQX1Dx6KQwcPH92P10ex7NflWpRJUSZFGzizbSDjXD4e1dev4F0R985sHRZ9rKifs8sGxGNn89Yt/w2gcwI5EhGHIqItIg4W7MojwqHj3rmOi7WKEihKoCiBM1gCgM3EYf8NeJfx7wzmpEhaUQJFCRQl0BMSOM3BKrAWsGbgduywZcA+iukd7hYvixIoSqAogbNMAsAsY14HYCvEu3x+lnFXJLcogaIEihI41RI4jcHqb2MlI3Xh8be1Kd4vSqAogaIEzkYJwLkcwBYelRe3ogSKEihK4PdbAqc3WC2MQ/N50ocLGdfC1wNcF7eiBIoSKErgd0kCGfjyK1GtEeGXZvJexL3fJW0XeSlKoCiBk5NAjwarXvD1k382H2C1tLTF4YNH4mDbkThy+EgcPtT+UVb7e1wCVcDdfHQ/faCNVj9zll9Q9tGYLyS7YyMf/Tt6gT3Lyk+s5a/5shzV8xNsru3qa5fP3bcrxwOa3fdTbLmecrst19enMmPabX5+zuZaPWN0ZUOTfoyjL2Pm8dxDq/t+fs99vNvVd8w8+Xk59/GjjXuZPuW5/6wv9bR1zLy4tqtvy7p2rU4u7wq/x2uL1rzRCVqzjtDnvvFt7tv8LCD+XGeaXTvPtOZydGdZ6c+uzFGbPH4e17X7hTSo11MbOvCA/qw3Y6Mny8G1+5kX185z28xDx3qZX/xpb7fpVxvte3I7eJAe2P/haDvYEm1tjdHSWhsRjRFRFwcPV0dzy4FobW3/mVU88gXH7L/OsyzQrxw/eM33Mq+u8V4o157k92TGQjte0G3PGIGXQv7y9cmMcarbkG+2JXQ5x4ef9bQpyz5FX5k3R7pzzHVgm017W8Zg9pr1qn9yyTLIfSrTl7r8R311jW3PZZnGNMAp/mM8/aMjj40+NBX6s2HRV4j1yrSx28hPX5mPVOhZRIE/Z55ynfwzpFleuR99Zn2gA03KCuWYdZTHOZOP5is82xzx8bu49ViwyhgYQDYkx7aWg9HS1BaH2o7EoYPtO+Nrz6rmQLUhIuztQe7pUALaGTWa/faw8zxxnGp68M8pc//59485ovJdu3YlY8yOxdGc++1jYIY2bZS5l43XtT6zc+Zzjqxfv1XtmH9nmwPQl74yPfrQHo3adWXTB8DIdPrda4EYPtGCduOrk2l1z29F5zZoUIYmwGTPZeSUnVhfeCAfZc7tynN7fRjPfePpx05+7TbZFW5/vW2WIV7JHB14zTRt27YtXStHqyPa9u3bd4xmZfSD78yrczLSJ57Iylh4YiN4Up77xHO+znLVJzq06Q7ef10a7SXGwhOZ8zm7skyr8qwn5+TlHh7QTgbuu0cOuV3m0dGuT3JQXx07fo3XExuIa2sVNB+OQ4fxJAitj6bmithfvjXaDh6Iw4cPRG1dSZTs3JJ4Qisa/V46vTjHA3twj72THf7dIw/17HjOZer3pE67Ik900jG+0F9aWnrM1jNfWX94PBO2bLdoQT990Qld4YFtwrlsq4X2SDd8F8/Ksz6110Y538w4luvoyzhsPo9B/xlX8tiO2mfbILtsL90hO/zrH534dsy+5pjpoEv31cXbnj17Eu1oVY8c0G4nI3wqwzPe1SOf3Kdz9TLe6V9b/Tsalyyzbamvv3x0/2zxEXrDF/nl2AT9+Pxd23o0WCXAbLQEunrV+pg08b2or2mNI4cj7a2t+b8DyCQJUmUb7O0ZptOhAACEds7AUT7//PPkVN1BC6fhXEuXLo1Ro0alPQehnJODlZSUxOrVqxMt7u3YsSPGjBkTL774YqJLH+Q7Y8aMeOyxx+LVV19NdTm1uiNHjkzlnFN/xvvkk0/iiSeeiJdffjkBBcAQME2YMCEefPDBWLVqVXJmjpH3rvAPDDIooEP/Q4cOTfwuWrQogS4gAjhofOedd1J9MrA98MADMWzYsNiyZUsCeDyg9/7774/HH388Td70hmc8kc/HH3+c7I98Nm/enMqeeuqpBGwZ6F5//fV4+OGHY/bs2Wk8/XYHcJEh2ZL5/Pnzk36ULVy4MEaMGJF4IxcyIKc333wzlU+fPj2V4WHDhg2JB/3s3Lkz1WOf8+bNSzp+++23U3muO3r06DTemjVrkg7xxR/xDtyff/75JP85c+akvsjdvZ7a0IImessTGxroit2iBS/u8UfnH374YbJPMmOnDz30UNKfa36irgk8T3zkQ27sirz1k3fj9sTmCZKnSYLW5pbmmDd/VowcNSweGDY47hvaPx59/N7Y+O2imLfwrVi8ZG6iX+DBFshj+fLlsXXr1uTrrvkqP2cn+OM//IOfwxDnFkV2tkImZ8NWiBH09+WXX8aQIUOSDS9btizZSpZJT9rpd8mO/WQbQrsdPq9bty4ds33DFLY7d+7chFcmYfhEj3we1g0fPjz4unr64d/PPvtsKocRdK2fWbNmxaOPPhovvPBCCuaNJ+B97rnnkk2wFX2wcb4CM42njjK+wQ+6Y8Nv9uVsc/QEn9EwZcqURAP62LH6aPnggw+SH7/yyivJb/G5e/fu1E5beKA+GcBOspo4cWKat8wP6rJ9clm8eHHiX302Y9xnnnkmJEeU8YlJkyaluuRKHnwo09sdcjnVfZIZuZITHxG0/i5udPdHf/RHv5G1/6Pj3T/4gz9IRtKx/DddM1pOl41348ZNcVmva+PP/p/vRdWB5jjcdiRam9sfjbW/q+oxu0cnHoV4BH36VgpoZgyc4JprrolLL700ORl+TvXGSQQTd999d3z22WcpSLnlllsSiHHEJUuWxM9//vMEbpzcxHvdddclfbz11lsJ0DixAG3gwIEh8DBhvffee8kJ9fvuu++mYPjmm29OPH399dcJCASsAkbBrUmgf//+oU9tBw8enMAAmBqXTLqyaW8M4AA4+/btGx999FECcPzii8wB04ABAwKt33zzTQIZk6+gElBrRy+C98svvzwWLFiQ7uETra+99loCbRM4eXz11Vep/Pbbb0/BvIlBOUd/4403EvABwD59+gS5APTu2MaOHZt0BFzwYywB+1133ZV0I4hWx+RDLrfeemusXLkyrr/++sQjW7jjjjsSD5MnT06TEB5MTv369Ut6F7DhzySoX3o3QdCl4A9Y44/NCWLs5EQ269evT/fpoKc39KArT16CUBOta7YNnPGqjqDNpG+n2xUrViS7cBTgmHjUHT9+fFx88cXRq1ev+N73vpd86KKLLoobbrgh9cEOu2rTnZXTwYOHorXlYJTvr0j8lO4tiVWrlsbt/a6J9z+YGCvXfBzllWtizvxXY/HSOclH6Ipc8HTnnXcmf8c/38GjYMe1INzOl2+88ca0cDH58zV1YUF34FZneT+ReujEN92YgPkAvgQgbHTt2rUJI9jE6bDTQl7YDvvMss22SVfXXntt4oP+0Iof+hBQWVDya9imbOrUqck/4VmeA+gcRjz99NPJD5RbXMIM2DVz5sy0kOW/+hakPfnkkwknYOm3336bZHb11Vcn/xCcCXzJlm+gqzs2OiEXR2PwWwkVvgin7rvvvvj000/TfXUyfsF0yRr4hWfl+IRz9E/3bBlekq0gNCdayEpAS67mB1gooeHJg/mMrPRpYY4ei1vBK8wnq+3btx/TVXfIpDv6JFtBN/7OOeecNGdkO+yO8U5Xnz0WrHLk7MwmEgHW//nH/3f86X/6mzjcFtHafCQa6trT2e3BqvcuZFQrj+7dEzR0VvCcAwgMGjQoOQ4w6g6A5EAyhFbVgAegmHQ4nCDW+DfddFNyNo5phSjAAIIAT7DJcDmxFT2j/eKLLxJYyQjLPNKDCQ4/QMMEZmWKH3xycH3ddtttaeIDFurSm0DV1lWAQxc68GhMQVXOHuERiOFdQCYbcN5556Wx8eYe3rWVaUFXBiv0uSfAE+jil+zUFawJSLUXvAlm9QewNm7cmPgVJJPN+++/n7IVJpDu2Kzi8UsGnFBAYZEgS6DMPWAOPGV6BbVsjk7vvffetGgB4GhVLrhGu2wEHsmBvQj0LHr0RS76FayawPLESZcCAfLSTpAs+NMve+zJzeSWbYuNCEDRZoKzKHEv2w17zQsSCyrX9Gmywwvas3wEO9rKUPEfwW++rx259BTANza2pGDVv1g9fPhQNLfUxb6yrXHZlefEk08PiYOHSqK6bl0s/uzNuP2Om9IkTRdsmJ2yacGLoC3jhcCH7viqMguUc889N03EJnU2po16+jkbtkKMEIALQDLmsX2ywCsfZROnc8tBWbYhehBs8TXBJTt0j+zRyj4twGET3eadfjzVYZObNm1K+Afj2azXIARdnpAIVAVccENbsrjnnntSnfPPPz/ZM3sQmE6bNi3hozkFpsISmGohTJ5k2B0bHgrlwgfxgS+0wSrBK5mQFzyCu4JSvgrXYZ9gFF7jE71kBNNgZX4qhX/zhsUr/yAz/cINcwHe4Rq8IEf2Ay/RA1eMzUfMDdqh/WzZ2JbkBlszZ+Oxu3R6OmXSY8EqR2UQHNWqycpu5PBx8ad/8v/GoeaItqYjcaj1SNTVNra/D3BEcCpQkFm1d49DdUb4HI7yAYUVr8kzT6idaX8idcgJ+No5jGDl8st7xb59u6O+oTZNxi9PejWeHPt0NDe1xuFD7e/57dpVEo8+NjLGPjk6ZSFkf2UVL7nkkuToMmWyrII7/XJ8oCdzKtDLE59xAYMVrACI4wIIoCggIAfA0lX+yRRgZbvgcHaBOofLrzkAc49zZU2z/RgbGKER2JjIABg+ZM6UyUArl03QHl8yGFblwA8Iyk7oS4Avo2EMQQseyUOfaOzqRIhXe96cGxeoCCiNC3wtGDzuzxMI58yZzhx8OQrgBVsWEPgiQ/zoC+9A3kQkcGMH+jQBGI/u8Avk2YG2eP7FL36R+DaZCW7GjRuX7uG/pza0kHWeuGXO2KfJje3KiuCJftCFF/bJNj1JIAs2RJ50iz88q+uczZi4+IVJUXaZHrRz7KnNx6StLe3vIR482Bo7d22Np8Y/GmOfeijuu/+W+HDWy1HfuDU+mv1KvPzKpNhesjMqq6pi1covY9yTj8aaVZ/Ftq0bYvz4sfHue+9HRWVNPP74uBQAt7S0JhlNfPH5eO75Z2LkyIdj4cL58dVX6+Kjjz6OCROe67I995icCjCCrumSrgTinnDlYJUNnO6NT2d/Qgt6zRcwR/AEu9g322XfAiZPyCwoYLQnRexUAAsD1RdEyfZZoMIxi3r+YdEtCBWcwjLttLniiitSYgJ+KiMrPiPLatHq9SA0kp+EhP7Ria7u2IxFLnh2tECWRIFvcMaCWBygHn7JBb/0qkxwe+WVVyZsVi/XkTn1ipvgVLKlra019u7dFXcOHhCLFy+M++67N+EALHj//Q9i1KjH4713p8Zrr76Z+DU+2XkKR2b6VVcQLztNHuR3tmxZp+QmNuEnv4tbjwWrHSd8xvDM+NfiP/+nf0hxaGNNxKGWiINiUr6TJnerZUGrvecmk46K5mgAEc0mUAEPfpSf6k2/AAQwcR5Z1Y8+nh6Hj9RHa1t9CuQnvfh6vPDc63GgrDbJinFOnfpeDHvo3pg8+YXkwIIUAQkAsAK3khRsWoHpn4F7z022ApAJ/JRxZI/dAUnv3r2POTcwFRCoA3xOBcCRJ7kCJWDh2upQEGYctBtLgAasgYr6ykwCMqKASyDOkLXTBigKWsnPY16yFLwI5vSTA1GAKajTTlDkMTFZ6kM2WtAO8LuqZzotlJdrwZEgmj4sIHK2g47oR1BGZ7Lh9GHRYnKRaTQZeZwvU2DSQ7Msjrr4lR0gU/zJSMvYyjDgVd8ybPRL5ugwqbIX9cnWBCfbTgdd5f1E/INu6QqdFlLsFm3Z9/Bn4pWFR7e67Peyyy5LE7/ssUnon/7pn1Im2dMB9bSne33KWpEXm/L4T4abTOi8Z7Yj0dIqk1QTjU21UVdXGa+8+mKMGPlA1NaVx7btG2LgnbfGF18uik9mfxgLl62N3ftqo7qmJmZMeyt27VgZcbA04lB5tLbURFNza+zZXx1frvomDh+MqDhQnex55CPDoqGhPDZtXhtD7h8cn366NKqr6uLJsROirfX0YemJyjj7fLZnGGGx5rUHPpUxgt2eaRs/h038mw2yxez77Pqll15KtpiDbwsoCQJ2iy9YbOEFr+CWRSX+YbG2niDIsJIRLBF4WeSTj/bs2iIczsvuCs7QATME+3xAWzR1x2Ys+IFvx5z95H8ZZyQY0IoGtJhbZTxhEdnlpItH9/rDP35ysCpYb2yqiZJdG9M73x/Pmhb9+98elZUV0dbaFq+/9naMHPFETHz+9Xjn7Rnpp9v1AyvIm1zJGT2uYarznsS9rsoeP3aJHXMD2RXON13t/0xp3+PBKiEyhJbmlhg/bnL8yf/191FeejAaqiMOt0YcOhasEpFgUDre3j0O1RlFZIczeVvlCmIyH51pfyJ19MuZOapVJQeqq6+KpiZfB/uauykmv/x2PDlmYjQ1tEXp7gOxY0dJ1NVXxs7dG+PmW66NufPmJqfnhABAXx77yNI5ZsA0eQtaBAAekwANQZ3snODJKl/goFxdwa+29q5ODgBMHzn4BZxWhcACDUDJzgmBl8wfJyQbCwZ0aS/YA2QmL0GMOgJMQA64gR8gN47spQ8P8CEQ1Df5AHKOLuhRV5mATUZSna5u7CeDH/2iW0BNroJSerFgEHh5LEY2AkmPuQTlsqaOymQZ86sPePTuqnKZEn0Cf0GdPlx7ZcCHZTITJq8crJIN3tBiEvT+pmDYtYDZZED++u+pjd7IhG4Fl+gir0w3uxO0mOjVQ78JkEzYuOBT5lQZ/vRD7zJKJjhPdOhWW/KxACAfj0nxnXXUvfx6t9HrTiaYumhorI4dJZujtLQkli//LJav+CxmfTIz5i/4JJZ9tiy27twblXUH46BXd2r2Rcnmz2PIoBvi2ivOict7nR+/uOiyuOCSG+KuIY+2v0pV3xx795ZGaemOWL1mWXz55aKYv2BWLFq8MJZ/uTI+Xboi/YvA7uXx1PTeESMEcTCJntlBxoeMFadm1FPbi8WlBRQfzXbs3O6VFHywY4tD/s9O+S87Zcdel+OXMBn26QPeeR/TYp1N49/jb4taMpKpZfvk5ymCfk30nk4YVxZWsJv9Xfvu2PhenjsdPelCGz7w7OmQDLF6fJ1fymwqd04+3tGXPRXE4x2+W2xbkHvyNXXqlGhurY3tO9bHffcPiM+/XBwDB90RZWV7o6mxKQWrb735Xkx8/rUYNbL96YN+ZGXNORdeeGEah/+TFRmRPXrOlo2eyZBevSONv57Bsp6VUI8FqyYdG8E6J9zxT70cf/5ffhDVBw6m91ZbGr27mjOragtWZQFOf7DKeRg0xxHocPDuMAiO4vHkVVddlR5lm6Br66qiuaUqjqRXI47EK5PfjscfHR81Vc2x4su10bv3VVFSsiV2lHwT/frdGjt37UyAZkUuYBV0CXAEgV7C9jhUkOQcIMjSeTRsbKt2gGG1LygXSOX3BpXRm408urLhSx9AC4AKomXSlMmYATSbe4BYMOWeoM2EJYAVSAnoBCgCMo+u9SdIIz/tgD/ww6/ABLjrXxBLl4Ic2VzApT3AAuLoEeQAx1O5sX00CpAFSezIO6ZkjjZgjlZ8mnxMOugC6iY2iwb6ypMTugVm+gOw+hTcmhhkwgXzAnD8mvxMZs4FfGwjg7JHlYCajgXOMstAL/vtqZTBd/Ul42OjVziBd/Kxu2YzaFJOL3lhwi7sXqMgF7ajvnbsBw/qaqcPds6XM3/k4H53+POv89oerLa2NaaMkKC1oaE6liydH5f2uig9th/5yEPx+BMj49bb+8QHM+dHfWtEq3+v1VgZ+/euj3GP3hkP3H1L3DXojhhy/7C4bcCDMXDwyKipbomDbfyqOT77fFFcf+NlMWLk0BgxcliMGvVIPPjA8Hjg/hHtsPrrhJ1xJYUYQaeyYYIsuuXDdGaj457R3YmLiG/ypxxA4AOGyoh6agaT4YFgTObTYtWX/epZWMNjNi1b6tUmWMzXzRGyivCPLDwZsmDXN9yAifoQlEk8WICa7I2lLlzI8iPP7tj4Hb3QoyPaBJqeZhibXCQYyCb7PKwWhMNAvFt8408QRmYCMot0+GVB/eCDD0RjY21MfGl8jBn7SByo2Jt8aMmSxbF795648857YvmXa2Ldmm/i5pv6Jgw1Vxhbv3BP8gJGmh/IFz6cqfZ0PD2RK73C95zAOJvoPx5Pxyvr0WCVAE0SeeJ5560Z0euiO2JPSX16Z7Wh9nAcbPXVwdE49QwKVtFsZxCCC87VHQbBwTnwD3/4w5RZ9Rj37rvvjO07NkV9Q3XKGs76eE68+860qK9rSe/4vvrqa3HueedEn1uvj0WL50dzc1MKOqzWZWeBmwDMhA4MPFrp3bt3ytoqM1kLiGQWBTLqAhCBqkdLVvUyvECHY6CRc3RlIzt9sQeZUplTXzJ6FA9sZQ7Q5r6AmqEKstElC+zdJzswAy6yctpoT2aCUDQCNVlHvAlm1BXECEQFvVbWglbgKUMncBUwmjDUJRs0dGXDa7YVstOfYNLYgmqBMSDGmwlKNsVHEngwfgZrAbu66tGFyU172QeZSPISkAHgCy64IPFiohPkCkTJmD3kdz+NKYtDToJ/QEdOJj1joBO9PbUZCw8mYbyyU/Q4uqYXrzlYZMmKmsw8zvQojyx/8pOfJLvGp7r0axLyCoTXQsg19+PIB/QtuO8uf/512f0ys3rwYFPKrNY3VMWChbNjwrPjoqXF+7PexXG0MQAAIABJREFUsW2MJZ8ujvdnzo2KutZobBKINsSGtUvj8YcGxroVC2Pzpq9jzbr1sWHrzthZWhZNjW3R2tKWHvMuWTovnp84Nhoa90dzS23s318WdbUN8eSYZ+NgW8/p9Nf573xJIUZ4jxo+ZIyQMBBksFF79q/O9979Nc0Xgh8LTcEXXxYo8WuLRK+keMzPBnPWn68K6NiwQBQuwSH3+Sd8884qnuECvNDePYt05QI6PsLXvd6lTwE9v9ZeAAvr9J3xqDukAaP0n3XjSA58Fh0CZngFh7xTj0bXXssiF3TCL1gp4NYO5pOFemQIp3v1uiQG39U/9peXRluboG19qnv55VfEpEmvRHNzS1RVVsfMGbPiiiuuTO/F0gGsMTZMMZ45kPyU9yTudVX2eV62gJFssejPMu9q32dS+x4PVk2MnJgw62tbo6byULQ0HorW5kNRX+voH652DFat/E4fwKKV8QquOLjACPB0x2YMIMRhOK/xWls9rpUlqkpfD3sXp7HRPwUXTLQDQF1dTdTU+Dio/T8IoDFnpNCvH0YN+PRLB3SBD2X4A2raCFSAgSM6gIL2QCM7Bqfu6qZPNBgDvXg3JhrQo9y5MXPwpJ572qHLUR1tneNLRkFbZZlPPOtDmXvO8e4aHdpkeSt3rV/jdXVDA5rz5jz3L0jKdGad4YMNoFE9/JO9ftTNfKjnHl2g1THLSh06tKtXGHjjT5mjeto66l+9TIexCunO9HfXkZ2ihT6coyfLzjXesk7wSjZ0yQ7Uw0PWc+ZZX3jQFl/aaYPPbAfKtDVG92+whF2SuYVQQ7S01sf0Ge9Hr8sujltvuzkGDOwbAwf1iyuvujxmzlkQVQ3NUdfQGIcONsfWjavj2l7nR/8+N8aAfndE334D4vb+g2P0kxOi4kBt+v+t9fV1se6rFXH5lRfF7X1vSo9FLVhvu61fPDB0ZMq+dj+fp2YE+qQnO/1l+2cH9Krc+Zm4oRVt/Ix9umaPynJAAXOzfbLDXJ+9asO21cl94ZPds29HddR1LkvrnG1r56i/XI8s1VeWfcE52++ODT/oseHRbly7oNV19ld1XdOnNq5tWd/4dU+5czSTpb7wZO7zes3Bg+34qJ467Xgmc+u1sfYfAMky0N5u04+69kxLunEW/CE3POEBzzD/d3HrsWDVRPBr+6EjceRQpJ9cPeL8cEFWNc0b/jB2e09MJMdXcSHdDMO1Y3dshWN1POfE7WWOVq2CfqDWHlQkYDgqZ+eZ1sJ+CsucF153bJPv5yOHKOyrq/znsR1/ydsv/x9vHteYuW7h+Pn+d93Ldd235evcX26X7xde57pJpl1kNPeVu8nXmY58ne+jo3DP9/Mx05mvHTuW5fb5XuH9LItcluvm8tzGsac3Y/6mPdPoiG5b1lFul/lxne0qVTz6R3nmPbcpvN+95/jjR7KBv9ybmmpj375d6d1V76/uKS2J3aU7o9bHEyajw4fiiCC3uT72l5ZE6a7tsWf3zti1Z3fs2FMae/YfSB+P+HGVQ4e8D+4fnm+LPaXeh90ee/fuiT27S6O6suZ0QukJizbryTHrslB/Wdcn3HEPNMi21fGYeSrkAzn5uvA+zM18K7fl68J+lRWWF8qlsLzjGHms7hBHpi/zVji2ILSwPNftSI/yjvVcZ/5yu1SvA3a01zFXmrPzsR1f3LORjS3303H8dPMM/1NIO1Izb2c42SdMXo8Fq8eljB0ebz9WuePNYzd+v04KxZAyzBw9/5eEo1+k/Uqd3y/xFLktSuDskQBHNUHy4d+8H462aI0j6Z/2HTZpHz7kpf+Ig20Rhw6alUI5BPD2lEC1fU3vBD7ImNmdH31idazO2SOxIqVFCfxGCRTOfc6PbYydr+XvXvibsuJ2NkrgNAerEPY4+9koye6kmX8dm2ScFE5ER79I46S/Uq87CSr2XZRAUQInJ4ETDVYPpYC1PVg9EtF2dD8oeD1yNFg9Eq2ySt+JEcVg9eR0VWx1Vkig49x3LGDlEAJVyznzJD9oz6SeFXwVifwVCZzGYDWDNmMq3BlYcfsVCfxKEOqC43mX0t4UceRge0blV+r9Sg/Fi6IEihI4IySQce83Z1VlXdszq7Krh+KwSJR/52YgU1HKrB4sBqtnhG6LRPS4BAoD1cL5LwWsAlOBqneaPWHwq5gcp7idjRI4zcEqw7HayQjseBSFT+M7qmecIgudMM1YglU/RWv3i1/FYPWM01mRoKIEjiuBEw1WW6M1Dsbh9HK/rOpRuPyVYPVQtHovD06kSdpJ4dOXYmb1uKooFp79EigGq2e/DjvJQbcGq178bX/J+Zf/vuKXdGUrg7p5txLKiJtQ95fVf5/PsqiSSPwxY5mAcqDf4X20ouh+n62lyPsZLYHszLDuN+9Hoi0ORVPaD8sQWZQe8gXV0aYpsxpx6Ej7nr5FOYYRMFVWqSAB4F7ez2gZFYkrSuAEJJBd6tdCBzc4S6EvqFTczkYJdFuwmgNVX9vlLxpz4Fo8/urX3kV5FOVRtIGiDfy6DbTF4SMNcfhI3dFjcxw+3P4vfg4fOpK+t/ITq8d2ZR3+k0TxumhXRRso2gAbEJOdzVu3BqsCVf+iwv9HK+5FGRRtoGgDRRs4ERtoipbWmmhpq24/tvo52vb/D9vS3BYtzYeipelItDRFtDS3/4/KonxPRL7FukV7+f2xgfzvws7WgLVbg1XCyf90OP/DWv+0trgXZVC0gaINFG3gt9lAXfrhgIbGymhorEq/dtXQcPQ35uuboqG+5ejeFg317f8ovSjT3ybT4v2ijfx+2oAfUzibt24NVvOvSPgFjWKw+vvpIEVgLOq9aAMnawN+kaY2Ghprju4C1fZfqWloaIyGhub2ILW+NRoEr8VEQFEGRRso2sB32EAxWD1OqJ5/UUGwKkj1k2r5p8wc80/AOfq5MyDrcYR76hfWPVPO0YVedDqiC92nmj59Mqo8Btm5No4yu59TcyQ75RYDuU3hT2jmRzyZVteF+tCHa23c00fH8Y2V72UZGNd5V3nPY+Vx0ZP5zbI1lvv56L56mafcxnW2M23R7J52+Trz4Vq5Nn6WsLAPfNnVIdc8Vld57Yn2aM52kHkslG2WIVrcJ4/80774xK97znNfp0LP3cE7GjNvmcasa9fZD9TJdqENnt1X7ty9zGt30Hm8Po1nzzw4qoeeXO7Yvshnp+q260xd9/DaXr/x6E/ztt/PMsG/Pl3nulk+x6PpTC1DM17wYc/6yrJzjz6zDE8XH3SSZZ3lrgxt9IRONGb6s07Uda6eoz78BLMj/etDG32oqw+7+q4ds99qU6h397TPfeSxHJVleoyrrKd2Y6PN+PlnYZUZH5/2TJN6mY/cJrcjF+fadZRdvkcm+styN466uR3ZFdZVP9ftKXl0dZxCuTj/rv7I4WzeuiWzmn/eTbDKMBgIIyBIv3OchclgsjG5l3/HXPmZtKMXH3Z02jNAnGo6/b6zvsmC/PRvPEGFc/eAmTLA5FULbfbs2XMMmMg011PHee6HLpzjSR8MWB19GjM7s7HVUUZnytUnA/1lB9fXye7GzrLVZ6ZN38bCm/toQQM+jZXBp5AuPGQatXdPGVlkfnft8nOWpemavNzH3+7duxNP+sWf+ujRRyFdJ8tnT7XLgTeZZZ7Jjm5dk6mPHfFIRvyUTDLP7tu11xfZ5Xs9xUNnxkEfOukbjXmnq0yvI33iUX11so3QK73nPtQljyy3ztDQ1TpoQ8/evXuTjWX60IYu/eNPBnV/2YGoq6NTvLYHtNXVlWFvaWmOAxVlUVfXHtDoT3v8ZMzQDztQ5misrtLfk+3phe+TDR7w47flXWdbyHrvSboKxyJzOmWDWX/knIMx9MEz1450Q1dwCE/a6k89doE/dekLjzAq+yRZwDHl7ud2+iObfHQ/960804Iu/aHBWIV8dPc5LMIj/zMWmhzR6rhz585jvJElGslGfddoJzP94NN98iQvsnC9ZcuWY/iPvzyPaGPXl3LndJV3/ZaXlx8bp7tlcar6Jxe8ZN8gr+P5g/KzeeuxYJWzEKjJkrG4zobBWAi80GhPlSJPRT8cifLRiGaG7jw72KkYI/dBNhw4B1PGYmQMMY+X5YcGoEOWZEi+du1da6eN83zk1PrKPOTgzXWu40hPJSUlqa7+gIS26NSfMTPNJ3PUPss0j5fpNAkBHnQqw6/xAZFyOnDtHn71gzY8oCU7q34FY0BNmTbaa2cMwOieemRpPLv+jJn3rvJ6MvI5mTaFcswywgtd4jnLhRyUZ73iPduzcmPnOvo8GVq6sw2a8JP1jVb6V24ip0P8449+M2/a2E1edKq9utor7yle2VUhTc7Rany6Ijv07N9fHtVVdUcf9bdEfR3bbk287t1bGs3N9VGyc0tUVZVFVdX+2L+/XQb0zL71o2/84lWfWU7dqZ9T1TdbhE9o5/t42bx5c/J5eoNPOWA5VWOebD/ZX+AL26JLenDOJskeVmd6cx26YQ/408fWrVvTEa7pwzygrjru6yvbzvbt25M+laufZZLra6+uvu1oIFNlaMvXGddPlvcTaWds+sw+oC3a7crRjg/2qy6/yG0cs107uqd+nqfIxjW+9Zf5c57r6gPvyrJ88xjKjU0n5H4ifJ3OuoV0wz184b0jTeqdzVuPBatAmFEwBobqyIGUcSACtjO2jkI+3dfoYgToRatj5uFU08ZhjcWZOBZHNJZydDhniGggQ06lLMsWfdkZAaN26urLPW30qf/s2PrVPk/s6gBC5drt2LEjjaM9ftXVviu84yHrGn3oBJrGsCuzowGPZAJEcpkjvvGKbpOa/hzRrz/gpT06Ba3a5EnFfbuA1THLOx/R8u233yZach9d4bcn2pJbBlnyJRugnm3EdZYjOaDJffp1TW5kim96t2cd9QT9JzIGeumF7ugV7XihP/c+/PDDWL9+fbrvmi3gjX2oxwfwPW3atFRu7J7SMz1kH872TtboU8720LxnT2m8/970aGs5kr72r6ttjP37DyQeduzYGk1NtVFdUxaffjYvFi6ak/jSHx2za0e+ildBFP6mTJlyjN8TkffpqEundIQHOxnRXT7ftm3bMb2S1+mgMY+Zg04yRgs9Zn3iQT26cWSvmQf2ik/l+FNHH3QG1+hNufrZztm8wFc75/RsPIGueRZ261cbxyyzXN+18dCXbc11T+x4yjrFD/7QhRZ+AW/w5Oi+8sw3Pt2DZ+5nvsgMvpObulk+jrm98+xb2Y7Qosz4zsnCTmY9IYtTOQa68/zI/vDUsX/yPZu3HgtWORdHYkyMZfDgwfGHf/iH8ad/+qfx1FNPJSdlOATeUcin+5oTfPXVV9G3b9/o1atXXHnllTF79uxumcjJwETz0ksvxUUXXZTGW7x4cXIgTsn5hg0bFpMmTUoy48B33XVXnHfeeXHdddfF1KlTE9CNHj06Lr744rjxxhvj7/7u7+KKK65ITvzaa6/FueeeG5deemlMmDAhAdqKFSti4MCBaTxtjAcMnn/++WN1R4wYkXQDRG1ddWgy5Tx40he9c7jbbrstPvroozS+cnbSu3fvOP/88wPtyt5+++1E62WXXRbjxo1LNgWor7/++lB21VVXpWDFGIIRvOLrzjvvTIGY8sceeyz1qf4bb7yRnHv58uWprvp33313AkNOj8bTbYOdGf/TTz+NX/ziF/HOO++kCRPdc+fOjeHDh6cAh/+xH+WCNo/I33zzzfjnf/7n+OKLL9L/6ATaI0eOTO3YwOkOAo7HN/3ZBdXjx4+Pa665JtnIhRdemGxWYPrMM8+kLBweVq1aFZdffnlce+216Xj77bfHwoULUzk/IQ+7Po83XneUZdkaV2CNJriCzh/96Efx7LPPxsIFi2PkiDFRVdESDXUHY83qr2PM6HGJ31v63BCvvf5SHKjYFbNmvx/LVy6Nurr2pwMvv/xyqvPf/tt/CzK5+uqrY+nSpenx6KOPPtotuNVdMiInenF88MEHkw7hQf/+/RNeuAcze1J3x+MVfqFDUMSvPv/887jjjjuSPmEPn/S/Lvlfxk56gvF8lr1qu2bNmvjxj38cffr0SXhmwaVvWK0e7Ib3sJP9w3x2c8EFF8SSJUuS/fJl9S655JIYMGBAwjEBnmvzl3369OnJt83FPTnnfvnll2kuQst9992XAms+kPW8du3aNM/yA7zNmzcvBbSvv/56khV5wSd0kyNeMuYvW7Ys6QDmmy9++tOfxpAhQxL/ZMt+yOonP/lJ8jn6Iod///d/T3oy15jfzKmw8nh6PhPLckZZTHLrrbcmftlHR1qLwepxQnXO6iMrq6ZsiCZ9gMIQPv744/izP/uzFKQyyP/xP/5HMFITI6PtKOTTfY1uQdHTTz+dHHvlypXJ6AVXp5o2BiV4vOeee9IKEljdcUe/2LVzT5Tu2RsDBwyO//W//jmeeOKJqK6uihkzpsW99w6Onbu2xcZN62PAgEGxc2dp1NX6QKM6SnZuixtuvDoWLpwT69e3B9ybN2+JnSW7Y/Dgu2LBggXx6quvJkdm9DNmzIihQ4cmIBT84RXQmUxN+sA2r4a7wnsGpzzRrF69Osn0Bz/4QVoIsBdB5KBBg1IW4bPPPksykU1Bn+AUYAlAPRoUyApAvb/39fo1MW7c6Fj/zVcxYsTwFLDu3r0nRo54NGZ/MjfWrV0f/fsNjA0bNqbs2w033JBW5ngEdFbsgnNBhODtdE+EnZXzpk2b4n/+z/8ZN910U1rwkM/MmTMTYANrmRZZl5SlKa+IxoaWeO/dKfEn/+k/x4QJL0RVZW3sLS2LOwfdHXNmz4uDbYfiwIHKaGrsmaxLZ/lUjw0WBgjs8r333otZs2alSUwQyy7Y2YYNG5I+2THeycWRnwlWLaB7Dnfy0yMLAe+lejXBgqg2yg94X7U2pk79IObOnR0rV66Kx8ZMiIralqisaYqxTz4bb735bhw4UB6bNn4dgwbdFiUl62P+gqkxa9aUKC3dnYKYigoZqcq49tprYvHihSn7eOBARezcuSeGDx8VjQ2nNwvZWT1njGC7FvACDUkP14IZ7yY6559wpLP9dkc98xybZFuC0ueeey7Nb+gzt91yyy0JsxrNb/UN8fXaddG/b79Yt2ZtCpAEGStXrYrHRz8R4yc8E5XVVSFAe/zxx1MmEkbBSDzrS/Lk3XffTfMA22f3gjEYfu+998b8+fPTAlwANmfOnBTsSj4I8LR7+OGHE5Zri+bukEnuM+MnfaJNUEVegm4Yyxf5srIPPvggLUD5JDpHjRoVkggCfxlZu8SKuUiwz89raqpi7rxZcc89d8bmLRvjzjsHhqBY3bvuuidmfzInPvrwkxgy5MHgB9rCegt2SRxBLruS5Pj6668THWjJ9J/pR7RK4Pzwhz9MC102wO460l0MVjsZrGZAIUQBkZUjR5FF++u//us0oRB6z00anZ+A0Y5WR8H2unXrkpEzio4G0dVrYGIcfQvYrCwHDrg7dpdUx7o1W2LalDnx9FMTY9y4p2N/+b54ZsKYmDT5qdhV+nVUVZVEr0uujm3fVkZtlSx2WYwd91CMHX9vNLftiukzXo9Ro0ZETXVT1FY3xdgx49LKUmBmoge2gAOIfPLJJ2mVRl+A48UXX0zAAthOBbjRM33j1SLFAkZmUCAKzMhZ9oQTyio4Ah9yyZOCc6AjoB8zZky8+NLzUbp3Y1TX7Ihbb++dHo/2ufXG2LTp29i+bWfM+WRJDB/2VHw4bVn063tvVFVVpyDVSh2/VuhAS7CKFhOFsdDYVb32RPtvvvkmTWQWVXgygcu0yy7Q65NPPpn87tprr4t/+sd/jU0bdsaU92fHwP73x7VX3xHvv/tJVB6ojaFDHou5n3wa9bXNUVXZGE2NZ1Zww3bwwzbtrtkCngXs7Grs2LFJl/zWAkc2jlzsJkHBjwyUbKsspiC+J3Tkq/6qKq+31EZTs8e45dHcUhf7ynbFI6MejtVrlsf0GR/ErE9mxJIvlsWFN/eNp96ZFhvLa2PYE0/H199sjprKqqivKo8Bfa6PvbvWx9xP3oiLLzonXnllcpTu9SHOvpgzd2Zcfe0VMWDgrbF02aK47ba+ceUVN8T99wlWz7ynV8eTPfvNc0LGRZgoSSBbvGjRooRFecF7vD56qgyGFQZ+bNK1cvYnuwpbWhoao7W6LpbNnhcjhz4YNRWVUbZvXzz9zNPxzpQPos+AvvHZ2pVR3docm3dsj5tvvjk2btyY7JeNCzgszGVq2a4Fl3FkBAW0eW7KH07KHHpKBwM8TVAXHTkhoT++1B1ywjv8pB9HCQaZfrKxC6j5Hp26RoenQOhURm4Cc3OgLCxbMC889NBDKQAX+HpyVFe/P7buWBkPPNQ/Zs+ZEnf0vTn27/f+alO88/b0mPjcGzHm8Zdiwvg3oqa6/Z1Y8pCJphdBq/HNMYLlTF93yKQ7+iQTdPMHyR12QvYdxyoGq50MVoGNFafJhdAYMCeUkvfIVUBEyBypo5BP97VghaOgEX2CORMenrqDNnKw0pw8eXJ6JDR50ptRX90WTfVtUV3ZFC9NfD0efHB4VFSWx9qvvoyLLz0nVq2eHytXL4h//t8/iZWf74r6miOxo2RbDBx8fXyzaX7sO7AmZn74ejw8fGi0Nh+K+tqWGHr/gwn4AISVuSDNLkh8//330ysEeManYNbKHL+C1a4GcOSZ+/HIBVCxCQEigCVnAYbMKVpkC3MWjA0JLj36AjqcFfDdObh/bNj0WaxYNSf+4Z/+KubOnx7nn39u7NtXFnW1LbF44cq4+cbBMfujFfHg0Mejprr9gypBzsSJE9NjMrwCSoCpbzSitTv0fKr7lMHx2E/QCrSAF6AnQxli9wX2ZWX7o+/td8e0KbNj8kvvxcjhY+LLz9dE/75D49uNu6LfHUNiziefpnclKw80nHHBKtvLQSo7oR9gzUaVsyOvFglI6dNETgYmI5lmulXmUa2Jj+17pNpVm+6cPhujprYyqqr3R3Oz1w8q40DF3ti2fVPcN2RwLFo8N5YtWxjLPl0YK9atjkv63xWT5n4am2uaY8Jr78TTEyZG2d59MfPdt2L4kAFRtvOr+PjDl2P2J+9GWdneWLNmVcyb/3EMGnxrrP3q03ju+bFxR98+sW3rzthVUhEjHnoqGuvPjkecgobse/RK18pk1GRWc+DqXq7XOR10PlFxIv2hR1AGy9idXSBkfvNkDo0NNbXRVtMQs96bGqOHPxKVZeVRV1MbT4weHS+/9lpcdt1V8cmyRSlY3bqzJL3OYfHuCaQFlTkUVll0eS3Ngsu4ZPOzn/0sZRS9FgO3lMNS2Umvgwls+YYgED7I1KJJvRPhs7N16cpcr77gyUJS8K3MggM2wV730aVcwgBOoclcJLil75w4IFuvwZl/vTK2YMH8qKsvix27V8XQYbfHi5OejLvu6RdV1ZVRvr8iprw/K4bc82i8/OL0eHni1Kiuan8/FU5ayHt6aI4zPrykK/MR+XWWz9NdT6xALrLu5m7z4fFoIt+zeeuxd1YZK2FlI+Ao//iP/5gcjFF6RAd0embCODGwQhOnRqdHEFZ0DLw7aAVwDM1YHFrgesP1t8bSRV9FbdXhKC9riEkvvhFjxz4VjY31UVm1L+YvnB6D774j7n/grjjvnEtj66aqqK0+FPPmzY4Hhg2I1rbSKDuwPmbNeTfuv//uOLC/NirK62L0E2NTsCook9nksFbegM2qU7DICQCHTJWAgB7JQt3jOURnyzKQsQdjuHZ84IEHEi0cDhgJSpUD4+9///spAEEPOpV79IV2/bzyyktx8629Y9TjQ+KmPpfH4iWfhMwqcK6taY6li1fFgP4PxicffRFDhzwSlZXtj8D0IYjxrqogRt8mCEE8HXeHnjsrpxOpJ3MhgDdhenQmwDexeRRIPoJ+51dddU2cf+5l8dor78X8eZ/GgH5Do2xvbbw08Z0YNOCBuPfuh2PxwlVRW93WHticgZlV/LADuvEoUdBJzxm4c7BKfiZJTw/4E7sF6nTsUSEAFFDkvk5E3idXtzHa2pqjsakmWlrrY8vWDTHq0Yfjxpuui1v63Bi9r7o8brrpulT25ntvRZ+HR8SuQ0dia3VdVLUeig+mTI9bbrwpHhs2NHZuXR9NdXti7Zr5sWHTivAfAnbtLonxTz8RJTs3RG3d3qisLI25c2fFypVro6K8MWZMnRsN9WdHZpVO6Dnrmu68GuTRrQUZjLDT+Zngo+jzCpyjnY3JDAos2ZzXUtqaW6J67/74YuHSuG/QXdHY0P7luqceY8Y9GQ8+MjxWfvNVHKivjR27d6VvETy25svkAXs9+vZ0UqAlwDIXCWQFgl4PEPCZR8ynPqiT9OD3XvmCmZ5QyazCOvPLydnxb59D0Uov5n3nFoQw1nhkYz4RxGfsx1+/fv1SEG3+Q5/sscXk/fffn+xAO74uCBdYfvjhzKiuKY0dO9fEXffeEkuXzY5Bg70ysD1qa+rjvXdmxpgnXoi33/gknh73ctRU1yUdkQfMh5fmFnYkW+2VOGOjubvkcqr7pVP0et3JAgYv5N1xHHXO5q1Hg1WGlo1WQPQP//APyYFkQNyzM9yOQj7d1xzOYxVO4nE4BwdG3UErYLbi9P6lcWTERj0yOqZPXRBtzYdToPnqK+/E44+NiYaGuli7bnm88daLUbZ/a8qkXHP1LVFRVh/Vla3p8flrrz8fByo3R0Pj7vh8+dy4pc91UV/XkP4lzrAHH05BjfervAOLH+/vCMhNBl5eB2yAzyMmoJmD6a5ODsYS+AJUeqdjtuEDEKBhHI9+vG/lXMABnGTDBB7K6MCHZiYDweUbb74a1TW7YsOmL6PPbVdHyc5vUxAwf/6CaG5qiecmTI5XJ0+JlV9ujl6XXJOCFICIN4EOsPf4H00+eLCiP1MXUMfzCe9b8SuyZTec++c//3maAMjHqzeyCRUVlXEAuOMxAAAgAElEQVTX4KExfdq8ePutaTHswUejubE19pVWxc9+clH83d/+YyxasDwa6lqjrqbpjHxnFSALMtmK7Aw9Zpt0z+TPdtmYJzgmPR9d5I8WvbNnwveKiUmy595N9r8xm6KuvjJq6yqi7WBj+hnV6pryKD9QGjW1B6LSv6Kq3h/rNnwVj73yWqyvqo8dtQ2xt7ohnhz3dFzX+6q4/MLz4qpeF8XFF50XV11zUSxftSQOVPgfke0/zbpy1ZLoffWFcUXvS+Oyyy6Jiy+6LHpdcn0MHzYmqirPPIw9nj0rywErjPBkhw3DArrms47fNTl/V5/dUc7n0GIXsApMZe/yogmNgqDqyqpobWyJ7d9uiTv63Bp7S/dGfV1dDB8xIhYtXRKPjn4i3p7yflQ11MWiJYvT4h3v7DYvsry/aTHq8b5gz30ZVvgocFVX4AIjYaVgTz1BLsz0EZeEi8Ubmsi4u2QC0/mgeY2PmVME1uTkFQCLD/dcq/vCCy+kgFGZVwTNAXiRWUYrmslVsgs/zzzzdDQ0VMSXK+ZF3/7Xx7qvvoibb7kutm3bkv5H8SMjx8SMabNj9qxP465BD8X+ssoU0AvqyBPmw00ykJWUpCEjNHeHTLqjz2x7cM7cTUbk13GsYrB6nFD9eB9YERwBcibvF/pPAPb/+B//Y/zN3/xN+ICGc+XApaOgT+c1RxIQ+UqTk8syugZAp5ouhseJPOqw+pVpHDTo7thVUhaNDQejufFQTJw4OR599PH0oUVVVXn0uuyieHDYXXHPvQPjvXenRvWBpjjUFjF06AMx65PpUd+4L+oaSqNs//aY9PLzceONN6WPaO6++54EAFa8QEEwLnDjsHQlYPNuGIf2CD5PCgK44znDicgCIAAIfWmnbytEfHukD5jIQVBB3rIpaOCIAJhTClI83kW/1fEtt9wUjz0xPO65r1989PGU9Ih1xoypccstfeLuu4bETTfeHtu37okD+xti7Ojx0bdvv/RKh8dkspFAXVBj1e1d2JSRPfq/Xk+Et9NV1/tqsi1siC8BLzbLjvAiUy2LPnz4iDj3nAvj2QmTwsLHF+e7SvZFxYGamDrlw/jPf/oXsWzpihTU1Nacee/rsh38mcQEq2yHHSkHyCY9wapMs3v8N9dxzoYEunnhQ18mJ/e6X3eNUVdfnQJUwaqgVXA6Y+YH8cToR6Kicl+y25aW+vjm2/Xx6ocfxXb/BL+pNSrqG9OHk9XlFVFeuica6/zbv/0xa97UmDV/ZpTsLEk/z7pt+8ZYvfbTGDtueNTUlkV1zYGUUSrZXh6PP/psNDcd6gE+f3vm7bfJmh3DhPykwNfdfJO/smlBqydy+sk48tv67K775i0ZXnbm6LG1V9xgloBVxg5Gwbatm7dEWeneeOvNN+OyXr3Sh6P4OVBREfMWzI/b+t4RI0Y9kp5seSTOLj0hkXUUqKa6R1+b81GQOUkQ7/1NmCrrKLjj615ZIye+or2AVpbWh6T8pDtlxxfpBf3mCz4mu4s2gaE5R1IEznuChh6BNAyTSZWVtrjmr+YAAaYPjyVW1LVAtTi/f+jdcfW1F8e8BTOjtrY8Jk9+MW688Ya49dY74v9n7z2D7Eius80/3+9vYyM21vxSxK52tRRFUWYlUiJFiRLFj6TIGWIwAz/w3ntvBhgAA28G3tvBwHvvvWmgG6YbvhvtzTV9vTf9bjzZnZg7GGCEQQONxuhWRN6qysrKOufkOSffPJlVd9LET1VVUaPy0mpNGD9Nn06ZbmRi39FgAAQ9yAXdwk9anXtTuvK668VO0D/6QdoWmyDv2edkwepLglXbEaC8dCJ2PR3Ky3QcCkKZt+10nm1gzqELg8fRsN7N0vymaMUQiTbzCSmirPyDDR1MiLVm4YRKSypUXFwfSeK/w1nvdv7CCV3LuaSAP2JeroqG07p/76Eqq0oVjtQqFHEpGuN7otU6c6aeDwYOOBA6efiDN0asOBbycBJEWsnHAJADiWuk58nqZfNsPRgVNFjjgg6AKueUIaKNDNARDJLnoiu0BfnQRR51PHhwTydPH1Vu3mXFYixVYJrfY0DJubMXVJD/QLFI0kyD1lS7DCiHPyLYPIv25OsHtC+REXixdLwsX2+zHPQzDYgsLO1EDXBiXKNT4BNG167lqPBxsR49LFZ5WY3u3X2sUDAmgKnXE9TVK7lyu/wmLxKu/4ect8nX855Nu9Dutn1s+wEUyGNADHjPlAXHJDp0yiELBj7YAbpFHc971uvNI5Lqlz9Qa6KovFxFFPXkqSOa9MlYPXp813zNoqTkse4/uqe84iJVxeOq8gdUU+tVPBpX2BdQDJ0P++X2VuvU5RPac2i3od3hqJI/4NTVnNOaNWeSbt66rMKihyoqLNLJ45c087Nl9X6kib6r+TpkR7sQlaO9sHlsHxvF9tFr9MACr9fxvFepw/ogSwcDRWiEXvo6Ip/4VfxbjfnnrfrvVVMGfvBpRpdDYd26eUunT502+gst5AOCCehQloEWMuFZ1Ec/Yf02ZZEJ61N5LoAO2gAq0IQv5xr3UtbS/So8v8w9hqeGT49he9CNz4VmcADn8Ia/tbLDZ0E7vhhbJZ++iDwCKRzzbO599Oihzpyh7zsvn99hXlr0+z26cOG8zpw5p+InZYpGkuadhbLSap07e97Uy2AXmdAm9C20A0CVennmy/DWXMogB+QML4B/2vR5tGXB6kuC1ecJL5v3ktEH1gwCGp4mO0VB58oIihEyKahIKKlIqE6RUFqRMOtuuM6bx96GVP8Wcn35puicX5LH19J5ZsqiQR6Gf2hAhrEMGb47a5LemJ0YeSAXKxvk8+x5U7Zf456Fk6Zjw2nTqTHoeZ7scO5E6+ggiUZx3pRgFTsFrDL1z7pVIqx5N6+ZFwRHjR6qHj27avCQfhowqJ9W7/hSj11OBZJJxZJJhfxBBT1eRcy3YX3yhn16VFWsGwW35XDy15RhJVNhXb9xTp9OG23Wso8cOVTDh400X33YsvmA/F7rPxon7+fJNpv37TINsdwpWp9CfLoM0IXv4/Nw4Yii4YhiofrUHD8Z1/zalz4McGb7QPb0Aw192zf6zm9vn+bH3+ujNwtWs2D1uR3i61X6Z0Hl8875xBAOL6FIKFUPWg24BXxYEAdQ9dWD1gjT7+S/PmN4+3Uhl2eT5c/mZ57b4/+KeyuPl9m/G/IBqBIVIRFdslHUZ/UScEqeLcvbvxzb/GfLv97zsKKx0NN1qvZFK7uG1eGsUDDkMSA2GPHJEfLJn0qq2uOWw+VUMpFQMhJTyB+QlyUqybi8qbjcEepkOtwtp6vCvCEdDNUoFHErHmf5QFguR1COqrD5dN3r5end0I/mwHOQ5XDR+gRoDUa/AquxcETxUESJYH2KhrJyfbk2e9aHZcqt3ta/qufZ88yy3+/jLFjNgtUmAHyASkaPJI4zQSZREqKERMVICUXCLBeoXzJQf04+hmgjrLWKRPm23vOnC74y7HfMeA1Yb5CDkYmNIOGgrNysHNn/13VcX8nDyuXb9u+GHliAiv5a4GmnFp/VaabNSHbZgJ2ufLbc6z/nu8IhhSMsBXAb0MpSACKsANdQuH49K+tYgxGvymor5Yr6FErwRwhRxcMRhbw+87mjEJ8ArEvLlYqrKuBXrfn3pLhiMb98/ir5/JUKhV0m6sTyjqA/Lo87LE/t98zu36EBNwDVE69PvthXEVb8MxHVRCCiVEPi/PXr3/ewzm/4fcvj8/x+Zt9py/3X2GfBahasNoFDCZq1OAZsPp3uaABaX5vaZqkAYNUmAGuq4RzgRj0sB3DXp+8dWCWKDO92yQQgHr6t02qYKoraKaMsWH050PpuOHMAp12Dx56pfab7n+3wKUck1e7t8gELcJ8t/3rP69esAkoBp8GQ17xkRTSVNdbks4aV8yhLBOJBeQGfYZ9CIZ/iRIUDIYUCYQWjCbnjcVXGonISoTNrv/1yuSrlcBbL66tQOIKtB83XP/jL1nAwoVAguwTm9bbpy9sHYLW2Aax6LVhtWAYAOE0CVP0Rpf31Uda3Rec79dynQRr8fkPgxgxgAKYMzDL9fhasPgeyvRNZb+zTVXy8GCRPR0Bqmo7g5Z3GO2WMmQZnjjE4C7TsGkML0F60B7RxH4bLZy1I3zPDNSPsBodl114ap5UJVjOc11MZfl/15tv4ou1fNn1bPc3nGtP+rFfFtvE3HOODnrV165MoT+SVsnb/bNnXf87LELzcwiwHL4jxAgkftWfZQsh81op81p7WepzyhbzyhrwKRXmJkDWNITFdzNriQDii2nBYtbGY/CQ+ExSLmO+4JhJ8z5U/IHArGg0rFo0pFk0p4G8YzL1D0cjX3wZvT2fNMoBYRDaqyrlds2rWqzYsAWApQHYZwEu209N1qfSFNkDBvfg3/H2mz/+e9XnfwY6zkdXnYPK6ujrzTxsIh47Adg7ZfT1wf/ty4E35+g/7v31amotMsnRkdeHd04EAL5U1pJdrv/ro88uVfffk8S7w9d3aK9sG70Kbvgs0Muh7l7c3Elm1YJX1YDaywZRbNmVlkNWBrA5kdSCrA1kdyOpAVgeaVgeYSXqXtzcKVvlzAN60BbSSOM6mrAyyOpDVgawOZHUgqwNZHcjqQNPqQBasPiMB1qtmJiKt2ZSVQVYHsjqQ1YGsDmR1IKsDWR14OzrwDFR7p07fSGTVAlWrkEiEKKtNRFntMXsbdc3Ma67HvF38LP1vgtbnyeR5efbZjFChjVA/ec+OWC3N5NtjW86e22t2b6/bZ2Tu7T2Zea/zOJMGWy95lj+bx578zD1yyMyD1kx67TXuycznPpatZNb9rh1n8p4pk0w+Mvm3+eRlyuJ5ZWzZ5rLPpBHaOSe9qA3tdejnGFnZY86bii9Lq3223Vv6LC32PJMuey0zL/M48zrPsbJ4W7xm0vaqx/AEL6TMOjJ5zcxvLsfQ9zwaLT/fRufz7iXPtuO33fu8a8+jw5b7tmu2zOvav4gvW/+3tbOl0+7tPXb/bN223LP5tnymPnGcWd6WaY57Sye02eMX8fgs/e8UOn2G2DcCVp95hjnFyACxAFiOSbx8BfiwBkhBlKa5bdCM02fPImXotUrSGFpRJOpCLlbx4J9znsezOKcM+8xEGWjgGmW5hix5q5ljZMuec8qQoN8+k7r5LiXrhp69ZsvAm+Uz81nkU/eb2KDLysPSBX82j4Xs9hga7DF7e44cOLaJ+0nwb8vbYys7yvJs5AH/lCPZ8zfB65uoE3otoId+2s0m8m0ee/iEZ2RAGXSGPFse+pBLc9ygEdrZaEt0xdJu2wxdQf/h2/JEGRI8k8/GNasfJuMN/0ArcmVv9Z1j6IAmEvTYdqEs1yyttN2zyfLF3l7jPmTBufW1XLd1vWE2G109dFt6kQ/ygCdkBg8kypBPuea2Qaul61le4MH6ILu37WV5pgzH8G71w+ZZnaZeEveSRzmbR1mSvZ6ZT3nO2SyNTSE/2szyh25autFPrtGWlgfoIc/ywH22rZGZlVumfGzdVl6ccz/3sVnbypQJ9VCeshzbfVPI47s8w9JmeUM28IPs4A9ZUoZ80vdtazKwapUDoVqjQSkyjxEuwm5um1USjMt+nxG6G0srsqAO6rIGgsJxbA2QY55rO10rL5TRys+WhzY6aOrgsz3srWJTxtZhn2nrQOG5z4IV6OI+/q+aMra8pZPy1PcmNutM7CeIcDSZdMITfPJ88m3iPq7Zb2tyTF7mdXjkHH4skOEcXilPIt86N67xHMq/C5vVDfiBbvhhT75tQ9oWvjJ1z/JNGSvXzOPmxrvlBT4s7fCMncCX1VN4sfyTRxna1naM3M+AzZah3qbaoIVk28zSAm2WVvJsgkbKc255tPeyt7zCA2Woh/LYAHZPHnZj72kqPhvzHHihfWkz9pzDk20vjrFXe60xz3oT9yJraKcNoN22DfRyzZ7b9qMsPJFv28nurd1mXkMOtKutj3N7zH1WlyjDfVZOnEMTZdhzX1Nulm/aDpu1NLCHT/bkW97ZIxfoZ885fRP3cww/7OEDnpEjxzaP6yR7L9e5n3OOsQ9Lh5Uf++a2ITfb/lYW8Gl5w5dZmcD7921rMrBqFdIKFiVBQdgjeIROQ6CszXGDPpSbDTotvY2hFVlQF3trWBgOdbMhH9uZ2uchR6fTaeSE3DBOgB351GGVlXybh4xJPIvEfZSzZWw+z4NHS5flGZq4n2uWXsq8ic06ZasH0AhdnMMfzycPetjbjWvWgG0dlOUY+rlOypSj1T/y4c0mZG7bhDK2PeyzmuseecADcrC8Qjt6YHWBc3hjT1krS4AM+fZejpEx9TS3jXa1/Nk9bQzN6LXlA16e/dYq5dEJeLP6Qp61m6bi1bYTe0szbcQxNFsdhFbKQC+6CG+cQ3Nmoj0zE3UhE9qXeygLv7ZMU/HZmOdYXq3PsTqLHOALfihD4lpz22gD2o32sm1g6aQ9yKd9bZtQxvLKvZzThpQh3/JPnVy3dVEP51YfbH22bnTK5tn72FOPpaupZMfzeC40sYcu2tLyCJ9WLrSz9d2Wf+63Ze298EJZ8tEJ5ECd5Nv7LL/Ux32UYeMeSwf51G9pbCqZvOxz4AXakI+lH5rhgTzLBzIg7/u2NRlYzTQkhI5AUTCrUFZJbCM0J0Fbeq2yQGumwr8qrfBq60HRUDDkQUfF3iodxxgZo0HKcw4N3M89JPIpz7Xq6moDaKGXeinLtcxjzlFwrtk67DHXeBb3W6Mnj4STIZ/0JjbrdKAJGiydnFu64BteLD/wy2bzKAcvJOTCHl45trxa47blAAjkIT/KUNYCnTfF6+uWH3SiJ/BvdQReOIYfZAu/lCOPBM+0Kfncy97KGjlTV3PbLF3soR8a2ZOgHT4LCgoMP+TZcvAL7+gJ+ZWVlSosLDT3U0dTtTPPgSbohBaObYcNHRyzR68rKioMrdiC5cPqbOae8pYHynGNNrfPgV/4LyoqMvnNrU2fRw/0wwd82UE7fFj5ZF7nuLltyB66bLvQ7hyzWdptHnrLsW03rpPHHh2xusueOriGvXIPZayec43yti4GoeRxH+U4Rn4co3+Uo56m2qANHqEHv8OzkZPVWfIt3xxTFjqh15axtgLPXLfyoQznpEw9sc+kXhLnXOfZyMOW5Tm2zdg3t422Ilk5QDfnlm7kaWXXHOlvrDybFKxaxUAJDxw4oG7dumnBggXGESF4BN0chYxCYCB5eXnq16+fodkCx8Y0QDqVVjJe73guXrig6znXxX9EJxNJlRSXaML48Ro9arTy7+Qbg8LxbNq0ydCwfft2M6139OhRDRo0SL179zZpwIABys/P18aNG9W/f38NGTJEvXr10sKFC00dxcXFmjRpkil78+ZNI3O3260NGzaIe6dPn/60MygtLTX3jxgxQufOnTOsYujIg/ZqzAbUtcnU03BSkJ+v/fv21zuUREJHjhxR9+7dNX/+fONcmOZHDrQD+XS+OB3aZ9GiRRo8eLB69uypzZs3m3yuzZ49W3379jV1oV/wcOPGDQ0bNszI4vHjx4Yf6l62bJkGDhxo9NPWixN8F7aqqirD6/379w2P2NOdO3eMLODZOrL6DotIXViXL1/V5wsXy+/zm39FCgbDOn78pG5cz1NdmjWrbyaC3hh50h74EPSW9kK/ad9BgwaroOCu/P6AVq9erbKyMuNPampqtGzZUnXt2lX9+/fToEEDlZNzRTnXr2rt2rVGVnRwTbMBSADQCcUAEMmUSkvKNHLkaPXu1Vt9+/ZRjx5ddfLUIZ07d0zrNqxTMBSS0+U2wHXokMHq06eP+vXtaxJ8k+bOm6tINGLKHjiwXwP69zPXBw8aqEEDB6qosEjFxSVavWad6aCbhtfGPcXlcuny5ctm0Ird4o+mTZtmbP/kyZNPgQb+qDlu+Gja6tNPPzWDIuhEb3F8qURM6VRMsXhYtwtu6uT5Mwry72OppNKppFxVldq+Y7uqnC4lGMxEwqqrS+nq5Us6cfSolAaY1UcRASsHDx1UWUW58c0GsCUSKnz8WDu2b1cwEKjvYxsCRPQh+E18OL4AkPPmNkDfVwmfii/v0aOH6VPwSbbvr/dLYe3du9f45vXr1xjaEnFmBACVEW3btkM11U7V1aUVi4dE/9e1Szd9/vlCORw1pq5ksh7onzh+Ug8fPjT2nUoldenSRaM7U6ZMMQAPOdGn00fSVx4+fNiAYmhqOn/w8pLH7yEj0oMHD5Sbm2v4oO/jfNSoUSZx/K70WS/PvdRkYBWFJCHY8+fP68c//rF+9rOf6U/+5E+0dOlS44hRkDdrON9FNF+Vxclcv37dAKGSkhLt2LFDW7ZsaRywrpP4e71ap0sb167TX//oL3Xq+AmlEklVlJSqU/sOupV3U7dz8/Rx2/ZmLeb+/fuN4wNwAiBPnTpl5EmnzNIAnFCXLl3kcDgMoAOE2bLLly83zv7999/X3bt3de/ePeNI2a9fv14YMGV37txpAA9gfPjw4caA6TAAhjgaC1Yx6MZswL/aYEDhREyALP7vPOCs1YDuvTR2+EjD17GTJ9RzYD8Vl5dqz549WrdunSk7duxYXbx4UeXl5cbpwS+8tm3b1uQRjUIe6NLnn3+ubdu2GdBmgTzl6UTgC8eIkRNFXbFihWbOnGnqgvdbt241OLp3A6wig3/6p38yRg2gpw0PHjxoHD+ywP7oLHH+4VBcvtqwdu86qv/9f/u/dOHcNcWjKdW6oho7epquXbmjdFJKJ+vqRxWNaezXfC/ABf7opIk+kkpLy7Rzxz5t/XKXAoGQ1qzeoMLCJ+bJxcWFWrBwjp4UP1Rh0T05nSWKRJ3Ku3VZi5csNH/RmIglDTh/2q8a/PO14dRr4qJOqWRIqaRPqUREMf4eMhBXrcOjipJyVZYXateupdq7b5bOXV6t9Ts2KpiWwomkqqoqVVNVppqqEn25fqX69eisO7dyhU8qq6qSM+BTMBKSw1Ghokf5Gj6gt66cOaGaynI5apxyuAKau2i14qnmFzWiX7ADSY4ZZNUPLvqbQQntTWe1atUq44u5RrvTKdvI0mtqoFeqhr6LfgK/CB9ffPGFGfjjm/Fd+CxsMJVIKRmOKhl2KxWv1KOii/pNm3/RpNXzVJ6KyZOIyu+u1NZFM/TeH/+gR96QnLGYHD6PiksK1f7DP2rZ3JmK+2qVYjlErVf7du7VL/7tl8p/cN88Px6JyV1Zo9GDhmrMsOHyejzyMTMXCmrfoYP65S9/qSdPnhhABq2NBmaYicWj1mQA5Cmi+wDiiBJJZguCWrp0kRlIPnr0yAw88OO0Ib6Kdscnjxs3ToWF9zV1+hgdOXhR0WBKVTWFGjm2m376k3/Vk8e8GOzT5at7NaD/IBXcua+Zs6Zqxcqlxi/4fUGtWrFR/8///ZfKvXHLgLv7D/LVp1835eXdMIP3qVOnmpmVDz/80OgTgRt0CnALGGyOAyDoYoDOIOgXv/iF4QO7uH37tj7++GMzmwT47tSpU/2g6JU0ufne1GRg1Y4qETiRPyJ5CB6AQVSQThQwRIfa3DZoR4kBLwAknCOgEOD2ypsZXSd19vhJfTb5U7Vu0VK3rucqGgjp9NHjGjdilCLBsOLhqE6fPCWX02Uihxg3Rk30bMyYMU8dPI4QQImxI2OcJk6ACDYRRMAbo9Dx48eb60yrEbXEaRFlBOARWcRpdO7c2bQRI06AHXWtXLnS1A3v1NtYYyaOBdx1B+r/y/3x3ftauWCxRvcfrPHDR5pnfvrZdJ24dF6BaFhV1dXG4RNdwTihH1onTpyoK1euCGczevRoIxs7MOI6kVYAOU6ZToNBxokTJwxARd+QG/LhfuRH5wJ/yAoQD7/vysYgBIfboUMHXb161ejntWvXNHLkSGNfOTk55rhTx84aOXKSfLURbd96WO3a9FTf3qNU6wwqGq7TqBFTdedWkWIRE8BpdmDVDmrRS5sYbKxcsV63b91TOBTR8mVrVFZaaTriqqoyzZo9TRUVRUrXhRVP1CqtWt28fVGffz5Xfn9IsWhKdYxJMjvdr8f+X5Ma1CkW9SoedSoZCyrsCysWSCroimr31j1yOUp14cIW3by9XhevLdX63ZvlTUnhVJ2JnHpdlVq5aJ5O7t+uU4f3aOnn87Rjx3aFYjHV+H0qKitSWXmhHt/L1Xv//gttXrlYN69dUY/uvdW1x2ANGT1V0WTzA6v4LGyatgWEMktCtAvgQoeM/wJgEDTAT2HrLPWwgxb04G1u+Bc2+IAH/AkRLgIA0Ni+fXvjWwK+oBKhqFIhh0K1BVq2aoy6jW6rMWvm6nEyKlcyqju5FzRvcGd1+Li9HvpDKguGVOF2GUA2tE8XLZo2UTGPU+lQUIUF9zVpzAR17t1DOTfzjL8Ke/36cs0GTRw6UhOGj5K31qNQLKKbD+9p1oJ5+vdf/9oELKDTDF4bu9TnRWA1nVQqHVMyxdrUkLz+anXv0cVEdXk2gRES/Rl9Ke3Pshz62HRdVAcOfqH1aw6opNCnFatma9qsAWrXppcqS0Ny11Zo/5Glmj1rnryeoHJzL2vosEFyudxavGilpk9doF/923sqfFxkeDx+4pCGj+wnt9tpAh74SNrnwoULRp/oC+gHGNzTJzS2f3tTukhAArtgNunLL780eGn37t2aO3eukSG2QZ+PTL9vW5OCVRQAJcWxsCea96d/+qcmIojRoLDsm9sG3XSGJJwlUxhE5ODhlTcCVsmUAadhf1ALZs3RjctXlYrGtW/HLg3tP1ATRo3Rh39soWWLlxjZMHrCmAFQRFNat25taACcbd261YzkUVYcJgmgyRQUU/gYI8oNeANof/TRR2aES8dg+UP+RCJRCiIbgFaehSMG5BG5paxtv1fmnU+IJJNyBn2KpViTFNbV85e0ZOZc7dmyXVPGTlAwENS6TRs1f+VSMz2G8//5z39uHAx8AVp37dplDIg98KQAACAASURBVJd2IcpMtJ6RMssAiMBQrmXLlqaToK2YNmH5AGCV5SdEdK0eHj9+XB988IFxXPCHE6NzRI62I2oMv01xL23GEg+AKm1nHdeMGTPMYISlIXTwXo9XA/uP1MH9p7Vj22HNm7NSK5dv0pRP5snjDmrQgDG6kXNXybgUizTPyCr6TNvQ9uj/7dt3NG/uEgUDUcWiSa1YvlpVlTWmTElJoVq3aamPO7bSR63e1/ARvfWoMEc3cs/qt7/7lYYNG6nr14gk1zUJWK1Lh1WXDigZDSrqjygVTivgDmnhrEXKv3lFly5u15kzS3T8zOf65//4lXoMHKFqj1fbt2/TkH49df3iScX8DoV9Dnlc1dq4cYM6de+hS7dyFUlGVV5RpE/GjdCh3Vs0edQQ7d+1Q9VV1bpdUKjpc1cpEGmeAQHrV2hPAB6+dvLkyabjBciwnGfOnDlmpgTwx5pjylp/1xQ29qJnMMC1vgKfwjGgBz3FTzFTA3/RcEyJUEzRYI2O7FmmxUtGauuRNRq2YJqKYjFdfXxfA3p+rDvHdqpTp4/lqqtTZSikXQf2a+mS+dq6dqm2rlyksKtanppqjR00VNev5mjw6BG68+C+AXy3cm9qaK9+OnvomCaNHCNnjUO1fp9GTBqv42dPGx8IUMOvvRbZvQisppJKJCNKpXn5K6wnJffUoUObp7I5duyYZs2aZdoQ2eCvbdDq5KnD6tT1Q104m6tYKCWns1DB8CO1ad1d7hrWeHuUe2ufunTppgP7D2nx0nlatHihfL6AXE6P3E6/Bg8cq5xrNxUKBVVZVaKp08dpz55dxvezFIF2IkiDruE727RpI5aeoGvN0ecjI/wd/TSzhSx1Q170dcwaEmzp2LGjmQ2lzPdtazKwiqAxaKJdGAiKwhoR1q0yymHkbA2+OQoZ+hmtAGoABEwZo+SvvIEBUmml40kDWJn6PnvilMKBkPZu32mAqsdVq6DXr17deijn2jUDMokSIj9GnwBODAsFRo44IJQU2ZKIshJJRbaATqbRAWvcAz9E4QCwbOQxygXoAeKItrIWDp55HpFwliEAVukgaKvGbDFeYIpHFE7GVeuu1afjJ+rWles6snu/po6fZPIKHt5X32GD1LZDOxNF/sEPfmB4hSai8/PmzTPAGjCOPHB+8E80g2g9UyLt2rUTaxahF4fE+l6ALYoPH5SnA6RDYYkEHQwOgIgkQN+C9cbw2lT3MuqmfekgcWCsPz579qyRHTKjzS9duqQB/Qfo979rqRPHzmn3zqMaNmSiqisdGj1yinbtOKQ5sz7X1ct3lIillEw0P7BKW9J26Dh8MYCbOXOWrufcUiKeVjpVp9Wr1qqosMSUKSx6qEWL58npKlc4wufYvIonHbqdf9lEVsPhqCKhuOpSTQNWWQaQTgWkdELVZdVas3S9unfsrV/85J/13u/+h7p1aaMRI1pqy7ZPtWnvLrkTUiSt+o4q5JW7olCJcK2ifqfisZCikbA8gYAcQb8qXVX6bMZk7diyTlFftSqfPNDUCeN0/twF+QIRLVi2SfHmF1g17Yh+4mvwMbQtNghYxSbxYdg7y5lYp8ysD77Q+ifue5sb4Mb6XmjhGNpYDkD/RlCAmUSznjIa1/1bVzW0VwuVl1/Vul1LNGrxTOU5a7Ro8yZtWrNUlQ9vqFfv3qqIJFXkcqvP4EEqyM/Vnq3rtXDaeHkqS3R83x4tW7BQxU9KNHHGVOUW3DH+avjgIXpwM1+Ft+9q4ojRcjtdWrtxg9Z+uVkuv9f4CHyh7W8bLbsXgtWEkimAKimi4tL76tmzq/FD+FVmCVl2ZdsdmdGn4r82f7FWy1bO1YqlO+SoJJL6RJ7AXfXtNVIVxVH5fE4dO7lakydN0ZrV6zV/wQzNmjVdbnet3C6fHNVede3cX/n5940/Lyy6rxmzJunzRQtMFBKQbIMV7AF6+EyezYYONrcNHUNW9NXYAMEj8lifzzl8oGeAbmzj+7Y1GVhFqCgoTohOlCgYigH4++lPf2ocE8LlenPbUFzW2LAoHbCNQTGSIUr1yhv9YjKlZDSuRDSu+Q2R1UQkpoN79mnT2vUm3++q1eIFC3Xq5ElNmDDBAFALvHDkdNrQxRSGlS8KjeGztpb1wMiUe4i+YpA4fxwUUdR9+/aZKC0jNaIVTLED1lgewFQDbURZouCAP55nO5NX5p3pMqLVsagiiYSpt2Pb9ur0UVu9/++/0d/9+K+0ds1aFZWW6GLedTk9HgM0WfYA8CTKaoEm/DC9T/sAUuETmnlJCmfIPXZqH13DsA1gGzDgaeSDaXKMG8CPLOEXEA+A5RjdfRc2aCdyzuAFhzZ06FAzXcr6ZtqzRYsWJuLKS0gDBw7Tzh0HtHfPUc2ft1jVVR6zbrV1q476oEVb5d64q3g0qWSicYOSNyE3q3/wSYSdiNuxY8eViCeVStQpGIhr9ar1evSo/iWSsrInGjJ0gDZuWqM9e7/Ujl3rde78AV27dkorVi5RKBhRNJL4KqpKc5u+ip/X3WmxZjWqVDwgQtfpREqxYEx+V0A5F3O0c9sWbftylXZsX6LDR9fq6IWz8vASVo1Ls2bNVrsPW6pTmw/0wW9/rV/908/Uoe1Hat26lVq2aaMvd+9SKBaW1+eQs/qJju/foe3rV2rrpo1av26Tvvhyl05euNUslwFgYyTsDdvmGEDFWk/amU6YWRKOsXFejGPwja/D73HP29ygmwRt6Cf+99ChQ8YvM7C2QKzW45fHG9K5E0fVre1v1L3Tb/UPv/z/9ON//Zm2X76ij4iOtftI3d//d/3w//2h5qzdovO5d/Rh67b6qGUL/eof/1a//se/1b5tmzRpzCh16tBerdu201/83V+rfeeOOnnqlFq1+ED9uvTQB7/5nf7qB3+uTRs2auGSRXr/wxbq3K2L/uqv/sr4c/wofQEzMI3aMBFsxtpNg9nEEwSomEVl6U1Abk+FOnZs/3RpGT6WBA3Ih7ZleRvRzkQypOLS2/rg/a4KeKKqdjyUy3NHvXoMVUlhrYIhtz6Z1luHD9XbvdNZpgkTxtQPCpxeedwB9e45VHdu31ciEdey5Yu0dPkCJZP1L3ShV0TuCfAwrU5fyPPp++gvm6PPR6+gDz1jEIQNQCszZuga15AjwTQGet+3rcnAKoJD2BgzEToA6nvvvWemdgFJhN9xOIDB5rixhpGoI6PlM2fOmIglHeUrb3UyQJXOKhoMa9K4Cbp89ryJtJ4/dUbzZ86Wx+HSw7v31bVjZ5WWlBqlZPoC5wJQPX36tJEZ0TMAF/KzwBQ58+YsIBRnTsI5AXiZbsEwLThlScMnn3xiAB/3cw2wA+ADzBKhxbgBitaI6SQasyVUJ280orj5bE9EqVhSqWhSp4+c0MzJUxUKhrT30AH1HTHETGHhTBhJYoQMFACXgDPW6gBWaRN4Q8dYm0nkhYgbfHGdyCvT+rQjHR9LOViDTIdIFJYpRdbJAX6JgNgvIOAYLM+N4bcp7mVdNS+O2WgTbfdnf/ZnhheuEXWFT6bMP2zZRuvWbtTmTVv12fTZisd4C1ma+ulM/U///X/RmdMXTF483jwHj+g37Y89MCgJBkNKJtJKEoUMJ7VxwxZVVTqMTQSDXh0+ckCbNq/V5i/WaNMXK7R73wadOXtAq1YvUzQaNy+XPe1wbaf7htasqi6hdDwsQ2yqTolwQicOntDMKZ9p07o12rplrdasmqexY/voQt4tOSIpRVJE7qJKRPxKBF0qfnhLOzatVijIh8ADCkSj8ifjCsZCCgbdupl7UWMH99HWjWu0ftUKrV+7Qes37tToSXOaZWQVG8N22dhzjn2yZhWdZcDJTBDgAvvF37FWzw7M0Ye3uVl/CGCAdmZ5sEUG0AyerU3WuLwKRBLyuWuUDJUrGizSnv0bNXX5Uj0JheXhfYN4RKW3L6tnj56qDCbkjZKXUCzk1abVizX307GKR7wK+d2KRSPGPw6bOFYFjx6Y5/Cyasjl1d2cPI0aOER+r08Ot1vucECeYMBEbFnfDrBhw+c3ansBWOUN/nSagQefzeLfqvyaPXuGWRdKezKYxp/zfGSGnJYsWWKWBrhclTp34YC6dh6qZFTyBcrk8d9VuzbdVVPOd3Y9Wr9lqubMnq9Usk4HD+3UgAF95HA4DWj2eaLq2X2wrly+rng8qnPnT5plAB6P2wRkeAmJPoSZR6bTkQXYAzrQJfx+c9uwC/pl+vk1a9aY90igk8EQEWqCaLy/QeAK3/h925oMrCLoTKWkI2XtJKCC9ZdcoyHettN5XgNDO2AaBWHqHWVgyhXFfuWt4QWrumRa8VBEB/fuV9GDRwag8jbn7Rt56tapswb162/WJPEspsJYfsBaVSKmGBdOEKNjYTgyRHkxPBILrblmR1xc55xpqVatWpmpfkDs4sWLzVpP8qgbYAggZpQLYAUcsoaTtqEOtsa2E7UAd9mbPoq+JikVXL+pDavWKhQMKhiNaOaiBfrjRy0NKAVwYah0YjgblikQPcZIoRdgDg9EFxmdIxuAOSCWdmMEyv2M5AG03A+Aoz7ycaB0gsiANy5xngB3y/Mrt3UT3UinznINeEFn4Z/IBeuN4YN2ZVkEA48VK1bp9Kmzuno1R3v37Jen1qdYLK6aGqfmz1uooqISxWLNF6hjD7QjNkH7RKMxpZJp85IUXzpYuWKtecEKOdRrGZ0PGsen1/xKpd3KzT2nhZ/PUSTCvRlLAN4kWIWedFKJcFBJPicWDCvo8WvL+s06tGe/gl6vIiGfPK4Kbdm8RofPXzNgNRAn6phUXTKiurhPpUUF2rhqsSJh/swhoRiDvnRKLp9LHm+N7uRd0rqlc5WI+FQHaEilVVZZq5kL1irWSGzSROpsoubYoV3LyKwP/ggbR8/r273+7ybr27mpKPvmc6yPwA/ZvoI18Ewv40/wQUTycm7mK+fOI9PGyVC1YqEyXTh/SAfOnlNNPCFHLKlYPKZA9RNt2bxV/lSdXH7WONcpGvDo1vULOnlgu5RiWU9QybqUfNGItuzbpaLysvrIYCyhukhCrrIq7dmyzXx1JhSJyBHwKdoQlSbwQB8ByLa0f5Orl8x5AVitD7Vid0S9eRclIrfbYZZi2ReE6H9YY8+sH/0/Pgs/1aZtK/Xt31XlxaXyuv2KRGrkdN/RvDnL5Xen5HCUKZkuNjMo77/XWqNGD1Zh4QOzzCLgjykcjJklTQ8fFCkUCqiqulTbdqxXx04dzAwafQmJ90CYNkenWCJG0AO/0tj+7SUl952L4cfx7/RfAFPopB1ZUknwCWxCAKY5gu3vzOwzNzQ5WLVKgMARPEAKJUXgKC75zW3DEUIfTgjDRpmhu1GbMXAQa30K+gJKxhLmnBeu/G6PmSLkuqOyWjXV1ebZKCEGjazosEnIDPqgk4QDIgG2KEd5ynAvABf62XON9iBR3vLFMXmZdZPHOXs2jhuzvQisGvSaqF//VVxRpgCfO0vUA0z0BWDK2hz4sTTBp+3QuA5tgBiOKWP5pP3g25ZHZrQjHQz1wTPtSz7lOLYj2cbw2lT3Qi8yYg8v8ETbk5AFe65ZXpGLHdygNzafcuSn0/UzIU1F/3d5Du1mbRB6OWatajJeJ68npC1f7FBpSYWRw7NgVQoolqgxa1Y3blwjnzdYvzYXlbYJ+3wTkVXqBbDy/dp0ndKxhPmc0cOCe5r56TS1a9VaLX7/e7Vt9ZEmT5ikh5UO+fgaQDKtRDIlpaJSMqjqJ3e1b/smRcP8kUNC/mhUvnhM4QTfWq3VyaN79B+//Kl6dmitDq0/UqtWbdW6XQ99OmuZ4m83CPnSzWztEZ1Ff9ljjxZMoK+0O7pK2be5WV8EDZl+E5rRT3wKdHpDUfkTKdXxXbiIU3WhKqWTAXn4J0JJAWbc0inVxf3y8jJNWvL4okZX4kGvElGvEpFaqS6itOKKpBPyJePyxqKKpli2w1KYlNLhuJKRhMLeoFmLnahLK8QLT5KcDf2Y7dcaLbvvAFZZFsDzeDbywAfhf2lXZEg+G5HTWNwprzuhsD+mWMKpaOKJEvDkk6JRn/zBu/J6/PJ5+IoQ+sEfCiTMjBBfNUnEmGXBj9GXRRUIOuQP1L/jgd7wbNqFZ3NO4vm0H+3WHDcrO3SfxIbc6P+gG16wle/j1qRgFUVA2LZTxOkgWKu4CN02QHMSNvThcFAGFBoebAf5ynTWyXyWijWrpFgoorAvYPI4JuIa8PhMHlER5AIQQUYopJUhe/JIyJPNGp7dY5Tcg2Fa52nbAd4oB2+Z/FkjppzlmWeR2MhvzPYisJoIx8U6Xf4cIcp35cJBeQJf/ae55QEHh7Pj3IIu6M/UpcxOAvlk8sg126bIhHoAsZRjT1nkCb/U+S5sVg9YxkD7wBcyov3gleucwxsfpk8k+HcrBjL8kxVlsEc+H0Q7MxhjcNL83iqlPeAPPmgf+OSY6GgiXmeiUD6vX3HzMfGGkL3ppusjq4DVdF2twhGnfD6X6rg3Udc0L1g1rFUnogowjgWCSvPCaSRqXqaMhaMKeAKKBdkHFUzXyV8nRVLwnJbSUSkVVDLqVcTnVDpJVDhhvq4RYiCSTigU9igR9SgV9SjhdykWCigYCCkSS6nSHRTvzL0LG22K3mKH1i7pL+iYrc2i2+jD27ZRaLV+FF8C3dBofTb6iq7GmMpNSnHAUDKgtL9ScZ9bcWbvEjJtneLfOJL8731KfLgBvU4BwvwepeMBRbxVioZrlaiLyZ+KKkREPRo032LlmQQ9iKyGnR4lwjGFAkGFohGFkgkz8IcWfKaVKfc0avsOYDUSqf88JcEAnm8HIciPNrRyA4y63EVmeVjIn1IiWatIvEh+T1SxoBSJehWM3FM8GlHxkyqzhpX1qKFQROkkf7aTVjScMl8GifFuRNSnYMipRIKXs+r7UfQKOfBcno8cTBs19KeNkskbuNnSh54hO/boGnt7DT7ggfR925oMrFrBWcVAqFawKKx1SHSmzW2DZgAMCoFioOAYFfmvvNFpMcJm6pKoSSRmXqhiT4fFVwJCXr8CtV6l4glFGxagQ4OVod3jfJAbiTwSykxZ9tBrAS5lUHDu4TptAG9W4blGGZTd1k+eNQDus233yrw3TMw+bxlAMhBROpqQ2+U2YLUm4JXb5zU0oic8G/oAq9ZgaQvy4IcyHHPN0m35sbzZa9Yx2vLcC5/oItfYIxt4fhc2+Id+C+Q5p+3Js7wSXa6XFdF49JhZAoAsHSzgHAdIxB1dIure/OzR+g32VodZwsC6W9arshwgEedLBvX6/2xkta4hshqLu1VXFzcvZkXCfGc1YymAMW1+GmHjz1MaqgOLRBLmeSwFSCfiSsUiiofCSsaSCnqCSkVTiofq5E3IgJgggVhmMxoiq6mIxwDXWDigRDymYCwuTyyiaCqmcKQBrMa8Skf9ioeDCgXDqvXF5I0kFW6G65CfJyp0FpukjbFd+McWycM2yUeXrY4/r46myrM+F1uDVgARvsPSDe2m70ik5E1L7lqPIq4K1QUdqktEzb9UMSgJsVzOtDNT/ykxpkklpTr6iji+kf7Aq7p0SPG6qAJ1cfnSCQVTSQVizC6kTb+RDEaVCEaNL+XFQ/4FK0q/YKKMX9mNtZ9GyalBp82shDUZYzZMU3x9GQBglTZDLsjK9qv4ZAAsMkKW8XhAtd4nclaHFA+nlEx5lEiVmm9Bx0NEE/2Kxh8p3vA5ML+f9ekR84cn8Whafm/UgFXjCxIMzEMKR9zGv/FMizd4Xr0/rO9XebZNjZLJG7gZutAjEu2G/LAH6MdWkCHnHFPm+7Y1GVi1CpC5t4ZtGwEFRtiZZZrTMfThKKGRhEI0ij6mWZm24R+FeEEknlA6kVQyGjPHTBOSWK+EIqKEPC9TTigqcuQ6CkyyZdiT/yyN1AP9trxV9mfL8xzrPDLreB1tlGYaSHVKWecAr4CFZJ0B6vDsCwYUZX0f8s7oqODXGiR0wYc1VGiz/HGNc67Bo+WBY5K9h2N4pT2tXCj77H32/ua6Rw7wgiMmcQyt7Em0Jfyxj0TC8nprDSDlrwsBpkRaieZwzJ5zjpsrv/CSSRvLAIhC8QWDaKT+jfL6MpTDLpAHg7CI0nUhE50hikw7M+78evqq08p8xms5TteZP/zA9sVAiI6Ft9voiOIppYkOx/m0nRTnn+4Y3Bk7YU1uTErHlIqFQDBKxOp9AtdjdSnFU/CXUCTkNX86EAt4lWZ5QChiPl3FVzie2py1vWa+f1aPbRuQzyDcXrf5zW2PDkIj+1i6TmHGHERPGXgkQkpHI4pEk4rVSf5YWlEGE+m4ifhHY/WRVdMPpBKKBmqV5tulqYgiibDiSitSl1YknTLRU3wAL1QpWa9LvLzLch58aDAOKP7KH+LvoAt/2niZZdpPpu1Yu6u3vfp/tKr3S9gdyfpeSwPn8Th6XT/DGIuwrCmkVBre6S+lQMCjVJ1bKfo7+kheWkzXf7Obby3jCxAxvNfXH1c8wbR//ZI4eLfPz+zjaCPk0Vx1iva17QatNiE7Bm3wauX4vP27DGDfKlh9njD/q+U900NmWvzT4++tTJTp1L6OFp7y/EyZp/nNvIPN0vn1tm06eTw1m29x2mnVCYCeOdjMvI/jN0v/t9t9fUAX8GzGq2aZ61f0ZN77NTqfsZVvlrM8flXX1+5/wzxnn1Uvd2JeyMKgKRBVg9wbYhMN12wb2bIv9o8N2vw1nf1m29ehHV8r83rbw+pWPb2vp25rn9QJl3Zw+uz5s3y9CVqefca7eZ4Fq98igUyl/ZZi2UtZCWQlkJVAVgJZCWQlkJVAVgJZCXxDAm8ssmpBKmFqOwVi87L7d3NUlm23bLtldSCrA1kdyOpAVgfeTR34BgJ8hzLeKFi16z9YE0Kya0Sy+/q1Olk5ZOWQ1YGsDmR1IKsDWR3I6sCb1gHW4r7L2xsBq3bUxWJgQCovvNiXPrL7+pdfsnLIyiGrA1kdyOpAVgeyOpDVgabQAV6+epe3NwJWiagCWEHyfCbCvqWGsLIpK4OsDmR1IKsDWR3I6kBWB7I60HQ6QOT2Xd6yYDULoLMDiKwOZHUgqwNZHcjqQFYHvsc6kAWrz4Hq2chq042WsiPTrKyzOpDVgawOZHUgqwNZHfg2HciC1SxYzY5Gv8ej0W8z/uy1bOeQ1YGsDmR1IKsD74IOZMHqK4LVMP+fzP+6ZySbx75ZNX44Yv6rnv+rf5oaaMyk2R6/HO1h87eW/LUl/6rxzXsyr7+ozHPkFI4qYpK9Rj3PJnvt7e2trJ62daZsG46/UabRetH85PDNdm9Mm2Ty11CPkWX9f0jXP8uWacxz3rV7Lc92jz3ZRF5z5sfSnLn/Nnozy311jC2FIlGTntpcs+b723jMXmveOpvZPl/p4PP7OVv22XKc22uN2b+pehtD039+79f7vgYewiFFwpafevxUb8s2L2wwVf290afHtv+PxfgvvHd3a9I1q7zxBrrnL0u9Pp9qA37l3i+Qw++VJxqSjxQOKtgAZJ8CQwtkXovy/ueK8g0jCYcV9gWUCEflcbhUXlomv89nvnAA2A5E65MvGvmK9v+UVv6XvVYud7nu5OcpN/eGKsorFQiE5PcF5HI5lHfrmvLv5sjrrVEwGDB/LXj37l0VFBSosLDQPJ8X2J48eaL8/Hzl5uaptKRCjuqAat0BPX5cqPz8m3r0+K5i8YBCYY+8PreuXbuqgoJ7ph34WkN1dbVKSkpMHWVlZeY/mmkr/sqQ51y5ckVut9uU4z+vSZx/Q04v4Jln2P/z5r/pKysrdeNmnu4VPpIvGDT/Ze9xuhX1h+R3uPXkwSNFI1G5vR6VVlfpel6uHj58aJ7Py3rU9ejRI928eVM1NTWGf17mc7trdTPvjq5cvqZat1cOh8vkIZ+Cgnw9enxf0WhQ7toaud0OPX78yMgSPj0ej6m3tLRU9+7dM8/jOXzJ4mX5fLvlwgqGfMq5fknhSEC1tR55agNyu7yqqkQO3nod8rkUCNYqEAjK6fCosqJG9+89VCjEQIy/5Yzp1s18I7+AP2z+tvTt8vVNe7Vtgi48fvxY9+/fN/u7BQ/kctaq1u3Xrl37VFJiddmv/IJbyi+4qdzcq7r/4KYqKh+q4N4Nbdy4XsFASIFAVOFQUpFwSpFwvH7A93SQ900amkYmIXk8ToXDXj14WCB/wCOPx218aFVVjUpLKhXwR+Tz8rWViGnDUMCnytIneph/Uw8KbulRwW3dzb+tWp9PTypqtHzTNgWi9f9f3zQ8NE522CD+A7+BrWObpIqKCiMH/BS2b3XibfFEv4YvJkEvdPBf9/iWqqoq41vIg05bBl+D7uLL8On2jfCioiLdvn3b8IiOl5eXm/vIo5zT6TT+l3rx3cgDP41fpTy+jDpyc3OFP7d0cfzgwQNT3uFwmDqgB3/eKLmZ4Ai2k2iwnZgJ6lC31+tWNBZQMORRIsH/10d1Peembly/KYfDLb+/vl+LRMMKh/1y11br4cN83b6Tq3v37hq5QT+yhJ87d+4Y/uGTPqisrFx37hSo8HGJfN6QgoGwamochsfr16+rurpSfn+tHM4qeX0u3b2bb67RLsiOupEV7YD80DPopi0aJZMX9IUvUydgMxiJyRdJmsFlJBxSPOxTPOhWLFCrkqJ6fbn3qEi+cEwuR5WqKkp0tyBft/Pv6vb9x/KGExn3B839iSh/0Vz3zqLVJgOrGDAKghJgKLF4TLsO7tcP/u6v9NnShfLEIqoJeOUK+hSM1o8aAKvRcESxZgBWk4GIwgCg8kr94be/U3FRkVF0aAWs+uIReeMRBWINtP+nyhqSw1Ws9ZsWq3OXthozdpQGDxqmhw8Kdf/eI02cOF49e3XUpMlDtX7DEiVTcV29elV9+vRR//79zZ6OGmfeq1cvDRs2TIMHD9GsGYvlcoR0/26hunfvpc5dOqpn7466efuiaj2V57xUyAAAIABJREFUWrV6qQYOHKBWrdpo3rx5T8HewIEDNWDAALVr105nzpwxDozrXbp0UefOnTVjxgxjyDgNOo3vYsw4Fu7BoR87dszQPnzUSPUcPEBHTh43gDLiD8pX49bimXM1eex4VVdVqcJRrb4jhqh7n15q2bKltm3bZvjdvHmz2rdvrzFjxhia0Sc6L+gfOGCwOn7cWdu37zSdxu7de/Txxx+rR4/u6tu3jwoByL5azZ07Rz169NCQIUO0YsUK4+QB5dSLPMePH28cGDoL/S/jZN5umbBy867q73/619q0eb18Pr+i4Zh2bDuoQQPGKBqJyeVyKhL1KxypNTaYTNRpx/a9+tu/+any79wT4BSgN23qLJ04flZ+X1g+79tz2i+SJ+1BonNZs2aN0YPRo0erTetOmj1rkdwun5YuWakHDwpNu93Jv6m27T7U0KH9NHr0ME2ZOk4XLh3Q2fOHNHfuDAX8QQNSw8E6RUJSJNQAWJsBWPX6HMrNu6RZsz9VrafGRITpYA8ePKLly9bIUeNTNJKUy+WX1+uT3+vW7q0bNW38SP30L/9co4YM0OSJ43Thao7K3D6Nm71U1Z53QZ/rQS5ACh8HsMDe+/Xrp759+xp/h20iC8oAMF6kL02Rz/OhxfpFaEM/V61apREjRhj/BB34QAAR+kvn26ZNG6G7y5cvN/4GgGX9UqdOnURwAjC+YMEC4aN79uypiRMnGkBK/fg8/BVl8dsAuNOnT6t169bm2pQpU0y9BCO6du1q7u/evbt27txp6LV9cqNkxOAuhO2kFQlb0ApgD8njxef4FAwBWr06d/a8unbpq969BmrI4BEqKiw28mAgFo0FVfTknun3unX/WN26dTX9BeB8/vz5T/u9qVOnmnsA6B9/3FEDBw7S+HETdfDgYYVCYa1bt97IEJlMmDBBlZVlcjiqNHbcaCND5LBp0yajM0uWLDF9XMeOHTVu3LinA4u3qU+AVX80KW+0TsFIXNFwUMmQR6mAU3fzLqtrx3YaPXqMuvXprxt37qq6vFhd2rdWzx7d1X/gYK3YuFXFDr+80fTX74/6s2D1Waj+vBescDiM+DBmjgEvv3n/D/rv/+v/rFXbv1Cl3yNPLCx3ONAswWqk1qew26flCxfpn//x5zp98qQBQ40Bqw8e5mryp8NVcDdXwaBfc+Ys0LKlq3T0yAmNHz9W1dUl8vrKNG36WOXdvKENGzZo165dxshwNoBJZNqhQwfjkKLRmLy1Mflqgxo+bII2b9oil7tKGzYt14LPp+nK1dNq3aaF/H6vMXYcHQ5u/fr1wqlR17lz5zRq1Cgz+gSo2ugloO7y5cvG2WLIgNaXdXC0NWWJEMyaNcs4IG8wqI07tunTmZ+ZkXIkENKN85fV9r0Wmjl5qirLK3Tw6BENHTdaNW63Lly4YBwPo2s6LBw1ekQHduTIEW3fvl2jRo2Uw1mpJ8UP1btPd927n685c2br/Pnzcjnd+mz6LG3bulM38/LVvVsv04Hg8HDedAo4/QMHDhh6Zs6cKUAxHdDbdFwvK2Omem7kXtGHH/1Bbdp8qEePHpuo26EDZzRi2CRzXFJSrNy8a7qac85EKPy+oLZv36Nf/suvNWb0RANWQ8GoRo4Yp3NnLysRTzVLsEp72MGvGfg2AIA9uw/p9MlLqqn2GLD66GGR8TePH9/X/AWzVVb+WF5ftR4X3VQoUqHLV09oydIFCoejqnWF1BzBqj/g1I3ci/rlv/5Crdt8qM6dO6pFiw/UokVLzZw5z0STouG4nE6fHjx4KK/HJbejQmF3pQb2/FgHd22R1+1Qzs3b2nPsvCbNXabaUOylbffl9a9xEdQXPYe2xs6Li4s1duxYMwME2GMAfePGDaMHALS3PaCkX7O+ApqJegKw/uM//sMAJNvvQTsJkIj/JSrKOeXxj+vWrTODcgD4jh07DEhlVgmQyuwZvPbu3dvwjs8D8OK3jx8/rk8//dREUglmXLt2zfSxALt9+/Zp8eLFpm78Nv6QfOqCVvYvkv9L5b8ArIbDIfkDtWZGD7Dq9lSqd+++On/2qpm5mfzJdO3ZfcDILRoNmejrjp2bNXfeNNU4SnXw4AHhh+mDAOoAbmTEMXnLli3T7NmzTPDh3PmTmjhxjJmBGDZ8sPFv8DVnznwdOnhUe/cc1IjhY+Tx+My99Gf4/OHDhxtZ0kdxTDCFdqQ9Xor3/zQo9d3t4kVgNemv0YoFM7Rr62ZjExu+3KG5i1eo8H6+un/cRuVlpXJ7/fLF0/LE6rJgFWD63/7bf9OpU6eexahPz58HVhkdMh2LU8FwAVqA1T/90Z9p8aa1qgp45CCqmog1Q7AaUdQX1Mn9h/XJ6HHq0aWrrl+7ZpS5MWA1FHYoGKpSMOQy0xUzPpujLzZv1elT5zRy5DB5fTUKR2o0d94UHTlyyIwWcUIYE1NHRBhwPj/60Y9MpGHRosW6kXNXtc6QOrTvocLCYsViAeXevKgRo/rq2Il9mjvvM7ndTnm9fi1cuNAAPYAqDs06TZwBYBgHyRQJRrto0SJdunRJTF3xZw+04XcxZhwHnQ7OkW/wVjpqdODUcQ0fO1qe2lqVPCzU4O69tXX1eg3p009ej1fDx4zS/lPHVOmsMXTgTHDQRCKgA95xWEuXLtXq1au1evUKBcPVqqx5qM8Xz9SxE/vVf0BvM0VcVeHUxfM3NGniLG1Yu0sTxk2V08n0uNuAYJw9UQ6myojiHDpE1G2ukQk0fxde307ZsO4/uKPefTpr3vzZmjp1uqqrnNq7+5hGj5pipvw///xzDRjYR6PHDNVvfvM73b51T7t3H9CgQcNFx7Ft624BYIcNHa2rV3LldHjN0oC3w8+LnTz6T7QFutBDksPh1PBhY+Ws8cnp8GnB/EVmlgJQyxR65y4dNHzEQE36ZJzmzZ+mwuIbunDxiP74x99r+vSZKnxc1izBalV1iS5cPKFWrd/X5CkTNGHCOI0dO0Z9+vTXlMmfqazUoVCAWSs6+5CqK8uUTkW0a/NqjejXVVPGDtOp40c0/pMpGvnJDPUZ/amcvhfLtrm1NfTgl2hz+g+OAa7MMJ09e9aAPtunvE3a0UFoxFeQAD8M7vEj+FfAD9ehEZ8DAP3ggw/MwHvSpElmips6AKJ5eXmmLANyfDxT38wOUQf1fvnll/riiy/MQP3ixYsmj/q4l+lsIor4MI4pt3btWg0ePFgnT540vpABOjNlgH1LU6Nk9y1gNRT2KRB0KxzxqKT0gd5/v4XcTp+8noAOHTymmTPmmgFHPB4xQYZRowfr+o0LcjrLlZeXa/qg/fv3G1AO77Q9oJwABUGVw4cPmWhsWcVdTfhkqM6fP6ZBg/uqqKhQNTVObdqwTSuWbdCKpZu1cvlmuZweE6lGrgQmiEBTJxFvBgo8C1DMX8Q3SiaNALEvAqt14VqtWDRbi+bNMhHk6XMWaMnqDcq7fkVd2rfSgP79NWX6TOUXFssdSWXB6quCVYzCRsNOnDih999/X0fPnNLPfvNvmr9mhbzxmKr8tXI202UA+Tl5mjRijCqflBiwevXS5Xrg3YhlAB5fhTzeUvn8Dm3atEG9evZTRXmNrl7JUf/+fXXm7FGdOXdA//qrf9KuXTtMNAGnBOjDgXXs2FGHDx820yNEHrdu3abuXQeqtNipLp37qrSk3KwByi+4pv4Du2jHzk0aPmKQ4nHWkAY0ffp0E1UlOglYYzSPQ2QaiggrDpJn4SRmz55tprRwxDhbuy7rZQzaRsEoS8fC/ReuXtYf23yosxcvKBgIat3yVdrz5Q4d2bVXE0aOlt/rU48+vXT84jmVVJSbEfVvfvMb43BZ8kCnxSgbx81UDpGCdetWKRavUpXjrvoO6KBjx3epVesWKii4q3AwrksX8tSz+xDt231OE8fPNAYPf9OmTTPRDJYaoKMAVuRJJ0MH8rajNi8jYyKr+QW5ZgqtrLxYQ4cM05HDp3Vw/ylNnDBDxU8qzTq44uKHunTllHr26KXNm7Zpz+6Dmj5ttq7n3NLAAcOUf+eBBvQfqsuXrsvviyjWTNc3ood0yOwZtKxevUa7dx1UZYVLdwsea9XKdSopLjdRp/sP8jV5ynidOn1Et2/nqODuVfkCJUY/Zs6aqlu37qjwUZlCgXSzWwZQXV0qj6dKOdcv6OChvZoxY7r27t2rWzdvq/hJWf2aVU9EPh9rz2vkqKnUgd3bNGpgL929eVlb1i7ToP69df9xke6X1Wjo5FnyRd5eR/xyuvwVmMb2aGP2RCOJhjE7g2+iT8Fn4Z++iz/6rjS8bHnowV9QnmPozsnJMRE78qGffHwOQQBmiI4ePWpAI+AbnwuI4h7AE74IQMvSgG7dupkBGjo/Z84cE3FlyRbX0H/Wov72t781ABnQyvNIzMQRnRw0aJB5FvXeunXLgFfALLRS58vy+NxyLwSrQbNe1R9wKRz16O79PA0bNkI+T1ilJVVmqdGUydNNf+B0QYNf7Tt8aJa9OF3lqqgoNzzh44kgM0DF7wNWmQ1EVkePHpG7tlT3Hl5Uv4HttXf/Zg0e2ks1NZV6+KBIhw6c1azPlunz+Zu1dtUuM2hHlwC6LJf4wx/+YAI/8EUghAAOOkU7PZfXRoDQl63vRWA16XfowZ0cTZ4wRi1bfqjZC5fo9KUc5eVc1sBeXXX16hV9uX2XOvcZpMeV7ixYfVWwikFgrCgCIfgf/vCH6jOwv/6PP/s/9X67j3Sl4JYqvW75ouFmF1kNh8KaMWmKPv6wtSaNGae//5u/1dhRo81IvzGRVVdtqYmcrl6zRB06tNP1nFy5nKxBi+n8+bP6ZPJYrVqzUCNH99PJk8cNiGTaCBkyOgZUMgWE88NZV1RUqvVHXXS/oFKtPuqkkpJyJZMR3cm/poGDu+nosT2aNZvpH5eJROHEGPkzymZEiREzrTpy5Ejt3r3bTLfgMHF6rA08ePDg0ygHbfmyxoczpQ5oxQmw1rZ9p47atGub/NGwmbL6l3/4mYb27qvObdvrFz/5B+3bu09jJ47XriMHVO12GoeKw4YuIqxE6tPptHHajIiJrm7+YoOqnflye+5r6mfDdf3GGXX4uLVKS0pVWeHW7bxC9es9QSeP3daY0dPNS0boJaCdkXrbtm0N/8gSsEo+dL8sn2+3XFh38nM1dFgf8/JYTs51dWjfTevX7tDA/qPldNRq1aqV6trtY/Uf2ENt2rTVhvVbtH/fEY0fN9lEUTdv+tIsB+D87JmLT9ewvl2+vgIulg70lI6L6AfHdFyzZ89RSXGVYpGk/L6Q5s9brCdFxeb6o8f3NG36J3pSfF+hsFuRqFOBUJmu5ZzSZzOmqLKyRqkka1Vtaj5rVvft36ExY4Zp7NhRmjx5gtq0aaU+fXpr9KixGjBgqFYsXydmDfx+Xl5JqKqiTFvWr1JV6SOFPZWK+py6cvGsbhXcU6UvqsOX8uQOvBvLALBD/AUABR/HIJelOSzX4UUjwCB+iJkejq1+vI09tKKLJPt88oh8EtWED/wf1+EFvwI/7KGdgTFAibXy+B54xvcSJSWi/N5775n7Kb9nzx7jj5lhInqLf8WP0R9QFj9GOZ65ZcsWYx8M8Imskk8kEfBHwMP2HZbmV9q/AKwGAj7F4qGna1YfPLpt3pWoLHcrHIrrwP7DWrhwifHllVVlCoa8GjFyoO4UXJfDWaaKijIT+WRqniUgyI72ZrACyEdWly7xLkaZSiuua+Lkfjp7Yb8mfTJSpaVPlErWaeeOI1q0YJW2fnFcy5ZsMMsP4JHZQyLzBM2QNQMe/AgJGb6SHF4TkH0RWA06SjR9wgjt3vaFwuGI1mz8UpOmzVZNebGCtTWqrq6SLxBUl75DtOfYuSxYfVWwSuNjnCgCRvY3f/M3+uGP/8KsWf3Tv/yBdh47pNpISGWO6mYJVovuPVL+jZu6cvaC2n74kfbu3m1AY2PAqj9QpUNHtmrUmMG6ffumeZOZdYJ3bhdo/Pgxqqou1v2HOerRq70qqyqMQ2NhOGAVo2JqnpeuWBtF3r1799WyxccqKfLos2nztX7dRoVCHm3eslJLls1S3q3LGjykrxyOGuPgiKgyFcQLRizax2kyusexMfLHUTL65uUloo9ExDFsnDDPe1mDpl6cJIl1V6yFPXLiuFyhgMLxuJnyz7l4RfnXb2rzqrUa1Kuvip8U6+ipExo1ZaJq/X7jaNEbG5GgsyICyiib6RzS+AljFItVKe/WSfXu105lFQ/02WdTdOniJfm9Qc2bs1xrV+3Rk8fV6tFtsMrLK8yUD46L+qjfTi2yBABg/LY7wZeVMZHVBw/zTWQ1HPGbaPX8eUv185/9D40fO10Xzl8xa5vz8q7pcWGBevXqbcDqvr2HNWniVAUDMVVXudWpY3f9xV/8tc6fu6xUkhcmmueb40SI6HRXrlxppjnRBTrAaDipWndQCxcsUVlphdG5+w8K1Kt3N3Xr3kEtWv5ebdv9UX0HtNOOXeu0eDG2E2yYTm9+kdXyiiKdv3Bc5y+c1O3bN3T16mUDZm7fLjBfvsi/80h+X1ShYNx0+k4HgN2n/BsX1alVC7X94H21bdVSH7Vuo9+930qzVmyW6x0Bq+i+HeAyOMEHMYOCP+IaA2v8EceZIPHlbeabA6HXeS+04195yQf6rQ9EdwGZDIYBpPSL+F8ifQQQWF9KGfwP/o3BPdFSfCezSURkCVowxc9yOnwxy/IYxANaWb4FSAbYITNmzXhBi6VSyIklXwA9ZId/+y6Bh+fK5wVg1e/3CV/E1wBYe11eWai+ffvr1s0HxkZZ9rZz514jlxpHpRKJiFauWqQVKxfK7a40U/yffPLJ08gzgJKZPyKqLIfjpbSFCxcoGKzR/oPrTIDiUWGeBg3uqTt3bslR49bECTN1+OAFnTt9W8OHTjV9LLLH5yN7BhKsf0WnaAPkiDwIhjyX19cESL+t7heBVWfJA40e1Ft3cnMMfWcuXtGAYaN14vB+rVvOi6VOVbtq1bHXQF2/W5QFq68KVjFURnEYFscYzaPSYv3897/W1EXzzNcAqv1eecOhZgdW+baZu6Ja3mqXEqGounXqoscPH9U7n0YsA7h1+5L+/h9+pLbtW2r06JEaNXKMdu7Ya9baDBs+RD17d1bHLi21fcc6BYI+4+AYPeOsmAJibRMdNpFQnFnnTl20Ytla+WpjelJUrRZ/bKm+fburS7e2unef0WqJPl80Vx9/3EFdu3YzU/tEaFn/yaJ8jJXoJSN78nEGvB3P25OM/HG+OFGcBvtvM7jMa7Q1ToYIQKtWrfT73/9eQ0cMU9+hg7R8zSoDGFORuBLeoM4fO6WhfQcoFAypxu1Sn+GD1bFbF+OgmA5ChwDpOBucFs6YuklDhgzUqDED1brte9p/cKs8Xtae7lOrVq3Vr89gDR44Rm5HyHwtYeH8perRo6eJRtA5oJe8bMaLG0zJUTcAlugE+prJT/M8Duve/VumrUMhbCyk0pJqvf+Hdho8cKzu3K5/gWzw4AEaPqK/PmjR0rxNvnbNJs34bK6Z8g/4ozpy+IT+/M9/rNwbd+T18Km5ZLPjHX2ivRi4EC1CHyORqGLRlAK+uJka/3zhUj18WGSAQDzO53lciieCqqgqlM9foUisSrk3z5vIKuu3AwC+ZrgMgPV+x0/s1+Yv1sjrc6qmpsr4TpbxBPwheT0ReWsBq1HzOcBwOKCAu1qXzx7VqoUzFPE5FPC4VO1y6WGFU5MXrFaN9+1GIV/WfmhnABU2CJD7yU9+YuyTF5OItAEEqYtyzdFGATwMfhkEW9DNgJ9peHSWCCF+jJlGpvYBTLxAig8ikIDvxa/BP18VsG/zA+Cs/tMfkIg2IyPK8gIVdSCn/5+994q24tjSdPuhXvul3vqhR3c/3Mfq0327q0fVvWfccfp21a0a5c7RkQc5hEAgEN47IYR3wggkrISQEEIghHDCeyec8GYD2+/lTfpcbv93fLFItMWBcxAbpK3qtRhJ5s6MjJwxY84//pgZGUHekDLwHGznHEEICCxBB4gZ9zxondwz3X3Iqu1Y5gMrbBiymrfi1eFl3XvptZ79zGwAt242GrK4aRPBn5QuXT6jF19+RgMH9VH37t0MeaR+GW+PPigreA3Bx/9Hjhqpnq+9rFdefVq7922S7ST0yacfmnsHvDlYE8ZPUUtTWtcut2jalHl6883Bpq3kY2VshvG8tJ3ohTaQtpBvbqqY8ng7M/fU5e1pO+81G0DJTmjnli/16ovdNHz4CL3Us7c2f7NL9XVXNLT/6xoyeJBefrW35r6/Um35oEZWO0NWqRwcA0cLwlCJXFaXGxt0ubVBmYKnjO+psQtGViGrRTdUNpZUyQ91/fKV6uIAfODRCbKayTUZEnn8xAFdu3bFREpamtvM4POm5gadv3BSJ0/vNXNCNjTeMqADgeL1DeCDLtnjWERAmYcvGXeUzxQN+Wior9eJbw+rvuGyUukG+QHzNMZ18OABnT591gBV9IqeQeWMf2JMGEBAHZEvvXm2qBcOwEWR0vs5293nAUTuQV4ABkA+dfasTl0+r0t118yz0GvZ8hS/2agbV64rEU8omc2oKZnQsVPfmvuIKiAb+UDUGafF39HGnHpnzn6rg4eYeiutvMWMBZ4hw8y9Wn+rUdlM3nx4ZFu2+cgh+hqXctOgEPlHv5yPzt1dnq75N/OsZnX+wreCrDKFSybl6GZdm65calCsrfphypUr500ahkYwprO1JaFLF6+ZaaqKhYryOVuXL6H/jHJZV4VC1yOrkf6xUTpN1Y4Ti2GUFfrtch1P7y9ernPfXbxN7DKKJxgfHpPtJmU7bcpZ9Tp8bIcWLZ5vpnxy7VKX/MDKD3LavOULvTVxlA4f3q89e3aZsWm7du01HRCGPDDPai7nyObVbz6r0Mvr5JE9mjpuqPZu/coMA9hz4KA+37xDY2Yu/MWMWcXPwSewg04q/k5UDL+MPizCZ4mwkjayi66yB/fAJj6GRT7+5g0AWAsJRXaIK3gTyR+RUIg4gQjugWyyj+YUJkpLGblOJBXc5hi8hoBBuIgWki+YyXPIl2ejO7574HnIwFAaZOyUzu5DVl3XMWQ1b+FzKflhTvFYXOe/u6ILFy6rqbHVtHXIxxjTWLxJQWip7uZFnTv/rW7cqDMEHhugjhnLS/tHG0I5kZv2j7bz1OnjisWbzTzimWzK4DcYHoslzLCg1taEYm0JnTp12tQHzwQ3yAO7Il/0Qr7YWqf00cno6/0iqxUnpYqf05XzZ0x7f+HqDeX8gtqabqm1oU7Xr1/V+UtX1JLOqy3n18jqw5LViBRFURGcJ5nPKcXry7YmZcNA11ualHa65tRVbiqril9Q6PoKXU+5dKbao+8EWU1nG83UVDhyPs8k7hCptNpaE+LryGSqSZbTIs9nEmi+4K8CF84URRzQI2AG+GSzOSVjrtpL7bpZ13j745i8HI95bTMKCjk1NNbJtqtf5eOYNAQ4LI5LXvTuyQtwwGEBQ/LnedEYQe5he1CH5jnUP2PLyJ9ntaWSSnm2PGZ/YIhAOqcCDW5bUn6WOSNzivMRFeV2nDtATNmRjz0b6ZDfpI/HzdfsTOEVa4ubuUZJw7N5JQVxZbGFMPTMvHv5fPVe8ov0AIhF+UU6edBy/rzpWL0kZ2aWqG+oM3WTSuTMl+JEG5nsn8bMstNy/bRSqbSam+Lma/9KWebDg0JYMSSVxQGYY/XOJN+dBN9HrZeoQYkaWvZEkl2HSckZuhDoyOETxo+o+1QqpkLBVaFoKyzkZdmtCsKYrlw7pSNH9htdMD9kV5y6io8vL10+rfcWzdGkdyZq0qSJmjlzhpnBYPXHa9XYEDfzwjIEwvdD5bJpWZm4blw+o/fnTdO70ydr3txZmjp9pqbMW6S12/fLCssP7LuPuu5+TH74H36Jb3MfmETd469gFdcjDOD8j8n7p0iLTMhOGbBRfuBoVC6wkHJEGEUgAELJfVG5SQ8mQVCxZY5pQ8Fl0kFG0QeYxXXuY6N8UbtAeq4hC3vu4TqRX3Qa6fehdXIfsur5rpgNgMVoXC9ze37npHy3YHAmDErmg2Lk833ettI+XTfE1vMgsDFTbuSi/JSRLcJrdEdZs5mcWUjHLGri+aadgbDzbQZbNodeaIOSpu3rmAfPRqfoAP2jD653xWEAFSepTOtN5dIsapNRLJ1Tazov387Ky6fMMADb81UfT8sqqkZWH5asYggYXGRglm2ZyfTTvqN4Pms2Owxk+e73q0BFiwFE+5+r0fQ8FVxfuURKnuUoFU+oEFbHtHRcwcr6kStY0XDm83ElU22COBFVjRwukYgpDB3l7Zhct0q2cCr0h2N1BOkIhLKZrIphSdmMp9Dn4xNPvALlNUwszpRTfIRRHaROPgAXjkleOC0bQACIAgKQmwgoIkAFICGdyPKg4MY95A14sidfm+cVQgXFonm+k80rzDsKHV9WujofbzKTVtq2lDKEo/qRBfdH8iIj8iIH53mdi/4a6ptULJaU5/Xu7evMLZtMMXzBNfpGL8jFvd+nqRJg8uUZNBQPWsafPx26yJpJ/12X4TaMWw3MWFRWOWKqGMh6Lgd4JxQEvgphUZl0XjQaROhIHwZFZTOWXMc3K2AFXfjLcWyYOqSu2JA9l2PVLWyfslQ7QmHom/FwbTFm3iDKk5DtQNwTKhZ5hU7jDtHlw6qutYIV81Sy4lh1vsq8qTf8nZXuePXP0IcwqJi6cj1fnmsrnWhVKbRlZ+Mq+vhATo7nyy1WlEFHkIufC0t/xHPxaeRkj4927DxyzDnqH39l62plQj422j4wFRuN7BXsjeSFIHENohp1wCgP+EPZOY7uw+a5j7/BbvRAu8pzSMt5nscxG6QLYkta8iFd5C+ki4YZRLI81P4+K1iBN0Homsn+PZ8prDIGlxi+gs/x0afjVMvGymwQVsdhERbatyoppbwRMadqW596AAAgAElEQVSsyEcZovqmLPgCuM/qVbR5TGNHOtpU5i9HhrYYpD5j/Ic80U20Jy/apuo91ZkAyPehdPEj7Pt++RNZZQUr664VrEpuRqFLAAIdeUrl8sp7gQLPVjpGEMhXjhXBCDaElQ7311awMj3Fe/13r3lW764YKoQNshdt0Tn2d6f/Wf+OyHLH/W0ZO8ocHT+YrIArYMx2L6DteP1+ae6hJwMcvBKNrpHP3Vt07efbR7q6U9cddXv7+A/SdNouup4eHsxWHrSeOpbv9j1Gl9XlH6vPitI8aJ7/GtJFZY72kd/9CL/qtO09rB4jmTvu/1heHdN9f4wvuX5gtjs+97OV6Y/JX7v2aDHh59bn9zZ473Yuku/udPwdXevM/nHl2xmZ/vS9P2z7bpfBg5RH5anyp6ovR+d4uxadD+4cR+0/S93+kn/MYPHnf/7nf7QI/+buqw+zKMCjMbw/Xcm159R0VLOBmg3UbKBmAzUbqNlAzQa+twEi07/kX42sPpLe2/cGUXOOmi5qNlCzgZoN1GygZgM1G+hKNlAjq/eg6g8yDKArVWJNlhqo1GygZgM1G6jZQM0Gajbwr9UGamS1RlYf0diaGkj8awWJWrlqtl2zgZoN1GygZgM/pw3UyOo9yGp7e7tqW00HNRuo2UDNBmo2ULOBmg3UbKBr2MA96Nov5tRjGbP6iyl9TdCaBmoaqGmgpoGaBmoaqGmgpoEurYEaWe3S1VMTrqaBmgZqGqhpoKaBmgZqGvjfWwM1svq/d/3XSl/TQE0DNQ3UNFDTQE0DNQ10aQ3UyOoDVU+7pGj7/ig6w/6HZx8g0w433zm8c1DNrr1dqqi6VZ/xAPnWkvwyNHBXXRvzusuKTJL7pKOQf3jp+zPtiv59n84o5nYSbCtKfecgOtHhGqce9e/OY+4cfG/v0amqTAgSbaS57Q13ElVuX0fCjuk6KKfDYXQbmjFe1VEJ0cUfKONRlzzKL3rYA+yjJJHMBhE6VhAJOqJEdMMP9z/8K5Kjtq9p4HFr4G7L4+97/e6RruOpO7d0PNnR7u8kuOugY/ro+K4kv/g/o3Kxv/2LTpk/oz86XI/S/YL2PxlZZYA1X6Ox/FvHLVo2jeucr1QwwK71a2+vqFIMVCpUl+H0w4K8UkVBpV0l01TQeJSl9oLUXqo2oH+qCO2Slcqovdyucnu7WGo2LBZUDgqqOIEqQUmFQlH59pIypUBBoWCW4mM5PZZbjAass2QeG3pkyrBIx5E++foQvbJEasdz3BNNMYbOucZSf2wsNcff0ZeLFIUl7zjHfeTHvZ35kRcbckX5RcubUgauIRdbJDvnKD8ycg9ysic951lCD/n4O7oHOdm4zv2k5xppOuqGc5EeWAqRY+6L9NSZsv7BvZhLpV2ptrjaS2W5tiMrb1V1USyqhJyVstl76KLSbuykFBZULLAsqFetB3RXLssvFhSUSvIDV+VyoHIpUKlcULFSVD7w5HOtQJmLqhQrKvolhYWi7MBThXooV+TlbYW2p3KxLMd2FBYKcsNQQaloaNIflOEBT0S6RvfRxjOLpn7bVfGLKuVctRep73YVJLmlguGlJQt5PFXKRXl2UYUwr6CQU6nYrkKIzdoqhqHKRezIk2/n1V5qV3upYnRmW7axlTJ1KckrhCq0V1RqL6hccVQulVQqVFQKpUJwmwsbj0YKiHAHpvuA5f3TydADdsWyxeChp3IF3CuqVApUqRTMNT/Azqtl81z8oKx2+Wpvr/pt6JdVLrWrUi4pb8VULjuqVPDxsiolbAYfKhhbKJcK8sOiwnK7PHTc9SD2nmrDXvBD/BQ/5G+wL8I/cIDz2BhbV/hFNo4sYE2EXyx3yjXOsVwox8geYW10X4RX7ClTx/NRuaM0UbmjtDyLPCNdcZ1n8TfYyN88L7qPPddoOzr16+gnHY6Rp1DwjU23txdVLFWXQ/VcX4FfxfiofCyHLZXMctClMvLad3CvQtNawdarvlNpLxrbNr5QcY2fsLy2bXkqldBb2egtlUqaa55nG99ChnQ6aa5F9UH5aRuQNWpPqCNsq6v9IltieV3qLqpTMJ+yOY6tMKBtblelSkyqGGbQj/Jw8pdLWH8ysopRADooHCXjIGwoHcPgHD8cr6v9aACKfl7lglttaIolJe1ALF5WbdZgHyWpQosXPjBZDS1fbt5R1rHlVcryCwXRklTyoYop1pV2lCgXFS8Vlfeqa0GjR/TFms4coy+cjH02mzUbOoX4kQ59Q8yidKyHzHVADKeM6iAej9/Jg+usVw2QkDfOzLMiZ6Z+qMvO/HgG8iIbMkCG+ZtncY2/kZ8NOTlHGXgu92Av0XXuozzIxzmuUX7OkT4CI0goz+J+8iMt18mfjfyjskZ79IceHumvXSp5gUp+UYHlqhgWVPCrdZmzLeVY99uxlAtZz72g0HJlJbPyLVdtzS1mzXvktT1PaSuvjOMo6eQFiHvZmNLJFqVzcbllXwknJ6+9IssLlYhnVXTLCu2CQkhyqaAC+g1CVcKyCravwPZkZXLywkAZ11EIyexk4dFzpHf26VxWWd8zxLuQ9RS0ZNVw8bpuXLsut1KWVS7KdVyV7UDtBbDCUj6Nzbbq9Nl9cq1QlVK7CqVmBUFGybaiHDep9nJB6da4in5BJ44el5XNGvsvVirKe64CfEGSVcjJD+OCzB47dF2JZkcFNyKrgDqeXflhwLKTOvj+9nZTT7aDbKHZSmVf6UxMlp2udjbKgfzAkuc52r/nrFyrrGIRf7MVFvARW4FXUei1y/NctcWvqO7maZUgvIVAhcCWl4vJzrSo4KQVBq7cQkkxy9eJK42mk/29PF33KGqc8T98Fp+GZEQ+jd939OGuWBLkRUbKgtwRloAvERZTNrCLNJQJHwFvOU86fB2iCmbx95UrV8wxOMdGWu7hORyTL/fyN+mj53ONPFpbW40sURvC+U79AIiOQU7+5q0gHe4yHWdf5QodY8+cc+1Q5VJF+Zwj1/FNW5PPZxQWHJXLnsJCXkFgK5POK/Qrhni5TkG+H6qtrVWWBbYnlUjWy3GSylsZZTM5lUtlU3bLctTS0qp8PieWGHUcy3TkIc7lclWHlJn2INIxeqQOqCOOo3rqlF4e8c3YR1SHyIrsQeDJcdLKZGMqFEKj01zGValQrtaJAW84FXUM+nUWzR9xoX5Edj8ZWY0cKTKSOXPm6Le//a2eeOIJIQS9BcgCTtfVfpBVJxPT7Clv64Xu3fVs95f1zuwFiuWsTpJVT17OMtErt1zS7n37dONyncLWjNrtgjK5rJZu/kI3rZyJCjU1Nemjjz7SM888o6+//to4Vl1dnfr27atXXnlFzz//vLp166YjR44Yh1u8eLGefvpprVmz5g4Z279/vzn36quvCoKKYwKEy5cvN3mMGjVKLS0tBjTPnDmjAQMG6MUXX9S+ffsM+aMecWhArzM/6po8yIvn37p1S4MGDVKvXr1M2SIQGTJkiF5++WVTrhUrVhh5t2/fru7du5tz/fv3N+BNQ/b+++8b3bzxxhumbOQB6R4xYoRee+01LVmyxAA34H/y5En17NlT3H/jxg0jCyD/1ltv6bnnntNnn31mbBHC+8iBi75NsSwva6ng+Fr47nzZuWonYv+hg3r+xRfUs18fnb92Vcl8Tm31TZozeZqef/oZrfl4tSGr1MORE8fV47We6jugvy7WXZdtZ+Wm27R61VI99/zTmjjtHV1vbVTa97T/8DH1eu0N9XrldR3de1xOWJBvGpOyysWSmq7f0rhhI/TaCy9rzcefyPU9ZTxHDlHOTlQ0uqbBZk99LF26VE89/bSefO4ZPfPUU1o4abpyV5v0yfwPtHbNZ4asXqy/qWFDhui1p7rp5ed+r6eeekrL3/9K12+c0vCRfRVrzSjwyiqWWtXS3KiZU1fo90/+Vus/+1Re1lYpKGrC6LGG/IInLfGYNmzepJZUUqHa5RYthcWkHMfVqGGzdPm7tHLJsoncSI+frLa3lxSEjiGkNNBEQK9fv6TX+/TUc889raXLFimTjcvzXfXpNUqpuCvb5m2KpWIpp7Wffa7W5rQqxXbF4zFt37FW+w5uUt7KybFz+njlEnV76gk989t/0ivPP6Vnn35Ct5qa1ZRxNXnhil8MWQUjIrvhmA7spEmTDB5t3brVXIvw6JH76EPYPDJEciAvG8Rw7969BocishGRJDBv+PDhBo/BV7AYArl+/XpzbsKECQYfKSNpx4wZY3CP65yDsHAMjoFxPAtfA09pX2knPvzwQ4PbK1euNHm+8MILBucHDx5syD/kGAzu1A+AuAdZLfFW5nZEtVSGABIh99Wn9yC90L2HFr23RK5LtNU1bxZcL6+6Gxc1a/Y7Br+GDh2m1pY2uU6ghoYm9erVWy+//JK+/faYiJb6vq1VH6/UM888pTFjRigWa5Ht5HT58kVjI927v6B1n6+vElLb1RdffKnu3V8UZb9586YpN3odOXKk0cm6detMWjAf/Xa1H7YVkVXqjTr2fEe+n9XqT5are/duev75F9XanKyR1ajy/uzP/kx79uyJ/nygPZUfKRpngkT9+te/Vo8ePUwDFvVAI2d/oEx/okSQ1Xhjnfr2fEmJZEKOH6gla8tr71xk1c85yiczutXcqBFvj9f/+Zf/XSf3H1bFKanu9AW93qeP/o//53/oYjxmIkMff/yxFixYYHrLY8eO1XfffWdIFiDe2NioEydOGICCoM2cOVPLli0zOv/iiy/05ZdfCrLLfTgqBI2OAvuDBw9q3rx5hqRChnkGzvDSSy+ZPC9evKg333zTNBYALQ3Io6gnQAoCA+hCtrds2WKeixMiI0QDIIY8c0xans/1bdu2GTkAFvL54IMPTEOGbN9++6369OljCCtl+fzzz01nCLA/fPiwOQ9Zh+iT9vXXXzcAP3fuXAPuNBgQZ0g/z3zkP8C9LCWbYxozdIS6Pf2sUomkKVOPnj3VmkjoyOlv9ftuz6i+rUUjBw7RpnUbVA5Leu/deZo/911Tly/3fFWX667rwPFjen3wm8pkkzq8d7tGjxyktkSjFix7Tws+XKLL9bf0xsAhOvfdZV397roGvDZYV2/cVMrKyyc6Xyhp1sTJ2v7FRmXakhr05gCdPntGac+uvpLvhAJooKkT6ogOKXZ44PAh5Qu+SgxbiWUlq6gvV6/T1s2blS+HJrIaeoEaz1/V9LEjZOXTqhSkxqZzenf+O2pptGXnfaWzV4wtHDlwQZ6f1uwpk7R942ZDVqdMnKRTx08YO61vbtI7M6apKRk3bzCyXkqFctLY2pt931KsMV+NrJqXOo+frJbKRL3olBNxC1V347KGDhuga9cumujSwvfmatPX62VZWb3Zb7xyaYYIFOT6MVlOTKNHj1Zrc1z5LENXyvpkzSJdvHxU7aoonUpU3wIFeY0Z2l/1186r7voVBaWymtKOJsxZLK/U9d5e3c/EiAzi+2Aa2IXfcwzJi96c0Lb83OQCPIScYu/8aOvAD4IHzz77rCFGdM6jdvD69esCgw4cOGDwnA4yOEuAYerUqaZsEHOwG78hELFp0yaD87SZly5dMroA5yBcn3zyiQn6oBM64F999ZXBSgIZ4DvPjYj/jBkztHDhQoN5jyLwYHqz9yCrxSLtBK//XRNZDcKcpk+bqa82fmMI6NsTp+qb7buNbpLJmImmzps/Q2vWfijPSxsfGDV6mHL5tAYO6q99+/aqvr5BvXr1UWNjs7Zv26lBg4Ypn0/ps3XLNGPWBCVTjRozdrhOnzml5qZW9X9jiM6evqzrV+s1bMhbaqhvNnqcOHGi0fuwYcNExweiTztw7do10x51NhhzP3vuzHnsC7loD9977z39/d//veLxNm3esl6jRg9Rff0ttTS36blneiibtmuRVZT9MGQVJaNsHOb48eP6L//lv+gv/uIvjIGcP3/enCcNTt7VfpDV6+dPa2Df12Q7luLprPKFkjzGIJlO5cMNA3ASGVUKZX21dbPGT5+sAYMH6dTh4/KTtj56d5Emvv223pw2QVeyCdm+bxwJwomOiCLS8APkACQkDgfE8QA3QBIiis6JImLchw4d0ttvv23AAfAiDwD1nXfe0erVq00dQFIBuNOnT5veOkSSBgPSR1rqD2DubOMACYx6sMgJWQV0yRdySfT03Llzhqw2NzcbYOUeyk9DdezYMQPc6IJ7IO5Rb5mOD2WAiE6ePNmkgyyRJxEGOlpEkCkrHSeiqdwP8ENg0SlgP3/+fKOrR0HMf2DTDAPwC/pm42ZNGjNePV58SelE0jxv2YoVyjm2WtIJHf/ujGKZlC6d+U6JxhYzDODQvv2aPGmSjhw9osHDhynr2vJKJfXs31dXrl7UisXztH7dajluVtca6jRw7HDtOHRQY96apGzGkp1x9NbwSTp/+er346TDot58tbcSDS0KnUBLFr+vL7/aaPL1yqVORVaxTRpE7AZdE+nZs2+frEJ1+AfDXWSX9enSVVq96mO57RXZ5ZIy6bRar97U28MGyrHzstIl1Tec1eSpo5RNOQq8olKpy5o2baoSrWlV2l1dPn9Wy+a/Z4ZWLJw3Xzu2bTfPbUsm9M70qYpnM4aAb9i2QU8/+zu98MJL+tVf/L9qvplTmRE8PxFZJbJKNLXAEAc/r5aWer0zeYLa2hpNw3v8xCHNfXeGGMfXu+cItTbZKpeLKldySqUa1KPHq/p64w6FfnUYwK6963Xo6FZlsmnls2mVCo5aG67qyX/4X5o9ZYL27v5GL/V4TU+92FsjpsyXzSvCX8APm4nwDZ+G4PH2A7KKr2JP+DDtBtvP+YswMSKrYCakkKABuIysXKNM4BgEkohe1Nm+cOGCCQbQSaZDzf2UE8yGxPJ2iTzQA9fBPd5Cccxbpfr6ep06dcq0EZBVzqEb3qTRHoCRbGB47969DY5GRJVndep3n8hqRFYLRVeVdl+tsVvq1u0F1d9sUyEsad3nG7R40VLTRhERDUNH58+fVHNznVwvpeMn9mrq9PE6dfqQhg7rr2IxMEPjpk6ZpUMHTmrSxNnat+e4LCutuhvfatjIXrp67ZTemTxGiUTMDBtYvWqDNm7Yps8+2ap35yxVOlW1GeqE9oU3dAQnsLN3331XO3bsMHr6ue3pXvWB/RCYgj/RZtPG562sGpuu6cbNS2YYQC5r68XuvdVY31ojqyjxYcgqzoxBsO3cuVP//t//e/O69Te/+Y1+97vfGUKB00Cuutyvvay9Ozbr1//jv6lnz1f19LPdtGbDVmX8sFNkteyG8nOWLM9TPgw0ZPgwnT1xWvLKkl9RQ1OTeowZoguJVmWIgvm+cSyiiPTWiaaiLwD88uXLhtgBUqSjx4ie0Sk98n/+5382e4wc0ALsGH5BtJaIIuSP85C6cePGGdILGJKO/CFvDCcAaMnzUTgzspMfMhMtgKzyLAgmQM8whP/8n/+zARQA+NNPPzXP/qd/+icTleCVFiQ8IpgAP/ISHR4/frwBZNIA5FyDkDIcIHL2CMTRydq1a030gudHjQn6Ib9HYZPYPzozjVm71HDjlnq/9IoZY/nCs8+ZyCoRs6EjhuvlHj304muvatW6z+QWQrUXKwodX803GzSwX39t37pN33zzjWbOnWMi7n65rIkzp+rkqWPq9fJzunT+lFLZmJpSLfrHZ5/Q0k9X68NP1shhnHW+oHdGT9GWb3bICnwVy2Ul2mJ69rdPqOAECnK2Lp27oNlz5wqimg/9TpFVfDkiHdglwwAgq7nQM1HddjtUe8rVxtWfa+vmLcoXC8qEvnzP1+kDR/Xk//c/daPuskq+1Ba7rFFj+umDRZ+q/mazGptOaeXKZcpn+Fgurfqrl7Tuo9WyEmnNmzVHZ06eMjpPpNMaMXa0YpmMfJWV9dOqKCffDzR25Fw1XLfkWz/hmNVKURU+xjRDDopKplo1Z+50zZk7Q6tWLde48SN17twp88p0QL8JSrQxPttXJtegnbs2as6cuVq0cJUuXbhlxqxu/PojPdvtd1r43gIzPvXS2W81Y+Io7d22QSsWv6vNX21Q1rZ1sb5ZMz5YpaAa/OtyMHsvgfBF7Icf/oOv84YEohe1J3f86l4Z/ETnfuDft8f0Y++QUPwaHMH3KQ9YBJ4SWR06dKjZg8F0ysE2Iqu81eI1/tWrV03nGrwH08FJyo8eeNvFRj50ziGuEFbeWvKmDDLDPXTw+aFH8gb/kAFZILTgfqd+9yGrhUL1wx8iq3wMdfnqWb355kDlMo5sK9Ce3Qf0wfvLTL0yntTz+ebANWNWPT+pUWP6a8PGVfro48X68KMPlM+nVQiLmj1rgTZ+uUODB47XyROXzJjYeOKiRo7tpV17NmjCW8PNOFYr72vtp5v19oT5+uKzfVr76TfmAyRIP3VCYIc3d9QN+qC9ISgTtY+d0sljupm2jAgwdkFblskk5fmMY08rCH3t23dI/d4YajrzZmgGdWM+sKqNWX3gKoEEYAQQHXrIixYtMscQqv/0n/6TieThPPQcu9yvvay25ps6f/q4stmMWuNJvTFktM7X3ewUWW0PSlKxomQ+K18V9enXT6ePfitZoeSVVHfzhl6bMFznky3K2nxw4ZnoIRFCnIoxNugVMjVr1ixDRgEkHA/yythNAI/XSTgnZA+woseOg9LrZ8wTY6MYA8u9RGgBQHrkED3qi2cQEYMEUoekM6SrkxUVgTegHpFFev1EOhmrCsgSBSW6C9HkVRmyIxt7gJZIMbJzTJk2b95sIgcAP71QQJ+eMxsRZhycPCGilIv7IMfoAV3xN3ZIWoCeZ9MQdeaHzihr1Ki2tbZpzNDh2rt1hy6cOqse3V9US1OzGUu14sMPzQdWvP5/+qXuulR3XW7OUi6Z0fgRozVjylQVwoKJEs96d65uNDUonsvqrelTdPzbIxrY91Ud3L9D8VSLMl5O//Lc77Vszad6d9EHSsQzCq2Spoydrl37DijruSryMVtLq155ppuCnKOyV9BX67/UjFkzDVmFCHeu9FWSgV6p51WrVunAkcNK2HkFYaiKU1S7XdKXH32mLz5fZ6Kq6YKn1qZmTR02WnMmjtXXmzbIydF5+06Dhrym1as2mXFZ5y7uMn6QbHPkuAnVXbmoVe8vNePAiazu3bXb1F2KOp4x3ZBVt1KSVcjKL8TluZ6GDpymdJsj3sqbmbF+gjGr1cYDgvD95jhZrV//mVZ9vFz7D+xSMtmmZDKuXd/woRhDYFzt2b9Jn6xZooaGBn135oZWLFtnOnrbd67V0RPfqFgK1dJUr8kTRmvd6mUquim13rqqeXNmatf+g2rOepr34edyCj9vFPJBfQmcAX/Y06HFj/BrcA/fxEchHvhxZ330QWX6MenweV7X03HG9pEfDABfIKuMneS7AXwDrOZNGd9xQJrAdNpGyklacIu0lD8aHkBUkEgpuAdRhXgRdIDMREELOv3gPq+5CQaAq7zqRo4IlzrdGb8PWWV8KsMASmXPkNXrdecNWXUsX2FQ1MYvN2vmjLlGjmyO+vXV3HJTfpDV3HlT1O2Ff1FL6zVt+HK1Fi2ea2bOAPumT5urzZt2a8Swt7V/77dy3ZxuNpzUW5MG6Jud69X79ReVyaRUKlb0ycdfataM97R08Tp9+vFm82EXdYFeaSsg9HAObIzvFGhXI5z+MXX9U6TFF6ZMmaLdu3eb9p0OzLXrV1Qo0vGwtH37Nj315HOqu37LzB5TI6udiKxiBBgK4fa//uu/Ng61a9cu/cf/+B8NGYFkkaar/Xhtd/3iGV2/eFaOa8sNAvUbNk5nrlzrFFk1c8gERVm+Z77Te2fKFJ07eVbyKpJTVCwR12vjh+livE2tibjOnj1rooQ4Fl+E4mgYMGD35JNP3nnVxN+8xuf1OoDEuCgIKffz+oP7qQdec3ON+iBqSloIYj9I8+nTZg/JIy3kjh45AMwGQHbmF9kCedPgMN42ItFEGXhNhlMSmSAtIA3AAOSQVcqIvJBvxl+RD+O7eF0GseVvQIgPDxgegMz0pBnbdfToUdNQ0GigP6IblBsyTFrkIa+NGzeaSHNnysm9yI+s7GlUm5uaNHv6TPV5tadefPpZ/dV/++/6aMVK8wHYZ59/bmaHYDzpgFHDdPT0SbU2NGlQn35auWSZnLylfDan8xcu6I0BbyqeSSth5dR36EDduHlVH8yfpT07t6hcCXXszAmNmjxB2/bt0+z578l1Q+USliaNmqxzly7LKYZmCivyfOnJZ9V4+boKXqiPP1ylrd9sVy7wlMhnO0VWsTU2dE3UnjF5AwcN0qLly/TB4ve1ZMosXdr/rdYt+VCbN20yUdWmXEqfrPpYX65YrURLvRYumKe9O75TfdN3mrdgsrIpV6WwrHjqgvjobv/us+a14UdLFmvNilVyM3kzrvfk7TGrDS3N6tmnt2bMn6t331uoxcve04er3tOlS5c1bNA0tdxyZGer04P9FB9Y3YusZjJxTZw4Vv3ffF2Dh/RX79dfMwTlX/7xJZ0/e8t8PPLNrvWqu3nOTF3mu6H27T5uOv77Dn6lXXs3qMjsDqGv0M2qoe6C1qz6QMs/WKilHyzW4g+W6r0Vq/TFjoMGszpr0z/F/fgKG74LIQWrwDT8Gt/E7/ErbAvf6oo/hrgRCaXTS7ABX4B08kEVththMcEbOnIMb+C1P/gK9oJJ4BnBBtpHsIn7iJwyHApMB8OItNIxZ+jT7NmzTb7ohnSQMHTEkAJkibAowvHHRVajD6wisprLx/VC95eUjOfle6E2fvm1Ply52pSLyKplZ0SaSZPHqP+A18xHhrlcUqfPnNC48aOVy/HxmKW33npHJ06c0fRpc/T1pm0qFH1dunxcY8YP0JnvjmrY8AFqaWlS4AdatvRjrV/3tdZ88pVmTltsIrPYDx8OQ96jN2/ohw9wqRfqifalq/2of4JSvPkkwv6rX/1K7703X5lsm9Z9sS6QLh8AACAASURBVFo9e/bQoYNHVQxLKoa3ZzOpRVZ//AdWGAjOgWNAev7mb/5Gf/VXf2XGrtLDJKKHE2M0Xe0HWd2x5UtNe3ucmpubtO7LTRo2fpJyQeeGAajQrvawJK9YUMqzNXbCBB3YttPMBCC7oJu3bunl0YN0Ic4wAMv0+og64mQYLb1A9EUUlddAABnAhVFDCgBzoov07Omd44AQM0CfqATAyHVAjHyJ2PDxEj1xiCPElkaBr1khsJwDXPl1tp6wAwAcmZCbZ/GBFRECxm0xxAFSydhSQHvDhg2GmPL6AwIKKPNKBNDhmA8viChEhB7SiT3x2plGgEYDJ4fsYmvcx/AIwIlIBWBPxAa90ljwDKIUkN7ORm2iBhcQpKGolMsmWupnLEOser70spobGk29TJ42VbFkUqvXrdXQ8aPVFG/TuBEjNWvKNMWb29Rc36hcNqt4Iq4hI4bryMkT2rJnp0ZNmiDLyerAzi2a9NYonb94WrMXzdX7q1foViymfoOH6cD+Yzpx4JRG9B+tmw1NaorH1dTSYnrh86fN0peffaELJ89o8sS3deHyJWWD6nRPnYmsRkQdnUM4zIch27dr695d2r17j/au26SWc3XasOoz7dqxUwnX1pnrV/Te/AXKtSTV7uV19sxpfbh0m27cPKsZs8Yp3pqR55RULLXo+NFjGjtqrp559veaN2O6Gq/fUtEPNXPKVH13+ozRN1N87T98SLsPHdDG7Vv09Y5N2n9ws/lYo2+vcWq64ci3fl6ymky2auDAN/Tc80/qqad/rxdf6qbnnn9O3Z59Q031TH/ky/FjOn/xmImm2flQhYBvAAJBVk+d2aNsLmOmrgrtjM4c368Jw/ppx9aN2rl9i7bv3Kk1X23TyKlzFXamQn9CcMZvsB+IG5FBoo+8gcGXeQMTjaEHkzpNuB5DuZCf1/JgG1iHjGAZeAfugm0RXkE0wWHeXoFXREYZngTx5F7e/nAd3CaCSieeN0p07CGz6IU04D9DJMB43mAyfIrOPechrXwPQDuMztjTgey07u4TWTVzA7cXVS4zlIgprFzNmjlb69ZuUv2tFo0eNV7btu405LC5pUFM57Zk6UKNHDVQ165fUFNzk1LJtGzbNfUNXtAmDBw4wMyCceToIfXv108NjTf07rwZWr5isRnz/cEHi0yU+tsT32rYsFG6fOm6Ll24ou7dehi98X1G9GYXnRGoQa+0k7St6KSzmP8YzMlkiT9gP2Ap33ncuHFNx0/s18uvPKcjRw6pqbFFjfUxeU5YG7OKxh52zCoGEPVYIAIADhE/vm6jMaMicMwu92svm2jF7u1fG8AcMWa86mNpueXOfWBFZLXsM+dlSdnQMw1K49Ubak+7Zkq0ptYWrdr1tW7aOaVyWQPY9KoBID4UisgPUUEikxgxOoRIAk70qgF4opSAI6AP0EM8IYTcAxnD8HkNTr6AI0AZEQsAla9wIZH8yB9w62xkNWqIooaG/CGTvNYnqov82ArDDyDikOjITiCyjKdFNoAYWQF50kFC6fxgV5QZ3UyfPt2UGXKK/MgOIaURocwQVeyOfCOdkRbZOA/B7MyPeuKH3siT5xfDotKtCSWa27R8yVJ5TnXu4ZNnTqtXn9fVf9hgXa6/oUQuq3HDR6lPj1f1Zt831KvHq1rz6admftRzly5q2MgRGjlhnOpaGuWHfHiU1ZL356nPG700c95s1bU2qjWb0elzF9Xn9Tc1csgYHd/3reLpjM5fu6KTp0+ZeVaTzW1meqxh/QaYqat4Rc+0VUF754YBoO/IJik/tslreb+9YoYgyA6lfFGfL1uldZ+tFZPoNGaS1cmts45CJ6tC4CnZxhyLVzV1+mjFWrIqFSQvaFAu1yLfKatQzJuFOwIzHZin6VOm6sTRo8a+WTTBDn1ZoS+b6GO7r0IpKc91NHLYdMUaHbm5n+4Dq3tGVrNxrflslYiwEt1lbko/8JTLlFUpyszNygdWx07sMZ26UqFdgVuQ77lyvBZTHpuhFZ4j307r6J6tWvLuVPn5pIqhq1g6q5Rb1NRFH8kt/jIGrWI3+B4+gw/hy+ADEUXefOBHdKBJ02nC1RkHv8+9yAS2QCoJ1oAlYDHnKBNtHhgGRoPFkEfO8aaL80wnCA5yH8STD2JpMxmvDkaDj5BUMI83TKThmbQDvDUjX/CTPPA7OuYQ3sgfeR7nO627+5BVPgqsjs0mwMGbuMAMvRk7epL69xukLzdskmO7BovXrftMzS31WrT4Xb3ep4fe6N9Hffq8qVkzFiiVzJlX20OGDNeYMaN09dpFWVZSlhXX1u0bNGBAP82ePcdMg8XiAE1NzaYtYcjDjh3fKCwEZjGA8+e/M20DugLrCerQCSJYMXDgQKNLdIFO0E1X/CEb9o7dQ7obGm9p1+4t5o1M37599MYb/TV96jylk7kaWaUCH4as4pw4CUaAQXTcuAZpoiLYd7kfZNXLK/QstcXaxApWfkUmQgGNqfCi1CwKwIIAxQdeFEDFdjOBecCceWGgHBNDFyty2tJmTizH9ZQIfaXLRbNKEbpDh+gOPXFMLzACdM5HQMQ5NtIBdlEPGoCPdE0DgMOif/LmgyOukYb0gBzH3M8x5I9nkC/P6cyPfHgue+qd50TlQS42gDuSBbk4h1yQ0ygNeZAmKhN50TBEclO+qBxcIz178uEaz2QfpScfykv+0bnOlJN70S1bVF5WoXJyltmyiZQC1zfzrKKLbD4v7MEJA3ns0QurT7mBAtsVQwCQDbmZuL/YXpFfxn4YExeoUvIU+JZc31LazirjO7L4qCMIzQTcpaCswAnFylgsKODjc44nP++ovVBR0QsVer5sJhsvl8xKU50JxNEpYaNs6MA0nKWimaCfhkWsROWVtemTz7Xl682yIZZFZg7Im/GzBScrh8m67Yqu153S8pULlU37ZtWqYjmlwLdV8MEUT56dM9NWBY6nBfPm6+zp6tg/VrAKyyX5paIh4GHFU6GUNTbw1rg5yiYdMzWWGeNlxpHydufxLQpwL7KaSsX05oC+JkL8zLNP6+lnnjJzRQ4eOE7XrzbK9135YVrHT+wzU849/dQL+v0Tz+vJ3z+p57o9ofeXzDZpioXA4NSlsyf04jO/U/enn1T355/TSz166olnXtDYaXMVVjpTo531hge/P/KZyG7Y47vYv7GjDg0317raL8IaZMVf+RvZwRjjv7ePIR5gDWUD29hDRCkTf5OeLcJqsIu/wWHSkCfXIKn4WYTdPAMM5Rp70nLMeZ7HPvLLTunuPmTVrMDGnHNmirZAlXbIqi/H9tXaEjerUrluVRdhCL6zupavILTMZPeFsF2uXVIR/Ato69Adb6c82U7KLATCIhmsBOd7gZknmcUG+HCS1R9ZMIMFAfhwy3HzZswrQxMoN/pDz2A9P/TBFtUVmNXVftQVdY2c1DH1DS4EoS3X462qZVZCNCt5/cGiAGAaddH1yvWgemYo4p//+Z//0eT/5u6rD0NW787jl/V3R2+sVjfQyMaVavX/MM2fLF90Izw3yic6uJ05/sLcCGxcqv3+FWkgquuO+8gOOu47Xo+Ob6sh+vP7PUdV42HOTbYf2uj3GWNb0X13DqITHa5x6lH/7jyGg9u2zh6Zoj+NTJAqvnq6I+xtb4gyYPlAcx0JSXfXEqm3hY+Sf7/nKazheFdBTfpIgts3P+rCm/zIO3rOH9t3kM8opAMa3CkMBx3OVxV3V/7VVcg6PumxFKuWaU0Df6CBjlbH8f386m6f6GD7P7ilY7rI7sn3fr+O6f/Y8+93/y/hfKTjDori8M6fHXXwSyjPvWWskdV766V2tqaBmgZqGqhpoKaBmgZqGqhpoAtooEZWu0Al1ESoaaCmgZoGahqoaaCmgZoGahq4twZqZPXeeqmdrWmgpoGaBmoaqGmgpoGaBmoa6AIaqJHVLlAJNRFqGqhpoKaBmgZqGqhpoKaBmgburYHHSlb5oo4vENm64td191ZJ7WxNAzUN1DRQ00BNAzUN1DRQ00BX0cBjI6sRUWW6hY5TZETktbavkviaHmp6qNlAzQZqNlCzgZoN1GzgcdtAVyGeDyPHYyWrkFTmlmNeMOY1i+Yyq+2rc7rV9FDTQ80GajZQs4GaDdRsoGYDj9sG4GK/5N9jJavRpPRMtMvGRLa1raaDmg3UbKBmAzUbqNlAzQZqNvDT2QBk+Jf8e6xkFSaPMbIKB2SV1RdqW0cdsMSmK89l8+6x3b5Omprufjk6uFOXHevPleuxeXe2P6jzDtf+VDrsoWOa6vH3z6s+667nYUO3Zet4b3Su4/4H1x+17d3Rz/fyRPbd8bl3H3eU787xXXqI8vmj+z/y/D9636PSw53nf19fP8QAzoOXToc6juzndp3eKw+DEx3y/MHfHXTNvY+qLLV8HlKXHTDftAHUye26M/UT1eMvva6icnTc/9LL1NXkv4duI3ww/lm9XiOr96DqjLtgzCpkleXd2CCsRFo5B3FlSUz+jpaDi0LgpGXIQFfaAHaWNkPGqEwcQ8QfXk6vuvxb0ZeVzcrO2vKsQAWvpFJQMktwZpIJFQJXrpNX4PvmeeiM57JMHLqLotfIGEWvuRb1WNF71FmIznGdtMiOvllmlXxYfo7z7KNydbzGfZwnv87WU8fGkvyQLSpbJBtpWHaQ56LvqHxRHUSyRddIh11F6cgPOfmbe/g7ujd6ZjweN3nzHJ5HHmzIg34jPTzI3vMDeV5RvhsqdD0VXFsFLyfPycq2snI8RzmWkfUCZXN5ubYrO5uT77hmQ07KkrMtJTNp2YGnrJVXMSjIzublWraKYUGObRsZvcCXE/hyw0BW4CqVTsr3LNl2Tnkrq6AUKB94cguhLJY5dHz5dqjADqtLBhcLcihnKi3fclRwfBW9QIUgVFgoKG3llHdseY/aHz1fbs5VYPmy0pYCL1TgF5TPO3K8QF5QMPKmLUeWHyiVzymTy6kQFlRgKUXHV2i7cu1qB5glY/Oeo3Q2Y9ZMp46jOoz21De6ZcvnbDlWUY4dyMp5ymVtsfSr70V2z7KO+DZbdXnMB6n/B0rj+XIsV67lqRB4KoZ5hT424MjJ+QYDrFxepWJOQRhXzvFkhWXZRU+5IC07zJk69/2SCkHZdHSDgPqOycXeCvhJTslUmzyfpTsJFmSN7edzrhy7LM+pLm/9QPI+6rr/kfmBRalUytQbPsnf+HHk85Qh8vGfszyRbNgZOIKcnEM25KUMyJfJ5GTbdEIyxu5ty5Xttsl3WSbVVqFoqwD+4/vZtLmftoc8yJc8KHtk1+QPTnENuwcTI1kivYAr1aU5q9hNHpyrypMxeM7xQ29eIB/c8wq3t45+RHvORtthyfUcUybkpxzgb6SnSG7KgXz83VFWdMuGbrmX8pEmapsjPXCN+0hHPpznmGeiJ85F9cPfUZsRnY+W635ofXRGl3/iXsobtUuU03UdWRbLkmNn4ChLz4ay84F8lzpBF9S1pTD0Oi5rdQ/m1rVPPZbIKh9VdSSrkUExhhVSgMFFDQoGxHmcmWuRgXYlQ8GgkbOtrc2AAbJjMDjLw8vpKvTzirfcUug4KvpFuelQubirbMySlbEVuI6KBVsNt66ora3VOBjPxZmQKXJY/kZ3yIJs0TXOA16R00bnScf5yHk5j/7JG/1TP4AjIIADx2Ixs6e83MM5tocvexUYkZ8tAg6Ai/yRgWciD7LwN9ci0OYcx9xHOuSiDGxRmairqDyRrE1NTaYOkbu5udmUmXxaWlpMHlXnd+/oFR1x/UFt0vNCeW67AregouOp7ORVcVIq+hkV/Lwu1V1VOgiUCguKJbPy866sRLpKwPyg+izfU8bKK+e7soqQUF/J5jaV/IKsdFatTc2CzKCDrGUp77lKWDllPVeZfEoXzx5XJtVqiEosm1DczqoplZLl+UqncsonbGVjObUlU8oFrizbVsEPFdq+vGRWQdZWvLVNsWRCGddRxn0cZDWQl/YUZH0FdiAnA3kLZOUd2V6oVN5RyvGULxSVpWEuhErlsspjj5m8vFRWYc4x+sDuW1MJxUxnoNrwYAfYBfVM/UWNmknb2mpIajZFp6Io1y4oGbdl5X15LiQOcI/IKv7dmQ7pPQiA58tzAoVuQW4upWS8Tq7VqqIh4SUVIS1ZS659S7Z7UU4pVKZQVlM+rkwxrqQXU8rG/kty7XblMlkFQVyO12Iarta2ZrluVraTUDrTKNdPG8LquYHsfEmhX1HgVddG76z//hT3g0P4H75JXWL3+DXP5hx1He1/Cnnu9wwwBjkibEQusBibQ2b+ZkulsqbT6HhtsnJ0nBy5Yb1yqXaFga148oZaGvOyLDrPVSwE58Ar8iJ/bDvCQ+ThOTwjwjGwL2qbIuzi2dwf6Y00tA8R3t6vXA90nk6eWzGE+3vSiu3jO5b8IC8/yMoPMkomq21JpBPkjOqPY84jExttEuXkPDogHRtyUy7SchzpGbsg7c2bN42eKG8ikTD3kB/X2LiXvKNz/M1GWjbKjL4eqOx/glw+yjyoe+REFxFfMnbi4+9pZQhwWJ7yWb9DfdBxcIz+w4JVI6t38/F7kdXIQAAfjAqjA3wgBBxjeFzDmB5lBT+KvDBcnCICAWTGWDCah8/fVeBmVCoQffPkZl35uVDp1rwSTSl5OU+eZSmXbpWVjyufo1EKjDOhK4gXxtsRgCKiGjktsnG9IzHFQXFIyoSuOSYfQIFzkTNQFzyDvLifsgKSUV1xz8OXvQoGEdiQJ/lHeuY8efNsnslG2ZCNtETuKQdp2HMuIiXsI9DmGvXGOe6NbItjykQDQN48j7Rc55mUrbW19Qd/P0hZPa8gz5UCt6iS46ni5NXupBQ4STn5pFK5jOxyWa1uIC8sKiDCB/FyfYV+YOrK9ly1pRJKWXlDVtsyKdmZnLKxpJxMTslYXPG2mJKppFog6qGvrO+qId6mZCqmwMuq/tYVpbMx1ccalQ1cteaysg1Bb5OVcORnA/N3WzYtPwiUiSeVaYkpyLtyU1kT5U2mU3JLRbVl0o8hshoozFYJq58luurIsSGYKaWytoioZlxfGc9XQyqpfBgo7xJF9Q1ZLdq+CnlX8aYWU79W4Clu50w0mrqkfqlz6ow6pa6jhsjYRConz5by2VCx1qxymVCOXbxNVvHpx0tW7Zwr3/Jl55LKpm8pl25UJp6Qkw5VdqSSF6hcpMNxWQk7r0yhopupFnnteeUKKbnFQJ4v+a6M3eRyt2TZjSYS57qWCkWizM1yvYRyVkxB6JhGjOhdW7Mt3yt3yncfxBceRRr8Gl9kj69Sd+AZ7Qv4BF5Qr5zn+FE882HzAL+QI8Ip8kEmNrCVctB+WJZj3iI4fpuydNh8X6X2Vjm5snmDls03yMlXlEzGlc0mje1i02Aadk15wTTsGnzmmGeBW+iGZ5AuOs+zIwzHJ5CDa1GaCPMettzmPiKqbnuVINERMlFWOn2u/OCHZNV183fapKjtAoORg438+Jv2FbkpN3t0EPkx9kA5SRPZANfQf6QH7ovuIU/Sc4706AHdsec+9ugVnUT2xblO6eQxkFjkQyb21KMh6bm0bCelRLLJvEFJp7PKpJwO9UEH/DZZLdbI6t1c1YDJ3ZFVlIyT4DwoG/DZv3+/Dhw4YAwEw8LYiLJ2NSPBwHEMCAwy79mzxxh35wzaNdG2bLJZ+XRaVy9cVawpITtFg+zrxpU67d25U1+tX6NUokm2Xe1pXr58Wd98840uXrxodInjnjlzRtu3b9fOnTt1/Phxo0+c78SJEzp48KDOnj1rdE8ZAALO7dixw5QJXVOO69evmzy4h3vr6+vNPUePHtW2bdtMHhEgU0/k1Zl6ihyOPNArZdqyZYuxh127duncuXOmQbp69aq5Rrki0MWGsJdvv/3WlAe74hqy796925QvAjPSRvq5cOGCkRlHp/d95MgRk3fUAABUJ0+eNHVcV1ena9euGVCg/h+krPcjqwUnKTuf1HeXz+tKc7MaiRxm8tq6/isdOXBIRw4eUuOtelOWazfqtGf/fn3x9UbZvM4OfENUT+w/pP07dqvuyjXZlmVAFrK67/BB7Tt2xJDKVCYuO92mSxdOa9+B3Tp+9oSa0nElHVvNsYQOHTqmoweO6cq5a8rajtKOZYhoKSyYCO93J8/o4M49OnvqtOLJhFoz1ejrox4GYFuOTh8+qZJXUj6Wl28F2rj+a+3csVeZvKtkztGRk6f1zb792nnggL7auU2Hjx9TJp3R56s+0e6vtsglMm05unjpknYd3Kct+3apua3V2MHMmTO1dOlSHTp0yNh21BgdO3bM+O7NunqFflnXr7Rq4fyVOv9dnVzndiPLa7THTFYZ6uPlXLm5pAI/rsaGizp++IgO7T6iXV8f1PEDh2Xn67R730rtOnxYTruUCPJqzt3SyctHlfc9pTOBIdu+52vfvi916vRuJeJE1HI6c/a4Nm/9XLv2fK0DB3doy9avFI8llEo4Wr5knTLpB7PnB7H5x5kGv4NggHFgzpUrV7R3717js+AXvk2DzTV8+nHK8qfypt3CziISAR6BO2AM2AzGkIdtQ2BDEVl1bU++l9fl6wdUd6VVbW1NSqZu6NiR89q3b4/Onj1lyBVYyf3gNhtYDY5zHmwHL8EtsJKOPNfBbc7fuHHD6AkiCP6hP9pc8Jv70SH6/VPl+6PXfwRZbWltNO0UMtCGRc9Gd9Q1cl66dEn79u0z/svflBU8R5fcd+vWLZOOe2gPaZMpb0R2KVt0Pzwjqhd0QVsGDkBSyZd6OnXqlGkPkYf6QycPivl/VC+PgbAiF7LTVlGObDaleKJBdTfR2V4dPfqtUom8smmGAVSqwzJqZHXPH5DU6MS9IquNjY0GWCLC9Morr+jf/tt/q3/37/6dFi9ebIwEAtIVjQSZvvvuOw0ePFiTJ082expDnODhjdVVLtOmUmjp8vnz6v1KL33xyUa52VBttxKaOWWGxo0cqUH9euv992bLsvKmoe3Ro4cYu/Hqq68aJ8PZBg0apFGjRmnSpElatWqVMWaceuTIkUbeMWPGaNOmTQbU33//fXMv57gHh4X0DRw4UBMnTtTrr79uHJqyTZ8+Xf3799fo0aM1fvx4AywNDQ2mmnnuw5e9OmaKPAAHwBUboFxsf/mXf2mI6/nz5zVkyBBTrjfffFMLFy40oAUoHT58WP/wD/9gwJooC8SENPPmzTP6mDNnjnHoZcuWaejQoaasI0aMMCSYxo16JO+xY8dqwYIFpi4h+7169dKUKVNMXoAiNhmB4J8q733Jqp1QU+N1dXvlBX3y1VeKBwXtO3hMvbq/rHnTZ2rhvPk6euiwIcdjxo/TuLcmqN/QQfp800bF0il9svxDvfna65o/e64GvtFfe3btNjKNHDtGoyeMU9/BAzRn8UITibl+8Yz69emhyVMm6pW+r+rrvTvUksvorSnTNWrUeL09ZrKmjJuqWDpjIqdxGlHH1RerPlWfF1/R1HETNWzQYF28clmxXEZusfDII6vpVEYDX3tTqcakIazlsKyli1fow5WfyPYKamiN6+3pszRo9FjNmDdPsxfM09r1X6ilqVlL57+nXRs3y8/aSrbFTX0PHjlcwyeO07yFC0xDRv199NFHplHExqhv/AJ/oK779hmo61frlU37Gjp4gi5duGnIq4kI/QRkNXRLCizGNecMWT1zar9WfrBEc6Yt1Jgh72jc8FFKJS7qm51LtGHbduXKUrbsat/pnVqwcq6yrqVcvmBe9xXCUBs2LNeRo1vl2NhqTtu/2aR3503R//rb/1ujxw7StGnv6NKlq2ppymj6lMVynV9GZBUyRcNsIkjZrObPn6+XX35Zs2fPNnhBhxKyQx0/qI/+KR9+2OtRRBXcpP2DFIKZ77zzjmkv1qxZY85nMxBrX3mnWb7r6eaNW5o4+Q0tmPuprHxKm7es1eABEzRx4lt6443XTQccfAOvwGhsmI02ic55nz59NGvWLPXt29eQYmydDjvtBH7Qu3dvEwyAyHbr1k105MDBjRs3mjwgPeT/sOU29/0IsvrVpg0GnykP2AtBRAb0RpnA9eHDh5u2h3Ju3brVyEYZ3377baPPRYsWmXaA8pPP3LlzTVkhsxBNrtMmzpgxw+A+wRD4B3jPOfInMEKd0e7QrtPWkT+y0DGISHSn9PKIySr+gI5ok7788ktTn83Njbpw8aT69uupqdOmasjgEVq0cKUZIlQjq5L+7M/+zBCniJzevb8XWcWJUDTGtGLFCv3X//pfDdHAeCBDRPJwmp8bdO5lnMiNs0CAAEYAdNy4ccZh7pX+wc65snJxXTz3rV589ln9z//rNzpx6JQSjXldOH1JvV/upVQspkSsQcOH9tPhQ4eMU27YsMEY67p164zjQagglBC+KLqAs3Fu/fr1Rp8A04cffniH0HGd+kD3RDRxbkCMstFDBcwgihA3oos4MOcghNxH+R5FPeF8EUjRc0b+zz77zAAMvWxA6IMPPjBRAHrbHEOuibr+5je/0a9//WvTs0Y+bIpeM6930Mnzzz9v0gFm9LyxO8guuqCMAwYMMABGgwfQoz8APoo60Bn5/PPP70REHqROIauuU5HvFMwwgGI+o0K2TbGGK1q2ZIH+8Yl/1odffKGYX9Cna9dr7pQZKnuhrEzONFzI2bNXL9mBr6sNN/Xki8/ryq0bWjhrrq6cPifPcvXhsuVasXSZKUPP13urORHTrViLerzxum7VX9faj5bqg0VzZXtZfb1js8ZMnajj58+pZ9/+am1JKt6c1NC+I3Th6jW1ZJIqFIu6dumK3h4xRqcPHJGVzGrY4CE6eOSw0p6ldCfHrFLHkb3gR/ydTqY1qNcAZZrTZrhLsi2llctWafXqz+UXyqpviWn2e+9r77ETSvFqzvcUSyWViMf14ftLdfCb3fIzlnZs3mrIZ8a21JRKaOiIYSbaAEFYuXKlzs1/mAAAIABJREFU8BUwhcjJ1KlTjS2DTe8vXq6Z0xYrnQzV/41RqrvWLCvP1/K8Mnv8kdXAKarklVUK+LgsJs9uU8FxZSV97d16VPNnzZWVu65tO5Zo5oJF2n3inGJuVjuPbtPUeW8rKBeVzYWKt1kqhIHWrFmkZctn68SJY3KcvHL5hFLpJj3X7bfasPFTNTfXa9eufdq0cbcmv71AHlHkR9yQPo78sJUIb8AJOrL4JESCoAf2xHme/XOTC/CQN08QCWwMHKODhGy8xYEogqVBwBjcQMnMTbmOr88/36h/+Je/1uzpS2U7MU2fOV6bv9ojz3e0/8AevfXWW+b+nj17mvvBRUgXUTU64suXLzc6guRB7rgO9hPV5dlgPJgHvn/xxRcG4zdv3mzaXHSI3NGQgYeuwz9CVoOQMe98nJwzQ1IGDepv/JFn4ae0UdQh2I88EE6i5sj08ccfa+3atYYbEIQgHaSbstA+gfcEYSgD+bz77rsCzykvQRXaM3Cee4hIr1692rTd6I5ADZgPTkBkaUNee+01c478qMeH1sdj8i3sHRujrocNG6a/+7u/U33DTW34co0+++wj81FeU2OrnnnqZd26Ea9FViGmD0NWqXwMEoOD+P3+9783DkNvEScGmLhGZXRFI6Gxg+xg0ETqINedk9OV72Z05cIpnaGHOGGydmzaq2ybp73bDuntsRPl5vmSPK15c6Zq27atppeMk6JLHO2ll14yTvurX/1KL774oiHQOCXE76mnnjIElUgpzg1ZozdJ9DUCe84D/hC6r7/+2jTs1AE9T/4G9GgsILc4Nb05HDlqQDpTfmyBvJAFJyRPwIWIO69weCYADcD069fP9Hohy9xz+vRp0yOnbES8sRnSIzsgB7GFrGJX1BdgBXjxWgzwp7dOHZKe8xGgP/fccyYfCDG9dvRDGZHvQcrK6z0rzxfrRM5s+ZmkQiuhdauXacqksZq9YK4+Wr9eCT/QW29P1T//zd+pX+8+en/Be8pnc6YD+FKPV9SSiGvv0UN6uXdPJfmS2/HlZSxl2hJatXylJr01UQcOHtTAIYOVyGbUlIxr+oK52rd/l0YP7qeTxw+q7tYV3Yo16JX+vbXmq680ZeYcZdK2Wm62adbbc3Xw6DEzDIAPrG5dv6Gez7+gtuu3zIdL2zZv0fKVK5QLPPMxT2eGAVBf1A976ob6bqxv1O/+9l/UcKVeqaakPNvXhys+1rJlHykoVhRL5zVh8jS92KuPXnj1Vb0+qL+279opx3a0YvES7d/yjfkQ7MzJ0yaCUt/arLNXL+uVV181dkEdE1nl9St1R6SJjg/1ynZg32H9498/q969huov//v/1OWL9UomGNcM9vw0ZNXL+yqFjmKtV2XlmmWlMjp34oreGTtbl767oGz6itZvfFeDRo3Tqg3b1GZntP/0Lk2aM0GO+dikomTcVyad1o5v1mrQ4Fe0d+8epdIJxeKNWrN2pQYNeUOjRg/UkaMHtWzZCs2cvlBjRk6T5/5yyGpEGsAG/P2JJ54wkTBwC0yjftloPx7ERx9nGvAEHEMe7J0NuRi+ALZAiqqzTvhy3FadOHpWo0aO19KVkzVnxnIFflrDRvTViaPn5LiWrl69aDrQvOIHCyFzdL4+/fRTQ+TANvAPPdBJJ+oMSYUY0wagM7BuyZIl4k0a+EkeEFp8hKgm+oh0/NC6uS9Z9VQoMsVe1sxycOPWRXXr/qzhATyTwACBEo7ZKBs4js6QkTYXP0avlIWNeyBqlJl0RE3BF6LuBBjwb/6GfIL/BFwgsNQFdUP5wQLS04kgb57FcAqi0LQV6PLn7vzcqy6wK6LBEG3KytvVmzevy7YZr5s0H2E3Nrboyd+/oFhrvkZWH5asYogYGySFSOp/+A//wUTG/vZv/1YvvPCCcS4MCuO5V0X9nOcwEl4VIDdRO6KakCqOH16u6gdW5YJtZgOYMmGyNn+xXQWnok9WrNWkcZMUOrbCIK/J/z977/mtVZXl+98xuvsfqO4e/aZf9Li/6tt1u8q+dbt6dHVbXVpBLS0jKEkEVETBRJCckwiSkSAiQSVKTgISRJAkSM5wSCenJ+dwvr/xWedMfPrcg/UgnHOeYz17jD323muvvdacc835nXPNvZ79jB6sNatX6emnn3aZRIwU42rXrt3N5QkEaLzOJ0tIho5gjWwqBknWEQNltg8A8Dyy5jXV4sWL3QyXWSoAAFgwgWDGCkByDZAwKwf0MGLGiDa+P+/f/sCKtV4EMRghM0aCSAsqcE7IHZAnq8o5Mqdv1iIRrBO0c41uMU7IALkQ8AJCADftUQewhidm7szq4Qt+COAJxnEogDztUAeAR07s2fDK673qqqhi/NDK41Mi5NeFk19rcJ8eunzhlGbPe1+zPvpYxf6ABg4ZoT3bdurGxQKNHTFKH74/1wHlhwsX6JkO7dRzYD999sUOnb54wf2oKOgJ6LM16/TS8y+osoLXhZs0Ysxo90MpfmA1euJ4rV27Ur16vKi9u7e5Hzacu3JeD7R6VB8sWaxps+equsrnvgYw7K0R2rpjp6pCflV7PSorKlHrRx5VoMKjcLVPB/btV68+vRWIR+Xhe593kCnAcTA2yBld4vqD9+fp7aFj9MXmXS6zWl5UqY8XLdbHHy2TLxhVaZXXZRSXb9ikaxUVulJeoiqf1/3yfca7k7Rz/WZ5ispUVV7pAtFnu3RSt16v69CRwy5zwutPdH/dunXOmaELOEV0BjqOHjmhDz9YofNnbqjHK/3qMqt897JpMqthlgAE46oqvaGqigIXrO7ZtVuTxs7U4a9OKuwPKOAv0JbP39eGHV/oUqlXV6uKdeLqEbV7obVaPf2Mnn6mk1q36qJhQ4dq6ZKZ2r5jpXgleOTI1/ro43kaO26ICovPa/WaJXr5lRd1/NhpFRd69c7YWQoFWkawiq6ASdgfdkmWjAknmTFef5OFw1YJQDhmY6ONWQc6wTP03XbeAhEwkSEkWPL5AvJU+/TNsd3q03uojh87pc8+/0izpi9RJFylTl1a68LZqyorK1Fh0TXnZ/iNBG99wHLa59U1WIw8SE6g00y6n3jiCYd/BLEEa8iEtwu84qaMCTj8E7yRnWUNKzRD1x3J5RbBajAYcD/ui8b4kZVX5y4cU7eXX3RBKeOKzyFRwjhDB7EBvIDbJExIwJAlhQ/qkLho27atSyLgByjnLSc4DebzlhBfAs6A34899piry2SBtqkLNjz66KMucYPeEOwStLdp0+ZmEgpaaOOOZHIHmHmrfhlTglQCePhHrwhW/YEKebylunr1irp06aqd2/erspxkWH7N6vfKrBLg2K+4CQ7uu+8+B0AEQT/72c+c4WDgBC23GqzmKscoCG7ILEIjMy8CKZuZfj+6QvJVlygaqFTI49HYYWO0df0ORXxxrVu+SRNGj1egulplxVc0YdwIbdnymQvWyKwCNjheliJwxEBRZOgiGCPQZNZFkEZARhD46quvOsC0LCuGC+ixlop2yLpipLQFsAGCzNQZN9omyCXbiiwwfPbvx/e3n62ibcCJ9gkmhw8f7tZ6sRCee2R2eYULX4Ax4MU1YAbfTBioCy+AOOMB7RgzbRLkEuAC8vAGT/AKkDHxYCwBLNbqApwAHn1RhlPktePt8ckygIQ8lX7FfAGFPJV6f/Lb+v1//VKdn+ugX//2fj3YqpVOFxYrmqhRjE8UVXr0+eYtGjZosMty9x3QX4FIWBevX1OHrl107Owp+SqqtH75SnVp30Gff7bF8QowDxo2VIVlpe7TVSMnjNOBg3s1enBf7duzXRcvn9GNikJ1evUlLd+4QeMnT9PFC1flLfdrytjp2rlnr/yxiG4UFqq8qMRlViuvFclfWqmVy1fokyWLVVTFL/EjdxysojOMB2OEwxw39h1dO39VM96ZrhsXrstb5dN70+Zo3drNqvKGdKWwVGMmTtGStevl5fM/0bB8fIMyGtP8mXO05pNlClZ4NGbYCDfRfenV7urU7UV1f7W702ccIHqNk0f/yUyhv4wterZq5QbNmblYJYVeden0qkqLK1Vehg42TWY1FkmqusyjsuJrKrh0VJPeHabJ4yfo5OHz8pSEFKjijUqBdu5eoG1798qXkgoqCnXde1meaLk8waD8gZRCgbT7nNfFC4d05ux+VZSXuteC69Z/qtKyAvkDJfJ4+GHKlzp75qJbNnDk0ElFWlBmFRvFBhlHbJjgAtvHxsEy3nBxn3p3gkd341noYAmAYSQBNpiCLoJf4BCfEHOv/1fO06/+80F1fbG7Hnn8t3rgdx20ceNaDR3eW4cOnFBlZZlKSgpdJpnEBP4G/sFF3vCBVwQrZBrBQ7CON1BgIG/VqAeOMWEjEwvugWlgJbTggzkiyzvm/RbBaiDId1V9isUDLqC6ePmk2rZ72o0XATKBKD6IsQMfKIMXcALawXqSDdBHsgv+oR9fzO8L4Bn/gcxJUrBOFX3A73GPnUkrb3LRH8aDMaKcxA8TCa7xebTNMgLo4ZryO5bLXQ5YGa9HHnnEYR5j/9Of/lTjxo2R14euXHU6MnLkWBUXVjlsyAer33MZgIEJSoGh3XPPPU45CKIeeOABN1PAyFGUXFMS6GL9kb2SYFZDBpBXBt+f1pDifH8uUKnq0lKNGDRCm1dvU8Sb0IlDZ9X1uRdVcOGCykqu6qUXn9WVKwUOpPiBFDLEqPixCNlCFoZjiARuABUARDDG63LkjsHy6gBDJphjVstu4MasH/DCoJmJc05dMpc4es55RcIvL218kMn35702YAUQACiOzGTJsAPMzKIBW2aRrFuiDtkxZr+U0y98EZiTUYZugIcxYe0SgGbOjRk6wTt0E3zCH8+QRWX82AnKAUfWfAGgPI8MmEjRDgFONrzW/sAqrXQirWCVR3FvtSquX1RZ0WWVl93Q4BFDNXHOHF0sq9Qrr/bUF1u2KxaKau7M2Zo+eYr7sdDEyZPdMoDCyjK90vtNHTp2VF/t3KVuz3WRp7xKlaVl8no8jt9uPbrr4tUrOnr2tLr0eFml5UWaP2eapk4ep/KqYn204hONnPyO9h8/rq7dX1dhYakunSqoXbN67oKCfPjfU+3+mKDPK6/ps9Xr5Smrcj+w2rJtqwtUg8k7+4EV44W+ciTDwZKLE8dOKFDm18XjFzSi/3AdP3JSSz5epqVLVsofiskXCmv63A/VpvMLerJtWz3ZprVefKmrVixbrnkz52j/57sU84V06ex5l2WeOus9zf5ovjZv/czZKHpAPzg0nCB9k1FhzTkTrkEDR6jgYqkCvrgGDRirbw6fkc/TdJlVlolUlVa7T1dVVVxWdeU1nT1xUuNHTlPbp7qoQ5t2avXk79RvYBcdO39eJYGoquJBeeMV+njVfP324YfUpm1XtW3TRa2eaqWHHvqlNm9ZqqKiG+4zNR5PqfYf3KGH//hrdezUTp07d9SzHTqp7TMvqPebw+Spzk6fs9H5xqxDIMLYYYMELpYgACsYYybhYAUBDhjRmLT8qbbRcejlSFKGr5eAK0yMwRPwCro91SwVCKiq+qoKLhWpuLBcK9fM0cR3FsjnrdT098ZpysR58vmq9eGHcx3m0zdvysBignVwj6QFy1zAebCLdahgFnIA45moEbTxypxz1rdiA9gDy2J4DkxEtuab/xSPt7x/i2A1zLeiA9XuLY/PX67K6kK9/HJXN5b4HyYbYKzJDtrxsfg2xhRfAK/YMWOPj8MX8UNaygjaeTNI8gbfRLYdXvl9BRhPGwS2BOskY1j6gEwYD/SHNvBxLJ0gW4+fxH8gjzuWyV0OVJE9fpLxY+xZ/tGxY0ddu35FFy6c0MDBvbVmzSr3JwBg2befEst/usopRf0fVtk1M536n64iY4qCMmtC4Qgc/uqv/kp/8zd/4wJBlAMlyjYwuKXhNIKSEJhBMxkbAOipp55yryQw9O9PB18DKFMi4lfY69WwgcO0afUWxYIplRdWa9b0WerybAc99Lv7tHnDalWUl7nsM8Eor0LInLImBwDktT2Ki+FhvBgkhs5EgACQ2SngSV2CMV6DPPnkkzfXC8Ebr1IAROoT5OIkCBT5xT0LuQmSGSMMhiNG8/15//YfVBhvwIqgkVdTTAQAGQJu6CLbSgaVtWosY4A3dgCasSBIRd8AqB//+MeOB2QBGNMODg15ITcAzxwHwMQ4wrMtbyDwJxOCbAB5+mGM4Tk7XuPyesIKBaKKBcOK+z2KBStVVlSgqspiTX1vmhYsW6Yir1/bd+5Wl/Yd9fyzz+mtnr108dx5x/vYcePUoeOzat/5Oc2aP09FZWV68L779eCv79cLnTqrfZs2+uD9uc6WZs6ZrSdaPaVW7dto2drVCoR8unT2mPr2eV3PtG2tNp3aat+xIyr1eTXz/Xl67NEn9cwTbbV80aeq9Pq0a99X2rBpo8LBkL7a9aW6tOmg9k+21sB+/XW9sFBFleUKxmN3lFnFdrB7HDlOhfHye/2qKqlS+Y0yHT90QpfPF7hlAMuXr5YvEFEwllCZxydPOKoKfngUj6ra71XA59fH8xZo04rVShHUVtd+JH3FmtVatm61tm2vdWC2posJDuNtNOCIWKt24XyBoqG0im549Gr3vrpSUOICuNplAEykmIgR0DHudzmwC/N91ZDC/oiqK4oVCpQo4CvVulWrtWbFBnlKQwp6faqqOK9PFk/S1DnzVBFOqzoWUEW4RHuO7NLSlStUUuJTwMd3OsPauHGJdn2x3n2bk++slpbd0MFDuzVz9iQFg5Xy+qpUWVmt0hKvRo2YpEgL+VMAcIHxw/bQHzAIfMKW8R9kmgi40C/wKjsbrZ0o3+264CG+DYzF1xE4/uu//qvDZYJH8JWM3qJFn+jkydO6VHBMcfdvah4tWT5D7037RIGAR2fPfaPnOnbX8893UafOHR0mgD8sPWOCTWaNDCAYTPBGgMYkHowE48ErloGBeewEa+AoWMhbJnAUzAPrCA7Z79jnuj8FSNVm7G/+kxX/IBVxuheO+OXz82POgE6cOOr8D9jLGy3GkMCLV/y8+SAgZ8kDNOLPCMLhH3ky7vAJ//DOc2QYqUdQy/pc5E8mm9/EgOX0gdzttbn5EpJP8M3yMrKsLJ8jIYOc0A3kcrd15E7bg14mK8gD/8ebRiaoCxfN1U/v+Sc9+eQTer7Li+revacKLhfX/UkDb4v4zqrXZbilGgvTWtwRm//Rj370nXT/j/p3v88PrBgonIYdETgGDshkltv5nQ7s3Xwemtgzab5jA4/QJo4wpAht+4MKBfnuHn+XxquioHvF5/WwFrP2byWhATBCbhiTyQpQN1lCl5VTh3Keocz2zLo2HrRhWQyrR1uUUR/erdyOdyJj2rDnOacvaLC27ZgpcyuzYybQcm601ucZ/rlHHePXeKPcZEa7Jl9osbqUG61/6hjm70LDEfH9ywjjG+Yj7MgupEAwID8fdI5E3X++0zdZUr6bajzBL+tIPT6vQuHa/4H3eqhXWxfe4IP6TjaMT11dRyf9BNCRavn8XgXRswh1+eC1T16PT2F+sMUXHUJBBerGlc/o8M9YtfTU/mtVyD17Z8sATIZ2rKWRvxxFv/3yeXxOVrNnz9GqVWtUUVGlWDwh/ro2EOSfZcKqRofrnOqcWbO1ft06BclO8TexkYgWLFygNevWOnngrHjlzxpkHHxmvybjUDCkWDSmwhvF6vlmH128eNlluxxtbrLLeGfudzHA4a9mg3x5IKIEP5SKBOWprtTRb77RgP4DtWL5Ci1ZvFjLln2iN9/sru07drq/oC2vqlQkHtba9as1avRorVq5RmvXrNXSpUs0ctQwbdmyyf2DFcGd3+/V3r18uq6fFi3ih5Gr3evgyZOmaPw7ExUI3OUAvBESBJnjxjk7+u5spp7N2rhaveY4mu7Y0TDZsNYw2DAr5HChFiuCIZ+C/IOcw2iWPNTiOZ8rhBfKDa/qY3FDuE19wzxkVp8mo6W2v+yx7ZZydVjHX67a/q29gHtkWM3X0aeNoeG9Yb/hMDKqj+EO6+riBeOJtqwubRo/1gdtWB9Wl3qUcw0/mTpluGrt3JLfRtL3bPoz2owfjnyDHbyHLw9+wssEJHMs4JV/vorm/8GqfjDbUGY1m4HI1/nWyPOyyMvih6wDOEwcBUecBD/24PUWgAvf3DNHY46aLBqZF94ocI+dbBZlLDGgHs+TYSLrcqs15dYuffN6kADPHGBTyNxopy8yhtABb/DPmxHeIPBWg9eTyAYeyaTBH7ySFeI+r3Z5Q8A5/BKo0x74Sxabcl6BssyHNslesW6bdpqCz3wfeQzL60Du6ABLZlry1qSZ1bzi5o7i5sciPxbNqQMEaARgZAZ4pUVABj0EjQRoFsQSWAGy1CMrYufUITCza+5Tl1fC9iNNymivPp/U41l2u2ft2HVjHqGdoNqCZqMduijPzP5wj0AWeuCLHdlQDs326tnkxD1kQDvUYedZZE1QTlvUaUz+8m3nsSWvA7mnA+BFS97ywWozpvTzBp17Bp0fk8YfEwIoAjVb38c5QSWBGEeCKY4EYAR23Cew5Jpzgi4LwrhmzCwopT7tcJ8jz9QfU+6xW7DMM/XrNOa1Bascodvo4ZqddWl2j19BIw94IYiFZsoIUi3wpD7lXJNV5b61abIzebIOG/k1Jn/5thvfhvIyzsv4dnUgH6w2EKrnlwHkDel2DSlf/89HZzIDKc4JRC1wJDAjwCIYs+wnQRpBJ9cEZJmBKecWtFk9Mou0Z4Fgfd2iT4I/2uOZzOCuft3GuLag24JT+IVWaKYMuqyOBd7QQTlH4w2+KTN+cEa0Q6aaiYDJg2c4z6zXGHzl2/zzseH8WLe8sc4Hqw0Eq3y6gx3hGOhyBCzze14GeR3I6wA6gMOzowWW4AQ72GEO0bKM1LUAjHPDFII9e47gjfpc87wFc9RvaLdX4tZ/Q3Uao8zozTzSDzRbNhTajX7oYzdeKUcWXFuZ8YzsbOeeyYFnrE5j8JRvs2Edy8slL5dc0AHsvyVvjbIMgM9WEaySFQAoDWQNWPPHWgeTl0NeDnkdyOtAXgfyOpDXgbwONLYOEIu15K1Rg1Ver1mGJBdmFnka8jPcvA7kdSCvA3kdyOtAXgf+3HQgn1ltIFS3zCprV1l7xs65LQ/IH2uXSeTlkJdDXgfyOpDXgbwO5HUgrwNNoQMNhGstpqhRMqv1hW7BK8f8npdBXgfyOpDXgbwO5HUgrwN5HWhaHWgxkWkDhDZSsJpUOp1UTU2q7h8TalxmNRrlu4AppZI1ikYTisZTiqXSSqZrFE+mlUillXI/zkopnUrU7XGlU+y02TyzL7LC9TPDljHOhiaeJQXPM1af9byWcbb27b4dWUZh9a0O15TTntHEUgt7hvu0zW73uZdZxjnPUJc6nNMe7XKP+lxbXxytrrVJPSvP5shz1i9Hdspsp0+j08qgh3Pa55w1PVxbOedGu9HAtfXDffiwOlzb89S3+xy5tvXVdm1t3s4RHmiHI88Zn5xDN7RY+1aHIzvl7PYM59Rn53mu7Rm7pq7VT6aTiqeiSqaon1AqmVAyFlciGlca+0qkFIkmnb2lkinFo7W00G4iRXlakXhM8Tq5pxJJUS+dah67g8db7SYLjuzIIBlPKRFNKhaOKxVPKQ3tbk8qlYgqHgs7LEmlanUPWWba0a36ar5y9BIMwCaxT2z+Wz1Jp2r07c44xZVOROt4TCiRqP10VyKZUjgaVyJVoxjjnoFDzcfbfx9bN351dGWOrek2dNo4c8SW7B7X7LnCi9EBfdDJdaZ9G35Rjv6ZTWfiA+dWbu3BY/127Jp2eAbsyZQF9zPllEB2YFE6pXgqKa5T6Tobx86TGXu2dk+9/6aLNramv7U6jB7HE2BjLT6l04xbLfbBYyKBPWKbNUoma7EzE/uoAy8cbczhD94p5xz+a9uqxVqeNxmZ3E2OZvtcU8/uW33aaSm70Q4vJqOGaG8gBmwxRY0SrEoJ1e5JSexpl1ElUMXxpZwiJhUFRFNpxdI1iqXTCseSikRjUk1aqklINXEpHZXSEckFvs0jV2Z/KAFrXMwoTBGyoYjnMQB2fo1LO7SHgpli2X3ri3YNyDKDH7vPsxgY17TBbj9ks7agkXP6sp0ynmXnV9NWl2urw7H+c1zTHzQZDdnwbnzAM23Qj/Vp7dAfdNE29022nMM7fPE8/cMnR3bqcW2080kf6lOGnGmPX3tbv9aPtW90UN92k7nVJUCmXjab8WP0ZB4zdcfka/xybWX0xTnPGm/GtwExdUwnjAfqR+NhJWpCSqbDSibYo0oxrvGkEtGUYtGU4omUovG0UomUYuGI0sge/azBgaUVJcB141GjmlRaNemanPs7acYPmSAnzp3sCKzhK5JWMppUOp5WxB9RyOtXOk4AF1MqQbAarjvWyhn50QbyZPxya0u7//OOxX1KpcNKp9F/bASHXaME/CZrlE5K8WhcNfGQapIR1TBZgd9kQlFsJpVSKJ6Uh79yTtWOc27xqZtjyRigyza+jA/XjA9lnGPb2Ab3zObQgVzboMl01PQU+jmHbo5cUwfsgi+7psx0k7q284zt1EEm4KM9Z+3zLO1x3+SUrkkrGIvIG4somIwpSqBYQ3t1Np6WhBjNbWdrDtTjWXbObXcFxAJxvJmkiFJpkiBgdkR+f7XiidpPr9X6xLTiMZJU6HVt0MU4wy/jD15yjSxs/JGB8W7nJlfK7R5lJi/kkVnX6lNm48KxpWzQD0/IBDky7vDyQ9saKVhF2xGWaXBt4FWrFEkFAgQfMQUicVWHYvLHki5gTaSlaDyek8GqASVKzDlKAT/ZbJnGxTNmCLTDxrWVY1wGLpn3zJCsb+rwjBkt5Zyzcc8CIdo2RaYNFNlAjLq0wbPU50gda4t/wTGlN5qpD3BA5+1umf0bfciRHRrZjD7ap0/jj3LOAXXucQ5IE4wwlDhSAAAgAElEQVRyzzb64D4757TLEZ6oxzntEoTatdWnTcoMFKl7Oxt98Twysr5p0+RKGdf0B8/QYfTQJ89Sl3J25Ex9znmGc6tPH/THhMMyzrFEWPFUQDViHCOKRYOKR8KKhaIu25hOSam0FA4nXBbSBaO0zUQkmVCAf3ziu6fxmBL0lUgqEmaieDtSaPy6yAP+2ZAL/IdDYaUTtcFqOpYWeyqWUjJGdpkAlYA1olioSqFAlUKh2n+2og3kaO01PvW30wN6FFY86VcqTTCN467VZ3xpKikxpm4ej66mIm5yn4qHFQl6FY2EFInF5AuGFU2lVR2M1gWrOTageIu6iQfjYPqPTRjOmr5j73Y/d8etdoyhGR4ybZpzdmwZ/DK7hyc27oED2D78IZdMPqlHmeGI3ec5ZEU5z9pGfWuHHhKqUVQ1LnzknOxqLIHPrXPXjRysErjW1MAXE5DaxA0yYCOzGgjgnwhka7EQvriPrOA1ExMzrzlHbuABR67h3eRs2Eo/lIGbHE3eyI5znkdemTI0WebqEflANzxDO+fw9kPbGilYRfMz91qnYoCDEnHuDUbkiSQViKXlj8QVTfBKglle7mVWUQBoRulRBLvORiGMbwzAOdaMAM3AhDooG21zRAE58i1FAyu7T11A2+ignDrsFrhQRh0+EG5t8Rz9scMHAGBtc48y+KKM5ymjD/ugOMZMud3LhnfqGJ027lzTN31ZW7RtHzuHXmTFDg3wRF2uqQ/QGLBYm9AM/dQxB0dd+qK+9UM9nqHcxoJ79Mk92uVj60Ybz1KezUY7Rrc9Tz/sjANtww+8m2OhL+im3OSNHIxm2uQ5aOA+7XKkjHvGM/fDYb8SSb8CwSr5/ZV1GQzqpRUJx1Vdxd+YknGtcRlT/KMLVMlS1fVD+5S5fsjCfY9JSTayupM6jB87PCNbZBGNRBX0hBWujioZTSkRSigZSSgejioW9Cns9yga8ijsL1ck5FEwGHDPmh5kO8Z3QvftP8uyqLBqyEilwopE/W4pgBujRNJBbCKeUsDPMqmURFY1HlQ6HlI8GlQo6FcwFHG4Gk3VKJSscW+ykjmYNUKX0WvGAfvAHu3IGJmNYF+cm/6jB8gjF8cvk1ZnT3X2Cz/wCs9mw/BKfcrZwSZ4NF23I3wa75zzDHjBOTvt0Rf4gpwM+529uAx7VKF0UuF0UtF0ymVWwYemClbj8dpkid9f+y910Gp4D41keeEhFqvNonLPeMAP2Vg7fuq9qTN5Ojyo+96yyZn6PGv/mkdd5GV9c25t8wznLWUzHtEDSzBR9kPbGidYzYxTOXcZvFoFTCZZtxJVOBJ0bxuiNQAoywCkRLpGYZfJyb1g1QIbMxwMAgXPZsMwLDjhyLO0hwFxD8UiOAGwzGCoQzl/jWh9UdeCJ+7RBjQYeJvjpg3opA5l9GnX9Mk1z7Gb0XLOPcCPcxSf5y1QpR3qGt3UvZ2NtqAB2miHc9qEZ/izeyYT6vAM96DJgMrqc6QudahLu/Ys9+ABuXBkN75oz+SVKVcCe67ZjVfrM1s+ocP6yzyHNmROGbTRF+f8TSb1GVMbM45GN+fQQ12ehy67RzkbfFGOHDzV5QqH+cvNsHyBSkUTYYViYYWiMYUjcRHYJCKs6eRVf1qpuqwqjoplAaxtjZDZCNYGz2RbWd94eyOdrbS+fz3TJcYb3pGBI5JMY4wEY1o7t+xU0bUiJSIx1aQSLngL+iqUToWUjKMf32ZQrB2OubWllUyFFE/4FU8EXF6sdg1rSqFgWMFA2C0DiEXTSjLhiPhdZjXNusB42E36WeLh8YcUTqRVHYpo/9FTihLo5tiGjiN/cMB0nomc2RN6b/exSyunPuW5N3a1AoYvdNRoNCzmGj022zeeqQtP3KMMDDDeOHKfNqnDs4bl4DL38BfcxyYsoWH1+T1INJVQKJWsy6zic1lq0nSZ1WiUyXJKkXDU7TauNW45AhNy/AM81voG+GO8zeZNNpQjH2TCEVyFT4JR6nJtmG/BPPKgDFnRDu0iM3seWngWmaNfLWWDXviBftOBlkL77dDZOMGqvf0H++vwv1YJCFBCmj5jon71X/+h/7j3P/Xv996n519+XYeOnXTBaq3h5F6wumbNGnXs2FFt27bVE088oRdeeEHXrl3LStYYFEYydepUtW7dWl26dNHIkSOdYaFozIZWrFihPXv2OGXDUFA+jGrhwoWunLLTp0/r1Vdf1TPPPOPooP6WLVscLR06dFCbNm1c+8eOHXP9jR07Vk8//bTefvttB1y0ceDAAXXu3FmtWrXSkSNHXD/0//HHH+v555/Xa6+95gAPur755hvH84svvqhly5Y5YIAuA4ismK97VYsRoQMXLlzQxIkT1a5dOw0cONBlHC9evKjXX3/d0Yp8Hn74YScPwAQgOXPmjOMBIAaEAKT27ds7Oa5evdrxClDRB8/MmjVLR48edYBz9epV1zbj9sEHH9wEp40bN+rZZ5/Vyy+/rH379rm6N27c0KBBg1z57NmzncwAgFsBF/ywIQ/6px3GoVOnTm7cAFTGcPHixU7mtH3+/HkHhufOnXN8Pvfcc+6ZHTt2uIwuNDI2vXv31qlTp24CL+0jhw8//FDXr19347Zu3To3Zt27d9dXX32lVCKiQHWJJrwzQs+0a6XR745RYUWZQsmEPtu+Uy+//Lq6PveKvt572AUssZq0ewXIjyounjyj0YOHquMzbTXnvZkKBEMKJljXlnKLebId66aoh7wZa5zPtGnTnN60adNWHdo8p6njZ+j0N2c1asgonT1+xq3XjYYCWrnsE7Vp9YSebddabZ9upfbt2zl7GTBgwE07pN3c2tKKJ4I6fvKgtu/YpOrqMiVTBD5p7dmzT5s2blMoSDAuRcNRJWMBBbzlWvbxfLVv01oP/+EhtWnbTp2e76oTZ8/rwtVCzfhgoeJk0nJsA2+wJ/Qcm9mwYYOzI/AIHOL+/v37nV2AU+AedSlHF5p77OjfdkQLD1OmTHE4DQ/gLvehF0yD9kOHDqlbt24Ozzdt2uSw7cqVK85PgFeffPKJw2Lwh2eRz+bNmzV//nxn/+DgmDFjHF7hyEtKShz+ISfwlX3RokWuXfpl/fKeg/u16rMNKqqqUMxlVmvcWxXnp1GLu7gMgB9Ys3SlpoagkmUsERUXFatfv6Fq3aq9li9bLZ+v9u+FyaSySKHgynmNHjNEHZ5tqyFDBquoqMgFYStXrnT22rVrV23fvt3JF7zGl+Dj+vTp4+ryBgucxMchQ55jLNhnzJjh/AY2z18yIxPkSV38ifkH9InxaSkbscWkSZMcv/ieoUOHOj1oKfRnS2fjBqsof13AijJGoyEFgtXatHml3ur3hnr26aX/759/rvsf+KMu3yh2v1RNukVYuResohA4R4I1QGTChAkOJLMVNAEhgREBLuBDewReZNfGjRunn/zkJ9q9e7czKsqZNROA/Pu//7vWrl3rDHbbtm0aP368e47nMSjaAsQAM4CJtrjHMygwwRuBF8Ewxt2rVy8HapxjpIDjzp07nROgX4I/+iCrAchCEzT36NHDlRGAGehmyzv0QCeAMXr0aC1fvtxlBKAROUI/QSHgQaBNwAdIITOc1lNPPeUmCMgfGgnYCbSZMRPkEsQjL+p/9tln+uUvf6mTJ0+6sQLMt27d6gKSfv36uefgh7G4dOmSCzAJDAH+d9991zkC+hk+fLi7B7/Q19CG02Gjb0ASugm8kR3tHz582Dkk+mUcCKAJ0OH1yy+/dEDLc8gTXpYsWeImMVyfPXvWTUIoR27wRju///3v3fjimBg/gnGc+aCBAxX2Vevgrq0aO2KgqjylmjhzsuavXKILxYV6+c1eunD+ii4ev6QRb41SwY1ChZV2mVOyqeOHjtSmFatVea1YfV5/U4eOHFZVNKQIryUbYr4ZyxgP5IZc0J/Lly+7tbXHDp3Sw799TAN7D9aDv3lIhVduKBVLKBr0uTWcZ08c0aF9u+SrLlN1dZVzZMiadtBRznNr45VwRKdOH1a79q01Y8ZkjRkzStOnT1efPn01aeJ0eaqDbt1qJMhEpUyJiE/JaFDe6nL16dVTR4+dUDASU7nXr6JKr6bPXZizmVXsDttg4maTZgI6zrnXs2dPZ7/oPraAnYGB2EZzjx10QAP+Af0Ei2fOnOn4YRJLMIUtU49gCAwi6QD+osvgGBPZOXPmOAwGL8AjSyiAn2Di7373O5GEQGeZBJOIgH+wlGQItsAEuLCw0GHlG2+8ob179zr9/vTTT/X7hx9Sh67PK1qTViSVqI1Nnc+9+2tWU6yvTpMdDimRDCoW92v8+IlauWKTfJ6w3p0wVbt27XHBe1lZsUIhr96dOFobN3+qaMyrFSuWuwAT/CbAZLzxW+gBAel7773nMBO/QQBLMgBZDB482OEruExd8BG/gB4xBidOnHC4UVpaqpdeesnJinYJhG1i1Nz6dDs4RBIH/UGX0D981g9xa5xglUkJO16uLmBlQXUiGVYiEVA84VE8XqXjZ47p1w89phXrNsrL2rJkqm6Wl3vBKoEJIAN4EIig9BhJNhuKz0wOEAE4CGgAHtqkPWbKzLABZoImABtDGjVqlN566y3nVKlLkAz4kHHjefq3rALtY4y0QV2M9Pjx4w44mdXj1L/++ms3EwdMAT8ykATE69evd6CAEwDsXnnlFUcjszScBMr/0UcfOUCwwPNWAVxD8qAvQJpAkz7IDEJjQUGBA3EMjDqUDRs2zNEDGFOOY4ZvsqDIBUDHUUEH/EMXoM09HADyeuyxx1wgyjXBO8Es9BLs4wzIyjD7hDf67N+/vwssCf6QP7R+8cUXev/9910/DfFEe9DHRjvQQkYDQKWcoJRJABlrglAABRoBR3SHDCmBO7QhE+4BmIAwz1MHeshEM6GBbrIIb775phtzAmHGm/Gn/ptvvKFLp09q6qih2rtrqxKpqL4+e1yvD++vzfv3asSEdxWPpxTxRjTqrVE6cf6CvKmY4umUyguLNbhHT5VduqF0JKlVS1do5do1qoyFFM7RYBWe0SfeUGBP/Hr45NFTGj5wlE4fO6uh/YbpwqkLSvLJplhYVy6d0/JPFmjShNG6cO6kkzvZFOyPdizYaGism68srWpPiQquntHLrzyvxUsWaunSxVq5cpUGDRyiD+d9pHgspVAgrqA/oOryInkri1VadFWnjh9Rxw7tNX7Cu9qz/6DatHtWzzzbRT16D3A423w8Ndwz9mw7gd7cuXPdxBV7YHzBA44EduAGuk9Ah/5jW80dXIAH0ACOsTOJBKM5QidvvcB0dA2s4K0I2MaEmQk6vBFcYevUB5fI9IFv8E4ZgSm4QjKBtnijQnCFLRCokHEmWGNSjD4jFwJYJvzgGudzF3yogaNHyBsLKxiPOjfdWMsA3Gep3Kf0SKyEVFVdrM6dXlJZcUCJWI3Wr92oxZ+scLzydYBgqFIFV07K47uhVMqvL3bvdDzi2+APuYKL8I0fADvhEXniE/F5yJwjcoVnMBwcBoORN3LFn5G0oU30izFBxiQtmCiB582tTw1bScOl8EoyCf/Oji9BVj+0rXGCVeSUGbDW8CtHPlsRcYFqIlmleLxcL3XvrOdfeV2BeFKVvqDiBFGk33PwB1YoOABAlpJAA2DJdkPxMaZ7773XBRvMggg8AF7Alp3AhQAJJSPgYSZOUEUghbFhZMwumVkzgyRoIWABJKELYFuwYIEzRICMV8kYIIZMwIMB86qJfizQAvwwYoI6+kMZCPYIbg8ePOgCYxwI7VCPwIsNWm7HGKAPA4IW2oI/duTArBmwRQYEygTtBG08g8wph35e6dAvdJEthS6Amdc8ZIPhGd4wXECHJRLctywDfQPiTDSQJ7NywAw+kAOyefLJJ286CoJ4AiH6RF71N8qgj7GFftqHVviDRuQPGAJ+AAkgiw7cf//9zjkxIWApCeNLptjkAFACzmTChwwZ4nggoGLMkQOzf/oik8BrLfpGtlOnTNHeXTvV84VOunL2hPxhj4oj1Xq849P6cMNqvT1jusLBuJKBlCYOn6gtu75QQGn5wyEVXrqiV9t2kioCqvGGtWfnbk2YMlkV8bBCqsm5zCpjhpyQNTLC8YweNVq933hLv//1H9S3Z389eN9DunLhigtWI36vVn+6TEMHDdCgfj01ZNAA9wzPMjkyPcg9B8W6Rb8KrpzR6DFDNWLkYHXs2EG9e/fRsGEj9Nnm7Qr4w87xJ2Jx+SpLlE6GdfHcSfXv00tf7NqhCe9O0vSZs1XlD+ri9WK9O2OuQtHc+6Uw9k5Ahp2ARYwLdo6NkKFkjNB7AhTG2wIT6mMDDdlofZttzGvox/7taFiAn2CpCoGi4Rn6y7Iy3sSAPeA6E3ACW/AGPOat2KOPPup4gz8C+KVLl7rEBlhPW1zjR7ADMocPPPCAkx80YB9MnumDgIwycGL77l0aPWm8fLGIAvhkXr4T2PBSAZijAP/Nnu2LBnu2LjFlb1MJVhPJiNI1MaVrIiq4ek6dO3VTKi75PHFt37ZT74yb5Ja1BEP8eMqvULhUsXiZqr1XNXBQP5cxJpgE75ENOE3AzrjDE7KEf7Cf5AsTGWSBDpGBtuV2yAq/gN+hDgkN3hryPO2T/WZCgdy4bm59uh1dxT8QW/Tt29fZBQE6+vdD2xovWM0MWPkBR6ruoxk1AcWT5Tpx+gv94z//T23auUsVvrCCsYT8ITJsZFVzL7OKsQAazOgJiFD4bDeMimCKZwAMQImgjOCFa9omGLGglGCHWTLGNGLEiJuBFa922JlNEtwQBPE8BkYQxqtvHC5BGutiyWAC8AQ5BLcEThg1dTBGnABZVQJRzgE3ZuEoBec4BRwIdcn+kpnknDZvx5ipa8ACrwANzoiZLrQCQhjXvHnzXJBG+4AxzwAcBH2WWYUuAJqx4BlebTF5gAcAn1c8ADS8AtIExGQroIFMM0DHPeTK8/TD6zbWLhlY0bb1A70NBTGUQSc7dNIWzwF6jB0BtI0NIGrrUAm6qYPTZbIC/7zCI4tOX+zIBSfNOEMfwIv8oRt+eJaxYCwBW/Yxo0fr2IH9GvhyVxWcPqZoMqLCUJUee76tFmxdr7ffe0/RcFIJX1wTB7yjDTt3qDqdUKXXo2B5lbo92U6RwirVeKPatmmLps6eqYpETL6a3FyzynjCN7bIxOTI4SM6cuC4rp6/rlgwpukTp+vi6QvuB1ZbNqxXp2fbqkPbZ/Rsu1Z6/NGH1a5dWzcBIruKTjAODY1ztjbeOPXSKim5qnPnjuvUqW905JuDGj16pNOXkydP69TJ0zp96oKCfn5QlZSvolgBT5lGDhmg0yeOKh6NqKy8QvMWfKwdX+6VNxzRouWr3Y9qGofe798qY2kZReybYA5cAMOYoGG72BM2wUQNm/j888+d3WGDzT12YAC2yxHdBAsIosBSaEW/CJQoB9NYM0859g1PLDti4k0d7oPlBFgEs+AXuMEEGmwgKKEek1qSC+AW/oM6+ALq41v4rQG4htzAGvreumO7Bo8dpRi/o0glFGMZGctfLOC8i8Gq+xFjKuq+rcqPPq/fuKRuXd9QyF+jWDitPbv3a+qUWU5e8URYqbRfkViZPP4CjRzTRyNGDnN+Ez1AtiRvsFeSNIw5cmYSQ1DKGzTkyFsqJgfIjqwz8iOLTTl4iR8hgCVZwFIr2iazzfpeWwuLLjW3Pt2OJTG29lsIbIgEDbz/0LYmC1b5UUAkygfavQpHSrTryzW69/5f6dCJM4qkUqryBRQIE4DwZwCZwWqs9o8BmvFPARh0DINgE+AEYDCe29n4QQ1gA2gRrAEypOwxOgwGQ9q1a5cDKgJRmxXed999LsOJMgLOBLoAOwELr5R5lmCUYAelZYM2snU8w30ypbRPIMd6HuuT7CIBMcYNqMEjyk6QSuCMQQOIgBxZKJ7nWTbavZ0NACbLAP+0RYBIMGm0AL5MBKCZwA8e6ANZ82oHQKYu98mq0B50EeAiFwI+MjG0/eCDD7pZNI6OQISAhmeZlZMdZqkEbUAPDgV+eQ0HuFtdAmACeWjAAdXfGAPkBZ0W9DLG6Af98Bz3cBxcQyt8MKkAOAmukQX1cMyAKrwCsgSkZJlxMuw4b8YXJ/Vv//Zv7lnACLrpA1n0fPNNFV26pA/Gj9PurZuUSMW0/+wx9Rg9SDtOHtUbQwa7H+MEKwIa8fpgfXPurIpCPkUScdWE43r5qfbyXi1TyhPWonkLtGzNSnlrUiqPBXMus4rcGU/kztjgoJctXa4xI9/W+NETNO3dGdq6cZsunb3kvrNaXVGqS+fPaOKEsRo5fLBaP/W4WzaBvhA0oPPIPvccFEtXNmrs2yM0dNhgjRkzQkOHDnGOeciQYRo2dKTmfbBQVwqKFQlFFPZXKRr0KOCtVOH1Kxr/zjj16z9A/QcOUu++/TVw2EgtWbUhJ39ghR4zltgDSwDAH7NxJuUEq6x1x47YWfrDBBs9sGfr22hTXkMH9BsugCvwwfIrW/ZEGTxBL9k/MmDoHfzwap+JN3yD8dTlOZZigXlMrsnAEqyRcQXTCbKY+NI3ARx1aMvWu/OmDhsBZ6jDD6x27flSw8aN4Wun7purfGe1sYLVGMsMUryFiygWD8rjK1enjt1UUhhRJBjX/A+XauWn6x3NLAOIxCoViZRp/MQBGj6ql8rLS909eMIngq34THhiBxuxYQJ9glZkBgaDsfgTZIuekNXG11gmlYQPCQ3qIEMSR2Awfpl2bSybUn/upC9iASbsyAndInbAx/3QtsYJVnkdUO+VAI7A58c5h+T1Veid8aPUqUtnVVRVK5ZIKp6oNZpah2HfWq374jWBKgFsM23QhIMkKGJWBiCh0Nk6N+oR6BKMkTVlpgfwYGC0i5JhdCgc7WJk1gf9EewAcoAboAZQEXSy/hVwJ8glGMXQMFiMmB/wEBDTJrNuwBHww7Bpj2cI2Aic+OIA/aDgZATJUGLQBE28jiZwQ1Fw6sYzdN7OBk3QSuDFulsylwAtGQD4J6jjNQ3AikysH47Qwo8RkAs0EFxDM4EdvBHYQQ99YKzQTTCHPFjzhVODf2SG7GiDrAaZDHbaINDnnLWsyI7AEAcAzdBTf4MuxgQHRZ+MJbN2Mh/0zTgz06ddZrpMVHi1Z6/uAVAmCzhhwBX67NUgY0YbLFugD2hgB5SYhMAngTbjy1gS+Lrxj8Z0YM+XGj5ksPbu26MBwwbr0w1rVe71qP+QIVq6dLkWfrhQwwcMVXllpUoqK1RYXKRkIqmZk6dq2qSpWrlkuSaMe0dHjx9zziyUiGX9NrC+jBrrmvFgvJEJusPyl3kfzNOJ4yd08vhJHT92QkMGDdHVK1eViCfk93p14MA+zZs3V0cOf62TJ0+4iRdvEQiAkDHtmc41Ft233y7prpQOHtqvjRvXu7dT0Ak2oNv8uxgfUA+Hou5PHKLhoCJhJjgBff31IWezOOljx07o5KkzOnrsuMa9M8F9d/f2aWn8J9Brxhb9x8axAewJrMRmmZyxfp23CmAFNoX9YQvIpTk3dJENXWJsmBRj92AJWMA4wANYRQKAgBRMBW/BQgIxysAI3jrxahestwwzcgFnCGgph28yjUzGkQfLicgMgqPg0OTJk10bBHf0h3x4fueuXZo2Y7r74w/+gCdSt4TJXt3fzLCa/85GqKhp/b0uwVP7RQD+JY8fWyW0dOkKTZ82R9s/36VePfvqzJnzDs/Onz+rYMinWbOna9Dgt7T3qy907NhRh3nIjy/xYK/oBLKBT3QDDMSXEXSClyQEkAW4SOCP7pB0wP9SF5+Jr+PrNgSnvIHEr9ImeE8Aa743G9ZzoQ5+Ad6QE0tE0A8m8D+0rXGC1QakhAFjMBgZAQmZvFWrVjlFpYwNZ2HnDTTRbEXQhQJjCMzOoBFesnVuBjQoFUESnzRhtoyj5R5AxyyYtZpcs9EHMsPgmC0SqAGEBGgAFAEvCgldvCYnCDMjw5BpEyBEcTFMgBJ6AURembBzThsEuAABM3MMmTLWTcEvCkKwR1AFbeYUjM5sBsV4hH5AnMCK4Jy+4APaCPagAZnU3wBbABkZIBOyn/zgCNrI9gLC3DP6aIcAF1rhhewrfSJLngeQkCl8sSMH2iC4pC504Qgpw4E2pJPIkvv0CX2MHTNaMqTInKAc8IMugJBAGUeDrE1/AFvGAQCFVrLDPAtfZFKpj1wYV2QHfciLa9rlVSH9wIMtMWHceQ6HRxDLM/SH7iED6vMctFPGBIW2CKoZG5wcusg4GJ31x6O5r5G90QbtyItJFWOFbMxhoQPIjXJ4Ri9wUPYsNmNrhamTrT03Jf/oF7poNoyeQD/0ostsjDl6zj1sCZ6xC5afIB822kFHmSwho1zcCDqhH93D8aKv/EaAAI8y3n7AE7YBDsM/vJocmpMnowF64IPJJzZowSdBBG/A4AH8YszIgMIPWIg/AJfQT7KBlKHTjCt6yZhx5BnwAnlQFzwge4vN0zeTf/AAGdGGBf08zzPIEn2CXnSD8qbUB/CPMQX7DGfQSxIX2CuTR+TGDjYyOWHyAibDJxiLDsMniQiuqQeuEXTSPrLkHP0Bg+EPXvEhtIFfRBb0h5xogx268HPUxZZaygYvyAgcJJtPUioXsexO5Ql/P/rRj76zmf9R/+5f/uVfOsdfv/y7rjEOBAjQ4igxVspQJMrZLdj4rnaa457RDX3QzRE+2LPZeB7QIXDAEAAz4502aA+Fw0DMGVHOOf1xDxAHnLhGfrRHHdo2wKE+7XIkyAH8uE8ZO8+xdpb+oMH65AjQ4QDZCVy4Txn32OmLnf7ZOM92oz/65xl7JUU7Ri/tZ+pB/Xa5x/PIAB6MF2TJs7RDHwAV59Y2z1EfnrgPX/TP88iGezxPmfVhzyBrzumT+vU35Er/HI0m6xcarD3OAWPqsNMvY2eASBlyMb3gOZ5hN3lbX/AArZRDE+at6EkAACAASURBVONDPfq14AUe2eGLtjnCA/e5pq49yz3OKaMt7tM//UAPO9e5tiEPkzu0E5zihMhOsW6PzD2v95EzOzzg4FnmwWtU6rCshHOcHLzDM23m2gbtOFmW/LCujjcMfFeS15g4fHg3/UEW1IcfgjnqkDkynlkHTdAEr7m2oWvwgT6bXqOPlHNETw03uU9deOXIfXS5OTezV3QIuqCXMo7slHFtPEEv42A8UYfxo9zGED5pz9rgHHnwjMmKZ8y+CdKsLlhIHeoa5tEuu/UNPbTZlLKDJnaTCbiUyTP8cM/KOHINbiIP5JcpM3jgGdupw4acaJsjZZyb/6ANGxva59p2ow85tZQN3vFX8IRsGPtctPE7lWeTBasoAQqAQA2AKLMNo2HPRSGbQZthmQHBSzYbz5sB8trdzmmPc3aMBSVDRsgFOZjBEXjSF3UwOMrZTH7c4znu2zn32HHWlNMXSg0txgeKDS/m1KlHX7RPXZ634Ij2KTOere9s+IcXo8uAA15NDvRr59BXf4NGnqcd7gNc8EAbbPY8NFJGfXbq8hy0whNHdmiAZ2RJm/RNGXU450g5AEDbt9qoR/vs1KNPcxyc0yZH2qIu8kOe0M41O89BE7RTzjVH6lJmz3MNbYwZ/fEs7dIfPBtfPANvBMicc5+jBeo8Bw12z/ijTdqnLTLFHK3sVvw3VznjajIznTSHDA/wD3/IznQFXiizzXhDHrSBXJFnrm1GH/wazdBLObxSzjm8cs5eXwcZS+RDHc5zdYM+bIZxgDfGzvSdMWXcuU+58c4159xrzg25Y0tGO2NEGbbMuHEOf9xnt7FAJxk/6lHG2IE78MQ96toRHk1XbcypRxnP0wd2zjVtsfOsyQY6rA/TH+5Tv6k2s030EBrwN5zDh8nGMBB+KCfJA3/GKzTzLPUo44geUJ/22eGTo8mC+7SDbDm3caEe58iI52kbObG3lA3+2eALuo2HlkJ/tnQ2WbCKIpryoRwIFkVpCZspMkaFIrBjJAYCf4oHeDdjQ7EwIJTKjBO5UE4Z5/SDbOjH6nLkmvvIzsCGNngOeuwe54C8AT3l1hb92DU0AY60zTO0Y/1wbqBp96x/nqffbDd4oR+eYzf+KOeavmibvSGZ0hd14RueTIa0gxxog2c5t3boD7CCduPJZEodk5nV55q2qU+71gcyov36GzTxLPU4EgzQH+1YW/RrtMMX57TPM9BiNCBnaM+8tkkDfduztMe1tcvRxsbOkRHts9Me/UAX19SFVtqgzOiBX56z/jPlBP+5tiEP+DGZGd3IDDmww0/meFAH3nmGHf0w/innfkO619y8Q5uNLTRzDe+cc7T7HOGLI7uNdaZ+2DOU5dqGzhmt8MEbIPQSXhgbxsrGi3J4QY+5Z/ranDyhO0Yr44LuGY5AJzv8cY+jjZPZIkfKbKypA7+mkxy5tjoc7T7PcE3b7MjEsIx2rU3OrR+Tm+FFU8mOfk0OnGfSxrlNRKwO9HJu9GbWh3/TG3SGe3bf6iMPxoFywwNkRX2wzeihDBmbnGm7pWyZemEyNb1pKTxkQ2eTBasonSkD52ZoVpbrR1MCaGfHSG6XZtowMOF5ZEBbGIoBLtdmdAZAlNGXKSXnlLFbGW1zbtfU4Xmrxzl1MtuhLtdm8Ny3enYPoLD+qcte/9rKv+vIM7RNuwCktcE1fbDf6nmeq38POdKG8WRtG72UA0aUU5bZBufs1DG6qAMt7EabyaN+31zzfGZdyqwtu29l1OOcPbNN6zPznp3bkTaNHqtPG9YW57ZTRl/I1/STe+iT6R3n1jZ1qWftc6QPnsmk2ernyhHabDxND4y2TFngkCi3+vBnzyEHyjlSbjKwdnLlmEkbvEG/8WA0wgf17Eg540p9jtQ3HbBncu1o9EPrrcYC/uCHI/RTF33NNV7q0wO9xhfn7IyN8Ux9ztmNP9Nj45U61g5jabqQ2R510PmGZEI92rd+OVLP+qtPc2NdQwOyoH3jEX6szI6ZPBiPVkYblNFGplxpz2TDfWvX6nJtbRl/1qZdc592jA4rbwlH4/27aM0mKMzVOk0WrH6XAPP3agOZvBzycsjrQF4H8jqQ14G8DuR1oDF0IFcD0WzoavRgFYHbzCYbgvJ18hLISyAvgbwE8hLISyAvgbwE8hIwCTRasGpBKul0Uu0cLQWfP9a+CsrLIS+HvA7kdSCvA3kdyOtAXgeaQgcs8GuJx0YNVllbwjoK1pWxsz4mv+dlkNeBvA7kdSCvA3kdyOtAXgeaTgdIGrbkrVGCVVtrwUJlglR+6MKPPvJ7XgZ5HWhMHeDbuL66nX4iCgbY+ZJC7fcGv71PPb4CkM3emDTfzbbhkc/YcDR+aT9TLpnyuZt959vK23a2OnAr3az9trWTYyCskJ+/0I0o5K/V5wBfQwmxB+QP+RSos3WOrsx8bCCosD+oiL/2GAwExbM+nrU6+eOfXTxCLNaSt0YJVsmoErASyfPZCIJVy67mj99+gDgvi7ws7p4O8N1BnyJRvg0bUCQcVSSUVCRUU7fXThy/rcMnwLDLbPaWME7Gb0qRcFKRcEKRsL3VCSgS9SsS9dbJh0951X6n8e7JvyXIKE9js483Oul00z5GH6zTTeyRz86F62w3oXggqaQ/7Y6REN9WjikYjSgQDSoQ8ysU8yoc9SgY9cgbC8kfjSjMpxFDEaUCtXsiEFE0HHHPeWORm3WaXQ4ZH+LP09I0dslb7pa85YPVvNHkJxI/CB0IKxKtH6ymFAmpbrfvMPoUiRHQ/hCDVfhNKxImYCVYrf2upQve88Fq3s5zwc6ZRKKXHB09BKh815k9M1iNKxZIKR6occfaYDXugs5gNKhgtC5YjXkUjHnkjYfkj9UGq/FQROlA7Z7MDFbjkZt18gFi0wSIuSTnfLDaQKiez6z++RlCLhnlnyct3ydYJbuYzd4S9JnMaj5Y/fPU/Zagn7eisSH7iygSjtS+GQnyZqR28hUOx13mNBwJKhz1Kxyty6zmg9X8RCyLiVg+WM0Hq3lDycJQ8k70Vs7qbpXfRrDqlgoEa7M7OEW3k/Fhb+C6RYxvPljN29jdsqXGbIdlN2RQ2bE1y7SSbWWJAH0HRUAaiMTkj9QoGOYvdROKhOIiaxoPBRUL82aEZS35zGpe77PT13ywmg9W88FqiwhmsjPolgt8txOsehThv7Xd60ic5Hfttu4z1+WXD1Zbru7mum7dTfpYP81f5RJsEqwShPJGwJau0JdfoahP3mhM1bEa+SK1wWosGBev9ZOBoBIhv2LhjGA1kV8GkNf/79bTfLB6G8Eq//fM91YrKip06NAhzZs3T+vWrVNhYaH7mzj+u5dfQuaa0vEXduyXLl3SggULtHz5cvF/7vbfz3+KXp6trKzUtWvXtGzZMvf81atXxX+Z8x/Xmzdv1kcffaQzZ864a2RAX6tWrdKSJUtUXFzsyvnf5K1bt2r+/PnauXOnK+N55Ml/0x8/flxnz551/69Mn19++aU++OADnThxwtWhLjSsWLFCixcvvvn/2/yP9KlTpxxd9Edb1L1+/brWr1/vaCsoKFBJSYlrG97hpyG+aYu+OTKeHA8fPux4gC/oR37IcenSpfrss89cm+jAmjVr9Mknn+jcuXM39YFnFy5cqC1btrj+aRM5fPrpp0428AMt9HnhwgXHG3KjDv1B66ZNm1z53r173afTqH/58mWtXr1aK1euvMkXfCNX6Dpw4MDNsWiIz9wrC6uqulTLP12kqqoyVVVVq7rKryuXC3Xk69OqrvLK7/fJ66tQMFzl5FJZ4df5cwXatHGbgv6wwsG4Av6odmz/UoU3SuXz1GV9cmwywljzyRt0dPv27W68Vqz4VMuXrdbJ42dUUe7T3Pfn69Klq65OVXW5Vq9ZriVLF2reh7O04tMlOnbsqMOgqVOnOjtGV2g318bV7BtbRve55oer2MjRo0edfWFjlMMDx/379zsbw8axJ+ztypUrDmfhNxf5tPG0L8dgo/iLY8eOOV2FRzACfwFf4CP4BIZSr7l/xEv/0EhAcOPGDadHX3zxhdNN8Gv37t2O1mpPmULhCoUjXpWUlGr5sjX65ONVKi/1KByKufELhTwqLL2szw7s0Y1QWOXhiHz+kC6fvaQrp8/r0tHjing9SkQDqqouUpW/THu/OaSiijKHhQGPT6HyalVdL9ZXu75UwOdXldejwqoKVQcCDkvxGehTU+s7MjLfBs5evHjR0YFO2g+y+YoQuozf27Vrl7NPxphy5Hzw4EF3j2fA7KKiIuf3qE8ZbeJLkPvp06dvYj7+Gn+ATplvwmdk+iP8CW2ij00tmz/VH7yz49uwZ+IFrsvKyrRnzx7nD4kjiCfAgfrt5YPVLINVlAQhE6x+9dVX+uUvf6m/+Iu/0F//9V/r7bffdoaOgjaHAdUf1PrXGMD58+fVpUsXF2z27NnTBXAYXv26DV3DF4r1xhtvaPbs2ZozZ44GDRrkjPDDDz/Uiy++6ACYI4bMPm7cOA0ZMkSTJk3S+PHjnfFOnz7dnc+dO1fQQPAFDRgY8n3wwQcdfRgbTmrkyJHu2K9fP+fAqDd8+HBNmzZNs2bN0oABA5y8v/76a73wwgv6+OOPXRmBIHVHjx6twYMHO1qgF8DA4HEQ8NQQr+Z0qMP5hg0b9Ktf/coFqRgLoA3POJznn39effr0cTxAz4QJEzRz5kwnG5wV4PPSSy/dlAXBJcA0efJkR5vJASfG/tprr7lx6dWrl+MR+uind+/eGjt2rOORgB5DHjVqlOsPmaJ/0Lpt2zZ169ZNOPQ333xTR44ccfK5Fa8N8d98ZWEdPLRX//J//rdmvDdVfn9A8VhCK5Zt0BuvDXCvGysrKxSNBhQMVcnr8SqVqNGypev0k5/8q/Z/dURBf0Ke6rCGDXlHWzbvVigQl9cTqns1+d2z9qbkG4BGD3G4BKtMONj79R2q92bMk6far/fnzNfZsxddveMnvtEr3V/UvHkztXLlEq1fv1oXLpx3uojOMb7YOHtT8pFNX9g1k01wAJvC3sFRJmDgCBNI2qHcAlYcFxPSBx54wNkDE2Twi7ojRoy45UQzG3oaq445V/hgfLHnMWPGCFsGd7iPXYJf4OHrr7/uglXqIiOOjUVbNu3SP3pEwMXH3cGuDh06uICJsSB4YtyqPaUKhkt17foFjRgxUmNHT9bC+cs0ZeI8Fd2oViwakT9Qrk9WzNW/P/o7XYpEVJlMyeMPKeAJqG/XVzR7zNvyFxcp4qtSdVWRNm/foF/c9x86dua0C5bLC4sVqfRq1oTJeuu1N1ReWiYvuB3w6ouv9uoPD//BBWxgHoEONGfD492og81OnDhRAwcOdBjco0cPp4/QYTaIn6AePgwZUo4+EBvgOzp27OjoBgNI+uBD8IfQh+/s27ev0xX8HD7Xgjrawd6pi3+hH/wsmI/PY4zwe4wTfuZu8Hs32zAdx4fi6/CZ+Hpkg58EI0hkMbGFh/p954PVLINVDIJAFYEj5H/8x3904EsQ8dvf/vbmDKghIdcXelNfo+Rk3FB0QBPwxGAApGxogWcAi0CVWTfgiiEy63vrrbcccKBwBEsAMsZFgIVxYlT0tW/fPqeIzKiQEYEbQZYFj8jxueeec5lKQBOF/uabbxwQMXPEsfEsmVLop12CYTKqODDooT/owxlAQ7t27RwYYMBDhw51szecCWMJDw3xDq/QBxBCIwH+H//4R0cLwAK90EcgCJAwy4WWd999V5a9xRCRzdq1a11gyjNkjGkL+p588kl3BNAAG2bon3/+uaMbh44B0wbZp1deecU5e+jGkOGTjEf37t0dnfCGQ0RWyI9ZO+0Ciuw81xCfuVcW1omTh/VSt+f0zDNP6fDhI/JUB7T1sz0aPHCs/L6wDh/+WgsXfaC5Lmhbq6qKkFav3Konn+ioV7v3VUWZV+FgTAP6jdGBfccVi6Tk97KOLreyDOgYNom+Mt6cl5dX6OOPluvrgydVUlytGdNn6/Klq+7elSsXNeO9Kbp2/aI8vhJdunTGjSsZSGwS/UJnaSfXxhW6yPKDkZ06dXJOqU2bNmI3PIJmbJq3BeAT+k9gigODP7CFLBPOm8+/YH+5xidjwA5uQDt0/+Y3v3ETV8YFOTDBJNEBr6+++qrLjIMH4FFzj50FfegkmAF+kiSAPvQVecODP1ihau8VHTi4S126PC9+5V941a/J787Tti1fKhyO6vTZw3qz3wv63XNP6VwsrIpkUsXlVZr1zjR1fPBRrZ87X7HScsX9Hl0pOKMevbqpw0udte/IIYddIa9fKz9aoi7PtNeogUNUUlQsXyigKyVF6jtkoEtqgPvQg0/m2FT6wNiSlMEXoackVHhDgN4S5HMfefHmtWvXrs4HIUPq4iPwhfgN/AM4TdCLnuPLkD184WupD0+0z4QW38JEB4ynf3hmJzlCkIr+QAN+DX9k34hvKrlk0w9ygT/4/8Mf/uCSS9gMvOHnCLChnaC0ofbywWqWwSpCtSUABCo///nP9cgjj+iee+7RsGHDbgZdZtgNCbu5ylBkgqqnnnrKGRPBzssvv3zTIP4UXTgHDG3KlCnOsAi6kAHt4jwAZgyNAJXX3QRQZPZ4BQLoPfvss04JcToYGHUJKHmVThs4IoJcMqEEpiglRg9ociQ7agaJfHHwgAGZTYCCoJdAjiCQWSZBJffJXmAIOAMcHQEwBkH79NsQ3/TJffqAx5MnTzrjIqNJffoH2JkFslPGaxv6gC+yvM8884yrQzaXzCzyA7AAKjvSHjrVuXNn1w98tG/f3gEYmSUAiVc8zNwBRowYR8esm4AVcEOWtIHcCeJbtWrl+APoNm7c6DIA1MlFnfx/ZR/W2XMn1O3lTvro4wXq33+gSorKtGbVFvXvN1IlxZVuScis2dO0bPlHevKJNjq4/7TWrt6ufn1Haerkefrg/SXyVofUu+cwHdh3SuWlYRew5lqwij7gVDJ18Pr1GxoyeKQ81SGVlXr13ozZOn/uktOvM2dPqFXrx9X66cfVpm1r9ejxirMrJoC//vWvnc5jZ5nt/b/ybZ7MMrpIUP3QQw85x42Osj/66KNukok9Qjcywdmi69jS+++/73QcbAVTmPiRYcVho/O5wp/RAWZAF7SDc+AArzPBJgvCoZ0JMA778ccfd7ZOffhubhulf+gA/wi6wFveKD322GNOv/Af1Ll+47zKK8/p8JEv1bdvP/f2ouhaWIP7T9TyJZ+poOCqevd5RWu3LNJD3drqfDyqq5GwDh05prH9hmvp9A/08TuTlar2KeSt1Jgxg7Vqw3L16NtTB48ecf1fvVSg/q/11PZNW9X12U6qrKhQUWmJps6dpWlzZqpt27ZO/6EVfGOCYOPQ2Ef80dNPP+38EliOXi5atMj5DHQdGaHDvPUDgwn48SXQiB0gR/wCOoLfwL+w7As9QYeMJ/jANvBh+FHqY+P4JHu7wKSH4PX+++93vgUfR//YEm01tixut33owqfh63gLit9HLvg78AFMIGhl6VxDbcNTS96a9DurBpLMdH7605+6FD8GTRqfLCWGk4tKgjPAKAhyUG4MiNcG0NuQUtQvQ8nIAPJKA8PjtR6BLwHXjh07XLBE1oRZIP1gRASiKB7BFoEkfQHM5ogIls0AMUhefzBLxCHRB0bL7BOjZ+ZJoEkwCC9kInntj3ECGAR5GDBrwFgTRsCKgUMTgSVtvffee84BYszQcivHDmDbrJQjNNIeQEOAgXFRB/oxPNpGXugGWU0CaAJJMqnwToAJiAFS0EM5AEfADw+WiSaoZr2OzbzhA7BC5siGMYAGZEEATGBPv7RN0Mx4kq0CTKEZWqADPuG5/pjm3nVYp04fVY9XX1RlVZlGjRqthfOXaPPGXRo6eJwKb5Tpxo3rOn78sObMna4O7bpo4fxVLlgdN/Y9nTt9Xa91H6gD+07r9R6DtH/vCYX8KYVDmd+EbJ6ArSFZMy7oOWPDOE+cOEk7d+5VcVGlLpwv0AdzF+ja1RtO185fOKPJUyboRuFlpdOsd+XtQMwtTbHsOeOei+MMLqK72C6TWDCIYA2ZGJ5iQ+gxEzLsFbvGnpELa8KxI5w09g3G0F5DMm3OMmiCH3ajj8kEwTb8kUXD7sEN8I4JOFhgAY4901w8GE6gQ+AbAQSYCeZZooOgOxytlj9wRSdO7lf/fgM0ftwczZuzRA/+tqM+WbReM2bM1Lz503X6wj499tpzOhMK6nRFhYaOHKujuw9q40crtGDMBNUEwlq/fIneHjtUZy+e0uv9e+vQsaOuvyH9Bmjf9l06sGO3hvUdoMLrN7Rq7Vr1HTZYoXjMBYvQhKyQW1PKjjdYYDQyQlfJgqKv+H38CuUzZsxwWI6ek6jBztmhkzEnXuCtGXUpR9Zk3c1XwRfLXpjckCQyv4euUJdgl3PGhjeOyAKfSwII34i+0XZz6dKt+kXHkAG0swSOYJVr/Cgyg2bkS7IHOdVvJx+sNhCqN/SdVQIXy4YAQD/72c+coAkqWL/KbIH7FujUF3RzXqMkKAezN8AI0Oc1FEFnNnQBwBgkYItxAVpk+HAkgC8zRBSQrChBFPV4NY2R4UT79+/vXnPTDkHsE0884QJd5MW6LuTXunVr/eIXv9C9997rZqYEoebEWMPCOh36wCgBfnbGAWfNK36CQtpn9kmQhiGQnYQGnmPpBq/acYgYyHcZM2NI3wSmOEx4hAZkB80EwvDHNe3TFjuyAXAIzskM8eMwnLPd47UQDgywoh7jAiABOPDBWijjEQfNRIDlALZej8kByy7glTZoF3kwrmTLydJyzZhCI84GmWQzxs1fhwnVcfXp01NVVZUOrJ7r2FkzZ76vXr36qri4Vo86duygWbNm6M03eumjRcu0ccM2DRlUm5HctnWXur30moYPHaMvdn2lgD+i6mpfTq5ZZZwAX8Yb2+LtRHFxqeLxpDwen6ZMma6rV6+58bt48bzGjBmpU6dPqKjouqqqyt3kmAkJs3UCQnQWfWr+cfzvEwLsnQkXDggnTwaFZTVMrMjaYcO8CcEmsTdsCFvDTrE98INlBNgAmABmUTfX+MTOoB+6wASwgQAbfGPyCD8sS7IfVWGbYDI6AM/2bHPxBZagi4Zx4B90MQboFdhFoOTzVSkQqlA4zJKrQq1ZvcnZ4NtjpmrF8nX6wx8e1uNPPKLHnnpE/+v//rP6jxurddu3655/+ble6vKi/uvffqn/+r+/0MrFizW431v6zX2/0h8fe1j/+56f6rkunZ0f/dV/3qvnO3XRQ7/7vX5+z79ozuzZGjxksH774O/1VOtW+od/+AcX8KMTyB3am0puZE1JOjDxYpz5/QHL3/ALjCHl+DEy57zp+/GPf+zwHR+J3hKEgeG0g7zRC7AaP4Cuk8whcQEm4KORP2OBnjA2BHO8taQ/rmkP/hkjAlXo4R7tNJVMsu0H/pEZR/wx6/S5xheia2AiPOFbkWn9dvPBapbBKkJEGVEcMll///d/74IL1g7ed999LoDjL1oBpvpCbu5rFJkvF9irBl6REwRlG6zyPMEQGVkUDWMCvPiRBGtNCcBwloAvM0FefxCgElAy2yTwAugwJpwTwS4Kyn02FJY+MFDqYGzMNHlVQH9kEgF91t0ib2RMuxg9P9IiGwt/jBEOAkcIjYAK2UheyZGpITtL24zHrYI46GCyAgCYI7EsKn1CK8shmKRwDX04W17F86UADA6ZECwTTCAnypiBE1gQgJJZoYznmQ2TUYUH7tM/mVSyxWSp4ZtX/MgKQEMW8E/WmhkpuwW0PM9EAdnCL+fobHM7wmz1H+dDwE19aEYXeIPBui7eZiBLeCMrwatAAnwAj2wb44k8AfK//du/dQE9rzMZw2z7b8p6LCli7LAXxsmCHcYfJ0YwQ3BGOY4Nu2GCgk6T6ccWeY6JDnpPwMqxKXnIpi/4gU8mkdgOesxuOmmOFtrBEMaXZ3gVSICLPmB/jD12jbzA4Gz6bu462D/jBL+MIZNnW6tIUAG+QSP2DM/NSS/jwRhwRDeZbOMvGB8SMbwxAufALcrAVDAeW4Q3xogjARdjCJ/wyzW8EYyg13ythbd0BFPYK/cJ2OjLEg70Ay20Da6i27RJGfhNu+A852B1U+oDY4UPImiER0seQAM0cgRzkBPJBZI6BJzIFP6xafCfdqgLT/gNEizIhDZI+IDl3Edu5rOoiw/DZzDpoV0CWvwEPsOW0eGTzL6aU6fq940eQBc7b1HBd3jErzP+jDOxAeMLP/WfzwerWQarCA5lwXmgcAQLf/d3f6d/+qd/co4Ug0MZmxt06g8w19CEcvPqidk9Do+gB9BpqH79Mp7HiAgOcCAECmQMMSKMh6UFlBNUYKDUJXBlbQ+BFIEkwSO/9ieDitPhdTaZR9rAuDBUglWCQPoDDKhjdQFHDJc6LEGgPxw1Bsuslawkr9aZzaL8AB08UpfMDr+aZ/zoByC5lTFTJzOzCn0ACcaD02H8CUbJ/nCPMact5AGvZI1xUNCFcwZsWYuDzJEVz8M3dCILgBv6MVIcMTIjuCdLzfgQbCNvky9lgDz9IRvW/2H0tMskhH5og8AG0Kc+8q0/prl4TVDDrJrxR3boEbJA/ugPsoQ3gjWcI84e58fYwj98koVDz5iIYZO5GKyiY4wLNomjgVdoh1bjA57ImjDWlJvuolemcwR06CJ1aI86uTaujCVvNPiqBecEJ/AIzfAB3eyUYU/YEvLgGZICODPq8hzOjB9l8Vyu8dkQPQRULGOCXsaXtY2GlbzKhSd4hX9k01AbTVWG7iB7bAZawQ4mSOAOEwaSFYwDk0OwGJ6YkONPyCKCtWZvBGIErgRyYCb4RtuMH8uVwD/6Y8zhH+wjOQHGWv/YBvpNsEcdw1raxv6Z2PIcE1LuN6WcwF54hnf8ETyShEA2jCN+ijGFfnwBfEIf9cAxEgk2EUUuYBbLwfBNITI1igAAIABJREFUyJkf5oFhYDvLCPAbjAltsrSAYBU50CaJDOSBL8BeGDf6s/tNJZds+mHMGSt4wb+hM2bbxA5MiMB3dAS7r99mPljNMljFWDAMA1gEifAxRI4oImUoX30hN/c1BoRSmFPAmLhuSCG+i1aUDGUDUDjSLgDEMygS95EPsqAPZEE9+sIQkaEZrrWB7KgLLQSJFkzSngGXPQc40SZtmAPgaDv3CET///buK9ivqvoDOA+++eaTg/qmj/qkLzrq39GxYadKSChCaILSBSkBggRDM9SEkoQSCITeAqGXBJQSQKoJ6Y00cltuyc36z2fHxdyJIdxw8/vdMvvM7Jxz9tllre9e67vX3ufc/LRhIiCfPDLK05e8lHVHutJBvrLO5BI0ydevM/08p5sy9NNuTj7KKaMe3STPETCdUpasnxiRk2wIh9wCE3X1gXzI4l7bsNKPMSUL8taOa8/hIPjzXP3hkOgMw7RLWKU9pb3AP+2CnjBI3O1eJCZpM3Aairr3tUHXEhtJ27AwFMjChM7GHRbG1z2MvK2wYIODfPWHoq52gO2MCsBNynbtvJ3wZoZexow+dGDDMLBIsyCxw+QTCd+02X3xpmEo6rgjmYwTnzaGbJZ+zvzaePNN9+oqu6M2mpXHtowFf0lO0Teb4kvOAizP3afcyiaPyTN29DWe6nieb6qUy7LZh3LKw0ae+mRRRz6stAMfdbN/ZWGoDP9vFk76IkPqj/vJRg5jTS73ytHBHKB8+ig51SE7HNVTx9yQ1+7pmu1owzNYJcZ8xnN9KpvckPI0C4/P0g/d4UNP4+06fT/19mz7ttUbzgcu+8IXvrBTFfbY/unnPve5svu2fX7eMzKv9AHJKAAJKIYARIYjCSDcMxpJOY61PciDfU8mRp6EQGaGT+b+ypYGBgOOpz3Opi3tcyjtwyUdyXUGFMop45k+9Q1f7TqTh8NJKRNy9Exf+lBXO87KyUMErvXjmT6RburrHhEI3pQlY6bsp+85x1Ke9pVN/VJOQZE+9AcDOqjnWnkOp4w8K2my9NUvcVCOfNrJfhMDZfQrn74ps3bIRh/P3EvKqpttaVu5PPfVcahepz6++6JPEi+dYADzHA/X/E8+fzX+xsG5L2baGWr6ko9O7InNpF3lGJM3d4bpmQuwvr5CL/5hNwoGng1FXdmkycibCJ8H2U3xPZq/lPcJD/3oSwe+AI/U2S6Tzz+c1fFtnzcuQ208P0ke42Gc6YUDkpNSR8/U5aNDwU8z2DIWbDLHhGx0cU8HY+oer9Il7c5zdihZcDtr05kvK4erkg+TK423a5ynX/faleDDX5z5Qc7BnmnXM3U/aQx2dz75yGlMXScWZEgdU2d55gEy0Fl5WMIAVurSwXP5yvAV13jMc3WUd50BHt7TNgyU1V/OI2SQ5O9u3QfaHpnZvLO2jB3dkg9T5lzMbd8frIbz0dRgFaiMJ52YgaQjegbcNL7tgR7MeyTBSFJGsjCSJJlPk41x0Vk5TuMsDxauOU3uajG4LA8fz/WjvvLwUYY8zmRKPAWTynA2bSibZwSROsjLNrStnLraoleOC1nlOatDTvdk1RbZtk/KSfLzrD1yOes321dGfmJJBtfKkCt1Q7JkpJfyniEm7egj8VEPFnnvOtvSrvrqqJvBMBn046y8pE3nLO/ZcEj0oJ9EX3rIc07cjZsEzxxH5ZWT4KusOsp5NhR1J1fKmeNGp9TTc/dkT79gR56nrurR1/1Q1JFMZEv92HXqmDK7l4yVMVOHv2aee/U9k5djPVT13V4u4yXJp3PaMh9OHek72HaavpL4OhsvnJnjxyfZG13SB5VJflWOrs7KObNdZZzVo7+26c6ePeuLWdbNcvpJm5enbAaD8uG4fRt929vd1+Smr3YTM3NT8hXdEhtl6JN5qZOy8vI5+emCz+RnW+xFvnLys458MkiuE6McB+2kjOoOtcQ26JK6kS/9oS8228sN++F8NC1Y3R64ej/0nKCOSR2TagPVBqoNVBuoNjDybKAGqzsI1Xf0GUA1/pFn/HVM65hWG6g2UG2g2kC1gaFvAzVYrcHqkHtNUIlj6BNHHaM6RtUGqg1UG6g20CwbqMFqDVZrsDoEv+tpFgHUfupkU22g2kC1gWoDQ90GarD6KcGqD5h9AJ0fONfztg+9Kw4Vh2oD1QaqDVQbqDZQbaAZNuAPs4bz0ZA/sBrOgFTZKwIVgYpAwxHYGhH9SQ0XpHZQEagIVASGPgI1WB36Y1QlrAhUBEYaAv0JVJWpR0WgIlARqAiUHzjZ7T8KUHGtCFQEKgIVgYpARaAiUBGoCOwOBOrO6u5AsbZREagIVAT6jYAt0y0R0fvf5LrvvXz3uf3a74ZrwYpARaAiMCIRqMHqiBzWqlRFoCIwNBHIQLU7Ij4t9fw3mB2amlSpKgIVgYpAsxBoWrC6devW8lNxfjDAT8dJ/gKut7e3/HSc+/z5tWYp399+yO4n2Mjuv3/wV3USmQdyaM9/d5E/I+pam37qzeGc/fkfFZTPfsnkp/ycEzdl/DxdYupeffeu6eB3o7Xjp+vyZ+nU166f7+v7329k3/ks5U0Z+qt7/gyeM1kkepJBnn7cs4eUWV+Zn/J6lrJ6Jj9/ktBPz9GHbHTwv1Dox7123eez7Ev/2Yc87ZHHeOS1uq6Hw0E/CRbkZj9S4p8/HwtHz+EEP7+jTf8sl2d4sq9mHWQ3Hs7GjnxpKzk+5JZnTOSRn7wpf7bR17ayvcxTNsc96yrTHF23Rm8v/Tqip6ctNnduii1b2mPNh8uit5et4YC22PjRmtgaXbFlyzaupHPKmr6c2DjTh43Dhy7O8iT1YJn1lR8Oh/FIvZ0l49537NiovGb5aMrkDE846zsxNwawxqWZR97En6+lDbNDZdTRlja15blnxpkvy1OfrjBInlNHwonZr7PyyQFsno/oJ9shjzbUTftohD2QVfv6dU0G8kj0kZ86pB7K4yxlXasn4S736nqW7bnWFsxyLnAt5RioA89sR7/GwTkxzv6zrvLD5aCHeR0OMEq7Gi7y91fOpgWrOfjODIJxANg9gBkNY+JEQ+1AIuQko4QQ6DDQAwackDMtW7as4JBEpB/OxxA5L0OED2JSz3U6r+ecL42VfFmHjMr77WBtK6NdfarvnsNzbHnq0tU12cixZMmSkp+Bojbl9/egg+Qgi/7IoA39O8MzCTYJN/Fx9kxwrlz+njV56CBfO56RnZ7a70tk+peftqacdlN/+cpoQ8o25cF6OBxwzAUHHdIm6Lp8+fKia9pF4gVDecrDQ1n14OHeuVlHjgHsHX4zPMeDbsaCbbBL45uypV3keNLppZdeKnqo555e2nKWxzbUh4O2POPnjT/00R1belujtf3D2Ny5ITq7NsTKVQujq/ujaGlbE51dG+PlV56NZcsXxJw5j5axoztZ+QHfdE8XOvOHefPmFb3gk36srDru6Qq3F154odRpvJ4D74GOEh3pQN8cN/rQj+5ZbuA9fnoLuIA8bCWT/tkUrPvKRzZ5xoQNOnuuHpuj04oVK8pZvufa5o/6ca/txYsXlzr68Dxtms0q07ePxEk5z5IH4aUP9+zAvfqZ/+ma73oJOuT4kce9BAv5yTvkIJu8lA9Xpy7y1JenjnxtJL7ucQD7wF3wyflM2+pnW/qAC73V12/iyJ7U9bw5XLDrmO6oRtoduckPh5F4NC1YTUNlLIKfv/zlL/GNb3wjfv3rX8c///nPYowMSBpqB8PlHFdccUXss88+cdJJJ8Vbb701YDE5isnjkEMOiVGjRsXkyZM/Jq+HH344jjzyyPjVr34Vt956a3GoBQsWxKWXXhoHHHBAHHvssaUsQ4UZQ73ooovi0UcfLeRloj/jjDNiv/32i+OOO65MeIz4nnvuiZ/85Cex9957x4MPPljKcuzf//73RYZ99903rr322tLfrFmz4vDDDw95t9xyy8dOziGMZ38PYy4hDGcy33777TFp0qRCQPKffvrpOOGEE2LMmDFx3333FdK5/PLLP5Zrr732iq9//etlHO6///4i/29+85u44YYbCoEhJNjsv//+ccQRR8QzzzxTbMo4HXrooXHwwQfHWWedVfqDwx133FHa9mzOnDmlLHxhboz//ve/l3aHE3FZ/BnX+fPnFxKGK3sYP358GU/2RvecOGD21FNPBRzZC12NzZQpU+Jf//pXKddM4mPHaSeLFi0K458TFZuTPHemmzPffOWVV+Kuu+4qOiq/dOnSuPnmm0tdbdJXmQMPPLDYMp+QcA9bN0kp05wJamt097RFR6cgy+7WR/HMcw/HCScdEfvuv1eccNLYePLpB2L6zVfHoiVvxcUXT/h4Icsv2Pf3v//9+N3vflds2jjB6h//+EfR34TOP+j24x//uNj4L3/5y4KJIGXixIlN0rO/7PDJ5Yy1cZFyHAUleO7f//534SD2qZzUjION4D6+lHwmj/9cfPHF8eabb5ZnFod/+9vfCpfglLlz55byqQ/bxfF//OMf47e//W3hK3bIh3EPjsfJr776ahnXBx54oPCYcaW/AEvgdu655xZbZttswfizdfOJNtK+BXH4FZePHj26lIGpdqRGHOlTyTlwYqtkk84+++wSVOIdWCpHzhNPPLHY9x/+8Id47bXXSv7s2bM/1um2224rPAWvM888s3AejNkEXJ944omCOy685JJLStvKGh955luLWfKZJ/Rz0EEHlef4Q2om7w0Ue/KKHXAaLoeDsR1pR9OCVYbKAKSrrroqvvKVr5RgCpFyWMaURjvUQCb7jBkzSrDDwBk6JxDADuQwqf71r3+N9957r6zyBBWCKPccitEJ7AVfSMzznJQEFCbkXKU+99xz8d3vfjcEmGQUWF9zzTVlFX3dddeFZBUvaBOcapeDv//++6U/fVhpMnIOjzSMy5NPPllW9n/+85/LpIkgk4T6q3tOJtomL7IReCJzfZLl5JNPjmeffbaQ/qmnnlryEJjJiSwIXHCLkMlKDm0JxAW6dpZcq2N8Tj/99CIvgnrkkUeKfY0bN67oYxf7qKOOKhM4MkTi5CCPoAc+WVZ7w+X44IMP4jvf+U4cc8wxRR+T6kMPPVQIHfa5W+EariZcdv3Vr3616M03lTnllFMKTsatmaTNz8im39dff73IDX95zvLJjJzZYN6/+OKLcc4555R7OtuJmj59erGPtFfjPHPmzFKX7iZotiQIYO+CdP03/tBHZ3T1bIi29tXR1b0+5r04J+659+ZoaV0Zm1pWRG/vpph55w3xznuvxPnjzwmLKHpngMRO77333hI00Zc94wY6GD8HX+cPFi4rV64sePEjvKWd4XDQTcpxEbhZgH/7298uC0z5bIAtNOvQF3vRL9nc4y/8uOeee8Y777xT5GVr559/frFd3Ow5vlI+g9I//elPhYPYs8BSXUEZrsNHFtECU+UFo+zcPIAf+frjjz8e5513XuGru+++u/CXPvD6888/X3wcXq5tePARbVnMCBSTDxplD7jDGDnDiw9PmDCh6EjnCy64oPif/vkjP7d5Q2axAJmVX7hwYYwdOzbefvvtgjXczFs2PAQwdLLxkljAx6Ih5zDzgbo2KywqLOBxPh7Ql3lH2eOPP774GlwahUkj7JRfCLiNvUWRuc/CdKQdTQtWk1QYLqP55je/WZxecPatb32rGKRn0lA7ONyNN94Y119/fSEbZGV3lRMN5OC8AiNOw9DuvPPOmDZtWtx0002FeDgR8uKYHAgJCcwEkC+//PLHr3MYq4HkpIjI5GTn1SqW03NUBKgvpKc/ZME5Tdh21wSLgrrHHnusEKJA2QrXZE9OO5i5A4lwd3WctIOMTLxWgYKkiX+/ONrbO6K7q7voogwyFlAvXbok2tvborNrcyxZsrisfMkv0Q+ZIxSkQy46pLwIifPSwQ4+HOhr0rD7SkcrcgRlgrdgQOiHHXZYmTy0a9cjdzByshzIWDejLjsRqJok2RKd2Yrgk/3wNbjYOWYHAkILB7jJ94YDySFwz4yz1KyDvMaDbaUuJvEf/ehH8bOf/azsCpHNuBkjySRnnNj+ihXLY8uWnli9elVcdvmlcf/998WGDYLyznj99fkxduwRMebg0TFq1IFldwkGFn36a2aw6nvVzq510d6xJrp7NsRTTz8Qj865qwSumzvXRkvbyrj1tsnx/oLXYsJF4wvP4E+J3/MPExK/t6i1eLO46uzc9r0yXebPfy3222/fUo4te4NgV02gu6u+26zx374ffocz0g5xn0UIXS0+jL+AkW0369Af/JzJhl8FQ7gT1wgWyIWf2DMuwj8CLHZLF+Mo8BTApn42HrSBx/mkfIlfat98Y1zpao7Ad8bSziAfEDDjfEGsHbb0JQEfrlUW75FdWYsbspkLyNOIQ1/GMMdJv3Y29Us3C0WbKsrRgW58mU7whRtuwmFwob9yru2eCrhxeltbayxavChOPuXkeOON12P8+PMLj5mnLepuvvmWuOmmm+OKK64s42I+Eyib+7yhMFbyzLsWGfpuJu8NFHv+TR84S3Ax9420w7g35f9ZZQBWQAzTLt+XvvSlQrQmDDs7VkIMkREPtYPDeQV39NFHF2Ow8/mDH/ygBIEDkTV3dGBDf69GTNIIxuSCYLzmEUwJIn7+85+XQMRuoUDTZIVsBJqcVz0rbERlYsodFa/CBbqc0k6ba7suiB/ZIoxf/OIXZSdWUCuYfOONN8onAEkinF77nIFj74oz0w+GOeGqO2fO03HpxZNj/dr26OmKaGtrL7tAPgM497yzYsWqhbF+47JobVsTZ559WgnSkZX+nbWJsOEkgDUR2HW2Y2oVnp8SaM8zRMiBk/zhaoFAP6t3hO61m3L6MDHKZ4+NIvOB2M6O6prATeRsSABjh9GEIMCzCEDO7AX+ngte7SR7NWyRIwCyI2cSNf452eyor0bkGQtHTqDsmI+QkTzGBYcYE/n04AOXXXZZWUg+Mvv+aO/YEO//5804+dTjYtr0ybF69ZKYcfvUOObYsXHkUWPj6GOPKEEr/QUQdDVBem3LRht/2GlqjbaONduC1e4N8djjd8fzc2dH79ZN0dq2qgSyl152Xhx97CGx1y9+Wnbc2CAft8iyiPU5D37g4yb/Cy+cEN3ddq86Yu7cF+LUU0+MefOeidtuvymuvmZSrFv3YaxauTouueTy6O1thp67B0k2mHaId/g93/UmJe0FhzXbR8mRcjmTDffYGCAPW2WjuAmnXn311YW32Kzydvfk04E9s2HzIg4zvsppA/fbsPDqXll68lWbBxaheEr+f/7zn8L5Aj2BbfavrsA0dxC1y8dzVxff0aURB734VOKEf8nGv2EjCPX2D59nIIqvza/qklN8IICEnzzJ/Gc+4rs4raens/yB4ul/PSlmz34wLrjg/MLtLS2tMWPGzBg37oK49ZZZccfMe4ssxooNmSvNhfomj0WBt3f6gN9wOXyiBxM4k928xQ5G2tG0YJVBcDRGwUEEBz/96U9L8PC9732vOLnJqTkTxq4NI5kYuN0q34T4jMEOlgl0IId26Ww1brfEattq0m4P8mJ4sOLggi8BKAdWB6EJbgUjggxBqF1Gr3qsYDl5BnHk9P0fIhXc5WrfrtW2lWlbCeiQrDpkQQaC85zEfftkzJJsd4XgjDtdMyGCRx5+Mi48/5po/WhLbOnaGmvXbIyWTa2xYMH7cfY5p8bTz94f7ZtXxKtvPB4nnnxMLFi4oNgOh/Ta0y4Efb02kuceDgI0GJo47OIKSpTPYA3BIXC7jwIfCWYmD98DCmzhjrgEBkPVJndkd3ZVkK/JwCtCQTv7sOPDjtgZkvYdtO+WYWbBYrFiMWSyZCf0RnbGGhbNOtgJnmCTdod8L53fYbFn3+uZtO22sFO7vyYxAVtr60cx845pMfvRWbF0+dtx28zr4qOPlse6DYujpWVlvPfeqzHzjulx+8xpMf6Cc2LylGvLZzT0NOYmfPbZ+MNfkXtjsC42bFwadlJfmPto2Vn1GUB394bo2bIxJl93STz+5P3lMwCfC9HR5Ioj+I/xtFPmHhaXXXpFdHf2xupVa2PatKkxd+7T5ZvYteuWxF1331YC2PXrPor77pkdXZ1D7+3VruAugMN/bJPNZDC0K23s7rLmNXzks4vclPGmSECKg4yfMniTzN7keG1NBxwjSLJ4NCELztij/HzjgfvxMz/FxVOnTi3Bmrd75iYcpx8bE94Q6Uvyqtx8YrcNx2mTLIJVQWEGxbsbD+3RjU/pwxk/pWz0s+DyWYpnxlAeTCxA6Wq+MkdZrArA6CnZRcRdeOrRR2dHa/v6WLjozTh73Mnx+BMPxaGHjY7169eWN3a3zZgVV15xbVxz1bS4bvKt0dO9jWOMFd+3s2o+5FM2YywCms17A8We3Qj64Qtzi1jz10g7mhasMkQGwShNpHb2BBZA9ppPgOWZNNQOzmQCtbOBAAQDiMF5IAfiEESZiAVddj4RnO9OBQ4Mj3Pm632TdP5V97vvvlsCMt/qmLDhaGdQgEIuTm/lCneGKzjjjIIVOhgLO0rykIb+Ean29YP0rHIRm5Qkooyk3f4eGaxmXWP82OynY/y5V8S6NZtj2eJ1MeXaqfHuO+/Flt7ueODBWXHxpeOiY/PKmPPkrDj/grOjZ8u2/6IFkdhNYD9kJgccEbjAC4Z0sJNgQkBKdNG3516xCd5hKjCCt11q9uf1uB0KY2LCEBzYfR0uB7IyCQleyG1SZ1t2WwXu7MPnLHQVoLMdCzCfRsBNfYuxH/7wh+UPMNgI3Jp1sHfjwT7YvSCNn0nGm5zGOhe+9LSbrOymTRtjydL34rX5z8WKle+VYM/3n16zCwgXLX4zbrjx6pg8ZVJMnnJlTJlybfkcyetXujfv2Laz2rHZZyzri3wPP3JHjD74d3HkUYfE4UeMiek3XxU3Tp0U77z7cowfv23sYMKvBdYm2bRLQau8iyZMjJ4ury/t+HWVXdWTTjk6xh55SBwx9rA4/IjD45ijj4tpU2ds+62B5im823uyiySgwctsBic00053pBAbSj9jw2ySvQqs2HFyOTnJi79xlPHDx95m4St1JJwpAPV3A75ltQjFTfoRpNlZ9lmaDQQcaOEmSMmg1aYG/zUv4HeLUEEf/2E/gkS8TpZGzbnJ+/owVvrmy2Sjs7mHDjDA2crRRyAOP5+84Gl8bXNIACvfXOYZfWfPfiR6tnTEi/98Ks4488R46+3X4vjjj4lFiz4o+l9++VVx910PxIP3z4krJl1fFmrJKzjRfCkOIY83TGIT/KKf4XKQGSZpSz4HodNIO5oWrDJUxshpvab0DdoXv/jF+NrXvlYCA/kSox5qB5msYO3ymOC9frFK5YwDOUwyXr9zEoRiF4xjcmaE5Rsar4UEFvATMNsls4sqwCIDooEbbK3ik5B8x2JnlLyIzveIiMzuo9dIdk79BSQizO9/tEsWwbKAhgy+j0J4PjXgDPpy5Lk/+iNoGJJRgtuTTzwX4866JNpbOqOjrTMumfiPGDfOt5Yz48ijDos3/j0vWlqWxwMP3RI33HhN6Zuu9BBU2i2goxU2WenDYWEIg9NOO61M4rlbISiBo3G082GiEKzb0RDsIzDBr51XdQS5sMnAqD96DnYZO8pJ6iYqn5b4gys2w67s0HtlJGD1h40mMLtzufNq0rOz8OUvf7mUR9iNmsh2hBWZ2ZjdI3/RzH4FaPzBJO3tgjEWqLEjNqWsMezY3BYtrWti69bWsssy76XHY936JbFh47JYv2FpvDBvTvxsr/+L/fbfO0aP3i/22WfvslNrrHMnrDncszU2bVoba9cviY2blkd7h/++al2sXbc41m9YFhs3rojWttUx4/YpsWDhmzFx4oWFL/kbvxHk8FGTq/GBg2drP1wfm9u7o3Oz/9JpY7z66osx6coJsXr1B+UV6apVK+KDhUviogsvj63NW3/saJgHnIfDfKcODwEMfhnsYNUYWORbSOMMQdiYMWMKL+Ek3M1WcQp7FtDyRzzmuaCJXVsw+psOfGbh6S0Q7vf2w2QtqDX+6tsZFbgK+vAZroaJsjYl8KAFq6DM63KBn/nAPIE3+Tubb5SPJ+/3PeMfAbyNAPrnd/KCbTYtCDfX2FSgg7N8bxrNhfSnM14QvHtTePfdd8aZZ50SDz10T3R0bIp7770rLrpoQkyZcn2cduoZsXLFmli4YHGMGf2HuOWWW8vGi/7pbW6zyMCJdp+NEb9qDhcM2BVKA+Y/OsCKbZjP2OBIO5oWrKZTcGpOIjDwOj0DLhNVlhlqIJOLw1jNkdmOJbJADAM57AxxXoTFaawora4ZGiKyyrzyyivLqhNunAh5KUeGnKxy8jbBC0hzlWrFxQlhrD5H9MwupD5zRSkfeWk3yQFBej2C+JBgfrBNZxOkMezvkWRljBEEPBd9sCz+9dLr0dnRVYLVdWs3xqxZ98T06TB4KtauXVom8vmvPx8vvzq39ElOAZkdUkFVppSNvnTw3K6BwMdkJjiHI5sjP9k5OHy1ARMLBzuqFg0I0eQCM+NO3+Fw0NXER144w5vNmqiMZe7GWIyYJNiLicw1Pdm0wI0NwER9NtasQ3/GjP3D34LMmJiYjJnA2utA9m5s2BH5LDr8dGlHx0cR0REfrl0cbe1ro6enpQSw7R1r44knH4wbbryyPO/q8n8Jb9ONztrO9hqv69bo7GqPTS1rorNzY2zu3Bg9vQKu1vL/q7a2fRhtHevi1hnXx8IP3omJEycUW4UJP8IL9HVvjMnNV73ab2vpjM0d/r/Olnjl1Xlx/Y2TYlPrqujqbi0BbGtLR1w56fro3Dw87PmTxoK94gHjzxbYjTSYh3HwmQ3eIQu/w5v4hb9JglS+mLJbTAoocbRx5b9sXRn8jItwHt/Vrlf6uM3rceMvjw/L4/d8he+r482QfIsb7bIVAb6+bErgu7QpPteIgyxstu+QCdebAAAFU0lEQVRBltw99cYP38Ajv0EmJ56GmznJ+JonzWvq4Sbl8RW7h/n06dNi5sxboqPD/629OVav3obV1KnT4vX5b5Q/4l2xfFUsXbIspk2bXhYCsIITvAWu8LbjTF58MNC5va/Ojb6Gmc0I8xbc4DXY/tAInZsarCIXwDJAxiAxOsbhWSHdQSadHYFMNjIyZKTEEOixvSPuqO7O8tTXFhz6tivPJOy55DqxIovn8snE+T3jdPK145lJ2NlzZ86Z58Ra2QxSkJd26IVAsk2Eoy3Exgnky3Pu76FffWpbcvjL5c0dPdHW0h3dXWxh27dc+jGZ+yWf3q3tsXL1oti8mY7bAmTtkFmbcCGLRBcyOesjJzEy59h5DiPPtdG3He2xP20luSvbKCLvL3a7Uo5+fTGgJ73oQS/YZXAmD9aJVZY1oaojacu5WQcZyAh/8vr+z+6q3RPfqto1YKfGLcfSvV10f/kujRp1QBxyyKg46eQ/xbJlC2PrVjbuRwKeizEHj4rRo38fBx10QHlL4ns4OxL6g4W+G3/4dpsf2LVuiy29m8uvWAko2Tx5pWeeeSyWLvsgZs687eMxMxZ23uyQ+b7aZx3e9tiVO/30M2PDuk2xpccfsm6Mt9+ZH8f+8dA4cNQ+ceCo/QqG++9/YEy+9sbYOoz+wGpH48HHJQefTbvfUdlm5bFX4+Oc/uYsL+2afUnkZXN5zfak5CP5+Fye9pSnJx5z8GF52Z9rfOftg2sp29NW8rm2JLypL/KlLzUCJ3qTxUFWiQ76xDNky7FM/vGcjJ45nCV5yiSW8Eu8POvt9XcR5pltfKectuiqD2VyPFx7Rp7kd3mSduVn/0WIIf4PjMmeY5+YDXGxd1m8pgWruyxZrTCyEcBF26eisUwEJ6i1WyLZCdpGXiMblKrdZ0eAfbATie1In3TPvgbLnvRrAbAz+VIHcvZzsZDNFrXUEczZFZdc925T2aPBUv2zD26tWRHYOQJs+n/smrFn4lPV+HcO4tB+WoPVoT0+I1e6JJe+56JtZiTJJMH8DxONXGyqZp8Rge1t55PuB9uW9N/XrtPWU97tn/cDjr5VSts1WO0HarXISECgr9vkddGLX+XCLzc+5NVjOCJQg9XhOGojQuacXXOiriQyIoa1KjE4CKQ7OddgdXDGoPY6OAik7ZtCXBcfSD8QrFq4+YMjn1Fs+yxhcAStvQ4EgRqsDgS9WrciUBGoCFQEKgIVgYpARaChCNRgtaHw1sYrAhWBikBFoCJQEagIVAQGgkANVgeCXq1bEagIVAQqAhWBikBFoCLQUARqsNpQeGvjFYGKQEWgIlARqAhUBCoCA0GgBqsDQa/WrQhUBCoCFYGKQEWgIlARaCgCNVhtKLy18YpARaAiUBGoCFQEKgIVgYEgUIPVgaBX61YEKgIVgYpARaAiUBGoCDQUgRqsNhTe2nhFoCJQEagIVAQqAhWBisBAEKjB6kDQq3UrAhWBikBFoCJQEagIVAQaikANVhsKb228IlARqAhUBCoCFYGKQEVgIAjUYHUg6NW6FYGKQEWgIlARqAhUBCoCDUWgBqsNhbc2XhGoCFQEKgIVgYpARaAiMBAEPlOw+vnPfz722GOPmioG1QaqDVQbqDZQbaDaQLWBagMNt4E999xzp/HuHjt9Wh9WBCoCFYGKQEWgIlARqAhUBAYRgRqsDiL4teuKQEWgIlARqAhUBCoCFYGdI1CD1Z3jU59WBCoCFYGKQEWgIlARqAgMIgI1WB1E8GvXFYGKQEWgIlARqAhUBCoCO0egBqs7x6c+rQhUBCoCFYGKQEWgIlARGEQE/h/5c0WnO4Pz1gAAAABJRU5ErkJggg==)"
      ]
    },
    {
      "cell_type": "markdown",
      "metadata": {
        "id": "Q4_I6x3foXnD"
      },
      "source": [
        "고객 3,500명에 대한 학습용 데이터(y_train.csv, X_train.csv)를 이용하여 성별예측 모형을 만든 후, 이를 평가용 데이터(X_test.csv)에 적용하여 얻은 2,482명 고객의 성별 예측값(남자일 확률)을 다음과 같은 형식의 csv 파일로 생성하시오. (제출한 모델의 성능은 ROC-AUC 평가지표에 따라 채점)"
      ]
    },
    {
      "cell_type": "markdown",
      "metadata": {
        "id": "Ywm4SYreorEg"
      },
      "source": [
        "![image.png](data:image/png;base64,iVBORw0KGgoAAAANSUhEUgAAAWMAAACvCAYAAAAon7+aAAAgAElEQVR4Ae2dC1BU5/335aak8YK6EFREFKLrJcbLmqhFhIgGFYtREkGJEl2MiTdUVBLRoKASYxQ0EVCiJBFFAwkqL6KgIHLZ3e60fdv822b6pk06vf6naTtNM0kmOp93gN3l7LLIEk2yuD9mzuzu2ec85znf53s+z29/53CeHsifKCAKiAKiwA+uQI8fvAXSAFFAFBAFRAEExmICUUAUEAWcQAGBsRN0gjRBFBAFRAGBsXhAFBAFRAEnUEBg7ASdIE0QBUQBUeDew/jWJ1TlHeRgfjWf/P0SO59+iqd3ld9Z6W9+yu4ZAQwO0fLBl3cuavn2ax3Zy59i8QsF/M83lrUtb77+VSmHDrzOu02fWX/hwKfbf7vJqYOvceTSR9xyoLwUEQVEAVHgXijwrWB8+0+XOfTydrZvt1lePsr1P1ayZqgHHkEvUvVxNhE9e9Az4oh1W7+6zq6omYSFhbUuMyYR+KAbbp5+jJlhWtf83RNrKf7Lbcu2t/5s4NIH7/P+++/z/vk0nujnhsfgGPa/Z1r3QSW/+N/b/PtkNL16ePFY5q8t21q/+Zra5JE84D2IxDJr+n/z0x084uWGT/x7fGG9kXwSBUQBUeA7U+Bbwfgbw0uM8+pBjx42i5eGjJ9f7hzGXzfw+vKniY2NbVl+MmUIXm7NdbnjM2Y2i03rY+N2cvFvbTD+4twz9G0pZ7Nfczs8hrKm6isHYPwV19cNx8N9AMveFxh/Z+6SikUBUcBhBb4VjPn6n/zp9x/z8e9qSJ3shduD8zn664/5+Pd/5l+fX+0cxi3Nu81//2igJGsFkwd64O4zkjFDeuL+4MMseOkUNR/9E5vsA/z37/yheb+/aeKDY5m8vDmZzS9l8EZJPb/++GN+Z6im/NpNru4MpecdI+P/UPyMD+5u3kQd/18rsSQytpJDPogCosD3pMC3g7G5cbd+y76pXrj1XsyZL27z1ef/5l9/v8CqgDukKb7+JTmLJzJqqA893dxw6+nHpKd3Ufqb/3Lrbw3kro0kpK8Hbm6e9PYP4dGnDvN/vzbvEG79oZhVY/vg3sMND69eeHm40cPtQUYuK+RnJ+bTyxwl3wHGt/90ioUqd3r0cKNf5FE+ViSHO4Tx7X/yt79ZR9FtrZJ3ooAoIArcnQKdw/jrv9JUmMamY8b2kerXelLHetKj52xy/2wkbbyXJXXRUc741j//QEPu88xbEM+atKOU3vwFH374odXyK0Mlp/Yms3zhXFYdqeMjCwS/pi75YTzdH+Inb/6Kf9+C25//lrfjh+HhEYD23P/ws5/+lLrdMzuOjL/4JUfn+ePh5sWAgf1wd/fhx7tu8A9TNqRDGH9ZzqrhQUS88AY1n351d6rL1qKAKCAK2CjQMYw//x0Vh9cwa0Tvlp/z419uQhGgtlRz+6/HmfugGz3c/Vn+/qf8/NJp3jm1g9kq9w4u4N3mT0ci6GmJXjvI/Vp974l6a5Op2V9xOWkIHp4jWFP5b9O6L2jcNg4v94HEpqSxaMEC5k0ehEe7yPg2//zFO2yY7ounmwe+Ea+i/305yZP64u72I0ZEbSa/7k982dEFvFu/54PU+Yzy8cD9weHMXp9H3Z9tFbFRVz6KAqKAKOCgAu1g/M3/GinaFcfkh3ri/qOhTF+Wxsm6T+zcWXCLj488QW83d9zd3ekbcZjfNv/c/6rqjjnjrz7RU1lRQYVyuXSIxUM8cHswgl0XbL6ruMzN3/7Lcjhf6PYwzccdtwceQq2ZypSxg/mRuzv9NGlcfT+N+bNn88R4v/YwvvUp558bibf7g6iXHecXn7dWeftfRo4nPY5//8lsvfYZX3cEY1MLbv3j55x9JR5Nsz69Q5i7uYDGv7bLblvaK29EAVFAFHBEASsY3/rNYZ5ojvx6j+bpjPP87O8dQ+b2n84SF+BBz0eSyV4/hp7uPkxLu8FnX94Zxq2N+ob/+9p8xo4axaiWZRgDerrh5tGPISPN60Yzbfs17CUEvvi4ivz0jWiXJ7Bcu5Gdh85Q+8vf8tHHf+SzL2/z+flVjAx6mIVv/D9rDb75I4bG3/Ff67XAbf77n89pzlTc+n0x25bFs+qIrt0vAavNPv+QwhWj+ZGbGz2nZfGRIu9sVU4+iAKigCjggAJWML79WRO5a55gRG8PvAdPIXbrMSo/+k8LpJR13f77dXZM7497z1GsvfpPbv/XwL6w/ri7q1hwrJDVnd1nzC3+UJbBhrVrWWtneeHpyfR3d8d3eRkdXjK79Vdqs5OYPdoXb3c3S67azbMvgY/FsuP8r+1At/kovqAkMRA/X198O1z8CFl90f6+v/ozDYU7iX98SEuUHRTxPIer/mB30FBqJu9FAVFAFLiTAlYwNhf85m8GTu+KR+PfCzdPH0ZGann9+l9MUP6GD49G4e/lQ2iG3gK823+v4fDec/zOoVvbbvHJxf1s3riRjXaW9XGaTmD8Fbqdk/iRmyd+jyeSnnuGsopKLpeXUPj6ZqJHPoibx2CWnPmL+ZAUr19xPX0Bc2bPZradJXLqcHq72/mnj1ufUpGxjKlDvHHz8EEdvYXjN/985+hZsVd5KwqIAqLAnRSwC2PLBl/8nuo3NjJPPYCQddcV0d+XfPzzD/ms7f8xLJt0ljNuLfg1um2jWy6k9R0cTEhIiJ1lJI9trVbss20X3PqIrGle9PCayn47+YEvypbj5+6O34oLio0ce/t1/WZGetqB8ZflrAx4iEnP7OLMz/4h/yrtmJxSShQQBRxU4M4wNldy65988sln7dIV5q+tXju5gNda1gzjB5iw7BX27Nljd8k4+AG/tZu2/pL67Y/g7ebJoB8nkXm8mAuXr3L1/7zPOznbeWp0H9zd/Xiq8I9WTXPkQ4cwvv0PPvn0P45UIWVEAVFAFOiyAo7BuCvVflXDlkdUqCZspbajZ1PwDcZXpuLbvz/977AMDF7NpY6Sxl9/SuX+Z5kR7GP6V+rW2+Tc3B/goUfmsfHUzzDf/NaV5ncI465UImVFAVFAFOiiAvcexsoG/PeXXMg/Rv6FXynX3uP3t/nyH5/y0f/8ig9/8zF/+Y/dUNrhfd7+awNn8nJ5q+pjSUU4rJoUFAVEgbtV4LuF8d22TrYXBUQBUcBFFBAYu0hHy2GKAqKAcysgMHbu/pHWiQKigIsoIDB2kY6WwxQFRAHnVkBg7Nz9I60TBUQBF1FAYOwiHS2HKQqIAs6tgMDYuftHWicKiAIuooDA2EU6Wg5TFBAFnFsBgbFz94+0ThQQBVxEAYGxi3S0HKYoIAo4twICY+fuH2mdKCAKuIgCAmMX6Wg5TFFAFHBuBQTGzt0/0jpRQBRwEQUExi7S0XKYooAo4NwKCIydu3+kdaKAKOAiCgiMXaSj5TBFAVHAuRUQGDt3/0jrRAFRwEUUEBi7SEfLYYoCooBzKyAwdu7+kdaJAqKAiyjQZRgbjUZkEQ3EA+IB8YC1B+52zBAYy+Aig6t4QDxwDzwgML4HIt55hDdws7qaesV+ms69QnzsVgpvWo+MtvUYrmSz9oVDVBruXM52ux/qc3dr7w+lk+y3e/j5++4ngbECkt+J+E2FLA8Zy+pinSV6uLYngj4PaNhyQW9ZZ2/futOrUD+cSKGue5i3u7XXnuayrnt47X7sJ4Hxdw7jt0gYoUZb1AZjo7GRmpp6DJ3su7vBrbu19348oeWYuu9g4sIw1lF9Po/XMtPZk/UGZyobraLUppOrCYs/zA0lMA2VZMQ8QfJZJVjruHjqMHvTX2H3/mwKL9a1QbaxlDd2rmK672DCn3+ZXQeLuG4wYih/hejwjZyxiXh11efJO5DBnr3ZFJbX09SVyLixkqKjWexJ38OrbxZztamG4mMFXGiyNmd9xdtk791D5sHjlNbYROaGaory3qZSr6P6vXwOZu5md9Yxzl+zKWfSxLH21lPxdjZ792Ry8HgpNXrr9hiq3uWNUxXUX36H7P0HeafKYNUPAhdrvUSP+1cP14RxUym7Y8bw8GML0a7bwJqEOYzxH8rMlCJLbrfh4Dx8p6ZyVQljfQlrxwcQe8wE7qZiUkKHMzI8juc3bmKDNpbpwwPQvHiKm83bNZaQnfosj/v6E7oyhdSst7lmMKI/v4Zxgc+Q12g2lo4L+xYxNkRDzKr1bHwhgchHxhKZEEWIA2mK+uJUZo8aRejTq9mw4XmWzAgm8PFIpjz0KOtKzSCtpzg1kpCRoSxZs4F1ifMYH6Jh1bGqtsGj4SDzVJNYvPwxgsdGEr9mA+tXzWdckIZ1hTcVkHSwvfXFpEaGMDJ0CWs2rCNx3nhCNKs4pgBus84DA8cy9iF/1I/NZ9tp5UBn1kdeBcL3vwdcEMZ6zm+YRODsTMoVF8Yai5IY3Xc6L19ujcwcgXFT4QpCgp/llCL61J1dz9TJWgrN65rapylsYawv3cJjgeHsVOaQ6wrRjvbGc0QnOeOmQlapg3kqWwFVwzXefCYIT89xFhjrTicxZlg0ByrbIs/60y8wYdh8DlSb1jXD2MeTwU/upszcfqOBypeno4rca4GxY+3VcTppDMOiDyguQNZz+oUJDJt/gGqT9s069x8Yyvbz9Zb6BTz3P3ikj9v3sevBWFeEVh1Mwskm65PfcJnctAzerm0VyREYG65kEukXSOSWPC52dGdEpzDWUfz8WIbF5dOojMKNRqpeCaNP8J1h3Jj7NIET1vOB7c//S5uZ/MAjJhg3UbBsOGrtGXRW+6hl32x/Zuy82qpFS2SsYXN5G7CbT5qGg/NbfiW0nkAOtrepgGXD1WjP2ES6tfuY7T+DnVfvMOhZtbG9aeVEFk3uRw+4Hozrs5gzYDovV9/Z0I7AuNkQN4r3oo2aSJD/IEI0c1i6JZsPlGDuFMYNvBo1kGkvVVkPDkYjTYXLO01TVL00Dd/5B2mwBVhjNjH+400wvkF6mDe9HxpOcHCw1RLQ35thCW+1wdh3KqlXrbWxhrGD7b2RTph3bx4abr2/4OAA+nsPI+Gt1sHQrs62xyKf23njfoSRqx+T68G44XWifSewscycSzWDp5aC1LVkfdC63i4kbHPGSkgY6rh0Kot1c0fhP3EdReaf+Q7A+LW5KjSby9tyt6Z6G/OWEBhy58i45pUwfMLTqVG2pfl93V4ifcyRcT17Z/Xj0ZVHKSgosFne4p2y2i7B2KH21u9lVr9HWXnUdn8FFLz1DmW1Ehm7Onzk+M3saX11PRgbLpKi8UGzpQy9EmA3myPJoLaI7fVofKekUKHIKxsqDzB/8GDLBbzGPC0R2jzrqLTxTRYHjGPNeRPsO4Wxng82TEAVsZurin0Zjc3pADW9OskZ64rXMNY3kswrytSCgeqsKFRe5pyxnrLkyfhHZnJFuQ9DJa/Fh7Eip64LMHawvfoykif7E5l5xWqQMVS+RnzYCnLqWg1od9BT9ou8l6jYRTzgejA2Gqg+tJAAn7Es2V1Iee1Nai69xc6Yh1FN3ECx6XYzfdkWNAPULHn1HFevX+bM6+uYPbw3np7+FhjrTmtR+2rQHiqm8kYD9dWl5G4OZ4jqSfZfM416zf/0ERxAzKEqdCYQ2l7AM1TsJsI3gDmvvNd6F4bRQFXB80zu74mXEsa1uSSFTSMuSxFFGyrJmjsIX81zvHqmkhs3Kjn7mpbHHnoQb0vO2Iih+jALA/3QrDpI8ZVarl08ye64R+jvH8V+80W95pxxp2kKI46110D14YUE+mlYdbCYK7XXuHhyN3GP9Mc/ar/lop7A2Do6kmjRdfVwQRg3d3YDJVnLmTnSl95ennj1HsS4qI3kmy4qtZ4QjZRkxDJxcDOAe9Jn0FieXJfJmunjSDxlvvh3k+L0JUwNVvGgpwcevfoy5JEoNuZfVUSD9RSun4q/twe91Ksp0hnRX0hh+ngtb1vuMzZQlfs8U/0fpF/Aw4wa4Uf/QY+RmLqCKZq1nDOVM1TuIVLlxdD4EzQpo4X682Qu/THBqgfw9HoQ35FhrMh8iQWDJrBekY5pKNlHwvQRDPD2pFcff8bM0vJqSUNb5NWcwvFrn09vPLaEUbMz2so1DxYOtLdF530JTB8xAG/PXvTxH8Ms7auUNLSdcC356OkvU6U8Hnmv0LpNKwH1/a2Fi8LYSTtVV01p4XHyT5Vw1XIPsrKtTRStXYD2ZBtAmyP4aepFvG6Tpqg6spiggMW8Ua/cvrP3DVSUXqLOURh22t7O9mfEUFNCYbFy8Op8G4GSaHQ/ekBg7Ch4nKCcoSKXzJwy66jYWMNbG8MJCXqUyEUJJCYmsGjWowwfGc76gmuKCF1O4PvxBJZjun98LTB2AsjeixPKcKOc03k5HDp8hONF5dQpL9TdJ8d4L3SSOu4feN1vfSkwFlBJflI8IB5wAg8IjJ2gE+63EV6OR6JP8UDXPSAwFhhLVCQeEA84gQcExk7QCRJFdD2KEM1Es/vNAwJjgbFEReIB8YATeEBg7ASdcL+N8HI8ErWKB7ruAYGxwFiiIvGAeMAJPCAwdoJOkCii61GEaCaa3W8eEBgLjCUqEg+IB5zAAwJjJ+iE+22El+ORqFU80HUPCIwFxhIViQfEA07gAZeFce2510hOWEjU7DlEL1lD+qlKm/nh9JRlxDMrPJxwxRIRlUS2+fm/5g7UVXA8NZGFc+eyMDGV45dt5n1rLudIGXN9tq93sW3jpTxe1sYyf84c5i1eyUu5l6wfhm/aV11pNluWL2TunCgWJm7laJn5yXB6LuxdRmSEtQ4tmkREEKU9bHk2sURDXY+GRDPRzOwBl4Tx9TcTGKUKIjTuBVJSt7JuWTjDfQYxe/cFxewfDRycp2L0U9tJS0trWzLyKFM8j9doqGDfvAB8x0Sj3bQJbfQYfIfOZ3+FYuYNR8rYAtj8+S62bSrewuMqFWPnPsfGbdtIXjmfcSoVU5LPWE1+WvfW8zyqGoxm8Rq2bEtm1Vw1/X3D2XXRNFtJ/TUuV5RTXq5Yyo6yQj2QMStPUGtuq7xKhCke+NYecD0YGy6TOtWP8PRKxeMlDVQdmI//sKUUmOeuM1wkeXIQcfnmB8nbH8FrD8cwZPgSck2zShuNNRx7JoghMdkWSDlSxjw62r5++23rORTtS3BCgWn2kNb217+9EvXASPbWmI5Hd5qk0f6E77zQ9svAcIX08IFoUhQzilidZI2cfn4cg0JfpsxmVmrb9stn+74RXUQXWw+4IIyvcmTDenKsZvUwYriSytR+kewzP4y98RixgY+zzTYlYQWl5qnufdFsvqiIqJtn8tiExtcMPEfKdGTMu9m2ih3TVUQdMKcbTPtozOPpoW1z9DWdiCdo1CpOW2YdaS2nr71KlfIXgOK49SWb0fhPJ1Uxi4itseRzR30q68Ub9j3gejBWQKXNFPWc3ajBf1oqF8yRXvUOQgMWsCv7JbRLFhKzKIG1ewq5Yv6+uZ6mApYGqVl12iZHrCtCqw4i/kSTY2XstsnB+jva1mhEV1vT7rnGhopUpvo+Qcb1ZkPoKXlxPEHxJ2i8WU5hThaZWdmcLKtR/GqwNc51Di4IQK191+Yh97bl5HObv0QL0aJzD7g0jHVFacRFRxE+IQCfoJ+QdbENqk2FKxjh7Y2vehZxq9exdtUipgX2wT88jRJzFFm/n0if6eyothX6Ommh/Zi1tx6jI2U6AurdbGuvzrqzpIYPY8xzBaaplRo4/JOHeDQmgSmDfQmeNJ3QqeMJ7O/Lo8sOUq4ceEz16cs2oRkUSWaVIidub1+y7lvnDgVctueTa3x2aRgb6y9z/t1T5L22jThNCJqk41w3QaTp1BpmRm2nWPFT3XA9j6UhA9vyzfWZPNE3lF2WfLHZNHWkh/UhPOMmRkfKdASuu9nWqk4dlSc2M3esmvD1x7lqmQWknoxwbzxUoaScvmGBh/7KUeIe9m07TktdTRQuDyE44S2rC4ACD3O/y6t44dt7wCVhrNeb7hKwQMaIsS6fuJDRaIvaouP2xjJQvkXDgKhXW28PazzCwkET2GCbO9VfIHmiPzHZjRgdKaNsh/L93WxrrqehhL1LJhKiiSOjuA24rcd2kz3hvRn7wntWOW+j0UBl6lT6R+6zuvhnrH+DxQGjSTp7J42+vRnb6y11iSau4wHXg3FtOuGDozmkiHhbDd/AgSgVoTtrLBGivROh9pUZ9JmZ3voz31BOyhRf5mTZQO5GFk/6akgpN2B0pIwZnLavd7Ntc12NxWwLG8XU1blU2kk5GI2NZMcMZuYrte2OuX5/JP1n7LLcEdKsRX3OQgaPXk2xOU1j21753E5Hex6Sda4D2K70tevBuCGbmIfUaM/YRHdNp9Gq/YnJacRobKBozwaySmzKGK6QGelLSOLbptvA9JRt1uAXlkaF5ae/gfK0Gfhptphu+3KkTEfmvLtt39uoYczSfCugWpvDwOXU6QQueJ0aK5DeJPeZQIYnvKW4SNdE/pJAhi0tUKzrqN2y3lpn0UP06NwDrgdjYyOFSWMZEDyPlGMlVNXVUVXyJlueDEI1YS1FLfcZN/GOVs3AMbHsPF5K1c16ai6eJD1uPD6qMNKUaYnaXOJG+DFldQ6l1dWUZieh8QsmPk8RbTpSxlhLblIY0+KyKLeA3YjRoW11lB1KZt3es21pBV3z4DKO1Wcb0el01osiTWOoeo3owf5M1R6g6HItdVffI2d9OAEDp5BSokjn6N/jxXF9iciw+RVgBfHODScnpWgkHrDvAReEsRGj4Qr5ydFMHOqDt6cn3j6BaGJSKKhW3CGgKydnTRSPtpTxwKu3HyNDl7L7bF27n6KNpXuJ1wTSt1cv+gZqiN9X2u4CV6dlDJXsiVThNTSeE+Z/PDGBrtNtW3LUXngEJXDSvG19JhHePejRw87i1p+5B9qgWvN2KjETA+jb0xPPBwYQpFnItreqrW9va8onfqSGZCWgBcTtvCCgsQ8a0aVzXVwTxk4KkaaitSzQnrT77IjOzNxYcYZ3L7QfKDrbTr7v/CQRjUSj78MDAmNnAbOhgtzMHMrMka2ztEvaIdGveOB78YDAWIz2vRjt+4gsZB8SwXZnDwiMBcYCY/GAeMAJPCAwdoJO6M6jubRdolHxwL3xgMBYYCxRkXhAPOAEHhAYO0EnSGRxbyIL0VF07M4eEBgLjCUqEg+IB5zAAwJjJ+iE7jyaS9slGhUP3BsPCIwFxhIViQfEA07gAYGxE3SCRBb3JrIQHUXH7uwBgbHAWKIi8YB4wAk8IDB2gk7ozqO5tF2iUfHAvfGAwFhgLFGReEA84AQecFkY1557jeSEhUTNnkP0kjWkn6o0PTDePMrpKcuIZ1Z4OOGKJSIqiexKxaM2mztRV8Hx1EQWzp3LwsRUjl+2eSi9paMNVOW8yLoj17pmfofrN7fd9KovIyN+llX7w8MjiErKprLlmcl6LuxdRmSE9TG2HG9EBFHaw6ZyzdNSlZK9NZHF8+YwZ+4iElOyKamz2Z/lOGW9RIviga56wCVhfP3NBEapggiNe4GU1K2sWxbOcJ9BzN59QTEXXAMH56kY/dR20tLS2paMPMqUUzYZKtg3LwDfMdFoN21CGz0G36Hz2V9hA2yjEUPtadZp+jNhY5liP52Ytgv1t+v8hoPMU43mqe2K9qelkZFX1vaYzvprXK4op7xcsZQdZYV6IGNWnmidJaQ2n+dG++A/OQZt8na2b1rN4scDGKheQe71TtovgO7awCt6uaxergdjw2VSp/rZzHxsoOrAfPyHLaXA/AhLw0WSJwcRl990R3PUHo5hyPAl5FpmiK7h2DNBDInJVkx3VM+xlRpChvoz4Ee9ugRjx+q3D0TDxWQmB8WRbz4mh070Rk4/P45BoS+bpo0ycCUtlIFTUkyfTfsyXCY9wh9NyiXrh9A7tA/77W03mEhdd/Se6HV/+cgFYXyVIxvWk3PVOnI1XEllar9I9tWbOrjxGLGBj7PNNiVhBYha9s32RbP5olWkq7+wCY1vJHtrbM3SyJuLA5jkcGTc1fqt99d4LJbAx7e1pRqs2m5d1nxi60s2o/GfTqplaik9ZRsnMTT2mM3sJTpOr1KjXvmuTXrHfr3m+uVV9BEP2PeA68HYLpDqObtRg/+0VC6YZ1Gu3kFowAJ2Zb+EdslCYhYlsHZPIVfM3zfX01TA0iA1q07b5Ih1RWjVQcSfsI2quwjjLtdv3cnVO0IJWLCL7Je0LFkYw6KEtewpvGI1cFifGNc5uCAAtfZdq0lH9SVbmRqoQftmhQnIOq4UbODHg0J4tqBBoje7nrLuC2ud5TvRo70HXBrGuqI04qKjCJ8QgE/QT8i62AbVpsIVjPD2xlc9i7jV61i7ahHTAvvgH55GiXmq+vr9RPpMZ0e1rbDXSQvtx6y99Tag6iKMu1y/sh1NFK4Ygbe3L+pZcaxet5ZVi6YR2Mef8LQSu9GsvmwTmkGRZFZZ/2owGvWUpc1E5eFJn0HBhAT0w8tDRWjqeZtoWbl/eS/AEQ90xQMuDWNj/WXOv3uKvNe2EacJQZN0nOumKKfp1BpmRm2nWHGxznA9j6UhA9vyzfWZPNE3lF2WfLHZfHWkh/UhPOPmXcK4q/Wb99/82sSpNTOJ2l7cdrHOaOB63lJCBoaT3i790kTh8hCCE95qB9i6E4mo/SeyPOsc15sHIn0tJYeSmK4OY/s52+hf2QZ535WTUcq6tl9cEsZ6xVT1lhOgLp+4kNFoi9qiY8t3lp+hBsq3aBgQ9Wor4BqPsHDQBDZY8qsmM7XM1uxPTHbj3cG4y/U7YGZDOVs0A4h61Sa9UP8GiwNGk3TW9virSQ/3I3RHRbsLddX7nmRYZAbVFn0c2L+UtfGEaNb+PHNNTVwPxrXphA+O5pAi4m01QwMHolSE7qy548lS+8oM+sxMp64ZKoZyUqb4Mierbdr7lrpuZPGkr4aUctuf+11MU3S5fkdMXMsrM/owM916Jun6nIUMHr2aYnMKxgxN3VmSxjzMisL2Ect/cmIAAA10SURBVLC+5EXGhzzLqS7dreFIG6WMAMr1POB6MG7IJuYhNdozNhFg02m0an9icpqj2QaK9mwgq8SmjOEKmZG+hCS+bcq56inbrMEvLI2Kln+iaDaQgfK0GfhptljfCtYCty7CuDlX26X6FQZuKGLPhqy2/LYJroYrmUT6hpD4tvLYmshfEsiwpQVWF+5agdAcGavQbLa9N9pARdoMVI9tpdxy7Ir9m2Eur3cc3AW64hmzB1wPxsZGCpPGMiB4HinHSqiqq6Oq5E22PBmEasJailqivCbe0aoZOCaWncdLqbpZT83Fk6THjcdHFUaaMi1Rm0vcCD+mrM6htLqa0uwkNH7BxOfV2jkJ7wTjWnKTwpgWl2UNN4fq11F2KJl1e89y0wy/pnfQNv/jRuxOjpdWcbO+hosn04kb74MqLM16oNC/x4vj+hKRYRPhm+qqK0hEPXAkC7Ydo6SqjpvVH5CfFstYVRCxOdfapS/M5pJXAY14wHEPuCCMm9MLV8hPjmbiUB+8PT3x9glEE5NCQbUiraArJ2dNFI+2lPHAq7cfI0OXsvus9c/7ZrM1lu4lXhNI31696BuoIX5fabuLYK2mbCT36UA0my62B5ihkj2RKryGxnPC5md/p/W35Ki98AhK4KRiW115DmuiHmWojzeeHl709htJ6NLdnLX9N+amfOJHakgu0dsZQJrNZKAyP5noSYH4eHvi2cuHgAlRvHi03O5dGXICOn4CilaildkDrgljc/T4A7w2VZZxsVYBfUUbmorWskB7UnH3g+NGbaw4w7sX2g8U5o6WV8e1FK1Eqx/CAwJjBQx/iA6w7NNQQW5mDmWKyNbynbO0UdrRwS8HgZd49e49IDAWwAhgxAPiASfwgMDYCTpBooq7jypEQ9Gwu3tAYCwwlqhIPCAecAIPCIydoBO6+4gu7ZeoVDxw9x4QGAuMJSoSD4gHnMADAmMn6ASJKu4+qhANRcPu7gGBscBYoiLxgHjACTwgMHaCTujuI7q0X6JS8cDde0BgLDCWqEg8IB5wAg8IjJ2gEySquPuoQjQUDbu7BwTGAmOJisQD4gEn8IDA2Ak6obuP6NJ+iUrFA3fvAZeFce2510hOWEjU7DlEL1lD+qlKm8dB6inLiGdWeDjhiiUiKols2/njdBUcT01k4dy5LExM5fhl5YPbWzup8VIeL2tjmT9nDvMWr+Sl3EuOP53Ngfo7OhnqSrPZmriYeXPmMHdRIinZJa2zlCgHobpSsrcmsnjeHObMXURiSjYlVo/Z7IIWynrlvUSc4gGHPeCSML7+ZgKjVEGExr1ASupW1i0LZ7jPIGbvvqCYxr6Bg/NUjH5qO2lpaW1LRh5lyimbDBXsmxeA75hotJs2oY0eg+/Q+eyvaHtMZlPxFh5XqRg79zk2bttG8sr5jFOpmJJ8poPnHitGWQfq7wjEtfnPMdrHn8kxWpK3b2fT6sU8HjAQ9Ypcy8Srxtp8nhvtg//kGLTJ29m+aTWLHw9goHoFudfN7XBQCznxHD7xOuozWW/2nOu9uh6MDZdJnerXNsNzC0AMVB2Yj/+wpRSYH2FpuEjy5CDi8tvP/aY8YWoPxzBk+BJyLTNE13DsmSCGxGRT21J3PYeifQlOKGibhcNopP7tlagHRrK35s6m67z+DrY3XCEtdCBTUqynSzJcTifCX0PKpebBwsCVtFAGTkmxnvnDcJn0CH80KZdaH4LvoBZKXeR9B/0iA5YMWB14wAVhfJUjG9aTc7Utcm0Gh+FKKlP7RbKv3nQSNR4jNvBxttmmJKyErGXfbF80my8qImoj+gub0PiaQVvFjukqog7YzMbcmMfTQ8ex5nxHs2s0t8OR+js46fVlbJw0lNhjNjNU606zSq1m5bvNqRQ9ZRsnMTT2mE2EruP0KjXqle+2pm4c0qKDdljpJWVkkBIPdOQB14OxXTjUc3ajBv9pqVzQm8xSvYPQgAXsyn4J7ZKFxCxKYO2eQq6Yv2+up6mApUFqVp22yRHritCqg4g/0RpV62prqLOZtNNQkcpU3yfIsKQC7JjUwfrtd66ekq1TCdRoebPCBGTdFQo2/JhBIc9SYEq16Eu2MjVQg/bNChOQdVwp2MCPB4XwbIFpAHFEC7u62jkmKSeRoXjArgdcGsa6ojTioqMInxCAT9BPyLrYBtWmwhWM8PbGVz2LuNXrWLtqEdMC++AfntY243L9fiJ9prOj2hY610kL7cesvfV2RTfWnSU1fBhjnitofzFNadRvW7+5Dn0ZaTNVeHj2YVBwCAH9vPBQhZJ6Xhkt6ylLm4nKw5M+g4IJCeiHl4eK0NTzlmjZIS3M+5RX+30uuogunXjApWFsrL/M+XdPkffaNuI0IWiSjlsubDWdWsPMqO0UKy7WGa7nsTRkYFu+uT6TJ/qGssuSLzZDuY70sD6EZ9y0MaCOyhObmTtWTfj641y1iZbbRbhdrt+8/+bXOk4kqvGfuJysc9db0g362hIOJU1HHbadc6bceN2JRNT+E1medY7rOiNGfS0lh5KYrg5j+7nWyN4hLToxWrtjk/I23lD2nbx3Rb+4JIz1ejt52rp84kJGoy1qi47bG8JA+RYNA6Jebb0trfEICwdNYEOZTX0tszX7E5OtiEAbSti7ZCIhmjgyim84diJ2pX5buFWnE+4Xyg7FXR2tx1PNvieHEZlRjdFYTXq4H6E7KtrNVl2970mGRWZQbVuv5bONFpb1ApL2vhFNRJPOPeB6MK5NJ3xwNIcUEW+rURo4EKUidGfNHUFZ+8oM+sxMb00vGMpJmeLLnCwbuN7I4klfDSnlpouEjcVsCxvF1NW5VCpzzp0BzNH67dSjO5vEmIdXUGi+O8RSRk/Ji+MJefYUTbqzJI15mBWF7e8Y0Ze8yPiQZznVbvs2U1lpYam/7Xs5AUUL8YDjHnA9GDdkE/OQGu0Zmwi46TRatT8xOc3RbANFezaQVWJTxnCFzEhfQhLfNv2DiJ6yzRr8wtKosKQcDJSnzcBPs8V0u5ie9zZqGLM033Srm+Od03K3Q6f1d1Bfc2Ss0rDZNmo3VJA2Q8VjW8sxtETGKjSbrW9/a77lrSJtBqrHtlJucFSLDtohkL7j4C6wEt+YPeB6MDY2Upg0lgHB80g5VkJVXR1VJW+y5ckgVBPWUtQSCTbxjlbNwDGx7DxeStXNemouniQ9bjw+qjDSlICrzSVuhB9TVudQWl1NaXYSGr9g4vNqW09CXTPkx7H6bCM6nc56sUqX1JKbFMa0uCzKLWA3Yuys/hbY6Sg7lMy6vWcV9zLXUZCoZuDIBWxrOc6bVH+QT1rsWFRBseRca43a6woSUQ8cyYJtxyipquNm9Qfkp8UyVhVEbM41DMYuaCHgFfCKB761B1wQxkaMhivkJ0czcagP3p6eePsEoolJoaBace+xrpycNVE82lLGA6/efowMXcrus3XtxG4s3Uu8JpC+vXrRN1BD/L5Sy50IxvpMIrx70KOHncWtP3MPmFIchkr2RKrwGhrPCZvUwB3rbzZ/S47aC4+gBE4qtzVUthznpMDW4+zlE8CEqBc5Wq6M+A1U5icTPSkQH29PPHv5EDAhihePlrf9e3gXtDCP8vIqEZ94oGsecE0YO+no3VS0lgXak44/s0JxHI0VZ3j3QvuBQk6Irp0Qopfo9UN5QGCsANoP1Qkt+zVUkJuZQ5kysnWWtkk72v0a+kG9Iv1xX/aHwFiMfV8aW2ApEW5384DAWGAsMBYPiAecwAMCYyfohO42gkt7JeoUD9x7DwiMBcYSFYkHxANO4AGBsRN0gkQZ9z7KEE1F0+7mAYGxwFiiIvGAeMAJPCAwdoJO6G4juLRXok7xwL33gMBYYCxRkXhAPOAEHhAYO0EnSJRx76MM0VQ07W4eEBgLjCUqEg+IB5zAAwJjJ+iE7jaCS3sl6hQP3HsPCIwFxhIViQfEA07gAYGxE3SCRBn3PsoQTUXT7uYBgbHAWKIi8YB4wAk8IDB2gk7obiO4tFeiTvHAvfeAwFhgLFGReEA84AQeEBg7QSdIlHHvowzRVDTtbh5wMRgbqHg1Ds3EKF46r5wHzp5xv6uy9vYl67rbiSPtFc/eaw+4GIx1vKtV09PDj4VHGjr5afZdlRUT32sTS33iqfvBAy4G4+aZlG9wufwaTY6kJ76rso7sW8p0MlgKgO4HAMkxtPnY9WAskBPIiQfEA07oAYGxE3aKRAtt0YJoIVq4igcExgJjiZLEA+IBJ/CAwNgJOsFVRn45TolyxQMde0BgLDCWqEg8IB5wAg8IjJ2gEyRa6DhaEG1EG1fxgMBYYCxRkXhAPOAEHhAYO0EnuMrIL8cpUa54oGMPCIwFxhIViQfEA07gAYGxE3SCRAsdRwuijWjjKh4QGAuMJSoSD4gHnMADAmMn6ARXGfnlOCXKFQ907AGBscBYoiLxgHjACTwgMHaCTpBooeNoQbQRbVzFAwJjgbFEReIB8YATeOB7h/Hd7lC2FwVEAVFAFGivQI/2q2SNKCAKiAKiwPetgMD4+1Zc9icKiAKigB0FBMZ2RJFVooAoIAp83woIjL9vxWV/ooAoIArYUUBgbEcUWSUKiAKiwPetwP8HOGFFvIza4VgAAAAASUVORK5CYII=)"
      ]
    },
    {
      "cell_type": "markdown",
      "metadata": {
        "id": "NfOS_HUootgj"
      },
      "source": [
        "유의 사항\n",
        "\n",
        "성능이 우수한 예측 모형을 구축하기 위해서는 적절한 데이터 전처리, Feature Engineering, 분류 알고리즘 사용, 초매개변수 최적화, 모형 앙상블 등이 수반되어야 한다."
      ]
    },
    {
      "cell_type": "markdown",
      "metadata": {
        "id": "e68DxahvLaqb"
      },
      "source": [
        "### 2-02.데이터 불러오기, 탐색"
      ]
    },
    {
      "cell_type": "code",
      "metadata": {
        "id": "sQNsnyCnz5SC",
        "colab": {
          "base_uri": "https://localhost:8080/"
        },
        "outputId": "3694efe8-5375-4ff7-8ed1-2aea199ab3c6"
      },
      "source": [
        "!git clone https://github.com/Soyoung-Yoon/bigdata"
      ],
      "execution_count": null,
      "outputs": [
        {
          "output_type": "stream",
          "name": "stdout",
          "text": [
            "Cloning into 'bigdata'...\n",
            "remote: Enumerating objects: 50, done.\u001b[K\n",
            "remote: Total 50 (delta 0), reused 0 (delta 0), pack-reused 50\u001b[K\n",
            "Unpacking objects: 100% (50/50), done.\n"
          ]
        }
      ]
    },
    {
      "cell_type": "code",
      "metadata": {
        "id": "Aw3LHcWRdsgK"
      },
      "source": [
        "# [0] 사용 라이브러리 import\n",
        "import pandas as pd\n",
        "\n",
        "# 데이타가 많은경우 모두 출력 안되고 ... 으로 생략해서 출력됨.\n",
        "# 시험환경에서는 아래와 같이 해야해서 수정했습니다 ^^*\n",
        "pd.options.display.max_rows = 500     #출력할 max row를 지정\n",
        "pd.options.display.max_columns = 20   #출력할 max columns를 지정\n",
        "#출력 format 지정 - 소수점아래 4자리까지\n",
        "pd.set_option('display.float_format', '{:.4f}'.format)"
      ],
      "execution_count": null,
      "outputs": []
    },
    {
      "cell_type": "code",
      "metadata": {
        "colab": {
          "base_uri": "https://localhost:8080/"
        },
        "id": "PUeTMwKwuaCc",
        "outputId": "f6d71720-b778-4041-b9f6-e8f9f2a28b27"
      },
      "source": [
        "# [1] 학습 데이터 X_train.csv 가져오기\n",
        "X = pd.read_csv('bigdata/X_train.csv', encoding='cp949')\n",
        "print(X.head(2))"
      ],
      "execution_count": null,
      "outputs": [
        {
          "output_type": "stream",
          "name": "stdout",
          "text": [
            "   cust_id      총구매액     최대구매액         환불금액 주구매상품 주구매지점  내점일수  내점당구매건수  \\\n",
            "0        0  68282840  11264000 6860000.0000    기타   강남점    19   3.8947   \n",
            "1        1   2136000   2136000  300000.0000   스포츠   잠실점     2   1.5000   \n",
            "\n",
            "   주말방문비율  구매주기  \n",
            "0  0.5270    17  \n",
            "1  0.0000     1  \n"
          ]
        }
      ]
    },
    {
      "cell_type": "code",
      "metadata": {
        "colab": {
          "base_uri": "https://localhost:8080/"
        },
        "id": "Tlyugx7MwnQz",
        "outputId": "47c9274e-0158-4957-8161-3e0f5890b211"
      },
      "source": [
        "# [2] 학습 데이터 y_train.csv 가져오기\n",
        "Y = pd.read_csv('bigdata/y_train.csv')\n",
        "print(Y.head(2))"
      ],
      "execution_count": null,
      "outputs": [
        {
          "output_type": "stream",
          "name": "stdout",
          "text": [
            "   cust_id  gender\n",
            "0        0       0\n",
            "1        1       0\n"
          ]
        }
      ]
    },
    {
      "cell_type": "code",
      "metadata": {
        "colab": {
          "base_uri": "https://localhost:8080/"
        },
        "id": "g2viasFczkah",
        "outputId": "f00bfe51-f3e1-462f-a6ab-046ed5b4e1e4"
      },
      "source": [
        "# [3] 제출용 데이터 X_test.csv 가져오기\n",
        "X_submission = pd.read_csv('bigdata/X_test.csv', encoding='cp949')\n",
        "print(X_submission.head(2))"
      ],
      "execution_count": null,
      "outputs": [
        {
          "output_type": "stream",
          "name": "stdout",
          "text": [
            "   cust_id       총구매액     최대구매액          환불금액 주구매상품 주구매지점  내점일수  내점당구매건수  \\\n",
            "0     3500   70900400  22000000  4050000.0000    골프  부산본점    13   1.4615   \n",
            "1     3501  310533100  38558000 48034700.0000   농산물   잠실점    90   2.4333   \n",
            "\n",
            "   주말방문비율  구매주기  \n",
            "0  0.7895    26  \n",
            "1  0.3699     3  \n"
          ]
        }
      ]
    },
    {
      "cell_type": "markdown",
      "metadata": {
        "id": "k0WJbVLILiTd"
      },
      "source": [
        "### 2-03.데이터전처리"
      ]
    },
    {
      "cell_type": "code",
      "source": [
        "# 1. 결측치 없도록 한다\n",
        "# 2. dtype : int, float 만 가능함!\n",
        "#    object, datetime64, timedelta64 -> 적절하게 변경"
      ],
      "metadata": {
        "id": "8wB_uZ0A_E1r"
      },
      "execution_count": null,
      "outputs": []
    },
    {
      "cell_type": "code",
      "metadata": {
        "id": "I26VA1U9Rm5f",
        "colab": {
          "base_uri": "https://localhost:8080/"
        },
        "outputId": "a27ba6ac-1064-44e3-e886-de860f0489f9"
      },
      "source": [
        "# [4] X, X_submission에 동일한 전처리를 위해 두 데이터 결합하여 \n",
        "# dfX로 이름 붙이기\n",
        "dfX = pd.concat([X, X_submission], axis=0, ignore_index=True)\n",
        "print(dfX.tail(2))"
      ],
      "execution_count": null,
      "outputs": [
        {
          "output_type": "stream",
          "name": "stdout",
          "text": [
            "      cust_id      총구매액     최대구매액  환불금액 주구매상품 주구매지점  내점일수  내점당구매건수  주말방문비율  \\\n",
            "5980     5980  88991520  18120000   NaN    육류  본  점     5   3.6000  0.4444   \n",
            "5981     5981    623700    209000   NaN  가공식품  영등포점     2   5.0000  0.0000   \n",
            "\n",
            "      구매주기  \n",
            "5980    60  \n",
            "5981    31  \n"
          ]
        }
      ]
    },
    {
      "cell_type": "code",
      "metadata": {
        "id": "cpe7yfMLCC_M",
        "colab": {
          "base_uri": "https://localhost:8080/"
        },
        "outputId": "755a1f48-2872-4afd-e7aa-effe46349472"
      },
      "source": [
        "# [5] 각 컬럼의 dtype 및 행, 열 개수 확인\n",
        "dfX.info()"
      ],
      "execution_count": null,
      "outputs": [
        {
          "output_type": "stream",
          "name": "stdout",
          "text": [
            "<class 'pandas.core.frame.DataFrame'>\n",
            "RangeIndex: 5982 entries, 0 to 5981\n",
            "Data columns (total 10 columns):\n",
            " #   Column   Non-Null Count  Dtype  \n",
            "---  ------   --------------  -----  \n",
            " 0   cust_id  5982 non-null   int64  \n",
            " 1   총구매액     5982 non-null   int64  \n",
            " 2   최대구매액    5982 non-null   int64  \n",
            " 3   환불금액     2076 non-null   float64\n",
            " 4   주구매상품    5982 non-null   object \n",
            " 5   주구매지점    5982 non-null   object \n",
            " 6   내점일수     5982 non-null   int64  \n",
            " 7   내점당구매건수  5982 non-null   float64\n",
            " 8   주말방문비율   5982 non-null   float64\n",
            " 9   구매주기     5982 non-null   int64  \n",
            "dtypes: float64(3), int64(5), object(2)\n",
            "memory usage: 467.5+ KB\n"
          ]
        }
      ]
    },
    {
      "cell_type": "code",
      "metadata": {
        "id": "sXtNAgmcX42n"
      },
      "source": [
        "# 이때! 문제지와 잘 비교해서 틀린 정보가 없는지 확인해야 합니다."
      ],
      "execution_count": null,
      "outputs": []
    },
    {
      "cell_type": "code",
      "metadata": {
        "id": "rBkNIOxByTxG",
        "colab": {
          "base_uri": "https://localhost:8080/"
        },
        "outputId": "3d8c669d-447b-4b07-83ec-4156b7da4134"
      },
      "source": [
        "# [6] dfX의 컬럼별 결측치 확인하기\n",
        "print(dfX.isna().sum())"
      ],
      "execution_count": null,
      "outputs": [
        {
          "output_type": "stream",
          "name": "stdout",
          "text": [
            "cust_id       0\n",
            "총구매액          0\n",
            "최대구매액         0\n",
            "환불금액       3906\n",
            "주구매상품         0\n",
            "주구매지점         0\n",
            "내점일수          0\n",
            "내점당구매건수       0\n",
            "주말방문비율        0\n",
            "구매주기          0\n",
            "dtype: int64\n"
          ]
        }
      ]
    },
    {
      "cell_type": "code",
      "source": [
        "# 결측치 - 너무 많은 결측치를 가진 경우 \n",
        "# 1. 해당 컬럼을 제거하고 사용\n",
        "# 2. 다른 값으로 채우기 - 범주형 변수 (새로운 범주 생성), 연속형 변수 (평균, 중앙값)"
      ],
      "metadata": {
        "id": "LsNW61HFA2SM"
      },
      "execution_count": null,
      "outputs": []
    },
    {
      "cell_type": "code",
      "source": [
        "# 강의 내용에는 없음  아래처럼 실행할 경우 7 ~ 10번을 실행할 필요 없이 간단하게 처리하는 것임\n",
        "# 환불금액이 nan 인 경우 0, nan이 아닌 경우 1로 변경\n",
        "dfX['환불금액'] = dfX['환불금액'].notna().astype('int32')\n",
        "print(dfX.corr())"
      ],
      "metadata": {
        "colab": {
          "base_uri": "https://localhost:8080/"
        },
        "id": "RgLhdxGuXywF",
        "outputId": "4e75e640-b862-4889-a570-009f629887b5"
      },
      "execution_count": null,
      "outputs": [
        {
          "output_type": "stream",
          "name": "stdout",
          "text": [
            "         cust_id    총구매액   최대구매액    환불금액    내점일수  내점당구매건수  주말방문비율    구매주기\n",
            "cust_id   1.0000  0.0206  0.0210  0.0032 -0.0017  -0.0055 -0.0179 -0.0029\n",
            "총구매액      0.0206  1.0000  0.6826  0.4013  0.6484   0.1050  0.0160 -0.2126\n",
            "최대구매액     0.0210  0.6826  1.0000  0.3227  0.3602   0.0291  0.0163 -0.1128\n",
            "환불금액      0.0032  0.4013  0.3227  1.0000  0.5000   0.0674 -0.0066 -0.2090\n",
            "내점일수     -0.0017  0.6484  0.3602  0.5000  1.0000   0.2303 -0.0036 -0.2953\n",
            "내점당구매건수  -0.0055  0.1050  0.0291  0.0674  0.2303   1.0000  0.0110 -0.0781\n",
            "주말방문비율   -0.0179  0.0160  0.0163 -0.0066 -0.0036   0.0110  1.0000 -0.0135\n",
            "구매주기     -0.0029 -0.2126 -0.1128 -0.2090 -0.2953  -0.0781 -0.0135  1.0000\n"
          ]
        }
      ]
    },
    {
      "cell_type": "code",
      "metadata": {
        "id": "F2CZXEROyrap"
      },
      "source": [
        "# [7] 결측치를 채우기 위한 값 선정을 위한 작업\n",
        "# 주구매상품별로 환불금액 평균이 다름을 확인\n",
        "temp = dfX.groupby('주구매상품')['환불금액'].mean()\n",
        "print(temp)"
      ],
      "execution_count": null,
      "outputs": []
    },
    {
      "cell_type": "code",
      "source": [
        "dfX['주구매상품'].head(5)"
      ],
      "metadata": {
        "colab": {
          "base_uri": "https://localhost:8080/"
        },
        "id": "v5dQcIh0CJxa",
        "outputId": "da3b824d-50d8-4312-deca-b91b9cade160"
      },
      "execution_count": null,
      "outputs": [
        {
          "output_type": "execute_result",
          "data": {
            "text/plain": [
              "0        기타\n",
              "1       스포츠\n",
              "2    남성 캐주얼\n",
              "3        기타\n",
              "4        보석\n",
              "Name: 주구매상품, dtype: object"
            ]
          },
          "metadata": {},
          "execution_count": 20
        }
      ]
    },
    {
      "cell_type": "code",
      "metadata": {
        "id": "U6IooyF5y-fC"
      },
      "source": [
        "# [8] '주구매상품'별 '환불금액' 평균으로 '환불금액'의 결측치를 채우기 한다\n",
        "# 채우기 한 뒤 '환불금액'으로 추가한다. \n",
        "temp = dfX.groupby('주구매상품')['환불금액'].transform('mean')\n",
        "dfX['환불금액'] = dfX['환불금액'].mask(dfX['환불금액'].isna(), temp)  # dfX['환불금액']의 결측치를 temp로 채우기"
      ],
      "execution_count": null,
      "outputs": []
    },
    {
      "cell_type": "code",
      "metadata": {
        "id": "K-M_J3e45xIN"
      },
      "source": [
        "# [9] '환불금액' 컬럼의 결측치 행을 확인해 본다\n",
        "dfX[dfX['환불금액'].isna()]   # 주구매상품 중에서 '통신/컴퓨터', '소형가전', '악기' 채워지지 않음"
      ],
      "execution_count": null,
      "outputs": []
    },
    {
      "cell_type": "code",
      "metadata": {
        "id": "vUzLbBKfSPp1",
        "colab": {
          "base_uri": "https://localhost:8080/"
        },
        "outputId": "4709d287-8125-4204-fe15-94a8622c337d"
      },
      "source": [
        "# [10] '주구매상품'별 평균을 구할 수 없는 경우 '환불금액'을 '환불금액'의 평균으로 채우기 합니다.\n",
        "# 채우기 후에 채우기가 잘 적용되었는지 확인합니다.\n",
        "dfX['환불금액'] = dfX['환불금액'].fillna(dfX['환불금액'].mean())\n",
        "print(dfX.isna().sum().sum())"
      ],
      "execution_count": null,
      "outputs": [
        {
          "output_type": "stream",
          "name": "stdout",
          "text": [
            "0\n"
          ]
        }
      ]
    },
    {
      "cell_type": "code",
      "metadata": {
        "colab": {
          "base_uri": "https://localhost:8080/"
        },
        "id": "mOyLz9KEZ2G2",
        "outputId": "231c762b-c193-49e3-e01e-0315ca8862d6"
      },
      "source": [
        "# [11] dfX에서 높은 상관계수 확인하기 (X Feature간)\n",
        "# 상관관계가 높은 X1, X2가 있다면 제거 : -1 또는 1에 가까운 것은 좋지 않음\n",
        "print(dfX.corr())"
      ],
      "execution_count": null,
      "outputs": [
        {
          "output_type": "stream",
          "name": "stdout",
          "text": [
            "         cust_id    총구매액   최대구매액    환불금액    내점일수  내점당구매건수  주말방문비율    구매주기\n",
            "cust_id   1.0000  0.0206  0.0210  0.0113 -0.0017  -0.0055 -0.0179 -0.0029\n",
            "총구매액      0.0206  1.0000  0.6826  0.3773  0.6484   0.1050  0.0160 -0.2126\n",
            "최대구매액     0.0210  0.6826  1.0000  0.3726  0.3602   0.0291  0.0163 -0.1128\n",
            "환불금액      0.0113  0.3773  0.3726  1.0000  0.2362  -0.0270 -0.0174 -0.0754\n",
            "내점일수     -0.0017  0.6484  0.3602  0.2362  1.0000   0.2303 -0.0036 -0.2953\n",
            "내점당구매건수  -0.0055  0.1050  0.0291 -0.0270  0.2303   1.0000  0.0110 -0.0781\n",
            "주말방문비율   -0.0179  0.0160  0.0163 -0.0174 -0.0036   0.0110  1.0000 -0.0135\n",
            "구매주기     -0.0029 -0.2126 -0.1128 -0.0754 -0.2953  -0.0781 -0.0135  1.0000\n"
          ]
        }
      ]
    },
    {
      "cell_type": "code",
      "source": [
        "# [12] Y['gender'] 값의 분포 확인 - 여성 (62.4%), 남성 (37.6%)\n",
        "temp = Y['gender'].value_counts(normalize=True)\n",
        "print(temp)"
      ],
      "metadata": {
        "colab": {
          "base_uri": "https://localhost:8080/"
        },
        "id": "jjneEd-GRxya",
        "outputId": "36696da0-aaae-463a-8f21-fb0ca636ef70"
      },
      "execution_count": null,
      "outputs": [
        {
          "output_type": "stream",
          "name": "stdout",
          "text": [
            "0   0.6240\n",
            "1   0.3760\n",
            "Name: gender, dtype: float64\n"
          ]
        }
      ]
    },
    {
      "cell_type": "code",
      "source": [
        "dfX.iloc[:3500,:].columns, Y.columns"
      ],
      "metadata": {
        "colab": {
          "base_uri": "https://localhost:8080/"
        },
        "id": "5dKMOhW4IK0Z",
        "outputId": "d371a76e-b94c-456d-acb8-6507e1f9f712"
      },
      "execution_count": null,
      "outputs": [
        {
          "output_type": "execute_result",
          "data": {
            "text/plain": [
              "(Index(['cust_id', '총구매액', '최대구매액', '환불금액', '주구매상품', '주구매지점', '내점일수', '내점당구매건수',\n",
              "        '주말방문비율', '구매주기'],\n",
              "       dtype='object'), Index(['cust_id', 'gender'], dtype='object'))"
            ]
          },
          "metadata": {},
          "execution_count": 41
        }
      ]
    },
    {
      "cell_type": "code",
      "metadata": {
        "colab": {
          "base_uri": "https://localhost:8080/"
        },
        "id": "Ox50haLxyceW",
        "outputId": "4f753a7f-9346-400e-9289-7ae436ce317e"
      },
      "source": [
        "# [13] dfX.iloc[:3500,:], Y를 병합(merge)하여 dfXY를 만들어 사용\n",
        "dfXY = pd.merge(dfX.iloc[:3500,:], Y)\n",
        "dfXY.columns, dfXY.shape"
      ],
      "execution_count": null,
      "outputs": [
        {
          "output_type": "execute_result",
          "data": {
            "text/plain": [
              "(Index(['cust_id', '총구매액', '최대구매액', '환불금액', '주구매상품', '주구매지점', '내점일수', '내점당구매건수',\n",
              "        '주말방문비율', '구매주기', 'gender'],\n",
              "       dtype='object'), (3500, 11))"
            ]
          },
          "metadata": {},
          "execution_count": 31
        }
      ]
    },
    {
      "cell_type": "code",
      "source": [
        "# [강의 내용에는 없음]  범주별 평균의 차이가 있는지 검증\n",
        "from scipy import stats\n",
        "\n",
        "def statistical_test(mode, df, cat, target):\n",
        "    uniques= df[cat].unique()\n",
        "    \n",
        "    if mode == 't':\n",
        "        group = df.groupby(cat)[target]\n",
        "        samples = [group.get_group(i) for i in uniques]\n",
        "        value, p = stats.ttest_ind(*samples)\n",
        "        return value, p, 'Statistically Signifcant' if p<=0.05 else 'Statistically Insignifcant'\n",
        "    elif mode == 'f':\n",
        "        group = df.groupby(cat)[target]\n",
        "        samples = [group.get_group(i) for i in uniques]\n",
        "        value, p = stats.f_oneway(*samples)\n",
        "        return value, p, 'Statistically Signifcant' if p<=0.05 else 'Statistically Insignifcant'\n",
        "\n",
        "# 환불금액을   환불여부를 나타내는 0, 1로 채웠을 때 gender별 평균이 유의미하게 다음  \n",
        "statistical_test('f', dfXY, '환불금액', 'gender')      "
      ],
      "metadata": {
        "colab": {
          "base_uri": "https://localhost:8080/"
        },
        "id": "u_q9X9plaS_7",
        "outputId": "fed9f51b-681e-4a42-9201-4fb89daaaf0b"
      },
      "execution_count": null,
      "outputs": [
        {
          "output_type": "execute_result",
          "data": {
            "text/plain": [
              "(149.5047891988149, 1.0736788722190066e-33, 'Statistically Signifcant')"
            ]
          },
          "metadata": {},
          "execution_count": 32
        }
      ]
    },
    {
      "cell_type": "code",
      "source": [
        "#temp = pd.concat([dfX.iloc[:3500,:], Y['gender']], axis=1)\n",
        "#temp.columns, temp.shape"
      ],
      "metadata": {
        "colab": {
          "base_uri": "https://localhost:8080/"
        },
        "id": "i0MT1PDUIa60",
        "outputId": "e25f1bdd-138f-4d9b-f314-7c53dce0d056"
      },
      "execution_count": null,
      "outputs": [
        {
          "output_type": "execute_result",
          "data": {
            "text/plain": [
              "(Index(['cust_id', '총구매액', '최대구매액', '환불금액', '주구매상품', '주구매지점', '내점일수', '내점당구매건수',\n",
              "        '주말방문비율', '구매주기', 'gender'],\n",
              "       dtype='object'), (3500, 11))"
            ]
          },
          "metadata": {},
          "execution_count": 44
        }
      ]
    },
    {
      "cell_type": "code",
      "metadata": {
        "colab": {
          "base_uri": "https://localhost:8080/"
        },
        "id": "4YdctwqQLv75",
        "outputId": "7ba5b113-c496-4054-8712-f76ae78048a6"
      },
      "source": [
        "# [14] dfXY를 사용해 성별별 평균을 구한다.\n",
        "# 'gender'에 따라 총구매액 ~ 구매주기에 값의 차이가 있는지 확인한다.\n",
        "temp = dfXY.groupby('gender').mean()\n",
        "print(temp)"
      ],
      "execution_count": null,
      "outputs": [
        {
          "output_type": "stream",
          "name": "stdout",
          "text": [
            "         cust_id           총구매액         최대구매액          환불금액    내점일수  내점당구매건수  \\\n",
            "gender                                                                         \n",
            "0      1751.0636 110972689.2674 22502944.8672 23035538.5256 22.5229   2.9001   \n",
            "1      1746.9050  60298653.4422 14953202.6140 18234312.8038 13.8283   2.7268   \n",
            "\n",
            "        주말방문비율    구매주기  \n",
            "gender                  \n",
            "0       0.2907 20.1621  \n",
            "1       0.3347 22.2796  \n"
          ]
        }
      ]
    },
    {
      "cell_type": "code",
      "metadata": {
        "id": "WiFjWi47WY3a"
      },
      "source": [
        "# [15] dfXY를 사용해 '주구매지점'별, 'gender'별 방문횟수를 확인한다\n",
        "# 성별에 다른 분포가 있으므로 '주구매지점' 포함\n",
        "temp = dfXY.groupby(['주구매지점', 'gender'])['주구매지점'].count()\n",
        "print(temp)"
      ],
      "execution_count": null,
      "outputs": []
    },
    {
      "cell_type": "code",
      "metadata": {
        "id": "VKXxualsiInA"
      },
      "source": [
        "# [16] dfXY를 사용해 '주구매상품'별, 'gender'별 방문횟수를 확인한다\n",
        "# 성별에 다른 분포가 있으므로 '주구매상품' 포함\n",
        "temp = dfXY.groupby(['주구매상품', 'gender'])['주구매상품'].count()\n",
        "print(temp)"
      ],
      "execution_count": null,
      "outputs": []
    },
    {
      "cell_type": "code",
      "source": [
        "# object dtype 이었던 '주구매지점' '주구매상품' => 숫자로 변경"
      ],
      "metadata": {
        "id": "ohWYeYv4Jtlx"
      },
      "execution_count": null,
      "outputs": []
    },
    {
      "cell_type": "code",
      "metadata": {
        "colab": {
          "base_uri": "https://localhost:8080/"
        },
        "id": "hh0VpLflWpVT",
        "outputId": "02959ec5-dafd-40a5-da75-517a1577db43"
      },
      "source": [
        "# [17] dfX에서 '주구매지점'에 대해 중복을 제거해 본다 (고윳값을 확인함)\n",
        "A = dfX['주구매지점'].unique()\n",
        "print(A)   # 명목형"
      ],
      "execution_count": null,
      "outputs": [
        {
          "output_type": "stream",
          "name": "stdout",
          "text": [
            "['강남점' '잠실점' '관악점' '광주점' '본  점' '일산점' '대전점' '부산본점' '분당점' '영등포점' '미아점'\n",
            " '청량리점' '안양점' '부평점' '동래점' '포항점' '노원점' '창원점' '센텀시티점' '인천점' '대구점' '전주점'\n",
            " '울산점' '상인점']\n"
          ]
        }
      ]
    },
    {
      "cell_type": "code",
      "metadata": {
        "colab": {
          "base_uri": "https://localhost:8080/"
        },
        "id": "cuUY0-0MWywe",
        "outputId": "11aa3fba-fd42-4848-968a-e6301f858fad"
      },
      "source": [
        "# [18] dfX에서 '주구매상품'에 대해 중복을 제거해 본다 (고윳값을 확인함)\n",
        "B = dfX['주구매상품'].unique()\n",
        "print(B)   # 명목형"
      ],
      "execution_count": null,
      "outputs": [
        {
          "output_type": "stream",
          "name": "stdout",
          "text": [
            "['기타' '스포츠' '남성 캐주얼' '보석' '디자이너' '시티웨어' '명품' '농산물' '화장품' '골프' '구두' '가공식품'\n",
            " '수산품' '아동' '차/커피' '캐주얼' '섬유잡화' '육류' '축산가공' '젓갈/반찬' '액세서리' '피혁잡화' '일용잡화'\n",
            " '주방가전' '주방용품' '건강식품' '가구' '주류' '모피/피혁' '남성 트랜디' '셔츠' '남성정장' '생활잡화'\n",
            " '트래디셔널' '란제리/내의' '커리어' '침구/수예' '대형가전' '통신/컴퓨터' '식기' '소형가전' '악기']\n"
          ]
        }
      ]
    },
    {
      "cell_type": "code",
      "metadata": {
        "id": "NqtCzDFuXtq1"
      },
      "source": [
        "# [19] '주구매지점', '주구매상품'에 대해 Label Encoding을 실행한다\n",
        "# 항목별 순서 개념이 없는 경우\n",
        "dfX['주구매지점'] = dfX['주구매지점'].astype('category').cat.codes\n",
        "dfX['주구매상품'] = dfX['주구매상품'].astype('category').cat.codes"
      ],
      "execution_count": null,
      "outputs": []
    },
    {
      "cell_type": "code",
      "metadata": {
        "id": "V2lK6BkPZyc-",
        "colab": {
          "base_uri": "https://localhost:8080/"
        },
        "outputId": "58bd1fec-0093-4f9d-af01-f9379ce99887"
      },
      "source": [
        "# [20] 최종 데이터 점검\n",
        "# 결측치 확인, 데이터타입 확인(수치형)\n",
        "dfX.info()"
      ],
      "execution_count": null,
      "outputs": [
        {
          "output_type": "stream",
          "name": "stdout",
          "text": [
            "<class 'pandas.core.frame.DataFrame'>\n",
            "RangeIndex: 5982 entries, 0 to 5981\n",
            "Data columns (total 10 columns):\n",
            " #   Column   Non-Null Count  Dtype  \n",
            "---  ------   --------------  -----  \n",
            " 0   cust_id  5982 non-null   int64  \n",
            " 1   총구매액     5982 non-null   int64  \n",
            " 2   최대구매액    5982 non-null   int64  \n",
            " 3   환불금액     5982 non-null   float64\n",
            " 4   주구매상품    5982 non-null   int8   \n",
            " 5   주구매지점    5982 non-null   int8   \n",
            " 6   내점일수     5982 non-null   int64  \n",
            " 7   내점당구매건수  5982 non-null   float64\n",
            " 8   주말방문비율   5982 non-null   float64\n",
            " 9   구매주기     5982 non-null   int64  \n",
            "dtypes: float64(3), int64(5), int8(2)\n",
            "memory usage: 385.7 KB\n"
          ]
        }
      ]
    },
    {
      "cell_type": "markdown",
      "metadata": {
        "id": "CMXy2nwBVOs1"
      },
      "source": [
        "### 2-04.데이터 분리, 모델 생성 및 학습"
      ]
    },
    {
      "cell_type": "code",
      "metadata": {
        "id": "1DivowvtISDO"
      },
      "source": [
        "# [21] 사용할 도구 import\n",
        "from sklearn.preprocessing import StandardScaler\n",
        "from sklearn.model_selection import train_test_split\n",
        "from sklearn.linear_model import LogisticRegression\n",
        "from sklearn.neighbors import KNeighborsClassifier\n",
        "from sklearn.tree import DecisionTreeClassifier\n",
        "from sklearn.ensemble import RandomForestClassifier\n",
        "from xgboost import XGBClassifier\n",
        "from sklearn.metrics import roc_auc_score"
      ],
      "execution_count": null,
      "outputs": []
    },
    {
      "cell_type": "code",
      "source": [
        "# [22] train score, test score, roc_auc_score 를 반환하는 함수 작성\n",
        "def get_scores(model, xtrain, xtest, ytrain, ytest):\n",
        "    A = model.score(xtrain, ytrain)\n",
        "    B = model.score(xtest, ytest)\n",
        "    ypred = model.predict_proba(xtest)[:, 1]\n",
        "    C = roc_auc_score(ytest, ypred)\n",
        "    return '{:.4f} {:.4f} {:.4f}'.format(A, B, C)"
      ],
      "metadata": {
        "id": "dMAYHYrGKvr-"
      },
      "execution_count": null,
      "outputs": []
    },
    {
      "cell_type": "code",
      "source": [
        "# [23] 다양한 모델을 만들고 성능을 출력하는 함수 작성\n",
        "def make_models(xtrain, xtest, ytrain, ytest):\n",
        "    model1 = LogisticRegression(max_iter=5000).fit(xtrain, ytrain)\n",
        "    print('model1', get_scores(model1, xtrain, xtest, ytrain, ytest))\n",
        "\n",
        "    for k in range(1, 10):\n",
        "        model2 = KNeighborsClassifier(k).fit(xtrain, ytrain)\n",
        "        print('model2', k, get_scores(model2, xtrain, xtest, ytrain, ytest))\n",
        "\n",
        "    # overfitting ??\n",
        "    model3 = DecisionTreeClassifier(random_state=0).fit(xtrain, ytrain)\n",
        "    print('model3', get_scores(model3, xtrain, xtest, ytrain, ytest))\n",
        "    for d in range(3, 8):\n",
        "        model3 = DecisionTreeClassifier(max_depth=d, random_state=0).fit(xtrain, ytrain)\n",
        "        print('model3', d, get_scores(model3, xtrain, xtest, ytrain, ytest)) \n",
        "\n",
        "    # overfitting ??\n",
        "    model4 = RandomForestClassifier(random_state=0).fit(xtrain, ytrain)\n",
        "    print('model4', get_scores(model4, xtrain, xtest, ytrain, ytest))\n",
        "    for d in range(3, 8):\n",
        "        model4 = RandomForestClassifier(500, max_depth=d,random_state=0).fit(xtrain, ytrain)\n",
        "        print('model4', d, get_scores(model4, xtrain, xtest, ytrain, ytest))\n",
        "\n",
        "    model5 = XGBClassifier().fit(xtrain, ytrain)\n",
        "    print('model5', get_scores(model5, xtrain, xtest, ytrain, ytest))"
      ],
      "metadata": {
        "id": "ZSqp65X1K1NE"
      },
      "execution_count": null,
      "outputs": []
    },
    {
      "cell_type": "code",
      "source": [
        "# [24] X를 train 용도, submission 용도로 나누고, Y를 1차원으로 바꿈 \n",
        "# (StandardScaler 적용)\n",
        "def get_data(dfX, Y):\n",
        "    X = dfX.drop(columns=['cust_id'])\n",
        "    X_use = X.iloc[:3500, :]\n",
        "    X_submission = X.iloc[3500:, :]\n",
        "    Y1 = Y['gender']\n",
        "    scaler = StandardScaler()\n",
        "    X1_use = scaler.fit_transform(X_use)\n",
        "    X1_submission = scaler.transform(X_submission)\n",
        "    print(X1_use.shape, X1_submission.shape, Y1.shape)\n",
        "    return X1_use, X1_submission, Y1"
      ],
      "metadata": {
        "id": "WBJl5rVLLNfB"
      },
      "execution_count": null,
      "outputs": []
    },
    {
      "cell_type": "code",
      "metadata": {
        "id": "dw5v1PCDj6c7"
      },
      "source": [
        "# [25] dfX, Y 사용 \n",
        "\n",
        "# X, Y 분리하기\n",
        "X1_use, X1_submission, Y1 = get_data(dfX, Y)\n",
        "# train, test  7:3 분할, stratify 적용, random_state=0 적용\n",
        "xtrain, xtest, ytrain, ytest = train_test_split(X1_use, Y1,\n",
        "                                                test_size=0.3,\n",
        "                                                stratify=Y1,\n",
        "                                                random_state=0)\n",
        "# 다양한 모델 만들어 보기\n",
        "# make_models 함수 호출 부분은 \n",
        "# 실제 시험에서 제출 전에 꼭 주석을 취해 주세요 ^_^  - 실행 시간 초과 금지\n",
        "\n",
        "make_models(xtrain, xtest, ytrain, ytest)"
      ],
      "execution_count": null,
      "outputs": []
    },
    {
      "cell_type": "code",
      "source": [
        "0.6959 - 0.6686, 0.7314 - 0.6590, 0.7669 - 0.6648"
      ],
      "metadata": {
        "colab": {
          "base_uri": "https://localhost:8080/"
        },
        "id": "rX4RDzHpql4d",
        "outputId": "38de4ac6-39db-46a3-b2ac-439943f3792b"
      },
      "execution_count": null,
      "outputs": [
        {
          "output_type": "execute_result",
          "data": {
            "text/plain": [
              "(0.02729999999999999, 0.07240000000000002, 0.10210000000000008)"
            ]
          },
          "metadata": {},
          "execution_count": 99
        }
      ]
    },
    {
      "cell_type": "code",
      "source": [
        "# [26] roc_auc 가장 성능이 좋은 모델 선택  \n",
        "# model4 6 0.7314 0.6590 0.6989\n",
        "model = RandomForestClassifier(500, max_depth=6,random_state=0).fit(xtrain, ytrain)\n",
        "print('final model', get_scores(model, xtrain, xtest, ytrain, ytest))"
      ],
      "metadata": {
        "colab": {
          "base_uri": "https://localhost:8080/"
        },
        "id": "q_Zyh2r2OJ2p",
        "outputId": "f94d549d-aa41-4712-c662-cdbd36107be6"
      },
      "execution_count": null,
      "outputs": [
        {
          "output_type": "stream",
          "name": "stdout",
          "text": [
            "final model 0.7314 0.6590 0.6989\n"
          ]
        }
      ]
    },
    {
      "cell_type": "code",
      "source": [
        "# 29강에서 설명합니다.\n",
        "# depth = 5 도 좋음 : train, test 점수 차이가 많지 않고, roc_auc 점수 좋음\n",
        "# train, test, roc_auc를 모두 고려해서 앞으로 평가에 좋은 결과를 보일 것으로 예상됨\n",
        "model = RandomForestClassifier(500, max_depth=5,random_state=0).fit(xtrain, ytrain)\n",
        "print('final model', get_scores(model, xtrain, xtest, ytrain, ytest))"
      ],
      "metadata": {
        "id": "xZuUZzFHrUe2"
      },
      "execution_count": null,
      "outputs": []
    },
    {
      "cell_type": "code",
      "source": [
        "# 또는 GridSearchCV를 사용해 좋은 parameter를 찾아볼 수 있음"
      ],
      "metadata": {
        "id": "FaOzQGnQQ6jN"
      },
      "execution_count": null,
      "outputs": []
    },
    {
      "cell_type": "markdown",
      "metadata": {
        "id": "VvRhEt5mXty9"
      },
      "source": [
        "### 2-05.제출할 데이터 생성"
      ]
    },
    {
      "cell_type": "code",
      "source": [
        "X_submission.columns"
      ],
      "metadata": {
        "colab": {
          "base_uri": "https://localhost:8080/"
        },
        "id": "qFkI4LQfb96y",
        "outputId": "d3950f02-952a-46bf-870b-03e86c98a9c2"
      },
      "execution_count": null,
      "outputs": [
        {
          "output_type": "execute_result",
          "data": {
            "text/plain": [
              "Index(['cust_id', '총구매액', '최대구매액', '환불금액', '주구매상품', '주구매지점', '내점일수', '내점당구매건수',\n",
              "       '주말방문비율', '구매주기'],\n",
              "      dtype='object')"
            ]
          },
          "metadata": {},
          "execution_count": 67
        }
      ]
    },
    {
      "cell_type": "code",
      "metadata": {
        "id": "o0XwFEZt99Iv"
      },
      "source": [
        "# [27] X1_submission 으로 cust_id와 예측한 남자일 확률을 파일로 저장하기\n",
        "pred = model.predict_proba(X1_submission)[:, 1]\n",
        "submission = pd.DataFrame({'cust_id': X_submission['cust_id'],\n",
        "                           'gender': pred})\n",
        "submission.to_csv('submission.csv', index=False)"
      ],
      "execution_count": null,
      "outputs": []
    },
    {
      "cell_type": "code",
      "metadata": {
        "colab": {
          "base_uri": "https://localhost:8080/",
          "height": 112
        },
        "id": "wVS_LjqFVRp3",
        "outputId": "c1959835-cca1-4308-edd1-bf929a3ec77b"
      },
      "source": [
        "# [28] 파일 읽어 출력해 보기\n",
        "temp = pd.read_csv('submission.csv')\n",
        "temp.head(2)"
      ],
      "execution_count": null,
      "outputs": [
        {
          "output_type": "execute_result",
          "data": {
            "text/html": [
              "\n",
              "  <div id=\"df-0732056d-3658-4421-b062-93280318011a\">\n",
              "    <div class=\"colab-df-container\">\n",
              "      <div>\n",
              "<style scoped>\n",
              "    .dataframe tbody tr th:only-of-type {\n",
              "        vertical-align: middle;\n",
              "    }\n",
              "\n",
              "    .dataframe tbody tr th {\n",
              "        vertical-align: top;\n",
              "    }\n",
              "\n",
              "    .dataframe thead th {\n",
              "        text-align: right;\n",
              "    }\n",
              "</style>\n",
              "<table border=\"1\" class=\"dataframe\">\n",
              "  <thead>\n",
              "    <tr style=\"text-align: right;\">\n",
              "      <th></th>\n",
              "      <th>cust_id</th>\n",
              "      <th>gender</th>\n",
              "    </tr>\n",
              "  </thead>\n",
              "  <tbody>\n",
              "    <tr>\n",
              "      <th>0</th>\n",
              "      <td>3500</td>\n",
              "      <td>0.4919</td>\n",
              "    </tr>\n",
              "    <tr>\n",
              "      <th>1</th>\n",
              "      <td>3501</td>\n",
              "      <td>0.1835</td>\n",
              "    </tr>\n",
              "  </tbody>\n",
              "</table>\n",
              "</div>\n",
              "      <button class=\"colab-df-convert\" onclick=\"convertToInteractive('df-0732056d-3658-4421-b062-93280318011a')\"\n",
              "              title=\"Convert this dataframe to an interactive table.\"\n",
              "              style=\"display:none;\">\n",
              "        \n",
              "  <svg xmlns=\"http://www.w3.org/2000/svg\" height=\"24px\"viewBox=\"0 0 24 24\"\n",
              "       width=\"24px\">\n",
              "    <path d=\"M0 0h24v24H0V0z\" fill=\"none\"/>\n",
              "    <path d=\"M18.56 5.44l.94 2.06.94-2.06 2.06-.94-2.06-.94-.94-2.06-.94 2.06-2.06.94zm-11 1L8.5 8.5l.94-2.06 2.06-.94-2.06-.94L8.5 2.5l-.94 2.06-2.06.94zm10 10l.94 2.06.94-2.06 2.06-.94-2.06-.94-.94-2.06-.94 2.06-2.06.94z\"/><path d=\"M17.41 7.96l-1.37-1.37c-.4-.4-.92-.59-1.43-.59-.52 0-1.04.2-1.43.59L10.3 9.45l-7.72 7.72c-.78.78-.78 2.05 0 2.83L4 21.41c.39.39.9.59 1.41.59.51 0 1.02-.2 1.41-.59l7.78-7.78 2.81-2.81c.8-.78.8-2.07 0-2.86zM5.41 20L4 18.59l7.72-7.72 1.47 1.35L5.41 20z\"/>\n",
              "  </svg>\n",
              "      </button>\n",
              "      \n",
              "  <style>\n",
              "    .colab-df-container {\n",
              "      display:flex;\n",
              "      flex-wrap:wrap;\n",
              "      gap: 12px;\n",
              "    }\n",
              "\n",
              "    .colab-df-convert {\n",
              "      background-color: #E8F0FE;\n",
              "      border: none;\n",
              "      border-radius: 50%;\n",
              "      cursor: pointer;\n",
              "      display: none;\n",
              "      fill: #1967D2;\n",
              "      height: 32px;\n",
              "      padding: 0 0 0 0;\n",
              "      width: 32px;\n",
              "    }\n",
              "\n",
              "    .colab-df-convert:hover {\n",
              "      background-color: #E2EBFA;\n",
              "      box-shadow: 0px 1px 2px rgba(60, 64, 67, 0.3), 0px 1px 3px 1px rgba(60, 64, 67, 0.15);\n",
              "      fill: #174EA6;\n",
              "    }\n",
              "\n",
              "    [theme=dark] .colab-df-convert {\n",
              "      background-color: #3B4455;\n",
              "      fill: #D2E3FC;\n",
              "    }\n",
              "\n",
              "    [theme=dark] .colab-df-convert:hover {\n",
              "      background-color: #434B5C;\n",
              "      box-shadow: 0px 1px 3px 1px rgba(0, 0, 0, 0.15);\n",
              "      filter: drop-shadow(0px 1px 2px rgba(0, 0, 0, 0.3));\n",
              "      fill: #FFFFFF;\n",
              "    }\n",
              "  </style>\n",
              "\n",
              "      <script>\n",
              "        const buttonEl =\n",
              "          document.querySelector('#df-0732056d-3658-4421-b062-93280318011a button.colab-df-convert');\n",
              "        buttonEl.style.display =\n",
              "          google.colab.kernel.accessAllowed ? 'block' : 'none';\n",
              "\n",
              "        async function convertToInteractive(key) {\n",
              "          const element = document.querySelector('#df-0732056d-3658-4421-b062-93280318011a');\n",
              "          const dataTable =\n",
              "            await google.colab.kernel.invokeFunction('convertToInteractive',\n",
              "                                                     [key], {});\n",
              "          if (!dataTable) return;\n",
              "\n",
              "          const docLinkHtml = 'Like what you see? Visit the ' +\n",
              "            '<a target=\"_blank\" href=https://colab.research.google.com/notebooks/data_table.ipynb>data table notebook</a>'\n",
              "            + ' to learn more about interactive tables.';\n",
              "          element.innerHTML = '';\n",
              "          dataTable['output_type'] = 'display_data';\n",
              "          await google.colab.output.renderOutput(dataTable, element);\n",
              "          const docLink = document.createElement('div');\n",
              "          docLink.innerHTML = docLinkHtml;\n",
              "          element.appendChild(docLink);\n",
              "        }\n",
              "      </script>\n",
              "    </div>\n",
              "  </div>\n",
              "  "
            ],
            "text/plain": [
              "   cust_id  gender\n",
              "0     3500  0.4919\n",
              "1     3501  0.1835"
            ]
          },
          "metadata": {},
          "execution_count": 69
        }
      ]
    },
    {
      "cell_type": "markdown",
      "source": [
        "환불금액을 제거하는 방법으로 해결한 코드"
      ],
      "metadata": {
        "id": "4ub69B77zOkJ"
      }
    },
    {
      "cell_type": "code",
      "source": [
        "# 데이터 파일 읽기 예제\n",
        "import pandas as pd\n",
        "from sklearn.preprocessing import StandardScaler\n",
        "from sklearn.model_selection import train_test_split\n",
        "from sklearn.linear_model import LogisticRegression\n",
        "from sklearn.neighbors import KNeighborsClassifier\n",
        "from sklearn.tree import DecisionTreeClassifier\n",
        "from sklearn.ensemble import RandomForestClassifier\n",
        "from xgboost import XGBClassifier\n",
        "from sklearn.metrics import roc_auc_score\n",
        "\n",
        "pd.set_option('max_rows',500)    #출력할 max row를 지정\n",
        "pd.set_option('max_columns',20)  #출력할 max columns를 지정\n",
        "\n",
        "def get_scores(model, xtrain, xtest, ytrain, ytest):\n",
        "    A = model.score(xtrain, ytrain)\n",
        "    B = model.score(xtest, ytest)\n",
        "    ypred = model.predict_proba(xtest)[:, 1]\n",
        "    C = roc_auc_score(ytest, ypred)\n",
        "    return '{:.4f} {:.4f} {:.4f}'.format(A, B, C)\n",
        "\n",
        "def make_models(xtrain, xtest, ytrain, ytest):\n",
        "    model1 = LogisticRegression(max_iter=5000).fit(xtrain, ytrain)\n",
        "    print('model1', get_scores(model1, xtrain, xtest, ytrain, ytest))\n",
        "\n",
        "    for k in range(1, 10):\n",
        "        model2 = KNeighborsClassifier(k).fit(xtrain, ytrain)\n",
        "        print('model2', k, get_scores(model2, xtrain, xtest, ytrain, ytest))\n",
        "\n",
        "    # overfitting ??\n",
        "    model3 = DecisionTreeClassifier(random_state=0).fit(xtrain, ytrain)\n",
        "    print('model3', get_scores(model3, xtrain, xtest, ytrain, ytest))\n",
        "    for d in range(3, 8):\n",
        "        model3 = DecisionTreeClassifier(max_depth=d, random_state=0).fit(xtrain, ytrain)\n",
        "        print('model3', d, get_scores(model3, xtrain, xtest, ytrain, ytest)) \n",
        "\n",
        "    # overfitting ??\n",
        "    model4 = RandomForestClassifier(random_state=0).fit(xtrain, ytrain)\n",
        "    print('model4', get_scores(model4, xtrain, xtest, ytrain, ytest))\n",
        "    for d in range(3, 8):\n",
        "        model4 = RandomForestClassifier(500, max_depth=d,random_state=0).fit(xtrain, ytrain)\n",
        "        print('model4', d, get_scores(model4, xtrain, xtest, ytrain, ytest))\n",
        "\n",
        "    model5 = XGBClassifier(eval_metric='logloss', use_label_encoder=False).fit(xtrain, ytrain)\n",
        "    print('model5', get_scores(model5, xtrain, xtest, ytrain, ytest))\n",
        "\t\t\n",
        "def get_data(dfX, Y):\n",
        "    X = dfX.drop(columns=['cust_id'])\n",
        "    X_use = X.iloc[:3500, :]\n",
        "    X_submission = X.iloc[3500:, :]\n",
        "    Y1 = Y['gender']\n",
        "    scaler = StandardScaler()\n",
        "    X1_use = scaler.fit_transform(X_use)\n",
        "    X1_submission = scaler.transform(X_submission)\n",
        "    print(X1_use.shape, X1_submission.shape, Y1.shape)\n",
        "    return X1_use, X1_submission, Y1\n",
        "\t\n",
        "\t\n",
        "X_submission = pd.read_csv(\"bigdata/X_test.csv\", encoding='cp949')\n",
        "X = pd.read_csv(\"bigdata/X_train.csv\", encoding='cp949')\n",
        "Y = pd.read_csv(\"bigdata/y_train.csv\")\n",
        "\n",
        "dfX = pd.concat([X, X_submission], axis=0, ignore_index=True)\n",
        "\n",
        "# 결측치가 많은 환불금액을 제거해 봄  =>  수정내용\n",
        "dfX = dfX.drop(columns='환불금액')\n",
        "\n",
        "A = dfX['주구매지점'].unique()\n",
        "B = dfX['주구매상품'].unique()\n",
        "dfX['주구매지점'] = dfX['주구매지점'].astype('category').cat.codes\n",
        "dfX['주구매상품'] = dfX['주구매상품'].astype('category').cat.codes\n",
        "\n",
        "# X, Y 분리하기\n",
        "X1_use, X1_submission, Y1 = get_data(dfX, Y)\n",
        "# train, test  7:3 분할, stratify 적용, random_state=0 적용\n",
        "xtrain, xtest, ytrain, ytest = train_test_split(X1_use, Y1,\n",
        "                                                test_size=0.3,\n",
        "                                                stratify=Y1,\n",
        "                                                random_state=0)\n",
        "# 다양한 모델 만들어 보기\n",
        "make_models(xtrain, xtest, ytrain, ytest)\n",
        "\n",
        "model = RandomForestClassifier(500, max_depth=6,random_state=0).fit(xtrain, ytrain)\n",
        "print('final model', get_scores(model, xtrain, xtest, ytrain, ytest))\n",
        "pred = model.predict_proba(X1_submission)[:, 1]\n",
        "submission = pd.DataFrame({'cust_id': X_submission['cust_id'],\n",
        "                           'gender': pred})\n",
        "submission.to_csv('003000000.csv', index=False)"
      ],
      "metadata": {
        "colab": {
          "base_uri": "https://localhost:8080/"
        },
        "id": "KnlQGh74yncD",
        "outputId": "507c9316-d174-48ef-962c-7f245b8a438a"
      },
      "execution_count": null,
      "outputs": [
        {
          "output_type": "stream",
          "name": "stdout",
          "text": [
            "(3500, 8) (2482, 8) (3500,)\n",
            "model1 0.6331 0.6390 0.6574\n",
            "model2 1 1.0000 0.5733 0.5445\n",
            "model2 2 0.7927 0.6029 0.5560\n",
            "model2 3 0.8012 0.5933 0.5719\n",
            "model2 4 0.7429 0.6162 0.5774\n",
            "model2 5 0.7416 0.6143 0.6049\n",
            "model2 6 0.7180 0.6381 0.6058\n",
            "model2 7 0.7216 0.6143 0.6055\n",
            "model2 8 0.7029 0.6305 0.6083\n",
            "model2 9 0.6984 0.6276 0.6099\n",
            "model3 1.0000 0.5676 0.5449\n",
            "model3 3 0.6473 0.6581 0.6695\n",
            "model3 4 0.6616 0.6429 0.6626\n",
            "model3 5 0.6788 0.6476 0.6539\n",
            "model3 6 0.6967 0.6381 0.6540\n",
            "model3 7 0.7073 0.6390 0.6597\n",
            "model4 1.0000 0.6343 0.6498\n",
            "model4 3 0.6604 0.6448 0.6854\n",
            "model4 4 0.6747 0.6505 0.6907\n",
            "model4 5 0.6935 0.6533 0.6915\n",
            "model4 6 0.7229 0.6476 0.6923\n",
            "model4 7 0.7616 0.6533 0.6915\n",
            "model5 0.7224 0.6695 0.6910\n",
            "final model 0.7229 0.6476 0.6923\n"
          ]
        }
      ]
    },
    {
      "cell_type": "code",
      "source": [
        "##  체험하기에 제출했던 내용\n",
        "# 출력을 원하실 경우 print() 함수 활용\n",
        "# 예시) print(df.head())\n",
        "\n",
        "# getcwd(), chdir() 등 작업 폴더 설정 불필요\n",
        "# 파일 경로 상 내부 드라이브 경로(C: 등) 접근 불가\n",
        "\n",
        "# 데이터 파일 읽기 예제\n",
        "import pandas as pd\n",
        "from sklearn.preprocessing import StandardScaler\n",
        "from sklearn.model_selection import train_test_split\n",
        "from sklearn.linear_model import LogisticRegression\n",
        "from sklearn.neighbors import KNeighborsClassifier\n",
        "from sklearn.tree import DecisionTreeClassifier\n",
        "from sklearn.ensemble import RandomForestClassifier\n",
        "from xgboost import XGBClassifier\n",
        "from sklearn.metrics import roc_auc_score\n",
        "\n",
        "# 시험환경에서는 아래와 같이 해야해서 수정했습니다 ^^*\n",
        "pd.options.display.max_rows = 500     #출력할 max row를 지정\n",
        "pd.options.display.max_columns = 20   #출력할 max columns를 지정\n",
        "\n",
        "def get_scores(model, xtrain, xtest, ytrain, ytest):\n",
        "    A = model.score(xtrain, ytrain)\n",
        "    B = model.score(xtest, ytest)\n",
        "    ypred = model.predict_proba(xtest)[:, 1]\n",
        "    C = roc_auc_score(ytest, ypred)\n",
        "    return '{:.4f} {:.4f} {:.4f}'.format(A, B, C)\n",
        "\n",
        "def make_models(xtrain, xtest, ytrain, ytest):\n",
        "    model1 = LogisticRegression(max_iter=5000).fit(xtrain, ytrain)\n",
        "    print('model1', get_scores(model1, xtrain, xtest, ytrain, ytest))\n",
        "\n",
        "    for k in range(1, 10):\n",
        "        model2 = KNeighborsClassifier(k).fit(xtrain, ytrain)\n",
        "        print('model2', k, get_scores(model2, xtrain, xtest, ytrain, ytest))\n",
        "\n",
        "    # overfitting ??\n",
        "    model3 = DecisionTreeClassifier(random_state=0).fit(xtrain, ytrain)\n",
        "    print('model3', get_scores(model3, xtrain, xtest, ytrain, ytest))\n",
        "    for d in range(3, 8):\n",
        "        model3 = DecisionTreeClassifier(max_depth=d, random_state=0).fit(xtrain, ytrain)\n",
        "        print('model3', d, get_scores(model3, xtrain, xtest, ytrain, ytest)) \n",
        "\n",
        "    # overfitting ??\n",
        "    model4 = RandomForestClassifier(random_state=0).fit(xtrain, ytrain)\n",
        "    print('model4', get_scores(model4, xtrain, xtest, ytrain, ytest))\n",
        "    for d in range(3, 8):\n",
        "        model4 = RandomForestClassifier(500, max_depth=d,random_state=0).fit(xtrain, ytrain)\n",
        "        print('model4', d, get_scores(model4, xtrain, xtest, ytrain, ytest))\n",
        "\n",
        "    model5 = XGBClassifier(eval_metric='logloss', use_label_encoder=False).fit(xtrain, ytrain)\n",
        "    print('model5', get_scores(model5, xtrain, xtest, ytrain, ytest))\n",
        "\t\t\n",
        "def get_data(dfX, Y):\n",
        "    X = dfX.drop(columns=['cust_id'])\n",
        "    X_use = X.iloc[:3500, :]\n",
        "    X_submission = X.iloc[3500:, :]\n",
        "    Y1 = Y['gender']\n",
        "    scaler = StandardScaler()\n",
        "    X1_use = scaler.fit_transform(X_use)\n",
        "    X1_submission = scaler.transform(X_submission)\n",
        "    print(X1_use.shape, X1_submission.shape, Y1.shape)\n",
        "    return X1_use, X1_submission, Y1\n",
        "\t\n",
        "# 이 부분은 colab 경로와 다르므로 실행되지 않습니다.\t\n",
        "X_submission = pd.read_csv(\"data/X_test.csv\")\n",
        "X = pd.read_csv(\"data/X_train.csv\")\n",
        "Y = pd.read_csv(\"data/y_train.csv\")\n",
        "\n",
        "# 사용자 코딩\n",
        "dfX = pd.concat([X, X_submission], axis=0, ignore_index=True)\n",
        "#print(dfX.isna().sum())\n",
        "temp = dfX.groupby('주구매상품')['환불금액'].mean()\n",
        "#print(temp)\n",
        "temp = dfX.groupby('주구매상품')['환불금액'].transform('mean')\n",
        "# dfX['환불금액']의 결측치를 temp로 채우기\n",
        "dfX['환불금액'] = dfX['환불금액'].mask(dfX['환불금액'].isna(), temp) \n",
        "dfX['환불금액'] = dfX['환불금액'].fillna(dfX['환불금액'].mean())\n",
        "#print(dfX.isna().sum().sum())\n",
        "#print(dfX.corr())\n",
        "A = dfX['주구매지점'].unique()\n",
        "B = dfX['주구매상품'].unique()\n",
        "dfX['주구매지점'] = dfX['주구매지점'].astype('category').cat.codes\n",
        "dfX['주구매상품'] = dfX['주구매상품'].astype('category').cat.codes\n",
        "#dfX.info()\n",
        "\n",
        "# X, Y 분리하기\n",
        "X1_use, X1_submission, Y1 = get_data(dfX, Y)\n",
        "# train, test  7:3 분할, stratify 적용, random_state=0 적용\n",
        "xtrain, xtest, ytrain, ytest = train_test_split(X1_use, Y1,\n",
        "                                                test_size=0.3,\n",
        "                                                stratify=Y1,\n",
        "                                                random_state=0)\n",
        "# 다양한 모델 만들어 보기\n",
        "#make_models(xtrain, xtest, ytrain, ytest)\n",
        "\n",
        "model = RandomForestClassifier(500, max_depth=6,random_state=0).fit(xtrain, ytrain)\n",
        "print('final model', get_scores(model, xtrain, xtest, ytrain, ytest))\n",
        "pred = model.predict_proba(X1_submission)[:, 1]\n",
        "submission = pd.DataFrame({'cust_id': X_submission['cust_id'],\n",
        "                           'gender': pred})\n",
        "submission.to_csv('003000000.csv', index=False)\n",
        "#print(submission.head(5))\n",
        "# 답안 제출 참고\n",
        "# 아래 코드 예측변수와 수험번호를 개인별로 변경하여 활용\n",
        "# pd.DataFrame({'cust_id': X_test.cust_id, 'gender': pred}).to_csv('003000000.csv', index=False)\n"
      ],
      "metadata": {
        "id": "owMvgdqbt6Cl"
      },
      "execution_count": null,
      "outputs": []
    },
    {
      "cell_type": "markdown",
      "metadata": {
        "id": "SxegKonKDHPJ"
      },
      "source": [
        "## 3.기출문제 (빅분기 실기 2회)\n",
        "고객 구매 데이터를 사용해서 고객이 주문한 물품이 제 시간에 도착여부(Reached.on.Time_Y.N) 예측"
      ]
    },
    {
      "cell_type": "markdown",
      "metadata": {
        "id": "JWKKfomBts23"
      },
      "source": [
        "### 3-01.문제이해"
      ]
    },
    {
      "cell_type": "code",
      "metadata": {
        "id": "mPvd_FX8DL3-"
      },
      "source": [
        "# https://www.kaggle.com/prachi13/customer-analytics"
      ],
      "execution_count": null,
      "outputs": []
    },
    {
      "cell_type": "code",
      "metadata": {
        "id": "7s5cSk-lrLGh"
      },
      "source": [
        "# 기출에서 기억나는 것\n",
        "# - 컬럼 중 1개가 숫자형으로 안내 되었는데 info() 결과 object로 표시됨\n",
        "# - head() 로 해서 표시되지 않았음 \n",
        "# - value가 '1', '*7', '4', '9', '*7' 이렇게 되어 있어서 '*'을 제거하고 dtype을 변경해야함"
      ],
      "execution_count": null,
      "outputs": []
    },
    {
      "cell_type": "code",
      "metadata": {
        "id": "YvUN8uMwtiQk",
        "colab": {
          "base_uri": "https://localhost:8080/"
        },
        "outputId": "e26c28ce-a06b-47cf-d5a0-a52e55fc3ce7"
      },
      "source": [
        "import pandas as pd\n",
        "# 이상한 것 확인\n",
        "df = pd.DataFrame({'rating': ['1', '2', '4', '*7', '8', '*7', '3', '5', '2', '*4']})\n",
        "df.info()"
      ],
      "execution_count": null,
      "outputs": [
        {
          "output_type": "stream",
          "name": "stdout",
          "text": [
            "<class 'pandas.core.frame.DataFrame'>\n",
            "RangeIndex: 10 entries, 0 to 9\n",
            "Data columns (total 1 columns):\n",
            " #   Column  Non-Null Count  Dtype \n",
            "---  ------  --------------  ----- \n",
            " 0   rating  10 non-null     object\n",
            "dtypes: object(1)\n",
            "memory usage: 208.0+ bytes\n"
          ]
        }
      ]
    },
    {
      "cell_type": "code",
      "metadata": {
        "id": "SxjNji3PuWf7",
        "colab": {
          "base_uri": "https://localhost:8080/"
        },
        "outputId": "7561c5de-9b7b-4bfb-bd5b-500af94e6fa4"
      },
      "source": [
        "# 해결 방법\n",
        "df['rating'] = df['rating'].replace('\\*', '', regex=True).astype('int')\n",
        "#df['rating'].str.replace('\\*', '', regex=True).astype('int')\n",
        "df.info()"
      ],
      "execution_count": null,
      "outputs": [
        {
          "output_type": "stream",
          "name": "stdout",
          "text": [
            "<class 'pandas.core.frame.DataFrame'>\n",
            "RangeIndex: 10 entries, 0 to 9\n",
            "Data columns (total 1 columns):\n",
            " #   Column  Non-Null Count  Dtype\n",
            "---  ------  --------------  -----\n",
            " 0   rating  10 non-null     int64\n",
            "dtypes: int64(1)\n",
            "memory usage: 208.0 bytes\n"
          ]
        }
      ]
    },
    {
      "cell_type": "markdown",
      "metadata": {
        "id": "NCqn_6zOtyXi"
      },
      "source": [
        "### 3-02.데이터 불러오기, 탐색"
      ]
    },
    {
      "cell_type": "code",
      "metadata": {
        "colab": {
          "base_uri": "https://localhost:8080/"
        },
        "id": "VTCP3Wo08e-X",
        "outputId": "ed4b1e14-2b95-4682-ee07-86935f4af0dc"
      },
      "source": [
        "!git clone https://github.com/Soyoung-Yoon/bigdata"
      ],
      "execution_count": null,
      "outputs": [
        {
          "output_type": "stream",
          "name": "stdout",
          "text": [
            "Cloning into 'bigdata'...\n",
            "remote: Enumerating objects: 50, done.\u001b[K\n",
            "remote: Total 50 (delta 0), reused 0 (delta 0), pack-reused 50\u001b[K\n",
            "Unpacking objects: 100% (50/50), done.\n"
          ]
        }
      ]
    },
    {
      "cell_type": "code",
      "metadata": {
        "id": "ljn7qAfH8uw2"
      },
      "source": [
        "# [0] 사용 라이브러리 import\n",
        "import pandas as pd\n",
        "\n",
        "# 데이타가 많은경우 모두 출력 안되고 ... 으로 생략해서 출력됨.\n",
        "pd.set_option('display.max_rows',500)    #출력할 max row를 지정\n",
        "pd.set_option('display.max_columns',20)  #출력할 max columns를 지정\n",
        "#출력 format 지정 - 소수점아래 4자리까지\n",
        "pd.set_option('display.float_format', '{:.4f}'.format)"
      ],
      "execution_count": null,
      "outputs": []
    },
    {
      "cell_type": "code",
      "source": [
        "# [0] x_train, x_test 데이터로 생성함\n",
        "from sklearn.model_selection import train_test_split\n",
        "\n",
        "dftot = pd.read_csv('./bigdata/1st_Train.csv')\n",
        "x_train, x_test = train_test_split(dftot, test_size=0.4, stratify=dftot['Reached.on.Time_Y.N'], random_state=0)\n",
        "y_train = x_train[['ID','Reached.on.Time_Y.N']]\n",
        "x_train = x_train.drop(columns='Reached.on.Time_Y.N')\n",
        "y_test = x_test[['ID','Reached.on.Time_Y.N']]   # 이것은 시험에서는 제공되지 않음\n",
        "x_test = x_test.drop(columns='Reached.on.Time_Y.N')\n",
        "\n",
        "x_train.to_csv('x_train.csv', index=False)\n",
        "y_train.to_csv('y_train.csv', index=False)\n",
        "x_test.to_csv('x_test.csv', index=False)\n",
        "y_test.to_csv('y_test.csv', index=False) # 이것은 시험에서는 제공되지 않음"
      ],
      "metadata": {
        "id": "DwzoupwOlIU3"
      },
      "execution_count": null,
      "outputs": []
    },
    {
      "cell_type": "code",
      "source": [
        "x_train.shape, y_train.shape, x_test.shape"
      ],
      "metadata": {
        "colab": {
          "base_uri": "https://localhost:8080/"
        },
        "id": "fruyxQw2nDcr",
        "outputId": "4d0d696c-0aea-4fa4-ef61-edfceb86a09c"
      },
      "execution_count": null,
      "outputs": [
        {
          "output_type": "execute_result",
          "data": {
            "text/plain": [
              "((6599, 11), (6599, 2), (4400, 11))"
            ]
          },
          "metadata": {},
          "execution_count": 92
        }
      ]
    },
    {
      "cell_type": "code",
      "source": [
        "# [1] x_train.csv, y_train.csv, x_test.csv 읽어오기\n",
        "X = pd.read_csv('x_train.csv')\n",
        "Y = pd.read_csv('y_train.csv')\n",
        "X_submission = pd.read_csv('x_test.csv')\n",
        "print(X.shape, Y.shape, X_submission.shape)"
      ],
      "metadata": {
        "id": "mNl3dB0VmMxo",
        "colab": {
          "base_uri": "https://localhost:8080/"
        },
        "outputId": "2f4cdffb-6833-4f36-8fd8-3b32ce80fa8f"
      },
      "execution_count": null,
      "outputs": [
        {
          "output_type": "stream",
          "name": "stdout",
          "text": [
            "(6599, 11) (6599, 2) (4400, 11)\n"
          ]
        }
      ]
    },
    {
      "cell_type": "code",
      "source": [
        "# [2] X, X_submission 합치기 => dfX로 저장 (필수는 아님- 편리성을 위해!)\n",
        "dfX = pd.concat([X, X_submission], axis=0, ignore_index=True)\n",
        "print(dfX.shape)"
      ],
      "metadata": {
        "colab": {
          "base_uri": "https://localhost:8080/"
        },
        "id": "ydWnRpW6l8cL",
        "outputId": "02fd665b-3623-439e-b433-5fe17006e825"
      },
      "execution_count": null,
      "outputs": [
        {
          "output_type": "stream",
          "name": "stdout",
          "text": [
            "(10999, 11)\n"
          ]
        }
      ]
    },
    {
      "cell_type": "code",
      "source": [
        "dfX.head(5)"
      ],
      "metadata": {
        "colab": {
          "base_uri": "https://localhost:8080/",
          "height": 270
        },
        "id": "1c-vPuzNj8Cc",
        "outputId": "9cbfd943-8e97-4a0e-b564-c259829d353e"
      },
      "execution_count": null,
      "outputs": [
        {
          "output_type": "execute_result",
          "data": {
            "text/plain": [
              "      ID Warehouse_block Mode_of_Shipment  Customer_care_calls  \\\n",
              "0   9902               F             Ship                    3   \n",
              "1   9501               A             Ship                    4   \n",
              "2   6111               A             Ship                    4   \n",
              "3    588               F             Ship                    3   \n",
              "4  10806               F             Road                    5   \n",
              "\n",
              "   Customer_rating  Cost_of_the_Product  Prior_purchases Product_importance  \\\n",
              "0                5                  214                2             medium   \n",
              "1                2                  201                3             medium   \n",
              "2                2                  264                3                low   \n",
              "3                5                  194                2             medium   \n",
              "4                5                  269                5             medium   \n",
              "\n",
              "  Gender  Discount_offered  Weight_in_gms  \n",
              "0      F                 6           4578  \n",
              "1      F                 4           4613  \n",
              "2      M                10           5137  \n",
              "3      M                 4           3496  \n",
              "4      F                 3           1120  "
            ],
            "text/html": [
              "\n",
              "  <div id=\"df-1508fc1d-ce59-466f-abc9-79430fb62304\">\n",
              "    <div class=\"colab-df-container\">\n",
              "      <div>\n",
              "<style scoped>\n",
              "    .dataframe tbody tr th:only-of-type {\n",
              "        vertical-align: middle;\n",
              "    }\n",
              "\n",
              "    .dataframe tbody tr th {\n",
              "        vertical-align: top;\n",
              "    }\n",
              "\n",
              "    .dataframe thead th {\n",
              "        text-align: right;\n",
              "    }\n",
              "</style>\n",
              "<table border=\"1\" class=\"dataframe\">\n",
              "  <thead>\n",
              "    <tr style=\"text-align: right;\">\n",
              "      <th></th>\n",
              "      <th>ID</th>\n",
              "      <th>Warehouse_block</th>\n",
              "      <th>Mode_of_Shipment</th>\n",
              "      <th>Customer_care_calls</th>\n",
              "      <th>Customer_rating</th>\n",
              "      <th>Cost_of_the_Product</th>\n",
              "      <th>Prior_purchases</th>\n",
              "      <th>Product_importance</th>\n",
              "      <th>Gender</th>\n",
              "      <th>Discount_offered</th>\n",
              "      <th>Weight_in_gms</th>\n",
              "    </tr>\n",
              "  </thead>\n",
              "  <tbody>\n",
              "    <tr>\n",
              "      <th>0</th>\n",
              "      <td>9902</td>\n",
              "      <td>F</td>\n",
              "      <td>Ship</td>\n",
              "      <td>3</td>\n",
              "      <td>5</td>\n",
              "      <td>214</td>\n",
              "      <td>2</td>\n",
              "      <td>medium</td>\n",
              "      <td>F</td>\n",
              "      <td>6</td>\n",
              "      <td>4578</td>\n",
              "    </tr>\n",
              "    <tr>\n",
              "      <th>1</th>\n",
              "      <td>9501</td>\n",
              "      <td>A</td>\n",
              "      <td>Ship</td>\n",
              "      <td>4</td>\n",
              "      <td>2</td>\n",
              "      <td>201</td>\n",
              "      <td>3</td>\n",
              "      <td>medium</td>\n",
              "      <td>F</td>\n",
              "      <td>4</td>\n",
              "      <td>4613</td>\n",
              "    </tr>\n",
              "    <tr>\n",
              "      <th>2</th>\n",
              "      <td>6111</td>\n",
              "      <td>A</td>\n",
              "      <td>Ship</td>\n",
              "      <td>4</td>\n",
              "      <td>2</td>\n",
              "      <td>264</td>\n",
              "      <td>3</td>\n",
              "      <td>low</td>\n",
              "      <td>M</td>\n",
              "      <td>10</td>\n",
              "      <td>5137</td>\n",
              "    </tr>\n",
              "    <tr>\n",
              "      <th>3</th>\n",
              "      <td>588</td>\n",
              "      <td>F</td>\n",
              "      <td>Ship</td>\n",
              "      <td>3</td>\n",
              "      <td>5</td>\n",
              "      <td>194</td>\n",
              "      <td>2</td>\n",
              "      <td>medium</td>\n",
              "      <td>M</td>\n",
              "      <td>4</td>\n",
              "      <td>3496</td>\n",
              "    </tr>\n",
              "    <tr>\n",
              "      <th>4</th>\n",
              "      <td>10806</td>\n",
              "      <td>F</td>\n",
              "      <td>Road</td>\n",
              "      <td>5</td>\n",
              "      <td>5</td>\n",
              "      <td>269</td>\n",
              "      <td>5</td>\n",
              "      <td>medium</td>\n",
              "      <td>F</td>\n",
              "      <td>3</td>\n",
              "      <td>1120</td>\n",
              "    </tr>\n",
              "  </tbody>\n",
              "</table>\n",
              "</div>\n",
              "      <button class=\"colab-df-convert\" onclick=\"convertToInteractive('df-1508fc1d-ce59-466f-abc9-79430fb62304')\"\n",
              "              title=\"Convert this dataframe to an interactive table.\"\n",
              "              style=\"display:none;\">\n",
              "        \n",
              "  <svg xmlns=\"http://www.w3.org/2000/svg\" height=\"24px\"viewBox=\"0 0 24 24\"\n",
              "       width=\"24px\">\n",
              "    <path d=\"M0 0h24v24H0V0z\" fill=\"none\"/>\n",
              "    <path d=\"M18.56 5.44l.94 2.06.94-2.06 2.06-.94-2.06-.94-.94-2.06-.94 2.06-2.06.94zm-11 1L8.5 8.5l.94-2.06 2.06-.94-2.06-.94L8.5 2.5l-.94 2.06-2.06.94zm10 10l.94 2.06.94-2.06 2.06-.94-2.06-.94-.94-2.06-.94 2.06-2.06.94z\"/><path d=\"M17.41 7.96l-1.37-1.37c-.4-.4-.92-.59-1.43-.59-.52 0-1.04.2-1.43.59L10.3 9.45l-7.72 7.72c-.78.78-.78 2.05 0 2.83L4 21.41c.39.39.9.59 1.41.59.51 0 1.02-.2 1.41-.59l7.78-7.78 2.81-2.81c.8-.78.8-2.07 0-2.86zM5.41 20L4 18.59l7.72-7.72 1.47 1.35L5.41 20z\"/>\n",
              "  </svg>\n",
              "      </button>\n",
              "      \n",
              "  <style>\n",
              "    .colab-df-container {\n",
              "      display:flex;\n",
              "      flex-wrap:wrap;\n",
              "      gap: 12px;\n",
              "    }\n",
              "\n",
              "    .colab-df-convert {\n",
              "      background-color: #E8F0FE;\n",
              "      border: none;\n",
              "      border-radius: 50%;\n",
              "      cursor: pointer;\n",
              "      display: none;\n",
              "      fill: #1967D2;\n",
              "      height: 32px;\n",
              "      padding: 0 0 0 0;\n",
              "      width: 32px;\n",
              "    }\n",
              "\n",
              "    .colab-df-convert:hover {\n",
              "      background-color: #E2EBFA;\n",
              "      box-shadow: 0px 1px 2px rgba(60, 64, 67, 0.3), 0px 1px 3px 1px rgba(60, 64, 67, 0.15);\n",
              "      fill: #174EA6;\n",
              "    }\n",
              "\n",
              "    [theme=dark] .colab-df-convert {\n",
              "      background-color: #3B4455;\n",
              "      fill: #D2E3FC;\n",
              "    }\n",
              "\n",
              "    [theme=dark] .colab-df-convert:hover {\n",
              "      background-color: #434B5C;\n",
              "      box-shadow: 0px 1px 3px 1px rgba(0, 0, 0, 0.15);\n",
              "      filter: drop-shadow(0px 1px 2px rgba(0, 0, 0, 0.3));\n",
              "      fill: #FFFFFF;\n",
              "    }\n",
              "  </style>\n",
              "\n",
              "      <script>\n",
              "        const buttonEl =\n",
              "          document.querySelector('#df-1508fc1d-ce59-466f-abc9-79430fb62304 button.colab-df-convert');\n",
              "        buttonEl.style.display =\n",
              "          google.colab.kernel.accessAllowed ? 'block' : 'none';\n",
              "\n",
              "        async function convertToInteractive(key) {\n",
              "          const element = document.querySelector('#df-1508fc1d-ce59-466f-abc9-79430fb62304');\n",
              "          const dataTable =\n",
              "            await google.colab.kernel.invokeFunction('convertToInteractive',\n",
              "                                                     [key], {});\n",
              "          if (!dataTable) return;\n",
              "\n",
              "          const docLinkHtml = 'Like what you see? Visit the ' +\n",
              "            '<a target=\"_blank\" href=https://colab.research.google.com/notebooks/data_table.ipynb>data table notebook</a>'\n",
              "            + ' to learn more about interactive tables.';\n",
              "          element.innerHTML = '';\n",
              "          dataTable['output_type'] = 'display_data';\n",
              "          await google.colab.output.renderOutput(dataTable, element);\n",
              "          const docLink = document.createElement('div');\n",
              "          docLink.innerHTML = docLinkHtml;\n",
              "          element.appendChild(docLink);\n",
              "        }\n",
              "      </script>\n",
              "    </div>\n",
              "  </div>\n",
              "  "
            ]
          },
          "metadata": {},
          "execution_count": 6
        }
      ]
    },
    {
      "cell_type": "code",
      "metadata": {
        "colab": {
          "base_uri": "https://localhost:8080/"
        },
        "id": "n-tV1hmplAmu",
        "outputId": "d41ac118-ee56-4d7c-8410-ecb64471aa18"
      },
      "source": [
        "# [3] dfX의 정보 확인 \n",
        "dfX.info()"
      ],
      "execution_count": null,
      "outputs": [
        {
          "output_type": "stream",
          "name": "stdout",
          "text": [
            "<class 'pandas.core.frame.DataFrame'>\n",
            "RangeIndex: 10999 entries, 0 to 10998\n",
            "Data columns (total 11 columns):\n",
            " #   Column               Non-Null Count  Dtype \n",
            "---  ------               --------------  ----- \n",
            " 0   ID                   10999 non-null  int64 \n",
            " 1   Warehouse_block      10999 non-null  object\n",
            " 2   Mode_of_Shipment     10999 non-null  object\n",
            " 3   Customer_care_calls  10999 non-null  int64 \n",
            " 4   Customer_rating      10999 non-null  int64 \n",
            " 5   Cost_of_the_Product  10999 non-null  int64 \n",
            " 6   Prior_purchases      10999 non-null  int64 \n",
            " 7   Product_importance   10999 non-null  object\n",
            " 8   Gender               10999 non-null  object\n",
            " 9   Discount_offered     10999 non-null  int64 \n",
            " 10  Weight_in_gms        10999 non-null  int64 \n",
            "dtypes: int64(7), object(4)\n",
            "memory usage: 945.4+ KB\n"
          ]
        }
      ]
    },
    {
      "cell_type": "code",
      "source": [
        "# Warehouse_block, Mode_of_Shipment, Product_importance, Gender => Object\n",
        "# Encoding 대상"
      ],
      "metadata": {
        "id": "bTl9_riYFj1u"
      },
      "execution_count": null,
      "outputs": []
    },
    {
      "cell_type": "markdown",
      "metadata": {
        "id": "Mt9L_KDeFOOM"
      },
      "source": [
        "### 3-03.데이터 전처리"
      ]
    },
    {
      "cell_type": "code",
      "metadata": {
        "id": "es0cTIbJDsY_",
        "colab": {
          "base_uri": "https://localhost:8080/"
        },
        "outputId": "b24e49ff-73ce-4f45-faef-b782d27a1ff1"
      },
      "source": [
        "# [4] 결측치 점검\n",
        "print(dfX.isna().sum())"
      ],
      "execution_count": null,
      "outputs": [
        {
          "output_type": "stream",
          "name": "stdout",
          "text": [
            "ID                     0\n",
            "Warehouse_block        0\n",
            "Mode_of_Shipment       0\n",
            "Customer_care_calls    0\n",
            "Customer_rating        0\n",
            "Cost_of_the_Product    0\n",
            "Prior_purchases        0\n",
            "Product_importance     0\n",
            "Gender                 0\n",
            "Discount_offered       0\n",
            "Weight_in_gms          0\n",
            "dtype: int64\n"
          ]
        }
      ]
    },
    {
      "cell_type": "code",
      "metadata": {
        "id": "83AXnReZyZeW",
        "colab": {
          "base_uri": "https://localhost:8080/"
        },
        "outputId": "90d36058-c6c9-42df-c833-e103d30970c4"
      },
      "source": [
        "# [5] 상관관계 확인 - 모든 feature를 사용해도 됨\n",
        "print(dfX.corr())"
      ],
      "execution_count": null,
      "outputs": [
        {
          "output_type": "stream",
          "name": "stdout",
          "text": [
            "                         ID  Customer_care_calls  Customer_rating  \\\n",
            "ID                   1.0000               0.1890          -0.0057   \n",
            "Customer_care_calls  0.1890               1.0000           0.0122   \n",
            "Customer_rating     -0.0057               0.0122           1.0000   \n",
            "Cost_of_the_Product  0.1968               0.3232           0.0093   \n",
            "Prior_purchases      0.1454               0.1808           0.0132   \n",
            "Discount_offered    -0.5983              -0.1308          -0.0031   \n",
            "Weight_in_gms        0.2783              -0.2766          -0.0019   \n",
            "\n",
            "                     Cost_of_the_Product  Prior_purchases  Discount_offered  \\\n",
            "ID                                0.1968           0.1454           -0.5983   \n",
            "Customer_care_calls               0.3232           0.1808           -0.1308   \n",
            "Customer_rating                   0.0093           0.0132           -0.0031   \n",
            "Cost_of_the_Product               1.0000           0.1237           -0.1383   \n",
            "Prior_purchases                   0.1237           1.0000           -0.0828   \n",
            "Discount_offered                 -0.1383          -0.0828            1.0000   \n",
            "Weight_in_gms                    -0.1326          -0.1682           -0.3761   \n",
            "\n",
            "                     Weight_in_gms  \n",
            "ID                          0.2783  \n",
            "Customer_care_calls        -0.2766  \n",
            "Customer_rating            -0.0019  \n",
            "Cost_of_the_Product        -0.1326  \n",
            "Prior_purchases            -0.1682  \n",
            "Discount_offered           -0.3761  \n",
            "Weight_in_gms               1.0000  \n"
          ]
        }
      ]
    },
    {
      "cell_type": "code",
      "source": [
        "X.columns, Y.columns"
      ],
      "metadata": {
        "colab": {
          "base_uri": "https://localhost:8080/"
        },
        "id": "5DpgThQuG29U",
        "outputId": "7052ded0-0cae-418b-c301-b7d3c8b105b4"
      },
      "execution_count": null,
      "outputs": [
        {
          "output_type": "execute_result",
          "data": {
            "text/plain": [
              "(Index(['ID', 'Warehouse_block', 'Mode_of_Shipment', 'Customer_care_calls',\n",
              "        'Customer_rating', 'Cost_of_the_Product', 'Prior_purchases',\n",
              "        'Product_importance', 'Gender', 'Discount_offered', 'Weight_in_gms'],\n",
              "       dtype='object'), Index(['ID', 'Reached.on.Time_Y.N'], dtype='object'))"
            ]
          },
          "metadata": {},
          "execution_count": 104
        }
      ]
    },
    {
      "cell_type": "code",
      "metadata": {
        "colab": {
          "base_uri": "https://localhost:8080/"
        },
        "id": "goDwo_-2otpa",
        "outputId": "88583de5-ae2b-4395-b4c6-f8b94d9abf11"
      },
      "source": [
        "# [6] Y 값의 분포 확인\n",
        "temp = Y['Reached.on.Time_Y.N'].value_counts(normalize=True).sort_index()\n",
        "print(temp)   # 0 : 40.32%,   1 : 59.68%"
      ],
      "execution_count": null,
      "outputs": [
        {
          "output_type": "stream",
          "name": "stdout",
          "text": [
            "0   0.4032\n",
            "1   0.5968\n",
            "Name: Reached.on.Time_Y.N, dtype: float64\n"
          ]
        }
      ]
    },
    {
      "cell_type": "code",
      "source": [
        "# [7] X,Y를 합쳐 dfXY를 만듦 (양쪽에 ID가 있으므로 merge)\n",
        "dfXY = pd.merge(dfX.iloc[:6599, :], Y)\n",
        "#dfXY = pd.merge(X, Y)\n",
        "print(dfXY.shape)"
      ],
      "metadata": {
        "colab": {
          "base_uri": "https://localhost:8080/"
        },
        "id": "fgTQR5Ga2npH",
        "outputId": "6c1bf9c6-c6ea-4af0-b353-91b5f77e8f9e"
      },
      "execution_count": null,
      "outputs": [
        {
          "output_type": "stream",
          "name": "stdout",
          "text": [
            "(6599, 12)\n"
          ]
        }
      ]
    },
    {
      "cell_type": "code",
      "source": [
        "# [8] 범주별 'Reached.on.Time_Y.N'의 개수, 비율을 표시하는 DataFrame 작성 함수\n",
        "def make_table(df, feature):\n",
        "    result = pd.DataFrame()\n",
        "    temp = df.groupby([feature, 'Reached.on.Time_Y.N'])[feature].count()\n",
        "    result['Count'] = temp\n",
        "\n",
        "    sList = []\n",
        "    for k in sorted(df[feature].unique()):\n",
        "        temp = df.loc[df[feature]==k, 'Reached.on.Time_Y.N'].value_counts(normalize=True)\n",
        "        temp = temp.sort_index()\n",
        "        sList.append(temp)\n",
        "    result = result.reset_index()\n",
        "    result['Rate'] = pd.concat(sList, ignore_index=True)\n",
        "    return result"
      ],
      "metadata": {
        "id": "44ntD7VUc5pK"
      },
      "execution_count": null,
      "outputs": []
    },
    {
      "cell_type": "code",
      "source": [
        "# [9] 'Warehouse_block', 'Reached.on.Time_Y.N'별 'Warehouse_block'의 개수, 비율\n",
        "temp = make_table(dfXY, 'Warehouse_block')\n",
        "print(temp)"
      ],
      "metadata": {
        "colab": {
          "base_uri": "https://localhost:8080/"
        },
        "id": "bwr4Kp26dW-f",
        "outputId": "192449fd-2193-4db2-d5e0-c7255fd70647"
      },
      "execution_count": null,
      "outputs": [
        {
          "output_type": "stream",
          "name": "stdout",
          "text": [
            "  Warehouse_block  Reached.on.Time_Y.N  Count   Rate\n",
            "0               A                    0    430 0.3895\n",
            "1               A                    1    674 0.6105\n",
            "2               B                    0    454 0.4116\n",
            "3               B                    1    649 0.5884\n",
            "4               C                    0    442 0.4077\n",
            "5               C                    1    642 0.5923\n",
            "6               D                    0    436 0.4071\n",
            "7               D                    1    635 0.5929\n",
            "8               F                    0    899 0.4019\n",
            "9               F                    1   1338 0.5981\n"
          ]
        }
      ]
    },
    {
      "cell_type": "code",
      "metadata": {
        "id": "4xHK2HpYxxTZ",
        "colab": {
          "base_uri": "https://localhost:8080/"
        },
        "outputId": "a6b5110d-edc6-4405-b71f-5974cc6941db"
      },
      "source": [
        "# [10] 'Mode_of_Shipment', 'Reached.on.Time_Y.N'별 'Mode_of_Shipment'의 개수, 비율\n",
        "temp = make_table(dfXY, 'Mode_of_Shipment')\n",
        "print(temp)"
      ],
      "execution_count": null,
      "outputs": [
        {
          "output_type": "stream",
          "name": "stdout",
          "text": [
            "  Mode_of_Shipment  Reached.on.Time_Y.N  Count   Rate\n",
            "0           Flight                    0    433 0.3987\n",
            "1           Flight                    1    653 0.6013\n",
            "2             Road                    0    427 0.4142\n",
            "3             Road                    1    604 0.5858\n",
            "4             Ship                    0   1801 0.4018\n",
            "5             Ship                    1   2681 0.5982\n"
          ]
        }
      ]
    },
    {
      "cell_type": "code",
      "metadata": {
        "id": "xN0cCIdAwbMt",
        "colab": {
          "base_uri": "https://localhost:8080/"
        },
        "outputId": "33dd35a2-da16-4925-f4b0-c1075d03bc15"
      },
      "source": [
        "# [11] 'Product_importance', 'Reached.on.Time_Y.N'별 'Product_importance'의 개수, 비율\n",
        "temp = make_table(dfXY, 'Product_importance')\n",
        "print(temp)"
      ],
      "execution_count": null,
      "outputs": [
        {
          "output_type": "stream",
          "name": "stdout",
          "text": [
            "  Product_importance  Reached.on.Time_Y.N  Count   Rate\n",
            "0               high                    0    211 0.3670\n",
            "1               high                    1    364 0.6330\n",
            "2                low                    0   1288 0.4063\n",
            "3                low                    1   1882 0.5937\n",
            "4             medium                    0   1162 0.4071\n",
            "5             medium                    1   1692 0.5929\n"
          ]
        }
      ]
    },
    {
      "cell_type": "code",
      "metadata": {
        "id": "kCjIRm-Kw7DM",
        "colab": {
          "base_uri": "https://localhost:8080/"
        },
        "outputId": "c988f40f-b3c8-4088-b35f-fa150913a06e"
      },
      "source": [
        "# [12] 'Gender', 'Reached.on.Time_Y.N'별 'Gender'의 개수, 비율\n",
        "temp = make_table(dfXY, 'Gender')\n",
        "print(temp)"
      ],
      "execution_count": null,
      "outputs": [
        {
          "output_type": "stream",
          "name": "stdout",
          "text": [
            "  Gender  Reached.on.Time_Y.N  Count   Rate\n",
            "0      F                    0   1341 0.4069\n",
            "1      F                    1   1955 0.5931\n",
            "2      M                    0   1320 0.3996\n",
            "3      M                    1   1983 0.6004\n"
          ]
        }
      ]
    },
    {
      "cell_type": "code",
      "metadata": {
        "id": "tBAMDMaWrBmx",
        "colab": {
          "base_uri": "https://localhost:8080/"
        },
        "outputId": "a7b61cbb-a255-45e4-c36d-06d745b04867"
      },
      "source": [
        "# [13] dfX의 각 컬럼의 값 종류 개수 - 1인 것 제거하기 위해\n",
        "dfX.nunique()"
      ],
      "execution_count": null,
      "outputs": [
        {
          "output_type": "execute_result",
          "data": {
            "text/plain": [
              "ID                     10999\n",
              "Warehouse_block            5\n",
              "Mode_of_Shipment           3\n",
              "Customer_care_calls        6\n",
              "Customer_rating            5\n",
              "Cost_of_the_Product      215\n",
              "Prior_purchases            8\n",
              "Product_importance         3\n",
              "Gender                     2\n",
              "Discount_offered          65\n",
              "Weight_in_gms           4034\n",
              "dtype: int64"
            ]
          },
          "metadata": {},
          "execution_count": 16
        }
      ]
    },
    {
      "cell_type": "code",
      "metadata": {
        "id": "g-OokN0eq5sz",
        "colab": {
          "base_uri": "https://localhost:8080/"
        },
        "outputId": "56773539-6136-47f2-f87e-147daa3f6bcf"
      },
      "source": [
        "# [14] Object 타입에 대한 Label Encoding => df_LE\n",
        "df_LE = dfX.copy()\n",
        "df_LE['Gender'] = dfX['Gender'].replace(['F', 'M'], [0, 1])\n",
        "df_LE['Warehouse_block'] = dfX['Warehouse_block'].replace(['A', 'B', 'C', 'D', 'F'], [0, 1, 2, 3, 4])\n",
        "df_LE['Mode_of_Shipment'] = dfX['Mode_of_Shipment'].replace(['Ship', 'Road', 'Flight'], [0, 1, 2])\n",
        "df_LE['Product_importance'] = dfX['Product_importance'].replace(['low', 'medium', 'high'], [0, 1, 2])\n",
        "df_LE.info()"
      ],
      "execution_count": null,
      "outputs": [
        {
          "output_type": "stream",
          "name": "stdout",
          "text": [
            "<class 'pandas.core.frame.DataFrame'>\n",
            "RangeIndex: 10999 entries, 0 to 10998\n",
            "Data columns (total 11 columns):\n",
            " #   Column               Non-Null Count  Dtype\n",
            "---  ------               --------------  -----\n",
            " 0   ID                   10999 non-null  int64\n",
            " 1   Warehouse_block      10999 non-null  int64\n",
            " 2   Mode_of_Shipment     10999 non-null  int64\n",
            " 3   Customer_care_calls  10999 non-null  int64\n",
            " 4   Customer_rating      10999 non-null  int64\n",
            " 5   Cost_of_the_Product  10999 non-null  int64\n",
            " 6   Prior_purchases      10999 non-null  int64\n",
            " 7   Product_importance   10999 non-null  int64\n",
            " 8   Gender               10999 non-null  int64\n",
            " 9   Discount_offered     10999 non-null  int64\n",
            " 10  Weight_in_gms        10999 non-null  int64\n",
            "dtypes: int64(11)\n",
            "memory usage: 945.4 KB\n"
          ]
        }
      ]
    },
    {
      "cell_type": "code",
      "metadata": {
        "colab": {
          "base_uri": "https://localhost:8080/"
        },
        "id": "lk67NPIjAfUS",
        "outputId": "035d7231-4baf-442c-85d7-cc00fbc0e3e1"
      },
      "source": [
        "# [15] Object 타입에 대한 One Hot Encoding => df_OH\n",
        "features = ['Warehouse_block', 'Mode_of_Shipment', 'Product_importance']\n",
        "df_OH = dfX.copy()\n",
        "df_OH['Gender'] = dfX['Gender'].replace(['F', 'M'], [0, 1])\n",
        "df_OH = df_OH.drop(columns=features)\n",
        "\n",
        "tempList = [df_OH]\n",
        "for f in features:\n",
        "    s = pd.get_dummies(dfX[f])\n",
        "    # s = dfX[f].str.get_dummies() 와 동일함  \n",
        "    tempList.append(s)\n",
        "df_OH = pd.concat(tempList, axis=1)  \n",
        "print(df_OH.shape)\n",
        "print(df_OH.columns)"
      ],
      "execution_count": null,
      "outputs": [
        {
          "output_type": "stream",
          "name": "stdout",
          "text": [
            "(10999, 19)\n",
            "Index(['ID', 'Customer_care_calls', 'Customer_rating', 'Cost_of_the_Product',\n",
            "       'Prior_purchases', 'Gender', 'Discount_offered', 'Weight_in_gms', 'A',\n",
            "       'B', 'C', 'D', 'F', 'Flight', 'Road', 'Ship', 'high', 'low', 'medium'],\n",
            "      dtype='object')\n"
          ]
        }
      ]
    },
    {
      "cell_type": "code",
      "source": [
        "# [16] df_OH 에서 영향력이 있다고 생각되는 것만 골라서 사용\n",
        "features = ['ID', 'Customer_care_calls', 'Customer_rating', 'Cost_of_the_Product',\n",
        "       'Prior_purchases', 'Discount_offered', 'Weight_in_gms', 'A',\n",
        "       'B', 'Flight', 'Road', 'high']\n",
        "df_MINI = df_OH[features]  "
      ],
      "metadata": {
        "id": "p6YG15xOKHUR"
      },
      "execution_count": null,
      "outputs": []
    },
    {
      "cell_type": "markdown",
      "metadata": {
        "id": "KNK2VSccFDdO"
      },
      "source": [
        "### 3-04.데이터 분리, 모델 생성 및 학습"
      ]
    },
    {
      "cell_type": "code",
      "metadata": {
        "id": "45EAUtzzQu8j"
      },
      "source": [
        "# [17] 사용할 도구 import\n",
        "from sklearn.preprocessing import MinMaxScaler\n",
        "from sklearn.model_selection import train_test_split\n",
        "from sklearn.linear_model import LogisticRegression\n",
        "from sklearn.neighbors import KNeighborsClassifier\n",
        "from sklearn.tree import DecisionTreeClassifier\n",
        "from sklearn.ensemble import RandomForestClassifier\n",
        "from xgboost import XGBClassifier\n",
        "from sklearn.metrics import roc_auc_score"
      ],
      "execution_count": null,
      "outputs": []
    },
    {
      "cell_type": "markdown",
      "source": [
        "아래의 함수는 예시문제에서 만든 것과 동일하며, 약간의 수정이 있음"
      ],
      "metadata": {
        "id": "NFe2G-jk0-Co"
      }
    },
    {
      "cell_type": "code",
      "source": [
        "# [18] train score, test score, roc_auc_score 를 반환하는 함수 작성\n",
        "def get_scores(model, xtrain, xtest, ytrain, ytest):\n",
        "    A = model.score(xtrain, ytrain)\n",
        "    B = model.score(xtest, ytest)\n",
        "    ypred = model.predict_proba(xtest)[:, 1]\n",
        "    C = roc_auc_score(ytest, ypred)  \n",
        "    return '{:.4f} {:.4f} {:.4f}'.format(A, B, C)"
      ],
      "metadata": {
        "id": "GGGYNnHbLKbo"
      },
      "execution_count": null,
      "outputs": []
    },
    {
      "cell_type": "code",
      "source": [
        "# [19] 다양한 모델을 만들고 성능을 출력하는 함수 작성\n",
        "def make_models(xtrain, xtest, ytrain, ytest):\n",
        "    model1 = LogisticRegression().fit(xtrain, ytrain)\n",
        "    print('model1', get_scores(model1, xtrain, xtest, ytrain, ytest))\n",
        "    for k in range(1, 10):\n",
        "        model2 = KNeighborsClassifier(k).fit(xtrain, ytrain)\n",
        "        print('model2', k, get_scores(model2, xtrain, xtest, ytrain, ytest))\n",
        "\n",
        "    # overfitting\n",
        "    model3 = DecisionTreeClassifier(random_state=0).fit(xtrain, ytrain)\n",
        "    print('model3', get_scores(model3, xtrain, xtest, ytrain, ytest))\n",
        "\n",
        "    # overfitting 해결\n",
        "    for d in range(3, 8):\n",
        "        model3 = DecisionTreeClassifier(max_depth=d,random_state=0).fit(xtrain, ytrain)\n",
        "        print('model3', d, get_scores(model3, xtrain, xtest, ytrain, ytest))\n",
        "\n",
        "    # overfitting\n",
        "    model4 = RandomForestClassifier(random_state=0).fit(xtrain, ytrain)\n",
        "    print('model4', get_scores(model4, xtrain, xtest, ytrain, ytest))\n",
        "\n",
        "    # overfitting 해결\n",
        "    for d in range(3, 8):\n",
        "        model4 = RandomForestClassifier(500, max_depth=d, random_state=0).fit(xtrain, ytrain)\n",
        "        print('model4', d, get_scores(model4, xtrain, xtest, ytrain, ytest))\n",
        "\n",
        "    model5 = XGBClassifier(eval_metric='logloss', use_label_encoder=False).fit(xtrain, ytrain)\n",
        "    print('model5', get_scores(model5, xtrain, xtest, ytrain, ytest))"
      ],
      "metadata": {
        "id": "QxCEEMWhUilz"
      },
      "execution_count": null,
      "outputs": []
    },
    {
      "cell_type": "code",
      "source": [
        "# [20] X를 train 용도, submission 용도로 나누고, Y를 1차원으로 바꿈 (MinMaxScaler 적용)\n",
        "def get_data(dfX, Y):\n",
        "    X = dfX.drop(columns=['ID'])\n",
        "    X_use = X.iloc[:6599, :]\n",
        "    X_submission = X.iloc[6599:, :]\n",
        "    Y1 = Y['Reached.on.Time_Y.N']\n",
        "    scaler = MinMaxScaler()\n",
        "    X1_use = scaler.fit_transform(X_use)\n",
        "    X1_submission = scaler.transform(X_submission)\n",
        "    print(X1_use.shape, Y1.shape, X1_submission.shape)\n",
        "    return X1_use, X1_submission, Y1"
      ],
      "metadata": {
        "id": "QZzixFt_7ldG"
      },
      "execution_count": null,
      "outputs": []
    },
    {
      "cell_type": "code",
      "metadata": {
        "id": "QSIFGkDiw5x8",
        "colab": {
          "base_uri": "https://localhost:8080/"
        },
        "outputId": "8bf0580f-74c6-45ac-8b5f-4265d1efee14"
      },
      "source": [
        "# [21] df_LE 사용 \n",
        "\n",
        "# X, Y 분리하기\n",
        "X1_use, X1_submission, Y1 = get_data(df_LE, Y)\n",
        "# train, test  7:3 분할, stratify 적용, random_state=0 적용\n",
        "xtrain1, xtest1, ytrain1, ytest1 = train_test_split(X1_use, Y1,\n",
        "                                                test_size=0.3,\n",
        "                                                stratify=Y1,\n",
        "                                                random_state=0)\n",
        "# 다양한 모델 만들어 보기\n",
        "make_models(xtrain1, xtest1, ytrain1, ytest1)"
      ],
      "execution_count": null,
      "outputs": [
        {
          "output_type": "stream",
          "name": "stdout",
          "text": [
            "(6599, 10) (6599,) (4400, 10)\n",
            "model1 0.6508 0.6419 0.7225\n",
            "model2 1 1.0000 0.6288 0.6109\n",
            "model2 2 0.8088 0.6379 0.6674\n",
            "model2 3 0.8097 0.6434 0.6922\n",
            "model2 4 0.7647 0.6389 0.6993\n",
            "model2 5 0.7707 0.6439 0.7042\n",
            "model2 6 0.7465 0.6495 0.7124\n",
            "model2 7 0.7463 0.6485 0.7183\n",
            "model2 8 0.7341 0.6515 0.7185\n",
            "model2 9 0.7296 0.6414 0.7149\n",
            "model3 1.0000 0.6364 0.6199\n",
            "model3 3 0.6776 0.6763 0.7429\n",
            "model3 4 0.6820 0.6783 0.7437\n",
            "model3 5 0.6893 0.6874 0.7487\n",
            "model3 6 0.6939 0.6747 0.7404\n",
            "model3 7 0.7077 0.6717 0.7359\n",
            "model4 1.0000 0.6551 0.7285\n",
            "model4 3 0.6779 0.6732 0.7464\n",
            "model4 4 0.6954 0.6758 0.7438\n",
            "model4 5 0.7058 0.6773 0.7437\n",
            "model4 6 0.7212 0.6773 0.7432\n",
            "model4 7 0.7456 0.6773 0.7414\n",
            "model5 0.7216 0.6727 0.7349\n"
          ]
        }
      ]
    },
    {
      "cell_type": "code",
      "source": [
        "# [22] df_OH 사용 데이터 섞기, X, Y 분리하기\n",
        "\n",
        "# X, Y 분리하기\n",
        "X2_use, X2_submission, Y2 = get_data(df_OH, Y)\n",
        "# train, test  7:3 분할, stratify 적용, random_state=0 적용\n",
        "xtrain2, xtest2, ytrain2, ytest2 = train_test_split(X2_use, Y2,\n",
        "                                                test_size=0.3,\n",
        "                                                stratify=Y2,\n",
        "                                                random_state=0)\n",
        "# 다양한 모델 만들어 보기\n",
        "make_models(xtrain2, xtest2, ytrain2, ytest2)"
      ],
      "metadata": {
        "colab": {
          "base_uri": "https://localhost:8080/"
        },
        "id": "KejVInufPU1g",
        "outputId": "0e1394d8-bef9-4fb0-a7ff-16de9b53f6d3"
      },
      "execution_count": null,
      "outputs": [
        {
          "output_type": "stream",
          "name": "stdout",
          "text": [
            "(6599, 18) (6599,) (4400, 18)\n",
            "model1 0.6491 0.6364 0.7215\n",
            "model2 1 1.0000 0.6136 0.5972\n",
            "model2 2 0.8060 0.6076 0.6415\n",
            "model2 3 0.8160 0.6126 0.6559\n",
            "model2 4 0.7627 0.6010 0.6631\n",
            "model2 5 0.7707 0.6192 0.6711\n",
            "model2 6 0.7413 0.6121 0.6713\n",
            "model2 7 0.7380 0.6141 0.6735\n",
            "model2 8 0.7216 0.6141 0.6728\n",
            "model2 9 0.7246 0.6253 0.6783\n",
            "model3 1.0000 0.6409 0.6227\n",
            "model3 3 0.6776 0.6763 0.7429\n",
            "model3 4 0.6820 0.6783 0.7437\n",
            "model3 5 0.6893 0.6874 0.7487\n",
            "model3 6 0.6939 0.6747 0.7404\n",
            "model3 7 0.7077 0.6707 0.7341\n",
            "model4 1.0000 0.6566 0.7309\n",
            "model4 3 0.6781 0.6727 0.7448\n",
            "model4 4 0.6885 0.6717 0.7432\n",
            "model4 5 0.7097 0.6732 0.7413\n",
            "model4 6 0.7287 0.6773 0.7395\n",
            "model4 7 0.7616 0.6742 0.7379\n",
            "model5 0.7129 0.6682 0.7378\n"
          ]
        }
      ]
    },
    {
      "cell_type": "code",
      "source": [
        "# [23] df_MINI 사용 데이터 섞기, X, Y 분리하기\n",
        "\n",
        "# X, Y 분리하기\n",
        "X3_use, X3_submission, Y3 = get_data(df_MINI, Y)\n",
        "# train, test  7:3 분할, stratify 적용, random_state=0 적용\n",
        "xtrain3, xtest3, ytrain3, ytest3 = train_test_split(X3_use, Y3,\n",
        "                                                test_size=0.3,\n",
        "                                                stratify=Y3,\n",
        "                                                random_state=0)\n",
        "# 다양한 모델 만들어 보기\n",
        "# make_models 함수 호출 부분은 \n",
        "# 실제 시험에서 제출 전에 꼭 주석을 취해 주세요 ^_^  - 실행 시간 초과 금지\n",
        "\n",
        "make_models(xtrain3, xtest3, ytrain3, ytest3)"
      ],
      "metadata": {
        "colab": {
          "base_uri": "https://localhost:8080/"
        },
        "id": "5ReJurSDPhCQ",
        "outputId": "63031661-2f9a-4f5c-c062-96533c4d772b"
      },
      "execution_count": null,
      "outputs": [
        {
          "output_type": "stream",
          "name": "stdout",
          "text": [
            "(6599, 11) (6599,) (4400, 11)\n",
            "model1 0.6501 0.6389 0.7221\n",
            "model2 1 1.0000 0.6222 0.6101\n",
            "model2 2 0.8065 0.6338 0.6654\n",
            "model2 3 0.8151 0.6359 0.6973\n",
            "model2 4 0.7668 0.6460 0.7038\n",
            "model2 5 0.7753 0.6308 0.7074\n",
            "model2 6 0.7493 0.6399 0.7110\n",
            "model2 7 0.7502 0.6439 0.7166\n",
            "model2 8 0.7393 0.6470 0.7176\n",
            "model2 9 0.7335 0.6419 0.7185\n",
            "model3 1.0000 0.6480 0.6331\n",
            "model3 3 0.6776 0.6763 0.7429\n",
            "model3 4 0.6820 0.6783 0.7437\n",
            "model3 5 0.6893 0.6874 0.7487\n",
            "model3 6 0.6939 0.6747 0.7404\n",
            "model3 7 0.7077 0.6702 0.7332\n",
            "model4 1.0000 0.6535 0.7275\n",
            "model4 3 0.6785 0.6727 0.7465\n",
            "model4 4 0.6967 0.6818 0.7460\n",
            "model4 5 0.7066 0.6813 0.7434\n",
            "model4 6 0.7192 0.6798 0.7412\n",
            "model4 7 0.7467 0.6763 0.7424\n",
            "model5 0.7235 0.6773 0.7375\n"
          ]
        }
      ]
    },
    {
      "cell_type": "code",
      "source": [
        "# [24] 최종적으로 사용할 모델을 선택하여 model로 다시 생성합니다.\n",
        "model = DecisionTreeClassifier(max_depth=5,random_state=0).fit(xtrain1, ytrain1)\n",
        "print('final model', get_scores(model, xtrain1, xtest1, ytrain1, ytest1))"
      ],
      "metadata": {
        "colab": {
          "base_uri": "https://localhost:8080/"
        },
        "id": "iSK4KNM8j8aQ",
        "outputId": "7d6dd155-a911-4efe-cff8-df65c967fd39"
      },
      "execution_count": null,
      "outputs": [
        {
          "output_type": "stream",
          "name": "stdout",
          "text": [
            "final model 0.6893 0.6874 0.7487\n"
          ]
        }
      ]
    },
    {
      "cell_type": "markdown",
      "source": [
        "### 3-05.제출할 데이터 생성"
      ],
      "metadata": {
        "id": "W_ZqmIWWZO9p"
      }
    },
    {
      "cell_type": "code",
      "source": [
        "# [25] test 데이터(X_submission, X1_submission)에 대한 확률 구하기, 파일로 저장하기\n",
        "pred = model.predict_proba(X1_submission)[:, 1]\n",
        "submission = pd.DataFrame({'ID': X_submission['ID'],\n",
        "                           'Reached.on.Time_Y.N': pred})\n",
        "submission.to_csv('submission.csv', index=False)"
      ],
      "metadata": {
        "id": "eX7XXEbianiY"
      },
      "execution_count": null,
      "outputs": []
    },
    {
      "cell_type": "code",
      "source": [
        "# [26] submission 확인\n",
        "submission.head(5)"
      ],
      "metadata": {
        "colab": {
          "base_uri": "https://localhost:8080/",
          "height": 206
        },
        "id": "PuMURZHcasGf",
        "outputId": "62e733fe-7c6b-45cd-9c1d-187b94c15621"
      },
      "execution_count": null,
      "outputs": [
        {
          "output_type": "execute_result",
          "data": {
            "text/html": [
              "\n",
              "  <div id=\"df-56895206-c9a6-4824-b519-e657cb5975db\">\n",
              "    <div class=\"colab-df-container\">\n",
              "      <div>\n",
              "<style scoped>\n",
              "    .dataframe tbody tr th:only-of-type {\n",
              "        vertical-align: middle;\n",
              "    }\n",
              "\n",
              "    .dataframe tbody tr th {\n",
              "        vertical-align: top;\n",
              "    }\n",
              "\n",
              "    .dataframe thead th {\n",
              "        text-align: right;\n",
              "    }\n",
              "</style>\n",
              "<table border=\"1\" class=\"dataframe\">\n",
              "  <thead>\n",
              "    <tr style=\"text-align: right;\">\n",
              "      <th></th>\n",
              "      <th>ID</th>\n",
              "      <th>Reached.on.Time_Y.N</th>\n",
              "    </tr>\n",
              "  </thead>\n",
              "  <tbody>\n",
              "    <tr>\n",
              "      <th>0</th>\n",
              "      <td>7007</td>\n",
              "      <td>0.4627</td>\n",
              "    </tr>\n",
              "    <tr>\n",
              "      <th>1</th>\n",
              "      <td>9793</td>\n",
              "      <td>0.4627</td>\n",
              "    </tr>\n",
              "    <tr>\n",
              "      <th>2</th>\n",
              "      <td>6593</td>\n",
              "      <td>0.4656</td>\n",
              "    </tr>\n",
              "    <tr>\n",
              "      <th>3</th>\n",
              "      <td>10527</td>\n",
              "      <td>0.3921</td>\n",
              "    </tr>\n",
              "    <tr>\n",
              "      <th>4</th>\n",
              "      <td>6914</td>\n",
              "      <td>0.4656</td>\n",
              "    </tr>\n",
              "  </tbody>\n",
              "</table>\n",
              "</div>\n",
              "      <button class=\"colab-df-convert\" onclick=\"convertToInteractive('df-56895206-c9a6-4824-b519-e657cb5975db')\"\n",
              "              title=\"Convert this dataframe to an interactive table.\"\n",
              "              style=\"display:none;\">\n",
              "        \n",
              "  <svg xmlns=\"http://www.w3.org/2000/svg\" height=\"24px\"viewBox=\"0 0 24 24\"\n",
              "       width=\"24px\">\n",
              "    <path d=\"M0 0h24v24H0V0z\" fill=\"none\"/>\n",
              "    <path d=\"M18.56 5.44l.94 2.06.94-2.06 2.06-.94-2.06-.94-.94-2.06-.94 2.06-2.06.94zm-11 1L8.5 8.5l.94-2.06 2.06-.94-2.06-.94L8.5 2.5l-.94 2.06-2.06.94zm10 10l.94 2.06.94-2.06 2.06-.94-2.06-.94-.94-2.06-.94 2.06-2.06.94z\"/><path d=\"M17.41 7.96l-1.37-1.37c-.4-.4-.92-.59-1.43-.59-.52 0-1.04.2-1.43.59L10.3 9.45l-7.72 7.72c-.78.78-.78 2.05 0 2.83L4 21.41c.39.39.9.59 1.41.59.51 0 1.02-.2 1.41-.59l7.78-7.78 2.81-2.81c.8-.78.8-2.07 0-2.86zM5.41 20L4 18.59l7.72-7.72 1.47 1.35L5.41 20z\"/>\n",
              "  </svg>\n",
              "      </button>\n",
              "      \n",
              "  <style>\n",
              "    .colab-df-container {\n",
              "      display:flex;\n",
              "      flex-wrap:wrap;\n",
              "      gap: 12px;\n",
              "    }\n",
              "\n",
              "    .colab-df-convert {\n",
              "      background-color: #E8F0FE;\n",
              "      border: none;\n",
              "      border-radius: 50%;\n",
              "      cursor: pointer;\n",
              "      display: none;\n",
              "      fill: #1967D2;\n",
              "      height: 32px;\n",
              "      padding: 0 0 0 0;\n",
              "      width: 32px;\n",
              "    }\n",
              "\n",
              "    .colab-df-convert:hover {\n",
              "      background-color: #E2EBFA;\n",
              "      box-shadow: 0px 1px 2px rgba(60, 64, 67, 0.3), 0px 1px 3px 1px rgba(60, 64, 67, 0.15);\n",
              "      fill: #174EA6;\n",
              "    }\n",
              "\n",
              "    [theme=dark] .colab-df-convert {\n",
              "      background-color: #3B4455;\n",
              "      fill: #D2E3FC;\n",
              "    }\n",
              "\n",
              "    [theme=dark] .colab-df-convert:hover {\n",
              "      background-color: #434B5C;\n",
              "      box-shadow: 0px 1px 3px 1px rgba(0, 0, 0, 0.15);\n",
              "      filter: drop-shadow(0px 1px 2px rgba(0, 0, 0, 0.3));\n",
              "      fill: #FFFFFF;\n",
              "    }\n",
              "  </style>\n",
              "\n",
              "      <script>\n",
              "        const buttonEl =\n",
              "          document.querySelector('#df-56895206-c9a6-4824-b519-e657cb5975db button.colab-df-convert');\n",
              "        buttonEl.style.display =\n",
              "          google.colab.kernel.accessAllowed ? 'block' : 'none';\n",
              "\n",
              "        async function convertToInteractive(key) {\n",
              "          const element = document.querySelector('#df-56895206-c9a6-4824-b519-e657cb5975db');\n",
              "          const dataTable =\n",
              "            await google.colab.kernel.invokeFunction('convertToInteractive',\n",
              "                                                     [key], {});\n",
              "          if (!dataTable) return;\n",
              "\n",
              "          const docLinkHtml = 'Like what you see? Visit the ' +\n",
              "            '<a target=\"_blank\" href=https://colab.research.google.com/notebooks/data_table.ipynb>data table notebook</a>'\n",
              "            + ' to learn more about interactive tables.';\n",
              "          element.innerHTML = '';\n",
              "          dataTable['output_type'] = 'display_data';\n",
              "          await google.colab.output.renderOutput(dataTable, element);\n",
              "          const docLink = document.createElement('div');\n",
              "          docLink.innerHTML = docLinkHtml;\n",
              "          element.appendChild(docLink);\n",
              "        }\n",
              "      </script>\n",
              "    </div>\n",
              "  </div>\n",
              "  "
            ],
            "text/plain": [
              "      ID  Reached.on.Time_Y.N\n",
              "0   7007               0.4627\n",
              "1   9793               0.4627\n",
              "2   6593               0.4656\n",
              "3  10527               0.3921\n",
              "4   6914               0.4656"
            ]
          },
          "metadata": {},
          "execution_count": 27
        }
      ]
    },
    {
      "cell_type": "code",
      "source": [
        "# [27] 비슷할까요?! - 시험에서는 주지 않는 데이터\n",
        "ytest = pd.read_csv('y_test.csv')\n",
        "roc_auc_score(ytest['Reached.on.Time_Y.N'], pred) "
      ],
      "metadata": {
        "colab": {
          "base_uri": "https://localhost:8080/"
        },
        "id": "C5b2c3ZMAhEx",
        "outputId": "094325e8-a378-4267-be88-b63e50ba3208"
      },
      "execution_count": null,
      "outputs": [
        {
          "output_type": "execute_result",
          "data": {
            "text/plain": [
              "0.7470310932260228"
            ]
          },
          "metadata": {},
          "execution_count": 28
        }
      ]
    },
    {
      "cell_type": "markdown",
      "source": [
        "## 4.이항 분류 모델의 성능평가\n",
        "- sklearn.metrics.accuracy_score(y_true, y_pred) = (TP/TN) / (TP+TN+FP+FN)\n",
        "- sklearn.metrics.precision_score(y_true, y_pred) = TP / (TP + FP)\n",
        "- sklearn.metrics.recall_score(y_true, y_pred) = TP / (TP + FN)\n",
        "- sklearn.metrics.f1_score(y_true, y_pred = 2 * (Precison * Recall) / (Precision + Recall)\n",
        "- 참고 : https://gaussian37.github.io/ml-concept-ml-evaluation/"
      ],
      "metadata": {
        "id": "l3MS7QM3nl5F"
      }
    },
    {
      "cell_type": "code",
      "source": [
        "# [0] 성능평가 관련 함수\n",
        "from sklearn.metrics import confusion_matrix, precision_score, recall_score, accuracy_score, f1_score\n",
        "import numpy as np\n",
        "\n",
        "y_true = np.array([0, 1, 0, 0])   # 0 : 3개, 1 : 1개, 불균형한 데이터인 경우 \n",
        "y_pred = np.array([0, 1, 1, 0])\n",
        "cm = pd.DataFrame(confusion_matrix(y_true, y_pred))\n",
        "print(cm)\n",
        "# 전체에서 맞춘것의 비율 : 3/4\n",
        "print('accuracy  : %.2f' % accuracy_score(y_true, y_pred))\n",
        "# positive(1) 로 예측한 것 중에 맞춘 것 : 1/2\n",
        "print('precision : %.2f' % precision_score(y_true, y_pred))\n",
        "# positive(1) 가 실제인 것 중에 맞춘 것 : 1/1\n",
        "print('recall    : %.2f' % recall_score(y_true, y_pred))\n",
        "# f1 : precision, recall 의 조화 평균\n",
        "print('f1        : %.2f' % f1_score(y_true, y_pred))"
      ],
      "metadata": {
        "colab": {
          "base_uri": "https://localhost:8080/"
        },
        "id": "ZcR4t2jE9ZG_",
        "outputId": "28377a0a-309d-47a6-f2af-7c8744240842"
      },
      "execution_count": null,
      "outputs": [
        {
          "output_type": "stream",
          "name": "stdout",
          "text": [
            "   0  1\n",
            "0  2  1\n",
            "1  0  1\n",
            "accuracy  : 0.75\n",
            "precision : 0.50\n",
            "recall    : 1.00\n",
            "f1        : 0.67\n"
          ]
        }
      ]
    },
    {
      "cell_type": "code",
      "source": [
        "# [1] 빅분기 실기 2회 데이터를 사용한 성능 출력 함수 만들기\n",
        "#     accuracy, precision, recall, f1\n",
        "\n",
        "def get_other_scores(model, xtest, ytest):\n",
        "    ## 중요내용!\n",
        "    y_pred = model.predict(xtest)\n",
        "    accuracy = accuracy_score(ytest, y_pred)\n",
        "    precision = precision_score(ytest, y_pred)\n",
        "    recall = recall_score(ytest, y_pred)\n",
        "    f1 = f1_score(ytest, y_pred)\n",
        "    print(f'accuracy  : {accuracy:7.4f}')\n",
        "    print(f'precision : {precision:7.4f}')\n",
        "    print(f'recall    : {recall:7.4f}')\n",
        "    print(f'f1        : {f1:7.4f}')"
      ],
      "metadata": {
        "id": "tTP3UbFMnja0"
      },
      "execution_count": null,
      "outputs": []
    },
    {
      "cell_type": "code",
      "source": [
        "# [2] DecisionTreeClassifier - max_depth를 5로 했을 경우\n",
        "model = DecisionTreeClassifier(max_depth=5,random_state=0).fit(xtrain1, ytrain1)\n",
        "print('final model', get_scores(model, xtrain1, xtest1, ytrain1, ytest1))\n",
        "get_other_scores(model, xtest1, ytest1)"
      ],
      "metadata": {
        "colab": {
          "base_uri": "https://localhost:8080/"
        },
        "id": "u9ppw2RNuXmy",
        "outputId": "54753204-d76c-4ba6-c34c-c08debfbd430"
      },
      "execution_count": null,
      "outputs": [
        {
          "output_type": "stream",
          "name": "stdout",
          "text": [
            "final model 0.6893 0.6874 0.7487\n",
            "accuracy  :  0.6874\n",
            "precision :  0.9490\n",
            "recall    :  0.5034\n",
            "f1        :  0.6578\n"
          ]
        }
      ]
    },
    {
      "cell_type": "code",
      "source": [
        "# [3] DecisionTreeClassifier - max_depth를 4로 했을 경우\n",
        "model = DecisionTreeClassifier(max_depth=4,random_state=0).fit(xtrain1, ytrain1)\n",
        "print('final model', get_scores(model, xtrain1, xtest1, ytrain1, ytest1))\n",
        "get_other_scores(model, xtest1, ytest1)"
      ],
      "metadata": {
        "colab": {
          "base_uri": "https://localhost:8080/"
        },
        "id": "rJpTDvQkvgmy",
        "outputId": "e44d331b-0ce5-43b2-b556-ee21dd4ffa57"
      },
      "execution_count": null,
      "outputs": [
        {
          "output_type": "stream",
          "name": "stdout",
          "text": [
            "final model 0.6820 0.6783 0.7437\n",
            "accuracy  :  0.6783\n",
            "precision :  0.9549\n",
            "recall    :  0.4839\n",
            "f1        :  0.6423\n"
          ]
        }
      ]
    },
    {
      "cell_type": "markdown",
      "metadata": {
        "id": "7Exn39R0G-en"
      },
      "source": [
        "## 5.다항 분류\n",
        "- Multi Classification\n",
        "- 3 개 이상의 Label을 갖는 데이터에 대한 분류\n"
      ]
    },
    {
      "cell_type": "markdown",
      "metadata": {
        "id": "WIsXkNKBpE0z"
      },
      "source": [
        "### 5-01. 함수 생성\n",
        "\n",
        "3과목의 평균에 따라 A, B, C, D, F 학점으로 분류\n",
        "- 90 이상 : 'A'\n",
        "- 80 이상 : 'B'\n",
        "- 70 이상 : 'C'\n",
        "- 60 이상 : 'D'\n",
        "- 60 미만 : 'F'"
      ]
    },
    {
      "cell_type": "code",
      "metadata": {
        "id": "7yYAt5nKIGQp"
      },
      "source": [
        "# [0] 사용할 라이브러리 import \n",
        "import pandas as pd\n",
        "import numpy as np\n",
        "from sklearn.model_selection import train_test_split\n",
        "from sklearn.metrics import roc_auc_score"
      ],
      "execution_count": null,
      "outputs": []
    },
    {
      "cell_type": "code",
      "metadata": {
        "id": "Mf95vzUNHA1_"
      },
      "source": [
        "# [1] 원하는 수의 행(sample)을 갖는 데이터 작성\n",
        "# seedno : 랜덤 수 생성 규칙\n",
        "# size : 랜덤 수 생성 행의 수\n",
        "# step=0 (비교적 ^^ 균형), step=다른수 (불균형)\n",
        "def make_sample(seedno, size, step=0):\n",
        "    np.random.seed(seedno)\n",
        "    if step == 0:\n",
        "        size = int(size/4)\n",
        "        A = pd.DataFrame(np.random.randint(0, 101, (size, 3)))\n",
        "        B = pd.DataFrame(np.random.randint(85, 101, (size, 3)))\n",
        "        C = pd.DataFrame(np.random.randint(70, 95, (size, 3)))\n",
        "        D = pd.DataFrame(np.random.randint(60, 80, (size, 3)))\n",
        "        data = pd.concat([A, B, C, D], ignore_index=True)\n",
        "    else:\n",
        "        data = pd.DataFrame(np.random.randint(0, 101, (size, 3)))\n",
        "\n",
        "    data.columns = ['국어', '영어', '수학']\n",
        "    s = data.mean(axis=1)\n",
        "    data['학점'] =  s.apply(lambda x: 'A' if x >=90 else 'B' if x >= 80 else\n",
        "                          'C' if x >= 70 else 'D' if x >= 60 else 'F')\n",
        "    print(data['학점'].value_counts().sort_index())\n",
        "    data['학점'] = data['학점'].replace({'A':0, 'B':1, 'C':2, 'D':3, 'F':4})\n",
        "    return data"
      ],
      "execution_count": null,
      "outputs": []
    },
    {
      "cell_type": "code",
      "metadata": {
        "id": "mTFFFVslPCxd"
      },
      "source": [
        "# [2] 모든 경우의 수로 데이터 작성 : 101 * 101 * 101 = 1,030,301\n",
        "def make_all():\n",
        "    colnames = ['국어', '영어', '수학']\n",
        "    data = [[kor, eng, mat] for kor in range(101)\n",
        "                            for eng in range(101)\n",
        "                            for mat in range(101)]\n",
        "    data = pd.DataFrame(data, columns=colnames)  \n",
        "    s = data.mean(axis=1)\n",
        "    data['학점'] = s.apply(lambda x: 'A' if x >=90 else 'B' if x >= 80 else\n",
        "                          'C' if x >= 70 else 'D' if x >= 60 else 'F')\n",
        "    print(data['학점'].value_counts().sort_index())\n",
        "    data['학점'] = data['학점'].replace({'A':0, 'B':1, 'C':2, 'D':3, 'F':4}) \n",
        "    return data"
      ],
      "execution_count": null,
      "outputs": []
    },
    {
      "cell_type": "code",
      "metadata": {
        "id": "cdMaIt_bH4i9"
      },
      "source": [
        "# [3] 모델 학습 및 성능 평가 (train 데이터 사용)\n",
        "from sklearn.preprocessing import StandardScaler\n",
        "def ModelTrain(model, df):\n",
        "    # X, Y 데이터 준비\n",
        "    Y = df['학점']\n",
        "    X = df.drop(columns=['학점'])\n",
        "    # X_scaled = StandardScaler(X).fit_transform(X)\n",
        "\n",
        "    # train, test 데이터 분할\n",
        "    xtrain, xtest, ytrain, ytest = train_test_split(X, Y,\n",
        "                                                    test_size=0.3,\n",
        "                                                    stratify=Y,\n",
        "                                                    random_state=0)\n",
        "    # 모델 선택 및 학습\n",
        "    #model = LogisticRegression(max_iter=5000)\n",
        "    model.fit(xtrain, ytrain)\n",
        "\n",
        "    # 성능평가 - accuracy, roc_auc_score\n",
        "    A = model.score(xtrain, ytrain)\n",
        "    B = model.score(xtest, ytest)\n",
        "    ypred = model.predict_proba(xtest)  # xtest 수정!! 주의\n",
        "    C = roc_auc_score(ytest, ypred, multi_class='ovo', average='weighted')\n",
        "    print(f'{A:.4f} {B:.4f} {C:.4f}')\n",
        "    return model"
      ],
      "execution_count": null,
      "outputs": []
    },
    {
      "cell_type": "code",
      "source": [
        "# multi_class='raise' : 멀티클래스일 때 오류 발생\n",
        "# multi_class='ovo' : One-vs-one을 의미\n",
        "# 가능한 모든 클래스 쌍 조합의 평균 AUC를 계산\n",
        "# multi_class='ovr' : One-vs-rest를 의미\n",
        "# 나머지에 대해 각 클래스의 AUC를 계산\n",
        "# 클래스 불균형은 각 '나머지'그룹의 구성에 영향을 미치기 때문에 \n",
        "# average == 'macro' 일 때도 클래스 불균형에 민감\n",
        "\n",
        "# average='macro' : 레이블 불균형은 고려되지 않음\n",
        "# average='weighted' : 레이블에 가중치가 부여된 평균\n",
        "# https://runebook.dev/ko/docs/scikit_learn/modules/generated/sklearn.metrics.roc_auc_score"
      ],
      "metadata": {
        "id": "-JExMy9TRamq"
      },
      "execution_count": null,
      "outputs": []
    },
    {
      "cell_type": "code",
      "source": [
        "# [4] 결과 분석용 함수\n",
        "# data : 2D [[국어, 영어, 수학], ...]\n",
        "def get_result(data, model):\n",
        "    df = pd.DataFrame(data, columns=['국어', '영어', '수학'])\n",
        "    df['평균'] = df.mean(axis=1)\n",
        "    # df['평균']으로 수정\n",
        "    df['학점'] = df['평균'].apply(lambda x: 'A' if x >=90 else 'B' if x >= 80 else\n",
        "                          'C' if x >= 70 else 'D' if x >= 60 else 'F')   \n",
        "    df['예측'] = model.predict(df[['국어', '영어', '수학']])  #  0, 1, 2, 3, 4\n",
        "    df['예측'] = df['예측'].replace({0:'A', 1:'B', 2:'C', 3:'D', 4:'F'})\n",
        "    return df"
      ],
      "metadata": {
        "id": "yElrU296gXWy"
      },
      "execution_count": null,
      "outputs": []
    },
    {
      "cell_type": "markdown",
      "metadata": {
        "id": "izj-JK6SPtuP"
      },
      "source": [
        "### 5-02.데이터 생성 및 분류"
      ]
    },
    {
      "cell_type": "code",
      "metadata": {
        "id": "-yek2Qm6Prex"
      },
      "source": [
        "# [5] 사용할 모델 import\n",
        "from sklearn.linear_model import LogisticRegression"
      ],
      "execution_count": null,
      "outputs": []
    },
    {
      "cell_type": "code",
      "metadata": {
        "id": "4C5z73lGH4Z4",
        "colab": {
          "base_uri": "https://localhost:8080/"
        },
        "outputId": "95fefdae-6874-421f-816e-aa1a458d1ccc"
      },
      "source": [
        "# [6] LogisticRegression 사용 (max_iter=1000)\n",
        "# 데이터 : seedno=1234, size=30000\n",
        "data = make_sample(seedno=1234, size=30000)\n",
        "#print(data.head(3))\n",
        "model_A = LogisticRegression(max_iter=1000)\n",
        "ModelTrain(model_A, data)"
      ],
      "execution_count": null,
      "outputs": [
        {
          "output_type": "stream",
          "name": "stdout",
          "text": [
            "A    6483\n",
            "B    6419\n",
            "C    6531\n",
            "D    5247\n",
            "F    5320\n",
            "Name: 학점, dtype: int64\n",
            "1.0000 1.0000 1.0000\n"
          ]
        },
        {
          "output_type": "execute_result",
          "data": {
            "text/plain": [
              "LogisticRegression(max_iter=1000)"
            ]
          },
          "metadata": {},
          "execution_count": 75
        }
      ]
    },
    {
      "cell_type": "code",
      "source": [
        "# [7] 결과 확인 - 경계값 중심\n",
        "data = [[9, 100, 100], [89, 92, 88], [100, 98, 72], \n",
        "        [60, 60, 60], [60, 60, 59], [59, 60, 60],\n",
        "        [90, 98, 82], [100, 100, 10], [100, 100, 9]]\n",
        "get_result(data, model_A)"
      ],
      "metadata": {
        "colab": {
          "base_uri": "https://localhost:8080/",
          "height": 331
        },
        "id": "RxzvEzbbihKL",
        "outputId": "ef43f323-9396-4b7c-d625-b1391ee55ed1"
      },
      "execution_count": null,
      "outputs": [
        {
          "output_type": "execute_result",
          "data": {
            "text/html": [
              "\n",
              "  <div id=\"df-7c352850-b7f9-4d9a-a79f-0a2b61ba15b9\">\n",
              "    <div class=\"colab-df-container\">\n",
              "      <div>\n",
              "<style scoped>\n",
              "    .dataframe tbody tr th:only-of-type {\n",
              "        vertical-align: middle;\n",
              "    }\n",
              "\n",
              "    .dataframe tbody tr th {\n",
              "        vertical-align: top;\n",
              "    }\n",
              "\n",
              "    .dataframe thead th {\n",
              "        text-align: right;\n",
              "    }\n",
              "</style>\n",
              "<table border=\"1\" class=\"dataframe\">\n",
              "  <thead>\n",
              "    <tr style=\"text-align: right;\">\n",
              "      <th></th>\n",
              "      <th>국어</th>\n",
              "      <th>영어</th>\n",
              "      <th>수학</th>\n",
              "      <th>평균</th>\n",
              "      <th>학점</th>\n",
              "      <th>예측</th>\n",
              "    </tr>\n",
              "  </thead>\n",
              "  <tbody>\n",
              "    <tr>\n",
              "      <th>0</th>\n",
              "      <td>9</td>\n",
              "      <td>100</td>\n",
              "      <td>100</td>\n",
              "      <td>69.6667</td>\n",
              "      <td>D</td>\n",
              "      <td>D</td>\n",
              "    </tr>\n",
              "    <tr>\n",
              "      <th>1</th>\n",
              "      <td>89</td>\n",
              "      <td>92</td>\n",
              "      <td>88</td>\n",
              "      <td>89.6667</td>\n",
              "      <td>B</td>\n",
              "      <td>B</td>\n",
              "    </tr>\n",
              "    <tr>\n",
              "      <th>2</th>\n",
              "      <td>100</td>\n",
              "      <td>98</td>\n",
              "      <td>72</td>\n",
              "      <td>90.0000</td>\n",
              "      <td>A</td>\n",
              "      <td>A</td>\n",
              "    </tr>\n",
              "    <tr>\n",
              "      <th>3</th>\n",
              "      <td>60</td>\n",
              "      <td>60</td>\n",
              "      <td>60</td>\n",
              "      <td>60.0000</td>\n",
              "      <td>D</td>\n",
              "      <td>D</td>\n",
              "    </tr>\n",
              "    <tr>\n",
              "      <th>4</th>\n",
              "      <td>60</td>\n",
              "      <td>60</td>\n",
              "      <td>59</td>\n",
              "      <td>59.6667</td>\n",
              "      <td>F</td>\n",
              "      <td>F</td>\n",
              "    </tr>\n",
              "    <tr>\n",
              "      <th>5</th>\n",
              "      <td>59</td>\n",
              "      <td>60</td>\n",
              "      <td>60</td>\n",
              "      <td>59.6667</td>\n",
              "      <td>F</td>\n",
              "      <td>F</td>\n",
              "    </tr>\n",
              "    <tr>\n",
              "      <th>6</th>\n",
              "      <td>90</td>\n",
              "      <td>98</td>\n",
              "      <td>82</td>\n",
              "      <td>90.0000</td>\n",
              "      <td>A</td>\n",
              "      <td>A</td>\n",
              "    </tr>\n",
              "    <tr>\n",
              "      <th>7</th>\n",
              "      <td>100</td>\n",
              "      <td>100</td>\n",
              "      <td>10</td>\n",
              "      <td>70.0000</td>\n",
              "      <td>C</td>\n",
              "      <td>C</td>\n",
              "    </tr>\n",
              "    <tr>\n",
              "      <th>8</th>\n",
              "      <td>100</td>\n",
              "      <td>100</td>\n",
              "      <td>9</td>\n",
              "      <td>69.6667</td>\n",
              "      <td>D</td>\n",
              "      <td>D</td>\n",
              "    </tr>\n",
              "  </tbody>\n",
              "</table>\n",
              "</div>\n",
              "      <button class=\"colab-df-convert\" onclick=\"convertToInteractive('df-7c352850-b7f9-4d9a-a79f-0a2b61ba15b9')\"\n",
              "              title=\"Convert this dataframe to an interactive table.\"\n",
              "              style=\"display:none;\">\n",
              "        \n",
              "  <svg xmlns=\"http://www.w3.org/2000/svg\" height=\"24px\"viewBox=\"0 0 24 24\"\n",
              "       width=\"24px\">\n",
              "    <path d=\"M0 0h24v24H0V0z\" fill=\"none\"/>\n",
              "    <path d=\"M18.56 5.44l.94 2.06.94-2.06 2.06-.94-2.06-.94-.94-2.06-.94 2.06-2.06.94zm-11 1L8.5 8.5l.94-2.06 2.06-.94-2.06-.94L8.5 2.5l-.94 2.06-2.06.94zm10 10l.94 2.06.94-2.06 2.06-.94-2.06-.94-.94-2.06-.94 2.06-2.06.94z\"/><path d=\"M17.41 7.96l-1.37-1.37c-.4-.4-.92-.59-1.43-.59-.52 0-1.04.2-1.43.59L10.3 9.45l-7.72 7.72c-.78.78-.78 2.05 0 2.83L4 21.41c.39.39.9.59 1.41.59.51 0 1.02-.2 1.41-.59l7.78-7.78 2.81-2.81c.8-.78.8-2.07 0-2.86zM5.41 20L4 18.59l7.72-7.72 1.47 1.35L5.41 20z\"/>\n",
              "  </svg>\n",
              "      </button>\n",
              "      \n",
              "  <style>\n",
              "    .colab-df-container {\n",
              "      display:flex;\n",
              "      flex-wrap:wrap;\n",
              "      gap: 12px;\n",
              "    }\n",
              "\n",
              "    .colab-df-convert {\n",
              "      background-color: #E8F0FE;\n",
              "      border: none;\n",
              "      border-radius: 50%;\n",
              "      cursor: pointer;\n",
              "      display: none;\n",
              "      fill: #1967D2;\n",
              "      height: 32px;\n",
              "      padding: 0 0 0 0;\n",
              "      width: 32px;\n",
              "    }\n",
              "\n",
              "    .colab-df-convert:hover {\n",
              "      background-color: #E2EBFA;\n",
              "      box-shadow: 0px 1px 2px rgba(60, 64, 67, 0.3), 0px 1px 3px 1px rgba(60, 64, 67, 0.15);\n",
              "      fill: #174EA6;\n",
              "    }\n",
              "\n",
              "    [theme=dark] .colab-df-convert {\n",
              "      background-color: #3B4455;\n",
              "      fill: #D2E3FC;\n",
              "    }\n",
              "\n",
              "    [theme=dark] .colab-df-convert:hover {\n",
              "      background-color: #434B5C;\n",
              "      box-shadow: 0px 1px 3px 1px rgba(0, 0, 0, 0.15);\n",
              "      filter: drop-shadow(0px 1px 2px rgba(0, 0, 0, 0.3));\n",
              "      fill: #FFFFFF;\n",
              "    }\n",
              "  </style>\n",
              "\n",
              "      <script>\n",
              "        const buttonEl =\n",
              "          document.querySelector('#df-7c352850-b7f9-4d9a-a79f-0a2b61ba15b9 button.colab-df-convert');\n",
              "        buttonEl.style.display =\n",
              "          google.colab.kernel.accessAllowed ? 'block' : 'none';\n",
              "\n",
              "        async function convertToInteractive(key) {\n",
              "          const element = document.querySelector('#df-7c352850-b7f9-4d9a-a79f-0a2b61ba15b9');\n",
              "          const dataTable =\n",
              "            await google.colab.kernel.invokeFunction('convertToInteractive',\n",
              "                                                     [key], {});\n",
              "          if (!dataTable) return;\n",
              "\n",
              "          const docLinkHtml = 'Like what you see? Visit the ' +\n",
              "            '<a target=\"_blank\" href=https://colab.research.google.com/notebooks/data_table.ipynb>data table notebook</a>'\n",
              "            + ' to learn more about interactive tables.';\n",
              "          element.innerHTML = '';\n",
              "          dataTable['output_type'] = 'display_data';\n",
              "          await google.colab.output.renderOutput(dataTable, element);\n",
              "          const docLink = document.createElement('div');\n",
              "          docLink.innerHTML = docLinkHtml;\n",
              "          element.appendChild(docLink);\n",
              "        }\n",
              "      </script>\n",
              "    </div>\n",
              "  </div>\n",
              "  "
            ],
            "text/plain": [
              "    국어   영어   수학      평균 학점 예측\n",
              "0    9  100  100 69.6667  D  D\n",
              "1   89   92   88 89.6667  B  B\n",
              "2  100   98   72 90.0000  A  A\n",
              "3   60   60   60 60.0000  D  D\n",
              "4   60   60   59 59.6667  F  F\n",
              "5   59   60   60 59.6667  F  F\n",
              "6   90   98   82 90.0000  A  A\n",
              "7  100  100   10 70.0000  C  C\n",
              "8  100  100    9 69.6667  D  D"
            ]
          },
          "metadata": {},
          "execution_count": 79
        }
      ]
    },
    {
      "cell_type": "code",
      "source": [
        "# [8] 데이터 개수 줄이고, 불균형으로 만듦\n",
        "# LogisticRegression 사용 (max_iter=8000)\n",
        "# seedno=1234, size=5000, step=1\n",
        "data = make_sample(seedno=1234, size=5000, step=1)\n",
        "#print(data.head(3))\n",
        "model_B = LogisticRegression(max_iter=8000)\n",
        "ModelTrain(model_B, data)"
      ],
      "metadata": {
        "colab": {
          "base_uri": "https://localhost:8080/"
        },
        "id": "K5B2iOuVjhQn",
        "outputId": "c58410d9-9e8a-494a-bd22-c151d84a4246"
      },
      "execution_count": null,
      "outputs": [
        {
          "output_type": "stream",
          "name": "stdout",
          "text": [
            "A      21\n",
            "B     172\n",
            "C     453\n",
            "D     815\n",
            "F    3539\n",
            "Name: 학점, dtype: int64\n",
            "1.0000 0.9993 1.0000\n"
          ]
        },
        {
          "output_type": "execute_result",
          "data": {
            "text/plain": [
              "LogisticRegression(max_iter=8000)"
            ]
          },
          "metadata": {},
          "execution_count": 81
        }
      ]
    },
    {
      "cell_type": "code",
      "source": [
        "# [9] 결과 확인 - 경계값 중심\n",
        "data = [[9, 100, 100], [89, 92, 88], [100, 98, 72], \n",
        "        [60, 60, 60], [60, 60, 59], [59, 60, 60],\n",
        "        [90, 98, 82], [100, 100, 10], [100, 100, 9]]\n",
        "get_result(data, model_B)        "
      ],
      "metadata": {
        "colab": {
          "base_uri": "https://localhost:8080/",
          "height": 331
        },
        "id": "j8IYv9pQjquW",
        "outputId": "3b1fd75e-2be3-44ca-ea9a-02d5a33b23d5"
      },
      "execution_count": null,
      "outputs": [
        {
          "output_type": "execute_result",
          "data": {
            "text/html": [
              "\n",
              "  <div id=\"df-46551fc6-c87d-428f-9d56-9b4b22e81b8d\">\n",
              "    <div class=\"colab-df-container\">\n",
              "      <div>\n",
              "<style scoped>\n",
              "    .dataframe tbody tr th:only-of-type {\n",
              "        vertical-align: middle;\n",
              "    }\n",
              "\n",
              "    .dataframe tbody tr th {\n",
              "        vertical-align: top;\n",
              "    }\n",
              "\n",
              "    .dataframe thead th {\n",
              "        text-align: right;\n",
              "    }\n",
              "</style>\n",
              "<table border=\"1\" class=\"dataframe\">\n",
              "  <thead>\n",
              "    <tr style=\"text-align: right;\">\n",
              "      <th></th>\n",
              "      <th>국어</th>\n",
              "      <th>영어</th>\n",
              "      <th>수학</th>\n",
              "      <th>평균</th>\n",
              "      <th>학점</th>\n",
              "      <th>예측</th>\n",
              "    </tr>\n",
              "  </thead>\n",
              "  <tbody>\n",
              "    <tr>\n",
              "      <th>0</th>\n",
              "      <td>9</td>\n",
              "      <td>100</td>\n",
              "      <td>100</td>\n",
              "      <td>69.6667</td>\n",
              "      <td>D</td>\n",
              "      <td>C</td>\n",
              "    </tr>\n",
              "    <tr>\n",
              "      <th>1</th>\n",
              "      <td>89</td>\n",
              "      <td>92</td>\n",
              "      <td>88</td>\n",
              "      <td>89.6667</td>\n",
              "      <td>B</td>\n",
              "      <td>A</td>\n",
              "    </tr>\n",
              "    <tr>\n",
              "      <th>2</th>\n",
              "      <td>100</td>\n",
              "      <td>98</td>\n",
              "      <td>72</td>\n",
              "      <td>90.0000</td>\n",
              "      <td>A</td>\n",
              "      <td>B</td>\n",
              "    </tr>\n",
              "    <tr>\n",
              "      <th>3</th>\n",
              "      <td>60</td>\n",
              "      <td>60</td>\n",
              "      <td>60</td>\n",
              "      <td>60.0000</td>\n",
              "      <td>D</td>\n",
              "      <td>D</td>\n",
              "    </tr>\n",
              "    <tr>\n",
              "      <th>4</th>\n",
              "      <td>60</td>\n",
              "      <td>60</td>\n",
              "      <td>59</td>\n",
              "      <td>59.6667</td>\n",
              "      <td>F</td>\n",
              "      <td>F</td>\n",
              "    </tr>\n",
              "    <tr>\n",
              "      <th>5</th>\n",
              "      <td>59</td>\n",
              "      <td>60</td>\n",
              "      <td>60</td>\n",
              "      <td>59.6667</td>\n",
              "      <td>F</td>\n",
              "      <td>F</td>\n",
              "    </tr>\n",
              "    <tr>\n",
              "      <th>6</th>\n",
              "      <td>90</td>\n",
              "      <td>98</td>\n",
              "      <td>82</td>\n",
              "      <td>90.0000</td>\n",
              "      <td>A</td>\n",
              "      <td>A</td>\n",
              "    </tr>\n",
              "    <tr>\n",
              "      <th>7</th>\n",
              "      <td>100</td>\n",
              "      <td>100</td>\n",
              "      <td>10</td>\n",
              "      <td>70.0000</td>\n",
              "      <td>C</td>\n",
              "      <td>C</td>\n",
              "    </tr>\n",
              "    <tr>\n",
              "      <th>8</th>\n",
              "      <td>100</td>\n",
              "      <td>100</td>\n",
              "      <td>9</td>\n",
              "      <td>69.6667</td>\n",
              "      <td>D</td>\n",
              "      <td>D</td>\n",
              "    </tr>\n",
              "  </tbody>\n",
              "</table>\n",
              "</div>\n",
              "      <button class=\"colab-df-convert\" onclick=\"convertToInteractive('df-46551fc6-c87d-428f-9d56-9b4b22e81b8d')\"\n",
              "              title=\"Convert this dataframe to an interactive table.\"\n",
              "              style=\"display:none;\">\n",
              "        \n",
              "  <svg xmlns=\"http://www.w3.org/2000/svg\" height=\"24px\"viewBox=\"0 0 24 24\"\n",
              "       width=\"24px\">\n",
              "    <path d=\"M0 0h24v24H0V0z\" fill=\"none\"/>\n",
              "    <path d=\"M18.56 5.44l.94 2.06.94-2.06 2.06-.94-2.06-.94-.94-2.06-.94 2.06-2.06.94zm-11 1L8.5 8.5l.94-2.06 2.06-.94-2.06-.94L8.5 2.5l-.94 2.06-2.06.94zm10 10l.94 2.06.94-2.06 2.06-.94-2.06-.94-.94-2.06-.94 2.06-2.06.94z\"/><path d=\"M17.41 7.96l-1.37-1.37c-.4-.4-.92-.59-1.43-.59-.52 0-1.04.2-1.43.59L10.3 9.45l-7.72 7.72c-.78.78-.78 2.05 0 2.83L4 21.41c.39.39.9.59 1.41.59.51 0 1.02-.2 1.41-.59l7.78-7.78 2.81-2.81c.8-.78.8-2.07 0-2.86zM5.41 20L4 18.59l7.72-7.72 1.47 1.35L5.41 20z\"/>\n",
              "  </svg>\n",
              "      </button>\n",
              "      \n",
              "  <style>\n",
              "    .colab-df-container {\n",
              "      display:flex;\n",
              "      flex-wrap:wrap;\n",
              "      gap: 12px;\n",
              "    }\n",
              "\n",
              "    .colab-df-convert {\n",
              "      background-color: #E8F0FE;\n",
              "      border: none;\n",
              "      border-radius: 50%;\n",
              "      cursor: pointer;\n",
              "      display: none;\n",
              "      fill: #1967D2;\n",
              "      height: 32px;\n",
              "      padding: 0 0 0 0;\n",
              "      width: 32px;\n",
              "    }\n",
              "\n",
              "    .colab-df-convert:hover {\n",
              "      background-color: #E2EBFA;\n",
              "      box-shadow: 0px 1px 2px rgba(60, 64, 67, 0.3), 0px 1px 3px 1px rgba(60, 64, 67, 0.15);\n",
              "      fill: #174EA6;\n",
              "    }\n",
              "\n",
              "    [theme=dark] .colab-df-convert {\n",
              "      background-color: #3B4455;\n",
              "      fill: #D2E3FC;\n",
              "    }\n",
              "\n",
              "    [theme=dark] .colab-df-convert:hover {\n",
              "      background-color: #434B5C;\n",
              "      box-shadow: 0px 1px 3px 1px rgba(0, 0, 0, 0.15);\n",
              "      filter: drop-shadow(0px 1px 2px rgba(0, 0, 0, 0.3));\n",
              "      fill: #FFFFFF;\n",
              "    }\n",
              "  </style>\n",
              "\n",
              "      <script>\n",
              "        const buttonEl =\n",
              "          document.querySelector('#df-46551fc6-c87d-428f-9d56-9b4b22e81b8d button.colab-df-convert');\n",
              "        buttonEl.style.display =\n",
              "          google.colab.kernel.accessAllowed ? 'block' : 'none';\n",
              "\n",
              "        async function convertToInteractive(key) {\n",
              "          const element = document.querySelector('#df-46551fc6-c87d-428f-9d56-9b4b22e81b8d');\n",
              "          const dataTable =\n",
              "            await google.colab.kernel.invokeFunction('convertToInteractive',\n",
              "                                                     [key], {});\n",
              "          if (!dataTable) return;\n",
              "\n",
              "          const docLinkHtml = 'Like what you see? Visit the ' +\n",
              "            '<a target=\"_blank\" href=https://colab.research.google.com/notebooks/data_table.ipynb>data table notebook</a>'\n",
              "            + ' to learn more about interactive tables.';\n",
              "          element.innerHTML = '';\n",
              "          dataTable['output_type'] = 'display_data';\n",
              "          await google.colab.output.renderOutput(dataTable, element);\n",
              "          const docLink = document.createElement('div');\n",
              "          docLink.innerHTML = docLinkHtml;\n",
              "          element.appendChild(docLink);\n",
              "        }\n",
              "      </script>\n",
              "    </div>\n",
              "  </div>\n",
              "  "
            ],
            "text/plain": [
              "    국어   영어   수학      평균 학점 예측\n",
              "0    9  100  100 69.6667  D  C\n",
              "1   89   92   88 89.6667  B  A\n",
              "2  100   98   72 90.0000  A  B\n",
              "3   60   60   60 60.0000  D  D\n",
              "4   60   60   59 59.6667  F  F\n",
              "5   59   60   60 59.6667  F  F\n",
              "6   90   98   82 90.0000  A  A\n",
              "7  100  100   10 70.0000  C  C\n",
              "8  100  100    9 69.6667  D  D"
            ]
          },
          "metadata": {},
          "execution_count": 82
        }
      ]
    },
    {
      "cell_type": "code",
      "source": [
        "# [10] dataAll 생성 (모든 경우의 수를 생성함)\n",
        "dataAll = make_all()\n",
        "dataAll.shape"
      ],
      "metadata": {
        "colab": {
          "base_uri": "https://localhost:8080/"
        },
        "id": "FPg87XrryIqp",
        "outputId": "17a45d4b-57bf-4a14-d0a7-b8501232b32a"
      },
      "execution_count": null,
      "outputs": [
        {
          "output_type": "stream",
          "name": "stdout",
          "text": [
            "A      5456\n",
            "B     34255\n",
            "C     90055\n",
            "D    168235\n",
            "F    732300\n",
            "Name: 학점, dtype: int64\n"
          ]
        },
        {
          "output_type": "execute_result",
          "data": {
            "text/plain": [
              "(1030301, 4)"
            ]
          },
          "metadata": {},
          "execution_count": 83
        }
      ]
    },
    {
      "cell_type": "code",
      "source": [
        "# [11] dataAll을 사용해 modelA, modelB를 평가\n",
        "data = dataAll[['국어', '영어', '수학']]\n",
        "resultA = get_result(data, model_A)\n",
        "print('model_A :', sum(resultA['학점'] != resultA['예측']))\n",
        "resultB = get_result(data, model_B)\n",
        "print('model_B :', sum(resultB['학점'] != resultB['예측']))"
      ],
      "metadata": {
        "id": "vIhEGlhNjBZo",
        "colab": {
          "base_uri": "https://localhost:8080/"
        },
        "outputId": "73d00f27-0020-482e-a936-94715a155bf7"
      },
      "execution_count": null,
      "outputs": [
        {
          "output_type": "stream",
          "name": "stdout",
          "text": [
            "model_A : 0\n",
            "model_B : 1187\n"
          ]
        }
      ]
    },
    {
      "cell_type": "code",
      "source": [
        "# [12] 틀린 것의 목록 만들기\n",
        "wrong = resultB[resultB['학점'] != resultB['예측']]\n",
        "wrong.tail(5)"
      ],
      "metadata": {
        "id": "CKrv-FJl7Ife",
        "colab": {
          "base_uri": "https://localhost:8080/",
          "height": 206
        },
        "outputId": "978f0830-1e58-4e88-f74d-e24c9b242efa"
      },
      "execution_count": null,
      "outputs": [
        {
          "output_type": "execute_result",
          "data": {
            "text/html": [
              "\n",
              "  <div id=\"df-99b4fe83-fe93-4555-a0a3-1e80bef34fd6\">\n",
              "    <div class=\"colab-df-container\">\n",
              "      <div>\n",
              "<style scoped>\n",
              "    .dataframe tbody tr th:only-of-type {\n",
              "        vertical-align: middle;\n",
              "    }\n",
              "\n",
              "    .dataframe tbody tr th {\n",
              "        vertical-align: top;\n",
              "    }\n",
              "\n",
              "    .dataframe thead th {\n",
              "        text-align: right;\n",
              "    }\n",
              "</style>\n",
              "<table border=\"1\" class=\"dataframe\">\n",
              "  <thead>\n",
              "    <tr style=\"text-align: right;\">\n",
              "      <th></th>\n",
              "      <th>국어</th>\n",
              "      <th>영어</th>\n",
              "      <th>수학</th>\n",
              "      <th>평균</th>\n",
              "      <th>학점</th>\n",
              "      <th>예측</th>\n",
              "    </tr>\n",
              "  </thead>\n",
              "  <tbody>\n",
              "    <tr>\n",
              "      <th>1030070</th>\n",
              "      <td>100</td>\n",
              "      <td>98</td>\n",
              "      <td>72</td>\n",
              "      <td>90.0000</td>\n",
              "      <td>A</td>\n",
              "      <td>B</td>\n",
              "    </tr>\n",
              "    <tr>\n",
              "      <th>1030140</th>\n",
              "      <td>100</td>\n",
              "      <td>99</td>\n",
              "      <td>41</td>\n",
              "      <td>80.0000</td>\n",
              "      <td>B</td>\n",
              "      <td>C</td>\n",
              "    </tr>\n",
              "    <tr>\n",
              "      <th>1030170</th>\n",
              "      <td>100</td>\n",
              "      <td>99</td>\n",
              "      <td>71</td>\n",
              "      <td>90.0000</td>\n",
              "      <td>A</td>\n",
              "      <td>B</td>\n",
              "    </tr>\n",
              "    <tr>\n",
              "      <th>1030240</th>\n",
              "      <td>100</td>\n",
              "      <td>100</td>\n",
              "      <td>40</td>\n",
              "      <td>80.0000</td>\n",
              "      <td>B</td>\n",
              "      <td>C</td>\n",
              "    </tr>\n",
              "    <tr>\n",
              "      <th>1030270</th>\n",
              "      <td>100</td>\n",
              "      <td>100</td>\n",
              "      <td>70</td>\n",
              "      <td>90.0000</td>\n",
              "      <td>A</td>\n",
              "      <td>B</td>\n",
              "    </tr>\n",
              "  </tbody>\n",
              "</table>\n",
              "</div>\n",
              "      <button class=\"colab-df-convert\" onclick=\"convertToInteractive('df-99b4fe83-fe93-4555-a0a3-1e80bef34fd6')\"\n",
              "              title=\"Convert this dataframe to an interactive table.\"\n",
              "              style=\"display:none;\">\n",
              "        \n",
              "  <svg xmlns=\"http://www.w3.org/2000/svg\" height=\"24px\"viewBox=\"0 0 24 24\"\n",
              "       width=\"24px\">\n",
              "    <path d=\"M0 0h24v24H0V0z\" fill=\"none\"/>\n",
              "    <path d=\"M18.56 5.44l.94 2.06.94-2.06 2.06-.94-2.06-.94-.94-2.06-.94 2.06-2.06.94zm-11 1L8.5 8.5l.94-2.06 2.06-.94-2.06-.94L8.5 2.5l-.94 2.06-2.06.94zm10 10l.94 2.06.94-2.06 2.06-.94-2.06-.94-.94-2.06-.94 2.06-2.06.94z\"/><path d=\"M17.41 7.96l-1.37-1.37c-.4-.4-.92-.59-1.43-.59-.52 0-1.04.2-1.43.59L10.3 9.45l-7.72 7.72c-.78.78-.78 2.05 0 2.83L4 21.41c.39.39.9.59 1.41.59.51 0 1.02-.2 1.41-.59l7.78-7.78 2.81-2.81c.8-.78.8-2.07 0-2.86zM5.41 20L4 18.59l7.72-7.72 1.47 1.35L5.41 20z\"/>\n",
              "  </svg>\n",
              "      </button>\n",
              "      \n",
              "  <style>\n",
              "    .colab-df-container {\n",
              "      display:flex;\n",
              "      flex-wrap:wrap;\n",
              "      gap: 12px;\n",
              "    }\n",
              "\n",
              "    .colab-df-convert {\n",
              "      background-color: #E8F0FE;\n",
              "      border: none;\n",
              "      border-radius: 50%;\n",
              "      cursor: pointer;\n",
              "      display: none;\n",
              "      fill: #1967D2;\n",
              "      height: 32px;\n",
              "      padding: 0 0 0 0;\n",
              "      width: 32px;\n",
              "    }\n",
              "\n",
              "    .colab-df-convert:hover {\n",
              "      background-color: #E2EBFA;\n",
              "      box-shadow: 0px 1px 2px rgba(60, 64, 67, 0.3), 0px 1px 3px 1px rgba(60, 64, 67, 0.15);\n",
              "      fill: #174EA6;\n",
              "    }\n",
              "\n",
              "    [theme=dark] .colab-df-convert {\n",
              "      background-color: #3B4455;\n",
              "      fill: #D2E3FC;\n",
              "    }\n",
              "\n",
              "    [theme=dark] .colab-df-convert:hover {\n",
              "      background-color: #434B5C;\n",
              "      box-shadow: 0px 1px 3px 1px rgba(0, 0, 0, 0.15);\n",
              "      filter: drop-shadow(0px 1px 2px rgba(0, 0, 0, 0.3));\n",
              "      fill: #FFFFFF;\n",
              "    }\n",
              "  </style>\n",
              "\n",
              "      <script>\n",
              "        const buttonEl =\n",
              "          document.querySelector('#df-99b4fe83-fe93-4555-a0a3-1e80bef34fd6 button.colab-df-convert');\n",
              "        buttonEl.style.display =\n",
              "          google.colab.kernel.accessAllowed ? 'block' : 'none';\n",
              "\n",
              "        async function convertToInteractive(key) {\n",
              "          const element = document.querySelector('#df-99b4fe83-fe93-4555-a0a3-1e80bef34fd6');\n",
              "          const dataTable =\n",
              "            await google.colab.kernel.invokeFunction('convertToInteractive',\n",
              "                                                     [key], {});\n",
              "          if (!dataTable) return;\n",
              "\n",
              "          const docLinkHtml = 'Like what you see? Visit the ' +\n",
              "            '<a target=\"_blank\" href=https://colab.research.google.com/notebooks/data_table.ipynb>data table notebook</a>'\n",
              "            + ' to learn more about interactive tables.';\n",
              "          element.innerHTML = '';\n",
              "          dataTable['output_type'] = 'display_data';\n",
              "          await google.colab.output.renderOutput(dataTable, element);\n",
              "          const docLink = document.createElement('div');\n",
              "          docLink.innerHTML = docLinkHtml;\n",
              "          element.appendChild(docLink);\n",
              "        }\n",
              "      </script>\n",
              "    </div>\n",
              "  </div>\n",
              "  "
            ],
            "text/plain": [
              "          국어   영어  수학      평균 학점 예측\n",
              "1030070  100   98  72 90.0000  A  B\n",
              "1030140  100   99  41 80.0000  B  C\n",
              "1030170  100   99  71 90.0000  A  B\n",
              "1030240  100  100  40 80.0000  B  C\n",
              "1030270  100  100  70 90.0000  A  B"
            ]
          },
          "metadata": {},
          "execution_count": 87
        }
      ]
    },
    {
      "cell_type": "code",
      "source": [
        "# [13] 틀린 것의 피벗테이블 작성 (오분류표)\n",
        "resultB.pivot_table(index='학점', columns='예측',\n",
        "                    values='국어', aggfunc='count', fill_value=0)"
      ],
      "metadata": {
        "colab": {
          "base_uri": "https://localhost:8080/",
          "height": 237
        },
        "id": "voCw_5iYy5-X",
        "outputId": "2d26ebde-00ec-4d88-edfd-181b08be725a"
      },
      "execution_count": null,
      "outputs": [
        {
          "output_type": "execute_result",
          "data": {
            "text/html": [
              "\n",
              "  <div id=\"df-12e4f9af-6fdf-4819-bff1-7927f1f2c002\">\n",
              "    <div class=\"colab-df-container\">\n",
              "      <div>\n",
              "<style scoped>\n",
              "    .dataframe tbody tr th:only-of-type {\n",
              "        vertical-align: middle;\n",
              "    }\n",
              "\n",
              "    .dataframe tbody tr th {\n",
              "        vertical-align: top;\n",
              "    }\n",
              "\n",
              "    .dataframe thead th {\n",
              "        text-align: right;\n",
              "    }\n",
              "</style>\n",
              "<table border=\"1\" class=\"dataframe\">\n",
              "  <thead>\n",
              "    <tr style=\"text-align: right;\">\n",
              "      <th>예측</th>\n",
              "      <th>A</th>\n",
              "      <th>B</th>\n",
              "      <th>C</th>\n",
              "      <th>D</th>\n",
              "      <th>F</th>\n",
              "    </tr>\n",
              "    <tr>\n",
              "      <th>학점</th>\n",
              "      <th></th>\n",
              "      <th></th>\n",
              "      <th></th>\n",
              "      <th></th>\n",
              "      <th></th>\n",
              "    </tr>\n",
              "  </thead>\n",
              "  <tbody>\n",
              "    <tr>\n",
              "      <th>A</th>\n",
              "      <td>5427</td>\n",
              "      <td>29</td>\n",
              "      <td>0</td>\n",
              "      <td>0</td>\n",
              "      <td>0</td>\n",
              "    </tr>\n",
              "    <tr>\n",
              "      <th>B</th>\n",
              "      <td>373</td>\n",
              "      <td>33459</td>\n",
              "      <td>423</td>\n",
              "      <td>0</td>\n",
              "      <td>0</td>\n",
              "    </tr>\n",
              "    <tr>\n",
              "      <th>C</th>\n",
              "      <td>0</td>\n",
              "      <td>351</td>\n",
              "      <td>89704</td>\n",
              "      <td>0</td>\n",
              "      <td>0</td>\n",
              "    </tr>\n",
              "    <tr>\n",
              "      <th>D</th>\n",
              "      <td>0</td>\n",
              "      <td>0</td>\n",
              "      <td>11</td>\n",
              "      <td>168224</td>\n",
              "      <td>0</td>\n",
              "    </tr>\n",
              "    <tr>\n",
              "      <th>F</th>\n",
              "      <td>0</td>\n",
              "      <td>0</td>\n",
              "      <td>0</td>\n",
              "      <td>0</td>\n",
              "      <td>732300</td>\n",
              "    </tr>\n",
              "  </tbody>\n",
              "</table>\n",
              "</div>\n",
              "      <button class=\"colab-df-convert\" onclick=\"convertToInteractive('df-12e4f9af-6fdf-4819-bff1-7927f1f2c002')\"\n",
              "              title=\"Convert this dataframe to an interactive table.\"\n",
              "              style=\"display:none;\">\n",
              "        \n",
              "  <svg xmlns=\"http://www.w3.org/2000/svg\" height=\"24px\"viewBox=\"0 0 24 24\"\n",
              "       width=\"24px\">\n",
              "    <path d=\"M0 0h24v24H0V0z\" fill=\"none\"/>\n",
              "    <path d=\"M18.56 5.44l.94 2.06.94-2.06 2.06-.94-2.06-.94-.94-2.06-.94 2.06-2.06.94zm-11 1L8.5 8.5l.94-2.06 2.06-.94-2.06-.94L8.5 2.5l-.94 2.06-2.06.94zm10 10l.94 2.06.94-2.06 2.06-.94-2.06-.94-.94-2.06-.94 2.06-2.06.94z\"/><path d=\"M17.41 7.96l-1.37-1.37c-.4-.4-.92-.59-1.43-.59-.52 0-1.04.2-1.43.59L10.3 9.45l-7.72 7.72c-.78.78-.78 2.05 0 2.83L4 21.41c.39.39.9.59 1.41.59.51 0 1.02-.2 1.41-.59l7.78-7.78 2.81-2.81c.8-.78.8-2.07 0-2.86zM5.41 20L4 18.59l7.72-7.72 1.47 1.35L5.41 20z\"/>\n",
              "  </svg>\n",
              "      </button>\n",
              "      \n",
              "  <style>\n",
              "    .colab-df-container {\n",
              "      display:flex;\n",
              "      flex-wrap:wrap;\n",
              "      gap: 12px;\n",
              "    }\n",
              "\n",
              "    .colab-df-convert {\n",
              "      background-color: #E8F0FE;\n",
              "      border: none;\n",
              "      border-radius: 50%;\n",
              "      cursor: pointer;\n",
              "      display: none;\n",
              "      fill: #1967D2;\n",
              "      height: 32px;\n",
              "      padding: 0 0 0 0;\n",
              "      width: 32px;\n",
              "    }\n",
              "\n",
              "    .colab-df-convert:hover {\n",
              "      background-color: #E2EBFA;\n",
              "      box-shadow: 0px 1px 2px rgba(60, 64, 67, 0.3), 0px 1px 3px 1px rgba(60, 64, 67, 0.15);\n",
              "      fill: #174EA6;\n",
              "    }\n",
              "\n",
              "    [theme=dark] .colab-df-convert {\n",
              "      background-color: #3B4455;\n",
              "      fill: #D2E3FC;\n",
              "    }\n",
              "\n",
              "    [theme=dark] .colab-df-convert:hover {\n",
              "      background-color: #434B5C;\n",
              "      box-shadow: 0px 1px 3px 1px rgba(0, 0, 0, 0.15);\n",
              "      filter: drop-shadow(0px 1px 2px rgba(0, 0, 0, 0.3));\n",
              "      fill: #FFFFFF;\n",
              "    }\n",
              "  </style>\n",
              "\n",
              "      <script>\n",
              "        const buttonEl =\n",
              "          document.querySelector('#df-12e4f9af-6fdf-4819-bff1-7927f1f2c002 button.colab-df-convert');\n",
              "        buttonEl.style.display =\n",
              "          google.colab.kernel.accessAllowed ? 'block' : 'none';\n",
              "\n",
              "        async function convertToInteractive(key) {\n",
              "          const element = document.querySelector('#df-12e4f9af-6fdf-4819-bff1-7927f1f2c002');\n",
              "          const dataTable =\n",
              "            await google.colab.kernel.invokeFunction('convertToInteractive',\n",
              "                                                     [key], {});\n",
              "          if (!dataTable) return;\n",
              "\n",
              "          const docLinkHtml = 'Like what you see? Visit the ' +\n",
              "            '<a target=\"_blank\" href=https://colab.research.google.com/notebooks/data_table.ipynb>data table notebook</a>'\n",
              "            + ' to learn more about interactive tables.';\n",
              "          element.innerHTML = '';\n",
              "          dataTable['output_type'] = 'display_data';\n",
              "          await google.colab.output.renderOutput(dataTable, element);\n",
              "          const docLink = document.createElement('div');\n",
              "          docLink.innerHTML = docLinkHtml;\n",
              "          element.appendChild(docLink);\n",
              "        }\n",
              "      </script>\n",
              "    </div>\n",
              "  </div>\n",
              "  "
            ],
            "text/plain": [
              "예측     A      B      C       D       F\n",
              "학점                                    \n",
              "A   5427     29      0       0       0\n",
              "B    373  33459    423       0       0\n",
              "C      0    351  89704       0       0\n",
              "D      0      0     11  168224       0\n",
              "F      0      0      0       0  732300"
            ]
          },
          "metadata": {},
          "execution_count": 88
        }
      ]
    },
    {
      "cell_type": "markdown",
      "source": [
        "### 5-03.오분류표"
      ],
      "metadata": {
        "id": "gxuCt2Pf1C5H"
      }
    },
    {
      "cell_type": "markdown",
      "source": [
        "sklearn.metrics.confusion_matrix(y_true, y_pred, *, labels=None, sample_weight=None, normalize=None)"
      ],
      "metadata": {
        "id": "Q-QBgodT4at3"
      }
    },
    {
      "cell_type": "code",
      "source": [
        "# [14] 오분류표 작성\n",
        "from sklearn.metrics import confusion_matrix\n",
        "cm = confusion_matrix(resultB['학점'], resultB['예측'])\n",
        "feature_names = list(\"ABCDF\")\n",
        "df_cm = pd.DataFrame(cm, columns=feature_names, index=feature_names)\n",
        "df_cm.index.name = '실제'\n",
        "df_cm.columns.name = '예측'\n",
        "df_cm"
      ],
      "metadata": {
        "colab": {
          "base_uri": "https://localhost:8080/",
          "height": 237
        },
        "id": "2r9w6j0R4Pox",
        "outputId": "639888f7-9b23-4317-865e-d18faad8fd60"
      },
      "execution_count": null,
      "outputs": [
        {
          "output_type": "execute_result",
          "data": {
            "text/html": [
              "\n",
              "  <div id=\"df-9b2983e5-9963-4529-a888-abcbad4954ae\">\n",
              "    <div class=\"colab-df-container\">\n",
              "      <div>\n",
              "<style scoped>\n",
              "    .dataframe tbody tr th:only-of-type {\n",
              "        vertical-align: middle;\n",
              "    }\n",
              "\n",
              "    .dataframe tbody tr th {\n",
              "        vertical-align: top;\n",
              "    }\n",
              "\n",
              "    .dataframe thead th {\n",
              "        text-align: right;\n",
              "    }\n",
              "</style>\n",
              "<table border=\"1\" class=\"dataframe\">\n",
              "  <thead>\n",
              "    <tr style=\"text-align: right;\">\n",
              "      <th>예측</th>\n",
              "      <th>A</th>\n",
              "      <th>B</th>\n",
              "      <th>C</th>\n",
              "      <th>D</th>\n",
              "      <th>F</th>\n",
              "    </tr>\n",
              "    <tr>\n",
              "      <th>실제</th>\n",
              "      <th></th>\n",
              "      <th></th>\n",
              "      <th></th>\n",
              "      <th></th>\n",
              "      <th></th>\n",
              "    </tr>\n",
              "  </thead>\n",
              "  <tbody>\n",
              "    <tr>\n",
              "      <th>A</th>\n",
              "      <td>5427</td>\n",
              "      <td>29</td>\n",
              "      <td>0</td>\n",
              "      <td>0</td>\n",
              "      <td>0</td>\n",
              "    </tr>\n",
              "    <tr>\n",
              "      <th>B</th>\n",
              "      <td>373</td>\n",
              "      <td>33459</td>\n",
              "      <td>423</td>\n",
              "      <td>0</td>\n",
              "      <td>0</td>\n",
              "    </tr>\n",
              "    <tr>\n",
              "      <th>C</th>\n",
              "      <td>0</td>\n",
              "      <td>351</td>\n",
              "      <td>89704</td>\n",
              "      <td>0</td>\n",
              "      <td>0</td>\n",
              "    </tr>\n",
              "    <tr>\n",
              "      <th>D</th>\n",
              "      <td>0</td>\n",
              "      <td>0</td>\n",
              "      <td>11</td>\n",
              "      <td>168224</td>\n",
              "      <td>0</td>\n",
              "    </tr>\n",
              "    <tr>\n",
              "      <th>F</th>\n",
              "      <td>0</td>\n",
              "      <td>0</td>\n",
              "      <td>0</td>\n",
              "      <td>0</td>\n",
              "      <td>732300</td>\n",
              "    </tr>\n",
              "  </tbody>\n",
              "</table>\n",
              "</div>\n",
              "      <button class=\"colab-df-convert\" onclick=\"convertToInteractive('df-9b2983e5-9963-4529-a888-abcbad4954ae')\"\n",
              "              title=\"Convert this dataframe to an interactive table.\"\n",
              "              style=\"display:none;\">\n",
              "        \n",
              "  <svg xmlns=\"http://www.w3.org/2000/svg\" height=\"24px\"viewBox=\"0 0 24 24\"\n",
              "       width=\"24px\">\n",
              "    <path d=\"M0 0h24v24H0V0z\" fill=\"none\"/>\n",
              "    <path d=\"M18.56 5.44l.94 2.06.94-2.06 2.06-.94-2.06-.94-.94-2.06-.94 2.06-2.06.94zm-11 1L8.5 8.5l.94-2.06 2.06-.94-2.06-.94L8.5 2.5l-.94 2.06-2.06.94zm10 10l.94 2.06.94-2.06 2.06-.94-2.06-.94-.94-2.06-.94 2.06-2.06.94z\"/><path d=\"M17.41 7.96l-1.37-1.37c-.4-.4-.92-.59-1.43-.59-.52 0-1.04.2-1.43.59L10.3 9.45l-7.72 7.72c-.78.78-.78 2.05 0 2.83L4 21.41c.39.39.9.59 1.41.59.51 0 1.02-.2 1.41-.59l7.78-7.78 2.81-2.81c.8-.78.8-2.07 0-2.86zM5.41 20L4 18.59l7.72-7.72 1.47 1.35L5.41 20z\"/>\n",
              "  </svg>\n",
              "      </button>\n",
              "      \n",
              "  <style>\n",
              "    .colab-df-container {\n",
              "      display:flex;\n",
              "      flex-wrap:wrap;\n",
              "      gap: 12px;\n",
              "    }\n",
              "\n",
              "    .colab-df-convert {\n",
              "      background-color: #E8F0FE;\n",
              "      border: none;\n",
              "      border-radius: 50%;\n",
              "      cursor: pointer;\n",
              "      display: none;\n",
              "      fill: #1967D2;\n",
              "      height: 32px;\n",
              "      padding: 0 0 0 0;\n",
              "      width: 32px;\n",
              "    }\n",
              "\n",
              "    .colab-df-convert:hover {\n",
              "      background-color: #E2EBFA;\n",
              "      box-shadow: 0px 1px 2px rgba(60, 64, 67, 0.3), 0px 1px 3px 1px rgba(60, 64, 67, 0.15);\n",
              "      fill: #174EA6;\n",
              "    }\n",
              "\n",
              "    [theme=dark] .colab-df-convert {\n",
              "      background-color: #3B4455;\n",
              "      fill: #D2E3FC;\n",
              "    }\n",
              "\n",
              "    [theme=dark] .colab-df-convert:hover {\n",
              "      background-color: #434B5C;\n",
              "      box-shadow: 0px 1px 3px 1px rgba(0, 0, 0, 0.15);\n",
              "      filter: drop-shadow(0px 1px 2px rgba(0, 0, 0, 0.3));\n",
              "      fill: #FFFFFF;\n",
              "    }\n",
              "  </style>\n",
              "\n",
              "      <script>\n",
              "        const buttonEl =\n",
              "          document.querySelector('#df-9b2983e5-9963-4529-a888-abcbad4954ae button.colab-df-convert');\n",
              "        buttonEl.style.display =\n",
              "          google.colab.kernel.accessAllowed ? 'block' : 'none';\n",
              "\n",
              "        async function convertToInteractive(key) {\n",
              "          const element = document.querySelector('#df-9b2983e5-9963-4529-a888-abcbad4954ae');\n",
              "          const dataTable =\n",
              "            await google.colab.kernel.invokeFunction('convertToInteractive',\n",
              "                                                     [key], {});\n",
              "          if (!dataTable) return;\n",
              "\n",
              "          const docLinkHtml = 'Like what you see? Visit the ' +\n",
              "            '<a target=\"_blank\" href=https://colab.research.google.com/notebooks/data_table.ipynb>data table notebook</a>'\n",
              "            + ' to learn more about interactive tables.';\n",
              "          element.innerHTML = '';\n",
              "          dataTable['output_type'] = 'display_data';\n",
              "          await google.colab.output.renderOutput(dataTable, element);\n",
              "          const docLink = document.createElement('div');\n",
              "          docLink.innerHTML = docLinkHtml;\n",
              "          element.appendChild(docLink);\n",
              "        }\n",
              "      </script>\n",
              "    </div>\n",
              "  </div>\n",
              "  "
            ],
            "text/plain": [
              "예측     A      B      C       D       F\n",
              "실제                                    \n",
              "A   5427     29      0       0       0\n",
              "B    373  33459    423       0       0\n",
              "C      0    351  89704       0       0\n",
              "D      0      0     11  168224       0\n",
              "F      0      0      0       0  732300"
            ]
          },
          "metadata": {},
          "execution_count": 90
        }
      ]
    },
    {
      "cell_type": "markdown",
      "source": [
        "### 5-04.여러 모델 사용\n",
        "- 어떤 모델을 선택해야 할까?\n",
        "- accuracy(train, test), roc_auc_score(test) 모두 좋은 것!\n",
        "- train, test가 비슷한 것!"
      ],
      "metadata": {
        "id": "xvenU9402Oto"
      }
    },
    {
      "cell_type": "code",
      "source": [
        "# 모델 import\n",
        "from sklearn.neighbors import KNeighborsClassifier\n",
        "from sklearn.tree import DecisionTreeClassifier\n",
        "from sklearn.ensemble import RandomForestClassifier\n",
        "from xgboost import XGBClassifier"
      ],
      "metadata": {
        "id": "-sre7EOmfK3u"
      },
      "execution_count": null,
      "outputs": []
    },
    {
      "cell_type": "code",
      "source": [
        "# [15] seedno=1234, size=30000 의 데이터 작성\n",
        "data = make_sample(seedno=1234, size=30000)\n",
        "data.shape"
      ],
      "metadata": {
        "colab": {
          "base_uri": "https://localhost:8080/"
        },
        "id": "KGLEFS39vdXn",
        "outputId": "60b67d20-8e69-4bac-ffce-e61db1ea2398"
      },
      "execution_count": null,
      "outputs": [
        {
          "output_type": "stream",
          "name": "stdout",
          "text": [
            "A    6483\n",
            "B    6419\n",
            "C    6531\n",
            "D    5247\n",
            "F    5320\n",
            "Name: 학점, dtype: int64\n"
          ]
        },
        {
          "output_type": "execute_result",
          "data": {
            "text/plain": [
              "(30000, 4)"
            ]
          },
          "metadata": {},
          "execution_count": 92
        }
      ]
    },
    {
      "cell_type": "code",
      "source": [
        "# [16] KNeighborsClassifier 사용 (k=1~9)\n",
        "dataX = dataAll[['국어','영어','수학']]\n",
        "for k in range(1, 10):\n",
        "    model_C = KNeighborsClassifier(k) \n",
        "    ModelTrain(model_C, data)  # 30000개\n",
        "    result = get_result(dataX, model_C)  # 103만개 (모집단)\n",
        "    print('wrong cnt :', sum(result['학점'] != result['예측']))"
      ],
      "metadata": {
        "colab": {
          "base_uri": "https://localhost:8080/"
        },
        "id": "iftb8hPuvYEw",
        "outputId": "22a68f98-7c2e-4767-a8c7-bade141db4f6"
      },
      "execution_count": null,
      "outputs": [
        {
          "output_type": "stream",
          "name": "stdout",
          "text": [
            "1.0000 0.9807 0.9878\n",
            "wrong cnt : 36895\n",
            "0.9913 0.9752 0.9950\n",
            "wrong cnt : 43512\n",
            "0.9912 0.9794 0.9975\n",
            "wrong cnt : 35221\n",
            "0.9869 0.9770 0.9989\n",
            "wrong cnt : 38672\n",
            "0.9860 0.9788 0.9993\n",
            "wrong cnt : 34976\n",
            "0.9850 0.9796 0.9993\n",
            "wrong cnt : 36728\n",
            "0.9852 0.9801 0.9993\n",
            "wrong cnt : 34746\n",
            "0.9844 0.9804 0.9993\n",
            "wrong cnt : 35830\n",
            "0.9847 0.9812 0.9994\n",
            "wrong cnt : 35006\n"
          ]
        }
      ]
    },
    {
      "cell_type": "code",
      "source": [
        "1.0000 - 0.9807, 0.9913 - 0.9752, 0.9869 - 0.9770\n",
        "# 36895    43512   38672"
      ],
      "metadata": {
        "colab": {
          "base_uri": "https://localhost:8080/"
        },
        "id": "J89I7ESMoF3I",
        "outputId": "f6b52741-dd2b-43ce-840d-5c189810d18e"
      },
      "execution_count": null,
      "outputs": [
        {
          "output_type": "execute_result",
          "data": {
            "text/plain": [
              "(0.019299999999999984, 0.016100000000000003, 0.00990000000000002)"
            ]
          },
          "metadata": {},
          "execution_count": 96
        }
      ]
    },
    {
      "cell_type": "code",
      "source": [
        "0.9852 - 0.9801, 0.9844 - 0.9804, 0.9847 - 0.9812\n",
        "# 34746   35830    35006"
      ],
      "metadata": {
        "colab": {
          "base_uri": "https://localhost:8080/"
        },
        "id": "evsNqKrBnulg",
        "outputId": "0cc3a92e-0aeb-473b-a67e-703d962d52b3"
      },
      "execution_count": null,
      "outputs": [
        {
          "output_type": "execute_result",
          "data": {
            "text/plain": [
              "(0.005099999999999993, 0.0040000000000000036, 0.0035000000000000586)"
            ]
          },
          "metadata": {},
          "execution_count": 95
        }
      ]
    },
    {
      "cell_type": "code",
      "source": [
        "# [17] DecisionTreeClassifier 사용 (d=3~11)\n",
        "model_D = DecisionTreeClassifier(random_state=1234) \n",
        "ModelTrain(model_D, data)\n",
        "result = get_result(dataX, model_D)\n",
        "print('wrong cnt :', sum(result['학점'] != result['예측']))\n",
        "for d in range(3, 12):\n",
        "    model_D = DecisionTreeClassifier(max_depth=d, random_state=1234) \n",
        "    ModelTrain(model_D, data)\n",
        "    result = get_result(dataX, model_D)\n",
        "    print('wrong cnt :', sum(result['학점'] != result['예측']))"
      ],
      "metadata": {
        "colab": {
          "base_uri": "https://localhost:8080/"
        },
        "id": "MxU3UmttwF7X",
        "outputId": "b791eab1-3b0c-411d-8d66-9d9dc2f24f02"
      },
      "execution_count": null,
      "outputs": [
        {
          "output_type": "stream",
          "name": "stdout",
          "text": [
            "1.0000 0.9678 0.9797\n",
            "wrong cnt : 63441\n",
            "0.6605 0.6596 0.8901\n",
            "wrong cnt : 393632\n",
            "0.7607 0.7583 0.9335\n",
            "wrong cnt : 345380\n",
            "0.8181 0.8077 0.9595\n",
            "wrong cnt : 210188\n",
            "0.8714 0.8586 0.9741\n",
            "wrong cnt : 168396\n",
            "0.9120 0.8897 0.9808\n",
            "wrong cnt : 131759\n",
            "0.9313 0.9090 0.9845\n",
            "wrong cnt : 101447\n",
            "0.9496 0.9253 0.9852\n",
            "wrong cnt : 85742\n",
            "0.9676 0.9419 0.9834\n",
            "wrong cnt : 72646\n",
            "0.9804 0.9531 0.9829\n",
            "wrong cnt : 70316\n"
          ]
        }
      ]
    },
    {
      "cell_type": "code",
      "source": [
        "0.9804 - 0.9531, 0.9676 - 0.9419, 0.9496 - 0.9253"
      ],
      "metadata": {
        "colab": {
          "base_uri": "https://localhost:8080/"
        },
        "id": "ajg-bdoco5zQ",
        "outputId": "14ad7009-45df-43fb-d3ef-2ad698620842"
      },
      "execution_count": null,
      "outputs": [
        {
          "output_type": "execute_result",
          "data": {
            "text/plain": [
              "(0.027300000000000102, 0.025700000000000056, 0.02429999999999999)"
            ]
          },
          "metadata": {},
          "execution_count": 97
        }
      ]
    },
    {
      "cell_type": "code",
      "source": [
        "# [18] RandomForestClassifier\n",
        "model_E = RandomForestClassifier(random_state=1234) \n",
        "ModelTrain(model_E, data)\n",
        "result = get_result(dataX, model_E)\n",
        "print('wrong cnt :', sum(result['학점'] != result['예측']))\n",
        "for d in range(3, 12):\n",
        "    model_E = RandomForestClassifier(500, max_depth=d, random_state=1234) \n",
        "    ModelTrain(model_E, data)\n",
        "    result = get_result(dataX, model_E)\n",
        "    print('wrong cnt :', sum(result['학점'] != result['예측']))"
      ],
      "metadata": {
        "colab": {
          "base_uri": "https://localhost:8080/"
        },
        "id": "SXxwSuXkw9tK",
        "outputId": "54661054-9c95-45f7-b40c-079894d3a10a"
      },
      "execution_count": null,
      "outputs": [
        {
          "output_type": "stream",
          "name": "stdout",
          "text": [
            "1.0000 0.9792 0.9995\n",
            "wrong cnt : 46145\n",
            "0.8296 0.8268 0.9725\n",
            "wrong cnt : 255694\n",
            "0.8523 0.8497 0.9804\n",
            "wrong cnt : 234630\n",
            "0.8840 0.8764 0.9856\n",
            "wrong cnt : 197121\n",
            "0.9188 0.9059 0.9909\n",
            "wrong cnt : 137557\n",
            "0.9460 0.9337 0.9948\n",
            "wrong cnt : 91772\n",
            "0.9655 0.9451 0.9969\n",
            "wrong cnt : 68358\n",
            "0.9788 0.9609 0.9981\n",
            "wrong cnt : 55885\n",
            "0.9889 0.9694 0.9987\n",
            "wrong cnt : 50338\n",
            "0.9944 0.9738 0.9991\n",
            "wrong cnt : 46883\n"
          ]
        }
      ]
    },
    {
      "cell_type": "code",
      "source": [
        "1.0000 - 0.9792, 0.9944 - 0.9738"
      ],
      "metadata": {
        "colab": {
          "base_uri": "https://localhost:8080/"
        },
        "id": "Ao7_Jr1sySvz",
        "outputId": "0521ad13-a69a-4dcf-c020-60e9a82a8edc"
      },
      "execution_count": null,
      "outputs": [
        {
          "output_type": "execute_result",
          "data": {
            "text/plain": [
              "(0.02080000000000004, 0.02059999999999995)"
            ]
          },
          "metadata": {},
          "execution_count": 98
        }
      ]
    },
    {
      "cell_type": "code",
      "source": [
        "# 살펴보세요 : https://blog.naver.com/PostView.nhn?blogId=gustn3964&logNo=221431714122"
      ],
      "metadata": {
        "id": "SZVhxoA8mDlw"
      },
      "execution_count": null,
      "outputs": []
    },
    {
      "cell_type": "markdown",
      "source": [
        "## 6.다항 분류 모델의 성능평가\n",
        "- sklearn.metrics.accuracy_score(y_true, y_pred) = (TP/TN) / (TP+TN+FP+FN)\n",
        "- sklearn.metrics.precision_score(y_true, y_pred) = TP / (TP + FP)\n",
        "- sklearn.metrics.recall_score(y_true, y_pred) = TP / (TP + FN)\n",
        "- sklearn.metrics.f1_score(y_true, y_pred = 2 * (Precison * Recall) / (Precision + Recall)\n",
        "- precision_score, recall_score, f1_score의 average parameter에 None, \"micro\", \"macro\", \"weighted\"를 사용해야함 (class가 binary가 아닌 경우 필수)\n",
        "- 참고 : https://gaussian37.github.io/ml-concept-ml-evaluation/"
      ],
      "metadata": {
        "id": "5X76OPtqyTJA"
      }
    },
    {
      "cell_type": "code",
      "metadata": {
        "id": "Ko_vzjTUW81n",
        "outputId": "31b3e21d-76b2-4c78-9d3a-344d84941322",
        "colab": {
          "base_uri": "https://localhost:8080/"
        }
      },
      "source": [
        "from sklearn.metrics import confusion_matrix, precision_score, recall_score, accuracy_score, f1_score\n",
        "import numpy as np\n",
        "\n",
        "y_true = [0, 1, 0, 0, 1, 2]  #  불균형 데이터 [3, 2, 1]개 데이터\n",
        "y_pred = [0, 2, 1, 0, 0, 1]\n",
        "print(confusion_matrix(y_true, y_pred))\n",
        "print('accuracy  : %.4f' % accuracy_score(y_true, y_pred))\n",
        "print('-' * 20)\n",
        "# Precision : 예측이 True 인 것 중 실제도 True\n",
        "# average=None, 각 class 별로 precision을 구해라\n",
        "print(precision_score(y_true, y_pred, average=None))  \n",
        "print('precision (micro): %.4f' % precision_score(y_true, y_pred, average='micro'))    # 2/6\n",
        "print('precision (macro): %.4f' % precision_score(y_true, y_pred, average='macro'))    # 0.66 / 3\n",
        "print('precision (weighted): %.4f' % precision_score(y_true, y_pred, average='weighted')) # 가중치준 precision의 합/6"
      ],
      "execution_count": null,
      "outputs": [
        {
          "output_type": "stream",
          "name": "stdout",
          "text": [
            "[[2 1 0]\n",
            " [1 0 1]\n",
            " [0 1 0]]\n",
            "accuracy  : 0.3333\n",
            "--------------------\n",
            "[0.66666667 0.         0.        ]\n",
            "precision (micro): 0.3333\n",
            "precision (macro): 0.2222\n",
            "precision (weighted): 0.3333\n"
          ]
        }
      ]
    },
    {
      "cell_type": "code",
      "source": [
        "# sklearn.metrics.classification_report(y_true, y_pred, *, labels=None, \n",
        "#                                       target_names=None, sample_weight=None,\n",
        "#                                       digits=2, output_dict=False, zero_division='warn')"
      ],
      "metadata": {
        "id": "dD7wuq0k9WbH"
      },
      "execution_count": null,
      "outputs": []
    },
    {
      "cell_type": "code",
      "source": [
        "from sklearn.metrics import classification_report\n",
        "\n",
        "creport = classification_report(y_true, y_pred)\n",
        "print(creport)"
      ],
      "metadata": {
        "colab": {
          "base_uri": "https://localhost:8080/"
        },
        "id": "8Q2u9JF49o7u",
        "outputId": "c4deecd6-49d5-4c03-bc26-6ec5acd97dc3"
      },
      "execution_count": null,
      "outputs": [
        {
          "output_type": "stream",
          "name": "stdout",
          "text": [
            "              precision    recall  f1-score   support\n",
            "\n",
            "           0       0.67      0.67      0.67         3\n",
            "           1       0.00      0.00      0.00         2\n",
            "           2       0.00      0.00      0.00         1\n",
            "\n",
            "    accuracy                           0.33         6\n",
            "   macro avg       0.22      0.22      0.22         6\n",
            "weighted avg       0.33      0.33      0.33         6\n",
            "\n"
          ]
        }
      ]
    },
    {
      "cell_type": "code",
      "source": [
        "# average=None\n",
        "# 예측을 0으로 한 것 중 실제 0인 것, 예측을 1로 한 것 중 실제 1, 예측을 2로 한 것 중 실제 2\n",
        "a = [2/3, 0/2, 0/1]\n",
        "print(a)"
      ],
      "metadata": {
        "colab": {
          "base_uri": "https://localhost:8080/"
        },
        "id": "fYDw_myZFdEL",
        "outputId": "bdc44b85-2800-4a7e-827f-425c0f5f0ea1"
      },
      "execution_count": null,
      "outputs": [
        {
          "output_type": "stream",
          "name": "stdout",
          "text": [
            "[0.6666666666666666, 0.0, 0.0]\n"
          ]
        }
      ]
    },
    {
      "cell_type": "code",
      "source": [
        "# average = 'micro' -> accuracy\n",
        "# 전체 중에서 맞춘 것\n",
        "2/6"
      ],
      "metadata": {
        "colab": {
          "base_uri": "https://localhost:8080/"
        },
        "id": "yHD59tqQGUGq",
        "outputId": "b7624e72-3ff2-4239-bcf6-355821cdeb60"
      },
      "execution_count": null,
      "outputs": [
        {
          "output_type": "execute_result",
          "data": {
            "text/plain": [
              "0.3333333333333333"
            ]
          },
          "metadata": {},
          "execution_count": 106
        }
      ]
    },
    {
      "cell_type": "code",
      "source": [
        "# average = 'macro' -> average=None일때의 모든 값을 더해 class 개수로 나눈 것\n",
        "sum(a)/3"
      ],
      "metadata": {
        "colab": {
          "base_uri": "https://localhost:8080/"
        },
        "id": "JLamLKEGG9oE",
        "outputId": "a6d22f90-84ce-4b48-9536-30867553ed9c"
      },
      "execution_count": null,
      "outputs": [
        {
          "output_type": "execute_result",
          "data": {
            "text/plain": [
              "0.2222222222222222"
            ]
          },
          "metadata": {},
          "execution_count": 109
        }
      ]
    },
    {
      "cell_type": "code",
      "source": [
        "# precision 의 average='weighted'  \n",
        "# average=None일때의 모든 값에 각 class의 데이터 개수를 곱하여 합을 구하고\n",
        "# 전체 데이터 개수로 나눈 것\n",
        "import pandas as pd\n",
        "a = [2/3, 0/2, 0/1]\n",
        "b = [3, 2, 1]\n",
        "a = pd.Series(a)\n",
        "b = pd.Series(b)\n",
        "(a * b).sum() / 6"
      ],
      "metadata": {
        "colab": {
          "base_uri": "https://localhost:8080/"
        },
        "id": "VeUbg3hOHx3Y",
        "outputId": "1b19ec2b-7788-4056-da3f-2acf114d05ba"
      },
      "execution_count": null,
      "outputs": [
        {
          "output_type": "execute_result",
          "data": {
            "text/plain": [
              "0.3333333333333333"
            ]
          },
          "metadata": {},
          "execution_count": 110
        }
      ]
    },
    {
      "cell_type": "code",
      "source": [
        "# 고생하셨습니다. "
      ],
      "metadata": {
        "id": "XdIg5HIW0OJh"
      },
      "execution_count": null,
      "outputs": []
    }
  ]
}