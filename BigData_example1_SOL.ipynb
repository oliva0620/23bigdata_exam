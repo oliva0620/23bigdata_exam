{
  "cells": [
    {
      "cell_type": "markdown",
      "metadata": {
        "id": "view-in-github",
        "colab_type": "text"
      },
      "source": [
        "<a href=\"https://colab.research.google.com/github/oliva0620/23bigdata_exam/blob/cs/BigData_example1_SOL.ipynb\" target=\"_parent\"><img src=\"https://colab.research.google.com/assets/colab-badge.svg\" alt=\"Open In Colab\"/></a>"
      ]
    },
    {
      "cell_type": "markdown",
      "metadata": {
        "id": "UdPHfkFPGTDb"
      },
      "source": [
        "## 1.기출문제 (빅분기 실기 2회)"
      ]
    },
    {
      "cell_type": "markdown",
      "metadata": {
        "id": "vA-FmFtl_GSO"
      },
      "source": [
        "#### 1-1. \n",
        "데이터 전처리 단계에서 발견하는 값으로 관측된 데이터 범위에서 많이 벗어나 있는 아주 작거나 아주 큰 값으로 정상 범위를 벗어난 값을 의미하는 것은 무엇인가?"
      ]
    },
    {
      "cell_type": "code",
      "execution_count": null,
      "metadata": {
        "id": "dWlF2WPw-rb5"
      },
      "outputs": [],
      "source": [
        "이상치"
      ]
    },
    {
      "cell_type": "markdown",
      "metadata": {
        "id": "fepF01fW_Mki"
      },
      "source": [
        "#### 1-2. \n",
        "정답지, label이 없다, 대표적분석에 군집분석, 연관분석 등이 있다. 해당 기법을 뭐라하는가?"
      ]
    },
    {
      "cell_type": "code",
      "execution_count": null,
      "metadata": {
        "id": "qct50H6e_R11"
      },
      "outputs": [],
      "source": [
        "비지도학습"
      ]
    },
    {
      "cell_type": "markdown",
      "metadata": {
        "id": "uMhxcUyi_UJQ"
      },
      "source": [
        "#### 1-3.\n",
        "모델을 생성시 사용자가 직접 변경/설정해 주어야하는 것은 무엇인가?"
      ]
    },
    {
      "cell_type": "code",
      "execution_count": null,
      "metadata": {
        "id": "WkwIMAg7_Tws"
      },
      "outputs": [],
      "source": [
        "hyper-parameter"
      ]
    },
    {
      "cell_type": "markdown",
      "metadata": {
        "id": "KMHZMoow_ekq"
      },
      "source": [
        "#### 1-4.\n",
        "결측값을 대치 하는 방법 중 평균값을 사용해 대치하는 방법은?"
      ]
    },
    {
      "cell_type": "code",
      "execution_count": null,
      "metadata": {
        "id": "RoCqgsMf_m3a"
      },
      "outputs": [],
      "source": [
        "평균대치법"
      ]
    },
    {
      "cell_type": "markdown",
      "metadata": {
        "id": "UZgAmIsP_0SU"
      },
      "source": [
        "#### 1-5.\n",
        "모델의 학습에서는 정확도가 높게 나오지만 테스트 셋에서는 정확도가 낮게 나오는 것을 무엇이라하는가? "
      ]
    },
    {
      "cell_type": "code",
      "execution_count": null,
      "metadata": {
        "id": "b9lyDHBP_3_-"
      },
      "outputs": [],
      "source": [
        "오버피팅"
      ]
    },
    {
      "cell_type": "markdown",
      "metadata": {
        "id": "PiwGuNDb_3iv"
      },
      "source": [
        "#### 1-6.\n",
        "변수 선택 방법 중 모든 변수를 활용해 하나씩 제거해 가는 방법은?"
      ]
    },
    {
      "cell_type": "code",
      "execution_count": null,
      "metadata": {
        "id": "8Sh4WvGvAF4L"
      },
      "outputs": [],
      "source": [
        "후진제거법"
      ]
    },
    {
      "cell_type": "markdown",
      "metadata": {
        "id": "9D8QN5a5AJgn"
      },
      "source": [
        "#### 1-7. \n",
        "모델 학습시 잘못된 결과에 대해 가중치를 반영해 모델을 생성하는 방법?"
      ]
    },
    {
      "cell_type": "code",
      "execution_count": null,
      "metadata": {
        "id": "r3XoayrfARl5"
      },
      "outputs": [],
      "source": [
        "부스팅(boosting)"
      ]
    },
    {
      "cell_type": "markdown",
      "metadata": {
        "id": "KfMgiog6AVPO"
      },
      "source": [
        "#### 1-8. \n",
        "TPR , FPR 로 그려서 확인하는 곡선은?"
      ]
    },
    {
      "cell_type": "code",
      "execution_count": null,
      "metadata": {
        "id": "bLCAJnq0ATvv"
      },
      "outputs": [],
      "source": [
        "ROC 곡선"
      ]
    },
    {
      "cell_type": "markdown",
      "metadata": {
        "id": "M3Fgw13HAeC0"
      },
      "source": [
        "#### 1-9.\n",
        "마지막 은닉층 2개의 값이 [0.2, -0.3]이고,  가중치가 [0.3, 0.1]이다. bias -0.05, 출력층 노드가 1개 이고, f(x) = x , if x >= 0, 그외 -1 일때 출력값은 무엇인가?"
      ]
    },
    {
      "cell_type": "code",
      "execution_count": null,
      "metadata": {
        "colab": {
          "base_uri": "https://localhost:8080/"
        },
        "id": "6UL_YB4iAdkQ",
        "outputId": "d5f76328-7be5-424f-c640-d8c5928cfb80"
      },
      "outputs": [
        {
          "name": "stdout",
          "output_type": "stream",
          "text": [
            "-1\n"
          ]
        }
      ],
      "source": [
        "w1, w2 = 0.2, -0.3\n",
        "x1, x2 = 0.3, 0.1\n",
        "bias = -0.05\n",
        "x = w1*x1 + w2*x2 + bias\n",
        "result = x if x >=0 else -1\n",
        "print(result)  #  x는 음수~"
      ]
    },
    {
      "cell_type": "markdown",
      "metadata": {
        "id": "nQkH0fq6jBlK"
      },
      "source": [
        "#### 1-10.\n",
        "앙상블 기법의 한 가지 종류로 회귀, 분류 모델에 사용되며, 약학습기 여러 개를 사용하는 부스팅 알고리즘에 속한다. 가중치 업데이트를 경사하강법을 이용해 최적화된 결과를 얻는 알고리즘이다."
      ]
    },
    {
      "cell_type": "code",
      "execution_count": null,
      "metadata": {
        "id": "qMn-zJ-WeR7C"
      },
      "outputs": [],
      "source": [
        "Gradient Boosting"
      ]
    },
    {
      "cell_type": "markdown",
      "metadata": {
        "id": "9wr6snMrGMHo"
      },
      "source": [
        "## 2.기출문제 (빅분기 실기 2회)"
      ]
    },
    {
      "cell_type": "code",
      "source": [
        "!git clone https://github.com/Soyoung-Yoon/bigdata"
      ],
      "metadata": {
        "colab": {
          "base_uri": "https://localhost:8080/"
        },
        "id": "0QamBqOZSFh5",
        "outputId": "54664b33-02cf-49f7-d97d-093d13cb2fda"
      },
      "execution_count": null,
      "outputs": [
        {
          "output_type": "stream",
          "name": "stdout",
          "text": [
            "Cloning into 'bigdata'...\n",
            "remote: Enumerating objects: 53, done.\u001b[K\n",
            "remote: Counting objects: 100% (3/3), done.\u001b[K\n",
            "remote: Compressing objects: 100% (3/3), done.\u001b[K\n",
            "remote: Total 53 (delta 0), reused 0 (delta 0), pack-reused 50\u001b[K\n",
            "Unpacking objects: 100% (53/53), 14.21 MiB | 2.40 MiB/s, done.\n"
          ]
        }
      ]
    },
    {
      "cell_type": "markdown",
      "metadata": {
        "id": "XmsDHqDFBzM3"
      },
      "source": [
        "#### 2-1. 보스턴 데이터\n",
        "보스턴 데이터 범죄율 컬럼('CRIM')의 top10 중 10번째 범죄율 값으로 1~10위의 범죄율 값을 변경 후, 'AGE' 변수의 값이 80이상인 것에 대한 범죄율 평균을 산출하라."
      ]
    },
    {
      "cell_type": "code",
      "execution_count": null,
      "metadata": {
        "colab": {
          "base_uri": "https://localhost:8080/",
          "height": 112
        },
        "id": "s320bd-r95fx",
        "outputId": "a7b42126-b22f-4c81-afa1-bc92fd736c3a"
      },
      "outputs": [
        {
          "output_type": "execute_result",
          "data": {
            "text/plain": [
              "      CRIM    ZN  INDUS  CHAS    NOX     RM   AGE     DIS  RAD    TAX  \\\n",
              "0  0.00632  18.0   2.31   0.0  0.538  6.575  65.2  4.0900  1.0  296.0   \n",
              "1  0.02731   0.0   7.07   0.0  0.469  6.421  78.9  4.9671  2.0  242.0   \n",
              "\n",
              "   PTRATIO      B  LSTAT  PRICE  \n",
              "0     15.3  396.9   4.98   24.0  \n",
              "1     17.8  396.9   9.14   21.6  "
            ],
            "text/html": [
              "\n",
              "  <div id=\"df-19c0841f-bf95-441e-aee5-ac6ecf3c6092\">\n",
              "    <div class=\"colab-df-container\">\n",
              "      <div>\n",
              "<style scoped>\n",
              "    .dataframe tbody tr th:only-of-type {\n",
              "        vertical-align: middle;\n",
              "    }\n",
              "\n",
              "    .dataframe tbody tr th {\n",
              "        vertical-align: top;\n",
              "    }\n",
              "\n",
              "    .dataframe thead th {\n",
              "        text-align: right;\n",
              "    }\n",
              "</style>\n",
              "<table border=\"1\" class=\"dataframe\">\n",
              "  <thead>\n",
              "    <tr style=\"text-align: right;\">\n",
              "      <th></th>\n",
              "      <th>CRIM</th>\n",
              "      <th>ZN</th>\n",
              "      <th>INDUS</th>\n",
              "      <th>CHAS</th>\n",
              "      <th>NOX</th>\n",
              "      <th>RM</th>\n",
              "      <th>AGE</th>\n",
              "      <th>DIS</th>\n",
              "      <th>RAD</th>\n",
              "      <th>TAX</th>\n",
              "      <th>PTRATIO</th>\n",
              "      <th>B</th>\n",
              "      <th>LSTAT</th>\n",
              "      <th>PRICE</th>\n",
              "    </tr>\n",
              "  </thead>\n",
              "  <tbody>\n",
              "    <tr>\n",
              "      <th>0</th>\n",
              "      <td>0.00632</td>\n",
              "      <td>18.0</td>\n",
              "      <td>2.31</td>\n",
              "      <td>0.0</td>\n",
              "      <td>0.538</td>\n",
              "      <td>6.575</td>\n",
              "      <td>65.2</td>\n",
              "      <td>4.0900</td>\n",
              "      <td>1.0</td>\n",
              "      <td>296.0</td>\n",
              "      <td>15.3</td>\n",
              "      <td>396.9</td>\n",
              "      <td>4.98</td>\n",
              "      <td>24.0</td>\n",
              "    </tr>\n",
              "    <tr>\n",
              "      <th>1</th>\n",
              "      <td>0.02731</td>\n",
              "      <td>0.0</td>\n",
              "      <td>7.07</td>\n",
              "      <td>0.0</td>\n",
              "      <td>0.469</td>\n",
              "      <td>6.421</td>\n",
              "      <td>78.9</td>\n",
              "      <td>4.9671</td>\n",
              "      <td>2.0</td>\n",
              "      <td>242.0</td>\n",
              "      <td>17.8</td>\n",
              "      <td>396.9</td>\n",
              "      <td>9.14</td>\n",
              "      <td>21.6</td>\n",
              "    </tr>\n",
              "  </tbody>\n",
              "</table>\n",
              "</div>\n",
              "      <button class=\"colab-df-convert\" onclick=\"convertToInteractive('df-19c0841f-bf95-441e-aee5-ac6ecf3c6092')\"\n",
              "              title=\"Convert this dataframe to an interactive table.\"\n",
              "              style=\"display:none;\">\n",
              "        \n",
              "  <svg xmlns=\"http://www.w3.org/2000/svg\" height=\"24px\"viewBox=\"0 0 24 24\"\n",
              "       width=\"24px\">\n",
              "    <path d=\"M0 0h24v24H0V0z\" fill=\"none\"/>\n",
              "    <path d=\"M18.56 5.44l.94 2.06.94-2.06 2.06-.94-2.06-.94-.94-2.06-.94 2.06-2.06.94zm-11 1L8.5 8.5l.94-2.06 2.06-.94-2.06-.94L8.5 2.5l-.94 2.06-2.06.94zm10 10l.94 2.06.94-2.06 2.06-.94-2.06-.94-.94-2.06-.94 2.06-2.06.94z\"/><path d=\"M17.41 7.96l-1.37-1.37c-.4-.4-.92-.59-1.43-.59-.52 0-1.04.2-1.43.59L10.3 9.45l-7.72 7.72c-.78.78-.78 2.05 0 2.83L4 21.41c.39.39.9.59 1.41.59.51 0 1.02-.2 1.41-.59l7.78-7.78 2.81-2.81c.8-.78.8-2.07 0-2.86zM5.41 20L4 18.59l7.72-7.72 1.47 1.35L5.41 20z\"/>\n",
              "  </svg>\n",
              "      </button>\n",
              "      \n",
              "  <style>\n",
              "    .colab-df-container {\n",
              "      display:flex;\n",
              "      flex-wrap:wrap;\n",
              "      gap: 12px;\n",
              "    }\n",
              "\n",
              "    .colab-df-convert {\n",
              "      background-color: #E8F0FE;\n",
              "      border: none;\n",
              "      border-radius: 50%;\n",
              "      cursor: pointer;\n",
              "      display: none;\n",
              "      fill: #1967D2;\n",
              "      height: 32px;\n",
              "      padding: 0 0 0 0;\n",
              "      width: 32px;\n",
              "    }\n",
              "\n",
              "    .colab-df-convert:hover {\n",
              "      background-color: #E2EBFA;\n",
              "      box-shadow: 0px 1px 2px rgba(60, 64, 67, 0.3), 0px 1px 3px 1px rgba(60, 64, 67, 0.15);\n",
              "      fill: #174EA6;\n",
              "    }\n",
              "\n",
              "    [theme=dark] .colab-df-convert {\n",
              "      background-color: #3B4455;\n",
              "      fill: #D2E3FC;\n",
              "    }\n",
              "\n",
              "    [theme=dark] .colab-df-convert:hover {\n",
              "      background-color: #434B5C;\n",
              "      box-shadow: 0px 1px 3px 1px rgba(0, 0, 0, 0.15);\n",
              "      filter: drop-shadow(0px 1px 2px rgba(0, 0, 0, 0.3));\n",
              "      fill: #FFFFFF;\n",
              "    }\n",
              "  </style>\n",
              "\n",
              "      <script>\n",
              "        const buttonEl =\n",
              "          document.querySelector('#df-19c0841f-bf95-441e-aee5-ac6ecf3c6092 button.colab-df-convert');\n",
              "        buttonEl.style.display =\n",
              "          google.colab.kernel.accessAllowed ? 'block' : 'none';\n",
              "\n",
              "        async function convertToInteractive(key) {\n",
              "          const element = document.querySelector('#df-19c0841f-bf95-441e-aee5-ac6ecf3c6092');\n",
              "          const dataTable =\n",
              "            await google.colab.kernel.invokeFunction('convertToInteractive',\n",
              "                                                     [key], {});\n",
              "          if (!dataTable) return;\n",
              "\n",
              "          const docLinkHtml = 'Like what you see? Visit the ' +\n",
              "            '<a target=\"_blank\" href=https://colab.research.google.com/notebooks/data_table.ipynb>data table notebook</a>'\n",
              "            + ' to learn more about interactive tables.';\n",
              "          element.innerHTML = '';\n",
              "          dataTable['output_type'] = 'display_data';\n",
              "          await google.colab.output.renderOutput(dataTable, element);\n",
              "          const docLink = document.createElement('div');\n",
              "          docLink.innerHTML = docLinkHtml;\n",
              "          element.appendChild(docLink);\n",
              "        }\n",
              "      </script>\n",
              "    </div>\n",
              "  </div>\n",
              "  "
            ]
          },
          "metadata": {},
          "execution_count": 3
        }
      ],
      "source": [
        "# 아래와 같이 boston 데이터를 가져오기 했다고 생각하고 풀이하여 주세요 ^^!\n",
        "## sklearn에서 더이상 boston 데이터를 제공하지 않으므로 교체합니다.\n",
        "##from sklearn.datasets import load_boston\n",
        "import pandas as pd\n",
        "df = pd.read_csv('bigdata/boston.csv')\n",
        "df.head(2)"
      ]
    },
    {
      "cell_type": "code",
      "execution_count": null,
      "metadata": {
        "colab": {
          "base_uri": "https://localhost:8080/",
          "height": 394
        },
        "id": "dt5U-T52-d1f",
        "outputId": "c9b6a5e2-a76f-4288-9737-8bc008c8f748"
      },
      "outputs": [
        {
          "output_type": "execute_result",
          "data": {
            "text/plain": [
              "        CRIM   ZN  INDUS  CHAS    NOX     RM    AGE     DIS   RAD    TAX  \\\n",
              "380  25.9406  0.0   18.1   0.0  0.671  6.968   91.9  1.4165  24.0  666.0   \n",
              "418  25.9406  0.0   18.1   0.0  0.679  5.957  100.0  1.8026  24.0  666.0   \n",
              "405  25.9406  0.0   18.1   0.0  0.693  5.683  100.0  1.4254  24.0  666.0   \n",
              "410  25.9406  0.0   18.1   0.0  0.597  5.757  100.0  1.4130  24.0  666.0   \n",
              "414  25.9406  0.0   18.1   0.0  0.693  4.519  100.0  1.6582  24.0  666.0   \n",
              "404  25.9406  0.0   18.1   0.0  0.693  5.531   85.4  1.6074  24.0  666.0   \n",
              "398  25.9406  0.0   18.1   0.0  0.693  5.453  100.0  1.4896  24.0  666.0   \n",
              "427  25.9406  0.0   18.1   0.0  0.679  6.202   78.7  1.8629  24.0  666.0   \n",
              "413  25.9406  0.0   18.1   0.0  0.597  5.155  100.0  1.5894  24.0  666.0   \n",
              "417  25.9406  0.0   18.1   0.0  0.679  5.304   89.1  1.6475  24.0  666.0   \n",
              "400  25.0461  0.0   18.1   0.0  0.693  5.987  100.0  1.5888  24.0  666.0   \n",
              "\n",
              "     PTRATIO       B  LSTAT  PRICE  \n",
              "380     20.2  396.90  17.21   10.4  \n",
              "418     20.2   16.45  20.62    8.8  \n",
              "405     20.2  384.97  22.98    5.0  \n",
              "410     20.2    2.60  10.11   15.0  \n",
              "414     20.2   88.27  36.98    7.0  \n",
              "404     20.2  329.46  27.38    8.5  \n",
              "398     20.2  396.90  30.59    5.0  \n",
              "427     20.2   18.82  14.52   10.9  \n",
              "413     20.2  210.97  20.08   16.3  \n",
              "417     20.2  127.36  26.64   10.4  \n",
              "400     20.2  396.90  26.77    5.6  "
            ],
            "text/html": [
              "\n",
              "  <div id=\"df-8e456362-2ce5-4b14-bea3-14ce9358c8cc\">\n",
              "    <div class=\"colab-df-container\">\n",
              "      <div>\n",
              "<style scoped>\n",
              "    .dataframe tbody tr th:only-of-type {\n",
              "        vertical-align: middle;\n",
              "    }\n",
              "\n",
              "    .dataframe tbody tr th {\n",
              "        vertical-align: top;\n",
              "    }\n",
              "\n",
              "    .dataframe thead th {\n",
              "        text-align: right;\n",
              "    }\n",
              "</style>\n",
              "<table border=\"1\" class=\"dataframe\">\n",
              "  <thead>\n",
              "    <tr style=\"text-align: right;\">\n",
              "      <th></th>\n",
              "      <th>CRIM</th>\n",
              "      <th>ZN</th>\n",
              "      <th>INDUS</th>\n",
              "      <th>CHAS</th>\n",
              "      <th>NOX</th>\n",
              "      <th>RM</th>\n",
              "      <th>AGE</th>\n",
              "      <th>DIS</th>\n",
              "      <th>RAD</th>\n",
              "      <th>TAX</th>\n",
              "      <th>PTRATIO</th>\n",
              "      <th>B</th>\n",
              "      <th>LSTAT</th>\n",
              "      <th>PRICE</th>\n",
              "    </tr>\n",
              "  </thead>\n",
              "  <tbody>\n",
              "    <tr>\n",
              "      <th>380</th>\n",
              "      <td>25.9406</td>\n",
              "      <td>0.0</td>\n",
              "      <td>18.1</td>\n",
              "      <td>0.0</td>\n",
              "      <td>0.671</td>\n",
              "      <td>6.968</td>\n",
              "      <td>91.9</td>\n",
              "      <td>1.4165</td>\n",
              "      <td>24.0</td>\n",
              "      <td>666.0</td>\n",
              "      <td>20.2</td>\n",
              "      <td>396.90</td>\n",
              "      <td>17.21</td>\n",
              "      <td>10.4</td>\n",
              "    </tr>\n",
              "    <tr>\n",
              "      <th>418</th>\n",
              "      <td>25.9406</td>\n",
              "      <td>0.0</td>\n",
              "      <td>18.1</td>\n",
              "      <td>0.0</td>\n",
              "      <td>0.679</td>\n",
              "      <td>5.957</td>\n",
              "      <td>100.0</td>\n",
              "      <td>1.8026</td>\n",
              "      <td>24.0</td>\n",
              "      <td>666.0</td>\n",
              "      <td>20.2</td>\n",
              "      <td>16.45</td>\n",
              "      <td>20.62</td>\n",
              "      <td>8.8</td>\n",
              "    </tr>\n",
              "    <tr>\n",
              "      <th>405</th>\n",
              "      <td>25.9406</td>\n",
              "      <td>0.0</td>\n",
              "      <td>18.1</td>\n",
              "      <td>0.0</td>\n",
              "      <td>0.693</td>\n",
              "      <td>5.683</td>\n",
              "      <td>100.0</td>\n",
              "      <td>1.4254</td>\n",
              "      <td>24.0</td>\n",
              "      <td>666.0</td>\n",
              "      <td>20.2</td>\n",
              "      <td>384.97</td>\n",
              "      <td>22.98</td>\n",
              "      <td>5.0</td>\n",
              "    </tr>\n",
              "    <tr>\n",
              "      <th>410</th>\n",
              "      <td>25.9406</td>\n",
              "      <td>0.0</td>\n",
              "      <td>18.1</td>\n",
              "      <td>0.0</td>\n",
              "      <td>0.597</td>\n",
              "      <td>5.757</td>\n",
              "      <td>100.0</td>\n",
              "      <td>1.4130</td>\n",
              "      <td>24.0</td>\n",
              "      <td>666.0</td>\n",
              "      <td>20.2</td>\n",
              "      <td>2.60</td>\n",
              "      <td>10.11</td>\n",
              "      <td>15.0</td>\n",
              "    </tr>\n",
              "    <tr>\n",
              "      <th>414</th>\n",
              "      <td>25.9406</td>\n",
              "      <td>0.0</td>\n",
              "      <td>18.1</td>\n",
              "      <td>0.0</td>\n",
              "      <td>0.693</td>\n",
              "      <td>4.519</td>\n",
              "      <td>100.0</td>\n",
              "      <td>1.6582</td>\n",
              "      <td>24.0</td>\n",
              "      <td>666.0</td>\n",
              "      <td>20.2</td>\n",
              "      <td>88.27</td>\n",
              "      <td>36.98</td>\n",
              "      <td>7.0</td>\n",
              "    </tr>\n",
              "    <tr>\n",
              "      <th>404</th>\n",
              "      <td>25.9406</td>\n",
              "      <td>0.0</td>\n",
              "      <td>18.1</td>\n",
              "      <td>0.0</td>\n",
              "      <td>0.693</td>\n",
              "      <td>5.531</td>\n",
              "      <td>85.4</td>\n",
              "      <td>1.6074</td>\n",
              "      <td>24.0</td>\n",
              "      <td>666.0</td>\n",
              "      <td>20.2</td>\n",
              "      <td>329.46</td>\n",
              "      <td>27.38</td>\n",
              "      <td>8.5</td>\n",
              "    </tr>\n",
              "    <tr>\n",
              "      <th>398</th>\n",
              "      <td>25.9406</td>\n",
              "      <td>0.0</td>\n",
              "      <td>18.1</td>\n",
              "      <td>0.0</td>\n",
              "      <td>0.693</td>\n",
              "      <td>5.453</td>\n",
              "      <td>100.0</td>\n",
              "      <td>1.4896</td>\n",
              "      <td>24.0</td>\n",
              "      <td>666.0</td>\n",
              "      <td>20.2</td>\n",
              "      <td>396.90</td>\n",
              "      <td>30.59</td>\n",
              "      <td>5.0</td>\n",
              "    </tr>\n",
              "    <tr>\n",
              "      <th>427</th>\n",
              "      <td>25.9406</td>\n",
              "      <td>0.0</td>\n",
              "      <td>18.1</td>\n",
              "      <td>0.0</td>\n",
              "      <td>0.679</td>\n",
              "      <td>6.202</td>\n",
              "      <td>78.7</td>\n",
              "      <td>1.8629</td>\n",
              "      <td>24.0</td>\n",
              "      <td>666.0</td>\n",
              "      <td>20.2</td>\n",
              "      <td>18.82</td>\n",
              "      <td>14.52</td>\n",
              "      <td>10.9</td>\n",
              "    </tr>\n",
              "    <tr>\n",
              "      <th>413</th>\n",
              "      <td>25.9406</td>\n",
              "      <td>0.0</td>\n",
              "      <td>18.1</td>\n",
              "      <td>0.0</td>\n",
              "      <td>0.597</td>\n",
              "      <td>5.155</td>\n",
              "      <td>100.0</td>\n",
              "      <td>1.5894</td>\n",
              "      <td>24.0</td>\n",
              "      <td>666.0</td>\n",
              "      <td>20.2</td>\n",
              "      <td>210.97</td>\n",
              "      <td>20.08</td>\n",
              "      <td>16.3</td>\n",
              "    </tr>\n",
              "    <tr>\n",
              "      <th>417</th>\n",
              "      <td>25.9406</td>\n",
              "      <td>0.0</td>\n",
              "      <td>18.1</td>\n",
              "      <td>0.0</td>\n",
              "      <td>0.679</td>\n",
              "      <td>5.304</td>\n",
              "      <td>89.1</td>\n",
              "      <td>1.6475</td>\n",
              "      <td>24.0</td>\n",
              "      <td>666.0</td>\n",
              "      <td>20.2</td>\n",
              "      <td>127.36</td>\n",
              "      <td>26.64</td>\n",
              "      <td>10.4</td>\n",
              "    </tr>\n",
              "    <tr>\n",
              "      <th>400</th>\n",
              "      <td>25.0461</td>\n",
              "      <td>0.0</td>\n",
              "      <td>18.1</td>\n",
              "      <td>0.0</td>\n",
              "      <td>0.693</td>\n",
              "      <td>5.987</td>\n",
              "      <td>100.0</td>\n",
              "      <td>1.5888</td>\n",
              "      <td>24.0</td>\n",
              "      <td>666.0</td>\n",
              "      <td>20.2</td>\n",
              "      <td>396.90</td>\n",
              "      <td>26.77</td>\n",
              "      <td>5.6</td>\n",
              "    </tr>\n",
              "  </tbody>\n",
              "</table>\n",
              "</div>\n",
              "      <button class=\"colab-df-convert\" onclick=\"convertToInteractive('df-8e456362-2ce5-4b14-bea3-14ce9358c8cc')\"\n",
              "              title=\"Convert this dataframe to an interactive table.\"\n",
              "              style=\"display:none;\">\n",
              "        \n",
              "  <svg xmlns=\"http://www.w3.org/2000/svg\" height=\"24px\"viewBox=\"0 0 24 24\"\n",
              "       width=\"24px\">\n",
              "    <path d=\"M0 0h24v24H0V0z\" fill=\"none\"/>\n",
              "    <path d=\"M18.56 5.44l.94 2.06.94-2.06 2.06-.94-2.06-.94-.94-2.06-.94 2.06-2.06.94zm-11 1L8.5 8.5l.94-2.06 2.06-.94-2.06-.94L8.5 2.5l-.94 2.06-2.06.94zm10 10l.94 2.06.94-2.06 2.06-.94-2.06-.94-.94-2.06-.94 2.06-2.06.94z\"/><path d=\"M17.41 7.96l-1.37-1.37c-.4-.4-.92-.59-1.43-.59-.52 0-1.04.2-1.43.59L10.3 9.45l-7.72 7.72c-.78.78-.78 2.05 0 2.83L4 21.41c.39.39.9.59 1.41.59.51 0 1.02-.2 1.41-.59l7.78-7.78 2.81-2.81c.8-.78.8-2.07 0-2.86zM5.41 20L4 18.59l7.72-7.72 1.47 1.35L5.41 20z\"/>\n",
              "  </svg>\n",
              "      </button>\n",
              "      \n",
              "  <style>\n",
              "    .colab-df-container {\n",
              "      display:flex;\n",
              "      flex-wrap:wrap;\n",
              "      gap: 12px;\n",
              "    }\n",
              "\n",
              "    .colab-df-convert {\n",
              "      background-color: #E8F0FE;\n",
              "      border: none;\n",
              "      border-radius: 50%;\n",
              "      cursor: pointer;\n",
              "      display: none;\n",
              "      fill: #1967D2;\n",
              "      height: 32px;\n",
              "      padding: 0 0 0 0;\n",
              "      width: 32px;\n",
              "    }\n",
              "\n",
              "    .colab-df-convert:hover {\n",
              "      background-color: #E2EBFA;\n",
              "      box-shadow: 0px 1px 2px rgba(60, 64, 67, 0.3), 0px 1px 3px 1px rgba(60, 64, 67, 0.15);\n",
              "      fill: #174EA6;\n",
              "    }\n",
              "\n",
              "    [theme=dark] .colab-df-convert {\n",
              "      background-color: #3B4455;\n",
              "      fill: #D2E3FC;\n",
              "    }\n",
              "\n",
              "    [theme=dark] .colab-df-convert:hover {\n",
              "      background-color: #434B5C;\n",
              "      box-shadow: 0px 1px 3px 1px rgba(0, 0, 0, 0.15);\n",
              "      filter: drop-shadow(0px 1px 2px rgba(0, 0, 0, 0.3));\n",
              "      fill: #FFFFFF;\n",
              "    }\n",
              "  </style>\n",
              "\n",
              "      <script>\n",
              "        const buttonEl =\n",
              "          document.querySelector('#df-8e456362-2ce5-4b14-bea3-14ce9358c8cc button.colab-df-convert');\n",
              "        buttonEl.style.display =\n",
              "          google.colab.kernel.accessAllowed ? 'block' : 'none';\n",
              "\n",
              "        async function convertToInteractive(key) {\n",
              "          const element = document.querySelector('#df-8e456362-2ce5-4b14-bea3-14ce9358c8cc');\n",
              "          const dataTable =\n",
              "            await google.colab.kernel.invokeFunction('convertToInteractive',\n",
              "                                                     [key], {});\n",
              "          if (!dataTable) return;\n",
              "\n",
              "          const docLinkHtml = 'Like what you see? Visit the ' +\n",
              "            '<a target=\"_blank\" href=https://colab.research.google.com/notebooks/data_table.ipynb>data table notebook</a>'\n",
              "            + ' to learn more about interactive tables.';\n",
              "          element.innerHTML = '';\n",
              "          dataTable['output_type'] = 'display_data';\n",
              "          await google.colab.output.renderOutput(dataTable, element);\n",
              "          const docLink = document.createElement('div');\n",
              "          docLink.innerHTML = docLinkHtml;\n",
              "          element.appendChild(docLink);\n",
              "        }\n",
              "      </script>\n",
              "    </div>\n",
              "  </div>\n",
              "  "
            ]
          },
          "metadata": {},
          "execution_count": 4
        }
      ],
      "source": [
        "# 범죄율('CRIM')에 대해 내림차순 정렬\n",
        "t = df.sort_values('CRIM', ascending=False)\n",
        "\n",
        "# TOP10 중에서 10번째 'CRIM' 값으로 TOP10의 'CRIM' 값을 수정\n",
        "t.iloc[:10, 0] = t.iloc[9, 0]\n",
        "t.head(11)"
      ]
    },
    {
      "cell_type": "code",
      "execution_count": null,
      "metadata": {
        "colab": {
          "base_uri": "https://localhost:8080/"
        },
        "id": "_DJ25ML6_D9H",
        "outputId": "36d189e0-bfca-4660-e1b4-92926d734207"
      },
      "outputs": [
        {
          "output_type": "stream",
          "name": "stdout",
          "text": [
            "5.759386625\n"
          ]
        }
      ],
      "source": [
        "# AGE가 80 이상인 것에 대해 'CRIM'의 평균 구하기\n",
        "t2 = t[t['AGE']>=80]\n",
        "result = t2['CRIM'].mean()\n",
        "print(result)   # 값을 구해서 print()를 사용해 출력해야 합니다."
      ]
    },
    {
      "cell_type": "code",
      "execution_count": null,
      "metadata": {
        "id": "VXE93_QTB4ZQ"
      },
      "outputs": [],
      "source": [
        "정답 : 5.759387"
      ]
    },
    {
      "cell_type": "markdown",
      "metadata": {
        "id": "Uv_3WUzRCFV0"
      },
      "source": [
        "#### 2-2. 하우징 데이터\n",
        "- 'https://raw.githubusercontent.com/Soyoung-Yoon/bigdata/main/housing.csv' 파일을 사용한다\n",
        "- 주어진 데이터의 첫번째 행 부터 순서대로 80% 까지의 데이터를 추출 후 'total_bedrooms' 변수의 결측값(NA)을 'total_bedrooms' 변수의 중앙값으로 대체하고,\n",
        "- 대체 전의 'total_bedrooms' 변수 표준편차값과 대체 후의 'total_bedrooms' 변수 표준편차 값을 산출하여\n",
        "- 대체 전 표준편차 값 - 대체 후 표준편차 값을 구해 출력한다."
      ]
    },
    {
      "cell_type": "code",
      "execution_count": null,
      "metadata": {
        "id": "7bfmcPy3CQDQ"
      },
      "outputs": [],
      "source": [
        "# 데이터셋 출처 \n",
        "# https://www.kaggle.com/camnugent/introduction-to-machine-learning-in-r-tutorial"
      ]
    },
    {
      "cell_type": "code",
      "execution_count": null,
      "metadata": {
        "colab": {
          "base_uri": "https://localhost:8080/",
          "height": 112
        },
        "id": "R8YT1sic_-XA",
        "outputId": "d80fbc91-04a2-4cf2-8a5f-4fe05af71593"
      },
      "outputs": [
        {
          "output_type": "execute_result",
          "data": {
            "text/plain": [
              "   longitude  latitude  housing_median_age  total_rooms  total_bedrooms  \\\n",
              "0    -122.23     37.88                41.0        880.0           129.0   \n",
              "1    -122.22     37.86                21.0       7099.0          1106.0   \n",
              "\n",
              "   population  households  median_income  median_house_value ocean_proximity  \n",
              "0       322.0       126.0         8.3252            452600.0        NEAR BAY  \n",
              "1      2401.0      1138.0         8.3014            358500.0        NEAR BAY  "
            ],
            "text/html": [
              "\n",
              "  <div id=\"df-1dd7c0d0-7c8b-4fb0-bcb4-717d0f868981\">\n",
              "    <div class=\"colab-df-container\">\n",
              "      <div>\n",
              "<style scoped>\n",
              "    .dataframe tbody tr th:only-of-type {\n",
              "        vertical-align: middle;\n",
              "    }\n",
              "\n",
              "    .dataframe tbody tr th {\n",
              "        vertical-align: top;\n",
              "    }\n",
              "\n",
              "    .dataframe thead th {\n",
              "        text-align: right;\n",
              "    }\n",
              "</style>\n",
              "<table border=\"1\" class=\"dataframe\">\n",
              "  <thead>\n",
              "    <tr style=\"text-align: right;\">\n",
              "      <th></th>\n",
              "      <th>longitude</th>\n",
              "      <th>latitude</th>\n",
              "      <th>housing_median_age</th>\n",
              "      <th>total_rooms</th>\n",
              "      <th>total_bedrooms</th>\n",
              "      <th>population</th>\n",
              "      <th>households</th>\n",
              "      <th>median_income</th>\n",
              "      <th>median_house_value</th>\n",
              "      <th>ocean_proximity</th>\n",
              "    </tr>\n",
              "  </thead>\n",
              "  <tbody>\n",
              "    <tr>\n",
              "      <th>0</th>\n",
              "      <td>-122.23</td>\n",
              "      <td>37.88</td>\n",
              "      <td>41.0</td>\n",
              "      <td>880.0</td>\n",
              "      <td>129.0</td>\n",
              "      <td>322.0</td>\n",
              "      <td>126.0</td>\n",
              "      <td>8.3252</td>\n",
              "      <td>452600.0</td>\n",
              "      <td>NEAR BAY</td>\n",
              "    </tr>\n",
              "    <tr>\n",
              "      <th>1</th>\n",
              "      <td>-122.22</td>\n",
              "      <td>37.86</td>\n",
              "      <td>21.0</td>\n",
              "      <td>7099.0</td>\n",
              "      <td>1106.0</td>\n",
              "      <td>2401.0</td>\n",
              "      <td>1138.0</td>\n",
              "      <td>8.3014</td>\n",
              "      <td>358500.0</td>\n",
              "      <td>NEAR BAY</td>\n",
              "    </tr>\n",
              "  </tbody>\n",
              "</table>\n",
              "</div>\n",
              "      <button class=\"colab-df-convert\" onclick=\"convertToInteractive('df-1dd7c0d0-7c8b-4fb0-bcb4-717d0f868981')\"\n",
              "              title=\"Convert this dataframe to an interactive table.\"\n",
              "              style=\"display:none;\">\n",
              "        \n",
              "  <svg xmlns=\"http://www.w3.org/2000/svg\" height=\"24px\"viewBox=\"0 0 24 24\"\n",
              "       width=\"24px\">\n",
              "    <path d=\"M0 0h24v24H0V0z\" fill=\"none\"/>\n",
              "    <path d=\"M18.56 5.44l.94 2.06.94-2.06 2.06-.94-2.06-.94-.94-2.06-.94 2.06-2.06.94zm-11 1L8.5 8.5l.94-2.06 2.06-.94-2.06-.94L8.5 2.5l-.94 2.06-2.06.94zm10 10l.94 2.06.94-2.06 2.06-.94-2.06-.94-.94-2.06-.94 2.06-2.06.94z\"/><path d=\"M17.41 7.96l-1.37-1.37c-.4-.4-.92-.59-1.43-.59-.52 0-1.04.2-1.43.59L10.3 9.45l-7.72 7.72c-.78.78-.78 2.05 0 2.83L4 21.41c.39.39.9.59 1.41.59.51 0 1.02-.2 1.41-.59l7.78-7.78 2.81-2.81c.8-.78.8-2.07 0-2.86zM5.41 20L4 18.59l7.72-7.72 1.47 1.35L5.41 20z\"/>\n",
              "  </svg>\n",
              "      </button>\n",
              "      \n",
              "  <style>\n",
              "    .colab-df-container {\n",
              "      display:flex;\n",
              "      flex-wrap:wrap;\n",
              "      gap: 12px;\n",
              "    }\n",
              "\n",
              "    .colab-df-convert {\n",
              "      background-color: #E8F0FE;\n",
              "      border: none;\n",
              "      border-radius: 50%;\n",
              "      cursor: pointer;\n",
              "      display: none;\n",
              "      fill: #1967D2;\n",
              "      height: 32px;\n",
              "      padding: 0 0 0 0;\n",
              "      width: 32px;\n",
              "    }\n",
              "\n",
              "    .colab-df-convert:hover {\n",
              "      background-color: #E2EBFA;\n",
              "      box-shadow: 0px 1px 2px rgba(60, 64, 67, 0.3), 0px 1px 3px 1px rgba(60, 64, 67, 0.15);\n",
              "      fill: #174EA6;\n",
              "    }\n",
              "\n",
              "    [theme=dark] .colab-df-convert {\n",
              "      background-color: #3B4455;\n",
              "      fill: #D2E3FC;\n",
              "    }\n",
              "\n",
              "    [theme=dark] .colab-df-convert:hover {\n",
              "      background-color: #434B5C;\n",
              "      box-shadow: 0px 1px 3px 1px rgba(0, 0, 0, 0.15);\n",
              "      filter: drop-shadow(0px 1px 2px rgba(0, 0, 0, 0.3));\n",
              "      fill: #FFFFFF;\n",
              "    }\n",
              "  </style>\n",
              "\n",
              "      <script>\n",
              "        const buttonEl =\n",
              "          document.querySelector('#df-1dd7c0d0-7c8b-4fb0-bcb4-717d0f868981 button.colab-df-convert');\n",
              "        buttonEl.style.display =\n",
              "          google.colab.kernel.accessAllowed ? 'block' : 'none';\n",
              "\n",
              "        async function convertToInteractive(key) {\n",
              "          const element = document.querySelector('#df-1dd7c0d0-7c8b-4fb0-bcb4-717d0f868981');\n",
              "          const dataTable =\n",
              "            await google.colab.kernel.invokeFunction('convertToInteractive',\n",
              "                                                     [key], {});\n",
              "          if (!dataTable) return;\n",
              "\n",
              "          const docLinkHtml = 'Like what you see? Visit the ' +\n",
              "            '<a target=\"_blank\" href=https://colab.research.google.com/notebooks/data_table.ipynb>data table notebook</a>'\n",
              "            + ' to learn more about interactive tables.';\n",
              "          element.innerHTML = '';\n",
              "          dataTable['output_type'] = 'display_data';\n",
              "          await google.colab.output.renderOutput(dataTable, element);\n",
              "          const docLink = document.createElement('div');\n",
              "          docLink.innerHTML = docLinkHtml;\n",
              "          element.appendChild(docLink);\n",
              "        }\n",
              "      </script>\n",
              "    </div>\n",
              "  </div>\n",
              "  "
            ]
          },
          "metadata": {},
          "execution_count": 6
        }
      ],
      "source": [
        "import pandas as pd\n",
        "df = pd.read_csv('https://raw.githubusercontent.com/Soyoung-Yoon/bigdata/main/housing.csv')\n",
        "df.head(2)"
      ]
    },
    {
      "cell_type": "code",
      "execution_count": null,
      "metadata": {
        "colab": {
          "base_uri": "https://localhost:8080/"
        },
        "id": "utIfIygqhdiG",
        "outputId": "4a1c3a0c-dd0d-4ff9-b06e-3415be31df73"
      },
      "outputs": [
        {
          "data": {
            "text/plain": [
              "((20640, 10), 16512.0)"
            ]
          },
          "execution_count": 5,
          "metadata": {},
          "output_type": "execute_result"
        }
      ],
      "source": [
        "# 위치 순서대로 보았을 때 80% 위치의 위치 번호\n",
        "df.shape, df.shape[0] * 0.8"
      ]
    },
    {
      "cell_type": "code",
      "execution_count": null,
      "metadata": {
        "colab": {
          "base_uri": "https://localhost:8080/"
        },
        "id": "FTsXafdeKM39",
        "outputId": "1c6c6740-0fb4-4bf6-ed8e-bcb5be92c3ba"
      },
      "outputs": [
        {
          "name": "stdout",
          "output_type": "stream",
          "text": [
            "1.9751472916456692\n"
          ]
        }
      ],
      "source": [
        "# 16512 번까지의 자료를 가져와 표준편차, 중앙값 구하기\n",
        "bedrooms = df['total_bedrooms'][:16512]\n",
        "before_std = bedrooms.std()\n",
        "median = bedrooms.median()\n",
        "# 결측치를 median으로 채우기\n",
        "bedrooms = bedrooms.fillna(median)\n",
        "# 결측치를 채운 뒤의 표준편차 구하기\n",
        "after_std = bedrooms.std()\n",
        "# 결측치 채우기 전, 후의 표준편차의 차이 구하기\n",
        "result = before_std - after_std\n",
        "print(result)"
      ]
    },
    {
      "cell_type": "markdown",
      "metadata": {
        "id": "s0Iohr2QC6As"
      },
      "source": [
        "#### 2-3. 하우징 데이터 \n",
        "- 'https://raw.githubusercontent.com/Soyoung-Yoon/bigdata/main/housing.csv' 파일을 사용한다\n",
        "- 하우징 데이터에서 'latitude' 컬럼의 이상치를 찾아 이상치들의 합을 산출하시오.\n",
        "- 이상치 기준 : 평균 - (표준편차 * 1.5), 평균 + (표준편차 * 1.5) "
      ]
    },
    {
      "cell_type": "code",
      "execution_count": null,
      "metadata": {
        "id": "II4-4rISf1Ys"
      },
      "outputs": [],
      "source": [
        "# 평균 - (표준편차 * 1.5), 평균 + (표준편차 * 1.5)"
      ]
    },
    {
      "cell_type": "code",
      "execution_count": null,
      "metadata": {
        "colab": {
          "base_uri": "https://localhost:8080/"
        },
        "id": "qDn-ZVCTAA3J",
        "outputId": "efb04ee0-539f-493e-b16b-55d5256154cf"
      },
      "outputs": [
        {
          "name": "stdout",
          "output_type": "stream",
          "text": [
            "45815.75\n"
          ]
        }
      ],
      "source": [
        "# 하우징 데이터에서 'latitude' 컬럼 데이터에 대한 평균, 표준편차를 구한다\n",
        "latitude = df['latitude']\n",
        "mean, std = df['latitude'].agg(['mean', 'std'])\n",
        "\n",
        "# 이상값의 하한, 상한을 구한다\n",
        "lower, upper = mean - std*1.5, mean + std*1.5\n",
        "\n",
        "# 하한보다 작거나 상한보다 큰 값을 갖는 것에 대한 합계를 구한다\n",
        "result = latitude[(lower > latitude) | (upper < latitude)].sum()\n",
        "print(result)"
      ]
    },
    {
      "cell_type": "markdown",
      "metadata": {
        "id": "SxegKonKDHPJ"
      },
      "source": [
        "## 3.기출문제 (빅분기 실기 2회)\n",
        "- 고객 구매 데이터를 사용해서 고객이 주문한 물품이 제 시간에 도착여부(Reached.on.Time_Y.N) 예측\n",
        "- X_train.csv, y_train.csv : 학습 및 학습평가에 사용하는 파일\n",
        "- X_test.csv : 제출용 데이터 생성에 사용하는 파일\n",
        "- roc_score를 사용하여 평가\n",
        "- 아래의 형식으로 submission수험번호.csv 로 저장\n",
        "- Reached.on.Time_Y.N은 제 시간에 도착할 확률\n",
        "        ID,Reached.on.Time_Y.N\n",
        "        7007,0.27419354838709675\n",
        "        9793,0.4883720930232558\n",
        "        6593,0.48174157303370785\n",
        "        10527,0.3657243816254417"
      ]
    },
    {
      "cell_type": "markdown",
      "metadata": {
        "id": "JWKKfomBts23"
      },
      "source": [
        "### 3-01.문제이해"
      ]
    },
    {
      "cell_type": "code",
      "execution_count": null,
      "metadata": {
        "id": "mPvd_FX8DL3-"
      },
      "outputs": [],
      "source": [
        "# https://www.kaggle.com/prachi13/customer-analytics?select=Train.csv"
      ]
    },
    {
      "cell_type": "code",
      "execution_count": null,
      "metadata": {
        "id": "7s5cSk-lrLGh"
      },
      "outputs": [],
      "source": [
        "# 기출에서 기억나는 것\n",
        "# - 컬럼 중 1개가 숫자형으로 안내 되었는데 info() 결과 object로 표시됨\n",
        "# - head() 로 해서 표시되지 않았음 \n",
        "# - value가 '1', '*7', '4', '9', '*7' 이렇게 되어 있어서 '*'을 제거하고 dtype을 변경해야함"
      ]
    },
    {
      "cell_type": "code",
      "execution_count": null,
      "metadata": {
        "id": "YvUN8uMwtiQk"
      },
      "outputs": [],
      "source": [
        "import pandas as pd\n",
        "# 이상한 것 확인\n",
        "df = pd.DataFrame({'rating': ['1', '2', '4', '*7', '8', '*7', '3', '5', '2', '*4']})\n"
      ]
    },
    {
      "cell_type": "code",
      "execution_count": null,
      "metadata": {
        "colab": {
          "base_uri": "https://localhost:8080/"
        },
        "id": "SxjNji3PuWf7",
        "outputId": "5e61bbb1-25e2-417e-df26-d1187e26a5e8"
      },
      "outputs": [
        {
          "name": "stdout",
          "output_type": "stream",
          "text": [
            "<class 'pandas.core.frame.DataFrame'>\n",
            "RangeIndex: 10 entries, 0 to 9\n",
            "Data columns (total 1 columns):\n",
            " #   Column  Non-Null Count  Dtype\n",
            "---  ------  --------------  -----\n",
            " 0   rating  10 non-null     int64\n",
            "dtypes: int64(1)\n",
            "memory usage: 208.0 bytes\n"
          ]
        },
        {
          "name": "stderr",
          "output_type": "stream",
          "text": [
            "/usr/local/lib/python3.7/dist-packages/ipykernel_launcher.py:2: FutureWarning: The default value of regex will change from True to False in a future version. In addition, single character regular expressions will *not* be treated as literal strings when regex=True.\n",
            "  \n"
          ]
        }
      ],
      "source": [
        "# 해결 방법\n",
        "df['rating'] = df['rating'].str.replace('*', '').astype('int64')\n",
        "df.info()"
      ]
    },
    {
      "cell_type": "markdown",
      "metadata": {
        "id": "NCqn_6zOtyXi"
      },
      "source": [
        "### 3-02.데이터 불러오기, 탐색"
      ]
    },
    {
      "cell_type": "markdown",
      "metadata": {
        "id": "PUbTCE1Ku0Cj"
      },
      "source": [
        "***pandas의 출력 설정 옵션 다시 확인하세요!***"
      ]
    },
    {
      "cell_type": "code",
      "execution_count": null,
      "metadata": {
        "id": "ljn7qAfH8uw2"
      },
      "outputs": [],
      "source": [
        "# [0] 사용 라이브러리 import\n",
        "import pandas as pd\n",
        "\n",
        "# 데이타가 많은경우 모두 출력 안되고 ... 으로 생략해서 출력됨.\n",
        "pd.set_option('display.max_rows',500)    #출력할 max row를 지정\n",
        "pd.set_option('display.max_columns',20)  #출력할 max columns를 지정\n",
        "#출력 format 지정 - 소수점아래 4자리까지\n",
        "pd.set_option('display.float_format', '{:.4f}'.format)"
      ]
    },
    {
      "cell_type": "code",
      "execution_count": null,
      "metadata": {
        "id": "DwzoupwOlIU3"
      },
      "outputs": [],
      "source": [
        "# [0] x_train, x_test 데이터로 생성함\n",
        "# 문제 출제 형식에 맞도록 변환한 것입니다.  시험에서는 이런 코드가 없습니다.\n",
        "from sklearn.model_selection import train_test_split\n",
        "\n",
        "dftot = pd.read_csv('https://raw.githubusercontent.com/Soyoung-Yoon/bigdata/main/1st_Train.csv')\n",
        "x_train, x_test = train_test_split(dftot, test_size=0.4, stratify=dftot['Reached.on.Time_Y.N'], random_state=0)\n",
        "y_train = x_train[['Reached.on.Time_Y.N']]\n",
        "x_train = x_train.drop(columns='Reached.on.Time_Y.N')\n",
        "y_test = x_test[['Reached.on.Time_Y.N']]   # 이것은 시험에서는 제공되지 않음\n",
        "x_test = x_test.drop(columns='Reached.on.Time_Y.N')\n",
        "\n",
        "x_train.to_csv('x_train.csv', index=False)\n",
        "y_train.to_csv('y_train.csv', index=False)\n",
        "x_test.to_csv('x_test.csv', index=False)\n",
        "y_test.to_csv('y_test.csv', index=False) # 이것은 시험에서는 제공되지 않음"
      ]
    },
    {
      "cell_type": "code",
      "execution_count": null,
      "metadata": {
        "colab": {
          "base_uri": "https://localhost:8080/"
        },
        "id": "fruyxQw2nDcr",
        "outputId": "98e338ac-3006-44d8-d7c9-6743b95d8721"
      },
      "outputs": [
        {
          "data": {
            "text/plain": [
              "((6599, 11), (6599, 1), (4400, 11))"
            ]
          },
          "execution_count": 143,
          "metadata": {},
          "output_type": "execute_result"
        }
      ],
      "source": [
        "x_train.shape, y_train.shape, x_test.shape"
      ]
    },
    {
      "cell_type": "code",
      "execution_count": null,
      "metadata": {
        "id": "mNl3dB0VmMxo"
      },
      "outputs": [],
      "source": [
        "# [1] x_train.csv, y_train.csv, x_test.csv 읽어오기\n",
        "X = pd.read_csv('x_train.csv')\n",
        "Y = pd.read_csv('y_train.csv')\n",
        "X_submission = pd.read_csv('x_test.csv')"
      ]
    },
    {
      "cell_type": "code",
      "execution_count": null,
      "metadata": {
        "colab": {
          "base_uri": "https://localhost:8080/"
        },
        "id": "ibsXqCz7-bpA",
        "outputId": "70052a30-4ff3-44df-eb40-4748acf15d05"
      },
      "outputs": [
        {
          "data": {
            "text/plain": [
              "0     7007\n",
              "1     9793\n",
              "2     6593\n",
              "3    10527\n",
              "4     6914\n",
              "Name: ID, dtype: int64"
            ]
          },
          "execution_count": 213,
          "metadata": {},
          "output_type": "execute_result"
        }
      ],
      "source": [
        "X_submission['ID'].head()"
      ]
    },
    {
      "cell_type": "code",
      "execution_count": null,
      "metadata": {
        "colab": {
          "base_uri": "https://localhost:8080/",
          "height": 207
        },
        "id": "ydWnRpW6l8cL",
        "outputId": "74dcb985-57bd-4c8c-b9a2-0db336c8ed13"
      },
      "outputs": [
        {
          "data": {
            "text/html": [
              "\n",
              "  <div id=\"df-afc769aa-5500-4c2b-b4a9-2f180e92aa5a\">\n",
              "    <div class=\"colab-df-container\">\n",
              "      <div>\n",
              "<style scoped>\n",
              "    .dataframe tbody tr th:only-of-type {\n",
              "        vertical-align: middle;\n",
              "    }\n",
              "\n",
              "    .dataframe tbody tr th {\n",
              "        vertical-align: top;\n",
              "    }\n",
              "\n",
              "    .dataframe thead th {\n",
              "        text-align: right;\n",
              "    }\n",
              "</style>\n",
              "<table border=\"1\" class=\"dataframe\">\n",
              "  <thead>\n",
              "    <tr style=\"text-align: right;\">\n",
              "      <th></th>\n",
              "      <th>ID</th>\n",
              "      <th>Warehouse_block</th>\n",
              "      <th>Mode_of_Shipment</th>\n",
              "      <th>Customer_care_calls</th>\n",
              "      <th>Customer_rating</th>\n",
              "      <th>Cost_of_the_Product</th>\n",
              "      <th>Prior_purchases</th>\n",
              "      <th>Product_importance</th>\n",
              "      <th>Gender</th>\n",
              "      <th>Discount_offered</th>\n",
              "      <th>Weight_in_gms</th>\n",
              "    </tr>\n",
              "  </thead>\n",
              "  <tbody>\n",
              "    <tr>\n",
              "      <th>0</th>\n",
              "      <td>9902</td>\n",
              "      <td>F</td>\n",
              "      <td>Ship</td>\n",
              "      <td>3</td>\n",
              "      <td>5</td>\n",
              "      <td>214</td>\n",
              "      <td>2</td>\n",
              "      <td>medium</td>\n",
              "      <td>F</td>\n",
              "      <td>6</td>\n",
              "      <td>4578</td>\n",
              "    </tr>\n",
              "    <tr>\n",
              "      <th>1</th>\n",
              "      <td>9501</td>\n",
              "      <td>A</td>\n",
              "      <td>Ship</td>\n",
              "      <td>4</td>\n",
              "      <td>2</td>\n",
              "      <td>201</td>\n",
              "      <td>3</td>\n",
              "      <td>medium</td>\n",
              "      <td>F</td>\n",
              "      <td>4</td>\n",
              "      <td>4613</td>\n",
              "    </tr>\n",
              "    <tr>\n",
              "      <th>2</th>\n",
              "      <td>6111</td>\n",
              "      <td>A</td>\n",
              "      <td>Ship</td>\n",
              "      <td>4</td>\n",
              "      <td>2</td>\n",
              "      <td>264</td>\n",
              "      <td>3</td>\n",
              "      <td>low</td>\n",
              "      <td>M</td>\n",
              "      <td>10</td>\n",
              "      <td>5137</td>\n",
              "    </tr>\n",
              "  </tbody>\n",
              "</table>\n",
              "</div>\n",
              "      <button class=\"colab-df-convert\" onclick=\"convertToInteractive('df-afc769aa-5500-4c2b-b4a9-2f180e92aa5a')\"\n",
              "              title=\"Convert this dataframe to an interactive table.\"\n",
              "              style=\"display:none;\">\n",
              "        \n",
              "  <svg xmlns=\"http://www.w3.org/2000/svg\" height=\"24px\"viewBox=\"0 0 24 24\"\n",
              "       width=\"24px\">\n",
              "    <path d=\"M0 0h24v24H0V0z\" fill=\"none\"/>\n",
              "    <path d=\"M18.56 5.44l.94 2.06.94-2.06 2.06-.94-2.06-.94-.94-2.06-.94 2.06-2.06.94zm-11 1L8.5 8.5l.94-2.06 2.06-.94-2.06-.94L8.5 2.5l-.94 2.06-2.06.94zm10 10l.94 2.06.94-2.06 2.06-.94-2.06-.94-.94-2.06-.94 2.06-2.06.94z\"/><path d=\"M17.41 7.96l-1.37-1.37c-.4-.4-.92-.59-1.43-.59-.52 0-1.04.2-1.43.59L10.3 9.45l-7.72 7.72c-.78.78-.78 2.05 0 2.83L4 21.41c.39.39.9.59 1.41.59.51 0 1.02-.2 1.41-.59l7.78-7.78 2.81-2.81c.8-.78.8-2.07 0-2.86zM5.41 20L4 18.59l7.72-7.72 1.47 1.35L5.41 20z\"/>\n",
              "  </svg>\n",
              "      </button>\n",
              "      \n",
              "  <style>\n",
              "    .colab-df-container {\n",
              "      display:flex;\n",
              "      flex-wrap:wrap;\n",
              "      gap: 12px;\n",
              "    }\n",
              "\n",
              "    .colab-df-convert {\n",
              "      background-color: #E8F0FE;\n",
              "      border: none;\n",
              "      border-radius: 50%;\n",
              "      cursor: pointer;\n",
              "      display: none;\n",
              "      fill: #1967D2;\n",
              "      height: 32px;\n",
              "      padding: 0 0 0 0;\n",
              "      width: 32px;\n",
              "    }\n",
              "\n",
              "    .colab-df-convert:hover {\n",
              "      background-color: #E2EBFA;\n",
              "      box-shadow: 0px 1px 2px rgba(60, 64, 67, 0.3), 0px 1px 3px 1px rgba(60, 64, 67, 0.15);\n",
              "      fill: #174EA6;\n",
              "    }\n",
              "\n",
              "    [theme=dark] .colab-df-convert {\n",
              "      background-color: #3B4455;\n",
              "      fill: #D2E3FC;\n",
              "    }\n",
              "\n",
              "    [theme=dark] .colab-df-convert:hover {\n",
              "      background-color: #434B5C;\n",
              "      box-shadow: 0px 1px 3px 1px rgba(0, 0, 0, 0.15);\n",
              "      filter: drop-shadow(0px 1px 2px rgba(0, 0, 0, 0.3));\n",
              "      fill: #FFFFFF;\n",
              "    }\n",
              "  </style>\n",
              "\n",
              "      <script>\n",
              "        const buttonEl =\n",
              "          document.querySelector('#df-afc769aa-5500-4c2b-b4a9-2f180e92aa5a button.colab-df-convert');\n",
              "        buttonEl.style.display =\n",
              "          google.colab.kernel.accessAllowed ? 'block' : 'none';\n",
              "\n",
              "        async function convertToInteractive(key) {\n",
              "          const element = document.querySelector('#df-afc769aa-5500-4c2b-b4a9-2f180e92aa5a');\n",
              "          const dataTable =\n",
              "            await google.colab.kernel.invokeFunction('convertToInteractive',\n",
              "                                                     [key], {});\n",
              "          if (!dataTable) return;\n",
              "\n",
              "          const docLinkHtml = 'Like what you see? Visit the ' +\n",
              "            '<a target=\"_blank\" href=https://colab.research.google.com/notebooks/data_table.ipynb>data table notebook</a>'\n",
              "            + ' to learn more about interactive tables.';\n",
              "          element.innerHTML = '';\n",
              "          dataTable['output_type'] = 'display_data';\n",
              "          await google.colab.output.renderOutput(dataTable, element);\n",
              "          const docLink = document.createElement('div');\n",
              "          docLink.innerHTML = docLinkHtml;\n",
              "          element.appendChild(docLink);\n",
              "        }\n",
              "      </script>\n",
              "    </div>\n",
              "  </div>\n",
              "  "
            ],
            "text/plain": [
              "     ID Warehouse_block Mode_of_Shipment  Customer_care_calls  \\\n",
              "0  9902               F             Ship                    3   \n",
              "1  9501               A             Ship                    4   \n",
              "2  6111               A             Ship                    4   \n",
              "\n",
              "   Customer_rating  Cost_of_the_Product  Prior_purchases Product_importance  \\\n",
              "0                5                  214                2             medium   \n",
              "1                2                  201                3             medium   \n",
              "2                2                  264                3                low   \n",
              "\n",
              "  Gender  Discount_offered  Weight_in_gms  \n",
              "0      F                 6           4578  \n",
              "1      F                 4           4613  \n",
              "2      M                10           5137  "
            ]
          },
          "execution_count": 5,
          "metadata": {},
          "output_type": "execute_result"
        }
      ],
      "source": [
        "# [2] X, X_submission 합치기 (필수는 아님)\n",
        "dfX = pd.concat([X, X_submission])\n",
        "dfX.head(3)"
      ]
    },
    {
      "cell_type": "code",
      "execution_count": null,
      "metadata": {
        "colab": {
          "base_uri": "https://localhost:8080/"
        },
        "id": "n-tV1hmplAmu",
        "outputId": "8102403a-7d52-42a7-b92a-6ee1c9107d9d"
      },
      "outputs": [
        {
          "name": "stdout",
          "output_type": "stream",
          "text": [
            "<class 'pandas.core.frame.DataFrame'>\n",
            "Int64Index: 10999 entries, 0 to 4399\n",
            "Data columns (total 11 columns):\n",
            " #   Column               Non-Null Count  Dtype \n",
            "---  ------               --------------  ----- \n",
            " 0   ID                   10999 non-null  int64 \n",
            " 1   Warehouse_block      10999 non-null  object\n",
            " 2   Mode_of_Shipment     10999 non-null  object\n",
            " 3   Customer_care_calls  10999 non-null  int64 \n",
            " 4   Customer_rating      10999 non-null  int64 \n",
            " 5   Cost_of_the_Product  10999 non-null  int64 \n",
            " 6   Prior_purchases      10999 non-null  int64 \n",
            " 7   Product_importance   10999 non-null  object\n",
            " 8   Gender               10999 non-null  object\n",
            " 9   Discount_offered     10999 non-null  int64 \n",
            " 10  Weight_in_gms        10999 non-null  int64 \n",
            "dtypes: int64(7), object(4)\n",
            "memory usage: 1.0+ MB\n"
          ]
        }
      ],
      "source": [
        "# [3] df의 정보 확인 \n",
        "dfX.info()"
      ]
    },
    {
      "cell_type": "markdown",
      "metadata": {
        "id": "Mt9L_KDeFOOM"
      },
      "source": [
        "### 3-03.데이터 전처리"
      ]
    },
    {
      "cell_type": "code",
      "execution_count": null,
      "metadata": {
        "colab": {
          "base_uri": "https://localhost:8080/"
        },
        "id": "es0cTIbJDsY_",
        "outputId": "1f5a875f-3ee8-44bf-96eb-c92152497934"
      },
      "outputs": [
        {
          "data": {
            "text/plain": [
              "ID                     0\n",
              "Warehouse_block        0\n",
              "Mode_of_Shipment       0\n",
              "Customer_care_calls    0\n",
              "Customer_rating        0\n",
              "Cost_of_the_Product    0\n",
              "Prior_purchases        0\n",
              "Product_importance     0\n",
              "Gender                 0\n",
              "Discount_offered       0\n",
              "Weight_in_gms          0\n",
              "dtype: int64"
            ]
          },
          "execution_count": 7,
          "metadata": {},
          "output_type": "execute_result"
        }
      ],
      "source": [
        "# [4] 결측치 점검\n",
        "dfX.isna().sum()"
      ]
    },
    {
      "cell_type": "code",
      "execution_count": null,
      "metadata": {
        "colab": {
          "base_uri": "https://localhost:8080/"
        },
        "id": "83AXnReZyZeW",
        "outputId": "8e607660-4b15-4d01-b3c6-978fdc1aa266"
      },
      "outputs": [
        {
          "name": "stdout",
          "output_type": "stream",
          "text": [
            "                         ID  Customer_care_calls  Customer_rating  \\\n",
            "ID                   1.0000               0.1890          -0.0057   \n",
            "Customer_care_calls  0.1890               1.0000           0.0122   \n",
            "Customer_rating     -0.0057               0.0122           1.0000   \n",
            "Cost_of_the_Product  0.1968               0.3232           0.0093   \n",
            "Prior_purchases      0.1454               0.1808           0.0132   \n",
            "Discount_offered    -0.5983              -0.1308          -0.0031   \n",
            "Weight_in_gms        0.2783              -0.2766          -0.0019   \n",
            "\n",
            "                     Cost_of_the_Product  Prior_purchases  Discount_offered  \\\n",
            "ID                                0.1968           0.1454           -0.5983   \n",
            "Customer_care_calls               0.3232           0.1808           -0.1308   \n",
            "Customer_rating                   0.0093           0.0132           -0.0031   \n",
            "Cost_of_the_Product               1.0000           0.1237           -0.1383   \n",
            "Prior_purchases                   0.1237           1.0000           -0.0828   \n",
            "Discount_offered                 -0.1383          -0.0828            1.0000   \n",
            "Weight_in_gms                    -0.1326          -0.1682           -0.3761   \n",
            "\n",
            "                     Weight_in_gms  \n",
            "ID                          0.2783  \n",
            "Customer_care_calls        -0.2766  \n",
            "Customer_rating            -0.0019  \n",
            "Cost_of_the_Product        -0.1326  \n",
            "Prior_purchases            -0.1682  \n",
            "Discount_offered           -0.3761  \n",
            "Weight_in_gms               1.0000  \n"
          ]
        }
      ],
      "source": [
        "# [5] 상관관계 확인\n",
        "print(dfX.corr())"
      ]
    },
    {
      "cell_type": "code",
      "execution_count": null,
      "metadata": {
        "colab": {
          "base_uri": "https://localhost:8080/"
        },
        "id": "goDwo_-2otpa",
        "outputId": "4df11bff-3e44-40fb-f4fc-ecc444410cb7"
      },
      "outputs": [
        {
          "data": {
            "text/plain": [
              "0   0.4032\n",
              "1   0.5968\n",
              "Name: Reached.on.Time_Y.N, dtype: float64"
            ]
          },
          "execution_count": 9,
          "metadata": {},
          "output_type": "execute_result"
        }
      ],
      "source": [
        "# [6] Y 값의 분포 확인\n",
        "Y['Reached.on.Time_Y.N'].value_counts(normalize=True).sort_index()"
      ]
    },
    {
      "cell_type": "code",
      "execution_count": null,
      "metadata": {
        "colab": {
          "base_uri": "https://localhost:8080/"
        },
        "id": "fgTQR5Ga2npH",
        "outputId": "81beba6e-ec8b-4ea6-a070-634bb54ac5ea"
      },
      "outputs": [
        {
          "data": {
            "text/plain": [
              "(6599, 12)"
            ]
          },
          "execution_count": 10,
          "metadata": {},
          "output_type": "execute_result"
        }
      ],
      "source": [
        "# [7] X,Y를 합쳐 dfXY를 만듦 \n",
        "dfXY = pd.concat([X, Y], axis=1)\n",
        "dfXY.shape"
      ]
    },
    {
      "cell_type": "code",
      "execution_count": null,
      "metadata": {
        "colab": {
          "base_uri": "https://localhost:8080/"
        },
        "id": "tBAMDMaWrBmx",
        "outputId": "c0a97491-e031-4329-b6ff-bc763779aef6"
      },
      "outputs": [
        {
          "name": "stdout",
          "output_type": "stream",
          "text": [
            "ID                     10999\n",
            "Warehouse_block            5\n",
            "Mode_of_Shipment           3\n",
            "Customer_care_calls        6\n",
            "Customer_rating            5\n",
            "Cost_of_the_Product      215\n",
            "Prior_purchases            8\n",
            "Product_importance         3\n",
            "Gender                     2\n",
            "Discount_offered          65\n",
            "Weight_in_gms           4034\n",
            "dtype: int64\n"
          ]
        }
      ],
      "source": [
        "# [8] dfX의 각 컬럼의 값 종류 개수 - 1인 것 제거하기 위해\n",
        "print(dfX.nunique())"
      ]
    },
    {
      "cell_type": "code",
      "execution_count": null,
      "metadata": {
        "colab": {
          "base_uri": "https://localhost:8080/"
        },
        "id": "g-OokN0eq5sz",
        "outputId": "79bebcf2-6cd5-4ba1-b5ac-429b11409f26"
      },
      "outputs": [
        {
          "name": "stdout",
          "output_type": "stream",
          "text": [
            "<class 'pandas.core.frame.DataFrame'>\n",
            "Int64Index: 10999 entries, 0 to 4399\n",
            "Data columns (total 11 columns):\n",
            " #   Column               Non-Null Count  Dtype\n",
            "---  ------               --------------  -----\n",
            " 0   ID                   10999 non-null  int64\n",
            " 1   Warehouse_block      10999 non-null  int64\n",
            " 2   Mode_of_Shipment     10999 non-null  int64\n",
            " 3   Customer_care_calls  10999 non-null  int64\n",
            " 4   Customer_rating      10999 non-null  int64\n",
            " 5   Cost_of_the_Product  10999 non-null  int64\n",
            " 6   Prior_purchases      10999 non-null  int64\n",
            " 7   Product_importance   10999 non-null  int64\n",
            " 8   Gender               10999 non-null  int64\n",
            " 9   Discount_offered     10999 non-null  int64\n",
            " 10  Weight_in_gms        10999 non-null  int64\n",
            "dtypes: int64(11)\n",
            "memory usage: 1.0 MB\n"
          ]
        }
      ],
      "source": [
        "# [9] Object 타입에 대한 Label Encoding\n",
        "df_LE = dfX.copy()\n",
        "df_LE['Gender'] = dfX['Gender'].replace(['F', 'M'], [0, 1])\n",
        "df_LE['Product_importance'] = dfX['Product_importance'].replace(['low', 'medium', 'high'], \n",
        "                                                            [0, 1, 2])\n",
        "df_LE['Mode_of_Shipment'] = dfX['Mode_of_Shipment'].replace(['Ship', 'Road', 'Flight'],\n",
        "                                                        [0, 1, 2])\n",
        "df_LE['Warehouse_block'] = dfX['Warehouse_block'].replace(['A', 'B', 'C', 'D', 'F'],\n",
        "                                                        [0, 1, 2, 3, 4])\n",
        "df_LE.info()"
      ]
    },
    {
      "cell_type": "code",
      "execution_count": null,
      "metadata": {
        "colab": {
          "base_uri": "https://localhost:8080/"
        },
        "id": "lk67NPIjAfUS",
        "outputId": "0fe82d40-0db5-41f5-ea14-81f239f76df5"
      },
      "outputs": [
        {
          "name": "stdout",
          "output_type": "stream",
          "text": [
            "<class 'pandas.core.frame.DataFrame'>\n",
            "Int64Index: 10999 entries, 0 to 4399\n",
            "Data columns (total 19 columns):\n",
            " #   Column               Non-Null Count  Dtype\n",
            "---  ------               --------------  -----\n",
            " 0   ID                   10999 non-null  int64\n",
            " 1   Customer_care_calls  10999 non-null  int64\n",
            " 2   Customer_rating      10999 non-null  int64\n",
            " 3   Cost_of_the_Product  10999 non-null  int64\n",
            " 4   Prior_purchases      10999 non-null  int64\n",
            " 5   Discount_offered     10999 non-null  int64\n",
            " 6   Weight_in_gms        10999 non-null  int64\n",
            " 7   high                 10999 non-null  int64\n",
            " 8   low                  10999 non-null  int64\n",
            " 9   medium               10999 non-null  int64\n",
            " 10  Flight               10999 non-null  int64\n",
            " 11  Road                 10999 non-null  int64\n",
            " 12  Ship                 10999 non-null  int64\n",
            " 13  A                    10999 non-null  int64\n",
            " 14  B                    10999 non-null  int64\n",
            " 15  C                    10999 non-null  int64\n",
            " 16  D                    10999 non-null  int64\n",
            " 17  F                    10999 non-null  int64\n",
            " 18  Gender               10999 non-null  int64\n",
            "dtypes: int64(19)\n",
            "memory usage: 1.7 MB\n"
          ]
        }
      ],
      "source": [
        "# [10] Object 타입에 대한 One Hot Encoding\n",
        "df_OH = dfX.copy().drop(columns=['Product_importance', 'Mode_of_Shipment', 'Warehouse_block', 'Gender'])\n",
        "pi = dfX['Product_importance'].str.get_dummies()\n",
        "ms = dfX['Mode_of_Shipment'].str.get_dummies()\n",
        "wb = dfX['Warehouse_block'].str.get_dummies()\n",
        "g = dfX['Gender'].replace(['F', 'M'], [0, 1])\n",
        "df_OH = pd.concat([df_OH, pi, ms, wb, g], axis=1)\n",
        "df_OH.info()"
      ]
    },
    {
      "cell_type": "code",
      "execution_count": null,
      "metadata": {
        "colab": {
          "base_uri": "https://localhost:8080/"
        },
        "id": "4KtdnAhWKAzW",
        "outputId": "0b5634d3-7495-42c3-d5f2-4f98e5799c44"
      },
      "outputs": [
        {
          "data": {
            "text/plain": [
              "Index(['ID', 'Customer_care_calls', 'Customer_rating', 'Cost_of_the_Product',\n",
              "       'Prior_purchases', 'Discount_offered', 'Weight_in_gms', 'high', 'low',\n",
              "       'medium', 'Flight', 'Road', 'Ship', 'A', 'B', 'C', 'D', 'F', 'Gender'],\n",
              "      dtype='object')"
            ]
          },
          "execution_count": 12,
          "metadata": {},
          "output_type": "execute_result"
        }
      ],
      "source": [
        "df_OH.columns "
      ]
    },
    {
      "cell_type": "code",
      "execution_count": null,
      "metadata": {
        "id": "p6YG15xOKHUR"
      },
      "outputs": [],
      "source": [
        "# [11] df_OH 에서 영향력이 있다고 생각되는 것만 골라서 사용\n",
        "features = ['ID', 'Customer_care_calls', 'Customer_rating', 'Cost_of_the_Product',\n",
        "       'Prior_purchases', 'Discount_offered', 'Weight_in_gms',\n",
        "       'high', 'Flight', 'Road', 'A', 'B']\n",
        "df_MINI = df_OH[features]       "
      ]
    },
    {
      "cell_type": "markdown",
      "metadata": {
        "id": "KNK2VSccFDdO"
      },
      "source": [
        "### 3-04.데이터 분리, 모델 생성 및 학습"
      ]
    },
    {
      "cell_type": "code",
      "execution_count": null,
      "metadata": {
        "id": "45EAUtzzQu8j"
      },
      "outputs": [],
      "source": [
        "# [12] 사용할 도구 import\n",
        "from sklearn.preprocessing import MinMaxScaler\n",
        "from sklearn.model_selection import train_test_split\n",
        "from sklearn.linear_model import LogisticRegression\n",
        "from sklearn.neighbors import KNeighborsClassifier\n",
        "from sklearn.tree import DecisionTreeClassifier\n",
        "from sklearn.ensemble import RandomForestClassifier\n",
        "from xgboost import XGBClassifier"
      ]
    },
    {
      "cell_type": "code",
      "execution_count": null,
      "metadata": {
        "id": "GGGYNnHbLKbo"
      },
      "outputs": [],
      "source": [
        "# [13] train score, test score, roc_auc_score 를 반환하는 함수 작성\n",
        "from sklearn.metrics import roc_auc_score\n",
        "def get_scores(model, xtrain, xtest, ytrain, ytest):\n",
        "    A = model.score(xtrain, ytrain)\n",
        "    B = model.score(xtest, ytest)\n",
        "    ypred = model.predict_proba(xtest)[:, 1]\n",
        "    C = roc_auc_score(ytest, ypred)  \n",
        "    return '{:.4f} {:.4f} {:.4f}'.format(A, B, C)"
      ]
    },
    {
      "cell_type": "code",
      "execution_count": null,
      "metadata": {
        "id": "QxCEEMWhUilz"
      },
      "outputs": [],
      "source": [
        "# [14] 다양한 모델을 만들고 성능을 출력하는 함수 작성\n",
        "def make_models(xtrain, xtest, ytrain, ytest):\n",
        "    model1 = LogisticRegression().fit(xtrain, ytrain)\n",
        "    print('model1', get_scores(model1, xtrain, xtest, ytrain, ytest))\n",
        "    for k in range(1, 10):\n",
        "        model2 = KNeighborsClassifier(k).fit(xtrain, ytrain)\n",
        "        print('model2', k, get_scores(model2, xtrain, xtest, ytrain, ytest))\n",
        "\n",
        "    # overfitting\n",
        "    model3 = DecisionTreeClassifier(random_state=0).fit(xtrain, ytrain)\n",
        "    print('model3', get_scores(model3, xtrain, xtest, ytrain, ytest))\n",
        "\n",
        "    # overfitting 해결\n",
        "    for d in range(3, 8):\n",
        "        model3 = DecisionTreeClassifier(max_depth=d,random_state=0).fit(xtrain, ytrain)\n",
        "        print('model3', d, get_scores(model3, xtrain, xtest, ytrain, ytest))\n",
        "\n",
        "    # overfitting\n",
        "    model4 = RandomForestClassifier(random_state=0).fit(xtrain, ytrain)\n",
        "    print('model4', get_scores(model4, xtrain, xtest, ytrain, ytest))\n",
        "\n",
        "    # overfitting 해결\n",
        "    for d in range(3, 8):\n",
        "        model4 = RandomForestClassifier(500, max_depth=d, random_state=0).fit(xtrain, ytrain)\n",
        "        print('model4', d, get_scores(model4, xtrain, xtest, ytrain, ytest))\n",
        "\n",
        "    model5 = XGBClassifier().fit(xtrain, ytrain)\n",
        "    print('model5', get_scores(model5, xtrain, xtest, ytrain, ytest))"
      ]
    },
    {
      "cell_type": "code",
      "execution_count": null,
      "metadata": {
        "id": "QZzixFt_7ldG"
      },
      "outputs": [],
      "source": [
        "# [15] X를 train 용도, submission 용도로 나누고, Y를 1차원으로 바꿈 (MinMaxScaler 적용)\n",
        "def get_data(dfX, Y):\n",
        "    X = dfX.drop(columns=['ID'])\n",
        "    X_use = X.iloc[:6599, :]\n",
        "    X_submission = X.iloc[6599:, :]\n",
        "    Y1 = Y['Reached.on.Time_Y.N']\n",
        "    scaler = MinMaxScaler()\n",
        "    X1_use = scaler.fit_transform(X_use)\n",
        "    X1_submission = scaler.transform(X_submission)\n",
        "    print(X1_use.shape, Y1.shape, X1_submission.shape)\n",
        "    return X1_use, X1_submission, Y1"
      ]
    },
    {
      "cell_type": "markdown",
      "metadata": {
        "id": "RdpIoSILNUdu"
      },
      "source": [
        "### LabelEncoding, One-Hot Encoding 및 변수 선택을 수행해 보겠습니다.\n",
        "- 별로 다르지 않네요 ^^;\n",
        "- 시험에서는 LabelEncoding을 하시면 어떨까 생각됩니다."
      ]
    },
    {
      "cell_type": "code",
      "execution_count": null,
      "metadata": {
        "colab": {
          "background_save": true,
          "base_uri": "https://localhost:8080/"
        },
        "id": "QSIFGkDiw5x8",
        "outputId": "19c1c1fe-e8eb-4fa7-eb16-0c63a0346000"
      },
      "outputs": [
        {
          "name": "stdout",
          "output_type": "stream",
          "text": [
            "(6599, 10) (6599,) (4400, 10)\n",
            "model1 0.6454 0.6479 0.7278\n",
            "model2 1 1.0000 0.6279 0.6126\n",
            "model2 2 0.8139 0.6370 0.6736\n",
            "model2 3 0.8121 0.6424 0.6922\n",
            "model2 4 0.7646 0.6455 0.7040\n",
            "model2 5 0.7670 0.6485 0.7060\n",
            "model2 6 0.7450 0.6558 0.7189\n",
            "model2 7 0.7430 0.6527 0.7218\n",
            "model2 8 0.7341 0.6491 0.7211\n",
            "model2 9 0.7280 0.6509 0.7233\n",
            "model3 1.0000 0.6436 0.6331\n",
            "model3 3 0.6733 0.6782 0.7480\n",
            "model3 4 0.6884 0.6800 0.7508\n",
            "model3 5 0.6929 0.6921 0.7509\n",
            "model3 6 0.7040 0.6861 0.7453\n",
            "model3 7 0.7129 0.6721 0.7342\n",
            "model4 1.0000 0.6648 0.7409\n",
            "model4 3 0.6785 0.6782 0.7509\n",
            "model4 4 0.6929 0.6824 0.7492\n",
            "model4 5 0.7082 0.6812 0.7495\n",
            "model4 6 0.7187 0.6788 0.7467\n",
            "model4 7 0.7480 0.6758 0.7436\n",
            "model5 0.7159 0.6812 0.7401\n"
          ]
        }
      ],
      "source": [
        "# [16] df_LE 사용 \n",
        "\n",
        "# X, Y 분리하기\n",
        "X1_use, X1_submission, Y1 = get_data(df_LE, Y)\n",
        "\n",
        "# train, test  7:3 분할, stratify 적용, random_state=0 적용\n",
        "xtrain1, xtest1, ytrain1, ytest1 = train_test_split(X1_use, Y1, \n",
        "                                                test_size = 0.25,\n",
        "                                                stratify=Y1, random_state=0)\n",
        "# 다양한 모델 만들어 보기\n",
        "make_models(xtrain1, xtest1, ytrain1, ytest1)"
      ]
    },
    {
      "cell_type": "code",
      "execution_count": null,
      "metadata": {
        "colab": {
          "background_save": true,
          "base_uri": "https://localhost:8080/"
        },
        "id": "KejVInufPU1g",
        "outputId": "bea55aed-436d-4065-bbf5-cfd8c2f512f1"
      },
      "outputs": [
        {
          "name": "stdout",
          "output_type": "stream",
          "text": [
            "(6599, 18) (6599,) (4400, 18)\n",
            "model1 0.6472 0.6479 0.7272\n",
            "model2 1 1.0000 0.6182 0.6047\n",
            "model2 2 0.8078 0.6145 0.6540\n",
            "model2 3 0.8141 0.6152 0.6634\n",
            "model2 4 0.7606 0.6103 0.6691\n",
            "model2 5 0.7707 0.6236 0.6733\n",
            "model2 6 0.7391 0.6176 0.6720\n",
            "model2 7 0.7321 0.6103 0.6730\n",
            "model2 8 0.7197 0.6152 0.6732\n",
            "model2 9 0.7238 0.6164 0.6749\n",
            "model3 1.0000 0.6388 0.6252\n",
            "model3 3 0.6733 0.6782 0.7480\n",
            "model3 4 0.6884 0.6800 0.7508\n",
            "model3 5 0.6929 0.6921 0.7509\n",
            "model3 6 0.7040 0.6861 0.7465\n",
            "model3 7 0.7123 0.6733 0.7296\n",
            "model4 1.0000 0.6673 0.7349\n",
            "model4 3 0.6773 0.6758 0.7498\n",
            "model4 4 0.6910 0.6752 0.7474\n",
            "model4 5 0.7048 0.6806 0.7434\n",
            "model4 6 0.7272 0.6788 0.7437\n",
            "model4 7 0.7513 0.6818 0.7392\n",
            "model5 0.7141 0.6709 0.7400\n"
          ]
        }
      ],
      "source": [
        "# [17] df_OH 사용 데이터 섞기, X, Y 분리하기\n",
        "# X, Y 분리하기\n",
        "X2_use, X2_submission, Y2 = get_data(df_OH, Y)\n",
        "# train, test  7:3 분할, stratify 적용, random_state=0 적용\n",
        "xtrain2, xtest2, ytrain2, ytest2 = train_test_split(X2_use, Y2, \n",
        "                                                    test_size=0.25,\n",
        "                                                    stratify=Y2, random_state=0)\n",
        "\n",
        "# 다양한 모델 만들어 보기\n",
        "make_models(xtrain2, xtest2, ytrain2, ytest2)"
      ]
    },
    {
      "cell_type": "code",
      "execution_count": null,
      "metadata": {
        "colab": {
          "base_uri": "https://localhost:8080/"
        },
        "id": "5ReJurSDPhCQ",
        "outputId": "7e1c1723-6b1f-4923-e4fd-625403cc080f"
      },
      "outputs": [
        {
          "name": "stdout",
          "output_type": "stream",
          "text": [
            "(6599, 11) (6599,) (4400, 11)\n",
            "model1 0.6478 0.6436 0.7281\n",
            "model2 1 1.0000 0.6261 0.6147\n",
            "model2 2 0.8060 0.6327 0.6623\n",
            "model2 3 0.8129 0.6388 0.6958\n",
            "model2 4 0.7670 0.6448 0.7090\n",
            "model2 5 0.7721 0.6376 0.7110\n",
            "model2 6 0.7515 0.6430 0.7129\n",
            "model2 7 0.7488 0.6436 0.7143\n",
            "model2 8 0.7343 0.6485 0.7180\n",
            "model2 9 0.7325 0.6412 0.7208\n",
            "model3 1.0000 0.6552 0.6411\n",
            "model3 3 0.6733 0.6782 0.7480\n",
            "model3 4 0.6884 0.6800 0.7508\n",
            "model3 5 0.6929 0.6921 0.7509\n",
            "model3 6 0.7040 0.6861 0.7469\n",
            "model3 7 0.7131 0.6709 0.7348\n",
            "model4 1.0000 0.6661 0.7407\n",
            "model4 3 0.6763 0.6764 0.7499\n",
            "model4 4 0.6921 0.6812 0.7482\n",
            "model4 5 0.7046 0.6794 0.7483\n",
            "model4 6 0.7179 0.6812 0.7466\n",
            "model4 7 0.7399 0.6776 0.7476\n",
            "model5 0.7129 0.6752 0.7403\n"
          ]
        }
      ],
      "source": [
        "# [18] df_MINI 사용 데이터 섞기, X, Y 분리하기\n",
        "# X, Y 분리하기\n",
        "X3_use, X3_submission, Y3 = get_data(df_MINI, Y)\n",
        "\n",
        "# train, test  7:3 분할, stratify 적용, random_state=0 적용\n",
        "xtrain3, xtest3, ytrain3, ytest3 = train_test_split(X3_use, Y3, \n",
        "                                                test_size = 0.25,\n",
        "                                                stratify=Y3, random_state=0)\n",
        "# 다양한 모델 만들어 보기\n",
        "# make_models 함수 호출 부분은 \n",
        "# 실제 시험에서 제출 전에 꼭 주석을 취해 주세요 ^_^  - 실행 시간 초과 금지\n",
        "make_models(xtrain3, xtest3, ytrain3, ytest3)"
      ]
    },
    {
      "cell_type": "code",
      "execution_count": null,
      "metadata": {
        "id": "9HCN1gNpJ99X"
      },
      "outputs": [],
      "source": [
        "# LabelEncoding, One-Hot Encoding, 변수의 선택의 경우 결과가 비슷함\n",
        "# train, test의 성능이 비슷하면서 roc_auc가 높은 것을 선택함"
      ]
    },
    {
      "cell_type": "code",
      "execution_count": null,
      "metadata": {
        "colab": {
          "base_uri": "https://localhost:8080/"
        },
        "id": "iSK4KNM8j8aQ",
        "outputId": "3c6c5d79-00c2-472f-e66d-71c82ee34ace"
      },
      "outputs": [
        {
          "name": "stdout",
          "output_type": "stream",
          "text": [
            "final model 0.6929 0.6921 0.7509\n"
          ]
        }
      ],
      "source": [
        "# [19] 최종적으로 사용할 모델을 선택하여 model로 다시 생성합니다.\n",
        "model = DecisionTreeClassifier(max_depth=5).fit(xtrain1, ytrain1)\n",
        "print('final model', get_scores(model, xtrain1, xtest1, ytrain1, ytest1))"
      ]
    },
    {
      "cell_type": "markdown",
      "metadata": {
        "id": "W_ZqmIWWZO9p"
      },
      "source": [
        "### 3-05.제출할 데이터 생성"
      ]
    },
    {
      "cell_type": "code",
      "execution_count": null,
      "metadata": {
        "id": "eX7XXEbianiY"
      },
      "outputs": [],
      "source": [
        "# [20] test 데이터에 대한 확률 구하기, 파일로 저장하기\n",
        "ypred = model.predict_proba(X1_submission)[:, 1]\n",
        "submission = pd.DataFrame({\n",
        "         \"ID\": X_submission[\"ID\"],\n",
        "         \"Reached.on.Time_Y.N\": ypred\n",
        "     })\n",
        "submission.to_csv('submission수험번호.csv', index=False)  ## 수험번호.csv"
      ]
    },
    {
      "cell_type": "code",
      "execution_count": null,
      "metadata": {
        "colab": {
          "base_uri": "https://localhost:8080/"
        },
        "id": "PuMURZHcasGf",
        "outputId": "d504db6d-d5dc-4e00-b38e-2d6e9f986e1f"
      },
      "outputs": [
        {
          "name": "stdout",
          "output_type": "stream",
          "text": [
            "      ID  Reached.on.Time_Y.N\n",
            "0   7007               0.2742\n",
            "1   9793               0.4884\n",
            "2   6593               0.4817\n",
            "3  10527               0.3657\n",
            "4   6914               0.4817\n"
          ]
        }
      ],
      "source": [
        "# [21] submission 확인\n",
        "print(submission.head(5))"
      ]
    },
    {
      "cell_type": "code",
      "execution_count": null,
      "metadata": {
        "colab": {
          "base_uri": "https://localhost:8080/"
        },
        "id": "C5b2c3ZMAhEx",
        "outputId": "af8aaeaf-724a-4615-e98a-0969968041dd"
      },
      "outputs": [
        {
          "data": {
            "text/plain": [
              "0.7458897384305835"
            ]
          },
          "execution_count": 25,
          "metadata": {},
          "output_type": "execute_result"
        }
      ],
      "source": [
        "# [22] 비슷할까요?! - 시험에서는 주지 않는 데이터\n",
        "ytest = pd.read_csv('y_test.csv')\n",
        "roc_auc_score(ytest['Reached.on.Time_Y.N'], ypred) "
      ]
    },
    {
      "cell_type": "markdown",
      "metadata": {
        "id": "RoG8YKY3NsQM"
      },
      "source": [
        "## 시험보러 가서는 이렇게!"
      ]
    },
    {
      "cell_type": "code",
      "source": [
        "# [0] x_train, x_test 데이터로 생성함\n",
        "# 문제 출제 형식에 맞도록 변환한 것입니다.  시험에서는 이런 코드가 없습니다.\n",
        "from sklearn.model_selection import train_test_split\n",
        "import pandas as pd\n",
        "dftot = pd.read_csv('https://raw.githubusercontent.com/Soyoung-Yoon/bigdata/main/1st_Train.csv')\n",
        "x_train, x_test = train_test_split(dftot, test_size=0.4, stratify=dftot['Reached.on.Time_Y.N'], random_state=0)\n",
        "y_train = x_train[['Reached.on.Time_Y.N']]\n",
        "x_train = x_train.drop(columns='Reached.on.Time_Y.N')\n",
        "y_test = x_test[['Reached.on.Time_Y.N']]   # 이것은 시험에서는 제공되지 않음\n",
        "x_test = x_test.drop(columns='Reached.on.Time_Y.N')\n",
        "\n",
        "x_train.to_csv('x_train.csv', index=False)\n",
        "y_train.to_csv('y_train.csv', index=False)\n",
        "x_test.to_csv('x_test.csv', index=False)\n",
        "y_test.to_csv('y_test.csv', index=False) # 이것은 시험에서는 제공되지 않음"
      ],
      "metadata": {
        "id": "1EyAW3G5w3HJ"
      },
      "execution_count": null,
      "outputs": []
    },
    {
      "cell_type": "code",
      "execution_count": null,
      "metadata": {
        "id": "mLMl_ngsNuaN"
      },
      "outputs": [],
      "source": [
        "# [0] 사용 라이브러리 import\n",
        "import pandas as pd\n",
        "from sklearn.preprocessing import MinMaxScaler\n",
        "from sklearn.model_selection import train_test_split\n",
        "from sklearn.linear_model import LogisticRegression\n",
        "from sklearn.neighbors import KNeighborsClassifier\n",
        "from sklearn.tree import DecisionTreeClassifier\n",
        "from sklearn.ensemble import RandomForestClassifier\n",
        "from xgboost import XGBClassifier\n",
        "from sklearn.metrics import roc_auc_score\n",
        "\n",
        "# 데이타가 많은경우 모두 출력 안되고 ... 으로 생략해서 출력됨.\n",
        "pd.set_option('display.max_rows',500)    #출력할 max row를 지정\n",
        "pd.set_option('display.max_columns',20)  #출력할 max columns를 지정\n",
        "#출력 format 지정 - 소수점아래 4자리까지\n",
        "pd.set_option('display.float_format', '{:.4f}'.format)\n",
        "\n",
        "# [1] x_train.csv, y_train.csv, x_test.csv 읽어오기\n",
        "X = pd.read_csv('x_train.csv')\n",
        "Y = pd.read_csv('y_train.csv')\n",
        "X_submission = pd.read_csv('x_test.csv')\n",
        "\n",
        "# [2] X, X_submission 합치기 (필수는 아님)\n",
        "dfX = pd.concat([X, X_submission])\n",
        "dfX.head(3)\n",
        "\n",
        "# [3] df의 정보 확인 \n",
        "dfX.info()\n",
        "\n",
        "# [4] 결측치 점검\n",
        "dfX.isna().sum()\n",
        "\n",
        "# [5] X,Y를 합쳐 dfXY를 만듦 \n",
        "dfXY = pd.concat([X, Y], axis=1)\n",
        "dfXY.shape\n",
        "\n",
        "# [6] dfX의 각 컬럼의 값 종류 개수 - 1인 것 제거하기 위해\n",
        "print(dfX.nunique())\n",
        "\n",
        "# [7] Object 타입에 대한 Label Encoding\n",
        "df_LE = dfX.copy()\n",
        "df_LE['Gender'] = dfX['Gender'].replace(['F', 'M'], [0, 1])\n",
        "df_LE['Product_importance'] = dfX['Product_importance'].replace(['low', 'medium', 'high'], \n",
        "                                                            [0, 1, 2])\n",
        "df_LE['Mode_of_Shipment'] = dfX['Mode_of_Shipment'].replace(['Ship', 'Road', 'Flight'],\n",
        "                                                        [0, 1, 2])\n",
        "df_LE['Warehouse_block'] = dfX['Warehouse_block'].replace(['A', 'B', 'C', 'D', 'F'],\n",
        "                                                        [0, 1, 2, 3, 4])\n",
        "df_LE.info()\n",
        "\n",
        "# [8] train score, test score, roc_auc_score 를 반환하는 함수 작성\n",
        "\n",
        "def get_scores(model, xtrain, xtest, ytrain, ytest):\n",
        "    A = model.score(xtrain, ytrain)\n",
        "    B = model.score(xtest, ytest)\n",
        "    ypred = model.predict_proba(xtest)[:, 1]\n",
        "    C = roc_auc_score(ytest, ypred)  \n",
        "    return '{:.4f} {:.4f} {:.4f}'.format(A, B, C)\n",
        "\n",
        "# [9] 다양한 모델을 만들고 성능을 출력하는 함수 작성\n",
        "def make_models(xtrain, xtest, ytrain, ytest):\n",
        "    model1 = LogisticRegression().fit(xtrain, ytrain)\n",
        "    print('model1', get_scores(model1, xtrain, xtest, ytrain, ytest))\n",
        "    for k in range(1, 10):\n",
        "        model2 = KNeighborsClassifier(k).fit(xtrain, ytrain)\n",
        "        print('model2', k, get_scores(model2, xtrain, xtest, ytrain, ytest))\n",
        "\n",
        "    # overfitting\n",
        "    model3 = DecisionTreeClassifier(random_state=0).fit(xtrain, ytrain)\n",
        "    print('model3', get_scores(model3, xtrain, xtest, ytrain, ytest))\n",
        "\n",
        "    # overfitting 해결\n",
        "    for d in range(3, 8):\n",
        "        model3 = DecisionTreeClassifier(max_depth=d,random_state=0).fit(xtrain, ytrain)\n",
        "        print('model3', d, get_scores(model3, xtrain, xtest, ytrain, ytest))\n",
        "\n",
        "    # overfitting\n",
        "    model4 = RandomForestClassifier(random_state=0).fit(xtrain, ytrain)\n",
        "    print('model4', get_scores(model4, xtrain, xtest, ytrain, ytest))\n",
        "\n",
        "    # overfitting 해결\n",
        "    for d in range(3, 8):\n",
        "        model4 = RandomForestClassifier(500, max_depth=d, random_state=0).fit(xtrain, ytrain)\n",
        "        print('model4', d, get_scores(model4, xtrain, xtest, ytrain, ytest))\n",
        "\n",
        "    model5 = XGBClassifier().fit(xtrain, ytrain)\n",
        "    print('model5', get_scores(model5, xtrain, xtest, ytrain, ytest))\n",
        "\n",
        "# [10] X를 train 용도, submission 용도로 나누고, Y를 1차원으로 바꿈 (MinMaxScaler 적용)\n",
        "def get_data(dfX, Y):\n",
        "    X = dfX.drop(columns=['ID'])\n",
        "    X_use = X.iloc[:6599, :]\n",
        "    X_submission = X.iloc[6599:, :]\n",
        "    Y1 = Y['Reached.on.Time_Y.N']\n",
        "    scaler = MinMaxScaler()\n",
        "    X1_use = scaler.fit_transform(X_use)\n",
        "    X1_submission = scaler.transform(X_submission)\n",
        "    print(X1_use.shape, Y1.shape, X1_submission.shape)\n",
        "    return X1_use, X1_submission, Y1    \n",
        "\n",
        "# [11] df_LE 사용 \n",
        "\n",
        "# X, Y 분리하기\n",
        "X1_use, X1_submission, Y1 = get_data(df_LE, Y)\n",
        "\n",
        "# train, test  7:3 분할, stratify 적용, random_state=0 적용\n",
        "xtrain1, xtest1, ytrain1, ytest1 = train_test_split(X1_use, Y1, \n",
        "                                                test_size = 0.25,\n",
        "                                                stratify=Y1, random_state=0)\n",
        "# 다양한 모델 만들어 보기  - 성능 확인 후 꼭 주석!\n",
        "#make_models(xtrain1, xtest1, ytrain1, ytest1)\n",
        "\n",
        "# [12] 최종적으로 사용할 모델을 선택하여 model로 다시 생성합니다.\n",
        "model = DecisionTreeClassifier(max_depth=5).fit(xtrain1, ytrain1)\n",
        "print('final model', get_scores(model, xtrain1, xtest1, ytrain1, ytest1))\n",
        "\n",
        "# [13] test 데이터에 대한 확률 구하기, 파일로 저장하기\n",
        "ypred = model.predict_proba(X1_submission)[:, 1]\n",
        "submission = pd.DataFrame({\n",
        "         \"ID\": X_submission[\"ID\"],\n",
        "         \"Reached.on.Time_Y.N\": ypred\n",
        "     })\n",
        "submission.to_csv('submission수험번호.csv', index=False)  ## 수험번호.csv\n",
        "\n",
        "# [14] submission 확인\n",
        "temp = pd.read_csv('submission수험번호.csv')\n",
        "print(submission.head(5))"
      ]
    },
    {
      "cell_type": "markdown",
      "source": [
        "## 사용자 정의 함수 없이 풀이하기"
      ],
      "metadata": {
        "id": "hvkce-gfucL9"
      }
    },
    {
      "cell_type": "code",
      "source": [
        "# [0] x_train, x_test 데이터로 생성함\n",
        "# 문제 출제 형식에 맞도록 변환한 것입니다.  시험에서는 이런 코드가 없습니다.\n",
        "from sklearn.model_selection import train_test_split\n",
        "import pandas as pd\n",
        "dftot = pd.read_csv('https://raw.githubusercontent.com/Soyoung-Yoon/bigdata/main/1st_Train.csv')\n",
        "x_train, x_test = train_test_split(dftot, test_size=0.4, stratify=dftot['Reached.on.Time_Y.N'], random_state=0)\n",
        "y_train = x_train[['Reached.on.Time_Y.N']]\n",
        "x_train = x_train.drop(columns='Reached.on.Time_Y.N')\n",
        "y_test = x_test[['Reached.on.Time_Y.N']]   # 이것은 시험에서는 제공되지 않음\n",
        "x_test = x_test.drop(columns='Reached.on.Time_Y.N')\n",
        "\n",
        "x_train.to_csv('x_train.csv', index=False)\n",
        "y_train.to_csv('y_train.csv', index=False)\n",
        "x_test.to_csv('x_test.csv', index=False)\n",
        "y_test.to_csv('y_test.csv', index=False) # 이것은 시험에서는 제공되지 않음"
      ],
      "metadata": {
        "id": "aG-tgn2bw8pj"
      },
      "execution_count": null,
      "outputs": []
    },
    {
      "cell_type": "code",
      "source": [
        "# [0] 사용 라이브러리 import\n",
        "import pandas as pd\n",
        "from sklearn.preprocessing import MinMaxScaler, LabelEncoder\n",
        "from sklearn.model_selection import train_test_split\n",
        "from sklearn.linear_model import LogisticRegression\n",
        "from sklearn.neighbors import KNeighborsClassifier\n",
        "from sklearn.tree import DecisionTreeClassifier\n",
        "from sklearn.ensemble import RandomForestClassifier\n",
        "from xgboost import XGBClassifier\n",
        "\n",
        "# 데이타가 많은경우 모두 출력 안되고 ... 으로 생략해서 출력됨.\n",
        "pd.set_option('display.max_rows',500)    #출력할 max row를 지정\n",
        "pd.set_option('display.max_columns',20)  #출력할 max columns를 지정\n",
        "#출력 format 지정 - 소수점아래 4자리까지\n",
        "pd.set_option('display.float_format', '{:.4f}'.format)\n",
        "\n",
        "# [1] x_train.csv, y_train.csv, x_test.csv 읽어오기\n",
        "X = pd.read_csv('x_train.csv')\n",
        "Y = pd.read_csv('y_train.csv')\n",
        "X_submission = pd.read_csv('x_test.csv')\n",
        "\n",
        "# [2] X, X_submission 합치기 (필수는 아님)\n",
        "dfX = pd.concat([X, X_submission])\n",
        "#print(dfX.head(3))\n",
        "\n",
        "# [3] df의 정보 확인 \n",
        "#dfX.info()\n",
        "\n",
        "# [4] 결측치 점검\n",
        "#dfX.isna().sum()\n",
        "\n",
        "# [5] X,Y를 합쳐 dfXY를 만듦 \n",
        "dfXY = pd.concat([X, Y], axis=1)\n",
        "#print(dfXY.shape)\n",
        "\n",
        "# [6] dfX의 각 컬럼의 값 종류 개수 - 1인 것 제거하기 위해\n",
        "#print(dfX.nunique())\n",
        "\n",
        "# [7] Object 타입에 대한 Label Encoding\n",
        "# Label Encoding 방법 1\n",
        "# df_LE = dfX.copy()\n",
        "# df_LE['Gender'] = dfX['Gender'].replace(['F', 'M'], [0, 1])\n",
        "# df_LE['Product_importance'] = dfX['Product_importance'].replace(['low', 'medium', 'high'], \n",
        "#                                                             [0, 1, 2])\n",
        "# df_LE['Mode_of_Shipment'] = dfX['Mode_of_Shipment'].replace(['Ship', 'Road', 'Flight'],\n",
        "#                                                         [0, 1, 2])\n",
        "# df_LE['Warehouse_block'] = dfX['Warehouse_block'].replace(['A', 'B', 'C', 'D', 'F'],\n",
        "#                                                         [0, 1, 2, 3, 4])\n",
        "# df_LE.info()\n",
        "\n",
        "# Label Encoding 방법 2\n",
        "df_LE = dfX.copy()\n",
        "le = LabelEncoder()\n",
        "for x in ['Gender', 'Product_importance', 'Mode_of_Shipment', 'Warehouse_block']:\n",
        "    df_LE[x] = le.fit_transform(df_LE[x])\n",
        "\n",
        "# [8] df_LE 사용 \n",
        "# df_LE 를 train 용도(X_use1), submission 용도(X_submission1)로 나누고, Y에서 target 변수만 Y1으로 저장\n",
        "X_temp = df_LE.drop(columns=['ID'])\n",
        "X_scaled = MinMaxScaler().fit_transform(X_temp)\n",
        "X1_use = df_LE.iloc[:X.shape[0], :]\n",
        "X1_submission = df_LE.iloc[X.shape[0]:, :]\n",
        "Y1 = Y['Reached.on.Time_Y.N']\n",
        "#print(X1_use.shape, Y1.shape, X1_submission.shape)\n",
        "\n",
        "# train, test  0.75:0.25 분할, stratify 적용, random_state=0 적용\n",
        "xtrain, xtest, ytrain, ytest = train_test_split(X1_use, Y1, \n",
        "                                                test_size = 0.25,\n",
        "                                                stratify=Y1, random_state=0)\n",
        "\n",
        "# [9] train score, test score, roc_auc_score 를 반환하는 함수 작성\n",
        "# 이 함수는 문제에서 원하는 평가지표가 무엇인지에 따라 만들어 주시면 됩니다.\n",
        "\n",
        "from sklearn.metrics import roc_auc_score\n",
        "def get_scores(model, xtrain, xtest, ytrain, ytest):\n",
        "    A = model.score(xtrain, ytrain)\n",
        "    B = model.score(xtest, ytest)\n",
        "    ypred = model.predict_proba(xtest)[:, 1]\n",
        "    C = roc_auc_score(ytest, ypred)  \n",
        "    return '{:.4f} {:.4f} {:.4f}'.format(A, B, C)\n",
        "\n",
        "# [10] 다양한 모델을 만들고 성능을 출력하는 함수 작성\n",
        "# 다양한 모델 만들어 보기  - 성능 확인 후 꼭 주석!\n",
        "\n",
        "# model1 = LogisticRegression().fit(xtrain, ytrain)\n",
        "# print('model1', get_scores(model1, xtrain, xtest, ytrain, ytest))\n",
        "# for k in range(1, 10):\n",
        "#     model2 = KNeighborsClassifier(k).fit(xtrain, ytrain)\n",
        "#     print('model2', k, get_scores(model2, xtrain, xtest, ytrain, ytest))\n",
        "\n",
        "# model3 = DecisionTreeClassifier(random_state=0).fit(xtrain, ytrain)\n",
        "# print('model3', get_scores(model3, xtrain, xtest, ytrain, ytest))\n",
        "\n",
        "#for d in range(3, 8):\n",
        "#    model3 = DecisionTreeClassifier(max_depth=d,random_state=0).fit(xtrain, ytrain)\n",
        "#    print('model3', d, get_scores(model3, xtrain, xtest, ytrain, ytest))\n",
        "\n",
        "#model4 = RandomForestClassifier(random_state=0).fit(xtrain, ytrain)\n",
        "#print('model4', get_scores(model4, xtrain, xtest, ytrain, ytest))\n",
        "\n",
        "#for d in range(3, 8):\n",
        "#    model4 = RandomForestClassifier(500, max_depth=d, random_state=0).fit(xtrain, ytrain)\n",
        "#    print('model4', d, get_scores(model4, xtrain, xtest, ytrain, ytest))\n",
        "\n",
        "#model5 = XGBClassifier().fit(xtrain, ytrain)\n",
        "#print('model5', get_scores(model5, xtrain, xtest, ytrain, ytest))\n",
        "\n",
        "# [11] 최종적으로 사용할 모델을 선택하여 model로 다시 생성합니다.\n",
        "model = DecisionTreeClassifier(max_depth=3,random_state=0).fit(xtrain, ytrain)\n",
        "print('final model', get_scores(model, xtrain, xtest, ytrain, ytest))\n",
        "\n",
        "# [12] test 데이터에 대한 확률 구하기, 파일로 저장하기\n",
        "ypred = model.predict_proba(X1_submission)[:, 1]\n",
        "submission = pd.DataFrame({\n",
        "         \"ID\": X_submission[\"ID\"],\n",
        "         \"Reached.on.Time_Y.N\": ypred\n",
        "     })\n",
        "submission.to_csv('submission수험번호.csv', index=False)  ## 수험번호.csv\n",
        "\n",
        "# [13] submission 확인\n",
        "temp = pd.read_csv('submission수험번호.csv')\n",
        "print(submission.head(5))"
      ],
      "metadata": {
        "id": "aTllxHvHubWp"
      },
      "execution_count": null,
      "outputs": []
    }
  ],
  "metadata": {
    "colab": {
      "collapsed_sections": [
        "fepF01fW_Mki",
        "uMhxcUyi_UJQ",
        "KMHZMoow_ekq",
        "UZgAmIsP_0SU",
        "PiwGuNDb_3iv",
        "9D8QN5a5AJgn"
      ],
      "provenance": [],
      "toc_visible": true,
      "include_colab_link": true
    },
    "kernelspec": {
      "display_name": "Python 3",
      "name": "python3"
    },
    "language_info": {
      "name": "python"
    }
  },
  "nbformat": 4,
  "nbformat_minor": 0
}